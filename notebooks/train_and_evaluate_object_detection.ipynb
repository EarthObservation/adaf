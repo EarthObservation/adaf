{
 "cells": [
  {
   "cell_type": "markdown",
   "metadata": {},
   "source": [
    "## Example of the `aitlas` toolbox in the context of image segmentation\n"
   ]
  },
  {
   "cell_type": "markdown",
   "metadata": {},
   "source": [
    "### Importing required packages"
   ]
  },
  {
   "cell_type": "code",
   "execution_count": 1,
   "metadata": {},
   "outputs": [
    {
     "ename": "ImportError",
     "evalue": "cannot import name 'TiiLIDARDatasetObjectDetection' from 'aitlas.datasets' (C:\\Users\\ncoz\\AppData\\Local\\miniconda3\\envs\\adaf2\\lib\\site-packages\\aitlas\\datasets\\__init__.py)",
     "output_type": "error",
     "traceback": [
      "\u001b[1;31m---------------------------------------------------------------------------\u001b[0m",
      "\u001b[1;31mImportError\u001b[0m                               Traceback (most recent call last)",
      "Cell \u001b[1;32mIn[1], line 3\u001b[0m\n\u001b[0;32m      1\u001b[0m \u001b[38;5;28;01mimport\u001b[39;00m \u001b[38;5;21;01mwarnings\u001b[39;00m\n\u001b[0;32m      2\u001b[0m warnings\u001b[38;5;241m.\u001b[39mfilterwarnings(\u001b[38;5;124m\"\u001b[39m\u001b[38;5;124mignore\u001b[39m\u001b[38;5;124m\"\u001b[39m, category\u001b[38;5;241m=\u001b[39m\u001b[38;5;167;01mUserWarning\u001b[39;00m)\n\u001b[1;32m----> 3\u001b[0m \u001b[38;5;28;01mfrom\u001b[39;00m \u001b[38;5;21;01maitlas\u001b[39;00m\u001b[38;5;21;01m.\u001b[39;00m\u001b[38;5;21;01mdatasets\u001b[39;00m \u001b[38;5;28;01mimport\u001b[39;00m TiiLIDARDatasetObjectDetection\n\u001b[0;32m      4\u001b[0m \u001b[38;5;28;01mfrom\u001b[39;00m \u001b[38;5;21;01maitlas\u001b[39;00m\u001b[38;5;21;01m.\u001b[39;00m\u001b[38;5;21;01mmodels\u001b[39;00m \u001b[38;5;28;01mimport\u001b[39;00m FasterRCNN\n\u001b[0;32m      5\u001b[0m model_config \u001b[38;5;241m=\u001b[39m TiiLIDARDatasetObjectDetection\u001b[38;5;241m.\u001b[39mget_fixed_model_config()\n",
      "\u001b[1;31mImportError\u001b[0m: cannot import name 'TiiLIDARDatasetObjectDetection' from 'aitlas.datasets' (C:\\Users\\ncoz\\AppData\\Local\\miniconda3\\envs\\adaf2\\lib\\site-packages\\aitlas\\datasets\\__init__.py)"
     ]
    }
   ],
   "source": [
    "import warnings\n",
    "warnings.filterwarnings(\"ignore\", category=UserWarning)\n",
    "from aitlas.datasets import TiiLIDARDatasetObjectDetection\n",
    "from aitlas.models import FasterRCNN\n",
    "model_config = TiiLIDARDatasetObjectDetection.get_fixed_model_config()"
   ]
  },
  {
   "cell_type": "markdown",
   "metadata": {},
   "source": [
    "### Loading train, validation and test data"
   ]
  },
  {
   "cell_type": "markdown",
   "metadata": {},
   "source": [
    "Input parameters for train, validation and test data:\n",
    "\n",
    "- **batch_size**: The number of samples processed before the model is updated. A larger batch size can speed up processing but requires more memory.\n",
    "- **num_workers**: The number of worker processes that will be used for processing data. Increasing the number of workers can significantly speed up data processing, however, it also increases memory and CPU/GPU usage.\n",
    "- **object_class**: A parameter that specifies the type of archaeological object you are interested in processing, e.g., 'AO', 'barrow', 'enclosure', 'ringfort'.\n",
    "- **vizuelization_type**: The vizuelization type used for the patches, e.g., 'SLRM'.\n",
    "- **DFM_quality**: List of annotation qualities to be included in the processed data, e.g., '1,2'.\n",
    "- **shuffle**: Determines whether the data should be shuffled before being processed. \n",
    "- **data_dir**: The directory path where the input data is stored. \n",
    "- **annotations_dir**: The directory path where the labels (i.e., bounding boxes) are stored. \n",
    "- **transforms**: A list of transformations applied to the input data during processing.\n",
    "- **target_transforms**: A list of transformations applied to the segmentation masks during processing.\n",
    "- **joint_transforms**: Transformations applied simultaneously to both the input data and segmentation masks."
   ]
  },
  {
   "cell_type": "code",
   "execution_count": null,
   "metadata": {},
   "outputs": [],
   "source": [
    "batch_size = 16\n",
    "num_workers = 4\n",
    "object_class = \"ringfort\"\n",
    "vizuelization_type = \"SLRM\""
   ]
  },
  {
   "cell_type": "code",
   "execution_count": null,
   "metadata": {},
   "outputs": [],
   "source": [
    "train_dataset_config = {\n",
    "    \"batch_size\": batch_size,\n",
    "    \"num_workers\": num_workers,\n",
    "    \"object_class\": object_class,\n",
    "    \"DFM_quality\": \"1,2\",\n",
    "    \"vizuelization_type\": vizuelization_type,\n",
    "    \"shuffle\": True,\n",
    "    \"data_dir\": \"/Users/anakostovska/Dropbox/aitlas_v1/retrain_model/demo_data/samples/train\",\n",
    "    \"annotations_dir\": \"/Users/anakostovska/Dropbox/aitlas_v1/retrain_model/demo_data/labels/object_detection_bbox/train\",\n",
    "    \"joint_transforms\": [\"aitlas.transforms.TransformFlipHVToTensorV2\"]\n",
    "}\n",
    "train_dataset = TiiLIDARDatasetObjectDetection(train_dataset_config)\n",
    "\n",
    "validation_dataset_config = {\n",
    "    \"batch_size\": batch_size,\n",
    "    \"num_workers\": num_workers,\n",
    "    \"object_class\": object_class,\n",
    "    \"DFM_quality\": \"1,2\",\n",
    "    \"vizuelization_type\": vizuelization_type,\n",
    "    \"shuffle\": False,\n",
    "    \"data_dir\": \"/Users/anakostovska/Dropbox/aitlas_v1/retrain_model/demo_data/samples/validation\",\n",
    "    \"annotations_dir\": \"/Users/anakostovska/Dropbox/aitlas_v1/retrain_model/demo_data/labels/object_detection_bbox/validation\",\n",
    "    \"joint_transforms\": [\"aitlas.transforms.TransformToTensorV2\"],\n",
    "}\n",
    "validation_dataset = TiiLIDARDatasetObjectDetection(validation_dataset_config)\n",
    "\n",
    "test_dataset_config = {\n",
    "    \"batch_size\": batch_size,\n",
    "    \"num_workers\": num_workers,\n",
    "    \"object_class\": object_class,\n",
    "    \"DFM_quality\": \"1,2\",\n",
    "    \"vizuelization_type\": vizuelization_type,\n",
    "    \"shuffle\": False,\n",
    "    \"data_dir\": \"/Users/anakostovska/Dropbox/aitlas_v1/retrain_model/demo_data/samples/test\",\n",
    "    \"annotations_dir\": \"/Users/anakostovska/Dropbox/aitlas_v1/retrain_model/demo_data/labels/object_detection_bbox/test\",\n",
    "    \"joint_transforms\": [\"aitlas.transforms.TransformToTensorV2\"],\n",
    "}\n",
    "test_dataset = TiiLIDARDatasetObjectDetection(test_dataset_config)\n",
    "\n",
    "\n",
    "len(train_dataset), len(validation_dataset), len(test_dataset)"
   ]
  },
  {
   "cell_type": "markdown",
   "metadata": {},
   "source": [
    "### Model creation"
   ]
  },
  {
   "cell_type": "code",
   "execution_count": null,
   "metadata": {},
   "outputs": [],
   "source": [
    "model = FasterRCNN(model_config)\n",
    "model.prepare()"
   ]
  },
  {
   "cell_type": "markdown",
   "metadata": {},
   "source": [
    "### Loading pretrained ADAF model (optional)"
   ]
  },
  {
   "cell_type": "markdown",
   "metadata": {},
   "source": [
    "If you don't want to use an existing model, you can skip this step. If you do want to use one, set the model path, uncomment the lines, and run the cell to load the model into memory."
   ]
  },
  {
   "cell_type": "code",
   "execution_count": null,
   "metadata": {},
   "outputs": [],
   "source": [
    "model_path = \"/Users/anakostovska/Dropbox/aitlas_v1/inference/data/models/object_detection/OD_ringfort.tar\"\n",
    "model.load_model(model_path)"
   ]
  },
  {
   "cell_type": "markdown",
   "metadata": {},
   "source": [
    "### Training the model"
   ]
  },
  {
   "cell_type": "markdown",
   "metadata": {},
   "source": [
    "Input parameters: \n",
    "- **epochs**: The total number of training cycles the model will undergo. Each epoch represents one complete pass of the training dataset through the model.\n",
    "- **model_directory**: Path to the directory where the trained model and its checkpoints will be saved. This is used for storing the model during and after training.\n",
    "- **run_id**: Name of the subdirectory within the model_directory to store results from different runs"
   ]
  },
  {
   "cell_type": "code",
   "execution_count": null,
   "metadata": {},
   "outputs": [],
   "source": [
    "epochs = 20\n",
    "model_directory = \"./models/object_detection/\"\n",
    "run_id = 'ringfort_1_2'"
   ]
  },
  {
   "cell_type": "code",
   "execution_count": null,
   "metadata": {},
   "outputs": [],
   "source": [
    "model.train_and_evaluate_model(\n",
    "    train_dataset=train_dataset,\n",
    "    val_dataset=validation_dataset,\n",
    "    epochs=epochs,\n",
    "    model_directory=model_directory,\n",
    "    run_id=run_id\n",
    ");"
   ]
  },
  {
   "cell_type": "markdown",
   "metadata": {},
   "source": [
    "### Model evaluation"
   ]
  },
  {
   "cell_type": "code",
   "execution_count": null,
   "metadata": {},
   "outputs": [],
   "source": [
    "model = FasterRCNN(model_config)\n",
    "model.prepare()\n",
    "model.running_metrics.reset()\n",
    "model_path = \"/Users/anakostovska/Dropbox/aitlas_v1/retrain_model/models/object_detection/ringfort_1_2/best_checkpoint_1710347562_1.pth.tar\" # update the path!\n",
    "model.evaluate(dataset=test_dataset, model_path=model_path)\n",
    "model.running_metrics.get_scores(model.metrics)"
   ]
  }
 ],
 "metadata": {
  "kernelspec": {
   "display_name": "adaf2",
   "language": "python",
   "name": "adaf2"
  },
  "language_info": {
   "codemirror_mode": {
    "name": "ipython",
    "version": 3
   },
   "file_extension": ".py",
   "mimetype": "text/x-python",
   "name": "python",
   "nbconvert_exporter": "python",
   "pygments_lexer": "ipython3",
   "version": "3.8.18"
  }
 },
 "nbformat": 4,
 "nbformat_minor": 4
}
