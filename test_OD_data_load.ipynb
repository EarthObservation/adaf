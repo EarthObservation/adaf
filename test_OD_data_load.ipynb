{
 "cells": [
  {
   "cell_type": "code",
   "execution_count": null,
   "metadata": {},
   "outputs": [],
   "source": [
    "import warnings\n",
    "warnings.filterwarnings(\"ignore\", category=UserWarning) \n",
    "warnings.filterwarnings(\"ignore\", category=DeprecationWarning) \n",
    "\n",
    "from aitlas.datasets import ObjectDetectionCocoDataset \n",
    "\n",
    "train_dataset_config = {\n",
    "    \"data_dir\": \"/home/dragik/IrishArchaeology/samples_256px/train/segmentation/seg_SLRM/output/\",\n",
    "    \"json_file\": \"/home/dragik/IrishArchaeology/ann_png/annotations-full-barrow-ringfort-enclosure-12/samples_256px_SLRM_train.json\",\n",
    "    \"hardcode_background\": False\n",
    "}\n",
    "\n",
    "train_dataset = ObjectDetectionCocoDataset(train_dataset_config)\n",
    "print(f\"Total number of patches: {len(train_dataset)}\")\n",
    "print(f\"Labels: {train_dataset.labels}\")\n",
    "\n",
    "img = train_dataset.__getitem__(1)\n",
    "print(img)\n",
    "\n",
    "\n"
   ]
  }
 ],
 "metadata": {
  "kernelspec": {
   "display_name": "aitlas_v1",
   "language": "python",
   "name": "python3"
  },
  "language_info": {
   "codemirror_mode": {
    "name": "ipython",
    "version": 3
   },
   "file_extension": ".py",
   "mimetype": "text/x-python",
   "name": "python",
   "nbconvert_exporter": "python",
   "pygments_lexer": "ipython3",
   "version": "3.8.16"
  },
  "orig_nbformat": 4
 },
 "nbformat": 4,
 "nbformat_minor": 2
}
