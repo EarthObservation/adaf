{
 "cells": [
  {
   "cell_type": "code",
   "execution_count": 1,
   "id": "5e6ec654-c39f-4db6-9c1d-dc4c4cae684a",
   "metadata": {},
   "outputs": [],
   "source": [
    "import aitlas"
   ]
  },
  {
   "cell_type": "code",
   "execution_count": 2,
   "id": "fd7f7692-e274-43e8-b7b5-2759db5a5370",
   "metadata": {},
   "outputs": [],
   "source": [
    "import rasterio\n",
    "import geopandas\n",
    "import fiona"
   ]
  },
  {
   "cell_type": "code",
   "execution_count": 3,
   "id": "dad952a3-26d5-4d21-b7a3-89acab716846",
   "metadata": {},
   "outputs": [
    {
     "name": "stdout",
     "output_type": "stream",
     "text": [
      "Name: rasterio\n",
      "Version: 1.3.9\n",
      "Summary: Fast and direct raster I/O for use with Numpy and SciPy\n",
      "Home-page: https://github.com/rasterio/rasterio\n",
      "Author: Sean Gillies\n",
      "Author-email: sean@mapbox.com\n",
      "License: BSD\n",
      "Location: c:\\users\\ncoz\\appdata\\local\\miniconda3\\envs\\novi\\lib\\site-packages\n",
      "Requires: affine, attrs, certifi, click, click-plugins, cligj, numpy, setuptools, snuggs\n",
      "Required-by: eo-learn\n"
     ]
    }
   ],
   "source": [
    "!pip show rasterio\n"
   ]
  },
  {
   "cell_type": "code",
   "execution_count": null,
   "id": "90c41850-c83c-438c-b52c-3ec169832e1f",
   "metadata": {},
   "outputs": [],
   "source": []
  },
  {
   "cell_type": "code",
   "execution_count": 2,
   "id": "dac53bb1-3559-4344-8d86-1ff3c7d20c96",
   "metadata": {},
   "outputs": [
    {
     "data": {
      "text/plain": [
       "['',\n",
       " '.\\\\_wheels\\\\GDAL-3.4.3-cp38-cp38-win_amd64.whl',\n",
       " 'albumentations>=1.0.3',\n",
       " 'arff>=0.9',\n",
       " 'click>=7.1.3',\n",
       " 'dill>=0.3.4',\n",
       " 'eo-learn-core>=0.10.0',\n",
       " 'eo-learn-geometry>=0.10.0',\n",
       " 'faiss-cpu>=1.7.1',\n",
       " 'geopandas',\n",
       " 'h5py<3.2.1',\n",
       " 'imagecodecs',\n",
       " 'ipykernel',\n",
       " 'ipywidgets',\n",
       " 'jupyterlab',\n",
       " 'lmdb>=1.2.1',\n",
       " 'marshmallow>=3.13.1',\n",
       " 'matplotlib>=3.4.1',\n",
       " 'munch>=2.5.0',\n",
       " 'numpy>=1.21.1',\n",
       " 'opencv-python>=4.5.3',\n",
       " 'pandas>=1.3.2',\n",
       " 'pytorch-ignite>=0.4.6',\n",
       " 'rasterio',\n",
       " 'scikit-image>=0.18.1',\n",
       " 'scikit-learn>=0.24.1',\n",
       " 'scikit-multilearn>=0.2.0',\n",
       " 'seaborn>=0.11.1',\n",
       " 'segmentation-models-pytorch>=0.2.0',\n",
       " 'tensorboard>=2.6.0',\n",
       " 'tifffile>=2021.8.8',\n",
       " 'timm>=0.4.12',\n",
       " 'torch>=1.10.0',\n",
       " 'torchmetrics>=0.10.2',\n",
       " 'torchvision>=0.11.1',\n",
       " 'tqdm>=4.56.0',\n",
       " 'ttach',\n",
       " 'zipp>=3.1.1']"
      ]
     },
     "execution_count": 2,
     "metadata": {},
     "output_type": "execute_result"
    }
   ],
   "source": [
    "sorted(\n",
    "    set(\n",
    "        line.partition('#')[0].strip()\n",
    "        for line\n",
    "        in open(r\"requirements.txt\")\n",
    "    ) - set('')\n",
    ")"
   ]
  },
  {
   "cell_type": "code",
   "execution_count": 4,
   "id": "ed971e73-76df-48dd-a129-be15bc4a7d37",
   "metadata": {},
   "outputs": [
    {
     "data": {
      "text/plain": [
       "['albumentations>=1.0.3',\n",
       " 'arff>=0.9',\n",
       " 'click>=7.1.3',\n",
       " 'dill>=0.3.4',\n",
       " 'eo-learn-core>=0.10.0',\n",
       " 'eo-learn-geometry>=0.10.0',\n",
       " 'faiss-cpu>=1.7.1',\n",
       " 'geopandas',\n",
       " 'h5py<3.2.1',\n",
       " 'imagecodecs',\n",
       " 'ipykernel',\n",
       " 'ipywidgets',\n",
       " 'jupyterlab',\n",
       " 'lmdb>=1.2.1',\n",
       " 'marshmallow>=3.13.1',\n",
       " 'matplotlib>=3.4.1',\n",
       " 'munch>=2.5.0',\n",
       " 'numpy>=1.21.1',\n",
       " 'opencv-python>=4.5.3',\n",
       " 'pandas>=1.3.2',\n",
       " 'pytorch-ignite>=0.4.6',\n",
       " 'rasterio',\n",
       " 'scikit-image>=0.18.1',\n",
       " 'scikit-learn>=0.24.1',\n",
       " 'scikit-multilearn>=0.2.0',\n",
       " 'seaborn>=0.11.1',\n",
       " 'segmentation-models-pytorch>=0.2.0',\n",
       " 'tensorboard>=2.6.0',\n",
       " 'tifffile>=2021.8.8',\n",
       " 'timm>=0.4.12',\n",
       " 'torch>=1.10.0',\n",
       " 'torchmetrics>=0.10.2',\n",
       " 'torchvision>=0.11.1',\n",
       " 'tqdm>=4.56.0',\n",
       " 'ttach',\n",
       " 'zipp>=3.1.1']"
      ]
     },
     "execution_count": 4,
     "metadata": {},
     "output_type": "execute_result"
    }
   ],
   "source": [
    "sorted(\n",
    "    set(\n",
    "        line.partition('#')[0].strip()\n",
    "        for line\n",
    "        in open(r\"requirements.txt\")\n",
    "    ) - set('')\n",
    ")[2:]"
   ]
  },
  {
   "cell_type": "code",
   "execution_count": 23,
   "id": "054cb87c-a3ee-43e6-971f-ce11d54532a5",
   "metadata": {},
   "outputs": [
    {
     "data": {
      "text/plain": [
       "['',\n",
       " 'albumentations>=1.0.3',\n",
       " 'arff>=0.9',\n",
       " 'click>=7.1.3',\n",
       " 'dill>=0.3.4',\n",
       " 'eo-learn-core>=0.10.0',\n",
       " 'eo-learn-geometry>=0.10.0',\n",
       " 'faiss-cpu>=1.7.1',\n",
       " 'geopandas',\n",
       " 'h5py<3.2.1',\n",
       " 'imagecodecs',\n",
       " 'ipykernel',\n",
       " 'ipywidgets',\n",
       " 'jupyterlab',\n",
       " 'lmdb>=1.2.1',\n",
       " 'marshmallow>=3.13.1',\n",
       " 'matplotlib>=3.4.1',\n",
       " 'munch>=2.5.0',\n",
       " 'numpy>=1.21.1',\n",
       " 'opencv-python>=4.5.3',\n",
       " 'pandas>=1.3.2',\n",
       " 'pytorch-ignite>=0.4.6',\n",
       " 'rasterio',\n",
       " 'scikit-image>=0.18.1',\n",
       " 'scikit-learn>=0.24.1',\n",
       " 'scikit-multilearn>=0.2.0',\n",
       " 'seaborn>=0.11.1',\n",
       " 'segmentation-models-pytorch>=0.2.0',\n",
       " 'tensorboard>=2.6.0',\n",
       " 'tifffile>=2021.8.8',\n",
       " 'timm>=0.4.12',\n",
       " 'torch>=1.10.0',\n",
       " 'torchmetrics>=0.10.2',\n",
       " 'torchvision>=0.11.1',\n",
       " 'tqdm>=4.56.0',\n",
       " 'ttach',\n",
       " 'zipp>=3.1.1']"
      ]
     },
     "execution_count": 23,
     "metadata": {},
     "output_type": "execute_result"
    }
   ],
   "source": [
    "a = sorted(\n",
    "    set(\n",
    "        line.partition('#')[0].strip()\n",
    "        for line\n",
    "        in open(r\"requirements.txt\")\n",
    "        if not line.startswith(\".\")\n",
    "    ) - set('')\n",
    ")\n",
    "\n",
    "a"
   ]
  },
  {
   "cell_type": "code",
   "execution_count": 22,
   "id": "4499a636-0b10-4cf7-bef6-302992b4dcf4",
   "metadata": {},
   "outputs": [
    {
     "ename": "TypeError",
     "evalue": "set expected at most 1 argument, got 2",
     "output_type": "error",
     "traceback": [
      "\u001b[1;31m---------------------------------------------------------------------------\u001b[0m",
      "\u001b[1;31mTypeError\u001b[0m                                 Traceback (most recent call last)",
      "Cell \u001b[1;32mIn[22], line 1\u001b[0m\n\u001b[1;32m----> 1\u001b[0m \u001b[38;5;28;43mset\u001b[39;49m\u001b[43m(\u001b[49m\u001b[38;5;124;43m\"\u001b[39;49m\u001b[38;5;124;43ma\u001b[39;49m\u001b[38;5;124;43m\"\u001b[39;49m\u001b[43m,\u001b[49m\u001b[43m \u001b[49m\u001b[38;5;124;43m\"\u001b[39;49m\u001b[38;5;124;43mb\u001b[39;49m\u001b[38;5;124;43m\"\u001b[39;49m\u001b[43m)\u001b[49m \u001b[38;5;241m-\u001b[39m \u001b[38;5;28mset\u001b[39m(\u001b[38;5;124m\"\u001b[39m\u001b[38;5;124ma\u001b[39m\u001b[38;5;124m\"\u001b[39m)\n",
      "\u001b[1;31mTypeError\u001b[0m: set expected at most 1 argument, got 2"
     ]
    }
   ],
   "source": [
    "set(\"a\", \"b\") - set(\"a\")"
   ]
  }
 ],
 "metadata": {
  "kernelspec": {
   "display_name": "adaf",
   "language": "python",
   "name": "adaf"
  },
  "language_info": {
   "codemirror_mode": {
    "name": "ipython",
    "version": 3
   },
   "file_extension": ".py",
   "mimetype": "text/x-python",
   "name": "python",
   "nbconvert_exporter": "python",
   "pygments_lexer": "ipython3",
   "version": "3.8.18"
  }
 },
 "nbformat": 4,
 "nbformat_minor": 5
}
