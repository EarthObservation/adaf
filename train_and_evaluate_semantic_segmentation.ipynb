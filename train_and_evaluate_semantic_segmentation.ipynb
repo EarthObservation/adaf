{
 "cells": [
  {
   "cell_type": "markdown",
   "metadata": {},
   "source": [
    "## Example of the `aitlas` toolbox in the context of image segmentation\n",
    "---\n",
    "```\n",
    "Author: Ana Kostovska\n",
    "Organisation: Bias Variance Labs\n",
    "Website: https://www.bvlabs.ai/\n",
    "Ljubljana, 2024\n",
    "```\n",
    "---"
   ]
  },
  {
   "cell_type": "markdown",
   "metadata": {},
   "source": [
    "### Importing required packages"
   ]
  },
  {
   "cell_type": "code",
   "execution_count": null,
   "metadata": {},
   "outputs": [],
   "source": [
    "import warnings\n",
    "warnings.filterwarnings(\"ignore\", category=UserWarning)\n",
    "from aitlas.datasets import TiiLIDARDatasetSegmentation\n",
    "from aitlas.models import HRNet\n",
    "model_config = TiiLIDARDatasetSegmentation.get_fixed_model_config()"
   ]
  },
  {
   "cell_type": "markdown",
   "metadata": {},
   "source": [
    "### Loading train, validation and test data"
   ]
  },
  {
   "cell_type": "markdown",
   "metadata": {},
   "source": [
    "Input parameters for train, validation and test data:\n",
    "\n",
    "- **batch_size**: The number of samples processed before the model is updated. A larger batch size can speed up processing but requires more memory.\n",
    "- **num_workers**: The number of worker processes that will be used for processing data. Increasing the number of workers can significantly speed up data processing, however, it also increases memory and CPU/GPU usage.\n",
    "- **object_class**: A parameter that specifies the type of archaeological object you are interested in processing, e.g., 'AO', 'barrow', 'enclosure', 'ringfort'.\n",
    "- **object_class_band_id**: An integer parameter identifying the band where the annotations for a specific object class are located within the segmentation masks.\n",
    "- **visualisation_type**: The vizuelization type used for the patches, e.g., 'SLRM'.\n",
    "- **DFM_quality**: List of annotation qualities to be included in the processed data, e.g., '1,2'.\n",
    "- **keep_empty_patches**: A boolean parameter that controls if empty patches are kept. Set to False when training since \"empty\" data can't be used for training. For testing or validation, True can be used to check how the model handles empty patches.\n",
    "- **shuffle**: Determines whether the data should be shuffled before being processed. \n",
    "- **data_dir**: The directory path where the input data is stored. \n",
    "- **annotations_dir**: The directory path where the segmentation masks are stored. \n",
    "- **transforms**: A list of transformations applied to the input data during processing.\n",
    "- **target_transforms**: A list of transformations applied to the segmentation masks during processing.\n",
    "- **joint_transforms**: Transformations applied simultaneously to both the input data and segmentation masks."
   ]
  },
  {
   "cell_type": "code",
   "execution_count": null,
   "metadata": {},
   "outputs": [],
   "source": [
    "batch_size = 16\n",
    "num_workers = 4\n",
    "object_class = \"ringfort\"\n",
    "object_class_band_id = 2\n",
    "visualisation_type = \"SLRM\""
   ]
  },
  {
   "cell_type": "code",
   "execution_count": null,
   "metadata": {},
   "outputs": [],
   "source": [
    "train_dataset_config = {\n",
    "    \"batch_size\": batch_size,\n",
    "    \"num_workers\": num_workers,\n",
    "    \"object_class\": object_class,\n",
    "    \"object_class_band_id\": object_class_band_id,\n",
    "    \"visualisation_type\": visualisation_type,\n",
    "    \"DFM_quality\": '1,2',\n",
    "    \"shuffle\": True,\n",
    "    \"keep_empty_patches\": False,\n",
    "    \"data_dir\": \"/Users/anakostovska/Dropbox/aitlas_v1/retrain_model/demo_data/samples/train\",\n",
    "    \"annotations_dir\": \"/Users/anakostovska/Dropbox/aitlas_v1/retrain_model/demo_data/labels/segmentation_masks/train\",\n",
    "    \"joint_transforms\": [\"aitlas.transforms.FlipHVRandomRotate\"],\n",
    "    \"transforms\": [\"aitlas.transforms.Transpose\"],\n",
    "\t\"target_transforms\": [\"aitlas.transforms.Transpose\"]\n",
    "}\n",
    "train_dataset = TiiLIDARDatasetSegmentation(train_dataset_config)\n",
    "\n",
    "validation_dataset_config = {\n",
    "    \"batch_size\": batch_size,\n",
    "    \"num_workers\": num_workers,\n",
    "    \"object_class\": object_class,\n",
    "    \"object_class_band_id\": object_class_band_id,\n",
    "    \"visualisation_type\": visualisation_type,\n",
    "    \"DFM_quality\": '1,2',\n",
    "    \"shuffle\": False,\n",
    "    \"keep_empty_patches\": False,\n",
    "    \"data_dir\": \"/Users/anakostovska/Dropbox/aitlas_v1/retrain_model/demo_data/samples/validation\",\n",
    "    \"annotations_dir\": \"/Users/anakostovska/Dropbox/aitlas_v1/retrain_model/demo_data/labels/segmentation_masks/validation\",\n",
    "    \"transforms\": [\"aitlas.transforms.Transpose\"],\n",
    "    \"target_transforms\": [\"aitlas.transforms.Transpose\"]\n",
    "}\n",
    "validation_dataset = TiiLIDARDatasetSegmentation(validation_dataset_config)\n",
    "\n",
    "test_dataset_config = {\n",
    "    \"batch_size\": batch_size,\n",
    "    \"num_workers\": num_workers,\n",
    "    \"object_class\": object_class,\n",
    "    \"object_class_band_id\": object_class_band_id,\n",
    "    \"visualisation_type\": visualisation_type,\n",
    "    \"DFM_quality\": '1,2',\n",
    "    \"shuffle\": False,\n",
    "    \"keep_empty_patches\": False,\n",
    "    \"data_dir\": \"/Users/anakostovska/Dropbox/aitlas_v1/retrain_model/demo_data/samples/test\",\n",
    "    \"annotations_dir\": \"/Users/anakostovska/Dropbox/aitlas_v1/retrain_model/demo_data/labels/segmentation_masks/test\",\n",
    "    \"transforms\": [\"aitlas.transforms.Transpose\"],\n",
    "\t\"target_transforms\": [\"aitlas.transforms.Transpose\"]\n",
    "}\n",
    "test_dataset = TiiLIDARDatasetSegmentation(test_dataset_config)\n",
    "\n",
    "len(train_dataset), len(validation_dataset), len(test_dataset)"
   ]
  },
  {
   "cell_type": "markdown",
   "metadata": {},
   "source": [
    "### Model creation"
   ]
  },
  {
   "cell_type": "code",
   "execution_count": null,
   "metadata": {},
   "outputs": [],
   "source": [
    "model = HRNet(model_config)\n",
    "model.prepare()"
   ]
  },
  {
   "cell_type": "markdown",
   "metadata": {},
   "source": [
    "### Loading pretrained ADAF model (optional)"
   ]
  },
  {
   "cell_type": "markdown",
   "metadata": {},
   "source": [
    "If you don't want to use an existing model, you can skip this step. If you do want to use one, set the model path, uncomment the lines, and run the cell to load the model into memory."
   ]
  },
  {
   "cell_type": "code",
   "execution_count": null,
   "metadata": {},
   "outputs": [],
   "source": [
    "model_path = \"/Users/anakostovska/Dropbox/aitlas_v1/inference/data/models/semantic_segmentation/ringfort_HRNet_SLRM_512px_pretrained_train_12_val_124_with_Transformation.tar\" \n",
    "model.load_model(model_path)"
   ]
  },
  {
   "cell_type": "markdown",
   "metadata": {},
   "source": [
    "### Training the model"
   ]
  },
  {
   "cell_type": "markdown",
   "metadata": {},
   "source": [
    "Input parameters: \n",
    "- **epochs**: The total number of training cycles the model will undergo. Each epoch represents one complete pass of the training dataset through the model.\n",
    "- **model_directory**: Path to the directory where the trained model and its checkpoints will be saved. This is used for storing the model during and after training.\n",
    "- **run_id**: Name of the subdirectory within the model_directory to store results from different runs"
   ]
  },
  {
   "cell_type": "code",
   "execution_count": null,
   "metadata": {},
   "outputs": [],
   "source": [
    "epochs = 20\n",
    "model_directory = \"./models/semantic_segmentation/\"\n",
    "run_id = 'ringfort_1_2'"
   ]
  },
  {
   "cell_type": "code",
   "execution_count": null,
   "metadata": {},
   "outputs": [],
   "source": [
    "model.train_and_evaluate_model(\n",
    "    train_dataset=train_dataset,\n",
    "    val_dataset=validation_dataset,\n",
    "    epochs=epochs,\n",
    "    model_directory=model_directory,\n",
    "    run_id=run_id\n",
    ");"
   ]
  },
  {
   "cell_type": "markdown",
   "metadata": {},
   "source": [
    "### Model evaluation"
   ]
  },
  {
   "cell_type": "code",
   "execution_count": null,
   "metadata": {},
   "outputs": [],
   "source": [
    "model = HRNet(model_config)\n",
    "model.prepare()\n",
    "model.running_metrics.reset()\n",
    "model_path = \"/Users/anakostovska/Dropbox/aitlas_v1/retrain_model/models/semantic_segmentation/ringfort_1_2/best_checkpoint_1710336422_1.pth.tar\" # update the path!\n",
    "model.evaluate(dataset=test_dataset, model_path=model_path)\n",
    "model.running_metrics.get_scores(model.metrics)"
   ]
  }
 ],
 "metadata": {
  "kernelspec": {
   "display_name": "aitlas",
   "language": "python",
   "name": "aitlas"
  },
  "language_info": {
   "codemirror_mode": {
    "name": "ipython",
    "version": 3
   },
   "file_extension": ".py",
   "mimetype": "text/x-python",
   "name": "python",
   "nbconvert_exporter": "python",
   "pygments_lexer": "ipython3",
   "version": "3.8.19"
  }
 },
 "nbformat": 4,
 "nbformat_minor": 4
}
