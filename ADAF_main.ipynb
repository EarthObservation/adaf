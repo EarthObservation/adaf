{
 "cells": [
  {
   "cell_type": "markdown",
   "id": "81c7cdd4-f5fd-4312-8a50-e856458df1af",
   "metadata": {},
   "source": [
    "# ADAF - Automatic Detection of Archaeological Features\n",
    "\n",
    "A user-friendly software for the automatic detection of archaeological features from ALS data using convolutional neural networks. The underlying ML models were trained on an extensive archive of ALS datasets in Ireland, labelled by experts with three types of archaeological features (barrows, ringforts, enclosures). The core components of the tool are the Relief Visualisation Toolbox (RVT) for processing the input data and the Artificial Intelligence Toolbox for Earth Observation (AiTLAS), which provides access to the ML models.\n",
    "\n",
    "<img src=\"adaf/media/barrows.jpg\" alt=\"drawing\" width=\"200\"/> <img src=\"adaf/media/ringfort.jpg\" alt=\"drawing\" width=\"200\"/> <img src=\"adaf/media/enclosure.jpg\" alt=\"drawing\" width=\"200\"/>\n",
    "\n",
    "## Run ADAF GUI\n",
    "\n",
    "[**ADAF GUI**](ADAF_widget.ipynb)\n",
    "\n",
    "\n",
    "## ADAF Notebooks\n",
    "\n",
    ">Collection of notebooks for advance use. Requiers basic Python programming skills.\n",
    "\n",
    "### Training and retraining machine learning models:\n",
    "\n",
    "[**Creating trainning samples**](ADAF_trainning_samples.ipynb)\n",
    "\n",
    "[**Train: Semantic segmentation**](train_and_evaluate_semantic_segmentation.ipynb)\n",
    "\n",
    "[**Train: Object detection**](train_and_evaluate_object_detection.ipynb)\n",
    "\n",
    "### Other:\n",
    "\n",
    "[**Demo Notebook**](ADAF_notebook.ipynb)"
   ]
  },
  {
   "cell_type": "markdown",
   "id": "5da0e526-df2e-4c2c-b799-0737e313a34a",
   "metadata": {},
   "source": [
    "---\n",
    "Authors and maintainers:\n",
    "> Nejc Čož (nejc.coz@zrc-sazu.si) and Žiga Kokalj\n",
    ">\n",
    "> ZRC SAZU, Ljubljana, 2024"
   ]
  }
 ],
 "metadata": {
  "kernelspec": {
   "display_name": "aitlas",
   "language": "python",
   "name": "aitlas"
  },
  "language_info": {
   "codemirror_mode": {
    "name": "ipython",
    "version": 3
   },
   "file_extension": ".py",
   "mimetype": "text/x-python",
   "name": "python",
   "nbconvert_exporter": "python",
   "pygments_lexer": "ipython3",
   "version": "3.8.19"
  }
 },
 "nbformat": 4,
 "nbformat_minor": 5
}
