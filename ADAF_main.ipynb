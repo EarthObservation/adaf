{
 "cells": [
  {
   "cell_type": "markdown",
   "id": "81c7cdd4-f5fd-4312-8a50-e856458df1af",
   "metadata": {},
   "source": [
    "# ADAF - Automatic Detection of Archaeological Features\n",
    "\n",
    "TBA - Description of ADAF\n",
    "\n",
    "<img src=\"adaf/media/ringfort.jpg\" alt=\"drawing\" width=\"200\"/> <img src=\"adaf/media/barrows.jpg\" alt=\"drawing\" width=\"200\"/> <img src=\"adaf/media/enclosure.jpg\" alt=\"drawing\" width=\"200\"/>\n",
    "\n",
    "## Run ADAF GUI\n",
    "\n",
    "[**ADAF GUI**](ADAF_widget.ipynb)\n",
    "\n",
    "\n",
    "## Tutorials\n",
    "\n",
    "Clik this [**link**](ADAF_widget_demo.ipynb) to open ADAF GUI in demonstratioin mode.\n",
    "\n",
    "Examples that can be used for demonstration purposes are located in the `test_data` folder.\n",
    "\n",
    "\n",
    "## ADAF Notebooks *(work in progress)*\n",
    "\n",
    "Collection of notebooks for advanced users. Requiers basic Python programming skills.\n",
    "\n",
    "[**Demo Notebook**](ADAF_notebook.ipynb)\n",
    "\n",
    "\n",
    "\n",
    "\n",
    "\n",
    "\n"
   ]
  }
 ],
 "metadata": {
  "kernelspec": {
   "display_name": "aitlas",
   "language": "python",
   "name": "aitlas"
  },
  "language_info": {
   "codemirror_mode": {
    "name": "ipython",
    "version": 3
   },
   "file_extension": ".py",
   "mimetype": "text/x-python",
   "name": "python",
   "nbconvert_exporter": "python",
   "pygments_lexer": "ipython3",
   "version": "3.8.18"
  }
 },
 "nbformat": 4,
 "nbformat_minor": 5
}
