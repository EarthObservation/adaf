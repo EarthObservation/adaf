{
 "cells": [
  {
   "cell_type": "markdown",
   "metadata": {},
   "source": [
    "# A notebook for making predictions on new patches"
   ]
  },
  {
   "cell_type": "markdown",
   "metadata": {},
   "source": [
    "## Object detection"
   ]
  },
  {
   "cell_type": "markdown",
   "metadata": {},
   "source": [
    "<font size=\"3\">Load the model</font>"
   ]
  },
  {
   "cell_type": "code",
   "execution_count": 1,
   "metadata": {},
   "outputs": [
    {
     "name": "stderr",
     "output_type": "stream",
     "text": [
      "2023-06-04 15:53:38,597 INFO Loading checkpoint ./data/model_object_detection_BRE_12.tar\n",
      "2023-06-04 15:53:39,641 INFO Loaded checkpoint ./data/model_object_detection_BRE_12.tar at epoch 21\n"
     ]
    },
    {
     "name": "stdout",
     "output_type": "stream",
     "text": [
      "Model successfully loaded.\n"
     ]
    }
   ],
   "source": [
    "from aitlas.models import FasterRCNN\n",
    "\n",
    "# Specify the path to the model\n",
    "model_path = './data/model_object_detection_BRE_12.tar'\n",
    "\n",
    "# The following code contains the default model configuration.\n",
    "# If you are using a custom model, make sure to modify the configuration accordingly.\n",
    "\n",
    "# Start model configuration\n",
    "model_config = {\n",
    "    \"num_classes\": 4,  # Number of classes in the dataset\n",
    "    \"learning_rate\": 0.001,  # Learning rate for training\n",
    "    \"pretrained\": True,  # Whether to use a pretrained model or not\n",
    "    \"use_cuda\": False,  # Set to True if you want to use GPU acceleration\n",
    "    \"metrics\": [\"map\"]  # Evaluation metrics to be used\n",
    "}\n",
    "model = FasterRCNN(model_config)\n",
    "# End model configuration\n",
    "\n",
    "model.prepare()\n",
    "model.load_model(model_path)\n",
    "print(\"Model successfully loaded.\")\n"
   ]
  },
  {
   "cell_type": "markdown",
   "metadata": {},
   "source": [
    "<font size=\"3\"> Run the following cell to obtain the predictions. </font>"
   ]
  },
  {
   "cell_type": "code",
   "execution_count": 3,
   "metadata": {},
   "outputs": [
    {
     "name": "stdout",
     "output_type": "stream",
     "text": [
      "Generating predictions:\n",
      ">>>  77376_96960__ISA-81_Kilgorlin-Ballymalis__SLRM.tif\n",
      ">>>  147584_208000__ISA-179_Gort-Ardrahan__SLRM.tif\n",
      ">>>  148096_204160__ISA-179_Gort-Ardrahan__SLRM.tif\n",
      ">>>  146688_210048__Noise_Mapping__SLRM.tif\n",
      ">>>  556672_95872__TV59NE__SLRM.tif\n"
     ]
    }
   ],
   "source": [
    "from utils import make_predictions_on_patches_object_detection\n",
    "\n",
    "# insert the path to the folder containing the ML ready patches on which you want to generate predictions\n",
    "patches_folder='./data/unlabeled_ML_ready_data'\n",
    "\n",
    "make_predictions_on_patches_object_detection(model = model, patches_folder = patches_folder)"
   ]
  }
 ],
 "metadata": {
  "kernelspec": {
   "display_name": "Python 3",
   "language": "python",
   "name": "python3"
  },
  "language_info": {
   "codemirror_mode": {
    "name": "ipython",
    "version": 3
   },
   "file_extension": ".py",
   "mimetype": "text/x-python",
   "name": "python",
   "nbconvert_exporter": "python",
   "pygments_lexer": "ipython3",
   "version": "3.8.5"
  },
  "vscode": {
   "interpreter": {
    "hash": "35b322eea41e8457aa2bbdf5811fe6058d2bf4527b1af1c1eaf96d89a605fa7c"
   }
  }
 },
 "nbformat": 4,
 "nbformat_minor": 2
}
