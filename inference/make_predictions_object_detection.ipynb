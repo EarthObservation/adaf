{
 "cells": [
  {
   "attachments": {},
   "cell_type": "markdown",
   "metadata": {},
   "source": [
    "# A notebook for making predictions on new patches"
   ]
  },
  {
   "attachments": {},
   "cell_type": "markdown",
   "metadata": {},
   "source": [
    "## Object detection"
   ]
  },
  {
   "attachments": {},
   "cell_type": "markdown",
   "metadata": {},
   "source": [
    "<font size=\"3\">Load the model</font>"
   ]
  },
  {
   "cell_type": "code",
   "execution_count": 1,
   "metadata": {},
   "outputs": [
    {
     "name": "stderr",
     "output_type": "stream",
     "text": [
      "2023-06-09 05:56:28,970 INFO Loading checkpoint ./data/model_object_detection_BRE_12.tar\n",
      "2023-06-09 05:56:29,862 INFO Loaded checkpoint ./data/model_object_detection_BRE_12.tar at epoch 21\n"
     ]
    },
    {
     "name": "stdout",
     "output_type": "stream",
     "text": [
      "Model successfully loaded.\n"
     ]
    }
   ],
   "source": [
    "from aitlas.models import FasterRCNN\n",
    "\n",
    "# Specify the path to the model\n",
    "model_path = './data/model_object_detection_BRE_12.tar'\n",
    "\n",
    "# The following code contains the default model configuration.\n",
    "# If you are using a custom model, make sure to modify the configuration accordingly.\n",
    "\n",
    "# Start model configuration\n",
    "model_config = {\n",
    "    \"num_classes\": 4,  # Number of classes in the dataset\n",
    "    \"learning_rate\": 0.001,  # Learning rate for training\n",
    "    \"pretrained\": True,  # Whether to use a pretrained model or not\n",
    "    \"use_cuda\": False,  # Set to True if you want to use GPU acceleration\n",
    "    \"metrics\": [\"map\"]  # Evaluation metrics to be used\n",
    "}\n",
    "model = FasterRCNN(model_config)\n",
    "# End model configuration\n",
    "\n",
    "model.prepare()\n",
    "model.load_model(model_path)\n",
    "print(\"Model successfully loaded.\")\n"
   ]
  },
  {
   "attachments": {},
   "cell_type": "markdown",
   "metadata": {},
   "source": [
    "<font size=\"3\"> Run the following cell to obtain the predictions. </font>"
   ]
  },
  {
   "cell_type": "code",
   "execution_count": 2,
   "metadata": {},
   "outputs": [
    {
     "name": "stdout",
     "output_type": "stream",
     "text": [
      "Generating predictions:\n",
      ">>>  77376_96960__ISA-81_Kilgorlin-Ballymalis__SLRM.tif\n",
      "{'boxes': tensor([[ 91.6254,   0.0000, 215.4123, 125.5812],\n",
      "        [  3.1860, 123.3124, 156.3574, 249.7646]], grad_fn=<IndexBackward0>), 'labels': tensor([3, 1]), 'scores': tensor([0.9692, 0.1186], grad_fn=<IndexBackward0>)}\n",
      ">>>  2048_patch_0_0.tif\n",
      "{'boxes': tensor([], size=(0, 4), grad_fn=<IndexBackward0>), 'labels': tensor([], dtype=torch.int64), 'scores': tensor([], grad_fn=<IndexBackward0>)}\n",
      ">>>  512_patch_0_0.tif\n",
      "{'boxes': tensor([[  0.0000,   0.0000, 454.0966, 510.8727]], grad_fn=<IndexBackward0>), 'labels': tensor([1]), 'scores': tensor([0.1221], grad_fn=<IndexBackward0>)}\n",
      ">>>  1024_patch_0_0.tif\n",
      "{'boxes': tensor([], size=(0, 4), grad_fn=<IndexBackward0>), 'labels': tensor([], dtype=torch.int64), 'scores': tensor([], grad_fn=<IndexBackward0>)}\n"
     ]
    }
   ],
   "source": [
    "from utils import make_predictions_on_patches_object_detection\n",
    "\n",
    "# insert the path to the folder containing the ML ready patches on which you want to generate predictions\n",
    "# patches_folder='./data/unlabeled_ML_ready_data'\n",
    "patches_folder = '/Users/anakostovska/Dropbox/aitlas_v1/inference/data/unlabeled_clips'\n",
    "\n",
    "make_predictions_on_patches_object_detection(model = model, patches_folder = patches_folder)"
   ]
  }
 ],
 "metadata": {
  "kernelspec": {
   "display_name": "Python 3",
   "language": "python",
   "name": "python3"
  },
  "language_info": {
   "codemirror_mode": {
    "name": "ipython",
    "version": 3
   },
   "file_extension": ".py",
   "mimetype": "text/x-python",
   "name": "python",
   "nbconvert_exporter": "python",
   "pygments_lexer": "ipython3",
   "version": "3.8.16"
  },
  "vscode": {
   "interpreter": {
    "hash": "35b322eea41e8457aa2bbdf5811fe6058d2bf4527b1af1c1eaf96d89a605fa7c"
   }
  }
 },
 "nbformat": 4,
 "nbformat_minor": 2
}
