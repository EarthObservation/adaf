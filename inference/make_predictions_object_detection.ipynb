{
 "cells": [
  {
   "attachments": {},
   "cell_type": "markdown",
   "metadata": {},
   "source": [
    "# A notebook for making predictions on new patches"
   ]
  },
  {
   "attachments": {},
   "cell_type": "markdown",
   "metadata": {},
   "source": [
    "## Object detection"
   ]
  },
  {
   "attachments": {},
   "cell_type": "markdown",
   "metadata": {},
   "source": [
    "<font size=\"3\">Load the model</font>"
   ]
  },
  {
   "cell_type": "code",
   "execution_count": 1,
   "metadata": {},
   "outputs": [
    {
     "name": "stderr",
     "output_type": "stream",
     "text": [
      "2023-06-09 09:31:55,609 INFO Loading checkpoint ./data/model_object_detection_BRE_12.tar\n",
      "2023-06-09 09:31:57,237 INFO Loaded checkpoint ./data/model_object_detection_BRE_12.tar at epoch 6\n"
     ]
    },
    {
     "name": "stdout",
     "output_type": "stream",
     "text": [
      "Model successfully loaded.\n"
     ]
    }
   ],
   "source": [
    "from aitlas.models import FasterRCNN\n",
    "\n",
    "# Specify the path to the model\n",
    "model_path = './data/model_object_detection_BRE_12.tar'\n",
    "\n",
    "# The following code contains the default model configuration.\n",
    "# If you are using a custom model, make sure to modify the configuration accordingly.\n",
    "\n",
    "# Start model configuration\n",
    "model_config = {\n",
    "    \"num_classes\": 4,  # Number of classes in the dataset\n",
    "    \"learning_rate\": 0.001,  # Learning rate for training\n",
    "    \"pretrained\": True,  # Whether to use a pretrained model or not\n",
    "    \"use_cuda\": False,  # Set to True if you want to use GPU acceleration\n",
    "    \"metrics\": [\"map\"]  # Evaluation metrics to be used\n",
    "}\n",
    "model = FasterRCNN(model_config)\n",
    "# End model configuration\n",
    "\n",
    "model.prepare()\n",
    "model.load_model(model_path)\n",
    "print(\"Model successfully loaded.\")\n"
   ]
  },
  {
   "attachments": {},
   "cell_type": "markdown",
   "metadata": {},
   "source": [
    "<font size=\"3\"> Run the following cell to obtain the predictions. </font>"
   ]
  },
  {
   "cell_type": "code",
   "execution_count": 2,
   "metadata": {},
   "outputs": [
    {
     "name": "stdout",
     "output_type": "stream",
     "text": [
      "Generating predictions:\n",
      ">>>  .DS_Store\n",
      ">>>  77376_96960__ISA-81_Kilgorlin-Ballymalis__SLRM.tif\n",
      "predicted {'boxes': tensor([[ 93.6358,   1.1690, 200.9978, 115.5163],\n",
      "        [  7.3981, 113.0778, 199.2589, 246.4649],\n",
      "        [173.9278,   8.3097, 256.0000, 107.4808]], grad_fn=<IndexBackward0>), 'labels': tensor([3, 1, 3]), 'scores': tensor([0.9019, 0.2290, 0.1659], grad_fn=<IndexBackward0>)}\n",
      ">>>  512_patch_0_0.tif\n",
      "predicted {'boxes': tensor([[  0.0000, 199.3025, 489.3542, 505.0880]], grad_fn=<IndexBackward0>), 'labels': tensor([1]), 'scores': tensor([0.0957], grad_fn=<IndexBackward0>)}\n",
      ">>>  2048_patch_3_3.tif\n",
      "predicted {'boxes': tensor([], size=(0, 4), grad_fn=<IndexBackward0>), 'labels': tensor([], dtype=torch.int64), 'scores': tensor([], grad_fn=<IndexBackward0>)}\n",
      ">>>  1024_patch_0_0.tif\n",
      "predicted {'boxes': tensor([[   0.0000,  363.7653,  796.9992, 1021.4673]],\n",
      "       grad_fn=<IndexBackward0>), 'labels': tensor([1]), 'scores': tensor([0.0648], grad_fn=<IndexBackward0>)}\n"
     ]
    }
   ],
   "source": [
    "from utils import make_predictions_on_patches_object_detection\n",
    "\n",
    "# insert the path to the folder containing the ML ready patches on which you want to generate predictions\n",
    "# patches_folder='./data/unlabeled_ML_ready_data'\n",
    "patches_folder = '/Users/anakostovska/Dropbox/aitlas_v1/inference/data/unlabeled_clips'\n",
    "\n",
    "make_predictions_on_patches_object_detection(model = model, patches_folder = patches_folder)"
   ]
  }
 ],
 "metadata": {
  "kernelspec": {
   "display_name": "Python 3",
   "language": "python",
   "name": "python3"
  },
  "language_info": {
   "codemirror_mode": {
    "name": "ipython",
    "version": 3
   },
   "file_extension": ".py",
   "mimetype": "text/x-python",
   "name": "python",
   "nbconvert_exporter": "python",
   "pygments_lexer": "ipython3",
   "version": "3.8.16"
  },
  "vscode": {
   "interpreter": {
    "hash": "35b322eea41e8457aa2bbdf5811fe6058d2bf4527b1af1c1eaf96d89a605fa7c"
   }
  }
 },
 "nbformat": 4,
 "nbformat_minor": 2
}
