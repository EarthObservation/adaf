{
 "cells": [
  {
   "cell_type": "markdown",
   "metadata": {},
   "source": [
    "# A notebook for making predictions on new patches"
   ]
  },
  {
   "cell_type": "markdown",
   "metadata": {},
   "source": [
    "<font size=\"3\">Modify the following cell accorting to your input data</font>"
   ]
  },
  {
   "cell_type": "code",
   "execution_count": 7,
   "metadata": {},
   "outputs": [],
   "source": [
    "# insert the path to the trained ML model\n",
    "model_path = './data/model_full_BRE_12.tar'\n",
    "\n",
    "# insert the path to the folder containing the ML ready patches on which you want to generate predictions\n",
    "patches_folder='./data/unlabeled_ML_ready_data'\n"
   ]
  },
  {
   "cell_type": "markdown",
   "metadata": {},
   "source": [
    "<font size=\"3\"> Run the following cell to obtain the predictions. </font>"
   ]
  },
  {
   "cell_type": "code",
   "execution_count": 8,
   "metadata": {},
   "outputs": [
    {
     "name": "stderr",
     "output_type": "stream",
     "text": [
      "2023-05-09 21:59:58,587 INFO Loading checkpoint ./data/model_full_BRE_12.tar\n",
      "2023-05-09 21:59:59,177 INFO Loaded checkpoint ./data/model_full_BRE_12.tar at epoch 21\n"
     ]
    },
    {
     "name": "stdout",
     "output_type": "stream",
     "text": [
      "Model successfully loaded.\n",
      "\n",
      "Generating predictions:\n",
      ">>>  77376_96960__ISA-81_Kilgorlin-Ballymalis__SLRM.tif\n"
     ]
    }
   ],
   "source": [
    "from utils import make_predictions_on_patches\n",
    "make_predictions_on_patches(model_path = model_path, patches_folder = patches_folder)"
   ]
  }
 ],
 "metadata": {
  "kernelspec": {
   "display_name": "Python 3.8.15 ('aitlasod')",
   "language": "python",
   "name": "python3"
  },
  "language_info": {
   "codemirror_mode": {
    "name": "ipython",
    "version": 3
   },
   "file_extension": ".py",
   "mimetype": "text/x-python",
   "name": "python",
   "nbconvert_exporter": "python",
   "pygments_lexer": "ipython3",
   "version": "3.8.15"
  },
  "orig_nbformat": 4,
  "vscode": {
   "interpreter": {
    "hash": "35b322eea41e8457aa2bbdf5811fe6058d2bf4527b1af1c1eaf96d89a605fa7c"
   }
  }
 },
 "nbformat": 4,
 "nbformat_minor": 2
}
