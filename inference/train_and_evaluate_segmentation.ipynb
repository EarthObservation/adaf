{
 "cells": [
  {
   "attachments": {},
   "cell_type": "markdown",
   "metadata": {},
   "source": [
    "## Example of the `aitlas` toolbox in the context of image segmentation\n"
   ]
  },
  {
   "attachments": {},
   "cell_type": "markdown",
   "metadata": {},
   "source": [
    "### Import the required packages"
   ]
  },
  {
   "cell_type": "code",
   "execution_count": null,
   "metadata": {},
   "outputs": [],
   "source": [
    "from aitlas.datasets import TiiLIDARDataset\n",
    "from aitlas.models import HRNet\n"
   ]
  },
  {
   "attachments": {},
   "cell_type": "markdown",
   "metadata": {},
   "source": [
    "### Load train, validation and test data"
   ]
  },
  {
   "cell_type": "code",
   "execution_count": null,
   "metadata": {},
   "outputs": [],
   "source": [
    "train_dataset_config = {\n",
    "    \"batch_size\": 16,\n",
    "    \"shuffle\": True,\n",
    "    \"num_workers\": 4,\n",
    "    \"data_dir\": \"/home/dragik/IrishArchaeology/samples_256px/train/segmentation/seg_SLRM/output\",\n",
    "    \"csv_file\": \"/home/dragik/IrishArchaeology/samples_256px/train/segmentation/seg_SLRM/train.txt\",\n",
    "    \"transforms\": [\"aitlas.transforms.MinMaxNormTranspose\"],\n",
    "    \"joint_transforms\": [\"aitlas.transforms.FlipHVRandomRotate\"],\n",
    "    \"target_transforms\": [\"aitlas.transforms.Transpose\"]\n",
    "}\n",
    "train_dataset = TiiLIDARDataset(train_dataset_config)\n",
    "\n",
    "validation_dataset_config = {\n",
    "    \"batch_size\": 16,\n",
    "    \"shuffle\": False,\n",
    "    \"num_workers\": 4,\n",
    "    \"data_dir\": \"/home/dragik/IrishArchaeology/samples_256px/validation/segmentation/seg_SLRM/output\",\n",
    "    \"csv_file\": \"/home/dragik/IrishArchaeology/samples_256px/validation/segmentation/seg_SLRM/validation.txt\",\n",
    "    \"transforms\": [\"aitlas.transforms.MinMaxNormTranspose\"],\n",
    "    \"target_transforms\": [\"aitlas.transforms.Transpose\"]\n",
    "}\n",
    "validation_dataset = TiiLIDARDataset(validation_dataset_config)\n",
    "\n",
    "test_dataset_config = {\n",
    "    \"batch_size\": 16,\n",
    "    \"shuffle\": False,\n",
    "    \"num_workers\": 4,\n",
    "    \"data_dir\": \"/home/dragik/IrishArchaeology/samples_256px/test/segmentation/seg_SLRM/output\",\n",
    "    \"csv_file\": \"/home/dragik/IrishArchaeology/samples_256px/test/segmentation/seg_SLRM/test.txt\",\n",
    "    \"transforms\": [\"aitlas.transforms.MinMaxNormTranspose\"],\n",
    "    \"target_transforms\": [\"aitlas.transforms.Transpose\"]\n",
    "}\n",
    "test_dataset = TiiLIDARDataset(test_dataset_config)\n",
    "\n",
    "len(train_dataset), len(validation_dataset), len(test_dataset)"
   ]
  },
  {
   "attachments": {},
   "cell_type": "markdown",
   "metadata": {},
   "source": [
    "### Create the model"
   ]
  },
  {
   "cell_type": "code",
   "execution_count": null,
   "metadata": {},
   "outputs": [],
   "source": [
    "epochs = 50\n",
    "model_directory = \"/home/dragik/aitlas_v1/experiments/semantic_segmentation/\"\n",
    "model_config = {\n",
    "    \"num_classes\": 3,\n",
    "    \"learning_rate\": 0.0001,\n",
    "    \"pretrained\": True,\n",
    "    \"threshold\": 0.5,\n",
    "    \"metrics\": [\"iou\"]\n",
    "}\n",
    "\n",
    "model = HRNet(model_config)\n",
    "model.prepare()"
   ]
  },
  {
   "attachments": {},
   "cell_type": "markdown",
   "metadata": {},
   "source": [
    "### Train the model"
   ]
  },
  {
   "cell_type": "code",
   "execution_count": null,
   "metadata": {},
   "outputs": [],
   "source": [
    "model.train_and_evaluate_model(\n",
    "    train_dataset=train_dataset,\n",
    "    val_dataset=validation_dataset,\n",
    "    epochs=epochs,\n",
    "    model_directory=model_directory,\n",
    "    save_epochs=10,\n",
    "    run_id='1'\n",
    ");"
   ]
  },
  {
   "attachments": {},
   "cell_type": "markdown",
   "metadata": {},
   "source": [
    "### Evaluate the model on test data"
   ]
  },
  {
   "cell_type": "code",
   "execution_count": null,
   "metadata": {},
   "outputs": [],
   "source": [
    "model = HRNet(model_config)\n",
    "model.prepare()\n",
    "model.running_metrics.reset()\n",
    "model_path = \"/home/dragik/aitlas_v1/experiments/semantic_segmentation/train_HRNet_SLRM_256px_pretrained/best_checkpoint_1685061651_30.pth.tar\"\n",
    "model.evaluate(dataset=test_dataset, model_path=model_path)\n",
    "model.running_metrics.get_scores(model.metrics)"
   ]
  }
 ],
 "metadata": {
  "kernelspec": {
   "display_name": "aitlas_v1",
   "language": "python",
   "name": "aitlas_v1"
  },
  "language_info": {
   "codemirror_mode": {
    "name": "ipython",
    "version": 3
   },
   "file_extension": ".py",
   "mimetype": "text/x-python",
   "name": "python",
   "nbconvert_exporter": "python",
   "pygments_lexer": "ipython3",
   "version": "3.8.16"
  }
 },
 "nbformat": 4,
 "nbformat_minor": 2
}
