{
 "cells": [
  {
   "cell_type": "markdown",
   "metadata": {},
   "source": [
    "# A notebook for making predictions on new patches"
   ]
  },
  {
   "cell_type": "markdown",
   "metadata": {},
   "source": [
    "## Semantic segmentation"
   ]
  },
  {
   "cell_type": "markdown",
   "metadata": {},
   "source": [
    "<font size=\"3\">Load the model</font>"
   ]
  },
  {
   "cell_type": "code",
   "execution_count": 1,
   "metadata": {},
   "outputs": [
    {
     "name": "stderr",
     "output_type": "stream",
     "text": [
      "2023-06-08 18:44:28,172 INFO Loading pretrained weights from url (https://github.com/rwightman/pytorch-image-models/releases/download/v0.1-hrnet/hrnetv2_w48-abd2e6ab.pth)\n",
      "2023-06-08 18:44:28,549 INFO Loading checkpoint ./data/model_semantic_segmentation_BRE_124.tar\n",
      "2023-06-08 18:44:30,003 INFO Loaded checkpoint ./data/model_semantic_segmentation_BRE_124.tar at epoch 31\n"
     ]
    },
    {
     "name": "stdout",
     "output_type": "stream",
     "text": [
      "Model successfully loaded.\n"
     ]
    }
   ],
   "source": [
    "from aitlas.models import HRNet\n",
    "\n",
    "# Specify the path to the model\n",
    "model_path = './data/model_semantic_segmentation_BRE_124.tar'\n",
    "\n",
    "# The following code contains the default model configuration.\n",
    "# If you are using a custom model, make sure to modify the configuration accordingly.\n",
    "\n",
    "# Start model configuration\n",
    "model_config = {\n",
    "    \"num_classes\": 3,  # Number of classes in the dataset\n",
    "    \"learning_rate\": 0.0001,  # Learning rate for training\n",
    "    \"pretrained\": True,  # Whether to use a pretrained model or not\n",
    "    \"use_cuda\": False,  # Set to True if you want to use GPU acceleration\n",
    "    \"threshold\": 0.5,\n",
    "    \"metrics\": [\"map\"]  # Evaluation metrics to be used\n",
    "}\n",
    "model = HRNet(model_config)\n",
    "# End model configuration\n",
    "\n",
    "model.prepare()\n",
    "model.load_model(model_path)\n",
    "print(\"Model successfully loaded.\")\n"
   ]
  },
  {
   "cell_type": "code",
   "execution_count": null,
   "metadata": {},
   "outputs": [
    {
     "name": "stdout",
     "output_type": "stream",
     "text": [
      "Generating predictions:\n",
      ">>>  .DS_Store\n",
      ">>>  77376_96960__ISA-81_Kilgorlin-Ballymalis__SLRM.tif\n",
      ">>>  147584_208000__ISA-179_Gort-Ardrahan__SLRM.tif\n",
      ">>>  148096_204160__ISA-179_Gort-Ardrahan__SLRM.tif\n",
      ">>>  146688_210048__Noise_Mapping__SLRM.tif\n",
      ">>>  556672_95872__TV59NE__SLRM.tif\n"
     ]
    }
   ],
   "source": [
    "from utils import make_predictions_on_patches_segmentation\n",
    "\n",
    "# insert the path to the folder containing the ML ready patches on which you want to generate predictions\n",
    "# patches_folder = './data/unlabeled_ML_ready_data'\n",
    "\n",
    "# patches_folder = '/Users/anakostovska/Dropbox/aitlas_v1/TII_LIDAR_DATA/NM20_clips/test'\n",
    "\n",
    "make_predictions_on_patches_segmentation(model = model, patches_folder = patches_folder);"
   ]
  },
  {
   "cell_type": "code",
   "execution_count": null,
   "metadata": {},
   "outputs": [],
   "source": []
  }
 ],
 "metadata": {
  "kernelspec": {
   "display_name": "ai-pip",
   "language": "python",
   "name": "ai-pip"
  },
  "language_info": {
   "codemirror_mode": {
    "name": "ipython",
    "version": 3
   },
   "file_extension": ".py",
   "mimetype": "text/x-python",
   "name": "python",
   "nbconvert_exporter": "python",
   "pygments_lexer": "ipython3",
   "version": "3.8.16"
  },
  "vscode": {
   "interpreter": {
    "hash": "35b322eea41e8457aa2bbdf5811fe6058d2bf4527b1af1c1eaf96d89a605fa7c"
   }
  }
 },
 "nbformat": 4,
 "nbformat_minor": 2
}
