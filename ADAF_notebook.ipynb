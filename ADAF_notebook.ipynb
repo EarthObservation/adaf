{
 "cells": [
  {
   "cell_type": "markdown",
   "id": "1a2601fe-6aac-4442-bf2f-0d30af311ef0",
   "metadata": {},
   "source": [
    "# ADAF as Python module\r\n",
    "> \r\n",
    "To understand this notebook, you need some basic programming knowledge\r\n",
    "\r\n",
    "This notebook shows how to run ADAF without using the GUI. Users benefit from the flexibility of the Jupyter notebooks and can create routines tailored to their own workflows."
   ]
  },
  {
   "cell_type": "markdown",
   "id": "b13b06dc-e86b-4360-a815-5d95eddd7a58",
   "metadata": {},
   "source": [
    "* All the processing is preformed by calling the `main_routine` function that is imported from adaf module.\n",
    "* Parameters are passed to the main routine via the `ADAFInput`"
   ]
  },
  {
   "cell_type": "code",
   "execution_count": 1,
   "id": "cf47ceb9",
   "metadata": {},
   "outputs": [],
   "source": [
    "from adaf.adaf_inference import main_routine\n",
    "from adaf.adaf_utils import ADAFInput"
   ]
  },
  {
   "cell_type": "markdown",
   "id": "749b5eef-da80-43e3-b436-41e281fb9108",
   "metadata": {},
   "source": [
    "## First we prepare all the input parameters"
   ]
  },
  {
   "cell_type": "markdown",
   "id": "a3fb747c-c21b-43ef-b2cb-67b82accda8b",
   "metadata": {},
   "source": [
    "**Input data options:**\n",
    "\n",
    "> Modify the path of the location of your input image!"
   ]
  },
  {
   "cell_type": "code",
   "execution_count": 2,
   "id": "b70133c0",
   "metadata": {},
   "outputs": [],
   "source": [
    "# Input DEM\n",
    "my_file = r\"C:\\Users\\ncoz\\Documents\\GitHub\\adaf\\test_data\\dem_4tiles\\ISA-147_small.tif\"\n",
    "\n",
    "# We are inputing DEM and need to calculate the visualizations\n",
    "visualization_exists = False\n",
    "\n",
    "# Visualizations are stored as temoprary GeoTIFF files, we want to keep them for later use\n",
    "save_visualizations = True"
   ]
  },
  {
   "cell_type": "markdown",
   "id": "8823aa2d-6a9e-4a29-bd31-8a4f81db0016",
   "metadata": {},
   "source": [
    "**ML options:**"
   ]
  },
  {
   "cell_type": "code",
   "execution_count": 3,
   "id": "511a1cc5-33eb-4204-8827-dcd465803c0e",
   "metadata": {},
   "outputs": [],
   "source": [
    "# ML type\n",
    "ml_type = \"segmentation\"  # \"segmentation\" or \"object detection\"\n",
    "\n",
    "# A list of labels that we want to run the detections for\n",
    "labels = [\"AO\"]  # Possible options: AO (for All archaeology), barrow, ringfort, enclosure"
   ]
  },
  {
   "cell_type": "markdown",
   "id": "76e63935-bbd4-427a-adb4-7538c9aba0df",
   "metadata": {},
   "source": [
    "**Post processing options:**"
   ]
  },
  {
   "cell_type": "code",
   "execution_count": 4,
   "id": "5bf77b72-f285-4019-9b73-86812d02249e",
   "metadata": {},
   "outputs": [],
   "source": [
    "# Minimum roundness and area only required for semantic segmentation, levae empty for object detection \n",
    "roundness=0.75\n",
    "min_area=30\n",
    "\n",
    "# Save temporary ML results\n",
    "save_ml_output=False"
   ]
  },
  {
   "cell_type": "markdown",
   "id": "f793a443-d429-4524-b7b1-d9f50715706f",
   "metadata": {},
   "source": [
    "## Run ADAF\n",
    "\n",
    "Pack all the parameters into the `ADAFInput` object and run the main_routine"
   ]
  },
  {
   "cell_type": "code",
   "execution_count": 5,
   "id": "25e74057",
   "metadata": {},
   "outputs": [],
   "source": [
    "my_input = ADAFInput()\n",
    "my_input.update(\n",
    "    dem_path=my_file,\n",
    "    vis_exist_ok=visualization_exists,\n",
    "    save_vis=True,\n",
    "    ml_type=ml_type,\n",
    "    labels=labels,\n",
    "    roundness=roundness,\n",
    "    min_area=min_area,\n",
    "    save_ml_output=save_ml_output\n",
    ")\n",
    "\n",
    "final_adaf_output = main_routine(my_input)"
   ]
  },
  {
   "cell_type": "markdown",
   "id": "f37bc7ad-c7a6-4e1c-872b-7f682f5d2263",
   "metadata": {},
   "source": [
    "## Results\n",
    "\n",
    "Results are stored to a new folder in the same parent directory as the input image. The name of the folder consists of the *name of the image file*, *\"datetime\" stamp* and the ml metod type (*seg* for semantic segmentation and *obj* for object detection). For example: `my-area-dem_20231201_143215_seg`.\n",
    "\n",
    "The `main_routine` function outputs the path to the output vector file:"
   ]
  },
  {
   "cell_type": "code",
   "execution_count": 6,
   "id": "5342a7f5-ce83-45de-96d4-a8e187068bfc",
   "metadata": {},
   "outputs": [
    {
     "name": "stdout",
     "output_type": "stream",
     "text": [
      "C:\\Users\\ncoz\\Documents\\GitHub\\adaf\\test_data\\dem_4tiles\\ISA-147_small_20231212_111340_seg\\semantic_segmentation.gpkg\n"
     ]
    }
   ],
   "source": [
    "print(final_adaf_output)"
   ]
  }
 ],
 "metadata": {
  "kernelspec": {
   "display_name": "aitlas",
   "language": "python",
   "name": "aitlas"
  },
  "language_info": {
   "codemirror_mode": {
    "name": "ipython",
    "version": 3
   },
   "file_extension": ".py",
   "mimetype": "text/x-python",
   "name": "python",
   "nbconvert_exporter": "python",
   "pygments_lexer": "ipython3",
   "version": "3.8.19"
  },
  "widgets": {
   "application/vnd.jupyter.widget-state+json": {
    "state": {},
    "version_major": 2,
    "version_minor": 0
   }
  }
 },
 "nbformat": 4,
 "nbformat_minor": 5
}
