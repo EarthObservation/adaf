{
 "cells": [
  {
   "cell_type": "markdown",
   "id": "04aba23c-bae9-4720-844f-f079e0e6c261",
   "metadata": {},
   "source": [
    "# Create new ADAF training dataset\n",
    "---\n",
    "```\n",
    "Author: Nejc Čož\n",
    "Mail: nejc.coz@zrc-sazu.si\n",
    "Organisation: ZRC SAZU\n",
    "Ljubljana, 2024\n",
    "```\n",
    "---"
   ]
  },
  {
   "cell_type": "markdown",
   "id": "03bf5524-9617-4870-8536-fe24afc6c46e",
   "metadata": {},
   "source": [
    "## Imports"
   ]
  },
  {
   "cell_type": "code",
   "execution_count": 8,
   "id": "e14c2ad2-51b2-48ac-8c84-bac151447853",
   "metadata": {},
   "outputs": [],
   "source": [
    "from adaf.create_visualisations import run_visualisations\n",
    "from adaf.create_patches import create_patches_main"
   ]
  },
  {
   "cell_type": "markdown",
   "id": "5abf61c9-dc98-4085-aa4e-b2aba4596650",
   "metadata": {},
   "source": [
    "## Create visualisations\n",
    "\n",
    "The default visualisation for the ADAF model is SLRM (Simple Local Relief Model). The Irish dataset was processed with the SLRM radius of 10 metres.\n",
    "\n",
    "The SLRM visualisation with default parameters can be prepared using the Python functions included in ADAF.\n",
    "\n",
    "> The following parameteres are used for creating the visualisation:\n",
    ">\n",
    ">* Radius for trend assessment: **10 m** *(i.e. 20 px for 0.5m image)*\n",
    ">   \n",
    "> * Min/max normalisation between **-0.5 and 0.5**\n",
    ">\n",
    "> * Nodata and nan values are set to **0 (zero)**"
   ]
  },
  {
   "cell_type": "code",
   "execution_count": 9,
   "id": "794e2d91-c144-49c7-b9ec-e7ba37c8b00b",
   "metadata": {},
   "outputs": [
    {
     "name": "stdout",
     "output_type": "stream",
     "text": [
      "test_data\\test_patches\\slrm_visualisations\\ISA-15_Kilkee_dem_05m_slrm.vrt\n"
     ]
    }
   ],
   "source": [
    "# PROCESS INPUTS:\n",
    "dem_path = r\"./test_data/test_patches/ISA-15_Kilkee_dem_05m.vrt\"\n",
    "tile_size = 512\n",
    "save_dir = r\"./test_data/test_patches/slrm_visualisations\"\n",
    "nr_processes = 6\n",
    "\n",
    "# RUN VISUALISATION\n",
    "vis_results = run_visualisations(dem_path, tile_size, save_dir, nr_processes)\n",
    "\n",
    "# We will need this for creating patches\n",
    "vis_vrt = vis_results[\"vrt_path\"]\n",
    "\n",
    "# Print output\n",
    "print(vis_vrt)"
   ]
  },
  {
   "cell_type": "markdown",
   "id": "217f1abc-4b57-43f5-8c3e-9c49d74556e9",
   "metadata": {},
   "source": [
    "The same visualisation can be created at your own discretion using external software such as RVT (rvt_py package, RVT plugin for QGIS, RVT desktop app) or other third-party software. To replicate the default visualisation, make sure you use the same input parameters as listed above.\n",
    "\n",
    "\n",
    "ADAF can also be trained on visualisations other than SLRM. In this case, make sure that the visualisation raster has:\n",
    "* \teither 1 or 3 band\n",
    "* is normalised between 0 and 1\n",
    "* contains no Nan valuesues\r\n"
   ]
  },
  {
   "cell_type": "markdown",
   "id": "14fdd92b-55cb-408b-952b-583110b4cc33",
   "metadata": {},
   "source": [
    "## Create patches"
   ]
  },
  {
   "cell_type": "markdown",
   "id": "e1f71362-ebad-415f-ac18-340313075619",
   "metadata": {},
   "source": [
    "Users can set the size of the patches (i.e. the size of the image tiles in pixels) and the overlap of the tiles. If the “DFM” attribute is included in the vector file, this information is included in the segmentation masks and bounding boxes as well. The DFM value was used in the original vector data to indicate the quality of the archaeological features on the DFM and can be used to filter out data by quality during ML training.\n",
    "\n",
    "Default values for patch creation parameters can not be changed and are:\n",
    "\n",
    "* tile size of 512 pixels\n",
    "* overlap of tiles by 0.5 tile (i.e. 256 pixels)\n",
    "\n",
    "The ADAF is set up for detection of three default classes, namely barrows, ringforts and enclosures. The procedure for creating patches follows this format, which means that masks can contain up to 3 different classes (not necessarily using the default names of labels). At least one vector file must be specified. In this case, the segmentation mask still has 3 bands, but only the first band is filled with the labelled data.\n",
    "\n",
    "> NOTE: When training or retraining the models, only one band from the segmentation mask is used at a time. The user must specify the band ID and the corresponding labelling name."
   ]
  },
  {
   "cell_type": "markdown",
   "id": "edb1d5b8-d274-44aa-a6a3-f3e665584f3a",
   "metadata": {},
   "source": [
    "INPUTS:\n",
    "\n",
    "- input_name\n",
    "- segmentation_masks\n",
    "- output_dir\n",
    "\n",
    "```\n",
    "The dictionary HAST TO BE!!! in this format\n",
    "- At least one label and max 3 labels (there are no check)\n",
    "- Key is name of thw label and Value is path to vector file.\n",
    "- Can use any label name, in the example default ADAF names are used:\n",
    "\n",
    "segmentation_masks = {\n",
    "    \"barrow\": r\"../test_data/test_patches/arch/barrow_segmentation_TM75.gpkg\",\n",
    "    \"enclosure\": r\"../test_data/test_patches/arch/enclosure_segmentation_TM75.gpkg\",\n",
    "    \"ringfort\": r\"../test_data/test_patches/arch/ringfort_segmentation_TM75.gpkg\"\n",
    "}\n",
    "```"
   ]
  },
  {
   "cell_type": "code",
   "execution_count": 10,
   "id": "aa046cfc-52cb-443a-8b75-ca66a32fe9bd",
   "metadata": {},
   "outputs": [
    {
     "name": "stdout",
     "output_type": "stream",
     "text": [
      "Start multiproc\n"
     ]
    }
   ],
   "source": [
    "# Define paths to inputs and outputs\n",
    "input_image = vis_vrt\n",
    "output_dir = r\"./test_data/test_patches/training_samples\"\n",
    "\n",
    "# Define paths to masks\n",
    "segmentation_masks = {\n",
    "    \"barrow\": r\"./test_data/test_patches/arch/barrow_segmentation_TM75.gpkg\",\n",
    "    \"enclosure\": r\"./test_data/test_patches/arch/enclosure_segmentation_TM75.gpkg\",\n",
    "    \"ringfort\": r\"./test_data/test_patches/arch/ringfort_segmentation_TM75.gpkg\"\n",
    "}\n",
    "\n",
    "# Run create patches\n",
    "create_patches_main(input_image, segmentation_masks, output_dir)\n"
   ]
  },
  {
   "cell_type": "markdown",
   "id": "6764d7aa-6583-4af2-8eba-88d464114b7c",
   "metadata": {},
   "source": [
    "Training a completely new class requires only a single vector file with labelled data when creating patches. As only one vector file has been provided, only the first band of the segmentation mask file is filled with valid data, the other two bands contain all zeros. When training a new model ([**semantic segmentation**](train_and_evaluate_semantic_segmentation.ipynb) or [**object detection**](train_and_evaluate_object_detection.ipynb)), the user must specify band 1 and give the class a new name. For example, you would want to retrain the model to train a \"new_feature\", follow this template:"
   ]
  },
  {
   "cell_type": "code",
   "execution_count": null,
   "id": "b739feb5-2440-487a-8946-5ca2428663ba",
   "metadata": {},
   "outputs": [],
   "source": [
    "# Define paths to inputs and outputs\n",
    "input_image = vis_vrt\n",
    "output_dir = r\"./test_data/test_patches/training_samples\"\n",
    "\n",
    "# Define paths to masks\n",
    "segmentation_masks = {\n",
    "    \"new_feature\": r\"./test_data/test_patches/arch/new_feature_segmentation.gpkg\"\n",
    "}\n",
    "\n",
    "# Run create patches\n",
    "create_patches_main(input_image, segmentation_masks, output_dir)"
   ]
  },
  {
   "cell_type": "markdown",
   "id": "5e6c89fc-05cc-4f05-8533-b557e0b509ec",
   "metadata": {},
   "source": [
    "The training data must be divided geographically into training, validation and test subsets. This is not covered by any Python script and must be done at your own discretion. As the split is done geographically, it can be performed before or after processing, i.e:\r\n",
    "\r\n",
    "* slice the DFM raster into appropriate regions and create patches for each group separately,\r\n",
    "* create patches for the entire DFM and split the resulting patches into 3 groups.\r\n",
    "\r\n",
    "It is recommended to split the dataset in an approximate ratio of 60:20:20 (train:validation:test).\r\n"
   ]
  }
 ],
 "metadata": {
  "kernelspec": {
   "display_name": "aitlas",
   "language": "python",
   "name": "aitlas"
  },
  "language_info": {
   "codemirror_mode": {
    "name": "ipython",
    "version": 3
   },
   "file_extension": ".py",
   "mimetype": "text/x-python",
   "name": "python",
   "nbconvert_exporter": "python",
   "pygments_lexer": "ipython3",
   "version": "3.8.19"
  }
 },
 "nbformat": 4,
 "nbformat_minor": 5
}
