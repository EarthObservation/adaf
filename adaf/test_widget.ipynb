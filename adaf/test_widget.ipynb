{
 "cells": [
  {
   "cell_type": "code",
   "execution_count": 1,
   "id": "1384af01-6fed-4cb3-a46f-f5d0d31377ed",
   "metadata": {},
   "outputs": [],
   "source": [
    "from ipywidgets import interact, interactive, fixed, interact_manual, widgets, HBox, Label\n",
    "import rasterio"
   ]
  },
  {
   "cell_type": "code",
   "execution_count": 2,
   "id": "fcff1c03-2ed0-4ed8-a850-26b53d98bdf7",
   "metadata": {},
   "outputs": [],
   "source": [
    "# Define context manager for display output (text box for DEM)\n",
    "output = widgets.Output()"
   ]
  },
  {
   "cell_type": "code",
   "execution_count": 3,
   "id": "ba3ea8a6-f532-4e3b-b7c7-3facb6163241",
   "metadata": {},
   "outputs": [],
   "source": [
    "def mytextfunction(x):\n",
    "    print(x)\n",
    "    return x\n",
    "\n",
    "interactive_text = interactive(mytextfunction, x=\"Hello World\")\n",
    "interactive_text\n",
    "def get_resolution(path):\n",
    "    with rasterio.open(path) as src:\n",
    "        resolution = src.res[0]\n",
    "\n",
    "    return resolution"
   ]
  },
  {
   "cell_type": "code",
   "execution_count": 4,
   "id": "e9a1bc2e-58c3-424f-941c-b4ce6d8ab530",
   "metadata": {},
   "outputs": [
    {
     "data": {
      "application/vnd.jupyter.widget-view+json": {
       "model_id": "528c56484ecd43ae90b4bb226f2d2f98",
       "version_major": 2,
       "version_minor": 0
      },
      "text/plain": [
       "interactive(children=(Text(value='c:\\\\Users\\\\ncoz\\\\GitHub\\\\aitlas-TII-LIDAR\\\\inference\\\\data\\\\archaeology1_TIN…"
      ]
     },
     "metadata": {},
     "output_type": "display_data"
    },
    {
     "data": {
      "text/plain": [
       "<function __main__.get_resolution(path)>"
      ]
     },
     "execution_count": 4,
     "metadata": {},
     "output_type": "execute_result"
    }
   ],
   "source": [
    "interact(get_resolution, path=r\"c:\\Users\\ncoz\\GitHub\\aitlas-TII-LIDAR\\inference\\data\\archaeology1_TIN\\135000_296000_archaeology1_TIN.tif\")"
   ]
  },
  {
   "cell_type": "code",
   "execution_count": 5,
   "id": "97df0f3b-7c62-4c87-8cf6-888709bbe4af",
   "metadata": {},
   "outputs": [
    {
     "data": {
      "application/vnd.jupyter.widget-view+json": {
       "model_id": "29d547023df44850a5111be73547574a",
       "version_major": 2,
       "version_minor": 0
      },
      "text/plain": [
       "interactive(children=(Text(value='Hello World', description='x'), Output()), _dom_classes=('widget-interact',)…"
      ]
     },
     "execution_count": 5,
     "metadata": {},
     "output_type": "execute_result"
    }
   ],
   "source": [
    "def mytextfunction(x):\n",
    "    print(x)\n",
    "    return x\n",
    "\n",
    "interactive_text = interactive(mytextfunction, x=\"Hello World\")\n",
    "interactive_text"
   ]
  },
  {
   "cell_type": "code",
   "execution_count": 6,
   "id": "da6cb845-ae85-4359-9410-58efe85b1723",
   "metadata": {},
   "outputs": [],
   "source": [
    "style = {'description_width': 'initial'}\n",
    "\n",
    "inp1 = widgets.Text(\n",
    "    description='DEM path [*.tif / *.vrt]:',\n",
    "    placeholder=\"data_folder/file.tif\",\n",
    "    layout=widgets.Layout(width='98%'),\n",
    "    style=style,\n",
    "    disabled=False\n",
    "    # layout={'width': 'max-content'}\n",
    "    # value=\"data/ISA-15_Kilkee/ISA-15_Kilkee_dem_05m.vrt\"\n",
    ")"
   ]
  },
  {
   "cell_type": "code",
   "execution_count": 7,
   "id": "713306a6-4e78-4d7f-af9c-bdd72e7c0719",
   "metadata": {},
   "outputs": [],
   "source": [
    "inp2 = widgets.RadioButtons(\n",
    "    options=['object detection', 'segmentation'],\n",
    "    value='segmentation',\n",
    "    # layout={'width': 'max-content'}, # If the items' names are long\n",
    "    description='Select ML method:',\n",
    "    disabled=False\n",
    ")"
   ]
  },
  {
   "cell_type": "code",
   "execution_count": 8,
   "id": "ec2a029a-85d0-4e06-bed8-d041becf04b5",
   "metadata": {
    "scrolled": true
   },
   "outputs": [
    {
     "data": {
      "application/vnd.jupyter.widget-view+json": {
       "model_id": "0b935420319e4cd680741dd41825347e",
       "version_major": 2,
       "version_minor": 0
      },
      "text/plain": [
       "RadioButtons(description='Select ML method:', index=1, options=('object detection', 'segmentation'), value='se…"
      ]
     },
     "metadata": {},
     "output_type": "display_data"
    },
    {
     "data": {
      "application/vnd.jupyter.widget-view+json": {
       "model_id": "c0d820b374d04ddcba49e269975c3e7e",
       "version_major": 2,
       "version_minor": 0
      },
      "text/plain": [
       "Text(value='', description='DEM path [*.tif / *.vrt]:', disabled=True, layout=Layout(width='98%'), placeholder…"
      ]
     },
     "metadata": {},
     "output_type": "display_data"
    }
   ],
   "source": [
    "display(inp2)\n",
    "\n",
    "inp1.disabled=True\n",
    "display(inp1)"
   ]
  },
  {
   "cell_type": "code",
   "execution_count": 9,
   "id": "ae986760-ddb7-488d-99c1-dee09ac3dbbd",
   "metadata": {},
   "outputs": [
    {
     "data": {
      "application/vnd.jupyter.widget-view+json": {
       "model_id": "fc0d159d208642039e45b3f5d1d5ba78",
       "version_major": 2,
       "version_minor": 0
      },
      "text/plain": [
       "Checkbox(value=False, description='What are my traits?')"
      ]
     },
     "metadata": {},
     "output_type": "display_data"
    },
    {
     "data": {
      "application/vnd.jupyter.widget-view+json": {
       "model_id": "1e7a7d7b7ac74192a049d22b5c9c9edc",
       "version_major": 2,
       "version_minor": 0
      },
      "text/plain": [
       "Output()"
      ]
     },
     "metadata": {},
     "output_type": "display_data"
    }
   ],
   "source": [
    "# Instance CHECKBOX\n",
    "checkbox_example = widgets.Checkbox(\n",
    "    value=False,\n",
    "    description='What are my traits?',\n",
    "    disabled=False\n",
    ")\n",
    "\n",
    "# # Instance output\n",
    "# output2 = widgets.Output()\n",
    "\n",
    "# Display both the widget and output in the same place\n",
    "display(checkbox_example, output)\n",
    "\n",
    "# Set up the handler\n",
    "def what_traits_checkbox(value):\n",
    "    output.clear_output()\n",
    "    with output:\n",
    "        print(f\"{value.keys()} this is the output of all the keys\")\n",
    "        print(\"-------------\")\n",
    "        print(f\"{value.values()} this is the output of all the values\")\n",
    "        print(\"-------------\")\n",
    "        \n",
    "checkbox_example.observe(what_traits_checkbox, names = 'value')\n"
   ]
  },
  {
   "cell_type": "code",
   "execution_count": 10,
   "id": "1e4b4e16-b42a-4f68-8165-ab61810be661",
   "metadata": {},
   "outputs": [
    {
     "data": {
      "application/vnd.jupyter.widget-view+json": {
       "model_id": "5b41365d1f434490968014fd3d98ff1d",
       "version_major": 2,
       "version_minor": 0
      },
      "text/plain": [
       "RadioButtons(description='Pizza topping:', options=('pepperoni', 'pineapple', 'anchovies'), value=None)"
      ]
     },
     "metadata": {},
     "output_type": "display_data"
    },
    {
     "data": {
      "application/vnd.jupyter.widget-view+json": {
       "model_id": "0241d4896d6c4ace8c5bca98aff357ca",
       "version_major": 2,
       "version_minor": 0
      },
      "text/plain": [
       "Output()"
      ]
     },
     "metadata": {},
     "output_type": "display_data"
    }
   ],
   "source": [
    "radio_button = widgets.RadioButtons(\n",
    "    options=['pepperoni', 'pineapple', 'anchovies'],\n",
    "    value=None,\n",
    "    description='Pizza topping:',\n",
    "    disabled=False)\n",
    "output3 = widgets.Output()\n",
    "display(radio_button, output3)\n",
    "def what_traits_radio(value):\n",
    "    output3.clear_output()\n",
    "    with output3:\n",
    "        print(f\"{value.keys()} this is the output of all the keys\")\n",
    "        print(\"-------------\")\n",
    "        print(f\"{value.values()} this is the output of all the values\")\n",
    "        print(\"-------------\")\n",
    "radio_button.observe(what_traits_radio, names = 'value')"
   ]
  },
  {
   "cell_type": "code",
   "execution_count": 11,
   "id": "a0f1cbe7-78ca-49e3-ba5a-05fa09add70f",
   "metadata": {},
   "outputs": [
    {
     "data": {
      "application/vnd.jupyter.widget-view+json": {
       "model_id": "3dd99ee72c83446d9c1291d0b128ae74",
       "version_major": 2,
       "version_minor": 0
      },
      "text/plain": [
       "HBox(children=(Label(value='What color is the White House?'),))"
      ]
     },
     "metadata": {},
     "output_type": "display_data"
    },
    {
     "data": {
      "application/vnd.jupyter.widget-view+json": {
       "model_id": "bbf7de9cd723417abee7a97d358c45e1",
       "version_major": 2,
       "version_minor": 0
      },
      "text/plain": [
       "RadioButtons(options=('white', 'tan', 'slate', 'green'), value='white')"
      ]
     },
     "metadata": {},
     "output_type": "display_data"
    },
    {
     "data": {
      "application/vnd.jupyter.widget-view+json": {
       "model_id": "8ebcece5154e4058b488761096109584",
       "version_major": 2,
       "version_minor": 0
      },
      "text/plain": [
       "Output()"
      ]
     },
     "metadata": {},
     "output_type": "display_data"
    }
   ],
   "source": [
    "#What color is the White House?\n",
    "radio_question1 = widgets.RadioButtons(\n",
    "                     options=['white', 'tan', 'slate', 'green'])\n",
    "Q1_question = HBox([Label(\"What color is the White House?\")])\n",
    "Q1_output = widgets.Output()\n",
    "display(Q1_question, radio_question1, Q1_output)\n",
    "def question_one(value):\n",
    "    global counter\n",
    "    Q1_output.clear_output()\n",
    "    with Q1_output:\n",
    "        if value['new'] != 'white':\n",
    "            counter = counter - 1\n",
    "            if counter == 0:\n",
    "                radio_question1.disabled = True\n",
    "            print(f\"Incorrect. Attempts left: {counter}\")\n",
    "            \n",
    "                \n",
    "        else:\n",
    "            print(\"Correct\")\n",
    "            radio_question1.disabled = True\n",
    "            \n",
    "radio_question1.observe(question_one, names = 'value')"
   ]
  },
  {
   "cell_type": "code",
   "execution_count": 12,
   "id": "e4d44e87-e243-43fd-a9ee-2e5f0ab567a8",
   "metadata": {},
   "outputs": [
    {
     "ename": "NameError",
     "evalue": "name 'output4' is not defined",
     "output_type": "error",
     "traceback": [
      "\u001b[1;31m---------------------------------------------------------------------------\u001b[0m",
      "\u001b[1;31mNameError\u001b[0m                                 Traceback (most recent call last)",
      "\u001b[1;32m~\\AppData\\Local\\Temp\\ipykernel_15392\\2916638855.py\u001b[0m in \u001b[0;36m<module>\u001b[1;34m\u001b[0m\n\u001b[0;32m     32\u001b[0m \u001b[1;31m# output4 = widgets.Output()\u001b[0m\u001b[1;33m\u001b[0m\u001b[1;33m\u001b[0m\u001b[1;33m\u001b[0m\u001b[0m\n\u001b[0;32m     33\u001b[0m \u001b[1;33m\u001b[0m\u001b[0m\n\u001b[1;32m---> 34\u001b[1;33m \u001b[1;32mwith\u001b[0m \u001b[0moutput4\u001b[0m\u001b[1;33m:\u001b[0m\u001b[1;33m\u001b[0m\u001b[1;33m\u001b[0m\u001b[0m\n\u001b[0m\u001b[0;32m     35\u001b[0m     \u001b[0mdisplay\u001b[0m\u001b[1;33m(\u001b[0m\u001b[0minp1\u001b[0m\u001b[1;33m,\u001b[0m \u001b[0minp2\u001b[0m\u001b[1;33m)\u001b[0m\u001b[1;33m\u001b[0m\u001b[1;33m\u001b[0m\u001b[0m\n\u001b[0;32m     36\u001b[0m \u001b[1;33m\u001b[0m\u001b[0m\n",
      "\u001b[1;31mNameError\u001b[0m: name 'output4' is not defined"
     ]
    }
   ],
   "source": [
    "# Define TEXT BOX INPUT\n",
    "style = {'description_width': 'initial'}\n",
    "\n",
    "inp1 = widgets.Text(\n",
    "    description='DEM path [*.tif / *.vrt]:',\n",
    "    placeholder=\"data_folder/file.tif\",\n",
    "    layout=widgets.Layout(width='98%'),\n",
    "    style=style,\n",
    "    disabled=False\n",
    "    # layout={'width': 'max-content'}\n",
    "    # value=\"data/ISA-15_Kilkee/ISA-15_Kilkee_dem_05m.vrt\"\n",
    ")\n",
    "\n",
    "inp2 = widgets.Text(\n",
    "    description='Visualizations path [folder]:',\n",
    "    placeholder=\"data_folder\",\n",
    "    layout=widgets.Layout(width='98%'),\n",
    "    style=style,\n",
    "    disabled=True\n",
    "    # layout={'width': 'max-content'}\n",
    "    # value=\"data/ISA-15_Kilkee/ISA-15_Kilkee_dem_05m.vrt\"\n",
    ")\n",
    "\n",
    "# Define radio button\n",
    "radio_button = widgets.RadioButtons(\n",
    "    options=['DEM', 'visualization'],\n",
    "    value=None,\n",
    "    description='Select the input data type:',\n",
    "    disabled=False)\n",
    "\n",
    "# # Define context manager for display output (text box for DEM)\n",
    "# output4 = widgets.Output()\n",
    "\n",
    "with output4:\n",
    "    display(inp1, inp2)\n",
    "\n",
    "display(radio_button, output4)\n",
    "\n",
    "# HANDLER\n",
    "def what_traits_radio(value):\n",
    "    widgets.Output().clear_output()\n",
    "    if value['new'] != 'DEM':\n",
    "        inp1.disabled = True\n",
    "        inp2.disabled = False\n",
    "    else:\n",
    "        inp1.disabled = False\n",
    "        inp2.disabled = True\n",
    "    \n",
    "    with widgets.Output():\n",
    "        display(inp1, inp2)\n",
    "\n",
    "# When radio button trait changes, call the what_traits_radio function\n",
    "radio_button.observe(what_traits_radio, names='value')"
   ]
  },
  {
   "cell_type": "code",
   "execution_count": null,
   "id": "3af7612e-ebb8-42bb-93b8-cb3dee103b4d",
   "metadata": {},
   "outputs": [],
   "source": []
  },
  {
   "cell_type": "code",
   "execution_count": null,
   "id": "0382269c-3175-4ad5-a37a-64bb369cbdb3",
   "metadata": {},
   "outputs": [],
   "source": []
  },
  {
   "cell_type": "code",
   "execution_count": null,
   "id": "1f1aa7f9-bf95-4fbb-916c-b0732c784835",
   "metadata": {},
   "outputs": [],
   "source": []
  },
  {
   "cell_type": "code",
   "execution_count": null,
   "id": "9245f980-4601-4138-b2db-7dfe251e6c1c",
   "metadata": {},
   "outputs": [],
   "source": []
  },
  {
   "cell_type": "code",
   "execution_count": null,
   "id": "4a1e120a-3c4c-43ff-a2e0-30f7afecf739",
   "metadata": {},
   "outputs": [],
   "source": [
    "import ipywidgets as widgets\n",
    "from IPython.display import display\n",
    "import stringcase\n",
    "\n",
    "class DateUI():\n",
    "  \n",
    "    def __init__(self):\n",
    "        self.date_format = 'Relative'\n",
    "        self.date_hbox = None\n",
    "        self.date_format_w = widgets.RadioButtons(\n",
    "                                options=['Relative', 'Calendar'],\n",
    "                                description='Date Format',\n",
    "                                disabled=False\n",
    "                            )\n",
    "        display(self.date_format_w)\n",
    "        self.__instantiate_date_hbox()     \n",
    "        self.date_format_w.observe(self.date_format_change, 'value')\n",
    "        self.start_date_w.observe(self.on_value_change, 'value')\n",
    "        self.end_date_w.observe(self.on_value_change, 'value')\n",
    "        \n",
    "    def on_value_change(self, change): \n",
    "        attr_name = self.__fetch_attr_name(change.owner.description)\n",
    "        setattr(self, attr_name, change.new)\n",
    "    \n",
    "    def date_format_change(self, change):\n",
    "        self.date_format = change.new\n",
    "        self.__instantiate_date_hbox(format=change.new)\n",
    "        \n",
    "    def __fetch_attr_name(self, widget_description):\n",
    "        attr_name = f\"{stringcase.snakecase(widget_description.replace(' ',''))}\"\n",
    "        return attr_name\n",
    "    \n",
    "    def __instantiate_date_hbox(self, format='Relative'):\n",
    "        if self.date_hbox != None:\n",
    "            self.date_hbox.close()\n",
    "        if format == 'Relative':\n",
    "            self.start_date_w = widgets.IntText(\n",
    "                                    value=-7,\n",
    "                                    description='Start Date',\n",
    "                                    disabled=False\n",
    "                                )\n",
    "            self.end_date_w = widgets.IntText(\n",
    "                                    value=0,\n",
    "                                    description='End Date',\n",
    "                                    disabled=False\n",
    "                                )\n",
    "        else:\n",
    "            self.start_date_w = widgets.DatePicker(\n",
    "                                description='Start Date',\n",
    "                                disabled=False\n",
    "                            )      \n",
    "            self.end_date_w = widgets.DatePicker(\n",
    "                                    description='End Date',\n",
    "                                    disabled=False\n",
    "                                )\n",
    "        self.date_hbox = widgets.HBox([self.start_date_w, self.end_date_w])\n",
    "        display(self.date_hbox)\n",
    "    \n",
    "date_ui = DateUI()"
   ]
  },
  {
   "cell_type": "code",
   "execution_count": null,
   "id": "2eecd270-46f7-4a57-8410-80ed5ab775a9",
   "metadata": {},
   "outputs": [],
   "source": [
    "from ipywidgets import widgets"
   ]
  },
  {
   "cell_type": "code",
   "execution_count": null,
   "id": "9427d595-c1dd-4d0a-b6a0-bf96d2de0f8c",
   "metadata": {},
   "outputs": [],
   "source": [
    "a = widgets.Checkbox(\n",
    "    value=True,\n",
    "    description='Check me',\n",
    "    disabled=False,\n",
    "    indent=False\n",
    ")\n",
    "display(a)"
   ]
  },
  {
   "cell_type": "code",
   "execution_count": null,
   "id": "3e0ac493-e7f1-435e-a1c0-e74f6d3c03f3",
   "metadata": {},
   "outputs": [],
   "source": []
  },
  {
   "cell_type": "code",
   "execution_count": null,
   "id": "093f7a52-0c8b-45f6-95df-3066168ffda1",
   "metadata": {},
   "outputs": [],
   "source": [
    "a.keys"
   ]
  },
  {
   "cell_type": "code",
   "execution_count": null,
   "id": "407e67ec-5240-4ca7-bc86-dca838773c6d",
   "metadata": {
    "scrolled": true
   },
   "outputs": [],
   "source": [
    "a.layout.keys"
   ]
  },
  {
   "cell_type": "code",
   "execution_count": null,
   "id": "f77386db-abb7-492a-802f-70b5c5132899",
   "metadata": {},
   "outputs": [],
   "source": [
    "dem_input = widgets.Text(\n",
    "    description='DEM path:',\n",
    "    placeholder=\"<my_data_folder/my_DEM_file.tif>\",\n",
    "    layout=widgets.Layout(width='98%'),\n",
    "    disabled=False\n",
    ")\n",
    "output4 = widgets.Output()\n",
    "with output4:\n",
    "    display(dem_input)"
   ]
  },
  {
   "cell_type": "code",
   "execution_count": null,
   "id": "43beb0d3-04f0-477c-88fb-7d0a7bac43c0",
   "metadata": {},
   "outputs": [],
   "source": [
    "output4"
   ]
  },
  {
   "cell_type": "code",
   "execution_count": null,
   "id": "c6189c72-54de-4ad4-8b08-2830f7b1b496",
   "metadata": {},
   "outputs": [],
   "source": [
    "debug_view = widgets.Output(layout={'border': '1px solid black'})\n",
    "\n",
    "@debug_view.capture(clear_output=True)\n",
    "def bad_callback(event):\n",
    "    print('This is about to explode')\n",
    "    return 1.0 / 0.0\n",
    "\n",
    "button = widgets.Button(\n",
    "    description='click me to raise an exception',\n",
    "    layout={'width': '350px'}\n",
    ")\n",
    "\n",
    "button.on_click(bad_callback)\n",
    "\n",
    "button"
   ]
  },
  {
   "cell_type": "code",
   "execution_count": null,
   "id": "59522bfc-19e2-4a9b-a675-3c00c64ad5df",
   "metadata": {
    "scrolled": true
   },
   "outputs": [],
   "source": [
    "debug_view"
   ]
  },
  {
   "cell_type": "code",
   "execution_count": null,
   "id": "cd25985f-5f6b-4389-89d0-f0f2b2adda57",
   "metadata": {},
   "outputs": [],
   "source": []
  },
  {
   "cell_type": "code",
   "execution_count": null,
   "id": "5ff42b11-a48c-4ed2-84c5-e1811dd9eb97",
   "metadata": {},
   "outputs": [],
   "source": [
    "from IPython.display import display\n",
    "from ipywidgets import Checkbox\n",
    "\n",
    "box = Checkbox(False, description='checker')\n",
    "display(box)\n",
    "\n",
    "def changed(b):\n",
    "    print(b)\n",
    "\n",
    "box.observe(changed)"
   ]
  },
  {
   "cell_type": "code",
   "execution_count": null,
   "id": "d4d9d7c8-1fac-4b58-b139-56abdabc958e",
   "metadata": {},
   "outputs": [],
   "source": []
  },
  {
   "cell_type": "code",
   "execution_count": 82,
   "id": "16c2b859-501c-41c0-8287-1208c8df435d",
   "metadata": {},
   "outputs": [
    {
     "data": {
      "application/vnd.jupyter.widget-view+json": {
       "model_id": "679061def4b2465680e61c6982a13e92",
       "version_major": 2,
       "version_minor": 0
      },
      "text/plain": [
       "HBox(children=(RadioButtons(description='Select input file:', options=('DEM (*.tif / *.vrt)', 'Visualization (…"
      ]
     },
     "metadata": {},
     "output_type": "display_data"
    },
    {
     "data": {
      "application/vnd.jupyter.widget-view+json": {
       "model_id": "dcec4ed4663a4179ae75295023b3c41a",
       "version_major": 2,
       "version_minor": 0
      },
      "text/plain": [
       "Text(value='', description='DEM path:', layout=Layout(width='98%'), placeholder='<my_data_folder/my_DEM_file.t…"
      ]
     },
     "metadata": {},
     "output_type": "display_data"
    },
    {
     "data": {
      "application/vnd.jupyter.widget-view+json": {
       "model_id": "559047d8d0144d52b423344b9513aeb9",
       "version_major": 2,
       "version_minor": 0
      },
      "text/plain": [
       "HTML(value='<b>ML input options:</b>')"
      ]
     },
     "metadata": {},
     "output_type": "display_data"
    }
   ],
   "source": [
    "style = {'description_width': 'initial', 'description_color': 'red'}\n",
    "rb_input_file_options = [\n",
    "    'DEM (*.tif / *.vrt)',\n",
    "    'Visualization (*.tif / *.vrt)'\n",
    "]\n",
    "txt_input_file_placeholders = [\n",
    "    \"<my_data_folder/my_DEM_file.tif>\",\n",
    "    \"<my_data_folder/my_visualization_file.tif>\"    \n",
    "]\n",
    "txt_input_file_descriptions = [\n",
    "    'DEM path:',\n",
    "    'Visualization path:'\n",
    "]\n",
    "\n",
    "rb_input_file = widgets.RadioButtons(\n",
    "    options=rb_input_file_options,\n",
    "    value=rb_input_file_options[0],\n",
    "    description='Select input file:',\n",
    "    disabled=False\n",
    ")\n",
    "\n",
    "txt_input_file = widgets.Text(\n",
    "    description=txt_input_file_descriptions[0],\n",
    "    placeholder=txt_input_file_placeholders[0],\n",
    "    layout=widgets.Layout(width='98%'),\n",
    "    style=style,\n",
    "    disabled=False\n",
    ")\n",
    "\n",
    "chk_batch_process = widgets.Checkbox(\n",
    "    value=False,\n",
    "    description='Batch processing',\n",
    "    disabled=False,\n",
    "    indent=False\n",
    ")\n",
    "\n",
    "\n",
    "# # DEBUGGING\n",
    "# debug_view = widgets.Output(layout={'border': '1px solid black'})\n",
    "# @debug_view.capture(clear_output=True)\n",
    "def rb_input_file_handler(value):\n",
    "    # # DEBUGGING\n",
    "    # print(\"RB:\", rb_input_file.index)\n",
    "    # print(\"CHK:\", chk_batch_process.value)\n",
    "    \n",
    "    # Clear any taxt that was inserted by user\n",
    "    txt_input_file.value = \"\"\n",
    "\n",
    "    # 0 for DEM, 1 for VIS \n",
    "    rb_idx = rb_input_file.index\n",
    "    \n",
    "    if chk_batch_process.value:\n",
    "        # BAtch processing is enabled, chnage placeholder to TXT\n",
    "        txt_input_file.description = txt_input_file_descriptions[rb_idx]\n",
    "        txt_input_file.placeholder = \"<list of paths in TXT file!>\"\n",
    "    else:\n",
    "        # Select DEM or VIS based on RB selection\n",
    "        txt_input_file.description = txt_input_file_descriptions[rb_idx]\n",
    "        txt_input_file.placeholder = txt_input_file_placeholders[rb_idx]\n",
    "\n",
    "\n",
    "rb_input_file.observe(rb_input_file_handler)\n",
    "chk_batch_process.observe(rb_input_file_handler)\n",
    "\n",
    "display(\n",
    "    widgets.HBox([rb_input_file, chk_batch_process]),\n",
    "    txt_input_file,\n",
    "    widgets.HTML(value = f\"<b>ML input options:</b>\")\n",
    ")"
   ]
  },
  {
   "cell_type": "code",
   "execution_count": 75,
   "id": "cda57f09-c012-4890-92cd-8ebab1f91874",
   "metadata": {},
   "outputs": [
    {
     "data": {
      "application/vnd.jupyter.widget-view+json": {
       "model_id": "3a26a3d230ab4781aa33d235d4f74ec4",
       "version_major": 2,
       "version_minor": 0
      },
      "text/plain": [
       "Output(layout=Layout(border_bottom='1px solid black', border_left='1px solid black', border_right='1px solid b…"
      ]
     },
     "execution_count": 75,
     "metadata": {},
     "output_type": "execute_result"
    }
   ],
   "source": [
    "debug_view"
   ]
  },
  {
   "cell_type": "code",
   "execution_count": 32,
   "id": "7143a4a8-cfa6-47c4-8473-7e01982cff27",
   "metadata": {},
   "outputs": [
    {
     "name": "stdout",
     "output_type": "stream",
     "text": [
      "Setup a handler to be called when a trait changes.\n",
      "\n",
      "        This is used to setup dynamic notifications of trait changes.\n",
      "\n",
      "        Parameters\n",
      "        ----------\n",
      "        handler : callable\n",
      "            A callable that is called when a trait changes. Its\n",
      "            signature should be ``handler(change)``, where ``change`` is a\n",
      "            dictionary. The change dictionary at least holds a 'type' key.\n",
      "            * ``type``: the type of notification.\n",
      "            Other keys may be passed depending on the value of 'type'. In the\n",
      "            case where type is 'change', we also have the following keys:\n",
      "            * ``owner`` : the HasTraits instance\n",
      "            * ``old`` : the old value of the modified trait attribute\n",
      "            * ``new`` : the new value of the modified trait attribute\n",
      "            * ``name`` : the name of the modified trait attribute.\n",
      "        names : list, str, All\n",
      "            If names is All, the handler will apply to all traits.  If a list\n",
      "            of str, handler will apply to all names in the list.  If a\n",
      "            str, the handler will apply just to that name.\n",
      "        type : str, All (default: 'change')\n",
      "            The type of notification to filter by. If equal to All, then all\n",
      "            notifications are passed to the observe handler.\n",
      "        \n"
     ]
    }
   ],
   "source": [
    "print(widgets.Widget.observe.__doc__)"
   ]
  },
  {
   "cell_type": "code",
   "execution_count": 123,
   "id": "16f38af3-061c-4f5f-a6bd-7734b0a4c6aa",
   "metadata": {},
   "outputs": [
    {
     "data": {
      "application/vnd.jupyter.widget-view+json": {
       "model_id": "40a9473c1ba648c9a50601564184c45f",
       "version_major": 2,
       "version_minor": 0
      },
      "text/plain": [
       "HTML(value='<b>ML options:</b>')"
      ]
     },
     "metadata": {},
     "output_type": "display_data"
    },
    {
     "data": {
      "application/vnd.jupyter.widget-view+json": {
       "model_id": "94eee115fd3e42a484c8ad5f3972c75f",
       "version_major": 2,
       "version_minor": 0
      },
      "text/plain": [
       "VBox(children=(HBox(children=(RadioButtons(description='Select ML method:', index=1, options=('object detectio…"
      ]
     },
     "metadata": {},
     "output_type": "display_data"
    }
   ],
   "source": [
    "# ~~~~~~~~~~~~~~~~~~~~~~~~ ML SETTINGS ~~~~~~~~~~~~~~~~~~~~~~~~\n",
    "inp2 = widgets.RadioButtons(\n",
    "    options=['object detection', 'segmentation'],\n",
    "    value='segmentation',\n",
    "    # layout={'width': 'max-content'}, # If the items' names are long\n",
    "    description='Select ML method:',\n",
    "    disabled=False\n",
    ")\n",
    "\n",
    "# Checkboxes for classes\n",
    "class_barrow = widgets.Checkbox(\n",
    "    value=True,\n",
    "    description='Barrow',\n",
    "    disabled=False,\n",
    "    indent=False\n",
    ")\n",
    "\n",
    "class_ringfort = widgets.Checkbox(\n",
    "    value=True,\n",
    "    description='Ringfort',\n",
    "    disabled=False,\n",
    "    indent=False\n",
    ")\n",
    "\n",
    "class_enclosure = widgets.Checkbox(\n",
    "    value=True,\n",
    "    description='Enclosure',\n",
    "    disabled=False,\n",
    "    indent=False\n",
    ")\n",
    "\n",
    "class_all_archaeology = widgets.Checkbox(\n",
    "    value=False,\n",
    "    description='All archaeology',\n",
    "    disabled=False,\n",
    "    indent=False\n",
    ")\n",
    "\n",
    "# ~~~~~~~~~~~~~~~~~~~~~~~~ Custom ML model ~~~~~~~~~~~~~~~~~~~~~~~~\n",
    "\n",
    "rb_ml_switch = widgets.RadioButtons(\n",
    "    options=['ADAF model', 'Custom model'],\n",
    "    value='ADAF model',\n",
    "    # layout={'width': 'max-content'}, # If the items' names are long\n",
    "    description='Select ML model:',\n",
    "    disabled=False\n",
    ")\n",
    "\n",
    "inp3 = widgets.Text(\n",
    "    description='Path to ML model [*.tar]:',\n",
    "    placeholder=\"model_folder/saved_model.tar\",\n",
    "    style=style,\n",
    "    layout=widgets.Layout(width='98%')\n",
    ")\n",
    "\n",
    "debug_view = widgets.Output(layout={'border': '1px solid black'})\n",
    "@debug_view.capture(clear_output=True)\n",
    "def ml_method_handler(value):\n",
    "    print(value.new)\n",
    "    \n",
    "    # 0 for ADAF model, 1 for Custom model\n",
    "    if value.new == 0:\n",
    "        class_barrow.disabled = False\n",
    "        class_ringfort.disabled = False\n",
    "        class_enclosure.disabled = False\n",
    "        class_all_archaeology.disabled = False\n",
    "        inp3.disabled = True\n",
    "    elif value.new == 1:\n",
    "        class_barrow.disabled = True\n",
    "        class_ringfort.disabled = True\n",
    "        class_enclosure.disabled = True\n",
    "        class_all_archaeology.disabled = True\n",
    "        inp3.disabled = False\n",
    "\n",
    "\n",
    "# When radio button trait changes, call the what_traits_radio function\n",
    "rb_ml_switch.observe(ml_method_handler, names=\"index\")\n",
    "\n",
    "# The classes sub-group\n",
    "cl = widgets.Label(\"Select classes for inference:\")\n",
    "classes_box = widgets.HBox([class_barrow, class_ringfort, class_enclosure, class_all_archaeology])\n",
    "ml_methods_row = widgets.HBox([inp2, rb_ml_switch])\n",
    "\n",
    "# This controls the overall display elements\n",
    "display(\n",
    "    widgets.HTML(value=\"<b>ML options:</b>\"),\n",
    "    widgets.VBox([ml_methods_row, cl, classes_box, inp3]),\n",
    ")"
   ]
  },
  {
   "cell_type": "code",
   "execution_count": 91,
   "id": "8d0559bc-8cee-4148-b2a9-3aefc8185b01",
   "metadata": {},
   "outputs": [
    {
     "data": {
      "application/vnd.jupyter.widget-view+json": {
       "model_id": "c17ab1eb62b94e7c82dd8ab49f253b41",
       "version_major": 2,
       "version_minor": 0
      },
      "text/plain": [
       "Output(layout=Layout(border_bottom='1px solid black', border_left='1px solid black', border_right='1px solid b…"
      ]
     },
     "execution_count": 91,
     "metadata": {},
     "output_type": "execute_result"
    }
   ],
   "source": [
    "debug_view"
   ]
  },
  {
   "cell_type": "code",
   "execution_count": 112,
   "id": "a30f5634-da83-4141-8548-e76d2a0533f8",
   "metadata": {},
   "outputs": [
    {
     "name": "stdout",
     "output_type": "stream",
     "text": [
      "Layout specification\n",
      "\n",
      "    Defines a layout that can be expressed using CSS.  Supports a subset of\n",
      "    https://developer.mozilla.org/en-US/docs/Web/CSS/Reference\n",
      "\n",
      "    When a property is also accessible via a shorthand property, we only\n",
      "    expose the shorthand.\n",
      "\n",
      "    For example:\n",
      "    - ``flex-grow``, ``flex-shrink`` and ``flex-basis`` are bound to ``flex``.\n",
      "    - ``flex-wrap`` and ``flex-direction`` are bound to ``flex-flow``.\n",
      "    - ``margin-[top/bottom/left/right]`` values are bound to ``margin``, etc.\n",
      "    \n"
     ]
    }
   ],
   "source": [
    "print(widgets.Text().layout.__doc__)"
   ]
  },
  {
   "cell_type": "code",
   "execution_count": 126,
   "id": "4a300f88-30d8-4c4c-9ea5-f5ebadf9ba63",
   "metadata": {},
   "outputs": [
    {
     "data": {
      "text/plain": [
       "'C:\\\\Users\\\\ncoz\\\\GitHub\\\\aitlas-TII-LIDAR\\\\adaf'"
      ]
     },
     "execution_count": 126,
     "metadata": {},
     "output_type": "execute_result"
    }
   ],
   "source": [
    "import os\n",
    "os.getcwd()"
   ]
  }
 ],
 "metadata": {
  "kernelspec": {
   "display_name": "aitlas-tii",
   "language": "python",
   "name": "aitlas-tii"
  },
  "language_info": {
   "codemirror_mode": {
    "name": "ipython",
    "version": 3
   },
   "file_extension": ".py",
   "mimetype": "text/x-python",
   "name": "python",
   "nbconvert_exporter": "python",
   "pygments_lexer": "ipython3",
   "version": "3.8.17"
  },
  "widgets": {
   "application/vnd.jupyter.widget-state+json": {
    "state": {
     "0006a16f1c20453a896cf2f0c5041170": {
      "model_module": "@jupyter-widgets/controls",
      "model_module_version": "2.0.0",
      "model_name": "HTMLStyleModel",
      "state": {
       "description_width": "",
       "font_size": null,
       "text_color": null
      }
     },
     "0022b1bac9514246a68a83b381c88c8f": {
      "model_module": "@jupyter-widgets/controls",
      "model_module_version": "2.0.0",
      "model_name": "CheckboxModel",
      "state": {
       "description": "Ringfort",
       "disabled": false,
       "indent": false,
       "layout": "IPY_MODEL_24008f256a764e3d9c01e226fb101409",
       "style": "IPY_MODEL_586cead846b344f0bb3c78ed85a0b111",
       "value": true
      }
     },
     "005540dfa5b14fef8201f033004bb500": {
      "model_module": "@jupyter-widgets/controls",
      "model_module_version": "2.0.0",
      "model_name": "CheckboxModel",
      "state": {
       "description": "Barrow",
       "disabled": false,
       "indent": false,
       "layout": "IPY_MODEL_1407aa6ff22f46c68b3a6f76b3f1bad5",
       "style": "IPY_MODEL_ee4c880b0d634cb5806cce7070504112",
       "value": true
      }
     },
     "008fba09487647b58bbb06343828c668": {
      "model_module": "@jupyter-widgets/base",
      "model_module_version": "2.0.0",
      "model_name": "LayoutModel",
      "state": {
       "border_bottom": "1px solid black",
       "border_left": "1px solid black",
       "border_right": "1px solid black",
       "border_top": "1px solid black"
      }
     },
     "00abe3fee52c419e99cfa365af3e7345": {
      "model_module": "@jupyter-widgets/controls",
      "model_module_version": "2.0.0",
      "model_name": "TextStyleModel",
      "state": {
       "description_width": "initial",
       "font_size": null,
       "text_color": null
      }
     },
     "00b8255134b24a4389bb7a2ac1e74aa4": {
      "model_module": "@jupyter-widgets/controls",
      "model_module_version": "2.0.0",
      "model_name": "TextModel",
      "state": {
       "description": "DEM path:",
       "layout": "IPY_MODEL_cb51c3aa95a94f448f927c6e600054a3",
       "placeholder": "<my_data_folder/my_DEM_file.tif>",
       "style": "IPY_MODEL_93b9c63e73bb4487af0550a0f3aa4cd5"
      }
     },
     "00ec214393564e71a69bc4f5251c32cf": {
      "model_module": "@jupyter-widgets/base",
      "model_module_version": "2.0.0",
      "model_name": "LayoutModel",
      "state": {}
     },
     "0113ae48e17b44a99ffbdaa485fd2761": {
      "model_module": "@jupyter-widgets/controls",
      "model_module_version": "2.0.0",
      "model_name": "LabelStyleModel",
      "state": {
       "description_width": "",
       "font_family": null,
       "font_size": null,
       "font_style": null,
       "font_variant": null,
       "font_weight": null,
       "text_color": null,
       "text_decoration": null
      }
     },
     "012c59ebda44445c82bd939b4b7d64a6": {
      "model_module": "@jupyter-widgets/base",
      "model_module_version": "2.0.0",
      "model_name": "LayoutModel",
      "state": {}
     },
     "0145402d2c414932946cb0730301a654": {
      "model_module": "@jupyter-widgets/base",
      "model_module_version": "2.0.0",
      "model_name": "LayoutModel",
      "state": {
       "width": "98%"
      }
     },
     "0149473ae1fd4283a8cb6d4d51057c2c": {
      "model_module": "@jupyter-widgets/controls",
      "model_module_version": "2.0.0",
      "model_name": "RadioButtonsModel",
      "state": {
       "_options_labels": [
        "ADAF model",
        "Custom model"
       ],
       "description": "Select ML model:",
       "index": 0,
       "layout": "IPY_MODEL_3a6726273b384dcbb673131c077476e6",
       "style": "IPY_MODEL_ce06d0f17ad248ebb693e8e828c1c800"
      }
     },
     "015a0e804ec24631931fc39977df954d": {
      "model_module": "@jupyter-widgets/controls",
      "model_module_version": "2.0.0",
      "model_name": "HTMLModel",
      "state": {
       "layout": "IPY_MODEL_b14922f2f43d410da37d4a4c5df4bdc6",
       "style": "IPY_MODEL_c54096cc60cc4c79a3318d2a65919a5c",
       "value": "<b>ML options:</b>"
      }
     },
     "01995b8c5be84944af69c37d0721a57d": {
      "model_module": "@jupyter-widgets/controls",
      "model_module_version": "2.0.0",
      "model_name": "HTMLModel",
      "state": {
       "layout": "IPY_MODEL_285e542c576a4b97838b2fa7aa94916e",
       "style": "IPY_MODEL_2a26a2e41f4649c8ade93898e08a7651",
       "value": "<font color='grey'>Select classes for inference:"
      }
     },
     "01a4b26309934e2eba36f5c465ea8ec0": {
      "model_module": "@jupyter-widgets/controls",
      "model_module_version": "2.0.0",
      "model_name": "CheckboxModel",
      "state": {
       "description": "Batch processing",
       "disabled": false,
       "indent": false,
       "layout": "IPY_MODEL_91f84d4e84ad4e049d3595ae2f83a759",
       "style": "IPY_MODEL_53a68d4664a2461db42e94f60f3c4734",
       "value": false
      }
     },
     "01aace9d3e9147518e869b8e069a6890": {
      "model_module": "@jupyter-widgets/base",
      "model_module_version": "2.0.0",
      "model_name": "LayoutModel",
      "state": {}
     },
     "01b2d7bfa7f74526bc0a5ec87522c3d7": {
      "model_module": "@jupyter-widgets/controls",
      "model_module_version": "2.0.0",
      "model_name": "CheckboxStyleModel",
      "state": {
       "description_width": ""
      }
     },
     "01d7e5e482ff49b8a03e21e53202ca17": {
      "model_module": "@jupyter-widgets/controls",
      "model_module_version": "2.0.0",
      "model_name": "TextModel",
      "state": {
       "description": "Visualization path:",
       "disabled": true,
       "layout": "IPY_MODEL_9406cc6a3cc642f5892c6de8d6517d24",
       "placeholder": "<my_data_folder/my_visualization_file.tif>",
       "style": "IPY_MODEL_99bef9ca65954764a42b7439b4c6eb78"
      }
     },
     "02213521ada842cba2f007082adb12b8": {
      "model_module": "@jupyter-widgets/controls",
      "model_module_version": "2.0.0",
      "model_name": "HBoxModel",
      "state": {
       "children": [
        "IPY_MODEL_baf649f4440e4be6abfb169e189309ea",
        "IPY_MODEL_2bbb104bba1d49ec8810200441bfa099"
       ],
       "layout": "IPY_MODEL_a3d278439fef4974b9d2a1ab9b3bee06"
      }
     },
     "02296bd481d740308ef85ef76e032dab": {
      "model_module": "@jupyter-widgets/base",
      "model_module_version": "2.0.0",
      "model_name": "LayoutModel",
      "state": {}
     },
     "0229c0807c37478184bf9ca9b62e444a": {
      "model_module": "@jupyter-widgets/base",
      "model_module_version": "2.0.0",
      "model_name": "LayoutModel",
      "state": {}
     },
     "02362c11aec044afb9255477ff7b1bcc": {
      "model_module": "@jupyter-widgets/base",
      "model_module_version": "2.0.0",
      "model_name": "LayoutModel",
      "state": {}
     },
     "0241d4896d6c4ace8c5bca98aff357ca": {
      "model_module": "@jupyter-widgets/output",
      "model_module_version": "1.0.0",
      "model_name": "OutputModel",
      "state": {
       "layout": "IPY_MODEL_aa876a03132c4340bd1d8226039e21ca"
      }
     },
     "026438f4ef5943aea3d15e830907934f": {
      "model_module": "@jupyter-widgets/output",
      "model_module_version": "1.0.0",
      "model_name": "OutputModel",
      "state": {
       "layout": "IPY_MODEL_012c59ebda44445c82bd939b4b7d64a6",
       "outputs": [
        {
         "data": {
          "application/vnd.jupyter.widget-view+json": {
           "model_id": "760c28e45c4c422584b1a5943829329b",
           "version_major": 2,
           "version_minor": 0
          },
          "text/plain": "Text(value='', description='DEM path:', layout=Layout(width='98%'), placeholder='<my_data_folder/my_DEM_file.t…"
         },
         "metadata": {},
         "output_type": "display_data"
        }
       ]
      }
     },
     "0290210b1d0145c99684690a7cb96e95": {
      "model_module": "@jupyter-widgets/controls",
      "model_module_version": "2.0.0",
      "model_name": "CheckboxStyleModel",
      "state": {
       "description_width": ""
      }
     },
     "030216b3f5894053ad72e42a1952059b": {
      "model_module": "@jupyter-widgets/controls",
      "model_module_version": "2.0.0",
      "model_name": "RadioButtonsModel",
      "state": {
       "_options_labels": [
        "DEM (*.tif / *.vrt)",
        "Visualization (*.tif / *.vrt)"
       ],
       "description": "Select input file:",
       "index": 1,
       "layout": "IPY_MODEL_9d81562e77e440ab8cb34066b218710f",
       "style": "IPY_MODEL_eacd4ab8ca3d45868da492173d80d82d"
      }
     },
     "03244aa2137b4f3b9a74a7d298fe5c78": {
      "model_module": "@jupyter-widgets/controls",
      "model_module_version": "2.0.0",
      "model_name": "CheckboxModel",
      "state": {
       "description": "Ringfort",
       "disabled": false,
       "indent": false,
       "layout": "IPY_MODEL_26cecabc437d4143a47ba827eddeb19c",
       "style": "IPY_MODEL_c5ff1820db3543a189e797c8ab6985c0",
       "value": true
      }
     },
     "035ecb96c0004bfd8d3c74295f9cf97a": {
      "model_module": "@jupyter-widgets/base",
      "model_module_version": "2.0.0",
      "model_name": "LayoutModel",
      "state": {
       "width": "98%"
      }
     },
     "0399458db28d4e839aaaaa9763000f25": {
      "model_module": "@jupyter-widgets/controls",
      "model_module_version": "2.0.0",
      "model_name": "TextModel",
      "state": {
       "description": "DEM path:",
       "layout": "IPY_MODEL_ba16ab7b944e4617851aeb4f7eb26641",
       "placeholder": "<my_data_folder/my_DEM_file.tif>",
       "style": "IPY_MODEL_f7e30b2f453a4fcca2fb9089b97024f7"
      }
     },
     "03a983f336bf43ec879e372c021de0bb": {
      "model_module": "@jupyter-widgets/controls",
      "model_module_version": "2.0.0",
      "model_name": "CheckboxStyleModel",
      "state": {
       "description_width": ""
      }
     },
     "03ea0ef7474444e1ad0254172767ac6d": {
      "model_module": "@jupyter-widgets/controls",
      "model_module_version": "2.0.0",
      "model_name": "CheckboxStyleModel",
      "state": {
       "description_width": ""
      }
     },
     "04283ff03ec94bcbb8536a26197c954e": {
      "model_module": "@jupyter-widgets/controls",
      "model_module_version": "2.0.0",
      "model_name": "CheckboxModel",
      "state": {
       "description": "All archaeology",
       "disabled": false,
       "indent": false,
       "layout": "IPY_MODEL_dbf41b8ba6b04c92a217edea11256171",
       "style": "IPY_MODEL_eff588b64eec4847ae4c6742e69da480",
       "value": false
      }
     },
     "046022ec90ad4b78b25cefd3cf06580f": {
      "model_module": "@jupyter-widgets/base",
      "model_module_version": "2.0.0",
      "model_name": "LayoutModel",
      "state": {}
     },
     "046176ef7be44e53af937d13f06af6ca": {
      "model_module": "@jupyter-widgets/controls",
      "model_module_version": "2.0.0",
      "model_name": "CheckboxStyleModel",
      "state": {
       "description_width": ""
      }
     },
     "0499f2063dad4f92ab6864d5920328dd": {
      "model_module": "@jupyter-widgets/base",
      "model_module_version": "2.0.0",
      "model_name": "LayoutModel",
      "state": {}
     },
     "04e8ece2603f495c9c038a158df463b8": {
      "model_module": "@jupyter-widgets/controls",
      "model_module_version": "2.0.0",
      "model_name": "DescriptionStyleModel",
      "state": {
       "description_width": ""
      }
     },
     "0525806bf8e346e28b51f28c714b14b6": {
      "model_module": "@jupyter-widgets/base",
      "model_module_version": "2.0.0",
      "model_name": "LayoutModel",
      "state": {}
     },
     "05f59fe5465a4c7993c1a589f9d10421": {
      "model_module": "@jupyter-widgets/base",
      "model_module_version": "2.0.0",
      "model_name": "LayoutModel",
      "state": {}
     },
     "05fd5cd721874e55b4f15c15f9e24160": {
      "model_module": "@jupyter-widgets/controls",
      "model_module_version": "2.0.0",
      "model_name": "CheckboxModel",
      "state": {
       "description": "Enclosure",
       "disabled": false,
       "indent": false,
       "layout": "IPY_MODEL_c02f5baa0c724610bb81a42a52d71d16",
       "style": "IPY_MODEL_6859302959334e49b95d8e14ac4291a7",
       "value": true
      }
     },
     "06046886b3454879882504090862894c": {
      "model_module": "@jupyter-widgets/controls",
      "model_module_version": "2.0.0",
      "model_name": "LabelStyleModel",
      "state": {
       "description_width": "",
       "font_family": null,
       "font_size": null,
       "font_style": null,
       "font_variant": null,
       "font_weight": null,
       "text_color": null,
       "text_decoration": null
      }
     },
     "0607d551f4d947faad61891c46f0e613": {
      "model_module": "@jupyter-widgets/controls",
      "model_module_version": "2.0.0",
      "model_name": "DescriptionStyleModel",
      "state": {
       "description_width": ""
      }
     },
     "061451c442e547459bf1e769db5a0574": {
      "model_module": "@jupyter-widgets/controls",
      "model_module_version": "2.0.0",
      "model_name": "TextStyleModel",
      "state": {
       "description_width": "initial",
       "font_size": null,
       "text_color": null
      }
     },
     "063b31f812914c0696586b03acb8804c": {
      "model_module": "@jupyter-widgets/controls",
      "model_module_version": "2.0.0",
      "model_name": "CheckboxStyleModel",
      "state": {
       "description_width": ""
      }
     },
     "069ab14b59884bea979841e93bc3f3e5": {
      "model_module": "@jupyter-widgets/base",
      "model_module_version": "2.0.0",
      "model_name": "LayoutModel",
      "state": {}
     },
     "06c784a2f99a43879e8af3b5cda90eab": {
      "model_module": "@jupyter-widgets/base",
      "model_module_version": "2.0.0",
      "model_name": "LayoutModel",
      "state": {
       "width": "98%"
      }
     },
     "06cf95a7e34b402490ddd592539eaed6": {
      "model_module": "@jupyter-widgets/controls",
      "model_module_version": "2.0.0",
      "model_name": "HTMLStyleModel",
      "state": {
       "description_width": "",
       "font_size": null,
       "text_color": null
      }
     },
     "06eba926911f4cad974432bc28494335": {
      "model_module": "@jupyter-widgets/controls",
      "model_module_version": "2.0.0",
      "model_name": "RadioButtonsModel",
      "state": {
       "_options_labels": [
        "ADAF model",
        "Custom model"
       ],
       "description": "Select ML model:",
       "index": 1,
       "layout": "IPY_MODEL_913418236c004419a374783255f6896c",
       "style": "IPY_MODEL_569d2d7e4c8e48538f7ddad97ba4f7d0"
      }
     },
     "07121ca477524330b0bb5f80e83753f0": {
      "model_module": "@jupyter-widgets/controls",
      "model_module_version": "2.0.0",
      "model_name": "LabelModel",
      "state": {
       "layout": "IPY_MODEL_5ac89e912e074e03bc0ae98d6b5caece",
       "style": "IPY_MODEL_61c6bc252a7a488daeb78a0e3aa7f5ee",
       "value": "Select classes for inference:"
      }
     },
     "071c76d5c7ec4eafa12c7b30ad404d0b": {
      "model_module": "@jupyter-widgets/controls",
      "model_module_version": "2.0.0",
      "model_name": "CheckboxStyleModel",
      "state": {
       "description_width": ""
      }
     },
     "071f1b5ab83e49569e03c69c2a0e6df8": {
      "model_module": "@jupyter-widgets/controls",
      "model_module_version": "2.0.0",
      "model_name": "CheckboxModel",
      "state": {
       "description": "Barrow",
       "disabled": false,
       "indent": false,
       "layout": "IPY_MODEL_ee4bee64399544ffb08ef2af702afa46",
       "style": "IPY_MODEL_6e53b0c8259244a28b046d374447ebef",
       "value": true
      }
     },
     "073c1438c5464aadabbaba024d3e15db": {
      "model_module": "@jupyter-widgets/output",
      "model_module_version": "1.0.0",
      "model_name": "OutputModel",
      "state": {
       "layout": "IPY_MODEL_da952a784811485fbbc11ad8ed7333e5",
       "outputs": [
        {
         "name": "stdout",
         "output_type": "stream",
         "text": "0\n"
        }
       ]
      }
     },
     "074b77b78ed847ff90c396af227e0688": {
      "model_module": "@jupyter-widgets/base",
      "model_module_version": "2.0.0",
      "model_name": "LayoutModel",
      "state": {
       "width": "98%"
      }
     },
     "07b1224a57024726a280cee4f1d111b1": {
      "model_module": "@jupyter-widgets/controls",
      "model_module_version": "2.0.0",
      "model_name": "CheckboxStyleModel",
      "state": {
       "description_width": ""
      }
     },
     "07c139b6beda41a6af1bc42982f48d29": {
      "model_module": "@jupyter-widgets/base",
      "model_module_version": "2.0.0",
      "model_name": "LayoutModel",
      "state": {}
     },
     "085474e33e6c485fbfecbba277d383a2": {
      "model_module": "@jupyter-widgets/base",
      "model_module_version": "2.0.0",
      "model_name": "LayoutModel",
      "state": {}
     },
     "0863ce7f0b4c4b40b61c2f21c6c5ba9c": {
      "model_module": "@jupyter-widgets/controls",
      "model_module_version": "2.0.0",
      "model_name": "CheckboxStyleModel",
      "state": {
       "description_width": ""
      }
     },
     "08666b82db074d2b95c8513df625d60d": {
      "model_module": "@jupyter-widgets/controls",
      "model_module_version": "2.0.0",
      "model_name": "HBoxModel",
      "state": {
       "children": [
        "IPY_MODEL_ba1b66a155f1454a95d1393ae978ba94",
        "IPY_MODEL_b40f630215ca4524866d63b3ef5fb5cf"
       ],
       "layout": "IPY_MODEL_8b017e3f846e444fb814809712a06ab9"
      }
     },
     "08673cbad59f4c2fbfd013114edd1777": {
      "model_module": "@jupyter-widgets/controls",
      "model_module_version": "2.0.0",
      "model_name": "HTMLModel",
      "state": {
       "layout": "IPY_MODEL_4b2407c94204422faea1865d07745bb9",
       "style": "IPY_MODEL_19bd5dfccfd34bf28245311adb9a3e7d",
       "value": "<font color='black'>Select classes for inference:"
      }
     },
     "0899471a4e26407a92028a566bd76008": {
      "model_module": "@jupyter-widgets/controls",
      "model_module_version": "2.0.0",
      "model_name": "DescriptionStyleModel",
      "state": {
       "description_width": ""
      }
     },
     "08ad96b6ee1e4f50bfd490d3211da5d3": {
      "model_module": "@jupyter-widgets/controls",
      "model_module_version": "2.0.0",
      "model_name": "LabelModel",
      "state": {
       "layout": "IPY_MODEL_223aee54fc7141028be2740851d1df71",
       "style": "IPY_MODEL_0113ae48e17b44a99ffbdaa485fd2761",
       "value": "Path to ML model [*.tar]:"
      }
     },
     "08d1f0ed7594472f971e2982eb5fce91": {
      "model_module": "@jupyter-widgets/controls",
      "model_module_version": "2.0.0",
      "model_name": "HTMLModel",
      "state": {
       "layout": "IPY_MODEL_b1032b5019c64c34b79662a6d9894287",
       "style": "IPY_MODEL_f1f037c092834c70ae27f6ab645c2d3b",
       "value": "<font color='black'>Select classes for inference:"
      }
     },
     "08ff4de2fe6940338d166f2c4c59a59a": {
      "model_module": "@jupyter-widgets/base",
      "model_module_version": "2.0.0",
      "model_name": "LayoutModel",
      "state": {}
     },
     "0956b96d8b3543c191ef521ee0e7f1f9": {
      "model_module": "@jupyter-widgets/base",
      "model_module_version": "2.0.0",
      "model_name": "LayoutModel",
      "state": {}
     },
     "096552493e70468bb5458dca0ad73488": {
      "model_module": "@jupyter-widgets/controls",
      "model_module_version": "2.0.0",
      "model_name": "HBoxModel",
      "state": {
       "children": [
        "IPY_MODEL_ce9ba4277b0f417faba104d48db5a554",
        "IPY_MODEL_74a2824824014c0b8615f23fda6236b7"
       ],
       "layout": "IPY_MODEL_7d2412b81f114d988252ea758ccf0755"
      }
     },
     "0993d20b83bf49a09949c28b35065e58": {
      "model_module": "@jupyter-widgets/controls",
      "model_module_version": "2.0.0",
      "model_name": "HBoxModel",
      "state": {
       "children": [
        "IPY_MODEL_3b89953dd1954c54bb7c907d522edd1d",
        "IPY_MODEL_9ccc7f8bfce142c99be2e0257555a631",
        "IPY_MODEL_4bb2966ecf4d4ee7a84dc62930915b2b",
        "IPY_MODEL_a4a9074944354459ac6b2dec705f3116"
       ],
       "layout": "IPY_MODEL_7582f7d7002f4b978932ff65da51c14a"
      }
     },
     "099dfb1c1ac84cf2b93675bd20282614": {
      "model_module": "@jupyter-widgets/base",
      "model_module_version": "2.0.0",
      "model_name": "LayoutModel",
      "state": {}
     },
     "09b53612028947c59a305b87c94c6f29": {
      "model_module": "@jupyter-widgets/controls",
      "model_module_version": "2.0.0",
      "model_name": "HBoxModel",
      "state": {
       "children": [
        "IPY_MODEL_be0eb0e762584261af28014926ad0a82",
        "IPY_MODEL_aa9e1b698f1d4e9f965c50c52e8dfaff"
       ],
       "layout": "IPY_MODEL_c53d055eaa1144989c8805f979c92070"
      }
     },
     "09e2fdb6685d46aeb0e50a13db16ed6a": {
      "model_module": "@jupyter-widgets/controls",
      "model_module_version": "2.0.0",
      "model_name": "HTMLStyleModel",
      "state": {
       "description_width": "",
       "font_size": null,
       "text_color": null
      }
     },
     "0a14c90be2e6417094d337f4bffca666": {
      "model_module": "@jupyter-widgets/controls",
      "model_module_version": "2.0.0",
      "model_name": "TextModel",
      "state": {
       "description": "Visualization path:",
       "disabled": true,
       "layout": "IPY_MODEL_4a443ad11c9d46028156ea4fa8bec855",
       "placeholder": "<my_data_folder/my_visualization_file.tif>",
       "style": "IPY_MODEL_c8a89b8df37d4944818a64ae30ff0477"
      }
     },
     "0a50130230014d35923ed2d9935432be": {
      "model_module": "@jupyter-widgets/base",
      "model_module_version": "2.0.0",
      "model_name": "LayoutModel",
      "state": {}
     },
     "0a7615c630de40baa7c2ae9d534e2cec": {
      "model_module": "@jupyter-widgets/base",
      "model_module_version": "2.0.0",
      "model_name": "LayoutModel",
      "state": {}
     },
     "0a7ba6e0ef9b4c9aaab9521d5412533f": {
      "model_module": "@jupyter-widgets/base",
      "model_module_version": "2.0.0",
      "model_name": "LayoutModel",
      "state": {}
     },
     "0a7e5f5bacc54156a3085db5e2230ce8": {
      "model_module": "@jupyter-widgets/base",
      "model_module_version": "2.0.0",
      "model_name": "LayoutModel",
      "state": {}
     },
     "0abd6adb61e6454da825de5fdf1f4c8d": {
      "model_module": "@jupyter-widgets/controls",
      "model_module_version": "2.0.0",
      "model_name": "TextStyleModel",
      "state": {
       "description_width": "initial",
       "font_size": null,
       "text_color": null
      }
     },
     "0ac9ade8911b409faef764787a9b2aca": {
      "model_module": "@jupyter-widgets/base",
      "model_module_version": "2.0.0",
      "model_name": "LayoutModel",
      "state": {}
     },
     "0add05fc217c4a80974bcb8fb608a6b8": {
      "model_module": "@jupyter-widgets/base",
      "model_module_version": "2.0.0",
      "model_name": "LayoutModel",
      "state": {}
     },
     "0afb120464774693890b17405cd591cd": {
      "model_module": "@jupyter-widgets/base",
      "model_module_version": "2.0.0",
      "model_name": "LayoutModel",
      "state": {}
     },
     "0b3c39a759d24e6abd76845b674c83ba": {
      "model_module": "@jupyter-widgets/base",
      "model_module_version": "2.0.0",
      "model_name": "LayoutModel",
      "state": {}
     },
     "0b3d221c5a634787b6d4e4be289fd8d5": {
      "model_module": "@jupyter-widgets/controls",
      "model_module_version": "2.0.0",
      "model_name": "RadioButtonsModel",
      "state": {
       "_options_labels": [
        "DEM (*.tif / *.vrt)",
        "Visualization (*.tif / *.vrt)"
       ],
       "description": "Select input file:",
       "index": 0,
       "layout": "IPY_MODEL_2a4b7f751ed544378e15a0517476be13",
       "style": "IPY_MODEL_9fc4e0b27e33415ab3fb960504ada662"
      }
     },
     "0b5dbe02e57e49f682e8234740e8f205": {
      "model_module": "@jupyter-widgets/output",
      "model_module_version": "1.0.0",
      "model_name": "OutputModel",
      "state": {
       "layout": "IPY_MODEL_d1d645b695564030a0f9d81d03743dfc",
       "outputs": [
        {
         "name": "stdout",
         "output_type": "stream",
         "text": "_property_lock\n"
        }
       ]
      }
     },
     "0b78cf68bffa4e538160fa1aa7f9ee62": {
      "model_module": "@jupyter-widgets/controls",
      "model_module_version": "2.0.0",
      "model_name": "HTMLStyleModel",
      "state": {
       "description_width": "",
       "font_size": null,
       "text_color": null
      }
     },
     "0b80187ebb274f1288444ea7c0d54120": {
      "model_module": "@jupyter-widgets/controls",
      "model_module_version": "2.0.0",
      "model_name": "CheckboxModel",
      "state": {
       "description": "All archaeology",
       "disabled": false,
       "indent": false,
       "layout": "IPY_MODEL_543c9fc5f61549c3a6080e2179c2060b",
       "style": "IPY_MODEL_3a22297d7e0c4ca08e2e698f6c3e1e78",
       "value": false
      }
     },
     "0b935420319e4cd680741dd41825347e": {
      "model_module": "@jupyter-widgets/controls",
      "model_module_version": "2.0.0",
      "model_name": "RadioButtonsModel",
      "state": {
       "_options_labels": [
        "object detection",
        "segmentation"
       ],
       "description": "Select ML method:",
       "index": 1,
       "layout": "IPY_MODEL_da7648fe39854d4b9f1e7ba71c36d69e",
       "style": "IPY_MODEL_19faa685c10147dea5ffe8d5edafd2a4"
      }
     },
     "0bb3f08eb8264a18b1529df4330ac35b": {
      "model_module": "@jupyter-widgets/base",
      "model_module_version": "2.0.0",
      "model_name": "LayoutModel",
      "state": {}
     },
     "0bbca01e3864479caf452cec29b637ed": {
      "model_module": "@jupyter-widgets/base",
      "model_module_version": "2.0.0",
      "model_name": "LayoutModel",
      "state": {}
     },
     "0bc04b455ac34287a319d602e8ed4832": {
      "model_module": "@jupyter-widgets/controls",
      "model_module_version": "2.0.0",
      "model_name": "CheckboxStyleModel",
      "state": {
       "description_width": ""
      }
     },
     "0bf3dbdfaa544a2bbe31fa4f4c5d257d": {
      "model_module": "@jupyter-widgets/output",
      "model_module_version": "1.0.0",
      "model_name": "OutputModel",
      "state": {
       "layout": "IPY_MODEL_8c64c1922b6c4f439aef0f7e73b82142",
       "outputs": [
        {
         "name": "stdout",
         "output_type": "stream",
         "text": "0\n"
        }
       ]
      }
     },
     "0c471e97f1e54c8a8a5dc33b975ab33f": {
      "model_module": "@jupyter-widgets/base",
      "model_module_version": "2.0.0",
      "model_name": "LayoutModel",
      "state": {
       "width": "98%"
      }
     },
     "0c8ad487503641c892f3b540cf8ebfdc": {
      "model_module": "@jupyter-widgets/base",
      "model_module_version": "2.0.0",
      "model_name": "LayoutModel",
      "state": {}
     },
     "0cab41abde6f46f98fbcc04200bf2a57": {
      "model_module": "@jupyter-widgets/controls",
      "model_module_version": "2.0.0",
      "model_name": "HTMLStyleModel",
      "state": {
       "description_width": "",
       "font_size": null,
       "text_color": null
      }
     },
     "0cb5b253e08c4eb98aaef93784f041e9": {
      "model_module": "@jupyter-widgets/controls",
      "model_module_version": "2.0.0",
      "model_name": "CheckboxModel",
      "state": {
       "description": "Enclosure",
       "disabled": false,
       "indent": false,
       "layout": "IPY_MODEL_7377e2019af0436680fdc648d2b55a57",
       "style": "IPY_MODEL_da6ac9890e4a4f379d16956f5277dcc1",
       "value": true
      }
     },
     "0cc692107ff54291b91bca5010c464bd": {
      "model_module": "@jupyter-widgets/controls",
      "model_module_version": "2.0.0",
      "model_name": "CheckboxModel",
      "state": {
       "description": "Batch processing",
       "disabled": false,
       "indent": false,
       "layout": "IPY_MODEL_e8e32887d1b14fa3b5a9517eb9974a8e",
       "style": "IPY_MODEL_18a925cb4bef4892bf9ac502a34f1fb6",
       "value": true
      }
     },
     "0cc9e6c2f9d848848ed9c46e3fd75aae": {
      "model_module": "@jupyter-widgets/base",
      "model_module_version": "2.0.0",
      "model_name": "LayoutModel",
      "state": {}
     },
     "0cd5abb60608498f87db0cc28800bf40": {
      "model_module": "@jupyter-widgets/base",
      "model_module_version": "2.0.0",
      "model_name": "LayoutModel",
      "state": {
       "width": "98%"
      }
     },
     "0cdedcce6d174af181387bd152da2224": {
      "model_module": "@jupyter-widgets/controls",
      "model_module_version": "2.0.0",
      "model_name": "RadioButtonsModel",
      "state": {
       "_options_labels": [
        "DEM (*.tif / *.vrt)",
        "Visualization (*.tif / *.vrt)"
       ],
       "description": "Select input type:",
       "index": 0,
       "layout": "IPY_MODEL_16d73722d76b4ceb9ca4fabbef72b08b",
       "style": "IPY_MODEL_3c4eb7a0fd864409a8ed31cabc936b27"
      }
     },
     "0cf47bc6e3004804890d45420bbdef43": {
      "model_module": "@jupyter-widgets/base",
      "model_module_version": "2.0.0",
      "model_name": "LayoutModel",
      "state": {}
     },
     "0d3ba1aaed8d4a3dba9a9e166eb6df15": {
      "model_module": "@jupyter-widgets/base",
      "model_module_version": "2.0.0",
      "model_name": "LayoutModel",
      "state": {
       "border_bottom": "1px solid black",
       "border_left": "1px solid black",
       "border_right": "1px solid black",
       "border_top": "1px solid black"
      }
     },
     "0d4af094851e4feebf54acd844dac7da": {
      "model_module": "@jupyter-widgets/controls",
      "model_module_version": "2.0.0",
      "model_name": "CheckboxStyleModel",
      "state": {
       "description_width": ""
      }
     },
     "0d57d8f2bc88443998d9df5a09e0d307": {
      "model_module": "@jupyter-widgets/base",
      "model_module_version": "2.0.0",
      "model_name": "LayoutModel",
      "state": {
       "width": "98%"
      }
     },
     "0d8a09b9919d4ec08f5aa651f7e70784": {
      "model_module": "@jupyter-widgets/controls",
      "model_module_version": "2.0.0",
      "model_name": "HTMLModel",
      "state": {
       "layout": "IPY_MODEL_fcf52ff04c8a4300bd9439608f474a1d",
       "style": "IPY_MODEL_7eed00ca8c8946cc809e045d2ceedeee",
       "value": "<b>ML options:</b>"
      }
     },
     "0daee5b0ddd94183a01a209a3525f077": {
      "model_module": "@jupyter-widgets/controls",
      "model_module_version": "2.0.0",
      "model_name": "HBoxModel",
      "state": {
       "children": [
        "IPY_MODEL_5abba45f4ce745bb924979082742e55e",
        "IPY_MODEL_53ffc06e7eef4db297ab58717e6884ea",
        "IPY_MODEL_8d50570796d84686b3f62759a429552e",
        "IPY_MODEL_be5c0fec859e446cb9b17352b9af8492"
       ],
       "layout": "IPY_MODEL_141f6bb57aa6433db1f009393df7073a"
      }
     },
     "0dcb013c2e134c53a77a5386417f5cfb": {
      "model_module": "@jupyter-widgets/controls",
      "model_module_version": "2.0.0",
      "model_name": "DescriptionStyleModel",
      "state": {
       "description_width": ""
      }
     },
     "0e27fd63ca7b4355a4e1329a3f13ea1c": {
      "model_module": "@jupyter-widgets/base",
      "model_module_version": "2.0.0",
      "model_name": "LayoutModel",
      "state": {}
     },
     "0e42604c6c8a4b5ca2c056d940a1eb95": {
      "model_module": "@jupyter-widgets/base",
      "model_module_version": "2.0.0",
      "model_name": "LayoutModel",
      "state": {}
     },
     "0e5d5630d26a4187930831078ade4fe2": {
      "model_module": "@jupyter-widgets/controls",
      "model_module_version": "2.0.0",
      "model_name": "CheckboxModel",
      "state": {
       "description": "Barrow",
       "disabled": false,
       "indent": false,
       "layout": "IPY_MODEL_9f5efd324da0465ea4dfa79caffebf1e",
       "style": "IPY_MODEL_48c6eaf22ccd48acbd2e59b703623fae",
       "value": true
      }
     },
     "0e758234aeb4435680fc4e55902e25df": {
      "model_module": "@jupyter-widgets/controls",
      "model_module_version": "2.0.0",
      "model_name": "CheckboxStyleModel",
      "state": {
       "description_width": ""
      }
     },
     "0e8b2b0edbb34795a28c5e92980958c7": {
      "model_module": "@jupyter-widgets/controls",
      "model_module_version": "2.0.0",
      "model_name": "CheckboxStyleModel",
      "state": {
       "description_width": ""
      }
     },
     "0e9dd0697e0b4ee99e5bc5d9551fe74e": {
      "model_module": "@jupyter-widgets/controls",
      "model_module_version": "2.0.0",
      "model_name": "CheckboxStyleModel",
      "state": {
       "description_width": ""
      }
     },
     "0edee2e6bfeb46788f157592c3dae48d": {
      "model_module": "@jupyter-widgets/controls",
      "model_module_version": "2.0.0",
      "model_name": "LabelModel",
      "state": {
       "layout": "IPY_MODEL_596e0242f472463bb9666deb9fc309ba",
       "style": "IPY_MODEL_733edde4f41d40b099feb98d141a2c25",
       "value": "Path to ML model [*.tar]:"
      }
     },
     "0f01629996224016ba1adb7dd8733137": {
      "model_module": "@jupyter-widgets/base",
      "model_module_version": "2.0.0",
      "model_name": "LayoutModel",
      "state": {}
     },
     "0f25b5e8839d4dc3939177bf8e960feb": {
      "model_module": "@jupyter-widgets/controls",
      "model_module_version": "2.0.0",
      "model_name": "CheckboxModel",
      "state": {
       "description": "Enclosure",
       "disabled": false,
       "indent": false,
       "layout": "IPY_MODEL_ecc64ec563244464bc8ab5172976ed3e",
       "style": "IPY_MODEL_1259d92cc56444d7a4a4459659a32786",
       "value": true
      }
     },
     "0f834ece437243e8bfd87d174d03a301": {
      "model_module": "@jupyter-widgets/output",
      "model_module_version": "1.0.0",
      "model_name": "OutputModel",
      "state": {
       "layout": "IPY_MODEL_f64167f9f9f04ada95269cfb5b5e20e4",
       "outputs": [
        {
         "data": {
          "application/vnd.jupyter.widget-view+json": {
           "model_id": "25aeff0082f64ece92f1a59fcbb62f7d",
           "version_major": 2,
           "version_minor": 0
          },
          "text/plain": "Text(value='', description='DEM path:', layout=Layout(width='98%'), placeholder='<my_data_folder/my_DEM_file.t…"
         },
         "metadata": {},
         "output_type": "display_data"
        }
       ]
      }
     },
     "0f862078d1b149789a729b2756ee844b": {
      "model_module": "@jupyter-widgets/output",
      "model_module_version": "1.0.0",
      "model_name": "OutputModel",
      "state": {
       "layout": "IPY_MODEL_4b6e12f2017c4c8ca5b351e779a0a32a",
       "outputs": [
        {
         "data": {
          "application/vnd.jupyter.widget-view+json": {
           "model_id": "f7a175ade21143c19ece0b60856ffaf2",
           "version_major": 2,
           "version_minor": 0
          },
          "text/plain": "Text(value='', description='DEM path:', layout=Layout(width='98%'), placeholder='<my_data_folder/my_DEM_file.t…"
         },
         "metadata": {},
         "output_type": "display_data"
        }
       ]
      }
     },
     "0f8af4b7e4e9427a96ab903c8cc9ea32": {
      "model_module": "@jupyter-widgets/base",
      "model_module_version": "2.0.0",
      "model_name": "LayoutModel",
      "state": {}
     },
     "0f994aafd2294c118204b157e9f8d045": {
      "model_module": "@jupyter-widgets/base",
      "model_module_version": "2.0.0",
      "model_name": "LayoutModel",
      "state": {}
     },
     "0fa4a4a19d1749de8b717cd229a8836d": {
      "model_module": "@jupyter-widgets/base",
      "model_module_version": "2.0.0",
      "model_name": "LayoutModel",
      "state": {}
     },
     "0faa2c3bc2864f46be2ab006a8492d5c": {
      "model_module": "@jupyter-widgets/base",
      "model_module_version": "2.0.0",
      "model_name": "LayoutModel",
      "state": {}
     },
     "0fcdc0d8c240440ba929165aef90f7c1": {
      "model_module": "@jupyter-widgets/controls",
      "model_module_version": "2.0.0",
      "model_name": "CheckboxStyleModel",
      "state": {
       "description_width": ""
      }
     },
     "0fd0f55977604b89b568910148b3661f": {
      "model_module": "@jupyter-widgets/base",
      "model_module_version": "2.0.0",
      "model_name": "LayoutModel",
      "state": {}
     },
     "0fdacbd2b08f47419d095b05aa32e41a": {
      "model_module": "@jupyter-widgets/base",
      "model_module_version": "2.0.0",
      "model_name": "LayoutModel",
      "state": {}
     },
     "0fedb14520c44148becfe77d142393c8": {
      "model_module": "@jupyter-widgets/base",
      "model_module_version": "2.0.0",
      "model_name": "LayoutModel",
      "state": {}
     },
     "0ff4a895f7dd4e08a4281af9577f4fc5": {
      "model_module": "@jupyter-widgets/base",
      "model_module_version": "2.0.0",
      "model_name": "LayoutModel",
      "state": {
       "border_bottom": "1px solid black",
       "border_left": "1px solid black",
       "border_right": "1px solid black",
       "border_top": "1px solid black"
      }
     },
     "0ff537ac9a654f94b0d1b7e4f879f14d": {
      "model_module": "@jupyter-widgets/controls",
      "model_module_version": "2.0.0",
      "model_name": "HTMLStyleModel",
      "state": {
       "description_width": "",
       "font_size": null,
       "text_color": null
      }
     },
     "1005028ae1944d5da48438b68ab5c6d7": {
      "model_module": "@jupyter-widgets/base",
      "model_module_version": "2.0.0",
      "model_name": "LayoutModel",
      "state": {}
     },
     "101bd79dce984e9a93d891afc721d109": {
      "model_module": "@jupyter-widgets/base",
      "model_module_version": "2.0.0",
      "model_name": "LayoutModel",
      "state": {}
     },
     "101c992182d446a392fe11ab12d6d174": {
      "model_module": "@jupyter-widgets/base",
      "model_module_version": "2.0.0",
      "model_name": "LayoutModel",
      "state": {
       "border_bottom": "1px solid black",
       "border_left": "1px solid black",
       "border_right": "1px solid black",
       "border_top": "1px solid black"
      }
     },
     "10442c2785cc442ca8ba2a82a659f2d2": {
      "model_module": "@jupyter-widgets/controls",
      "model_module_version": "2.0.0",
      "model_name": "DescriptionStyleModel",
      "state": {
       "description_width": ""
      }
     },
     "1057f362b97746b98e32c0e3107a0c4a": {
      "model_module": "@jupyter-widgets/controls",
      "model_module_version": "2.0.0",
      "model_name": "TextStyleModel",
      "state": {
       "description_width": "initial",
       "font_size": null,
       "text_color": null
      }
     },
     "10a20b65716e4662a44811f658b1b7a4": {
      "model_module": "@jupyter-widgets/controls",
      "model_module_version": "2.0.0",
      "model_name": "CheckboxModel",
      "state": {
       "description": "Barrow",
       "disabled": false,
       "indent": false,
       "layout": "IPY_MODEL_4896090cd9e64a6ca68ef6541fa4641f",
       "style": "IPY_MODEL_1af0b55119f2427abb28a2801dc04940",
       "value": true
      }
     },
     "10cb3a25cfbb434fb216c4a72ae510a2": {
      "model_module": "@jupyter-widgets/controls",
      "model_module_version": "2.0.0",
      "model_name": "TextModel",
      "state": {
       "description": "DEM path:",
       "layout": "IPY_MODEL_b43b4884601a4c638ecc70f4dbf147a6",
       "placeholder": "<my_data_folder/my_DEM_file.tif>",
       "style": "IPY_MODEL_88cab838a8534253bce53b4110a65d9e"
      }
     },
     "10f7dfd21b1948538b2c3bb121cce5c5": {
      "model_module": "@jupyter-widgets/controls",
      "model_module_version": "2.0.0",
      "model_name": "DescriptionStyleModel",
      "state": {
       "description_width": ""
      }
     },
     "111bb847bde947b5af130aaeb0c727ff": {
      "model_module": "@jupyter-widgets/controls",
      "model_module_version": "2.0.0",
      "model_name": "HTMLModel",
      "state": {
       "layout": "IPY_MODEL_275ea360262d4793be2816bf9ef17401",
       "style": "IPY_MODEL_2527cea26fcf477fa681885b0bd2b3a2",
       "value": "<b>ML options:</b>"
      }
     },
     "112a437dfcc54a659d538874d052cbff": {
      "model_module": "@jupyter-widgets/base",
      "model_module_version": "2.0.0",
      "model_name": "LayoutModel",
      "state": {}
     },
     "116530d0c5b349d0af60fe921530b20e": {
      "model_module": "@jupyter-widgets/controls",
      "model_module_version": "2.0.0",
      "model_name": "DescriptionStyleModel",
      "state": {
       "description_width": ""
      }
     },
     "116accd57f9343f2a4352ae5ac319fda": {
      "model_module": "@jupyter-widgets/controls",
      "model_module_version": "2.0.0",
      "model_name": "DescriptionStyleModel",
      "state": {
       "description_width": ""
      }
     },
     "11a7acfb80da40d9a4bb7ed943fc81f7": {
      "model_module": "@jupyter-widgets/base",
      "model_module_version": "2.0.0",
      "model_name": "LayoutModel",
      "state": {}
     },
     "11cc00598dbf425f9a2f45f5ffdbf1c0": {
      "model_module": "@jupyter-widgets/output",
      "model_module_version": "1.0.0",
      "model_name": "OutputModel",
      "state": {
       "layout": "IPY_MODEL_bb1a7113cffd4d2181a8be5d5c4a4591"
      }
     },
     "11d04c9077c94101b0dc836b862c7d77": {
      "model_module": "@jupyter-widgets/controls",
      "model_module_version": "2.0.0",
      "model_name": "CheckboxStyleModel",
      "state": {
       "description_width": ""
      }
     },
     "121c4f2be4c246bf918c79a0643ab510": {
      "model_module": "@jupyter-widgets/controls",
      "model_module_version": "2.0.0",
      "model_name": "DescriptionStyleModel",
      "state": {
       "description_width": ""
      }
     },
     "1225f54627f94831ace4bd8b7743c5f9": {
      "model_module": "@jupyter-widgets/controls",
      "model_module_version": "2.0.0",
      "model_name": "TextModel",
      "state": {
       "description": "Path to ML model [*.tar]:",
       "layout": "IPY_MODEL_5065fef9785f4934a6dc15e28d784a27",
       "placeholder": "model_folder/saved_model.tar",
       "style": "IPY_MODEL_2154416e3d304ebea0923a47efa2653d"
      }
     },
     "1227f46660e84e0da7d27121e2cb2a84": {
      "model_module": "@jupyter-widgets/controls",
      "model_module_version": "2.0.0",
      "model_name": "TextModel",
      "state": {
       "description": "DEM path:",
       "layout": "IPY_MODEL_c44b7593541d4e16a56af6f6b1e193a4",
       "placeholder": "<my_data_folder/my_DEM_file.tif>",
       "style": "IPY_MODEL_e22214f4e809483d9ffc01ebcf4aab1f"
      }
     },
     "122df8a1e58542f7a880e1f61fec841b": {
      "model_module": "@jupyter-widgets/base",
      "model_module_version": "2.0.0",
      "model_name": "LayoutModel",
      "state": {
       "width": "98%"
      }
     },
     "122feb6551fa4b13ba8995d1bc44b1d2": {
      "model_module": "@jupyter-widgets/controls",
      "model_module_version": "2.0.0",
      "model_name": "CheckboxStyleModel",
      "state": {
       "description_width": ""
      }
     },
     "12398c6c3df64dd1ad7f4a60ec7d448b": {
      "model_module": "@jupyter-widgets/controls",
      "model_module_version": "2.0.0",
      "model_name": "CheckboxStyleModel",
      "state": {
       "description_width": ""
      }
     },
     "1259d92cc56444d7a4a4459659a32786": {
      "model_module": "@jupyter-widgets/controls",
      "model_module_version": "2.0.0",
      "model_name": "CheckboxStyleModel",
      "state": {
       "description_width": ""
      }
     },
     "1277aa4ee035460aacfc86d27b291057": {
      "model_module": "@jupyter-widgets/controls",
      "model_module_version": "2.0.0",
      "model_name": "CheckboxModel",
      "state": {
       "description": "Ringfort",
       "disabled": false,
       "indent": false,
       "layout": "IPY_MODEL_b827577ee8294cd59ebc9f6c762b7719",
       "style": "IPY_MODEL_0fcdc0d8c240440ba929165aef90f7c1",
       "value": true
      }
     },
     "1329231c6adc4b9f9ca8a6a8da837292": {
      "model_module": "@jupyter-widgets/controls",
      "model_module_version": "2.0.0",
      "model_name": "CheckboxModel",
      "state": {
       "description": "Ringfort",
       "disabled": false,
       "indent": false,
       "layout": "IPY_MODEL_544d2dcf76974de497dd0abff840ae2b",
       "style": "IPY_MODEL_0bc04b455ac34287a319d602e8ed4832",
       "value": true
      }
     },
     "13557e6ff56a45dc87bf82eb67989e5c": {
      "model_module": "@jupyter-widgets/controls",
      "model_module_version": "2.0.0",
      "model_name": "TextStyleModel",
      "state": {
       "description_width": "initial",
       "font_size": null,
       "text_color": null
      }
     },
     "137431b57fca4947b1bfc73329fdafb9": {
      "model_module": "@jupyter-widgets/base",
      "model_module_version": "2.0.0",
      "model_name": "LayoutModel",
      "state": {}
     },
     "13947dfbefd34e6781f6c95469f8cda6": {
      "model_module": "@jupyter-widgets/base",
      "model_module_version": "2.0.0",
      "model_name": "LayoutModel",
      "state": {}
     },
     "13f2f6ffd0bd4c6693cd940ce33ac296": {
      "model_module": "@jupyter-widgets/base",
      "model_module_version": "2.0.0",
      "model_name": "LayoutModel",
      "state": {}
     },
     "13f4c22dcc1142e4ba3cf1fc4d88a711": {
      "model_module": "@jupyter-widgets/base",
      "model_module_version": "2.0.0",
      "model_name": "LayoutModel",
      "state": {}
     },
     "1407aa6ff22f46c68b3a6f76b3f1bad5": {
      "model_module": "@jupyter-widgets/base",
      "model_module_version": "2.0.0",
      "model_name": "LayoutModel",
      "state": {}
     },
     "141593f802b249929ed08607426f1b0c": {
      "model_module": "@jupyter-widgets/base",
      "model_module_version": "2.0.0",
      "model_name": "LayoutModel",
      "state": {}
     },
     "141f6bb57aa6433db1f009393df7073a": {
      "model_module": "@jupyter-widgets/base",
      "model_module_version": "2.0.0",
      "model_name": "LayoutModel",
      "state": {}
     },
     "143981f8266543b9955ea615dc34f13e": {
      "model_module": "@jupyter-widgets/base",
      "model_module_version": "2.0.0",
      "model_name": "LayoutModel",
      "state": {}
     },
     "145ddf6573e6477cba1a3e90e7c62b54": {
      "model_module": "@jupyter-widgets/controls",
      "model_module_version": "2.0.0",
      "model_name": "RadioButtonsModel",
      "state": {
       "_options_labels": [
        "object detection",
        "segmentation"
       ],
       "description": "Select ML method:",
       "index": 1,
       "layout": "IPY_MODEL_da55355a1a6948dc95380323c59f562f",
       "style": "IPY_MODEL_4120496de0414ef38145d74420bf323f"
      }
     },
     "1484209685e345f69eff2d5977a0a3eb": {
      "model_module": "@jupyter-widgets/controls",
      "model_module_version": "2.0.0",
      "model_name": "CheckboxModel",
      "state": {
       "description": "Ringfort",
       "disabled": false,
       "indent": false,
       "layout": "IPY_MODEL_beba0341c3214d46af0a3d0a533270eb",
       "style": "IPY_MODEL_2ce73d7c87bf4554af702362b7e7ad26",
       "value": true
      }
     },
     "1485832e1d7d4739a84ba5f85db0f786": {
      "model_module": "@jupyter-widgets/controls",
      "model_module_version": "2.0.0",
      "model_name": "CheckboxModel",
      "state": {
       "description": "Batch processing",
       "disabled": false,
       "indent": false,
       "layout": "IPY_MODEL_085474e33e6c485fbfecbba277d383a2",
       "style": "IPY_MODEL_fb2449d87c5f42499c8d1919e2f3c759",
       "value": false
      }
     },
     "1490e570eb6446aab40e2f1b5972868d": {
      "model_module": "@jupyter-widgets/controls",
      "model_module_version": "2.0.0",
      "model_name": "DescriptionStyleModel",
      "state": {
       "description_width": ""
      }
     },
     "14bef2a3d0ef46e093ff6405ad7d718e": {
      "model_module": "@jupyter-widgets/controls",
      "model_module_version": "2.0.0",
      "model_name": "HTMLStyleModel",
      "state": {
       "description_width": "",
       "font_size": null,
       "text_color": null
      }
     },
     "14d9bd2c922c46c5bee543444a0f0d09": {
      "model_module": "@jupyter-widgets/controls",
      "model_module_version": "2.0.0",
      "model_name": "CheckboxStyleModel",
      "state": {
       "description_width": ""
      }
     },
     "14dae952b9b040769ab919b3e100e8b8": {
      "model_module": "@jupyter-widgets/controls",
      "model_module_version": "2.0.0",
      "model_name": "CheckboxStyleModel",
      "state": {
       "description_width": ""
      }
     },
     "14e1658d13664fa082899c916667f6e3": {
      "model_module": "@jupyter-widgets/base",
      "model_module_version": "2.0.0",
      "model_name": "LayoutModel",
      "state": {}
     },
     "15053ef027c342f7a3b1a437d46ea9fd": {
      "model_module": "@jupyter-widgets/base",
      "model_module_version": "2.0.0",
      "model_name": "LayoutModel",
      "state": {}
     },
     "152342f979d04e55b946c6e775fb6767": {
      "model_module": "@jupyter-widgets/controls",
      "model_module_version": "2.0.0",
      "model_name": "DescriptionStyleModel",
      "state": {
       "description_width": ""
      }
     },
     "15398a5430a64a06af5dfec31255f835": {
      "model_module": "@jupyter-widgets/base",
      "model_module_version": "2.0.0",
      "model_name": "LayoutModel",
      "state": {
       "width": "98%"
      }
     },
     "159f78380af34214a6c48055c120bbff": {
      "model_module": "@jupyter-widgets/base",
      "model_module_version": "2.0.0",
      "model_name": "LayoutModel",
      "state": {}
     },
     "15ab49a5b0b64318a6d708b029da49d4": {
      "model_module": "@jupyter-widgets/controls",
      "model_module_version": "2.0.0",
      "model_name": "RadioButtonsModel",
      "state": {
       "_options_labels": [
        "DEM (*.tif / *.vrt)",
        "Visualization (*.tif / *.vrt)"
       ],
       "description": "Select input type:",
       "index": 1,
       "layout": "IPY_MODEL_ce868e8b234441c78be4e05b26c740aa",
       "style": "IPY_MODEL_ab88ba5030e14fe4ae930aaa3b67ec60"
      }
     },
     "15ab52abf4504de186b82f23185b4e63": {
      "model_module": "@jupyter-widgets/output",
      "model_module_version": "1.0.0",
      "model_name": "OutputModel",
      "state": {
       "layout": "IPY_MODEL_8ea80d088dd040c3b35c74d23692982c",
       "outputs": [
        {
         "data": {
          "application/vnd.jupyter.widget-view+json": {
           "model_id": "0399458db28d4e839aaaaa9763000f25",
           "version_major": 2,
           "version_minor": 0
          },
          "text/plain": "Text(value='', description='DEM path:', layout=Layout(width='98%'), placeholder='<my_data_folder/my_DEM_file.t…"
         },
         "metadata": {},
         "output_type": "display_data"
        }
       ]
      }
     },
     "15ae2e6842324b3a9bcca3bf5f1b63ce": {
      "model_module": "@jupyter-widgets/base",
      "model_module_version": "2.0.0",
      "model_name": "LayoutModel",
      "state": {
       "border_bottom": "1px solid black",
       "border_left": "1px solid black",
       "border_right": "1px solid black",
       "border_top": "1px solid black"
      }
     },
     "15c091af22ea48b09b4485fe4352ac3a": {
      "model_module": "@jupyter-widgets/controls",
      "model_module_version": "2.0.0",
      "model_name": "TextModel",
      "state": {
       "description": "Visualization path:",
       "disabled": true,
       "layout": "IPY_MODEL_167c25ba82ca4243aa09be29aabfc673",
       "placeholder": "<my_data_folder/my_visualization_file.tif>",
       "style": "IPY_MODEL_d2eda12f78584cd9ad33cff2ac7df9f2"
      }
     },
     "15c2dac971654bab9fce1f8d7f1c61ca": {
      "model_module": "@jupyter-widgets/controls",
      "model_module_version": "2.0.0",
      "model_name": "CheckboxStyleModel",
      "state": {
       "description_width": ""
      }
     },
     "1622c2022815482299a3e03f970f8f9a": {
      "model_module": "@jupyter-widgets/base",
      "model_module_version": "2.0.0",
      "model_name": "LayoutModel",
      "state": {}
     },
     "163270b10cb4474185ff634631752d59": {
      "model_module": "@jupyter-widgets/base",
      "model_module_version": "2.0.0",
      "model_name": "LayoutModel",
      "state": {}
     },
     "1642228d34974f7da47bea3433bfc12b": {
      "model_module": "@jupyter-widgets/controls",
      "model_module_version": "2.0.0",
      "model_name": "CheckboxModel",
      "state": {
       "description": "Batch processing",
       "disabled": false,
       "indent": false,
       "layout": "IPY_MODEL_b8c9455cef99452194ed9d2eca3b34f2",
       "style": "IPY_MODEL_a1fc9f46b94944e489000f895558ec69",
       "value": true
      }
     },
     "166d907da6584957be9ff04406753721": {
      "model_module": "@jupyter-widgets/base",
      "model_module_version": "2.0.0",
      "model_name": "LayoutModel",
      "state": {}
     },
     "167c25ba82ca4243aa09be29aabfc673": {
      "model_module": "@jupyter-widgets/base",
      "model_module_version": "2.0.0",
      "model_name": "LayoutModel",
      "state": {
       "width": "98%"
      }
     },
     "168a856c7fa54a2a81ab583b6f8ccf4b": {
      "model_module": "@jupyter-widgets/controls",
      "model_module_version": "2.0.0",
      "model_name": "CheckboxStyleModel",
      "state": {
       "description_width": ""
      }
     },
     "16cb14742f664500bc10dfa5de0957f8": {
      "model_module": "@jupyter-widgets/controls",
      "model_module_version": "2.0.0",
      "model_name": "DescriptionStyleModel",
      "state": {
       "description_width": ""
      }
     },
     "16cd64eff4494a8693c40211f36dc23a": {
      "model_module": "@jupyter-widgets/controls",
      "model_module_version": "2.0.0",
      "model_name": "HTMLModel",
      "state": {
       "layout": "IPY_MODEL_93449c37bea64b9fbe61517b4954fb5e",
       "style": "IPY_MODEL_1abdc2ca2cc940d1abf9f45a2b201475",
       "value": "<font color='black'>Select classes for inference:"
      }
     },
     "16d73722d76b4ceb9ca4fabbef72b08b": {
      "model_module": "@jupyter-widgets/base",
      "model_module_version": "2.0.0",
      "model_name": "LayoutModel",
      "state": {}
     },
     "16e57d5a68854d3f9cb2411b3c5de3c3": {
      "model_module": "@jupyter-widgets/base",
      "model_module_version": "2.0.0",
      "model_name": "LayoutModel",
      "state": {}
     },
     "16fd8024b7e644258fb8e1e1a86f00ba": {
      "model_module": "@jupyter-widgets/output",
      "model_module_version": "1.0.0",
      "model_name": "OutputModel",
      "state": {
       "layout": "IPY_MODEL_df85cba4f99349bc92769c82f194c8b7",
       "outputs": [
        {
         "name": "stdout",
         "output_type": "stream",
         "text": "{'name': '_property_lock', 'old': {'value': False}, 'new': {}, 'owner': Checkbox(value=False, description='Batch processing', indent=False), 'type': 'change'}\n"
        }
       ]
      }
     },
     "171a5fd066c747b5bbe53bb7bf9aa6ae": {
      "model_module": "@jupyter-widgets/controls",
      "model_module_version": "2.0.0",
      "model_name": "DescriptionStyleModel",
      "state": {
       "description_width": ""
      }
     },
     "17351d5dd95f419c9083da2a0a646bbc": {
      "model_module": "@jupyter-widgets/controls",
      "model_module_version": "2.0.0",
      "model_name": "VBoxModel",
      "state": {
       "children": [
        "IPY_MODEL_856f22b986104d848bc07572b230b5a6",
        "IPY_MODEL_45a9fbbd6b71433da8f33e5ca92d0ada",
        "IPY_MODEL_514960e0e8f04113808accf4e9d83997",
        "IPY_MODEL_41f1fe30694740f7aba604ae10e817bf"
       ],
       "layout": "IPY_MODEL_c303d191f2554d21957097148e7db213"
      }
     },
     "173c3088e5894570bddc99f68acdadee": {
      "model_module": "@jupyter-widgets/controls",
      "model_module_version": "2.0.0",
      "model_name": "LabelModel",
      "state": {
       "layout": "IPY_MODEL_8a165bbcd77847fd8f2269ada9bff547",
       "style": "IPY_MODEL_c4b140c1bd484bbf85d6caa2c8adf0e8",
       "value": "Path to ML model [*.tar]:"
      }
     },
     "174c1908c76d42a184c79474358c1899": {
      "model_module": "@jupyter-widgets/base",
      "model_module_version": "2.0.0",
      "model_name": "LayoutModel",
      "state": {}
     },
     "17a0389a113c4873a3bb49da9a998d54": {
      "model_module": "@jupyter-widgets/output",
      "model_module_version": "1.0.0",
      "model_name": "OutputModel",
      "state": {
       "layout": "IPY_MODEL_29d4010ea48c4a409eaef11d21684ad2",
       "outputs": [
        {
         "data": {
          "application/vnd.jupyter.widget-view+json": {
           "model_id": "737f32feb07a46e785ec0e4aa7eea000",
           "version_major": 2,
           "version_minor": 0
          },
          "text/plain": "Text(value='', description='DEM path:', layout=Layout(width='98%'), placeholder='<my_data_folder/my_DEM_file.t…"
         },
         "metadata": {},
         "output_type": "display_data"
        }
       ]
      }
     },
     "17d4cb9442534943bb1c5847e497d3d3": {
      "model_module": "@jupyter-widgets/controls",
      "model_module_version": "2.0.0",
      "model_name": "HBoxModel",
      "state": {
       "children": [
        "IPY_MODEL_80145d999cb74339a61ed7253212bcaa",
        "IPY_MODEL_b6c411b6628046c5ab56e8359115dc97"
       ],
       "layout": "IPY_MODEL_ab0b1548529946b29c42554380752e8c"
      }
     },
     "17e990002d9e4abfaeb37b7e10781e55": {
      "model_module": "@jupyter-widgets/controls",
      "model_module_version": "2.0.0",
      "model_name": "HTMLStyleModel",
      "state": {
       "description_width": "",
       "font_size": null,
       "text_color": null
      }
     },
     "17ee4705e0d8461cb6dbc3b22be63bc0": {
      "model_module": "@jupyter-widgets/controls",
      "model_module_version": "2.0.0",
      "model_name": "DescriptionStyleModel",
      "state": {
       "description_width": ""
      }
     },
     "1800b5d3e7fe4e45b856879043435731": {
      "model_module": "@jupyter-widgets/output",
      "model_module_version": "1.0.0",
      "model_name": "OutputModel",
      "state": {
       "layout": "IPY_MODEL_2b51f144dc154c8b9d4a8bc0e9ccf00d"
      }
     },
     "1835a75de0d140fcb2858ae9a05c5281": {
      "model_module": "@jupyter-widgets/controls",
      "model_module_version": "2.0.0",
      "model_name": "TextStyleModel",
      "state": {
       "description_width": "initial",
       "font_size": null,
       "text_color": null
      }
     },
     "187ae584101e4ce69e0920578e1becd2": {
      "model_module": "@jupyter-widgets/base",
      "model_module_version": "2.0.0",
      "model_name": "LayoutModel",
      "state": {}
     },
     "18a79760e7b74c4cbbdca8150f1ef731": {
      "model_module": "@jupyter-widgets/base",
      "model_module_version": "2.0.0",
      "model_name": "LayoutModel",
      "state": {}
     },
     "18a925cb4bef4892bf9ac502a34f1fb6": {
      "model_module": "@jupyter-widgets/controls",
      "model_module_version": "2.0.0",
      "model_name": "CheckboxStyleModel",
      "state": {
       "description_width": ""
      }
     },
     "18ef8596ba8e4befb5cf72f4000651ea": {
      "model_module": "@jupyter-widgets/base",
      "model_module_version": "2.0.0",
      "model_name": "LayoutModel",
      "state": {}
     },
     "18f6f6e882ab456fa14ee16275b0a6dc": {
      "model_module": "@jupyter-widgets/controls",
      "model_module_version": "2.0.0",
      "model_name": "CheckboxModel",
      "state": {
       "description": "Barrow",
       "disabled": false,
       "indent": false,
       "layout": "IPY_MODEL_13f2f6ffd0bd4c6693cd940ce33ac296",
       "style": "IPY_MODEL_aba003586e1441beb2099a4aa72c4b70",
       "value": true
      }
     },
     "192f1df1796f40f5992e1290305a69de": {
      "model_module": "@jupyter-widgets/controls",
      "model_module_version": "2.0.0",
      "model_name": "HBoxModel",
      "state": {
       "children": [
        "IPY_MODEL_3580367de4b4459faea678c03674e2f9",
        "IPY_MODEL_c196746b44f2433ca87e187c0f311152"
       ],
       "layout": "IPY_MODEL_ff5a2e591cc343cc9a35c24e257b6ca9"
      }
     },
     "19380eb3f2bc490ab41bac57ca9fbaa1": {
      "model_module": "@jupyter-widgets/controls",
      "model_module_version": "2.0.0",
      "model_name": "CheckboxStyleModel",
      "state": {
       "description_width": ""
      }
     },
     "193b0fd863ca464f90e0a6f9f0159b15": {
      "model_module": "@jupyter-widgets/controls",
      "model_module_version": "2.0.0",
      "model_name": "VBoxModel",
      "state": {
       "children": [
        "IPY_MODEL_8101c6d472ad4b5ea5b9a1910942f86e",
        "IPY_MODEL_d4d1fb8f82c64984abf3ddb7b711c0b6",
        "IPY_MODEL_5d0391dc08914e5d94ed38e3c6aa58c5",
        "IPY_MODEL_34c879146a5a4785b0f42fa1b204e857"
       ],
       "layout": "IPY_MODEL_2bfb9f7ba6484cb48726f8046641ca1c"
      }
     },
     "1958110b43f04e59a8133410478638f6": {
      "model_module": "@jupyter-widgets/controls",
      "model_module_version": "2.0.0",
      "model_name": "CheckboxModel",
      "state": {
       "description": "Enclosure",
       "disabled": false,
       "indent": false,
       "layout": "IPY_MODEL_5161ee42418d4c24996d1cdbbe29f2ad",
       "style": "IPY_MODEL_c8ac5a1339584c0b863af2a393c3fdbe",
       "value": true
      }
     },
     "195c13685fd34022bcf91762c6d6abdc": {
      "model_module": "@jupyter-widgets/controls",
      "model_module_version": "2.0.0",
      "model_name": "CheckboxStyleModel",
      "state": {
       "description_width": ""
      }
     },
     "19bd5dfccfd34bf28245311adb9a3e7d": {
      "model_module": "@jupyter-widgets/controls",
      "model_module_version": "2.0.0",
      "model_name": "HTMLStyleModel",
      "state": {
       "description_width": "",
       "font_size": null,
       "text_color": null
      }
     },
     "19c771e764d74e0b9c4d4bc7a07f74f3": {
      "model_module": "@jupyter-widgets/controls",
      "model_module_version": "2.0.0",
      "model_name": "TextModel",
      "state": {
       "description": "Path to ML model [*.tar]:",
       "disabled": true,
       "layout": "IPY_MODEL_23fd3667d1d74793abf650b1adc21877",
       "placeholder": "model_folder/saved_model.tar",
       "style": "IPY_MODEL_e45433ee89534f0da052fd223bf6971e"
      }
     },
     "19d04a89b5a34f2cb3da1f06d3ce42da": {
      "model_module": "@jupyter-widgets/output",
      "model_module_version": "1.0.0",
      "model_name": "OutputModel",
      "state": {
       "layout": "IPY_MODEL_bd7e74f2d9ff41a592a8b16b48293827",
       "outputs": [
        {
         "data": {
          "application/vnd.jupyter.widget-view+json": {
           "model_id": "51035be5880646519793e91215374b96",
           "version_major": 2,
           "version_minor": 0
          },
          "text/plain": "Text(value='', description='DEM path:', layout=Layout(width='98%'), placeholder='<my_data_folder/my_DEM_file.t…"
         },
         "metadata": {},
         "output_type": "display_data"
        }
       ]
      }
     },
     "19d3e569ba474e6ea7bea41d8fe023da": {
      "model_module": "@jupyter-widgets/controls",
      "model_module_version": "2.0.0",
      "model_name": "DescriptionStyleModel",
      "state": {
       "description_width": ""
      }
     },
     "19faa685c10147dea5ffe8d5edafd2a4": {
      "model_module": "@jupyter-widgets/controls",
      "model_module_version": "2.0.0",
      "model_name": "DescriptionStyleModel",
      "state": {
       "description_width": ""
      }
     },
     "1a09025810b4458ba2284554976685a8": {
      "model_module": "@jupyter-widgets/base",
      "model_module_version": "2.0.0",
      "model_name": "LayoutModel",
      "state": {
       "width": "98%"
      }
     },
     "1a15131ac90a4be0a97289111d2eeab9": {
      "model_module": "@jupyter-widgets/controls",
      "model_module_version": "2.0.0",
      "model_name": "CheckboxStyleModel",
      "state": {
       "description_width": ""
      }
     },
     "1a18bc4bfd424854a4686561688d68d9": {
      "model_module": "@jupyter-widgets/base",
      "model_module_version": "2.0.0",
      "model_name": "LayoutModel",
      "state": {
       "width": "98%"
      }
     },
     "1a6d78a904ed493eb32f2428eea90c0b": {
      "model_module": "@jupyter-widgets/controls",
      "model_module_version": "2.0.0",
      "model_name": "TextModel",
      "state": {
       "description": "DEM path:",
       "layout": "IPY_MODEL_240fa4e460154de4ada0f64b5921335e",
       "placeholder": "<my_data_folder/my_DEM_file.tif>",
       "style": "IPY_MODEL_5f59fee113e8470dba0cd473c3bfcb13"
      }
     },
     "1aa47a78d79743aa93d3f7dd250422cc": {
      "model_module": "@jupyter-widgets/controls",
      "model_module_version": "2.0.0",
      "model_name": "DescriptionStyleModel",
      "state": {
       "description_width": ""
      }
     },
     "1abdc2ca2cc940d1abf9f45a2b201475": {
      "model_module": "@jupyter-widgets/controls",
      "model_module_version": "2.0.0",
      "model_name": "HTMLStyleModel",
      "state": {
       "description_width": "",
       "font_size": null,
       "text_color": null
      }
     },
     "1adf2d227f5b470b9cf9bffb72a53c29": {
      "model_module": "@jupyter-widgets/controls",
      "model_module_version": "2.0.0",
      "model_name": "HBoxModel",
      "state": {
       "children": [
        "IPY_MODEL_9422c0b23ee64a8dbc405c60299031ba",
        "IPY_MODEL_f4d5990b31ec464ca26adf27c2904d54"
       ],
       "layout": "IPY_MODEL_8c9e91f8b7b54cbbbaa047e998b3d630"
      }
     },
     "1ae9376a319e4aee82b0724384feb1b7": {
      "model_module": "@jupyter-widgets/controls",
      "model_module_version": "2.0.0",
      "model_name": "VBoxModel",
      "state": {
       "children": [
        "IPY_MODEL_a5030fe755794630bc2d175cab47878d",
        "IPY_MODEL_b65801168f1447c1a8638212a58069b1",
        "IPY_MODEL_ac1599cd21c34db68a088079354df38b"
       ],
       "layout": "IPY_MODEL_d30660fd75c1476aa8dddbd74ade408a"
      }
     },
     "1af0b55119f2427abb28a2801dc04940": {
      "model_module": "@jupyter-widgets/controls",
      "model_module_version": "2.0.0",
      "model_name": "CheckboxStyleModel",
      "state": {
       "description_width": ""
      }
     },
     "1b2b2b91c30a4781a65e7b728e38bfaa": {
      "model_module": "@jupyter-widgets/base",
      "model_module_version": "2.0.0",
      "model_name": "LayoutModel",
      "state": {}
     },
     "1b53502e1aea4e7793b6d3443e3f8761": {
      "model_module": "@jupyter-widgets/controls",
      "model_module_version": "2.0.0",
      "model_name": "RadioButtonsModel",
      "state": {
       "_options_labels": [
        "object detection",
        "segmentation"
       ],
       "description": "Select ML method:",
       "index": 1,
       "layout": "IPY_MODEL_046022ec90ad4b78b25cefd3cf06580f",
       "style": "IPY_MODEL_345370f378c8431cb9670b9a8b07ebf3"
      }
     },
     "1b551cbf5dbd41e88d6ed3b9feadcc37": {
      "model_module": "@jupyter-widgets/base",
      "model_module_version": "2.0.0",
      "model_name": "LayoutModel",
      "state": {}
     },
     "1b734e8642024a428b65d1645315b08e": {
      "model_module": "@jupyter-widgets/base",
      "model_module_version": "2.0.0",
      "model_name": "LayoutModel",
      "state": {}
     },
     "1b7c6cb2fb3c43fda60f3be6558b5bd1": {
      "model_module": "@jupyter-widgets/controls",
      "model_module_version": "2.0.0",
      "model_name": "TextModel",
      "state": {
       "description": "Path to ML model [*.tar]:",
       "layout": "IPY_MODEL_e63359921ce54aa9a8ef99dea6df0f35",
       "placeholder": "model_folder/saved_model.tar",
       "style": "IPY_MODEL_f85fd2fefcb0413597764302e42936f0"
      }
     },
     "1ba5537592464e179fba6746ee02ecd4": {
      "model_module": "@jupyter-widgets/controls",
      "model_module_version": "2.0.0",
      "model_name": "CheckboxModel",
      "state": {
       "description": "Barrow",
       "disabled": false,
       "indent": false,
       "layout": "IPY_MODEL_d4eeaf44630a474294ebd0406a7d2e19",
       "style": "IPY_MODEL_9316c255b22244cda53254cea8b77347",
       "value": true
      }
     },
     "1bb2be593799466c962f9536d303a7db": {
      "model_module": "@jupyter-widgets/controls",
      "model_module_version": "2.0.0",
      "model_name": "RadioButtonsModel",
      "state": {
       "_options_labels": [
        "object detection",
        "segmentation"
       ],
       "description": "Select ML method:",
       "index": 1,
       "layout": "IPY_MODEL_a1333657958e4f958de67571f85e02c3",
       "style": "IPY_MODEL_4f4e487fde9e4554a7e11bfe9b509d28"
      }
     },
     "1bd2bb7fa51b4ed091698045b7050b31": {
      "model_module": "@jupyter-widgets/controls",
      "model_module_version": "2.0.0",
      "model_name": "HTMLStyleModel",
      "state": {
       "description_width": "",
       "font_size": null,
       "text_color": null
      }
     },
     "1c16b60b07c443e0a95643adb2889a7c": {
      "model_module": "@jupyter-widgets/controls",
      "model_module_version": "2.0.0",
      "model_name": "TextModel",
      "state": {
       "disabled": true,
       "layout": "IPY_MODEL_d4bd834fffe242cc96bf0e0d3f7b24bf",
       "placeholder": "model_folder/saved_model.tar",
       "style": "IPY_MODEL_1057f362b97746b98e32c0e3107a0c4a"
      }
     },
     "1c2422c9a3c44b04aa26c7e2a1351a33": {
      "model_module": "@jupyter-widgets/base",
      "model_module_version": "2.0.0",
      "model_name": "LayoutModel",
      "state": {}
     },
     "1c5b5eb483f0417fa9d554777a7f7dcf": {
      "model_module": "@jupyter-widgets/base",
      "model_module_version": "2.0.0",
      "model_name": "LayoutModel",
      "state": {}
     },
     "1c6d0e93618c4a61b63600f894384cb2": {
      "model_module": "@jupyter-widgets/controls",
      "model_module_version": "2.0.0",
      "model_name": "TextStyleModel",
      "state": {
       "description_width": "initial",
       "font_size": null,
       "text_color": null
      }
     },
     "1c791af6959240f89bfb7a28c4a57038": {
      "model_module": "@jupyter-widgets/base",
      "model_module_version": "2.0.0",
      "model_name": "LayoutModel",
      "state": {
       "width": "98%"
      }
     },
     "1ca7c293c37041eb9ff447af6df7e2d6": {
      "model_module": "@jupyter-widgets/controls",
      "model_module_version": "2.0.0",
      "model_name": "HBoxModel",
      "state": {
       "children": [
        "IPY_MODEL_e736da4fb5d6482c962954eccd398bb6",
        "IPY_MODEL_80166a4298ee45afa4ae3bd133a52fb7",
        "IPY_MODEL_6fbe1293b272432b8934eb560c546d15",
        "IPY_MODEL_4082399019d743a98549d8ba5b642da0"
       ],
       "layout": "IPY_MODEL_9ee16eb0d24e4ebb94b71b6f51003669"
      }
     },
     "1cdb4959db8040a99f9386160dc28afd": {
      "model_module": "@jupyter-widgets/controls",
      "model_module_version": "2.0.0",
      "model_name": "CheckboxStyleModel",
      "state": {
       "description_width": ""
      }
     },
     "1d3e1b692110424289a1d1f88d8f8eab": {
      "model_module": "@jupyter-widgets/controls",
      "model_module_version": "2.0.0",
      "model_name": "HBoxModel",
      "state": {
       "children": [
        "IPY_MODEL_7ecaf253ddf84236b3d060848ac9c60d",
        "IPY_MODEL_c721180499114e10a39f99c8c9d7dd81"
       ],
       "layout": "IPY_MODEL_a89322b2d7e045ecad96b658f22efbcd"
      }
     },
     "1d570493ce544b01bd7ff53492898cd5": {
      "model_module": "@jupyter-widgets/base",
      "model_module_version": "2.0.0",
      "model_name": "LayoutModel",
      "state": {}
     },
     "1db1ec0a0ab2412299c7ed8f09542c23": {
      "model_module": "@jupyter-widgets/base",
      "model_module_version": "2.0.0",
      "model_name": "LayoutModel",
      "state": {}
     },
     "1db4628252a34dd7a625d1dc339a0922": {
      "model_module": "@jupyter-widgets/base",
      "model_module_version": "2.0.0",
      "model_name": "LayoutModel",
      "state": {}
     },
     "1ddf9cfa64fc48da8b13760b5caeea24": {
      "model_module": "@jupyter-widgets/base",
      "model_module_version": "2.0.0",
      "model_name": "LayoutModel",
      "state": {
       "width": "98%"
      }
     },
     "1df42030e7a24169ae084eb3442facc1": {
      "model_module": "@jupyter-widgets/base",
      "model_module_version": "2.0.0",
      "model_name": "LayoutModel",
      "state": {}
     },
     "1df9a1db152446f2a1e661478a2dd081": {
      "model_module": "@jupyter-widgets/controls",
      "model_module_version": "2.0.0",
      "model_name": "HBoxModel",
      "state": {
       "children": [
        "IPY_MODEL_a7853c1637254088965391a0135926c2",
        "IPY_MODEL_c83376797a0048c0a083bcaa10441436"
       ],
       "layout": "IPY_MODEL_41d97e15b59547ed9329c9db4ff9c1e1"
      }
     },
     "1dfef350a2494119abb04de88de17d5a": {
      "model_module": "@jupyter-widgets/base",
      "model_module_version": "2.0.0",
      "model_name": "LayoutModel",
      "state": {}
     },
     "1e1a16ad8e474f1f81bb615ddc87ecf8": {
      "model_module": "@jupyter-widgets/base",
      "model_module_version": "2.0.0",
      "model_name": "LayoutModel",
      "state": {
       "width": "98%"
      }
     },
     "1e3df6aa4edb4aa2b3f0a5a7f262ebb3": {
      "model_module": "@jupyter-widgets/controls",
      "model_module_version": "2.0.0",
      "model_name": "HTMLModel",
      "state": {
       "layout": "IPY_MODEL_fe9e19af14224e4ea0173232b38b0a21",
       "style": "IPY_MODEL_bd6846ac996e42878d13ad60e0d136c5",
       "value": "<b><font color='black'>Select classes for inference:</b>"
      }
     },
     "1e4c7420f2264f1d98d19f7d81ac5305": {
      "model_module": "@jupyter-widgets/base",
      "model_module_version": "2.0.0",
      "model_name": "LayoutModel",
      "state": {
       "width": "98%"
      }
     },
     "1e56a2d18df440e2974e4ff9913fc3c5": {
      "model_module": "@jupyter-widgets/base",
      "model_module_version": "2.0.0",
      "model_name": "LayoutModel",
      "state": {}
     },
     "1e5d8cecee794db2b04d1e825b93eab2": {
      "model_module": "@jupyter-widgets/controls",
      "model_module_version": "2.0.0",
      "model_name": "RadioButtonsModel",
      "state": {
       "_options_labels": [
        "object detection",
        "segmentation"
       ],
       "description": "Select ML method:",
       "index": 1,
       "layout": "IPY_MODEL_0cf47bc6e3004804890d45420bbdef43",
       "style": "IPY_MODEL_b49df73e605c454a90cc88ba9cc2b6aa"
      }
     },
     "1e6a0ea34ef947fd8cff5275ead78c3a": {
      "model_module": "@jupyter-widgets/controls",
      "model_module_version": "2.0.0",
      "model_name": "CheckboxStyleModel",
      "state": {
       "description_width": ""
      }
     },
     "1e7a7d7b7ac74192a049d22b5c9c9edc": {
      "model_module": "@jupyter-widgets/output",
      "model_module_version": "1.0.0",
      "model_name": "OutputModel",
      "state": {
       "layout": "IPY_MODEL_647e429bb2e1426993063e2d9ffa71f9"
      }
     },
     "1e925e17f3c94d18a0227276fcfe3550": {
      "model_module": "@jupyter-widgets/controls",
      "model_module_version": "2.0.0",
      "model_name": "CheckboxModel",
      "state": {
       "description": "Barrow",
       "disabled": false,
       "indent": false,
       "layout": "IPY_MODEL_0525806bf8e346e28b51f28c714b14b6",
       "style": "IPY_MODEL_42b45c16aa0b4ca8a386dfeb99803d82",
       "value": true
      }
     },
     "1ec83b4d64d646ee88d2e51195aa9c96": {
      "model_module": "@jupyter-widgets/base",
      "model_module_version": "2.0.0",
      "model_name": "LayoutModel",
      "state": {}
     },
     "1ed120a3570c4952bece79057ecb8817": {
      "model_module": "@jupyter-widgets/controls",
      "model_module_version": "2.0.0",
      "model_name": "TextModel",
      "state": {
       "description": "Path to ML model [*.tar]:",
       "layout": "IPY_MODEL_074b77b78ed847ff90c396af227e0688",
       "placeholder": "model_folder/saved_model.tar",
       "style": "IPY_MODEL_864de0659c9348c4a8832361f8d6be02"
      }
     },
     "1f09a93f035d43ccaac30f9f3a05894b": {
      "model_module": "@jupyter-widgets/base",
      "model_module_version": "2.0.0",
      "model_name": "LayoutModel",
      "state": {}
     },
     "1fc937e16d4a4a0cbd29628b248c0de4": {
      "model_module": "@jupyter-widgets/output",
      "model_module_version": "1.0.0",
      "model_name": "OutputModel",
      "state": {
       "layout": "IPY_MODEL_490c47ad5cc34854a4afc16e9eafa4f9",
       "outputs": [
        {
         "name": "stdout",
         "output_type": "stream",
         "text": "{'name': 'index', 'old': 0, 'new': 1, 'owner': RadioButtons(description='Select ML model:', index=1, options=('ADAF model', 'Custom model'), value='Custom model'), 'type': 'change'}\n"
        }
       ]
      }
     },
     "1fedf1c21089400da81607fbad0893cf": {
      "model_module": "@jupyter-widgets/base",
      "model_module_version": "2.0.0",
      "model_name": "LayoutModel",
      "state": {
       "width": "98%"
      }
     },
     "20207cdbff3944ecb935f919f0c44372": {
      "model_module": "@jupyter-widgets/base",
      "model_module_version": "2.0.0",
      "model_name": "LayoutModel",
      "state": {}
     },
     "2057cff28c6d48efa2567a299dac8773": {
      "model_module": "@jupyter-widgets/controls",
      "model_module_version": "2.0.0",
      "model_name": "HBoxModel",
      "state": {
       "children": [
        "IPY_MODEL_c5fa71e3e69343d19e1ad55b6fb1340f",
        "IPY_MODEL_4ba9a8d719d944aa84f7a0949ceb4f30"
       ],
       "layout": "IPY_MODEL_81cf8bef78224b4d952250615582b6cc"
      }
     },
     "208aab5a01e94e57b13e288d7851d216": {
      "model_module": "@jupyter-widgets/base",
      "model_module_version": "2.0.0",
      "model_name": "LayoutModel",
      "state": {}
     },
     "208f96c7203d4b289d2dd57a896f26fa": {
      "model_module": "@jupyter-widgets/controls",
      "model_module_version": "2.0.0",
      "model_name": "VBoxModel",
      "state": {
       "children": [
        "IPY_MODEL_687b617264ce47c1aa9c6c7cc1f439d2",
        "IPY_MODEL_564f21f624d648d2b5be73d54ac8d9ba",
        "IPY_MODEL_74890eefa06e43a18d91e7a64b1635c8",
        "IPY_MODEL_d7df05a721b344f6b88ff30b3d03cf80"
       ],
       "layout": "IPY_MODEL_90b398c86f4c49bb9d5e5d04ddb8d732"
      }
     },
     "20e1a2164b2441adb821354eb752671e": {
      "model_module": "@jupyter-widgets/output",
      "model_module_version": "1.0.0",
      "model_name": "OutputModel",
      "state": {
       "layout": "IPY_MODEL_e4eb53823cb74a3292ecaf72e57fb459",
       "outputs": [
        {
         "data": {
          "application/vnd.jupyter.widget-view+json": {
           "model_id": "d03e9f2be04f473ba9e48549ee8a1285",
           "version_major": 2,
           "version_minor": 0
          },
          "text/plain": "Label(value='Path to ML model [*.tar]:')"
         },
         "metadata": {},
         "output_type": "display_data"
        }
       ]
      }
     },
     "20fbeb7e1e1240e68e1d16fe5d9746c8": {
      "model_module": "@jupyter-widgets/base",
      "model_module_version": "2.0.0",
      "model_name": "LayoutModel",
      "state": {}
     },
     "2118057c8228406c9b80fc7d7a798225": {
      "model_module": "@jupyter-widgets/output",
      "model_module_version": "1.0.0",
      "model_name": "OutputModel",
      "state": {
       "layout": "IPY_MODEL_ac133173c60643ebbb90e8cadf75b5ab",
       "outputs": [
        {
         "data": {
          "application/vnd.jupyter.widget-view+json": {
           "model_id": "7437f6aded844f35b76387e64ba6f087",
           "version_major": 2,
           "version_minor": 0
          },
          "text/plain": "Text(value='', description='Visualization path:', layout=Layout(width='98%'), placeholder='<my_data_folder/my_…"
         },
         "metadata": {},
         "output_type": "display_data"
        }
       ]
      }
     },
     "212cd2b608ca4ab591897f2655c183bd": {
      "model_module": "@jupyter-widgets/base",
      "model_module_version": "2.0.0",
      "model_name": "LayoutModel",
      "state": {
       "border_bottom": "1px solid black",
       "border_left": "1px solid black",
       "border_right": "1px solid black",
       "border_top": "1px solid black"
      }
     },
     "2154416e3d304ebea0923a47efa2653d": {
      "model_module": "@jupyter-widgets/controls",
      "model_module_version": "2.0.0",
      "model_name": "TextStyleModel",
      "state": {
       "description_width": "initial",
       "font_size": null,
       "text_color": null
      }
     },
     "217a8c739f50407d9cfb911f1285b39a": {
      "model_module": "@jupyter-widgets/controls",
      "model_module_version": "2.0.0",
      "model_name": "LabelModel",
      "state": {
       "layout": "IPY_MODEL_ddbb695b240543b580ea308f1eb37787",
       "style": "IPY_MODEL_556276c463244c6e8e5f3f80c3b9cda8",
       "value": "Select classes for inference:"
      }
     },
     "219764368c9e43f28f78e774a5aef042": {
      "model_module": "@jupyter-widgets/base",
      "model_module_version": "2.0.0",
      "model_name": "LayoutModel",
      "state": {}
     },
     "21a9bf9a41ca44088ba4ee9a4f04772d": {
      "model_module": "@jupyter-widgets/controls",
      "model_module_version": "2.0.0",
      "model_name": "LabelModel",
      "state": {
       "layout": "IPY_MODEL_05f59fe5465a4c7993c1a589f9d10421",
       "style": "IPY_MODEL_71d9520359fe45e180bf01a5cb351d8a",
       "value": "Select classes for inference:"
      }
     },
     "21ab44c579aa4a9c8203ed2373ca458e": {
      "model_module": "@jupyter-widgets/controls",
      "model_module_version": "2.0.0",
      "model_name": "HBoxModel",
      "state": {
       "children": [
        "IPY_MODEL_f661adb264484ca4b6123d47d1f89135",
        "IPY_MODEL_1642228d34974f7da47bea3433bfc12b"
       ],
       "layout": "IPY_MODEL_6f50a0a0e4c74fc9bfd596fa4750139e"
      }
     },
     "22061b749ed94befa0c8fb94ff6e9849": {
      "model_module": "@jupyter-widgets/base",
      "model_module_version": "2.0.0",
      "model_name": "LayoutModel",
      "state": {}
     },
     "2227292a83c145feba26801933095136": {
      "model_module": "@jupyter-widgets/output",
      "model_module_version": "1.0.0",
      "model_name": "OutputModel",
      "state": {
       "layout": "IPY_MODEL_ab287b204ebd48009fc7686df304efb6"
      }
     },
     "223aee54fc7141028be2740851d1df71": {
      "model_module": "@jupyter-widgets/base",
      "model_module_version": "2.0.0",
      "model_name": "LayoutModel",
      "state": {}
     },
     "22943ab28e7d425ab96c8b8973902c45": {
      "model_module": "@jupyter-widgets/base",
      "model_module_version": "2.0.0",
      "model_name": "LayoutModel",
      "state": {
       "border_bottom": "1px solid black",
       "border_left": "1px solid black",
       "border_right": "1px solid black",
       "border_top": "1px solid black"
      }
     },
     "22c20deb01b54264a524749fa2148ede": {
      "model_module": "@jupyter-widgets/output",
      "model_module_version": "1.0.0",
      "model_name": "OutputModel",
      "state": {
       "layout": "IPY_MODEL_a8a32e238be34b2ea49f18064563fb38"
      }
     },
     "232e1b8240ea41aab3c35b588010818c": {
      "model_module": "@jupyter-widgets/controls",
      "model_module_version": "2.0.0",
      "model_name": "TextModel",
      "state": {
       "description": "DEM path:",
       "layout": "IPY_MODEL_035ecb96c0004bfd8d3c74295f9cf97a",
       "placeholder": "<list of paths in TXT file!>",
       "style": "IPY_MODEL_fc2fb84a7ffd45dba26cff1b70393c4b"
      }
     },
     "2342a0cd53d74f10bec92b0039f3e72a": {
      "model_module": "@jupyter-widgets/controls",
      "model_module_version": "2.0.0",
      "model_name": "CheckboxModel",
      "state": {
       "description": "All archaeology",
       "disabled": false,
       "indent": false,
       "layout": "IPY_MODEL_f558ee4ef63e42fb97138a4e8eabacfc",
       "style": "IPY_MODEL_aae95e62bb5e44edbf21fdfc0d25d7d8",
       "value": false
      }
     },
     "2346a28905e443f1bfcae10fe23fccbf": {
      "model_module": "@jupyter-widgets/controls",
      "model_module_version": "2.0.0",
      "model_name": "RadioButtonsModel",
      "state": {
       "_options_labels": [
        "object detection",
        "segmentation"
       ],
       "description": "Select ML method:",
       "index": 1,
       "layout": "IPY_MODEL_e0feece8c5ae4c789c15fe3722aafd2e",
       "style": "IPY_MODEL_b068f0354f4f49e48af8638a28d2cf5c"
      }
     },
     "234c3c0a6b8e4235aea70a67b5f2c4d8": {
      "model_module": "@jupyter-widgets/controls",
      "model_module_version": "2.0.0",
      "model_name": "DescriptionStyleModel",
      "state": {
       "description_width": ""
      }
     },
     "235398aee16042c391044a57db2af286": {
      "model_module": "@jupyter-widgets/base",
      "model_module_version": "2.0.0",
      "model_name": "LayoutModel",
      "state": {
       "border_bottom": "1px solid black",
       "border_left": "1px solid black",
       "border_right": "1px solid black",
       "border_top": "1px solid black"
      }
     },
     "23adc26792d54d65bf0f33c19dda4574": {
      "model_module": "@jupyter-widgets/controls",
      "model_module_version": "2.0.0",
      "model_name": "CheckboxModel",
      "state": {
       "description": "All archaeology",
       "disabled": false,
       "indent": false,
       "layout": "IPY_MODEL_6a51f7766cc94c36bce81315f8e77b40",
       "style": "IPY_MODEL_063b31f812914c0696586b03acb8804c",
       "value": false
      }
     },
     "23c1360e20a747889f9a3cad7d097cad": {
      "model_module": "@jupyter-widgets/controls",
      "model_module_version": "2.0.0",
      "model_name": "CheckboxModel",
      "state": {
       "description": "All archaeology",
       "disabled": false,
       "indent": false,
       "layout": "IPY_MODEL_c166e0cc9f3b49719cd340c06b7b79d2",
       "style": "IPY_MODEL_9f4c1b3325524d5f9bc636501e4f61a1",
       "value": false
      }
     },
     "23dfc26f90f84752b5f18c88a6bef9c6": {
      "model_module": "@jupyter-widgets/base",
      "model_module_version": "2.0.0",
      "model_name": "LayoutModel",
      "state": {}
     },
     "23e3a110a47f40019739c9dbe94c0f6a": {
      "model_module": "@jupyter-widgets/base",
      "model_module_version": "2.0.0",
      "model_name": "LayoutModel",
      "state": {
       "border_bottom": "1px solid black",
       "border_left": "1px solid black",
       "border_right": "1px solid black",
       "border_top": "1px solid black"
      }
     },
     "23fd3667d1d74793abf650b1adc21877": {
      "model_module": "@jupyter-widgets/base",
      "model_module_version": "2.0.0",
      "model_name": "LayoutModel",
      "state": {
       "width": "98%"
      }
     },
     "24008f256a764e3d9c01e226fb101409": {
      "model_module": "@jupyter-widgets/base",
      "model_module_version": "2.0.0",
      "model_name": "LayoutModel",
      "state": {}
     },
     "240fa4e460154de4ada0f64b5921335e": {
      "model_module": "@jupyter-widgets/base",
      "model_module_version": "2.0.0",
      "model_name": "LayoutModel",
      "state": {
       "width": "98%"
      }
     },
     "241e76a5aacd44fb87f4ee602a3eeadb": {
      "model_module": "@jupyter-widgets/controls",
      "model_module_version": "2.0.0",
      "model_name": "DescriptionStyleModel",
      "state": {
       "description_width": ""
      }
     },
     "24298ebb55414ff0ba2851f38e72da91": {
      "model_module": "@jupyter-widgets/base",
      "model_module_version": "2.0.0",
      "model_name": "LayoutModel",
      "state": {}
     },
     "2459b757dfef42e0bb14a8b576cac160": {
      "model_module": "@jupyter-widgets/controls",
      "model_module_version": "2.0.0",
      "model_name": "VBoxModel",
      "state": {
       "children": [
        "IPY_MODEL_4af39d3888024891a5d34c6e6c7ab342",
        "IPY_MODEL_fa9b77c132ab4eb382badb674bc64dc7",
        "IPY_MODEL_f700a00909514e24ac3f21fcf65bf0f4"
       ],
       "layout": "IPY_MODEL_22061b749ed94befa0c8fb94ff6e9849"
      }
     },
     "2479292c787c4974aafb8ef5a88155a1": {
      "model_module": "@jupyter-widgets/base",
      "model_module_version": "2.0.0",
      "model_name": "LayoutModel",
      "state": {}
     },
     "24aaec14202d4262b8c724509d6bf1a5": {
      "model_module": "@jupyter-widgets/base",
      "model_module_version": "2.0.0",
      "model_name": "LayoutModel",
      "state": {}
     },
     "24d751c5e73d4b429c27af713afe2d89": {
      "model_module": "@jupyter-widgets/controls",
      "model_module_version": "2.0.0",
      "model_name": "CheckboxModel",
      "state": {
       "description": "Ringfort",
       "disabled": false,
       "indent": false,
       "layout": "IPY_MODEL_aba0492231f949949202ec1ba4cf61e4",
       "style": "IPY_MODEL_8d6a03fe8ea84fac9e1b52e286df5625",
       "value": true
      }
     },
     "250482d469f04e359a1be29f8e8d81b9": {
      "model_module": "@jupyter-widgets/controls",
      "model_module_version": "2.0.0",
      "model_name": "TextStyleModel",
      "state": {
       "description_width": "initial",
       "font_size": null,
       "text_color": null
      }
     },
     "251d58b7dd0946eb8d1b65fc92daef38": {
      "model_module": "@jupyter-widgets/controls",
      "model_module_version": "2.0.0",
      "model_name": "TextStyleModel",
      "state": {
       "description_width": "initial",
       "font_size": null,
       "text_color": null
      }
     },
     "2527cea26fcf477fa681885b0bd2b3a2": {
      "model_module": "@jupyter-widgets/controls",
      "model_module_version": "2.0.0",
      "model_name": "HTMLStyleModel",
      "state": {
       "description_width": "",
       "font_size": null,
       "text_color": null
      }
     },
     "254a9e1642b44ca6a45e97cd15e5af74": {
      "model_module": "@jupyter-widgets/base",
      "model_module_version": "2.0.0",
      "model_name": "LayoutModel",
      "state": {}
     },
     "254dc80242a545a49e30873f5a4da2ba": {
      "model_module": "@jupyter-widgets/base",
      "model_module_version": "2.0.0",
      "model_name": "LayoutModel",
      "state": {}
     },
     "255f65044d764cc2bccad260c14c061a": {
      "model_module": "@jupyter-widgets/controls",
      "model_module_version": "2.0.0",
      "model_name": "CheckboxStyleModel",
      "state": {
       "description_width": ""
      }
     },
     "25952ca1a4494c50872e42cb3b05f25f": {
      "model_module": "@jupyter-widgets/controls",
      "model_module_version": "2.0.0",
      "model_name": "CheckboxStyleModel",
      "state": {
       "description_width": ""
      }
     },
     "259964a0fd24474a9126961608e41953": {
      "model_module": "@jupyter-widgets/base",
      "model_module_version": "2.0.0",
      "model_name": "LayoutModel",
      "state": {
       "width": "98%"
      }
     },
     "25aeff0082f64ece92f1a59fcbb62f7d": {
      "model_module": "@jupyter-widgets/controls",
      "model_module_version": "2.0.0",
      "model_name": "TextModel",
      "state": {
       "description": "DEM path:",
       "layout": "IPY_MODEL_432f565d736049b19a714a85abcc7cbc",
       "placeholder": "<my_data_folder/my_DEM_file.tif>",
       "style": "IPY_MODEL_e7b4acb47b6742699b095f146033d68f"
      }
     },
     "25b2dcdbafeb4d929ce8e09137da8189": {
      "model_module": "@jupyter-widgets/controls",
      "model_module_version": "2.0.0",
      "model_name": "DescriptionStyleModel",
      "state": {
       "description_width": ""
      }
     },
     "25c4a6a0c2304b698f0ecc693e29ce00": {
      "model_module": "@jupyter-widgets/output",
      "model_module_version": "1.0.0",
      "model_name": "OutputModel",
      "state": {
       "layout": "IPY_MODEL_3f5a0095e0d14c99b62fd04d411d67bf",
       "outputs": [
        {
         "data": {
          "application/vnd.jupyter.widget-view+json": {
           "model_id": "00b8255134b24a4389bb7a2ac1e74aa4",
           "version_major": 2,
           "version_minor": 0
          },
          "text/plain": "Text(value='', description='DEM path:', layout=Layout(width='98%'), placeholder='<my_data_folder/my_DEM_file.t…"
         },
         "metadata": {},
         "output_type": "display_data"
        }
       ]
      }
     },
     "25efdd88a81746da95c510a6fd5468b6": {
      "model_module": "@jupyter-widgets/controls",
      "model_module_version": "2.0.0",
      "model_name": "CheckboxStyleModel",
      "state": {
       "description_width": ""
      }
     },
     "26b8327ccb524906b20dd041ae33ec0e": {
      "model_module": "@jupyter-widgets/controls",
      "model_module_version": "2.0.0",
      "model_name": "HTMLModel",
      "state": {
       "layout": "IPY_MODEL_e4cd6c52195e4e078b5c07fa09253705",
       "style": "IPY_MODEL_ceaf1a218e4e4c7da8d0ec93ccd4609d",
       "value": "<b>ML options:</b>"
      }
     },
     "26cecabc437d4143a47ba827eddeb19c": {
      "model_module": "@jupyter-widgets/base",
      "model_module_version": "2.0.0",
      "model_name": "LayoutModel",
      "state": {}
     },
     "26ec6d09b9a64fb88b7fd0dfc659fab2": {
      "model_module": "@jupyter-widgets/output",
      "model_module_version": "1.0.0",
      "model_name": "OutputModel",
      "state": {
       "layout": "IPY_MODEL_0bbca01e3864479caf452cec29b637ed",
       "outputs": [
        {
         "data": {
          "application/vnd.jupyter.widget-view+json": {
           "model_id": "a26ef1faff0e4380a06ef5b1eb14e737",
           "version_major": 2,
           "version_minor": 0
          },
          "text/plain": "Text(value='', description='DEM path:', layout=Layout(width='98%'), placeholder='<my_data_folder/my_DEM_file.t…"
         },
         "metadata": {},
         "output_type": "display_data"
        }
       ]
      }
     },
     "275ea360262d4793be2816bf9ef17401": {
      "model_module": "@jupyter-widgets/base",
      "model_module_version": "2.0.0",
      "model_name": "LayoutModel",
      "state": {}
     },
     "2773fedeaf474978b97cf5a74a64250c": {
      "model_module": "@jupyter-widgets/base",
      "model_module_version": "2.0.0",
      "model_name": "LayoutModel",
      "state": {}
     },
     "27e3bf60aed44a9f9a14b5ddc0fff2a9": {
      "model_module": "@jupyter-widgets/controls",
      "model_module_version": "2.0.0",
      "model_name": "RadioButtonsModel",
      "state": {
       "_options_labels": [
        "DEM (*.tif / *.vrt)",
        "Visualization (*.tif / *.vrt)"
       ],
       "description": "Select input file:",
       "index": 0,
       "layout": "IPY_MODEL_b95bfe6666d440949a1dd6909c8b7723",
       "style": "IPY_MODEL_0607d551f4d947faad61891c46f0e613"
      }
     },
     "27fe550f398b44ae9d1479eb5827bd0b": {
      "model_module": "@jupyter-widgets/base",
      "model_module_version": "2.0.0",
      "model_name": "LayoutModel",
      "state": {}
     },
     "282dd54da07f406c8f4567a981dafa94": {
      "model_module": "@jupyter-widgets/output",
      "model_module_version": "1.0.0",
      "model_name": "OutputModel",
      "state": {
       "layout": "IPY_MODEL_fbd33faab51142b4a4874497bca874a0",
       "outputs": [
        {
         "data": {
          "application/vnd.jupyter.widget-view+json": {
           "model_id": "07121ca477524330b0bb5f80e83753f0",
           "version_major": 2,
           "version_minor": 0
          },
          "text/plain": "Label(value='Select classes for inference:')"
         },
         "metadata": {},
         "output_type": "display_data"
        }
       ]
      }
     },
     "285e542c576a4b97838b2fa7aa94916e": {
      "model_module": "@jupyter-widgets/base",
      "model_module_version": "2.0.0",
      "model_name": "LayoutModel",
      "state": {}
     },
     "2866257fe2ef44bdaa118f7fd7087081": {
      "model_module": "@jupyter-widgets/controls",
      "model_module_version": "2.0.0",
      "model_name": "CheckboxModel",
      "state": {
       "description": "Enclosure",
       "disabled": false,
       "indent": false,
       "layout": "IPY_MODEL_dbdb06eba61b4e128ca4e9ca81da92b1",
       "style": "IPY_MODEL_d4107d49448f483c99620a61aeee5d80",
       "value": true
      }
     },
     "28a67b25e033467eab4f165025eef2ec": {
      "model_module": "@jupyter-widgets/controls",
      "model_module_version": "2.0.0",
      "model_name": "HBoxModel",
      "state": {
       "children": [
        "IPY_MODEL_bcf3ac70056446899a5e3e467ac497a3",
        "IPY_MODEL_e33bf6ee4ce24dffbdbccead053e7bb0"
       ],
       "layout": "IPY_MODEL_b51b2ffcdaa24470ab68900664327dfe"
      }
     },
     "28cd9c82793e4a1bb064331114cd86d8": {
      "model_module": "@jupyter-widgets/controls",
      "model_module_version": "2.0.0",
      "model_name": "RadioButtonsModel",
      "state": {
       "_options_labels": [
        "ADAF model",
        "Custom model"
       ],
       "description": "Select ML model:",
       "index": 0,
       "layout": "IPY_MODEL_a5de3fa86a254e57964f5eccc467c5c7",
       "style": "IPY_MODEL_6a9311f7bd54421da91d17cf4593a877"
      }
     },
     "28dfd54b467d48469b6c88131fe7b9de": {
      "model_module": "@jupyter-widgets/controls",
      "model_module_version": "2.0.0",
      "model_name": "CheckboxModel",
      "state": {
       "description": "Enclosure",
       "disabled": false,
       "indent": false,
       "layout": "IPY_MODEL_ee53e36d0dec46b3802d540c840d76de",
       "style": "IPY_MODEL_3e0ffbd82db54eb9bac4c80fb5b17c18",
       "value": true
      }
     },
     "28e4bedea8ce483a9cdfc6d2a542e572": {
      "model_module": "@jupyter-widgets/base",
      "model_module_version": "2.0.0",
      "model_name": "LayoutModel",
      "state": {}
     },
     "291107ff46cc446591dcebd2768416b9": {
      "model_module": "@jupyter-widgets/controls",
      "model_module_version": "2.0.0",
      "model_name": "LabelModel",
      "state": {
       "layout": "IPY_MODEL_7434afc5299f4d1eb44115467f65d19a",
       "style": "IPY_MODEL_b25803155d6542c4ba84f57404c1bb30",
       "value": "Path to ML model [*.tar]:"
      }
     },
     "29275c8720d44d9b959da6d343b08d98": {
      "model_module": "@jupyter-widgets/controls",
      "model_module_version": "2.0.0",
      "model_name": "DescriptionStyleModel",
      "state": {
       "description_width": ""
      }
     },
     "294740446a704bd3b6359281d10621fc": {
      "model_module": "@jupyter-widgets/controls",
      "model_module_version": "2.0.0",
      "model_name": "CheckboxStyleModel",
      "state": {
       "description_width": ""
      }
     },
     "2949629dae434a07a2f2b6ffd0801574": {
      "model_module": "@jupyter-widgets/controls",
      "model_module_version": "2.0.0",
      "model_name": "LabelModel",
      "state": {
       "layout": "IPY_MODEL_e0f2c001ad6c405495e624273697faa6",
       "style": "IPY_MODEL_3cbcccafdc15416785e1032d2a4ede9a",
       "value": "Select classes for inference:"
      }
     },
     "29c270b7d68349b79a9a2ee21d9f1888": {
      "model_module": "@jupyter-widgets/controls",
      "model_module_version": "2.0.0",
      "model_name": "CheckboxModel",
      "state": {
       "description": "All archaeology",
       "disabled": false,
       "indent": false,
       "layout": "IPY_MODEL_51a363cde31a436793358588930806a6",
       "style": "IPY_MODEL_8dcd5b3e67c84aebac6619bfbda548ad",
       "value": false
      }
     },
     "29d4010ea48c4a409eaef11d21684ad2": {
      "model_module": "@jupyter-widgets/base",
      "model_module_version": "2.0.0",
      "model_name": "LayoutModel",
      "state": {}
     },
     "29d547023df44850a5111be73547574a": {
      "model_module": "@jupyter-widgets/controls",
      "model_module_version": "2.0.0",
      "model_name": "VBoxModel",
      "state": {
       "_dom_classes": [
        "widget-interact"
       ],
       "children": [
        "IPY_MODEL_355b6f035b794ac9b87c6f8637634bcb",
        "IPY_MODEL_ad2138ad7e9244dda4a7c61f3ea3659d"
       ],
       "layout": "IPY_MODEL_904b48ec54364e9c886f5e41787188fe"
      }
     },
     "2a084ac7bbf84ba7a154ac94d7b850fc": {
      "model_module": "@jupyter-widgets/base",
      "model_module_version": "2.0.0",
      "model_name": "LayoutModel",
      "state": {}
     },
     "2a0f1d0cad5b4ead922de3dbd8e6dfa5": {
      "model_module": "@jupyter-widgets/base",
      "model_module_version": "2.0.0",
      "model_name": "LayoutModel",
      "state": {
       "width": "98%"
      }
     },
     "2a26a2e41f4649c8ade93898e08a7651": {
      "model_module": "@jupyter-widgets/controls",
      "model_module_version": "2.0.0",
      "model_name": "HTMLStyleModel",
      "state": {
       "description_width": "",
       "font_size": null,
       "text_color": null
      }
     },
     "2a4030a3de254e7fb8b447e9aae9bf86": {
      "model_module": "@jupyter-widgets/controls",
      "model_module_version": "2.0.0",
      "model_name": "CheckboxModel",
      "state": {
       "description": "All archaeology",
       "disabled": false,
       "indent": false,
       "layout": "IPY_MODEL_0499f2063dad4f92ab6864d5920328dd",
       "style": "IPY_MODEL_ec2d771d23684292856bc9d5ec3c6098",
       "value": false
      }
     },
     "2a4b7f751ed544378e15a0517476be13": {
      "model_module": "@jupyter-widgets/base",
      "model_module_version": "2.0.0",
      "model_name": "LayoutModel",
      "state": {}
     },
     "2a50fc4d7b4b405090fbcf454252d440": {
      "model_module": "@jupyter-widgets/controls",
      "model_module_version": "2.0.0",
      "model_name": "DescriptionStyleModel",
      "state": {
       "description_width": ""
      }
     },
     "2a59de4b69d44c848bc90ae9a214a7d5": {
      "model_module": "@jupyter-widgets/controls",
      "model_module_version": "2.0.0",
      "model_name": "CheckboxModel",
      "state": {
       "description": "Batch processing",
       "disabled": false,
       "indent": false,
       "layout": "IPY_MODEL_76d9472eb1e34666bb515eb0499adee3",
       "style": "IPY_MODEL_8859ac07a7cd4eda93d9226e1faf1ef1",
       "value": true
      }
     },
     "2a71092aa3ae4580aaabb8c7116360e6": {
      "model_module": "@jupyter-widgets/base",
      "model_module_version": "2.0.0",
      "model_name": "LayoutModel",
      "state": {}
     },
     "2a745a750d2c411bb8edb1613b34ac10": {
      "model_module": "@jupyter-widgets/controls",
      "model_module_version": "2.0.0",
      "model_name": "RadioButtonsModel",
      "state": {
       "_options_labels": [
        "object detection",
        "segmentation"
       ],
       "description": "Select ML method:",
       "index": 1,
       "layout": "IPY_MODEL_01aace9d3e9147518e869b8e069a6890",
       "style": "IPY_MODEL_c0c6528b2c9346b3986455f8fc2e89d2"
      }
     },
     "2a7af32bacde486c89ce8b3568931ce2": {
      "model_module": "@jupyter-widgets/base",
      "model_module_version": "2.0.0",
      "model_name": "LayoutModel",
      "state": {}
     },
     "2a7d4c1a3c5048e3a0845e53edbca2c1": {
      "model_module": "@jupyter-widgets/controls",
      "model_module_version": "2.0.0",
      "model_name": "RadioButtonsModel",
      "state": {
       "_options_labels": [
        "object detection",
        "segmentation"
       ],
       "description": "Select ML method:",
       "index": 1,
       "layout": "IPY_MODEL_3afd1b7653f449dfaf0823eb17cfce67",
       "style": "IPY_MODEL_4332de116280458fbf1d55777bb042c3"
      }
     },
     "2a7db54dc6884b92a7a03bf26c971ac4": {
      "model_module": "@jupyter-widgets/base",
      "model_module_version": "2.0.0",
      "model_name": "LayoutModel",
      "state": {
       "border_bottom": "1px solid black",
       "border_left": "1px solid black",
       "border_right": "1px solid black",
       "border_top": "1px solid black"
      }
     },
     "2a8d6bea9f05480b9d4f57ef52d18243": {
      "model_module": "@jupyter-widgets/controls",
      "model_module_version": "2.0.0",
      "model_name": "LabelModel",
      "state": {
       "layout": "IPY_MODEL_eef8e92d59034690b4a61f329fc59cb5",
       "style": "IPY_MODEL_3fbc7f3403f9468c9c729513f38b4ae1",
       "value": "Select classes for inference:"
      }
     },
     "2ad09522f4934d16af318b90656e568f": {
      "model_module": "@jupyter-widgets/output",
      "model_module_version": "1.0.0",
      "model_name": "OutputModel",
      "state": {
       "layout": "IPY_MODEL_c4bfb3e087c148d78d10e3e4fb1a500c",
       "outputs": [
        {
         "data": {
          "application/vnd.jupyter.widget-view+json": {
           "model_id": "ddfedbb1bad74a70a373c0497ecab317",
           "version_major": 2,
           "version_minor": 0
          },
          "text/plain": "Text(value='', description='DEM path:', layout=Layout(width='98%'), placeholder='<my_data_folder/my_DEM_file.t…"
         },
         "metadata": {},
         "output_type": "display_data"
        }
       ]
      }
     },
     "2adcd7906d1c4daa9f78fb5da9f65102": {
      "model_module": "@jupyter-widgets/base",
      "model_module_version": "2.0.0",
      "model_name": "LayoutModel",
      "state": {}
     },
     "2adfd86d46a6441483eb18913fd0745e": {
      "model_module": "@jupyter-widgets/base",
      "model_module_version": "2.0.0",
      "model_name": "LayoutModel",
      "state": {}
     },
     "2b03eb6c0f21469b891f1d67436582f6": {
      "model_module": "@jupyter-widgets/controls",
      "model_module_version": "2.0.0",
      "model_name": "HTMLModel",
      "state": {
       "layout": "IPY_MODEL_68ebd374907b4c208c78b9a7ba4ae6c7",
       "style": "IPY_MODEL_e6112655ae5f469b99d1cadf6d070b51",
       "value": "<b>ML options:</b>"
      }
     },
     "2b0cb8fefd8e445db953f7415f7c28df": {
      "model_module": "@jupyter-widgets/controls",
      "model_module_version": "2.0.0",
      "model_name": "HBoxModel",
      "state": {
       "children": [
        "IPY_MODEL_3bb6afc6777d45abb88b91f6cbcb9417",
        "IPY_MODEL_0022b1bac9514246a68a83b381c88c8f",
        "IPY_MODEL_6e140e8e86324a09a19f10973ed972a8",
        "IPY_MODEL_e6dadeaccf48476996a4cd26197419e9"
       ],
       "layout": "IPY_MODEL_fa86c18892c24c3e890414bd3446068f"
      }
     },
     "2b51f144dc154c8b9d4a8bc0e9ccf00d": {
      "model_module": "@jupyter-widgets/base",
      "model_module_version": "2.0.0",
      "model_name": "LayoutModel",
      "state": {
       "border_bottom": "1px solid black",
       "border_left": "1px solid black",
       "border_right": "1px solid black",
       "border_top": "1px solid black"
      }
     },
     "2b82a582696a4b74a89a73371fcd2da1": {
      "model_module": "@jupyter-widgets/base",
      "model_module_version": "2.0.0",
      "model_name": "LayoutModel",
      "state": {
       "width": "98%"
      }
     },
     "2b923d4418094fdbbeb7d47e6282f011": {
      "model_module": "@jupyter-widgets/controls",
      "model_module_version": "2.0.0",
      "model_name": "HTMLModel",
      "state": {
       "layout": "IPY_MODEL_641ed0932dc24dc1bdaa087d3475cb8f",
       "style": "IPY_MODEL_31a0c54468c5481ebac9b7aa3c8fc6ee",
       "value": "<font color='grey'>Select classes for inference:"
      }
     },
     "2bbb104bba1d49ec8810200441bfa099": {
      "model_module": "@jupyter-widgets/controls",
      "model_module_version": "2.0.0",
      "model_name": "RadioButtonsModel",
      "state": {
       "_options_labels": [
        "ADAF model",
        "Custom model"
       ],
       "description": "Select ML model:",
       "index": 0,
       "layout": "IPY_MODEL_5df2a5c4ae044d44839bce011ec6d4e6",
       "style": "IPY_MODEL_314f70300142428da2c06e03f891ba83"
      }
     },
     "2bc2b6de816247648851981273a71890": {
      "model_module": "@jupyter-widgets/controls",
      "model_module_version": "2.0.0",
      "model_name": "DescriptionStyleModel",
      "state": {
       "description_width": ""
      }
     },
     "2bce150f86df426aa09517b347d87722": {
      "model_module": "@jupyter-widgets/controls",
      "model_module_version": "2.0.0",
      "model_name": "HBoxModel",
      "state": {
       "children": [
        "IPY_MODEL_52544577a05d4a0fa9dd4b9ae3465bc3",
        "IPY_MODEL_f1fc862a3766432bb0cb78946d0d2965"
       ],
       "layout": "IPY_MODEL_dc0e8dea117a4494b8510c4274392700"
      }
     },
     "2bfb9f7ba6484cb48726f8046641ca1c": {
      "model_module": "@jupyter-widgets/base",
      "model_module_version": "2.0.0",
      "model_name": "LayoutModel",
      "state": {}
     },
     "2c20b3306df444ffaf0e7488515a1414": {
      "model_module": "@jupyter-widgets/base",
      "model_module_version": "2.0.0",
      "model_name": "LayoutModel",
      "state": {}
     },
     "2c24fef26c3e48c1a573fea51ac581dc": {
      "model_module": "@jupyter-widgets/output",
      "model_module_version": "1.0.0",
      "model_name": "OutputModel",
      "state": {
       "layout": "IPY_MODEL_f89df19937e444bea128a55b72130304",
       "outputs": [
        {
         "data": {
          "application/vnd.jupyter.widget-view+json": {
           "model_id": "51a8f18ce20d456690782a1353130c25",
           "version_major": 2,
           "version_minor": 0
          },
          "text/plain": "Text(value='', description='DEM path:', layout=Layout(width='98%'), placeholder='<my_data_folder/my_DEM_file.t…"
         },
         "metadata": {},
         "output_type": "display_data"
        }
       ]
      }
     },
     "2c6029f3291f45e9b4ddc38c6dbffe3f": {
      "model_module": "@jupyter-widgets/base",
      "model_module_version": "2.0.0",
      "model_name": "LayoutModel",
      "state": {}
     },
     "2c7a87994d3347bcb15c6933a1518bcf": {
      "model_module": "@jupyter-widgets/base",
      "model_module_version": "2.0.0",
      "model_name": "LayoutModel",
      "state": {}
     },
     "2c7f29a9741d45519121d54bd7e2a970": {
      "model_module": "@jupyter-widgets/controls",
      "model_module_version": "2.0.0",
      "model_name": "HTMLModel",
      "state": {
       "layout": "IPY_MODEL_2e57cf8f346e40a8b1ab18297d2797ff",
       "style": "IPY_MODEL_14bef2a3d0ef46e093ff6405ad7d718e",
       "value": "<font color='grey'>Select classes for inference:"
      }
     },
     "2ce73d7c87bf4554af702362b7e7ad26": {
      "model_module": "@jupyter-widgets/controls",
      "model_module_version": "2.0.0",
      "model_name": "CheckboxStyleModel",
      "state": {
       "description_width": ""
      }
     },
     "2d1f68ac7d044aeb965c516e07aa77a9": {
      "model_module": "@jupyter-widgets/controls",
      "model_module_version": "2.0.0",
      "model_name": "TextStyleModel",
      "state": {
       "description_width": "initial",
       "font_size": null,
       "text_color": null
      }
     },
     "2d6b50f89bf649f6b24696be1360c198": {
      "model_module": "@jupyter-widgets/base",
      "model_module_version": "2.0.0",
      "model_name": "LayoutModel",
      "state": {
       "width": "98%"
      }
     },
     "2d8519e64194468183125929d13980c8": {
      "model_module": "@jupyter-widgets/controls",
      "model_module_version": "2.0.0",
      "model_name": "CheckboxModel",
      "state": {
       "description": "All archaeology",
       "disabled": false,
       "indent": false,
       "layout": "IPY_MODEL_3e7b99c2c5a841718e6ee06ccb334990",
       "style": "IPY_MODEL_2e9fd32740334b13bf6544969540d909",
       "value": false
      }
     },
     "2d8a8898898b4e7a9a45b5aba39f835a": {
      "model_module": "@jupyter-widgets/base",
      "model_module_version": "2.0.0",
      "model_name": "LayoutModel",
      "state": {}
     },
     "2dbf2c1c39bd4cbeb32d499658f04946": {
      "model_module": "@jupyter-widgets/controls",
      "model_module_version": "2.0.0",
      "model_name": "HTMLModel",
      "state": {
       "layout": "IPY_MODEL_d8e6af6605da4528a7129d597f740d2a",
       "style": "IPY_MODEL_6faad308788442748c7ac972311ee591",
       "value": "<b>ML options:</b>"
      }
     },
     "2e3dc97120864f22807cd91ded79fa5c": {
      "model_module": "@jupyter-widgets/controls",
      "model_module_version": "2.0.0",
      "model_name": "VBoxModel",
      "state": {
       "children": [
        "IPY_MODEL_2057cff28c6d48efa2567a299dac8773",
        "IPY_MODEL_ba0904c1ab0d498dad4c73539d5fc647",
        "IPY_MODEL_879a3c88322a4716962e47a1dde03731",
        "IPY_MODEL_5d6d3f4a2ee04b80a840a6eabd63cd39"
       ],
       "layout": "IPY_MODEL_e2289034c62e486a878ecf632b0abe09"
      }
     },
     "2e4a26f88b774724bed1ac414b5ad748": {
      "model_module": "@jupyter-widgets/controls",
      "model_module_version": "2.0.0",
      "model_name": "TextStyleModel",
      "state": {
       "description_width": "initial",
       "font_size": null,
       "text_color": null
      }
     },
     "2e57cf8f346e40a8b1ab18297d2797ff": {
      "model_module": "@jupyter-widgets/base",
      "model_module_version": "2.0.0",
      "model_name": "LayoutModel",
      "state": {}
     },
     "2e72fedd024c4a02b64a9aa53b447716": {
      "model_module": "@jupyter-widgets/base",
      "model_module_version": "2.0.0",
      "model_name": "LayoutModel",
      "state": {}
     },
     "2e9c7e3deeab42ba979c9d506b35d192": {
      "model_module": "@jupyter-widgets/controls",
      "model_module_version": "2.0.0",
      "model_name": "CheckboxStyleModel",
      "state": {
       "description_width": ""
      }
     },
     "2e9fd32740334b13bf6544969540d909": {
      "model_module": "@jupyter-widgets/controls",
      "model_module_version": "2.0.0",
      "model_name": "CheckboxStyleModel",
      "state": {
       "description_width": ""
      }
     },
     "2ee13d5846d14d73a828b07bc21724dd": {
      "model_module": "@jupyter-widgets/base",
      "model_module_version": "2.0.0",
      "model_name": "LayoutModel",
      "state": {
       "width": "98%"
      }
     },
     "2f38f668884e460ca66e4b67c3c63b2b": {
      "model_module": "@jupyter-widgets/controls",
      "model_module_version": "2.0.0",
      "model_name": "RadioButtonsModel",
      "state": {
       "_options_labels": [
        "ADAF model",
        "Custom model"
       ],
       "description": "Select ML model:",
       "index": 0,
       "layout": "IPY_MODEL_7aadcaf3a2c14291a788454dd1c07175",
       "style": "IPY_MODEL_7b1bea3567b542c48768e71fca596e90"
      }
     },
     "2f5d436b8e4948b48a84854666d2028d": {
      "model_module": "@jupyter-widgets/controls",
      "model_module_version": "2.0.0",
      "model_name": "TextStyleModel",
      "state": {
       "description_width": "initial",
       "font_size": null,
       "text_color": null
      }
     },
     "2fa044daabca422ebc8e509fa51282b2": {
      "model_module": "@jupyter-widgets/controls",
      "model_module_version": "2.0.0",
      "model_name": "TextModel",
      "state": {
       "layout": "IPY_MODEL_fdf0b734d92a44dea71aa151dc6677ce",
       "placeholder": "model_folder/saved_model.tar",
       "style": "IPY_MODEL_d1862e424f334101b2a419a1ab40ba62"
      }
     },
     "2fc3fd54e5af4b9bbc1cf710d0da0e6a": {
      "model_module": "@jupyter-widgets/base",
      "model_module_version": "2.0.0",
      "model_name": "LayoutModel",
      "state": {}
     },
     "3008596fd13243afaf0408d06266c0ce": {
      "model_module": "@jupyter-widgets/controls",
      "model_module_version": "2.0.0",
      "model_name": "CheckboxModel",
      "state": {
       "description": "All archaeology",
       "disabled": false,
       "indent": false,
       "layout": "IPY_MODEL_e253158b08644785b3b73cd2d89adeb9",
       "style": "IPY_MODEL_b02dc9988b4a4c5393ad022b7460781b",
       "value": false
      }
     },
     "3048afff73d64ee0a2acec11149f7fcb": {
      "model_module": "@jupyter-widgets/controls",
      "model_module_version": "2.0.0",
      "model_name": "VBoxModel",
      "state": {
       "children": [
        "IPY_MODEL_1adf2d227f5b470b9cf9bffb72a53c29",
        "IPY_MODEL_282dd54da07f406c8f4567a981dafa94",
        "IPY_MODEL_a9d1b6cfc44448ccbfd1ddc9022b5032",
        "IPY_MODEL_93cc01c5c6ac40e5b0db4bf91df8612a"
       ],
       "layout": "IPY_MODEL_13f4c22dcc1142e4ba3cf1fc4d88a711"
      }
     },
     "306cbc74c9394ae393adc25a1891764f": {
      "model_module": "@jupyter-widgets/controls",
      "model_module_version": "2.0.0",
      "model_name": "CheckboxStyleModel",
      "state": {
       "description_width": ""
      }
     },
     "3093625e437c422c8d77cc657447df77": {
      "model_module": "@jupyter-widgets/controls",
      "model_module_version": "2.0.0",
      "model_name": "HBoxModel",
      "state": {
       "children": [
        "IPY_MODEL_363bf6c22a3b433885b69343f071f1e9",
        "IPY_MODEL_1484209685e345f69eff2d5977a0a3eb",
        "IPY_MODEL_c918800acec84f8987082da11fee441d",
        "IPY_MODEL_d804b0f5f15b4251a74d1b7510c82707"
       ],
       "layout": "IPY_MODEL_49f6de51ca394b6b844b204e5a7fe5ee"
      }
     },
     "30b8a008a197405db2c9ce91f9739bfb": {
      "model_module": "@jupyter-widgets/base",
      "model_module_version": "2.0.0",
      "model_name": "LayoutModel",
      "state": {}
     },
     "30c6920ea8984581a1c9fecd38a32141": {
      "model_module": "@jupyter-widgets/base",
      "model_module_version": "2.0.0",
      "model_name": "LayoutModel",
      "state": {}
     },
     "30f429a9e81c482e8fd18fb168a88f97": {
      "model_module": "@jupyter-widgets/base",
      "model_module_version": "2.0.0",
      "model_name": "LayoutModel",
      "state": {}
     },
     "314f70300142428da2c06e03f891ba83": {
      "model_module": "@jupyter-widgets/controls",
      "model_module_version": "2.0.0",
      "model_name": "DescriptionStyleModel",
      "state": {
       "description_width": ""
      }
     },
     "316aec10bb2646a09b979ab695cd7689": {
      "model_module": "@jupyter-widgets/controls",
      "model_module_version": "2.0.0",
      "model_name": "CheckboxStyleModel",
      "state": {
       "description_width": ""
      }
     },
     "31798b88b0514412b20ffef593543f50": {
      "model_module": "@jupyter-widgets/controls",
      "model_module_version": "2.0.0",
      "model_name": "CheckboxStyleModel",
      "state": {
       "description_width": ""
      }
     },
     "319c100e250740cc8a92c63733fd81e9": {
      "model_module": "@jupyter-widgets/controls",
      "model_module_version": "2.0.0",
      "model_name": "CheckboxStyleModel",
      "state": {
       "description_width": ""
      }
     },
     "31a0c54468c5481ebac9b7aa3c8fc6ee": {
      "model_module": "@jupyter-widgets/controls",
      "model_module_version": "2.0.0",
      "model_name": "HTMLStyleModel",
      "state": {
       "description_width": "",
       "font_size": null,
       "text_color": null
      }
     },
     "31d545c418d9461f879a6cf990ce8f64": {
      "model_module": "@jupyter-widgets/controls",
      "model_module_version": "2.0.0",
      "model_name": "CheckboxStyleModel",
      "state": {
       "description_width": ""
      }
     },
     "31e21c5197884162af5b2f1357656f1c": {
      "model_module": "@jupyter-widgets/controls",
      "model_module_version": "2.0.0",
      "model_name": "TextModel",
      "state": {
       "description": "Visualization path:",
       "disabled": true,
       "layout": "IPY_MODEL_b16227c869f448b3a3d3e768ccc57882",
       "placeholder": "<my_data_folder/my_visualization_file.tif>",
       "style": "IPY_MODEL_ee05c5b80fa944a28bc57053db0aad18"
      }
     },
     "31f29afb031045349170f6bfc9e401c5": {
      "model_module": "@jupyter-widgets/controls",
      "model_module_version": "2.0.0",
      "model_name": "CheckboxModel",
      "state": {
       "description": "All archaeology",
       "disabled": false,
       "indent": false,
       "layout": "IPY_MODEL_6d9ffe7db850419ca2268f58b3f388d2",
       "style": "IPY_MODEL_ca741cee691b4736aa2f9e547124c4cd",
       "value": false
      }
     },
     "31f4c4eb555f47a49bff27ca75d02987": {
      "model_module": "@jupyter-widgets/output",
      "model_module_version": "1.0.0",
      "model_name": "OutputModel",
      "state": {
       "layout": "IPY_MODEL_0cc9e6c2f9d848848ed9c46e3fd75aae",
       "outputs": [
        {
         "data": {
          "application/vnd.jupyter.widget-view+json": {
           "model_id": "ce5aa31fff5f4228be1d3a5a58dbef06",
           "version_major": 2,
           "version_minor": 0
          },
          "text/plain": "Label(value='Select classes for inference:')"
         },
         "metadata": {},
         "output_type": "display_data"
        }
       ]
      }
     },
     "321d8bb4e92845b8b38d3ee16412b873": {
      "model_module": "@jupyter-widgets/controls",
      "model_module_version": "2.0.0",
      "model_name": "TextModel",
      "state": {
       "description": "Visualization path:",
       "disabled": true,
       "layout": "IPY_MODEL_f6ae87f7e28e429caa2a5bbde5f426b5",
       "placeholder": "<my_data_folder/my_visualization_file.tif>",
       "style": "IPY_MODEL_556f09131dcc4c568bebf54a5eae8f08"
      }
     },
     "32306706ce1445ddb2f95997851b5ff3": {
      "model_module": "@jupyter-widgets/base",
      "model_module_version": "2.0.0",
      "model_name": "LayoutModel",
      "state": {
       "width": "98%"
      }
     },
     "323bfd51bfaf42b793c71f35adf3afbb": {
      "model_module": "@jupyter-widgets/controls",
      "model_module_version": "2.0.0",
      "model_name": "CheckboxStyleModel",
      "state": {
       "description_width": ""
      }
     },
     "326db06dae6444e3a620804a0e42cb68": {
      "model_module": "@jupyter-widgets/controls",
      "model_module_version": "2.0.0",
      "model_name": "HTMLModel",
      "state": {
       "layout": "IPY_MODEL_bdd4df75fbe3445785621147ec72fabc",
       "style": "IPY_MODEL_84370d76163f4c7dabc5bd1880244094",
       "value": "<b>ML options:</b>"
      }
     },
     "32a8e3afe2f842a0902d8d6028b72a45": {
      "model_module": "@jupyter-widgets/controls",
      "model_module_version": "2.0.0",
      "model_name": "TextModel",
      "state": {
       "disabled": true,
       "layout": "IPY_MODEL_0bb3f08eb8264a18b1529df4330ac35b",
       "placeholder": "model_folder/saved_model.tar",
       "style": "IPY_MODEL_b403bf03d1b549d8a95529212abb52d3"
      }
     },
     "32b68521233f4105b63f550741c7f7b3": {
      "model_module": "@jupyter-widgets/output",
      "model_module_version": "1.0.0",
      "model_name": "OutputModel",
      "state": {
       "layout": "IPY_MODEL_fc6a8a2526d2498d9f02b80d62d1d1d8",
       "outputs": [
        {
         "data": {
          "application/vnd.jupyter.widget-view+json": {
           "model_id": "2b923d4418094fdbbeb7d47e6282f011",
           "version_major": 2,
           "version_minor": 0
          },
          "text/plain": "HTML(value=\"<font color='grey'>Select classes for inference:\")"
         },
         "metadata": {},
         "output_type": "display_data"
        }
       ]
      }
     },
     "32d5c69f71404ddeb662e3ebbc747a74": {
      "model_module": "@jupyter-widgets/base",
      "model_module_version": "2.0.0",
      "model_name": "LayoutModel",
      "state": {}
     },
     "3302cf95cfed42f4aa844e3e10bcddd8": {
      "model_module": "@jupyter-widgets/controls",
      "model_module_version": "2.0.0",
      "model_name": "TextModel",
      "state": {
       "description": "DEM path:",
       "layout": "IPY_MODEL_9e2ea8c327504cc187b2fa8f9f5dbc8e",
       "placeholder": "<my_data_folder/my_DEM_file.tif>",
       "style": "IPY_MODEL_6a9b44e25b4045a6b0904eab77b9ee29"
      }
     },
     "331324fc14134b3f932f3c7e5a4510ed": {
      "model_module": "@jupyter-widgets/base",
      "model_module_version": "2.0.0",
      "model_name": "LayoutModel",
      "state": {}
     },
     "331e3a67f5744c24bfb64e84a0f005c3": {
      "model_module": "@jupyter-widgets/controls",
      "model_module_version": "2.0.0",
      "model_name": "HTMLStyleModel",
      "state": {
       "description_width": "",
       "font_size": null,
       "text_color": null
      }
     },
     "3323c89ecab94d4cacf3ed71631ca9f5": {
      "model_module": "@jupyter-widgets/output",
      "model_module_version": "1.0.0",
      "model_name": "OutputModel",
      "state": {
       "layout": "IPY_MODEL_008fba09487647b58bbb06343828c668"
      }
     },
     "335f97560d014783a1e86f8a7c4e0d83": {
      "model_module": "@jupyter-widgets/controls",
      "model_module_version": "2.0.0",
      "model_name": "TextStyleModel",
      "state": {
       "description_width": "initial",
       "font_size": null,
       "text_color": null
      }
     },
     "33918b37d59d4b92831d49e50918544f": {
      "model_module": "@jupyter-widgets/controls",
      "model_module_version": "2.0.0",
      "model_name": "DescriptionStyleModel",
      "state": {
       "description_width": ""
      }
     },
     "33aa63c6e41c4e158d7d3993dc0a8fc7": {
      "model_module": "@jupyter-widgets/controls",
      "model_module_version": "2.0.0",
      "model_name": "RadioButtonsModel",
      "state": {
       "_options_labels": [
        "DEM (*.tif / *.vrt)",
        "Visualization (*.tif / *.vrt)"
       ],
       "description": "Select input type:",
       "index": 0,
       "layout": "IPY_MODEL_0ac9ade8911b409faef764787a9b2aca",
       "style": "IPY_MODEL_4116003843ef4760a1fdfb1929cb2aa7"
      }
     },
     "33b964252ebe4f0fb8fa0ff3e4c958cc": {
      "model_module": "@jupyter-widgets/controls",
      "model_module_version": "2.0.0",
      "model_name": "VBoxModel",
      "state": {
       "children": [
        "IPY_MODEL_08666b82db074d2b95c8513df625d60d",
        "IPY_MODEL_95b1b2f15d6547a2a2c8e216699cf426",
        "IPY_MODEL_7e37b2b42f874e10b040f476b382024b",
        "IPY_MODEL_19c771e764d74e0b9c4d4bc7a07f74f3"
       ],
       "layout": "IPY_MODEL_f126a130ff544ef582527951387079a3"
      }
     },
     "33cdb48020f046e3950c94491a075cb9": {
      "model_module": "@jupyter-widgets/base",
      "model_module_version": "2.0.0",
      "model_name": "LayoutModel",
      "state": {}
     },
     "343088b134c04b23b9f447524d05ae54": {
      "model_module": "@jupyter-widgets/controls",
      "model_module_version": "2.0.0",
      "model_name": "HTMLModel",
      "state": {
       "layout": "IPY_MODEL_65f82ee2a3884b248071910d997bcf30",
       "style": "IPY_MODEL_943bbfc13fef4f68bd5692c5eeb2902e",
       "value": "<b>ML options:</b>"
      }
     },
     "3445d1f838ac4d90bc8586e270fd51fd": {
      "model_module": "@jupyter-widgets/base",
      "model_module_version": "2.0.0",
      "model_name": "LayoutModel",
      "state": {}
     },
     "344926063f69413aa7b67a1b52eb3122": {
      "model_module": "@jupyter-widgets/base",
      "model_module_version": "2.0.0",
      "model_name": "LayoutModel",
      "state": {
       "width": "98%"
      }
     },
     "345370f378c8431cb9670b9a8b07ebf3": {
      "model_module": "@jupyter-widgets/controls",
      "model_module_version": "2.0.0",
      "model_name": "DescriptionStyleModel",
      "state": {
       "description_width": ""
      }
     },
     "345495b3237b49b1ae8f493b77595e54": {
      "model_module": "@jupyter-widgets/base",
      "model_module_version": "2.0.0",
      "model_name": "LayoutModel",
      "state": {}
     },
     "3469e99b39554efbbed4f9300cb61a21": {
      "model_module": "@jupyter-widgets/controls",
      "model_module_version": "2.0.0",
      "model_name": "DescriptionStyleModel",
      "state": {
       "description_width": ""
      }
     },
     "34b00d1039b14b2188c07888c963ff01": {
      "model_module": "@jupyter-widgets/base",
      "model_module_version": "2.0.0",
      "model_name": "LayoutModel",
      "state": {}
     },
     "34c879146a5a4785b0f42fa1b204e857": {
      "model_module": "@jupyter-widgets/controls",
      "model_module_version": "2.0.0",
      "model_name": "TextModel",
      "state": {
       "description": "Path to ML model [*.tar]:",
       "disabled": true,
       "layout": "IPY_MODEL_ecfe082d5d8d4551bc0017255eee579e",
       "placeholder": "model_folder/saved_model.tar",
       "style": "IPY_MODEL_c22ab36e4fc94d049350248cb2510f38"
      }
     },
     "34f97ba48959461e87931c92a5af8db8": {
      "model_module": "@jupyter-widgets/controls",
      "model_module_version": "2.0.0",
      "model_name": "CheckboxStyleModel",
      "state": {
       "description_width": ""
      }
     },
     "34fdf067ae564fbd8de294e220cccf04": {
      "model_module": "@jupyter-widgets/base",
      "model_module_version": "2.0.0",
      "model_name": "LayoutModel",
      "state": {}
     },
     "353b0475329a4ca1834d0a20e71002f4": {
      "model_module": "@jupyter-widgets/controls",
      "model_module_version": "2.0.0",
      "model_name": "HBoxModel",
      "state": {
       "children": [
        "IPY_MODEL_fad74936874e4ef7b2fa0381ce997503",
        "IPY_MODEL_4f7fb4765d6244948ec7471471adbfa3"
       ],
       "layout": "IPY_MODEL_bf21a1e9135b45eb840a5dbe252ba131"
      }
     },
     "355b6f035b794ac9b87c6f8637634bcb": {
      "model_module": "@jupyter-widgets/controls",
      "model_module_version": "2.0.0",
      "model_name": "TextModel",
      "state": {
       "description": "x",
       "layout": "IPY_MODEL_a41b504b48984c899a364186e6e9be3b",
       "style": "IPY_MODEL_6307e1a2e67643778e53831938cc9bca",
       "value": "Hello World"
      }
     },
     "356ce277223d4d9ba233c77a1fae8bf5": {
      "model_module": "@jupyter-widgets/base",
      "model_module_version": "2.0.0",
      "model_name": "LayoutModel",
      "state": {}
     },
     "356da01f5c614b4e9193946a6fd3a9a2": {
      "model_module": "@jupyter-widgets/output",
      "model_module_version": "1.0.0",
      "model_name": "OutputModel",
      "state": {
       "layout": "IPY_MODEL_f2ae8c011f6e49a89dc5f537a021dc19"
      }
     },
     "3580367de4b4459faea678c03674e2f9": {
      "model_module": "@jupyter-widgets/controls",
      "model_module_version": "2.0.0",
      "model_name": "RadioButtonsModel",
      "state": {
       "_options_labels": [
        "DEM (*.tif / *.vrt)",
        "Visualization (*.tif / *.vrt)"
       ],
       "description": "Select input type:",
       "index": 0,
       "layout": "IPY_MODEL_5255e455b6294153959e7aeaf40892d7",
       "style": "IPY_MODEL_ac5327c3ff9749f7acca70361540e059"
      }
     },
     "358d842ef4e34c669fd7508d8d260d1a": {
      "model_module": "@jupyter-widgets/controls",
      "model_module_version": "2.0.0",
      "model_name": "CheckboxStyleModel",
      "state": {
       "description_width": ""
      }
     },
     "35aaee447f5a41dcafcb3ee97f4a6e60": {
      "model_module": "@jupyter-widgets/controls",
      "model_module_version": "2.0.0",
      "model_name": "CheckboxStyleModel",
      "state": {
       "description_width": ""
      }
     },
     "35acb747223c4091ad5683f947ae88a5": {
      "model_module": "@jupyter-widgets/controls",
      "model_module_version": "2.0.0",
      "model_name": "CheckboxModel",
      "state": {
       "description": "Barrow",
       "disabled": false,
       "indent": false,
       "layout": "IPY_MODEL_159f78380af34214a6c48055c120bbff",
       "style": "IPY_MODEL_44c6d62e97614c1993ae543d0a7a6746",
       "value": true
      }
     },
     "35b7c70cd673447eaad7ce1b54938644": {
      "model_module": "@jupyter-widgets/base",
      "model_module_version": "2.0.0",
      "model_name": "LayoutModel",
      "state": {}
     },
     "35c7d0060b4d41f398c010f45a2375ec": {
      "model_module": "@jupyter-widgets/controls",
      "model_module_version": "2.0.0",
      "model_name": "DescriptionStyleModel",
      "state": {
       "description_width": ""
      }
     },
     "35d94ae51381409988d186aa226b4d94": {
      "model_module": "@jupyter-widgets/controls",
      "model_module_version": "2.0.0",
      "model_name": "HTMLStyleModel",
      "state": {
       "description_width": "",
       "font_size": null,
       "text_color": null
      }
     },
     "35e6b3cd3b314b7685bc98342c38962c": {
      "model_module": "@jupyter-widgets/base",
      "model_module_version": "2.0.0",
      "model_name": "LayoutModel",
      "state": {}
     },
     "35efaf8e68194125974e8f8bf589b2d1": {
      "model_module": "@jupyter-widgets/controls",
      "model_module_version": "2.0.0",
      "model_name": "HTMLStyleModel",
      "state": {
       "description_width": "",
       "font_size": null,
       "text_color": null
      }
     },
     "35f2c29beeee4ab4922c05b2694fb074": {
      "model_module": "@jupyter-widgets/controls",
      "model_module_version": "2.0.0",
      "model_name": "HTMLStyleModel",
      "state": {
       "description_width": "",
       "font_size": null,
       "text_color": null
      }
     },
     "35fba3c81e55429b843da65730dff5ef": {
      "model_module": "@jupyter-widgets/controls",
      "model_module_version": "2.0.0",
      "model_name": "CheckboxStyleModel",
      "state": {
       "description_width": ""
      }
     },
     "3624f1b3ea8c4a92bc2ab4457cd3529d": {
      "model_module": "@jupyter-widgets/base",
      "model_module_version": "2.0.0",
      "model_name": "LayoutModel",
      "state": {
       "border_bottom": "1px solid black",
       "border_left": "1px solid black",
       "border_right": "1px solid black",
       "border_top": "1px solid black"
      }
     },
     "362b8b7e928a43d7b12004f96e98fde5": {
      "model_module": "@jupyter-widgets/controls",
      "model_module_version": "2.0.0",
      "model_name": "CheckboxModel",
      "state": {
       "description": "All archaeology",
       "disabled": false,
       "indent": false,
       "layout": "IPY_MODEL_d56dc28d825049beb7c251ef74b8e27a",
       "style": "IPY_MODEL_19380eb3f2bc490ab41bac57ca9fbaa1",
       "value": false
      }
     },
     "3634946b41cd418989331e3683a7339b": {
      "model_module": "@jupyter-widgets/controls",
      "model_module_version": "2.0.0",
      "model_name": "CheckboxStyleModel",
      "state": {
       "description_width": ""
      }
     },
     "3638233c55ff48219465196e657cd40b": {
      "model_module": "@jupyter-widgets/controls",
      "model_module_version": "2.0.0",
      "model_name": "CheckboxModel",
      "state": {
       "description": "Barrow",
       "disabled": false,
       "indent": false,
       "layout": "IPY_MODEL_d6f01c80e6f64bc0ae4db8c7319e3bad",
       "style": "IPY_MODEL_2e9c7e3deeab42ba979c9d506b35d192",
       "value": true
      }
     },
     "363bf6c22a3b433885b69343f071f1e9": {
      "model_module": "@jupyter-widgets/controls",
      "model_module_version": "2.0.0",
      "model_name": "CheckboxModel",
      "state": {
       "description": "Barrow",
       "disabled": false,
       "indent": false,
       "layout": "IPY_MODEL_3b4f2aa3f4ec4569b99ac853c82aa673",
       "style": "IPY_MODEL_873ec467f9514ab88dd77207cd9bfcb8",
       "value": true
      }
     },
     "363cec8e02c84a14a786046464f0d326": {
      "model_module": "@jupyter-widgets/controls",
      "model_module_version": "2.0.0",
      "model_name": "CheckboxModel",
      "state": {
       "description": "Ringfort",
       "disabled": false,
       "indent": false,
       "layout": "IPY_MODEL_4d3d7daf4f084320b10d8514d3864f12",
       "style": "IPY_MODEL_c5483bde6c48451da40fb5a97ff77147",
       "value": true
      }
     },
     "366b985ab4d74ef4bc5258ae67867644": {
      "model_module": "@jupyter-widgets/output",
      "model_module_version": "1.0.0",
      "model_name": "OutputModel",
      "state": {
       "layout": "IPY_MODEL_f400705c07f04118a90c385d6074413d",
       "outputs": [
        {
         "name": "stdout",
         "output_type": "stream",
         "text": "0\n"
        }
       ]
      }
     },
     "36e622360cc548e1b7ded744c5635f50": {
      "model_module": "@jupyter-widgets/base",
      "model_module_version": "2.0.0",
      "model_name": "LayoutModel",
      "state": {
       "width": "98%"
      }
     },
     "3703a655ade2472a84802f7adcc5b140": {
      "model_module": "@jupyter-widgets/controls",
      "model_module_version": "2.0.0",
      "model_name": "TextModel",
      "state": {
       "description": "Visualization path:",
       "disabled": true,
       "layout": "IPY_MODEL_2a0f1d0cad5b4ead922de3dbd8e6dfa5",
       "placeholder": "<my_data_folder/my_visualization_file.tif>",
       "style": "IPY_MODEL_8121d5242410449e81d0a10daac592e6"
      }
     },
     "373409f004fa4527a9749276f0f6711a": {
      "model_module": "@jupyter-widgets/base",
      "model_module_version": "2.0.0",
      "model_name": "LayoutModel",
      "state": {}
     },
     "373e59d2db4f433bb77da4cdc1c6f607": {
      "model_module": "@jupyter-widgets/controls",
      "model_module_version": "2.0.0",
      "model_name": "CheckboxModel",
      "state": {
       "description": "Enclosure",
       "disabled": false,
       "indent": false,
       "layout": "IPY_MODEL_1dfef350a2494119abb04de88de17d5a",
       "style": "IPY_MODEL_a9186771ab2a432b8aa4b071deacd142",
       "value": true
      }
     },
     "377e2968c9dc4a1586bf9e87e9aa1cbc": {
      "model_module": "@jupyter-widgets/output",
      "model_module_version": "1.0.0",
      "model_name": "OutputModel",
      "state": {
       "layout": "IPY_MODEL_66c1d75e1b9b4b70af0889e9c5d077c2",
       "outputs": [
        {
         "data": {
          "text/plain": "0.5"
         },
         "metadata": {},
         "output_type": "display_data"
        }
       ]
      }
     },
     "377fcb7949484269880de7828f3099e5": {
      "model_module": "@jupyter-widgets/base",
      "model_module_version": "2.0.0",
      "model_name": "LayoutModel",
      "state": {
       "width": "98%"
      }
     },
     "378154f9b9c640bb8c87c1b9685a212f": {
      "model_module": "@jupyter-widgets/controls",
      "model_module_version": "2.0.0",
      "model_name": "CheckboxModel",
      "state": {
       "description": "Batch processing",
       "disabled": false,
       "indent": false,
       "layout": "IPY_MODEL_68edf61b18fe4ee0996784d055d8e915",
       "style": "IPY_MODEL_cec9f8a125e74c5787607bad252adbcd",
       "value": false
      }
     },
     "3781a081bb7248aab0adc9be41235cdc": {
      "model_module": "@jupyter-widgets/controls",
      "model_module_version": "2.0.0",
      "model_name": "DescriptionStyleModel",
      "state": {
       "description_width": ""
      }
     },
     "37b645f0698d470d8240276cee74ce63": {
      "model_module": "@jupyter-widgets/controls",
      "model_module_version": "2.0.0",
      "model_name": "HTMLModel",
      "state": {
       "layout": "IPY_MODEL_e645cf39be674049bdc7ff527a209aa4",
       "style": "IPY_MODEL_09e2fdb6685d46aeb0e50a13db16ed6a",
       "value": "<font color='black'>Select classes for inference:"
      }
     },
     "37bc0687a49b4b06bc7257131fef21be": {
      "model_module": "@jupyter-widgets/controls",
      "model_module_version": "2.0.0",
      "model_name": "CheckboxStyleModel",
      "state": {
       "description_width": ""
      }
     },
     "37dd87d3e97f4885990aa57bf2590c6b": {
      "model_module": "@jupyter-widgets/controls",
      "model_module_version": "2.0.0",
      "model_name": "TextModel",
      "state": {
       "description": "Visualization path:",
       "disabled": true,
       "layout": "IPY_MODEL_1e1a16ad8e474f1f81bb615ddc87ecf8",
       "placeholder": "<my_data_folder/my_visualization_file.tif>",
       "style": "IPY_MODEL_061451c442e547459bf1e769db5a0574"
      }
     },
     "3817f65a05d24b8284c2585a7a8e2c25": {
      "model_module": "@jupyter-widgets/output",
      "model_module_version": "1.0.0",
      "model_name": "OutputModel",
      "state": {
       "layout": "IPY_MODEL_41160ecd879149dda118974d938eb179",
       "outputs": [
        {
         "data": {
          "application/vnd.jupyter.widget-view+json": {
           "model_id": "d029232197a644aaa14884153c91e885",
           "version_major": 2,
           "version_minor": 0
          },
          "text/plain": "Text(value='', description='Visualization path:', layout=Layout(width='98%'), placeholder='<my_data_folder/my_…"
         },
         "metadata": {},
         "output_type": "display_data"
        }
       ]
      }
     },
     "386fba8563214276baa3ce0b7254c3ba": {
      "model_module": "@jupyter-widgets/controls",
      "model_module_version": "2.0.0",
      "model_name": "TextModel",
      "state": {
       "description": "Visualization path:",
       "disabled": true,
       "layout": "IPY_MODEL_344926063f69413aa7b67a1b52eb3122",
       "placeholder": "<my_data_folder/my_visualization_file.tif>",
       "style": "IPY_MODEL_335f97560d014783a1e86f8a7c4e0d83"
      }
     },
     "3878cd4643ec4e2b9807092fa9176e21": {
      "model_module": "@jupyter-widgets/base",
      "model_module_version": "2.0.0",
      "model_name": "LayoutModel",
      "state": {
       "border_bottom": "1px solid black",
       "border_left": "1px solid black",
       "border_right": "1px solid black",
       "border_top": "1px solid black"
      }
     },
     "38886a0f32e3401394f2ebbd4c670213": {
      "model_module": "@jupyter-widgets/base",
      "model_module_version": "2.0.0",
      "model_name": "LayoutModel",
      "state": {}
     },
     "38b21d8b08034c0c818a88aad795db82": {
      "model_module": "@jupyter-widgets/base",
      "model_module_version": "2.0.0",
      "model_name": "LayoutModel",
      "state": {
       "width": "98%"
      }
     },
     "38b860e478074a57bcd9cd275208d75b": {
      "model_module": "@jupyter-widgets/controls",
      "model_module_version": "2.0.0",
      "model_name": "CheckboxModel",
      "state": {
       "description": "Ringfort",
       "disabled": false,
       "indent": false,
       "layout": "IPY_MODEL_fffc0a4701ed4a89afecd1d187307cb2",
       "style": "IPY_MODEL_d43dee162e3140108b21a069034758f6",
       "value": true
      }
     },
     "38e13526173f473493a10e683ed4ad45": {
      "model_module": "@jupyter-widgets/base",
      "model_module_version": "2.0.0",
      "model_name": "LayoutModel",
      "state": {}
     },
     "395c2e204aa64d00ba449d976ff11a82": {
      "model_module": "@jupyter-widgets/output",
      "model_module_version": "1.0.0",
      "model_name": "OutputModel",
      "state": {
       "layout": "IPY_MODEL_5d96c99f48ca41d194333175c6a274e5"
      }
     },
     "395dbf5830144972b9746d74252b29fe": {
      "model_module": "@jupyter-widgets/base",
      "model_module_version": "2.0.0",
      "model_name": "LayoutModel",
      "state": {}
     },
     "39b5e7ddd0ce4eadb79dc7c9cf59025f": {
      "model_module": "@jupyter-widgets/base",
      "model_module_version": "2.0.0",
      "model_name": "LayoutModel",
      "state": {
       "width": "98%"
      }
     },
     "39dbb5e461664b35b462ee15112d7df5": {
      "model_module": "@jupyter-widgets/base",
      "model_module_version": "2.0.0",
      "model_name": "LayoutModel",
      "state": {}
     },
     "39f59fb1adb04def80ef0d06d49c2fc9": {
      "model_module": "@jupyter-widgets/controls",
      "model_module_version": "2.0.0",
      "model_name": "CheckboxStyleModel",
      "state": {
       "description_width": ""
      }
     },
     "3a22297d7e0c4ca08e2e698f6c3e1e78": {
      "model_module": "@jupyter-widgets/controls",
      "model_module_version": "2.0.0",
      "model_name": "CheckboxStyleModel",
      "state": {
       "description_width": ""
      }
     },
     "3a26a3d230ab4781aa33d235d4f74ec4": {
      "model_module": "@jupyter-widgets/output",
      "model_module_version": "1.0.0",
      "model_name": "OutputModel",
      "state": {
       "layout": "IPY_MODEL_63d18389f6b54a92bf3a2e38c6a038e2",
       "outputs": [
        {
         "name": "stdout",
         "output_type": "stream",
         "text": "RB: 0\nCHK: True\n"
        }
       ]
      }
     },
     "3a37cc8522e841498b794b000107eba1": {
      "model_module": "@jupyter-widgets/base",
      "model_module_version": "2.0.0",
      "model_name": "LayoutModel",
      "state": {
       "width": "98%"
      }
     },
     "3a4dc899474440f4b907aa2800a9f55d": {
      "model_module": "@jupyter-widgets/base",
      "model_module_version": "2.0.0",
      "model_name": "LayoutModel",
      "state": {}
     },
     "3a6726273b384dcbb673131c077476e6": {
      "model_module": "@jupyter-widgets/base",
      "model_module_version": "2.0.0",
      "model_name": "LayoutModel",
      "state": {}
     },
     "3a6f87eebce7402f8c570a2183e57205": {
      "model_module": "@jupyter-widgets/base",
      "model_module_version": "2.0.0",
      "model_name": "LayoutModel",
      "state": {}
     },
     "3ab87701001c453782d8ac34946d4d6f": {
      "model_module": "@jupyter-widgets/output",
      "model_module_version": "1.0.0",
      "model_name": "OutputModel",
      "state": {
       "layout": "IPY_MODEL_41765f14f8594e59af1f3eafce2ec222"
      }
     },
     "3ae7337f4716420c821a880a9b7a9bd2": {
      "model_module": "@jupyter-widgets/base",
      "model_module_version": "2.0.0",
      "model_name": "LayoutModel",
      "state": {}
     },
     "3af0c17471c2479abe958f4dcd845746": {
      "model_module": "@jupyter-widgets/base",
      "model_module_version": "2.0.0",
      "model_name": "LayoutModel",
      "state": {}
     },
     "3af0c4a0d64b4760aa9427fdfa615872": {
      "model_module": "@jupyter-widgets/base",
      "model_module_version": "2.0.0",
      "model_name": "LayoutModel",
      "state": {}
     },
     "3afd1b7653f449dfaf0823eb17cfce67": {
      "model_module": "@jupyter-widgets/base",
      "model_module_version": "2.0.0",
      "model_name": "LayoutModel",
      "state": {}
     },
     "3b4f2aa3f4ec4569b99ac853c82aa673": {
      "model_module": "@jupyter-widgets/base",
      "model_module_version": "2.0.0",
      "model_name": "LayoutModel",
      "state": {}
     },
     "3b89953dd1954c54bb7c907d522edd1d": {
      "model_module": "@jupyter-widgets/controls",
      "model_module_version": "2.0.0",
      "model_name": "CheckboxModel",
      "state": {
       "description": "Barrow",
       "disabled": false,
       "indent": false,
       "layout": "IPY_MODEL_7ad53ee117cc4332b44a0e4bbc7fe4b6",
       "style": "IPY_MODEL_12398c6c3df64dd1ad7f4a60ec7d448b",
       "value": true
      }
     },
     "3b971e31a1534c6faebf394fc278c6e2": {
      "model_module": "@jupyter-widgets/controls",
      "model_module_version": "2.0.0",
      "model_name": "TextStyleModel",
      "state": {
       "description_width": "",
       "font_size": null,
       "text_color": null
      }
     },
     "3b9db6ed61f04abebb91c5602ff74b68": {
      "model_module": "@jupyter-widgets/base",
      "model_module_version": "2.0.0",
      "model_name": "LayoutModel",
      "state": {}
     },
     "3ba899db783c4654b141ffa7fdcdb35d": {
      "model_module": "@jupyter-widgets/controls",
      "model_module_version": "2.0.0",
      "model_name": "HBoxModel",
      "state": {
       "children": [
        "IPY_MODEL_644a1d130d7f4211946bcec32e71b8c3",
        "IPY_MODEL_97819dcbfd9d4abd9693a85c51d0561b",
        "IPY_MODEL_602417b53e624c668708c6eaae6a2833",
        "IPY_MODEL_b97a750851ae4018b3895352624a05f7"
       ],
       "layout": "IPY_MODEL_8b23af974ee14e7e84f2ecd630611027"
      }
     },
     "3bb09f02c7c94b76bb6424d4d66d1799": {
      "model_module": "@jupyter-widgets/controls",
      "model_module_version": "2.0.0",
      "model_name": "CheckboxModel",
      "state": {
       "description": "Enclosure",
       "disabled": false,
       "indent": false,
       "layout": "IPY_MODEL_951ca456b7334156b0dc97595c781fd8",
       "style": "IPY_MODEL_c52f40e8412e48e6afbc2475d5aa6f9d",
       "value": true
      }
     },
     "3bb6aeeb620c4d368841825df8e44e75": {
      "model_module": "@jupyter-widgets/controls",
      "model_module_version": "2.0.0",
      "model_name": "HBoxModel",
      "state": {
       "children": [
        "IPY_MODEL_e6cdcd41609d4a6ea02939612af93fbd",
        "IPY_MODEL_f917f65704224a2792c37b583a72d3a4"
       ],
       "layout": "IPY_MODEL_44aac88e10cd4ca6b6b08beec5f52413"
      }
     },
     "3bb6afc6777d45abb88b91f6cbcb9417": {
      "model_module": "@jupyter-widgets/controls",
      "model_module_version": "2.0.0",
      "model_name": "CheckboxModel",
      "state": {
       "description": "Barrow",
       "disabled": false,
       "indent": false,
       "layout": "IPY_MODEL_f70a55a8b3d140f3a30aa71d6b167cfb",
       "style": "IPY_MODEL_168a856c7fa54a2a81ab583b6f8ccf4b",
       "value": true
      }
     },
     "3bccd3fda357484fa3f1f6e378428a6c": {
      "model_module": "@jupyter-widgets/controls",
      "model_module_version": "2.0.0",
      "model_name": "RadioButtonsModel",
      "state": {
       "_options_labels": [
        "ADAF model",
        "Custom model"
       ],
       "description": "Select ML model:",
       "index": 0,
       "layout": "IPY_MODEL_4398363d51184fcd91bbeb9caaef1be5",
       "style": "IPY_MODEL_6aa049d797d44cfe80adb4ddb6666cec"
      }
     },
     "3bcfbeff37fd4e42af2345793df26b47": {
      "model_module": "@jupyter-widgets/controls",
      "model_module_version": "2.0.0",
      "model_name": "CheckboxModel",
      "state": {
       "description": "All archaeology",
       "disabled": false,
       "indent": false,
       "layout": "IPY_MODEL_9c758d820f9047dea64939cf6efa125d",
       "style": "IPY_MODEL_1cdb4959db8040a99f9386160dc28afd",
       "value": false
      }
     },
     "3c0a5268a975442ca8375a20943d5d73": {
      "model_module": "@jupyter-widgets/controls",
      "model_module_version": "2.0.0",
      "model_name": "HTMLModel",
      "state": {
       "layout": "IPY_MODEL_e7cdec9674c247199afc26f0e42cb5c7",
       "style": "IPY_MODEL_f57bd2349e2340078a5c7f81dc30647c",
       "value": "<font color='black'>Select classes for inference:"
      }
     },
     "3c4eb7a0fd864409a8ed31cabc936b27": {
      "model_module": "@jupyter-widgets/controls",
      "model_module_version": "2.0.0",
      "model_name": "DescriptionStyleModel",
      "state": {
       "description_width": ""
      }
     },
     "3c54ecfea2584469adcd40acb0b4eed0": {
      "model_module": "@jupyter-widgets/base",
      "model_module_version": "2.0.0",
      "model_name": "LayoutModel",
      "state": {
       "width": "98%"
      }
     },
     "3cbcccafdc15416785e1032d2a4ede9a": {
      "model_module": "@jupyter-widgets/controls",
      "model_module_version": "2.0.0",
      "model_name": "LabelStyleModel",
      "state": {
       "description_width": "",
       "font_family": null,
       "font_size": null,
       "font_style": null,
       "font_variant": null,
       "font_weight": null,
       "text_color": null,
       "text_decoration": null
      }
     },
     "3cd6dc82225541caa63c9bb2e8ee73c3": {
      "model_module": "@jupyter-widgets/base",
      "model_module_version": "2.0.0",
      "model_name": "LayoutModel",
      "state": {}
     },
     "3d31ae97093340fb84521ff527e3b39e": {
      "model_module": "@jupyter-widgets/controls",
      "model_module_version": "2.0.0",
      "model_name": "HBoxModel",
      "state": {
       "children": [
        "IPY_MODEL_9815f117b87645e39549c0a58a427d30",
        "IPY_MODEL_0cc692107ff54291b91bca5010c464bd"
       ],
       "layout": "IPY_MODEL_7f44911676134768a4f3167a0ac6802b"
      }
     },
     "3d3d411fa4be4418bb5afcbd174179d5": {
      "model_module": "@jupyter-widgets/controls",
      "model_module_version": "2.0.0",
      "model_name": "DescriptionStyleModel",
      "state": {
       "description_width": ""
      }
     },
     "3d45bd8199bb436b84f00acbd50dc55a": {
      "model_module": "@jupyter-widgets/base",
      "model_module_version": "2.0.0",
      "model_name": "LayoutModel",
      "state": {}
     },
     "3d4e1cb854b44b7984a99727d218c67a": {
      "model_module": "@jupyter-widgets/output",
      "model_module_version": "1.0.0",
      "model_name": "OutputModel",
      "state": {
       "layout": "IPY_MODEL_7d6e9835c29842c1826d448f677e46ec",
       "outputs": [
        {
         "data": {
          "application/vnd.jupyter.widget-view+json": {
           "model_id": "5fdd868613bf4780ae05f0c716db9887",
           "version_major": 2,
           "version_minor": 0
          },
          "text/plain": "Text(value='', description='DEM path:', layout=Layout(width='98%'), placeholder='<my_data_folder/my_DEM_file.t…"
         },
         "metadata": {},
         "output_type": "display_data"
        }
       ]
      }
     },
     "3d8b22f9d07e4a46b42f66cf37851666": {
      "model_module": "@jupyter-widgets/base",
      "model_module_version": "2.0.0",
      "model_name": "LayoutModel",
      "state": {}
     },
     "3db94601b3424b54bfec1e1a6edb8a40": {
      "model_module": "@jupyter-widgets/base",
      "model_module_version": "2.0.0",
      "model_name": "LayoutModel",
      "state": {}
     },
     "3dd99ee72c83446d9c1291d0b128ae74": {
      "model_module": "@jupyter-widgets/controls",
      "model_module_version": "2.0.0",
      "model_name": "HBoxModel",
      "state": {
       "children": [
        "IPY_MODEL_5eee1bf96e0147409b78209d306ed85a"
       ],
       "layout": "IPY_MODEL_957576311b0046c688118c2d56d3e7dc"
      }
     },
     "3e0ffbd82db54eb9bac4c80fb5b17c18": {
      "model_module": "@jupyter-widgets/controls",
      "model_module_version": "2.0.0",
      "model_name": "CheckboxStyleModel",
      "state": {
       "description_width": ""
      }
     },
     "3e209a2279f44cfb92f8ec814d88e006": {
      "model_module": "@jupyter-widgets/base",
      "model_module_version": "2.0.0",
      "model_name": "LayoutModel",
      "state": {}
     },
     "3e4b93acb3c24b52a7df39d0c4b3307d": {
      "model_module": "@jupyter-widgets/base",
      "model_module_version": "2.0.0",
      "model_name": "LayoutModel",
      "state": {}
     },
     "3e7b99c2c5a841718e6ee06ccb334990": {
      "model_module": "@jupyter-widgets/base",
      "model_module_version": "2.0.0",
      "model_name": "LayoutModel",
      "state": {}
     },
     "3e838f5872814df0a0c41fab026efb0c": {
      "model_module": "@jupyter-widgets/base",
      "model_module_version": "2.0.0",
      "model_name": "LayoutModel",
      "state": {}
     },
     "3ec85a1ddec74bfbba60dc1eb6899163": {
      "model_module": "@jupyter-widgets/output",
      "model_module_version": "1.0.0",
      "model_name": "OutputModel",
      "state": {
       "layout": "IPY_MODEL_527ce61b7bf443dd9fa7ff29f1eeca8e",
       "outputs": [
        {
         "data": {
          "application/vnd.jupyter.widget-view+json": {
           "model_id": "55bb14265fc6457b9593706bbffe3ea4",
           "version_major": 2,
           "version_minor": 0
          },
          "text/plain": "Text(value='', description='DEM path:', layout=Layout(width='98%'), placeholder='<my_data_folder/my_DEM_file.t…"
         },
         "metadata": {},
         "output_type": "display_data"
        }
       ]
      }
     },
     "3ef2e557a7ce4f6cbb0976779d90e9b3": {
      "model_module": "@jupyter-widgets/controls",
      "model_module_version": "2.0.0",
      "model_name": "LabelStyleModel",
      "state": {
       "description_width": "",
       "font_family": null,
       "font_size": null,
       "font_style": null,
       "font_variant": null,
       "font_weight": null,
       "text_color": null,
       "text_decoration": null
      }
     },
     "3efc6ef1ea9249cf9501457ce8fb2146": {
      "model_module": "@jupyter-widgets/controls",
      "model_module_version": "2.0.0",
      "model_name": "CheckboxModel",
      "state": {
       "description": "Barrow",
       "disabled": false,
       "indent": false,
       "layout": "IPY_MODEL_d0cc7fac710e4e658a37d301939db194",
       "style": "IPY_MODEL_7b566ab31e064b9a8ade006ced70bb1d",
       "value": true
      }
     },
     "3f06ba9548b54e70a3d1eada16ab0029": {
      "model_module": "@jupyter-widgets/controls",
      "model_module_version": "2.0.0",
      "model_name": "CheckboxStyleModel",
      "state": {
       "description_width": ""
      }
     },
     "3f2a8a7b03db481692a02f10a166cf5c": {
      "model_module": "@jupyter-widgets/base",
      "model_module_version": "2.0.0",
      "model_name": "LayoutModel",
      "state": {}
     },
     "3f5a0095e0d14c99b62fd04d411d67bf": {
      "model_module": "@jupyter-widgets/base",
      "model_module_version": "2.0.0",
      "model_name": "LayoutModel",
      "state": {}
     },
     "3f7890da30734687b86c5781ccee62ad": {
      "model_module": "@jupyter-widgets/controls",
      "model_module_version": "2.0.0",
      "model_name": "CheckboxStyleModel",
      "state": {
       "description_width": ""
      }
     },
     "3f86ebab183e427dbdd801e678275377": {
      "model_module": "@jupyter-widgets/output",
      "model_module_version": "1.0.0",
      "model_name": "OutputModel",
      "state": {
       "layout": "IPY_MODEL_b8495f0024824054952e3e43340c854d",
       "outputs": [
        {
         "data": {
          "application/vnd.jupyter.widget-view+json": {
           "model_id": "b14c653ed3a049a686cdffb88745aa4a",
           "version_major": 2,
           "version_minor": 0
          },
          "text/plain": "Label(value='Select classes for inference:')"
         },
         "metadata": {},
         "output_type": "display_data"
        }
       ]
      }
     },
     "3fb18b7bbe3e4689ae0bade6b2cc7059": {
      "model_module": "@jupyter-widgets/base",
      "model_module_version": "2.0.0",
      "model_name": "LayoutModel",
      "state": {}
     },
     "3fbc7f3403f9468c9c729513f38b4ae1": {
      "model_module": "@jupyter-widgets/controls",
      "model_module_version": "2.0.0",
      "model_name": "LabelStyleModel",
      "state": {
       "description_width": "",
       "font_family": null,
       "font_size": null,
       "font_style": null,
       "font_variant": null,
       "font_weight": null,
       "text_color": null,
       "text_decoration": null
      }
     },
     "3fd786d832e942d8ab983a4fbe28a2cb": {
      "model_module": "@jupyter-widgets/controls",
      "model_module_version": "2.0.0",
      "model_name": "TextStyleModel",
      "state": {
       "description_width": "",
       "font_size": null,
       "text_color": null
      }
     },
     "3fe9cb0ad4584b59804c6521b79ee319": {
      "model_module": "@jupyter-widgets/controls",
      "model_module_version": "2.0.0",
      "model_name": "HBoxModel",
      "state": {
       "children": [
        "IPY_MODEL_1b53502e1aea4e7793b6d3443e3f8761",
        "IPY_MODEL_2f38f668884e460ca66e4b67c3c63b2b"
       ],
       "layout": "IPY_MODEL_7a628f7e271d4caabe085f68712608fa"
      }
     },
     "3ff3d94aa526444facd2dd7a9f11a849": {
      "model_module": "@jupyter-widgets/controls",
      "model_module_version": "2.0.0",
      "model_name": "DescriptionStyleModel",
      "state": {
       "description_width": ""
      }
     },
     "4028a72ef7bd443d9d2cedf2769864a6": {
      "model_module": "@jupyter-widgets/controls",
      "model_module_version": "2.0.0",
      "model_name": "CheckboxModel",
      "state": {
       "description": "Barrow",
       "disabled": true,
       "indent": false,
       "layout": "IPY_MODEL_e825aae3c32a4fbb82935e5b5e9d274b",
       "style": "IPY_MODEL_f3f0a3ffb1c14883a6e3d2520ca48548",
       "value": true
      }
     },
     "4082399019d743a98549d8ba5b642da0": {
      "model_module": "@jupyter-widgets/controls",
      "model_module_version": "2.0.0",
      "model_name": "CheckboxModel",
      "state": {
       "description": "All archaeology",
       "disabled": false,
       "indent": false,
       "layout": "IPY_MODEL_7117589980a54ccfb9f25319e434fac4",
       "style": "IPY_MODEL_5fa2e90348674ade92acfbccc4fc81e4",
       "value": false
      }
     },
     "40a9473c1ba648c9a50601564184c45f": {
      "model_module": "@jupyter-widgets/controls",
      "model_module_version": "2.0.0",
      "model_name": "HTMLModel",
      "state": {
       "layout": "IPY_MODEL_1b551cbf5dbd41e88d6ed3b9feadcc37",
       "style": "IPY_MODEL_59e19e42add44cb5802e70bf23e4795d",
       "value": "<b>ML options:</b>"
      }
     },
     "40de7a073d8843f6878cf9b5002203a9": {
      "model_module": "@jupyter-widgets/controls",
      "model_module_version": "2.0.0",
      "model_name": "HTMLStyleModel",
      "state": {
       "description_width": "",
       "font_size": null,
       "text_color": null
      }
     },
     "4116003843ef4760a1fdfb1929cb2aa7": {
      "model_module": "@jupyter-widgets/controls",
      "model_module_version": "2.0.0",
      "model_name": "DescriptionStyleModel",
      "state": {
       "description_width": ""
      }
     },
     "41160ecd879149dda118974d938eb179": {
      "model_module": "@jupyter-widgets/base",
      "model_module_version": "2.0.0",
      "model_name": "LayoutModel",
      "state": {}
     },
     "4120496de0414ef38145d74420bf323f": {
      "model_module": "@jupyter-widgets/controls",
      "model_module_version": "2.0.0",
      "model_name": "DescriptionStyleModel",
      "state": {
       "description_width": ""
      }
     },
     "413a0f0730ee43cfb31b815a4ceb5752": {
      "model_module": "@jupyter-widgets/controls",
      "model_module_version": "2.0.0",
      "model_name": "CheckboxModel",
      "state": {
       "description": "Enclosure",
       "disabled": true,
       "indent": false,
       "layout": "IPY_MODEL_f786155be1874065a150775c464d4d63",
       "style": "IPY_MODEL_9b4df1513d9a4d108da3d12d2c986751",
       "value": true
      }
     },
     "414b5ed02aea47c69a8b0a70e3b20860": {
      "model_module": "@jupyter-widgets/controls",
      "model_module_version": "2.0.0",
      "model_name": "TextModel",
      "state": {
       "description": "Path to ML model [*.tar]:",
       "disabled": true,
       "layout": "IPY_MODEL_b3b0a8b4a81a406f809002039e22b553",
       "placeholder": "model_folder/saved_model.tar",
       "style": "IPY_MODEL_58fc48486ddf47f9b3f9a3e10e38c49a"
      }
     },
     "4160c58c9d094bc4aba6557ecd2899b7": {
      "model_module": "@jupyter-widgets/base",
      "model_module_version": "2.0.0",
      "model_name": "LayoutModel",
      "state": {}
     },
     "41765f14f8594e59af1f3eafce2ec222": {
      "model_module": "@jupyter-widgets/base",
      "model_module_version": "2.0.0",
      "model_name": "LayoutModel",
      "state": {
       "border_bottom": "1px solid black",
       "border_left": "1px solid black",
       "border_right": "1px solid black",
       "border_top": "1px solid black"
      }
     },
     "41825fe48d4445a6883fd814194bb16a": {
      "model_module": "@jupyter-widgets/output",
      "model_module_version": "1.0.0",
      "model_name": "OutputModel",
      "state": {
       "layout": "IPY_MODEL_95f1dcb9f1c7402a97b228cf7af171f1",
       "outputs": [
        {
         "data": {
          "application/vnd.jupyter.widget-view+json": {
           "model_id": "291107ff46cc446591dcebd2768416b9",
           "version_major": 2,
           "version_minor": 0
          },
          "text/plain": "Label(value='Path to ML model [*.tar]:')"
         },
         "metadata": {},
         "output_type": "display_data"
        }
       ]
      }
     },
     "41a1affc45cd4ce0a2b177da505d4d72": {
      "model_module": "@jupyter-widgets/controls",
      "model_module_version": "2.0.0",
      "model_name": "CheckboxStyleModel",
      "state": {
       "description_width": ""
      }
     },
     "41d97e15b59547ed9329c9db4ff9c1e1": {
      "model_module": "@jupyter-widgets/base",
      "model_module_version": "2.0.0",
      "model_name": "LayoutModel",
      "state": {}
     },
     "41da69b074484058be2b9a886686cdb0": {
      "model_module": "@jupyter-widgets/controls",
      "model_module_version": "2.0.0",
      "model_name": "VBoxModel",
      "state": {
       "children": [
        "IPY_MODEL_3fe9cb0ad4584b59804c6521b79ee319",
        "IPY_MODEL_e92cd5244b094c319fcfb8465d3a1b2c",
        "IPY_MODEL_70686f8f767e40589223ce679a571213",
        "IPY_MODEL_e30f3da972ac45a58f84d6361000f71f"
       ],
       "layout": "IPY_MODEL_e640d89453d24e83886e24023ee70a97"
      }
     },
     "41de3692e127454db6a52082862219cd": {
      "model_module": "@jupyter-widgets/base",
      "model_module_version": "2.0.0",
      "model_name": "LayoutModel",
      "state": {}
     },
     "41df8f56de654e168dafffae40aa017a": {
      "model_module": "@jupyter-widgets/controls",
      "model_module_version": "2.0.0",
      "model_name": "HBoxModel",
      "state": {
       "children": [
        "IPY_MODEL_f97c9914b8454a96a5e3c66afa29466f",
        "IPY_MODEL_b90867e7da974f279df0d063636c6aa2"
       ],
       "layout": "IPY_MODEL_e9eabcc3fc0544a1bef09e7cdb6a5072"
      }
     },
     "41f1fe30694740f7aba604ae10e817bf": {
      "model_module": "@jupyter-widgets/controls",
      "model_module_version": "2.0.0",
      "model_name": "HBoxModel",
      "state": {
       "children": [
        "IPY_MODEL_868104ac3e8b49c5ae88165dae886d8b",
        "IPY_MODEL_32a8e3afe2f842a0902d8d6028b72a45"
       ],
       "layout": "IPY_MODEL_f5e1aabdbb54461ab17bd1e658e2464e"
      }
     },
     "4228bb5af8a7483ab5e9a798f7404b46": {
      "model_module": "@jupyter-widgets/controls",
      "model_module_version": "2.0.0",
      "model_name": "CheckboxStyleModel",
      "state": {
       "description_width": ""
      }
     },
     "4249ba618d8f4789b580f7905a11627f": {
      "model_module": "@jupyter-widgets/controls",
      "model_module_version": "2.0.0",
      "model_name": "CheckboxModel",
      "state": {
       "description": "Enclosure",
       "disabled": false,
       "indent": false,
       "layout": "IPY_MODEL_0faa2c3bc2864f46be2ab006a8492d5c",
       "style": "IPY_MODEL_14d9bd2c922c46c5bee543444a0f0d09",
       "value": true
      }
     },
     "42b45c16aa0b4ca8a386dfeb99803d82": {
      "model_module": "@jupyter-widgets/controls",
      "model_module_version": "2.0.0",
      "model_name": "CheckboxStyleModel",
      "state": {
       "description_width": ""
      }
     },
     "42cdd9f956f44749a4a155d17d4c1422": {
      "model_module": "@jupyter-widgets/base",
      "model_module_version": "2.0.0",
      "model_name": "LayoutModel",
      "state": {}
     },
     "42d242e0c7944656a3978622e4076ad3": {
      "model_module": "@jupyter-widgets/base",
      "model_module_version": "2.0.0",
      "model_name": "LayoutModel",
      "state": {
       "width": "98%"
      }
     },
     "42d7458deace4b129808627524230b59": {
      "model_module": "@jupyter-widgets/base",
      "model_module_version": "2.0.0",
      "model_name": "LayoutModel",
      "state": {}
     },
     "42da23f2f84842f7ba89de7ba379158f": {
      "model_module": "@jupyter-widgets/controls",
      "model_module_version": "2.0.0",
      "model_name": "CheckboxModel",
      "state": {
       "description": "Enclosure",
       "disabled": false,
       "indent": false,
       "layout": "IPY_MODEL_ca3e63965eb040a99af9bf70b97c58f4",
       "style": "IPY_MODEL_d6e67d23f8d341ad8b4d28950290f0d9",
       "value": true
      }
     },
     "42f64e5a4ef847919dda193e69ddc6a5": {
      "model_module": "@jupyter-widgets/controls",
      "model_module_version": "2.0.0",
      "model_name": "HTMLStyleModel",
      "state": {
       "description_width": "",
       "font_size": null,
       "text_color": null
      }
     },
     "431886caa7db4a6cb203bddf87509e1b": {
      "model_module": "@jupyter-widgets/controls",
      "model_module_version": "2.0.0",
      "model_name": "RadioButtonsModel",
      "state": {
       "_options_labels": [
        "object detection",
        "segmentation"
       ],
       "description": "Select ML method:",
       "index": 1,
       "layout": "IPY_MODEL_373409f004fa4527a9749276f0f6711a",
       "style": "IPY_MODEL_6da20a5ae1b9403db20c7ced041d29eb"
      }
     },
     "432f565d736049b19a714a85abcc7cbc": {
      "model_module": "@jupyter-widgets/base",
      "model_module_version": "2.0.0",
      "model_name": "LayoutModel",
      "state": {
       "width": "98%"
      }
     },
     "4332de116280458fbf1d55777bb042c3": {
      "model_module": "@jupyter-widgets/controls",
      "model_module_version": "2.0.0",
      "model_name": "DescriptionStyleModel",
      "state": {
       "description_width": ""
      }
     },
     "435dbf2a782c4b3ab15349fb83fbe753": {
      "model_module": "@jupyter-widgets/base",
      "model_module_version": "2.0.0",
      "model_name": "LayoutModel",
      "state": {}
     },
     "4362ebdbae494b5bae116e2607de8426": {
      "model_module": "@jupyter-widgets/output",
      "model_module_version": "1.0.0",
      "model_name": "OutputModel",
      "state": {
       "layout": "IPY_MODEL_6068c44ff63e432eb5636677f3fe4c5e",
       "outputs": [
        {
         "data": {
          "application/vnd.jupyter.widget-view+json": {
           "model_id": "ac33aa573f5b47dba5a21c88a5a758d4",
           "version_major": 2,
           "version_minor": 0
          },
          "text/plain": "Text(value='', description='DEM path:', layout=Layout(width='98%'), placeholder='<my_data_folder/my_DEM_file.t…"
         },
         "metadata": {},
         "output_type": "display_data"
        }
       ]
      }
     },
     "436f0854d06344d6b3697d0aa4b6bfa2": {
      "model_module": "@jupyter-widgets/base",
      "model_module_version": "2.0.0",
      "model_name": "LayoutModel",
      "state": {}
     },
     "437cfb848fec4b7c91add69edd2d7422": {
      "model_module": "@jupyter-widgets/controls",
      "model_module_version": "2.0.0",
      "model_name": "HBoxModel",
      "state": {
       "children": [
        "IPY_MODEL_88d36cbcf9994034bddceb0e79c366f4",
        "IPY_MODEL_e5cf616bfd7f47e7ae46326c2fc85afe"
       ],
       "layout": "IPY_MODEL_0afb120464774693890b17405cd591cd"
      }
     },
     "4398363d51184fcd91bbeb9caaef1be5": {
      "model_module": "@jupyter-widgets/base",
      "model_module_version": "2.0.0",
      "model_name": "LayoutModel",
      "state": {}
     },
     "43990fb97bb94cb7b3fc39cd4f518cf2": {
      "model_module": "@jupyter-widgets/controls",
      "model_module_version": "2.0.0",
      "model_name": "DescriptionStyleModel",
      "state": {
       "description_width": ""
      }
     },
     "43a5d9d30ef54d1ba7b44726df57f85c": {
      "model_module": "@jupyter-widgets/controls",
      "model_module_version": "2.0.0",
      "model_name": "CheckboxStyleModel",
      "state": {
       "description_width": ""
      }
     },
     "43cb4b85957b400bb23b54b8f012f3af": {
      "model_module": "@jupyter-widgets/controls",
      "model_module_version": "2.0.0",
      "model_name": "CheckboxStyleModel",
      "state": {
       "description_width": ""
      }
     },
     "43d1fdb3e70643fb85ddc4012adc7d39": {
      "model_module": "@jupyter-widgets/base",
      "model_module_version": "2.0.0",
      "model_name": "LayoutModel",
      "state": {}
     },
     "43d7170ce8d5456f84c4e2e3ad9be9d0": {
      "model_module": "@jupyter-widgets/output",
      "model_module_version": "1.0.0",
      "model_name": "OutputModel",
      "state": {
       "layout": "IPY_MODEL_0d3ba1aaed8d4a3dba9a9e166eb6df15"
      }
     },
     "4449b38e97be44e888dc716184a3f80b": {
      "model_module": "@jupyter-widgets/base",
      "model_module_version": "2.0.0",
      "model_name": "LayoutModel",
      "state": {
       "width": "98%"
      }
     },
     "44703a7f68f44e58b46510a6f0714f0f": {
      "model_module": "@jupyter-widgets/controls",
      "model_module_version": "2.0.0",
      "model_name": "CheckboxModel",
      "state": {
       "description": "Barrow",
       "disabled": false,
       "indent": false,
       "layout": "IPY_MODEL_3af0c17471c2479abe958f4dcd845746",
       "style": "IPY_MODEL_35fba3c81e55429b843da65730dff5ef",
       "value": true
      }
     },
     "44aac88e10cd4ca6b6b08beec5f52413": {
      "model_module": "@jupyter-widgets/base",
      "model_module_version": "2.0.0",
      "model_name": "LayoutModel",
      "state": {}
     },
     "44c5d33a89ca4c489ce80d0c0ad81ec1": {
      "model_module": "@jupyter-widgets/controls",
      "model_module_version": "2.0.0",
      "model_name": "LabelModel",
      "state": {
       "layout": "IPY_MODEL_96b90b4603bf40dc9ad6d7c2f4930b4f",
       "style": "IPY_MODEL_f54d7a99bbd84c819dd86a18e4129fd5",
       "value": "Select classes for inference:"
      }
     },
     "44c6d62e97614c1993ae543d0a7a6746": {
      "model_module": "@jupyter-widgets/controls",
      "model_module_version": "2.0.0",
      "model_name": "CheckboxStyleModel",
      "state": {
       "description_width": ""
      }
     },
     "44ce44e788a24171ad3f51bbc7b4d6fd": {
      "model_module": "@jupyter-widgets/controls",
      "model_module_version": "2.0.0",
      "model_name": "CheckboxModel",
      "state": {
       "description": "Ringfort",
       "disabled": false,
       "indent": false,
       "layout": "IPY_MODEL_caa997ed2bb74a89b06ce896e2bcdafd",
       "style": "IPY_MODEL_1e6a0ea34ef947fd8cff5275ead78c3a",
       "value": true
      }
     },
     "44da5c85ca0e478c8a68f8796f4c47ef": {
      "model_module": "@jupyter-widgets/base",
      "model_module_version": "2.0.0",
      "model_name": "LayoutModel",
      "state": {
       "width": "98%"
      }
     },
     "44dc6c1093774091bcdafbae2b89238d": {
      "model_module": "@jupyter-widgets/output",
      "model_module_version": "1.0.0",
      "model_name": "OutputModel",
      "state": {
       "layout": "IPY_MODEL_78cb8c12279448cb8f38593d7f9241f4",
       "outputs": [
        {
         "data": {
          "application/vnd.jupyter.widget-view+json": {
           "model_id": "10cb3a25cfbb434fb216c4a72ae510a2",
           "version_major": 2,
           "version_minor": 0
          },
          "text/plain": "Text(value='', description='DEM path:', layout=Layout(width='98%'), placeholder='<my_data_folder/my_DEM_file.t…"
         },
         "metadata": {},
         "output_type": "display_data"
        }
       ]
      }
     },
     "44e794c572cd4a75bc54dbb5af348812": {
      "model_module": "@jupyter-widgets/base",
      "model_module_version": "2.0.0",
      "model_name": "LayoutModel",
      "state": {}
     },
     "44eba00b7a2e4d8c9087ed5fa5ca6926": {
      "model_module": "@jupyter-widgets/base",
      "model_module_version": "2.0.0",
      "model_name": "LayoutModel",
      "state": {}
     },
     "44ee06d8d2e8481980eb238b9e40f242": {
      "model_module": "@jupyter-widgets/controls",
      "model_module_version": "2.0.0",
      "model_name": "RadioButtonsModel",
      "state": {
       "_options_labels": [
        "DEM (*.tif / *.vrt)",
        "Visualization (*.tif / *.vrt)"
       ],
       "description": "Select input file:",
       "index": 0,
       "layout": "IPY_MODEL_70ae55d942ec45fca4931951e980e384",
       "style": "IPY_MODEL_d9ba8cff8bba4952aa277861efe81533"
      }
     },
     "458036a790924e6d870d7615f3cc8abf": {
      "model_module": "@jupyter-widgets/base",
      "model_module_version": "2.0.0",
      "model_name": "LayoutModel",
      "state": {
       "width": "98%"
      }
     },
     "45a9fbbd6b71433da8f33e5ca92d0ada": {
      "model_module": "@jupyter-widgets/output",
      "model_module_version": "1.0.0",
      "model_name": "OutputModel",
      "state": {
       "layout": "IPY_MODEL_fe844c39b4e74ef5a47d535a05351fe2",
       "outputs": [
        {
         "data": {
          "application/vnd.jupyter.widget-view+json": {
           "model_id": "c5cc24192292430593038bc8861fef8a",
           "version_major": 2,
           "version_minor": 0
          },
          "text/plain": "Label(value='Select classes for inference:')"
         },
         "metadata": {},
         "output_type": "display_data"
        }
       ]
      }
     },
     "45da19d5f16d4bb5b9556b1ab8ba0d00": {
      "model_module": "@jupyter-widgets/base",
      "model_module_version": "2.0.0",
      "model_name": "LayoutModel",
      "state": {}
     },
     "45e8634f902f467c9473b2fd821e24b9": {
      "model_module": "@jupyter-widgets/output",
      "model_module_version": "1.0.0",
      "model_name": "OutputModel",
      "state": {
       "layout": "IPY_MODEL_c2b144b4119042ac8b74ebd19c68099a",
       "outputs": [
        {
         "name": "stdout",
         "output_type": "stream",
         "text": "index\n"
        }
       ]
      }
     },
     "4623f977295e44b7b1f541a68be3d452": {
      "model_module": "@jupyter-widgets/base",
      "model_module_version": "2.0.0",
      "model_name": "LayoutModel",
      "state": {}
     },
     "4625f0d5aaf249598bace6481b9fbe6a": {
      "model_module": "@jupyter-widgets/output",
      "model_module_version": "1.0.0",
      "model_name": "OutputModel",
      "state": {
       "layout": "IPY_MODEL_23e3a110a47f40019739c9dbe94c0f6a"
      }
     },
     "4656fb16e21a48ee90d84b7e359badf7": {
      "model_module": "@jupyter-widgets/base",
      "model_module_version": "2.0.0",
      "model_name": "LayoutModel",
      "state": {
       "border_bottom": "1px solid black",
       "border_left": "1px solid black",
       "border_right": "1px solid black",
       "border_top": "1px solid black"
      }
     },
     "469d9e6f895a4c3d89c508ed84ae44ab": {
      "model_module": "@jupyter-widgets/base",
      "model_module_version": "2.0.0",
      "model_name": "LayoutModel",
      "state": {}
     },
     "46ad20bfec3e47dbb455325e4d62d762": {
      "model_module": "@jupyter-widgets/controls",
      "model_module_version": "2.0.0",
      "model_name": "TextStyleModel",
      "state": {
       "description_width": "initial",
       "font_size": null,
       "text_color": null
      }
     },
     "46e46865f91046d58ba01aa719d5aa95": {
      "model_module": "@jupyter-widgets/controls",
      "model_module_version": "2.0.0",
      "model_name": "TextStyleModel",
      "state": {
       "description_width": "initial",
       "font_size": null,
       "text_color": null
      }
     },
     "46f1f862c88e4c8a98c6b2861b6ef3bf": {
      "model_module": "@jupyter-widgets/base",
      "model_module_version": "2.0.0",
      "model_name": "LayoutModel",
      "state": {}
     },
     "46fd485a7de1452ab470087e1f029869": {
      "model_module": "@jupyter-widgets/controls",
      "model_module_version": "2.0.0",
      "model_name": "TextModel",
      "state": {
       "description": "x",
       "layout": "IPY_MODEL_9ae13c1801944e4abc1840c89473bb8d",
       "style": "IPY_MODEL_3b971e31a1534c6faebf394fc278c6e2",
       "value": "Hello World"
      }
     },
     "473ceedbf8d54146b2be5b2bf08fc598": {
      "model_module": "@jupyter-widgets/controls",
      "model_module_version": "2.0.0",
      "model_name": "HTMLModel",
      "state": {
       "layout": "IPY_MODEL_a51b1ff0c628483cb8a0af8021875a50",
       "style": "IPY_MODEL_d04ea8b12a764af7aff62a0e45045f83",
       "value": "<font color='black'>Select classes for inference:"
      }
     },
     "4755fcffbec2437d8f5ec84b27a8ea0d": {
      "model_module": "@jupyter-widgets/controls",
      "model_module_version": "2.0.0",
      "model_name": "TextModel",
      "state": {
       "description": "DEM path:",
       "layout": "IPY_MODEL_3a37cc8522e841498b794b000107eba1",
       "placeholder": "<my_data_folder/my_DEM_file.tif>",
       "style": "IPY_MODEL_d4a9a809e5cf4fe6a258d45ba0a4d9c7"
      }
     },
     "475aa4d3fc434f9aab2fdcd73b5462a0": {
      "model_module": "@jupyter-widgets/controls",
      "model_module_version": "2.0.0",
      "model_name": "TextStyleModel",
      "state": {
       "description_width": "initial",
       "font_size": null,
       "text_color": null
      }
     },
     "4761ae6647714c5f976580db6a1d5c3d": {
      "model_module": "@jupyter-widgets/base",
      "model_module_version": "2.0.0",
      "model_name": "LayoutModel",
      "state": {}
     },
     "476bce7c750640a3904e7533882e2b18": {
      "model_module": "@jupyter-widgets/controls",
      "model_module_version": "2.0.0",
      "model_name": "CheckboxModel",
      "state": {
       "description": "All archaeology",
       "disabled": false,
       "indent": false,
       "layout": "IPY_MODEL_7d65dce120c240839568b7e4ee38fd2a",
       "style": "IPY_MODEL_5788c9d1a6844daba43a405b8283abbe",
       "value": false
      }
     },
     "4777a00f31694edea403c338a5f788c3": {
      "model_module": "@jupyter-widgets/controls",
      "model_module_version": "2.0.0",
      "model_name": "DescriptionStyleModel",
      "state": {
       "description_width": ""
      }
     },
     "479c1ffafc324c6f940cfcf93e32b8e4": {
      "model_module": "@jupyter-widgets/controls",
      "model_module_version": "2.0.0",
      "model_name": "LabelStyleModel",
      "state": {
       "description_width": "",
       "font_family": null,
       "font_size": null,
       "font_style": null,
       "font_variant": null,
       "font_weight": null,
       "text_color": null,
       "text_decoration": null
      }
     },
     "479dbba32dc64e07bbe948e04a7576e3": {
      "model_module": "@jupyter-widgets/base",
      "model_module_version": "2.0.0",
      "model_name": "LayoutModel",
      "state": {}
     },
     "47c511a35f18412ca5449279b22d80f2": {
      "model_module": "@jupyter-widgets/base",
      "model_module_version": "2.0.0",
      "model_name": "LayoutModel",
      "state": {
       "width": "98%"
      }
     },
     "47ea89e7ffe1444fa56ce575dc0da578": {
      "model_module": "@jupyter-widgets/base",
      "model_module_version": "2.0.0",
      "model_name": "LayoutModel",
      "state": {}
     },
     "486f2301e8eb4bd2a500cc1539010a71": {
      "model_module": "@jupyter-widgets/base",
      "model_module_version": "2.0.0",
      "model_name": "LayoutModel",
      "state": {}
     },
     "4896090cd9e64a6ca68ef6541fa4641f": {
      "model_module": "@jupyter-widgets/base",
      "model_module_version": "2.0.0",
      "model_name": "LayoutModel",
      "state": {}
     },
     "48b9940755a44a4eb2668476f042ac66": {
      "model_module": "@jupyter-widgets/controls",
      "model_module_version": "2.0.0",
      "model_name": "HBoxModel",
      "state": {
       "children": [
        "IPY_MODEL_5c22ee6dd1804dc4b617eab511cdd3bc",
        "IPY_MODEL_5767b1dbfbba496d96fb1a60a0d238b5"
       ],
       "layout": "IPY_MODEL_e708174899204597977cc6ffe963bbe3"
      }
     },
     "48c6eaf22ccd48acbd2e59b703623fae": {
      "model_module": "@jupyter-widgets/controls",
      "model_module_version": "2.0.0",
      "model_name": "CheckboxStyleModel",
      "state": {
       "description_width": ""
      }
     },
     "490baa0428e14bf9b92b1f8fd64f095a": {
      "model_module": "@jupyter-widgets/controls",
      "model_module_version": "2.0.0",
      "model_name": "HBoxModel",
      "state": {
       "children": [
        "IPY_MODEL_92cbec75a86b42fa970444f00025a013",
        "IPY_MODEL_01a4b26309934e2eba36f5c465ea8ec0"
       ],
       "layout": "IPY_MODEL_7876c56ae42f4f518ef926d0c42a5127"
      }
     },
     "490c47ad5cc34854a4afc16e9eafa4f9": {
      "model_module": "@jupyter-widgets/base",
      "model_module_version": "2.0.0",
      "model_name": "LayoutModel",
      "state": {
       "border_bottom": "1px solid black",
       "border_left": "1px solid black",
       "border_right": "1px solid black",
       "border_top": "1px solid black"
      }
     },
     "49f6d7479f2d4885b96e9640be129bf2": {
      "model_module": "@jupyter-widgets/base",
      "model_module_version": "2.0.0",
      "model_name": "LayoutModel",
      "state": {}
     },
     "49f6de51ca394b6b844b204e5a7fe5ee": {
      "model_module": "@jupyter-widgets/base",
      "model_module_version": "2.0.0",
      "model_name": "LayoutModel",
      "state": {}
     },
     "4a443ad11c9d46028156ea4fa8bec855": {
      "model_module": "@jupyter-widgets/base",
      "model_module_version": "2.0.0",
      "model_name": "LayoutModel",
      "state": {
       "width": "98%"
      }
     },
     "4a648f0ab9a741768465075b0e628cd1": {
      "model_module": "@jupyter-widgets/controls",
      "model_module_version": "2.0.0",
      "model_name": "TextStyleModel",
      "state": {
       "description_width": "initial",
       "font_size": null,
       "text_color": null
      }
     },
     "4a6a2161654e400daff58eb4b2272f02": {
      "model_module": "@jupyter-widgets/controls",
      "model_module_version": "2.0.0",
      "model_name": "TextModel",
      "state": {
       "description": "Path to ML model [*.tar]:",
       "layout": "IPY_MODEL_122df8a1e58542f7a880e1f61fec841b",
       "placeholder": "model_folder/saved_model.tar",
       "style": "IPY_MODEL_2d1f68ac7d044aeb965c516e07aa77a9"
      }
     },
     "4a775da7a243434299201e5c50ccdaab": {
      "model_module": "@jupyter-widgets/controls",
      "model_module_version": "2.0.0",
      "model_name": "HTMLStyleModel",
      "state": {
       "description_width": "",
       "font_size": null,
       "text_color": null
      }
     },
     "4a7ccbcac2084f39aaf242d232b7fbde": {
      "model_module": "@jupyter-widgets/controls",
      "model_module_version": "2.0.0",
      "model_name": "HTMLModel",
      "state": {
       "layout": "IPY_MODEL_cc5b63dd3de24e5685f18e5f2972eda3",
       "style": "IPY_MODEL_b172cf14ad184c0f80709876d54e6b8c",
       "value": "<b>ML options:</b>"
      }
     },
     "4a896895f8134697ae98addc82a1cd11": {
      "model_module": "@jupyter-widgets/output",
      "model_module_version": "1.0.0",
      "model_name": "OutputModel",
      "state": {
       "layout": "IPY_MODEL_f6b2e985f88e4efc96863c4c27dd2235",
       "outputs": [
        {
         "data": {
          "application/vnd.jupyter.widget-view+json": {
           "model_id": "690a1b94053841e48bbfae1d46f14333",
           "version_major": 2,
           "version_minor": 0
          },
          "text/plain": "Label(value='Path to ML model [*.tar]:')"
         },
         "metadata": {},
         "output_type": "display_data"
        }
       ]
      }
     },
     "4aae37a98c9a4f3d8bec7f883d6752e4": {
      "model_module": "@jupyter-widgets/controls",
      "model_module_version": "2.0.0",
      "model_name": "HTMLModel",
      "state": {
       "layout": "IPY_MODEL_855e241a6eef4002a5cf90a6e56996cd",
       "style": "IPY_MODEL_e1ad277cb273430bb5c77a59d47d7cb7",
       "value": "<b>ML options:</b>"
      }
     },
     "4ad99faf927a47e696567755646809df": {
      "model_module": "@jupyter-widgets/controls",
      "model_module_version": "2.0.0",
      "model_name": "TextModel",
      "state": {
       "description": "Visualization path:",
       "disabled": true,
       "layout": "IPY_MODEL_96c26a2da1714365a63a032a85e0771f",
       "placeholder": "<my_data_folder/my_visualization_file.tif>",
       "style": "IPY_MODEL_1c6d0e93618c4a61b63600f894384cb2"
      }
     },
     "4af39d3888024891a5d34c6e6c7ab342": {
      "model_module": "@jupyter-widgets/controls",
      "model_module_version": "2.0.0",
      "model_name": "HBoxModel",
      "state": {
       "children": [
        "IPY_MODEL_145ddf6573e6477cba1a3e90e7c62b54",
        "IPY_MODEL_e675d183fca3492a8e1254a2a903f45b"
       ],
       "layout": "IPY_MODEL_469d9e6f895a4c3d89c508ed84ae44ab"
      }
     },
     "4b081d9ad0854fedae559eb241d52407": {
      "model_module": "@jupyter-widgets/base",
      "model_module_version": "2.0.0",
      "model_name": "LayoutModel",
      "state": {}
     },
     "4b2407c94204422faea1865d07745bb9": {
      "model_module": "@jupyter-widgets/base",
      "model_module_version": "2.0.0",
      "model_name": "LayoutModel",
      "state": {}
     },
     "4b26d2914d494719b946750e29483f12": {
      "model_module": "@jupyter-widgets/base",
      "model_module_version": "2.0.0",
      "model_name": "LayoutModel",
      "state": {}
     },
     "4b2cde2ebef34318a612c84d54ccaeee": {
      "model_module": "@jupyter-widgets/controls",
      "model_module_version": "2.0.0",
      "model_name": "HBoxModel",
      "state": {
       "children": [
        "IPY_MODEL_4fbebcc26124412b9ae902118f3c23c8",
        "IPY_MODEL_2a59de4b69d44c848bc90ae9a214a7d5"
       ],
       "layout": "IPY_MODEL_d85ae1b600654b05aaf04080b622cf0a"
      }
     },
     "4b2d24cdbf574e9ebbab13d2a966cf31": {
      "model_module": "@jupyter-widgets/controls",
      "model_module_version": "2.0.0",
      "model_name": "RadioButtonsModel",
      "state": {
       "_options_labels": [
        "DEM (*.tif / *.vrt)",
        "Visualization (*.tif / *.vrt)"
       ],
       "description": "Select input type:",
       "index": 1,
       "layout": "IPY_MODEL_72eb24551ccd4c49ba161773c979c7db",
       "style": "IPY_MODEL_116530d0c5b349d0af60fe921530b20e"
      }
     },
     "4b2e538bb0b34522a47a414adbcea439": {
      "model_module": "@jupyter-widgets/controls",
      "model_module_version": "2.0.0",
      "model_name": "CheckboxModel",
      "state": {
       "description": "Batch processing",
       "disabled": false,
       "indent": false,
       "layout": "IPY_MODEL_94c5c5b1067c48fba43ef12d7b136ddb",
       "style": "IPY_MODEL_25952ca1a4494c50872e42cb3b05f25f",
       "value": false
      }
     },
     "4b3e9ef00e5f477c95a4c9224e714a9e": {
      "model_module": "@jupyter-widgets/output",
      "model_module_version": "1.0.0",
      "model_name": "OutputModel",
      "state": {
       "layout": "IPY_MODEL_6ed662ea385d4a998fa698a0a80cfe60",
       "outputs": [
        {
         "name": "stdout",
         "output_type": "stream",
         "text": "{'name': '_property_lock', 'old': {'value': True}, 'new': {}, 'owner': Checkbox(value=True, description='Batch processing', indent=False), 'type': 'change'}\n"
        }
       ]
      }
     },
     "4b6aac6dc0ce48b29ee162ca32ce9820": {
      "model_module": "@jupyter-widgets/controls",
      "model_module_version": "2.0.0",
      "model_name": "CheckboxStyleModel",
      "state": {
       "description_width": ""
      }
     },
     "4b6bedb5689242eda20135c6149dec9e": {
      "model_module": "@jupyter-widgets/controls",
      "model_module_version": "2.0.0",
      "model_name": "HBoxModel",
      "state": {
       "children": [
        "IPY_MODEL_972dec6753b74cd2b959e4512db9eddf",
        "IPY_MODEL_a07e886396b04c38955f886a616af807"
       ],
       "layout": "IPY_MODEL_dd8896c0b4824b368c6a42d96010f13a"
      }
     },
     "4b6e12f2017c4c8ca5b351e779a0a32a": {
      "model_module": "@jupyter-widgets/base",
      "model_module_version": "2.0.0",
      "model_name": "LayoutModel",
      "state": {}
     },
     "4b80caee322247bf9b5f6722d0f154ba": {
      "model_module": "@jupyter-widgets/controls",
      "model_module_version": "2.0.0",
      "model_name": "CheckboxStyleModel",
      "state": {
       "description_width": ""
      }
     },
     "4b87337a09bd4dd1aef49e21b79bf19e": {
      "model_module": "@jupyter-widgets/controls",
      "model_module_version": "2.0.0",
      "model_name": "TextStyleModel",
      "state": {
       "description_width": "initial",
       "font_size": null,
       "text_color": null
      }
     },
     "4b9f9a32e5cd4317881daef5fa70c326": {
      "model_module": "@jupyter-widgets/base",
      "model_module_version": "2.0.0",
      "model_name": "LayoutModel",
      "state": {}
     },
     "4ba9a8d719d944aa84f7a0949ceb4f30": {
      "model_module": "@jupyter-widgets/controls",
      "model_module_version": "2.0.0",
      "model_name": "RadioButtonsModel",
      "state": {
       "_options_labels": [
        "ADAF model",
        "Custom model"
       ],
       "description": "Select ML model:",
       "index": 0,
       "layout": "IPY_MODEL_c92fb3d3cd304d74b3c8ff50f5ab9d24",
       "style": "IPY_MODEL_fbfc6cd3f41a4d44a69a6418dbc98d9a"
      }
     },
     "4bb2966ecf4d4ee7a84dc62930915b2b": {
      "model_module": "@jupyter-widgets/controls",
      "model_module_version": "2.0.0",
      "model_name": "CheckboxModel",
      "state": {
       "description": "Enclosure",
       "disabled": false,
       "indent": false,
       "layout": "IPY_MODEL_27fe550f398b44ae9d1479eb5827bd0b",
       "style": "IPY_MODEL_ee23fd56dc0f4c7fa856f61c73aadd08",
       "value": true
      }
     },
     "4c0fa77d00bf417db7ff51e2c31cfeee": {
      "model_module": "@jupyter-widgets/controls",
      "model_module_version": "2.0.0",
      "model_name": "CheckboxStyleModel",
      "state": {
       "description_width": ""
      }
     },
     "4c496664b5ba4916918842338a5d2d25": {
      "model_module": "@jupyter-widgets/base",
      "model_module_version": "2.0.0",
      "model_name": "LayoutModel",
      "state": {}
     },
     "4c50c89031c44a8aba973854c9e1f1a7": {
      "model_module": "@jupyter-widgets/controls",
      "model_module_version": "2.0.0",
      "model_name": "CheckboxModel",
      "state": {
       "description": "All archaeology",
       "disabled": false,
       "indent": false,
       "layout": "IPY_MODEL_f572f25094b347db8520a288968772d2",
       "style": "IPY_MODEL_bfa718177743429fb6b157c2c1e1f900",
       "value": false
      }
     },
     "4cbf9cf0731c49dd96607a84e801e3f5": {
      "model_module": "@jupyter-widgets/base",
      "model_module_version": "2.0.0",
      "model_name": "LayoutModel",
      "state": {
       "border_bottom": "1px solid black",
       "border_left": "1px solid black",
       "border_right": "1px solid black",
       "border_top": "1px solid black"
      }
     },
     "4cc98d3c6d864d27bfc479c82dab2800": {
      "model_module": "@jupyter-widgets/controls",
      "model_module_version": "2.0.0",
      "model_name": "HTMLStyleModel",
      "state": {
       "description_width": "",
       "font_size": null,
       "text_color": null
      }
     },
     "4cdeaebe29fa4ddd94d7c169ba6831d6": {
      "model_module": "@jupyter-widgets/base",
      "model_module_version": "2.0.0",
      "model_name": "LayoutModel",
      "state": {
       "width": "98%"
      }
     },
     "4cdfd3e5ebee46cdb99b0150b0acf5ca": {
      "model_module": "@jupyter-widgets/controls",
      "model_module_version": "2.0.0",
      "model_name": "CheckboxModel",
      "state": {
       "description": "Ringfort",
       "disabled": false,
       "indent": false,
       "layout": "IPY_MODEL_96706cbca39548adbc3b25ad15d97252",
       "style": "IPY_MODEL_a124142afbf146ac9993e85be47e34ff",
       "value": true
      }
     },
     "4ce08b14794d4600808fbc6b95a5ff19": {
      "model_module": "@jupyter-widgets/base",
      "model_module_version": "2.0.0",
      "model_name": "LayoutModel",
      "state": {}
     },
     "4ceeba394fdd4802be59bd8c22bb5e15": {
      "model_module": "@jupyter-widgets/controls",
      "model_module_version": "2.0.0",
      "model_name": "CheckboxModel",
      "state": {
       "description": "All archaeology",
       "disabled": false,
       "indent": false,
       "layout": "IPY_MODEL_14e1658d13664fa082899c916667f6e3",
       "style": "IPY_MODEL_7a818d8efa4445a6b9cde9660bd9d8ba",
       "value": false
      }
     },
     "4d015319d5dc4d8a8a38b86ddd36b82c": {
      "model_module": "@jupyter-widgets/base",
      "model_module_version": "2.0.0",
      "model_name": "LayoutModel",
      "state": {}
     },
     "4d186277926f45d495e04c157c8b9d9c": {
      "model_module": "@jupyter-widgets/base",
      "model_module_version": "2.0.0",
      "model_name": "LayoutModel",
      "state": {}
     },
     "4d23dd5a286b4c12ab182741671c7abb": {
      "model_module": "@jupyter-widgets/controls",
      "model_module_version": "2.0.0",
      "model_name": "TextStyleModel",
      "state": {
       "description_width": "initial",
       "font_size": null,
       "text_color": null
      }
     },
     "4d3d7daf4f084320b10d8514d3864f12": {
      "model_module": "@jupyter-widgets/base",
      "model_module_version": "2.0.0",
      "model_name": "LayoutModel",
      "state": {}
     },
     "4d4ecfb4515b4088978ac316d5cb1360": {
      "model_module": "@jupyter-widgets/controls",
      "model_module_version": "2.0.0",
      "model_name": "TextStyleModel",
      "state": {
       "description_width": "initial",
       "font_size": null,
       "text_color": null
      }
     },
     "4d61701e50984b5a9c0f487e75715f8b": {
      "model_module": "@jupyter-widgets/output",
      "model_module_version": "1.0.0",
      "model_name": "OutputModel",
      "state": {
       "layout": "IPY_MODEL_cd8137779ca242eeafca94d540f1f9de",
       "outputs": [
        {
         "data": {
          "application/vnd.jupyter.widget-view+json": {
           "model_id": "a12e1d530a044612905a932df47aa24f",
           "version_major": 2,
           "version_minor": 0
          },
          "text/plain": "Text(value='', description='DEM path:', layout=Layout(width='98%'), placeholder='<my_data_folder/my_DEM_file.t…"
         },
         "metadata": {},
         "output_type": "display_data"
        }
       ]
      }
     },
     "4e271f418294495db9afbcad02460d01": {
      "model_module": "@jupyter-widgets/base",
      "model_module_version": "2.0.0",
      "model_name": "LayoutModel",
      "state": {
       "width": "98%"
      }
     },
     "4e60eb68335a4057b795e2847b0ab965": {
      "model_module": "@jupyter-widgets/base",
      "model_module_version": "2.0.0",
      "model_name": "LayoutModel",
      "state": {}
     },
     "4e6a90aa22d24fc19a7c9925e867f792": {
      "model_module": "@jupyter-widgets/controls",
      "model_module_version": "2.0.0",
      "model_name": "HTMLStyleModel",
      "state": {
       "description_width": "",
       "font_size": null,
       "text_color": null
      }
     },
     "4ecaf623f4a14adcba9bcaac334caeb0": {
      "model_module": "@jupyter-widgets/controls",
      "model_module_version": "2.0.0",
      "model_name": "VBoxModel",
      "state": {
       "children": [
        "IPY_MODEL_f99222c231ba4cd6bb23c8fa062d7187",
        "IPY_MODEL_5e7e718c5c3b453a976eb0d8afe5c9a5",
        "IPY_MODEL_1b7c6cb2fb3c43fda60f3be6558b5bd1"
       ],
       "layout": "IPY_MODEL_a8b5ebac75fd4eaea0cbcf79dd85eab0"
      }
     },
     "4ef2c98c1cbc4c449eba66c68efe6d96": {
      "model_module": "@jupyter-widgets/output",
      "model_module_version": "1.0.0",
      "model_name": "OutputModel",
      "state": {
       "layout": "IPY_MODEL_38886a0f32e3401394f2ebbd4c670213",
       "outputs": [
        {
         "data": {
          "application/vnd.jupyter.widget-view+json": {
           "model_id": "1a6d78a904ed493eb32f2428eea90c0b",
           "version_major": 2,
           "version_minor": 0
          },
          "text/plain": "Text(value='', description='DEM path:', layout=Layout(width='98%'), placeholder='<my_data_folder/my_DEM_file.t…"
         },
         "metadata": {},
         "output_type": "display_data"
        }
       ]
      }
     },
     "4efc4c72e50542928cf9cefbfaa362b7": {
      "model_module": "@jupyter-widgets/base",
      "model_module_version": "2.0.0",
      "model_name": "LayoutModel",
      "state": {}
     },
     "4f24646749554022a5f36d3f2b7f40fc": {
      "model_module": "@jupyter-widgets/controls",
      "model_module_version": "2.0.0",
      "model_name": "DescriptionStyleModel",
      "state": {
       "description_width": ""
      }
     },
     "4f325ba7d64f4c4aa3131748e36cb603": {
      "model_module": "@jupyter-widgets/controls",
      "model_module_version": "2.0.0",
      "model_name": "CheckboxModel",
      "state": {
       "description": "Barrow",
       "disabled": false,
       "indent": false,
       "layout": "IPY_MODEL_7871c8b78a1b495796671e07b1353bf0",
       "style": "IPY_MODEL_7648171155164c8fa03eb4f6f0b6238b",
       "value": true
      }
     },
     "4f33fb60c1c149f5ac4f528b3a324aa3": {
      "model_module": "@jupyter-widgets/base",
      "model_module_version": "2.0.0",
      "model_name": "LayoutModel",
      "state": {}
     },
     "4f4687f1487f4e5da3b9c77fb07789a3": {
      "model_module": "@jupyter-widgets/base",
      "model_module_version": "2.0.0",
      "model_name": "LayoutModel",
      "state": {}
     },
     "4f4e487fde9e4554a7e11bfe9b509d28": {
      "model_module": "@jupyter-widgets/controls",
      "model_module_version": "2.0.0",
      "model_name": "DescriptionStyleModel",
      "state": {
       "description_width": ""
      }
     },
     "4f5648b4c5054b55aaee551aab4a35f6": {
      "model_module": "@jupyter-widgets/controls",
      "model_module_version": "2.0.0",
      "model_name": "RadioButtonsModel",
      "state": {
       "_options_labels": [
        "ADAF model",
        "Custom model"
       ],
       "description": "Select ML model:",
       "index": 0,
       "layout": "IPY_MODEL_809547a4c06e49d5985e2840eb459ecd",
       "style": "IPY_MODEL_8a6ea1d6db9d44aab00119ad4ce73567"
      }
     },
     "4f5ba95621174b64a7c3c65bf4346a67": {
      "model_module": "@jupyter-widgets/base",
      "model_module_version": "2.0.0",
      "model_name": "LayoutModel",
      "state": {}
     },
     "4f5fc633911f41b0ba1adbc6f83209e5": {
      "model_module": "@jupyter-widgets/base",
      "model_module_version": "2.0.0",
      "model_name": "LayoutModel",
      "state": {
       "border_bottom": "1px solid black",
       "border_left": "1px solid black",
       "border_right": "1px solid black",
       "border_top": "1px solid black"
      }
     },
     "4f7fb4765d6244948ec7471471adbfa3": {
      "model_module": "@jupyter-widgets/controls",
      "model_module_version": "2.0.0",
      "model_name": "RadioButtonsModel",
      "state": {
       "_options_labels": [
        "ADAF model",
        "Custom model"
       ],
       "description": "Select ML model:",
       "index": 1,
       "layout": "IPY_MODEL_978eba85dfcf46648f465d5ae7fe3e0b",
       "style": "IPY_MODEL_4fe3df66454f4a22a91df43b7534f36f"
      }
     },
     "4f9658b12daa49f28c9437dbf4c7c727": {
      "model_module": "@jupyter-widgets/base",
      "model_module_version": "2.0.0",
      "model_name": "LayoutModel",
      "state": {}
     },
     "4f9ab95ed15a4301aea446a479589a75": {
      "model_module": "@jupyter-widgets/base",
      "model_module_version": "2.0.0",
      "model_name": "LayoutModel",
      "state": {
       "border_bottom": "1px solid black",
       "border_left": "1px solid black",
       "border_right": "1px solid black",
       "border_top": "1px solid black"
      }
     },
     "4fbebcc26124412b9ae902118f3c23c8": {
      "model_module": "@jupyter-widgets/controls",
      "model_module_version": "2.0.0",
      "model_name": "RadioButtonsModel",
      "state": {
       "_options_labels": [
        "DEM (*.tif / *.vrt)",
        "Visualization (*.tif / *.vrt)"
       ],
       "description": "Select input type:",
       "index": 1,
       "layout": "IPY_MODEL_1ec83b4d64d646ee88d2e51195aa9c96",
       "style": "IPY_MODEL_3469e99b39554efbbed4f9300cb61a21"
      }
     },
     "4fc61f3d0cd24a9b90afcf039d880f7a": {
      "model_module": "@jupyter-widgets/controls",
      "model_module_version": "2.0.0",
      "model_name": "HTMLModel",
      "state": {
       "layout": "IPY_MODEL_1622c2022815482299a3e03f970f8f9a",
       "style": "IPY_MODEL_6d49d74dfcc64a59b1c82d483a58e71b",
       "value": "<b>ML options:</b>"
      }
     },
     "4fe3df66454f4a22a91df43b7534f36f": {
      "model_module": "@jupyter-widgets/controls",
      "model_module_version": "2.0.0",
      "model_name": "DescriptionStyleModel",
      "state": {
       "description_width": ""
      }
     },
     "4fe98f4e44ae47d5b3fa948d57847397": {
      "model_module": "@jupyter-widgets/controls",
      "model_module_version": "2.0.0",
      "model_name": "TextModel",
      "state": {
       "description": "Visualization path:",
       "disabled": true,
       "layout": "IPY_MODEL_0d57d8f2bc88443998d9df5a09e0d307",
       "placeholder": "<my_data_folder/my_visualization_file.tif>",
       "style": "IPY_MODEL_cf1ceffbbc2c47af8e6b40e109bbcca8"
      }
     },
     "4ff817054efb4f19bf2e71c212dfe564": {
      "model_module": "@jupyter-widgets/controls",
      "model_module_version": "2.0.0",
      "model_name": "HTMLModel",
      "state": {
       "layout": "IPY_MODEL_c28031eca13146b588bfb0c59a541b95",
       "style": "IPY_MODEL_17e990002d9e4abfaeb37b7e10781e55",
       "value": "<b>ML options:</b>"
      }
     },
     "5065fef9785f4934a6dc15e28d784a27": {
      "model_module": "@jupyter-widgets/base",
      "model_module_version": "2.0.0",
      "model_name": "LayoutModel",
      "state": {
       "width": "98%"
      }
     },
     "509c757b88d3423ea39232366592b21f": {
      "model_module": "@jupyter-widgets/base",
      "model_module_version": "2.0.0",
      "model_name": "LayoutModel",
      "state": {
       "width": "98%"
      }
     },
     "50b9f0d571414770a7874bf2981c07ee": {
      "model_module": "@jupyter-widgets/controls",
      "model_module_version": "2.0.0",
      "model_name": "CheckboxModel",
      "state": {
       "description": "Enclosure",
       "disabled": false,
       "indent": false,
       "layout": "IPY_MODEL_d98a273a21fe4a819e6b65bae48bf712",
       "style": "IPY_MODEL_15c2dac971654bab9fce1f8d7f1c61ca",
       "value": true
      }
     },
     "50dd71278988421fa4f7a021c89b12ef": {
      "model_module": "@jupyter-widgets/base",
      "model_module_version": "2.0.0",
      "model_name": "LayoutModel",
      "state": {}
     },
     "50f4dd6b2391477cb6004fb69caf77d3": {
      "model_module": "@jupyter-widgets/output",
      "model_module_version": "1.0.0",
      "model_name": "OutputModel",
      "state": {
       "layout": "IPY_MODEL_d484394ae23b4049814862cb37ef1cab",
       "outputs": [
        {
         "name": "stdout",
         "output_type": "stream",
         "text": "1\n"
        }
       ]
      }
     },
     "51035be5880646519793e91215374b96": {
      "model_module": "@jupyter-widgets/controls",
      "model_module_version": "2.0.0",
      "model_name": "TextModel",
      "state": {
       "description": "DEM path:",
       "layout": "IPY_MODEL_2d6b50f89bf649f6b24696be1360c198",
       "placeholder": "<my_data_folder/my_DEM_file.tif>",
       "style": "IPY_MODEL_b254aefb8ab04e3e91a950de936d8389"
      }
     },
     "51143e11644e4559bc5e3da3897f31dd": {
      "model_module": "@jupyter-widgets/base",
      "model_module_version": "2.0.0",
      "model_name": "LayoutModel",
      "state": {}
     },
     "514960e0e8f04113808accf4e9d83997": {
      "model_module": "@jupyter-widgets/controls",
      "model_module_version": "2.0.0",
      "model_name": "HBoxModel",
      "state": {
       "children": [
        "IPY_MODEL_c51302b5ab56401c8c097422aab53e82",
        "IPY_MODEL_1277aa4ee035460aacfc86d27b291057",
        "IPY_MODEL_05fd5cd721874e55b4f15c15f9e24160",
        "IPY_MODEL_362b8b7e928a43d7b12004f96e98fde5"
       ],
       "layout": "IPY_MODEL_da5ceaa4faf1418ca80b137145f4be30"
      }
     },
     "5161ee42418d4c24996d1cdbbe29f2ad": {
      "model_module": "@jupyter-widgets/base",
      "model_module_version": "2.0.0",
      "model_name": "LayoutModel",
      "state": {}
     },
     "5182e2390e414494b09192b516c72880": {
      "model_module": "@jupyter-widgets/controls",
      "model_module_version": "2.0.0",
      "model_name": "HTMLStyleModel",
      "state": {
       "description_width": "",
       "font_size": null,
       "text_color": null
      }
     },
     "51a363cde31a436793358588930806a6": {
      "model_module": "@jupyter-widgets/base",
      "model_module_version": "2.0.0",
      "model_name": "LayoutModel",
      "state": {}
     },
     "51a5c12813c9466498fa55eb250f1e69": {
      "model_module": "@jupyter-widgets/controls",
      "model_module_version": "2.0.0",
      "model_name": "CheckboxStyleModel",
      "state": {
       "description_width": ""
      }
     },
     "51a8f18ce20d456690782a1353130c25": {
      "model_module": "@jupyter-widgets/controls",
      "model_module_version": "2.0.0",
      "model_name": "TextModel",
      "state": {
       "description": "DEM path:",
       "layout": "IPY_MODEL_6af7cecc12a94485b11aee65578dc50e",
       "placeholder": "<my_data_folder/my_DEM_file.tif>",
       "style": "IPY_MODEL_46ad20bfec3e47dbb455325e4d62d762"
      }
     },
     "520f4057c23b415683f87c62b659aec5": {
      "model_module": "@jupyter-widgets/controls",
      "model_module_version": "2.0.0",
      "model_name": "HBoxModel",
      "state": {
       "children": [
        "IPY_MODEL_cb11e3e32e1c40d0a7dd9c1cd1bc2e2a",
        "IPY_MODEL_c1127a3104544a3e85d89e9194056484"
       ],
       "layout": "IPY_MODEL_b52fd48cf58249cb89e4885e6e0ebca9"
      }
     },
     "523496b8a61244509fbb77f4725c9157": {
      "model_module": "@jupyter-widgets/base",
      "model_module_version": "2.0.0",
      "model_name": "LayoutModel",
      "state": {}
     },
     "52544577a05d4a0fa9dd4b9ae3465bc3": {
      "model_module": "@jupyter-widgets/controls",
      "model_module_version": "2.0.0",
      "model_name": "RadioButtonsModel",
      "state": {
       "_options_labels": [
        "DEM (*.tif / *.vrt)",
        "Visualization (*.tif / *.vrt)"
       ],
       "description": "Select input type:",
       "index": 1,
       "layout": "IPY_MODEL_3b9db6ed61f04abebb91c5602ff74b68",
       "style": "IPY_MODEL_93b14389a516451db4cdc144c64be1e6"
      }
     },
     "5255e455b6294153959e7aeaf40892d7": {
      "model_module": "@jupyter-widgets/base",
      "model_module_version": "2.0.0",
      "model_name": "LayoutModel",
      "state": {}
     },
     "526cdcd785414960a6a0fe767513fbc2": {
      "model_module": "@jupyter-widgets/base",
      "model_module_version": "2.0.0",
      "model_name": "LayoutModel",
      "state": {}
     },
     "527ce61b7bf443dd9fa7ff29f1eeca8e": {
      "model_module": "@jupyter-widgets/base",
      "model_module_version": "2.0.0",
      "model_name": "LayoutModel",
      "state": {}
     },
     "528c56484ecd43ae90b4bb226f2d2f98": {
      "model_module": "@jupyter-widgets/controls",
      "model_module_version": "2.0.0",
      "model_name": "VBoxModel",
      "state": {
       "_dom_classes": [
        "widget-interact"
       ],
       "children": [
        "IPY_MODEL_c3474391bfdc4df382297526ee9fe1d8",
        "IPY_MODEL_377e2968c9dc4a1586bf9e87e9aa1cbc"
       ],
       "layout": "IPY_MODEL_8d5de7a2a86e476ba4ae70cc7c10d7a7"
      }
     },
     "52ad900c6f7444dbbd9a8e2e5cdf7bf7": {
      "model_module": "@jupyter-widgets/controls",
      "model_module_version": "2.0.0",
      "model_name": "HTMLModel",
      "state": {
       "layout": "IPY_MODEL_141593f802b249929ed08607426f1b0c",
       "style": "IPY_MODEL_06cf95a7e34b402490ddd592539eaed6",
       "value": "<b>ML options:</b>"
      }
     },
     "52e7aecae6d542f1a9d5238cf4cc0129": {
      "model_module": "@jupyter-widgets/controls",
      "model_module_version": "2.0.0",
      "model_name": "CheckboxStyleModel",
      "state": {
       "description_width": ""
      }
     },
     "53014a36d7124589bf45d5204a84ff94": {
      "model_module": "@jupyter-widgets/output",
      "model_module_version": "1.0.0",
      "model_name": "OutputModel",
      "state": {
       "layout": "IPY_MODEL_fef56934c708482587e67bc641d172ca",
       "outputs": [
        {
         "ename": "AttributeError",
         "evalue": "module 'ipywidgets.widgets' has no attribute 'RadioButton'",
         "output_type": "error",
         "traceback": [
          "\u001b[1;31m---------------------------------------------------------------------------\u001b[0m",
          "\u001b[1;31mAttributeError\u001b[0m                            Traceback (most recent call last)",
          "\u001b[1;32m~\\AppData\\Local\\anaconda3\\envs\\aitlas-tii\\lib\\site-packages\\ipywidgets\\widgets\\widget_output.py\u001b[0m in \u001b[0;36minner\u001b[1;34m(*args, **kwargs)\u001b[0m\n\u001b[0;32m    101\u001b[0m                     \u001b[0mself\u001b[0m\u001b[1;33m.\u001b[0m\u001b[0mclear_output\u001b[0m\u001b[1;33m(\u001b[0m\u001b[1;33m*\u001b[0m\u001b[0mclear_args\u001b[0m\u001b[1;33m,\u001b[0m \u001b[1;33m**\u001b[0m\u001b[0mclear_kwargs\u001b[0m\u001b[1;33m)\u001b[0m\u001b[1;33m\u001b[0m\u001b[1;33m\u001b[0m\u001b[0m\n\u001b[0;32m    102\u001b[0m                 \u001b[1;32mwith\u001b[0m \u001b[0mself\u001b[0m\u001b[1;33m:\u001b[0m\u001b[1;33m\u001b[0m\u001b[1;33m\u001b[0m\u001b[0m\n\u001b[1;32m--> 103\u001b[1;33m                     \u001b[1;32mreturn\u001b[0m \u001b[0mfunc\u001b[0m\u001b[1;33m(\u001b[0m\u001b[1;33m*\u001b[0m\u001b[0margs\u001b[0m\u001b[1;33m,\u001b[0m \u001b[1;33m**\u001b[0m\u001b[0mkwargs\u001b[0m\u001b[1;33m)\u001b[0m\u001b[1;33m\u001b[0m\u001b[1;33m\u001b[0m\u001b[0m\n\u001b[0m\u001b[0;32m    104\u001b[0m             \u001b[1;32mreturn\u001b[0m \u001b[0minner\u001b[0m\u001b[1;33m\u001b[0m\u001b[1;33m\u001b[0m\u001b[0m\n\u001b[0;32m    105\u001b[0m         \u001b[1;32mreturn\u001b[0m \u001b[0mcapture_decorator\u001b[0m\u001b[1;33m\u001b[0m\u001b[1;33m\u001b[0m\u001b[0m\n",
          "\u001b[1;32m~\\AppData\\Local\\Temp\\ipykernel_15392\\2197613107.py\u001b[0m in \u001b[0;36mwhat_traits_radio\u001b[1;34m(value)\u001b[0m\n\u001b[0;32m     46\u001b[0m \u001b[1;33m@\u001b[0m\u001b[0mdebug_view\u001b[0m\u001b[1;33m.\u001b[0m\u001b[0mcapture\u001b[0m\u001b[1;33m(\u001b[0m\u001b[0mclear_output\u001b[0m\u001b[1;33m=\u001b[0m\u001b[1;32mTrue\u001b[0m\u001b[1;33m)\u001b[0m\u001b[1;33m\u001b[0m\u001b[1;33m\u001b[0m\u001b[0m\n\u001b[0;32m     47\u001b[0m \u001b[1;32mdef\u001b[0m \u001b[0mwhat_traits_radio\u001b[0m\u001b[1;33m(\u001b[0m\u001b[0mvalue\u001b[0m\u001b[1;33m)\u001b[0m\u001b[1;33m:\u001b[0m\u001b[1;33m\u001b[0m\u001b[1;33m\u001b[0m\u001b[0m\n\u001b[1;32m---> 48\u001b[1;33m     \u001b[1;32mif\u001b[0m \u001b[0misinstance\u001b[0m\u001b[1;33m(\u001b[0m\u001b[0mvalue\u001b[0m\u001b[1;33m.\u001b[0m\u001b[0mowner\u001b[0m\u001b[1;33m,\u001b[0m \u001b[0mwidgets\u001b[0m\u001b[1;33m.\u001b[0m\u001b[0mRadioButton\u001b[0m\u001b[1;33m)\u001b[0m\u001b[1;33m:\u001b[0m\u001b[1;33m\u001b[0m\u001b[1;33m\u001b[0m\u001b[0m\n\u001b[0m\u001b[0;32m     49\u001b[0m         \u001b[0mprint\u001b[0m\u001b[1;33m(\u001b[0m\u001b[1;34m\"RB\"\u001b[0m\u001b[1;33m)\u001b[0m\u001b[1;33m\u001b[0m\u001b[1;33m\u001b[0m\u001b[0m\n\u001b[0;32m     50\u001b[0m \u001b[1;33m\u001b[0m\u001b[0m\n",
          "\u001b[1;31mAttributeError\u001b[0m: module 'ipywidgets.widgets' has no attribute 'RadioButton'"
         ]
        }
       ]
      }
     },
     "5332ff9d81824f1f819093515e0a0afa": {
      "model_module": "@jupyter-widgets/base",
      "model_module_version": "2.0.0",
      "model_name": "LayoutModel",
      "state": {}
     },
     "53786867bfdd41d7b6038a0c8ce67eb0": {
      "model_module": "@jupyter-widgets/controls",
      "model_module_version": "2.0.0",
      "model_name": "CheckboxStyleModel",
      "state": {
       "description_width": ""
      }
     },
     "539020de91d7463bbbf871acd7edc26f": {
      "model_module": "@jupyter-widgets/controls",
      "model_module_version": "2.0.0",
      "model_name": "TextModel",
      "state": {
       "description": "DEM path:",
       "layout": "IPY_MODEL_e5729fbf101b4e739be102ff0e528345",
       "placeholder": "<my_data_folder/my_DEM_file.tif>",
       "style": "IPY_MODEL_a05a709fbb6b45bd95ac27a8fd8fddc0"
      }
     },
     "53a68d4664a2461db42e94f60f3c4734": {
      "model_module": "@jupyter-widgets/controls",
      "model_module_version": "2.0.0",
      "model_name": "CheckboxStyleModel",
      "state": {
       "description_width": ""
      }
     },
     "53b2fbe88f594d3c97662450bc43e407": {
      "model_module": "@jupyter-widgets/controls",
      "model_module_version": "2.0.0",
      "model_name": "HTMLModel",
      "state": {
       "layout": "IPY_MODEL_e3f3a7e53e574179b02e8b4ac202e264",
       "style": "IPY_MODEL_57f33264c06449fbbf246673f12ddb44",
       "value": "<b>ML options:</b>"
      }
     },
     "53ffc06e7eef4db297ab58717e6884ea": {
      "model_module": "@jupyter-widgets/controls",
      "model_module_version": "2.0.0",
      "model_name": "CheckboxModel",
      "state": {
       "description": "Ringfort",
       "disabled": false,
       "indent": false,
       "layout": "IPY_MODEL_7c3251822e8d44c9b476dc5bac0e646e",
       "style": "IPY_MODEL_d1ab046290524fb494b60bc3d3955e1b",
       "value": true
      }
     },
     "543c9fc5f61549c3a6080e2179c2060b": {
      "model_module": "@jupyter-widgets/base",
      "model_module_version": "2.0.0",
      "model_name": "LayoutModel",
      "state": {}
     },
     "544d2dcf76974de497dd0abff840ae2b": {
      "model_module": "@jupyter-widgets/base",
      "model_module_version": "2.0.0",
      "model_name": "LayoutModel",
      "state": {}
     },
     "545ad430744143e7b01fe7f593d55bd6": {
      "model_module": "@jupyter-widgets/controls",
      "model_module_version": "2.0.0",
      "model_name": "HBoxModel",
      "state": {
       "children": [
        "IPY_MODEL_1ba5537592464e179fba6746ee02ecd4",
        "IPY_MODEL_c647ec60046047788f0b0e4507214a61",
        "IPY_MODEL_2866257fe2ef44bdaa118f7fd7087081",
        "IPY_MODEL_2d8519e64194468183125929d13980c8"
       ],
       "layout": "IPY_MODEL_3e209a2279f44cfb92f8ec814d88e006"
      }
     },
     "54b8a792fde640839897c41504798cd8": {
      "model_module": "@jupyter-widgets/base",
      "model_module_version": "2.0.0",
      "model_name": "LayoutModel",
      "state": {}
     },
     "54e8726ac0e04e72a506acfa24645c19": {
      "model_module": "@jupyter-widgets/controls",
      "model_module_version": "2.0.0",
      "model_name": "RadioButtonsModel",
      "state": {
       "_options_labels": [
        "object detection",
        "segmentation"
       ],
       "description": "Select ML method:",
       "index": 1,
       "layout": "IPY_MODEL_2d8a8898898b4e7a9a45b5aba39f835a",
       "style": "IPY_MODEL_25b2dcdbafeb4d929ce8e09137da8189"
      }
     },
     "54f7fdc0110941e0a7048812024119a9": {
      "model_module": "@jupyter-widgets/base",
      "model_module_version": "2.0.0",
      "model_name": "LayoutModel",
      "state": {}
     },
     "550342e6beb04eec8cfcb0722a62189b": {
      "model_module": "@jupyter-widgets/output",
      "model_module_version": "1.0.0",
      "model_name": "OutputModel",
      "state": {
       "layout": "IPY_MODEL_7e4de5d97a5b4e2ebb191dc7738cdbc6",
       "outputs": [
        {
         "data": {
          "application/vnd.jupyter.widget-view+json": {
           "model_id": "0edee2e6bfeb46788f157592c3dae48d",
           "version_major": 2,
           "version_minor": 0
          },
          "text/plain": "Label(value='Path to ML model [*.tar]:')"
         },
         "metadata": {},
         "output_type": "display_data"
        }
       ]
      }
     },
     "550b39f6ad2f470892f70524442fb0bc": {
      "model_module": "@jupyter-widgets/controls",
      "model_module_version": "2.0.0",
      "model_name": "HBoxModel",
      "state": {
       "children": [
        "IPY_MODEL_f2a65206ec694dfda39468bd867dbae4",
        "IPY_MODEL_ecfb885324a44db7b4c84dd0d2ab4b90"
       ],
       "layout": "IPY_MODEL_1e56a2d18df440e2974e4ff9913fc3c5"
      }
     },
     "553e430fc9b24b078d584af893bcfb03": {
      "model_module": "@jupyter-widgets/base",
      "model_module_version": "2.0.0",
      "model_name": "LayoutModel",
      "state": {}
     },
     "55599350ccc6484eb2bdeea9e5a1b27a": {
      "model_module": "@jupyter-widgets/controls",
      "model_module_version": "2.0.0",
      "model_name": "CheckboxStyleModel",
      "state": {
       "description_width": ""
      }
     },
     "555bbfc7e69244ff92dc0175ebece958": {
      "model_module": "@jupyter-widgets/controls",
      "model_module_version": "2.0.0",
      "model_name": "HTMLStyleModel",
      "state": {
       "description_width": "",
       "font_size": null,
       "text_color": null
      }
     },
     "556276c463244c6e8e5f3f80c3b9cda8": {
      "model_module": "@jupyter-widgets/controls",
      "model_module_version": "2.0.0",
      "model_name": "LabelStyleModel",
      "state": {
       "description_width": "",
       "font_family": null,
       "font_size": null,
       "font_style": null,
       "font_variant": null,
       "font_weight": null,
       "text_color": null,
       "text_decoration": null
      }
     },
     "556287ee8f014a1abccceafbeac829c6": {
      "model_module": "@jupyter-widgets/controls",
      "model_module_version": "2.0.0",
      "model_name": "CheckboxModel",
      "state": {
       "description": "Batch processing",
       "disabled": false,
       "indent": false,
       "layout": "IPY_MODEL_2c7a87994d3347bcb15c6933a1518bcf",
       "style": "IPY_MODEL_82e2034abd6a4013ae3ee6b297b484f8",
       "value": false
      }
     },
     "556f09131dcc4c568bebf54a5eae8f08": {
      "model_module": "@jupyter-widgets/controls",
      "model_module_version": "2.0.0",
      "model_name": "TextStyleModel",
      "state": {
       "description_width": "initial",
       "font_size": null,
       "text_color": null
      }
     },
     "559047d8d0144d52b423344b9513aeb9": {
      "model_module": "@jupyter-widgets/controls",
      "model_module_version": "2.0.0",
      "model_name": "HTMLModel",
      "state": {
       "layout": "IPY_MODEL_902c10a0a4ab427999691e7665344bb3",
       "style": "IPY_MODEL_7655aad3dd27419d8e1202c4d9d371da",
       "value": "<b>ML input options:</b>"
      }
     },
     "55bb14265fc6457b9593706bbffe3ea4": {
      "model_module": "@jupyter-widgets/controls",
      "model_module_version": "2.0.0",
      "model_name": "TextModel",
      "state": {
       "description": "DEM path:",
       "layout": "IPY_MODEL_b6c86fe29e3b42cba2a74f7c9f49c998",
       "placeholder": "<my_data_folder/my_DEM_file.tif>",
       "style": "IPY_MODEL_cb3e3cb141034777ac6c42d692f04128"
      }
     },
     "55fbb1d036e04a1ca4c9c989490377e6": {
      "model_module": "@jupyter-widgets/base",
      "model_module_version": "2.0.0",
      "model_name": "LayoutModel",
      "state": {}
     },
     "562f48a38a5647a19c1cf7012a2dfc3c": {
      "model_module": "@jupyter-widgets/controls",
      "model_module_version": "2.0.0",
      "model_name": "HBoxModel",
      "state": {
       "children": [
        "IPY_MODEL_bf430fada522466b94434fb951525eda",
        "IPY_MODEL_cd13cdf408d349a2aca76d7e2f452c25"
       ],
       "layout": "IPY_MODEL_435dbf2a782c4b3ab15349fb83fbe753"
      }
     },
     "564f21f624d648d2b5be73d54ac8d9ba": {
      "model_module": "@jupyter-widgets/controls",
      "model_module_version": "2.0.0",
      "model_name": "HTMLModel",
      "state": {
       "layout": "IPY_MODEL_3e838f5872814df0a0c41fab026efb0c",
       "style": "IPY_MODEL_1bd2bb7fa51b4ed091698045b7050b31",
       "value": "<font color='black'>Select classes for inference:"
      }
     },
     "56719db4534b4ac885635cbe1d2f3505": {
      "model_module": "@jupyter-widgets/output",
      "model_module_version": "1.0.0",
      "model_name": "OutputModel",
      "state": {
       "layout": "IPY_MODEL_bafabbe98a7e4d519115deec19cd1fc2",
       "outputs": [
        {
         "name": "stdout",
         "output_type": "stream",
         "text": "RadioButtons(description='Select input type:', index=1, options=('DEM (*.tif / *.vrt)', 'Visualization (*.tif / *.vrt)'), value='Visualization (*.tif / *.vrt)')\n"
        }
       ]
      }
     },
     "569d2d7e4c8e48538f7ddad97ba4f7d0": {
      "model_module": "@jupyter-widgets/controls",
      "model_module_version": "2.0.0",
      "model_name": "DescriptionStyleModel",
      "state": {
       "description_width": ""
      }
     },
     "56c06d6d7ce34a4aadf35b5a41692e02": {
      "model_module": "@jupyter-widgets/base",
      "model_module_version": "2.0.0",
      "model_name": "LayoutModel",
      "state": {}
     },
     "572fcce28d264ff09313597084338fde": {
      "model_module": "@jupyter-widgets/controls",
      "model_module_version": "2.0.0",
      "model_name": "HBoxModel",
      "state": {
       "children": [
        "IPY_MODEL_e1ab75de04904284844558243a51aee3",
        "IPY_MODEL_7844dee5f8dd4348b6626d45e2e0ca5b"
       ],
       "layout": "IPY_MODEL_a92238a05f53494d8403c2f058b4e305"
      }
     },
     "5754924bd2e841f8af861abc9b5857c3": {
      "model_module": "@jupyter-widgets/base",
      "model_module_version": "2.0.0",
      "model_name": "LayoutModel",
      "state": {}
     },
     "5765a8dd8ddf4d3d99e44ae3150373e2": {
      "model_module": "@jupyter-widgets/base",
      "model_module_version": "2.0.0",
      "model_name": "LayoutModel",
      "state": {}
     },
     "5767b1dbfbba496d96fb1a60a0d238b5": {
      "model_module": "@jupyter-widgets/controls",
      "model_module_version": "2.0.0",
      "model_name": "CheckboxModel",
      "state": {
       "description": "Batch processing",
       "disabled": false,
       "indent": false,
       "layout": "IPY_MODEL_2a084ac7bbf84ba7a154ac94d7b850fc",
       "style": "IPY_MODEL_ac0d55de732e4088ab1aaf6000e84de2",
       "value": true
      }
     },
     "576e67b2732d4765b09e32a9c7d9d913": {
      "model_module": "@jupyter-widgets/controls",
      "model_module_version": "2.0.0",
      "model_name": "HTMLModel",
      "state": {
       "layout": "IPY_MODEL_aefe0e78add44245be9794587eeb0faa",
       "style": "IPY_MODEL_f25ffaa7ed5643ea82fdb8e32c8f2d27",
       "value": "<font color='grey'>Select classes for inference:"
      }
     },
     "5788c9d1a6844daba43a405b8283abbe": {
      "model_module": "@jupyter-widgets/controls",
      "model_module_version": "2.0.0",
      "model_name": "CheckboxStyleModel",
      "state": {
       "description_width": ""
      }
     },
     "578f871b7ada4dbcb4a477444e9937a5": {
      "model_module": "@jupyter-widgets/controls",
      "model_module_version": "2.0.0",
      "model_name": "CheckboxModel",
      "state": {
       "description": "Batch processing",
       "disabled": false,
       "indent": false,
       "layout": "IPY_MODEL_2773fedeaf474978b97cf5a74a64250c",
       "style": "IPY_MODEL_c0e15333fb9646db9fe7b3d244a513cc",
       "value": false
      }
     },
     "57a5b88338134b1a866c09b685efbf61": {
      "model_module": "@jupyter-widgets/controls",
      "model_module_version": "2.0.0",
      "model_name": "DescriptionStyleModel",
      "state": {
       "description_width": ""
      }
     },
     "57cde620becd4e93a03146ec7710362a": {
      "model_module": "@jupyter-widgets/base",
      "model_module_version": "2.0.0",
      "model_name": "LayoutModel",
      "state": {}
     },
     "57d54aa3b46d44128c38edb1964c9c2d": {
      "model_module": "@jupyter-widgets/controls",
      "model_module_version": "2.0.0",
      "model_name": "RadioButtonsModel",
      "state": {
       "_options_labels": [
        "DEM (*.tif / *.vrt)",
        "Visualization (*.tif / *.vrt)"
       ],
       "description": "Select input type:",
       "index": 0,
       "layout": "IPY_MODEL_ae5e16199738409bbdb1dc9d49164185",
       "style": "IPY_MODEL_eb24d1654f0a48cda33b21949443fdf8"
      }
     },
     "57f33264c06449fbbf246673f12ddb44": {
      "model_module": "@jupyter-widgets/controls",
      "model_module_version": "2.0.0",
      "model_name": "HTMLStyleModel",
      "state": {
       "description_width": "",
       "font_size": null,
       "text_color": null
      }
     },
     "586753c8c9fc41e0baed354ef2497646": {
      "model_module": "@jupyter-widgets/output",
      "model_module_version": "1.0.0",
      "model_name": "OutputModel",
      "state": {
       "layout": "IPY_MODEL_13947dfbefd34e6781f6c95469f8cda6",
       "outputs": [
        {
         "data": {
          "application/vnd.jupyter.widget-view+json": {
           "model_id": "77a2ea76245c4f91825200adf007aa75",
           "version_major": 2,
           "version_minor": 0
          },
          "text/plain": "Text(value='', description='DEM path:', layout=Layout(width='98%'), placeholder='<my_data_folder/my_DEM_file.t…"
         },
         "metadata": {},
         "output_type": "display_data"
        }
       ]
      }
     },
     "586bf1b5da7d46bcb4cb0d868df0ba3b": {
      "model_module": "@jupyter-widgets/controls",
      "model_module_version": "2.0.0",
      "model_name": "CheckboxModel",
      "state": {
       "description": "Batch processing",
       "disabled": false,
       "indent": false,
       "layout": "IPY_MODEL_0fedb14520c44148becfe77d142393c8",
       "style": "IPY_MODEL_4b6aac6dc0ce48b29ee162ca32ce9820",
       "value": false
      }
     },
     "586cead846b344f0bb3c78ed85a0b111": {
      "model_module": "@jupyter-widgets/controls",
      "model_module_version": "2.0.0",
      "model_name": "CheckboxStyleModel",
      "state": {
       "description_width": ""
      }
     },
     "587b120c47bc441a8dfa240dadd81e72": {
      "model_module": "@jupyter-widgets/controls",
      "model_module_version": "2.0.0",
      "model_name": "HTMLModel",
      "state": {
       "layout": "IPY_MODEL_aca0abff5c7b49bd936fba6d4d6f7b60",
       "style": "IPY_MODEL_5182e2390e414494b09192b516c72880",
       "value": "<font color='grey'>Select classes for inference:"
      }
     },
     "589ab7df412f48c8b0dd51b242543632": {
      "model_module": "@jupyter-widgets/base",
      "model_module_version": "2.0.0",
      "model_name": "LayoutModel",
      "state": {}
     },
     "58b3647b6fda49d29b619db56a03b41d": {
      "model_module": "@jupyter-widgets/controls",
      "model_module_version": "2.0.0",
      "model_name": "HTMLModel",
      "state": {
       "layout": "IPY_MODEL_a11e2f6de6be4f00b3902e9d546bc483",
       "style": "IPY_MODEL_90aaaa4d62554e7bbe3d0a5fb8e6aa30",
       "value": "<font color='grey'>Select classes for inference:"
      }
     },
     "58f182d60c2c4ca8a81e06c9cfa18b38": {
      "model_module": "@jupyter-widgets/base",
      "model_module_version": "2.0.0",
      "model_name": "LayoutModel",
      "state": {}
     },
     "58fc48486ddf47f9b3f9a3e10e38c49a": {
      "model_module": "@jupyter-widgets/controls",
      "model_module_version": "2.0.0",
      "model_name": "TextStyleModel",
      "state": {
       "description_width": "initial",
       "font_size": null,
       "text_color": null
      }
     },
     "591b0c8ad69b4ea99effce7edd1e0389": {
      "model_module": "@jupyter-widgets/controls",
      "model_module_version": "2.0.0",
      "model_name": "TextModel",
      "state": {
       "layout": "IPY_MODEL_1db1ec0a0ab2412299c7ed8f09542c23",
       "placeholder": "model_folder/saved_model.tar",
       "style": "IPY_MODEL_3fd786d832e942d8ab983a4fbe28a2cb"
      }
     },
     "592cb76ff12a4df6a75d07071d6375c4": {
      "model_module": "@jupyter-widgets/base",
      "model_module_version": "2.0.0",
      "model_name": "LayoutModel",
      "state": {}
     },
     "59454a83a4f44c33bb0269fa959dfb1c": {
      "model_module": "@jupyter-widgets/controls",
      "model_module_version": "2.0.0",
      "model_name": "TextStyleModel",
      "state": {
       "description_width": "initial",
       "font_size": null,
       "text_color": null
      }
     },
     "5950209d76074b2397efa46697e3e6ce": {
      "model_module": "@jupyter-widgets/controls",
      "model_module_version": "2.0.0",
      "model_name": "CheckboxStyleModel",
      "state": {
       "description_width": ""
      }
     },
     "596e0242f472463bb9666deb9fc309ba": {
      "model_module": "@jupyter-widgets/base",
      "model_module_version": "2.0.0",
      "model_name": "LayoutModel",
      "state": {}
     },
     "5982f1a33c10408f91fc9cb5a4cb3c04": {
      "model_module": "@jupyter-widgets/controls",
      "model_module_version": "2.0.0",
      "model_name": "CheckboxModel",
      "state": {
       "description": "Batch processing",
       "disabled": false,
       "indent": false,
       "layout": "IPY_MODEL_eb01fcd2d8d240dbb07e8298355fd2f9",
       "style": "IPY_MODEL_14dae952b9b040769ab919b3e100e8b8",
       "value": false
      }
     },
     "59ba23f585674d6a821c5bb25e98b5d3": {
      "model_module": "@jupyter-widgets/base",
      "model_module_version": "2.0.0",
      "model_name": "LayoutModel",
      "state": {}
     },
     "59c41d0929594171b94302fd02a8f39e": {
      "model_module": "@jupyter-widgets/output",
      "model_module_version": "1.0.0",
      "model_name": "OutputModel",
      "state": {
       "layout": "IPY_MODEL_fa6f1c463cab4261b5972d40bfc38b5f",
       "outputs": [
        {
         "data": {
          "application/vnd.jupyter.widget-view+json": {
           "model_id": "e6c722efb0774c479c179405329b8205",
           "version_major": 2,
           "version_minor": 0
          },
          "text/plain": "HTML(value=\"<font color='grey'>'Path to ML model [*.tar]:\")"
         },
         "metadata": {},
         "output_type": "display_data"
        }
       ]
      }
     },
     "59d560f8be6f4813a6d5eaf9b899ef42": {
      "model_module": "@jupyter-widgets/controls",
      "model_module_version": "2.0.0",
      "model_name": "HBoxModel",
      "state": {
       "children": [
        "IPY_MODEL_4028a72ef7bd443d9d2cedf2769864a6",
        "IPY_MODEL_e7640c857a8c44ff87d3180a7e4e0892",
        "IPY_MODEL_413a0f0730ee43cfb31b815a4ceb5752",
        "IPY_MODEL_c1792a7ebe21408ba9cef865a833fa4f"
       ],
       "layout": "IPY_MODEL_4efc4c72e50542928cf9cefbfaa362b7"
      }
     },
     "59e19e42add44cb5802e70bf23e4795d": {
      "model_module": "@jupyter-widgets/controls",
      "model_module_version": "2.0.0",
      "model_name": "HTMLStyleModel",
      "state": {
       "description_width": "",
       "font_size": null,
       "text_color": null
      }
     },
     "5abba45f4ce745bb924979082742e55e": {
      "model_module": "@jupyter-widgets/controls",
      "model_module_version": "2.0.0",
      "model_name": "CheckboxModel",
      "state": {
       "description": "Barrow",
       "disabled": false,
       "indent": false,
       "layout": "IPY_MODEL_db4e302b72cb488bb95ea7c49ef77a68",
       "style": "IPY_MODEL_c7a8fccbac9348448d9624457c2a2bb6",
       "value": true
      }
     },
     "5ac89e912e074e03bc0ae98d6b5caece": {
      "model_module": "@jupyter-widgets/base",
      "model_module_version": "2.0.0",
      "model_name": "LayoutModel",
      "state": {}
     },
     "5b41365d1f434490968014fd3d98ff1d": {
      "model_module": "@jupyter-widgets/controls",
      "model_module_version": "2.0.0",
      "model_name": "RadioButtonsModel",
      "state": {
       "_options_labels": [
        "pepperoni",
        "pineapple",
        "anchovies"
       ],
       "description": "Pizza topping:",
       "index": null,
       "layout": "IPY_MODEL_ecbd2dfb75f44a59be1f263fbcd456f3",
       "style": "IPY_MODEL_2a50fc4d7b4b405090fbcf454252d440"
      }
     },
     "5b629eb8ad6a4a398e12f8fd4bbf3d2f": {
      "model_module": "@jupyter-widgets/controls",
      "model_module_version": "2.0.0",
      "model_name": "HTMLModel",
      "state": {
       "layout": "IPY_MODEL_523496b8a61244509fbb77f4725c9157",
       "style": "IPY_MODEL_bf687bc834a74f1c817f1378d2f09cf2",
       "value": "<font color='black'>Select classes for inference:"
      }
     },
     "5b7fa84dc2454ecb9f908fca35784054": {
      "model_module": "@jupyter-widgets/controls",
      "model_module_version": "2.0.0",
      "model_name": "CheckboxStyleModel",
      "state": {
       "description_width": ""
      }
     },
     "5ba67393e7d949c59b39d5e714f5f952": {
      "model_module": "@jupyter-widgets/base",
      "model_module_version": "2.0.0",
      "model_name": "LayoutModel",
      "state": {}
     },
     "5baa812e3e2f421f92f3dcc239957748": {
      "model_module": "@jupyter-widgets/base",
      "model_module_version": "2.0.0",
      "model_name": "LayoutModel",
      "state": {}
     },
     "5bc8189d99ce4bfea67684371bf0b872": {
      "model_module": "@jupyter-widgets/base",
      "model_module_version": "2.0.0",
      "model_name": "LayoutModel",
      "state": {}
     },
     "5c22ee6dd1804dc4b617eab511cdd3bc": {
      "model_module": "@jupyter-widgets/controls",
      "model_module_version": "2.0.0",
      "model_name": "RadioButtonsModel",
      "state": {
       "_options_labels": [
        "DEM (*.tif / *.vrt)",
        "Visualization (*.tif / *.vrt)"
       ],
       "description": "Select input type:",
       "index": 1,
       "layout": "IPY_MODEL_e67ddf7aaf9e4d1f98f493d91f1c51d7",
       "style": "IPY_MODEL_234c3c0a6b8e4235aea70a67b5f2c4d8"
      }
     },
     "5c98fe2b22ce4cd79717efccf0780617": {
      "model_module": "@jupyter-widgets/controls",
      "model_module_version": "2.0.0",
      "model_name": "TextModel",
      "state": {
       "description": "DEM path:",
       "layout": "IPY_MODEL_36e622360cc548e1b7ded744c5635f50",
       "placeholder": "<my_data_folder/my_DEM_file.tif>",
       "style": "IPY_MODEL_00abe3fee52c419e99cfa365af3e7345"
      }
     },
     "5d0391dc08914e5d94ed38e3c6aa58c5": {
      "model_module": "@jupyter-widgets/controls",
      "model_module_version": "2.0.0",
      "model_name": "HBoxModel",
      "state": {
       "children": [
        "IPY_MODEL_81985561ebc64325bccaa203dec5c6d4",
        "IPY_MODEL_8858e0e228a849c8bfbea48b466c71e0",
        "IPY_MODEL_ed52bfac9a7642dc9e3bca45ef7bd383",
        "IPY_MODEL_957e7e4da3294ef19c57f07d927fe3f1"
       ],
       "layout": "IPY_MODEL_2adfd86d46a6441483eb18913fd0745e"
      }
     },
     "5d50948b345e46de9e892dca20255924": {
      "model_module": "@jupyter-widgets/controls",
      "model_module_version": "2.0.0",
      "model_name": "CheckboxModel",
      "state": {
       "description": "Enclosure",
       "disabled": false,
       "indent": false,
       "layout": "IPY_MODEL_58f182d60c2c4ca8a81e06c9cfa18b38",
       "style": "IPY_MODEL_3634946b41cd418989331e3683a7339b",
       "value": true
      }
     },
     "5d6d3f4a2ee04b80a840a6eabd63cd39": {
      "model_module": "@jupyter-widgets/controls",
      "model_module_version": "2.0.0",
      "model_name": "TextModel",
      "state": {
       "description": "Path to ML model [*.tar]:",
       "disabled": true,
       "layout": "IPY_MODEL_d9165089e7c840c186cb40f732f3bd6d",
       "placeholder": "model_folder/saved_model.tar",
       "style": "IPY_MODEL_2e4a26f88b774724bed1ac414b5ad748"
      }
     },
     "5d96c99f48ca41d194333175c6a274e5": {
      "model_module": "@jupyter-widgets/base",
      "model_module_version": "2.0.0",
      "model_name": "LayoutModel",
      "state": {
       "border_bottom": "1px solid black",
       "border_left": "1px solid black",
       "border_right": "1px solid black",
       "border_top": "1px solid black"
      }
     },
     "5d9cd4c827e54b0ea4b42e921c2877d3": {
      "model_module": "@jupyter-widgets/base",
      "model_module_version": "2.0.0",
      "model_name": "LayoutModel",
      "state": {
       "border_bottom": "1px solid black",
       "border_left": "1px solid black",
       "border_right": "1px solid black",
       "border_top": "1px solid black"
      }
     },
     "5dd32b3ea6cb4be5bdc037a811f22bdb": {
      "model_module": "@jupyter-widgets/controls",
      "model_module_version": "2.0.0",
      "model_name": "HTMLStyleModel",
      "state": {
       "description_width": "",
       "font_size": null,
       "text_color": null
      }
     },
     "5df2a5c4ae044d44839bce011ec6d4e6": {
      "model_module": "@jupyter-widgets/base",
      "model_module_version": "2.0.0",
      "model_name": "LayoutModel",
      "state": {}
     },
     "5df7f71af424474e9fa0b937e3c17440": {
      "model_module": "@jupyter-widgets/base",
      "model_module_version": "2.0.0",
      "model_name": "LayoutModel",
      "state": {}
     },
     "5e08e7c6da8f4273b892856612cc6c21": {
      "model_module": "@jupyter-widgets/base",
      "model_module_version": "2.0.0",
      "model_name": "LayoutModel",
      "state": {
       "border_bottom": "1px solid black",
       "border_left": "1px solid black",
       "border_right": "1px solid black",
       "border_top": "1px solid black"
      }
     },
     "5e3fcf071a2643c491b63616341c9bf5": {
      "model_module": "@jupyter-widgets/controls",
      "model_module_version": "2.0.0",
      "model_name": "CheckboxModel",
      "state": {
       "description": "Ringfort",
       "disabled": false,
       "indent": false,
       "layout": "IPY_MODEL_2e72fedd024c4a02b64a9aa53b447716",
       "style": "IPY_MODEL_8c053702553543cbad13a85f43b51d8d",
       "value": true
      }
     },
     "5e5ff79592cb4aa7ad0638c799725160": {
      "model_module": "@jupyter-widgets/base",
      "model_module_version": "2.0.0",
      "model_name": "LayoutModel",
      "state": {}
     },
     "5e692d517bd04a60b5daf9b5db9667dc": {
      "model_module": "@jupyter-widgets/controls",
      "model_module_version": "2.0.0",
      "model_name": "DescriptionStyleModel",
      "state": {
       "description_width": ""
      }
     },
     "5e7e718c5c3b453a976eb0d8afe5c9a5": {
      "model_module": "@jupyter-widgets/controls",
      "model_module_version": "2.0.0",
      "model_name": "HBoxModel",
      "state": {
       "children": [
        "IPY_MODEL_005540dfa5b14fef8201f033004bb500",
        "IPY_MODEL_ee5239bb0c7246e589682b00b0893ba9",
        "IPY_MODEL_3bb09f02c7c94b76bb6424d4d66d1799",
        "IPY_MODEL_3bcfbeff37fd4e42af2345793df26b47"
       ],
       "layout": "IPY_MODEL_15053ef027c342f7a3b1a437d46ea9fd"
      }
     },
     "5ea192a8fce44bd180cd4f33f591ba71": {
      "model_module": "@jupyter-widgets/controls",
      "model_module_version": "2.0.0",
      "model_name": "CheckboxStyleModel",
      "state": {
       "description_width": ""
      }
     },
     "5ece829c66c84fc39e08d6ec9f981ff4": {
      "model_module": "@jupyter-widgets/controls",
      "model_module_version": "2.0.0",
      "model_name": "CheckboxStyleModel",
      "state": {
       "description_width": ""
      }
     },
     "5eee1bf96e0147409b78209d306ed85a": {
      "model_module": "@jupyter-widgets/controls",
      "model_module_version": "2.0.0",
      "model_name": "LabelModel",
      "state": {
       "layout": "IPY_MODEL_f94778193593476a9e7c5569c12fb143",
       "style": "IPY_MODEL_c6c71f0677cd41ae8ab2192acd35048f",
       "value": "What color is the White House?"
      }
     },
     "5f2c24adaf19400ab1d7bf8235e33a13": {
      "model_module": "@jupyter-widgets/controls",
      "model_module_version": "2.0.0",
      "model_name": "CheckboxStyleModel",
      "state": {
       "description_width": ""
      }
     },
     "5f59fee113e8470dba0cd473c3bfcb13": {
      "model_module": "@jupyter-widgets/controls",
      "model_module_version": "2.0.0",
      "model_name": "TextStyleModel",
      "state": {
       "description_width": "initial",
       "font_size": null,
       "text_color": null
      }
     },
     "5f7819f0ef26493ebbd97796fe8b846d": {
      "model_module": "@jupyter-widgets/controls",
      "model_module_version": "2.0.0",
      "model_name": "TextStyleModel",
      "state": {
       "description_width": "initial",
       "font_size": null,
       "text_color": null
      }
     },
     "5fa2e90348674ade92acfbccc4fc81e4": {
      "model_module": "@jupyter-widgets/controls",
      "model_module_version": "2.0.0",
      "model_name": "CheckboxStyleModel",
      "state": {
       "description_width": ""
      }
     },
     "5fb2638ab1b84ccc9b392c6873356e86": {
      "model_module": "@jupyter-widgets/controls",
      "model_module_version": "2.0.0",
      "model_name": "CheckboxModel",
      "state": {
       "description": "Ringfort",
       "disabled": false,
       "indent": false,
       "layout": "IPY_MODEL_49f6d7479f2d4885b96e9640be129bf2",
       "style": "IPY_MODEL_6469fa6a1f2a4d6d9f86dbb54b922f7d",
       "value": true
      }
     },
     "5fdd868613bf4780ae05f0c716db9887": {
      "model_module": "@jupyter-widgets/controls",
      "model_module_version": "2.0.0",
      "model_name": "TextModel",
      "state": {
       "description": "DEM path:",
       "layout": "IPY_MODEL_1fedf1c21089400da81607fbad0893cf",
       "placeholder": "<my_data_folder/my_DEM_file.tif>",
       "style": "IPY_MODEL_a32c5d72300d4e5bac3dbc979354aabb"
      }
     },
     "5feaf9c4b5b94425a2d2fff508fc349b": {
      "model_module": "@jupyter-widgets/base",
      "model_module_version": "2.0.0",
      "model_name": "LayoutModel",
      "state": {}
     },
     "600f940368fd4cde964219ca6507073b": {
      "model_module": "@jupyter-widgets/base",
      "model_module_version": "2.0.0",
      "model_name": "LayoutModel",
      "state": {}
     },
     "60219601d3aa407596a2a9bd26aad199": {
      "model_module": "@jupyter-widgets/controls",
      "model_module_version": "2.0.0",
      "model_name": "CheckboxModel",
      "state": {
       "description": "Batch processing",
       "disabled": false,
       "indent": false,
       "layout": "IPY_MODEL_9c2ee788c09d4aefabeea04b341271e3",
       "style": "IPY_MODEL_07b1224a57024726a280cee4f1d111b1",
       "value": false
      }
     },
     "602417b53e624c668708c6eaae6a2833": {
      "model_module": "@jupyter-widgets/controls",
      "model_module_version": "2.0.0",
      "model_name": "CheckboxModel",
      "state": {
       "description": "Enclosure",
       "disabled": false,
       "indent": false,
       "layout": "IPY_MODEL_5ba67393e7d949c59b39d5e714f5f952",
       "style": "IPY_MODEL_f64d0b45fe1b4ff9a7f3aea205f31e67",
       "value": true
      }
     },
     "60395b7c6bac4f59914e383410e1ccb1": {
      "model_module": "@jupyter-widgets/controls",
      "model_module_version": "2.0.0",
      "model_name": "CheckboxModel",
      "state": {
       "description": "All archaeology",
       "disabled": false,
       "indent": false,
       "layout": "IPY_MODEL_1b2b2b91c30a4781a65e7b728e38bfaa",
       "style": "IPY_MODEL_810fabbe65ec477c994ed0ea59d8c03c",
       "value": false
      }
     },
     "6048e59fe8b647348ec14ade690f3c9a": {
      "model_module": "@jupyter-widgets/base",
      "model_module_version": "2.0.0",
      "model_name": "LayoutModel",
      "state": {
       "width": "98%"
      }
     },
     "6068c44ff63e432eb5636677f3fe4c5e": {
      "model_module": "@jupyter-widgets/base",
      "model_module_version": "2.0.0",
      "model_name": "LayoutModel",
      "state": {}
     },
     "607e60a6e8b34dbab067280f82b82fd7": {
      "model_module": "@jupyter-widgets/controls",
      "model_module_version": "2.0.0",
      "model_name": "TextModel",
      "state": {
       "description": "DEM path:",
       "layout": "IPY_MODEL_1c791af6959240f89bfb7a28c4a57038",
       "placeholder": "<my_data_folder/my_DEM_file.tif>",
       "style": "IPY_MODEL_ad1c6b31ddeb46dc9eeef9c76cd5b21b"
      }
     },
     "60a1ffa8ac3c40a7bdbf69de03527ea4": {
      "model_module": "@jupyter-widgets/base",
      "model_module_version": "2.0.0",
      "model_name": "LayoutModel",
      "state": {}
     },
     "619d2885cae147cc9f6805a57914c9c1": {
      "model_module": "@jupyter-widgets/base",
      "model_module_version": "2.0.0",
      "model_name": "LayoutModel",
      "state": {}
     },
     "61c6bc252a7a488daeb78a0e3aa7f5ee": {
      "model_module": "@jupyter-widgets/controls",
      "model_module_version": "2.0.0",
      "model_name": "LabelStyleModel",
      "state": {
       "description_width": "",
       "font_family": null,
       "font_size": null,
       "font_style": null,
       "font_variant": null,
       "font_weight": null,
       "text_color": null,
       "text_decoration": null
      }
     },
     "62353299e35c4145a4382e6d36f94c44": {
      "model_module": "@jupyter-widgets/controls",
      "model_module_version": "2.0.0",
      "model_name": "RadioButtonsModel",
      "state": {
       "_options_labels": [
        "DEM (*.tif / *.vrt)",
        "Visualization (*.tif / *.vrt)"
       ],
       "description": "Select input type:",
       "index": 1,
       "layout": "IPY_MODEL_ce10d4cd28964a51b4e51cdb559f008d",
       "style": "IPY_MODEL_19d3e569ba474e6ea7bea41d8fe023da"
      }
     },
     "625e8d68206c4fc59ccf4bb50681c66e": {
      "model_module": "@jupyter-widgets/controls",
      "model_module_version": "2.0.0",
      "model_name": "TextStyleModel",
      "state": {
       "description_width": "initial",
       "font_size": null,
       "text_color": null
      }
     },
     "62698577178b4957996efbd349691dd5": {
      "model_module": "@jupyter-widgets/controls",
      "model_module_version": "2.0.0",
      "model_name": "RadioButtonsModel",
      "state": {
       "_options_labels": [
        "ADAF model",
        "Custom model"
       ],
       "description": "Select ML model:",
       "index": 0,
       "layout": "IPY_MODEL_878ff75ee83d4882bbee4e3a5a75b3e5",
       "style": "IPY_MODEL_1aa47a78d79743aa93d3f7dd250422cc"
      }
     },
     "6270a2a60b204a7cac399c21ae0c7039": {
      "model_module": "@jupyter-widgets/output",
      "model_module_version": "1.0.0",
      "model_name": "OutputModel",
      "state": {
       "layout": "IPY_MODEL_c23d1e45ffed4d56aa558976bed3b42f"
      }
     },
     "62ad4810dd5c4e18af8d97c437f16526": {
      "model_module": "@jupyter-widgets/controls",
      "model_module_version": "2.0.0",
      "model_name": "CheckboxStyleModel",
      "state": {
       "description_width": ""
      }
     },
     "62bced3210ed4e4d84d1320c82811c36": {
      "model_module": "@jupyter-widgets/base",
      "model_module_version": "2.0.0",
      "model_name": "LayoutModel",
      "state": {}
     },
     "6307e1a2e67643778e53831938cc9bca": {
      "model_module": "@jupyter-widgets/controls",
      "model_module_version": "2.0.0",
      "model_name": "TextStyleModel",
      "state": {
       "description_width": "",
       "font_size": null,
       "text_color": null
      }
     },
     "633659e4b52c4bd4a935ba4be8ce5e18": {
      "model_module": "@jupyter-widgets/controls",
      "model_module_version": "2.0.0",
      "model_name": "HBoxModel",
      "state": {
       "children": [
        "IPY_MODEL_030216b3f5894053ad72e42a1952059b",
        "IPY_MODEL_cd27763b67e0496f840238e806ceced9"
       ],
       "layout": "IPY_MODEL_4160c58c9d094bc4aba6557ecd2899b7"
      }
     },
     "633a6656554f424ea1b509680bae9039": {
      "model_module": "@jupyter-widgets/base",
      "model_module_version": "2.0.0",
      "model_name": "LayoutModel",
      "state": {}
     },
     "63721ce2f6e741fbbe1e6e2caf4aa4e6": {
      "model_module": "@jupyter-widgets/controls",
      "model_module_version": "2.0.0",
      "model_name": "VBoxModel",
      "state": {
       "children": [
        "IPY_MODEL_659e5ed58d0749e994dae5104bd538c6",
        "IPY_MODEL_a6c48a7c5b704389bb8c8d54d4147fd7",
        "IPY_MODEL_0daee5b0ddd94183a01a209a3525f077",
        "IPY_MODEL_c83057af52c64c97b5fad21ebcfb2c40"
       ],
       "layout": "IPY_MODEL_5df7f71af424474e9fa0b937e3c17440"
      }
     },
     "637e33471d084a64a7142da716b1c080": {
      "model_module": "@jupyter-widgets/controls",
      "model_module_version": "2.0.0",
      "model_name": "TextStyleModel",
      "state": {
       "description_width": "initial",
       "font_size": null,
       "text_color": null
      }
     },
     "63bcffe4d11143b8a055e7db5e72e05f": {
      "model_module": "@jupyter-widgets/controls",
      "model_module_version": "2.0.0",
      "model_name": "DescriptionStyleModel",
      "state": {
       "description_width": ""
      }
     },
     "63cc5357349e45b891d7fd97880a1e14": {
      "model_module": "@jupyter-widgets/controls",
      "model_module_version": "2.0.0",
      "model_name": "LabelStyleModel",
      "state": {
       "description_width": "",
       "font_family": null,
       "font_size": null,
       "font_style": null,
       "font_variant": null,
       "font_weight": null,
       "text_color": null,
       "text_decoration": null
      }
     },
     "63d18389f6b54a92bf3a2e38c6a038e2": {
      "model_module": "@jupyter-widgets/base",
      "model_module_version": "2.0.0",
      "model_name": "LayoutModel",
      "state": {
       "border_bottom": "1px solid black",
       "border_left": "1px solid black",
       "border_right": "1px solid black",
       "border_top": "1px solid black"
      }
     },
     "63ecc32005334e9f89a1a7bd0efaa00a": {
      "model_module": "@jupyter-widgets/base",
      "model_module_version": "2.0.0",
      "model_name": "LayoutModel",
      "state": {
       "width": "98%"
      }
     },
     "6414dc3fd60d408296dc39a109f5c65c": {
      "model_module": "@jupyter-widgets/base",
      "model_module_version": "2.0.0",
      "model_name": "LayoutModel",
      "state": {}
     },
     "641ed0932dc24dc1bdaa087d3475cb8f": {
      "model_module": "@jupyter-widgets/base",
      "model_module_version": "2.0.0",
      "model_name": "LayoutModel",
      "state": {}
     },
     "64350331546743738cbb3041295a71ef": {
      "model_module": "@jupyter-widgets/base",
      "model_module_version": "2.0.0",
      "model_name": "LayoutModel",
      "state": {}
     },
     "644a1d130d7f4211946bcec32e71b8c3": {
      "model_module": "@jupyter-widgets/controls",
      "model_module_version": "2.0.0",
      "model_name": "CheckboxModel",
      "state": {
       "description": "Barrow",
       "disabled": false,
       "indent": false,
       "layout": "IPY_MODEL_cc1e81b2189347b6afd0ba40280a458f",
       "style": "IPY_MODEL_306cbc74c9394ae393adc25a1891764f",
       "value": true
      }
     },
     "6469fa6a1f2a4d6d9f86dbb54b922f7d": {
      "model_module": "@jupyter-widgets/controls",
      "model_module_version": "2.0.0",
      "model_name": "CheckboxStyleModel",
      "state": {
       "description_width": ""
      }
     },
     "6470d55063a54812ab0bdc1ae0b3e415": {
      "model_module": "@jupyter-widgets/controls",
      "model_module_version": "2.0.0",
      "model_name": "TextStyleModel",
      "state": {
       "description_width": "initial",
       "font_size": null,
       "text_color": null
      }
     },
     "647e429bb2e1426993063e2d9ffa71f9": {
      "model_module": "@jupyter-widgets/base",
      "model_module_version": "2.0.0",
      "model_name": "LayoutModel",
      "state": {}
     },
     "64ade5d3c1bd41a284c2dccf51db00e0": {
      "model_module": "@jupyter-widgets/controls",
      "model_module_version": "2.0.0",
      "model_name": "CheckboxStyleModel",
      "state": {
       "description_width": ""
      }
     },
     "64b1d7f3b6a54fc0ae3d0cfcbe7de3b8": {
      "model_module": "@jupyter-widgets/controls",
      "model_module_version": "2.0.0",
      "model_name": "HTMLModel",
      "state": {
       "layout": "IPY_MODEL_88037bb6d8904264a2d02b4dcdf6aeed",
       "style": "IPY_MODEL_35f2c29beeee4ab4922c05b2694fb074",
       "value": "<font color='black'>Select classes for inference:"
      }
     },
     "64bfa78d0d814e08a49b4cf9125e98b8": {
      "model_module": "@jupyter-widgets/controls",
      "model_module_version": "2.0.0",
      "model_name": "DescriptionStyleModel",
      "state": {
       "description_width": ""
      }
     },
     "653361b5003244d68d6f61871369e4bd": {
      "model_module": "@jupyter-widgets/controls",
      "model_module_version": "2.0.0",
      "model_name": "HTMLStyleModel",
      "state": {
       "description_width": "",
       "font_size": null,
       "text_color": null
      }
     },
     "6580525e5be5491087224b2593201a69": {
      "model_module": "@jupyter-widgets/controls",
      "model_module_version": "2.0.0",
      "model_name": "LabelStyleModel",
      "state": {
       "description_width": "",
       "font_family": null,
       "font_size": null,
       "font_style": null,
       "font_variant": null,
       "font_weight": null,
       "text_color": null,
       "text_decoration": null
      }
     },
     "659e5ed58d0749e994dae5104bd538c6": {
      "model_module": "@jupyter-widgets/controls",
      "model_module_version": "2.0.0",
      "model_name": "HBoxModel",
      "state": {
       "children": [
        "IPY_MODEL_f57901fd31da4a61b7f6264b2058c540",
        "IPY_MODEL_3bccd3fda357484fa3f1f6e378428a6c"
       ],
       "layout": "IPY_MODEL_8bedbc5bccc14020ab6cd897d41ac6bd"
      }
     },
     "65cf65081f6f4a438e5c5783318c5a00": {
      "model_module": "@jupyter-widgets/output",
      "model_module_version": "1.0.0",
      "model_name": "OutputModel",
      "state": {
       "layout": "IPY_MODEL_3878cd4643ec4e2b9807092fa9176e21",
       "outputs": [
        {
         "name": "stdout",
         "output_type": "stream",
         "text": "RB: 0\nCHK: False\n"
        }
       ]
      }
     },
     "65f82ee2a3884b248071910d997bcf30": {
      "model_module": "@jupyter-widgets/base",
      "model_module_version": "2.0.0",
      "model_name": "LayoutModel",
      "state": {}
     },
     "6684baf945664c76bed804b6601dc03c": {
      "model_module": "@jupyter-widgets/base",
      "model_module_version": "2.0.0",
      "model_name": "LayoutModel",
      "state": {}
     },
     "66998676682a46309721f4dba7da120c": {
      "model_module": "@jupyter-widgets/controls",
      "model_module_version": "2.0.0",
      "model_name": "HTMLModel",
      "state": {
       "layout": "IPY_MODEL_bd9d14549e404285bf98f674702eff38",
       "style": "IPY_MODEL_a502c12930d34ddd8a72098d55852976",
       "value": "<font color='black'>Select classes for inference:"
      }
     },
     "66a871e20b3a4af8a0e3c9c7e373c9d7": {
      "model_module": "@jupyter-widgets/controls",
      "model_module_version": "2.0.0",
      "model_name": "CheckboxStyleModel",
      "state": {
       "description_width": ""
      }
     },
     "66c1d75e1b9b4b70af0889e9c5d077c2": {
      "model_module": "@jupyter-widgets/base",
      "model_module_version": "2.0.0",
      "model_name": "LayoutModel",
      "state": {}
     },
     "6712a0e693b4473bbe49f0330043ba1f": {
      "model_module": "@jupyter-widgets/base",
      "model_module_version": "2.0.0",
      "model_name": "LayoutModel",
      "state": {
       "border_bottom": "1px solid black",
       "border_left": "1px solid black",
       "border_right": "1px solid black",
       "border_top": "1px solid black"
      }
     },
     "679061def4b2465680e61c6982a13e92": {
      "model_module": "@jupyter-widgets/controls",
      "model_module_version": "2.0.0",
      "model_name": "HBoxModel",
      "state": {
       "children": [
        "IPY_MODEL_70bde2f53c2442f3ada6ef95e22cd42e",
        "IPY_MODEL_9e05717fde0f443283c8da650f51df54"
       ],
       "layout": "IPY_MODEL_8e8f2adc800b4ba89bfdfc095d4d8613"
      }
     },
     "67967be23cbd47229abfab8fcd8bedac": {
      "model_module": "@jupyter-widgets/controls",
      "model_module_version": "2.0.0",
      "model_name": "HTMLStyleModel",
      "state": {
       "description_width": "",
       "font_size": null,
       "text_color": null
      }
     },
     "67cffe04d415430994c7eee24249b777": {
      "model_module": "@jupyter-widgets/base",
      "model_module_version": "2.0.0",
      "model_name": "LayoutModel",
      "state": {}
     },
     "683d5ec9cb624e49818fda8d0a16f7d7": {
      "model_module": "@jupyter-widgets/controls",
      "model_module_version": "2.0.0",
      "model_name": "HBoxModel",
      "state": {
       "children": [
        "IPY_MODEL_2346a28905e443f1bfcae10fe23fccbf",
        "IPY_MODEL_a4ceeb6c2dcb4f089c5a4f8cb5f5dce4"
       ],
       "layout": "IPY_MODEL_4623f977295e44b7b1f541a68be3d452"
      }
     },
     "6841175be57649c7b3bcc3dff80e73ae": {
      "model_module": "@jupyter-widgets/controls",
      "model_module_version": "2.0.0",
      "model_name": "HTMLModel",
      "state": {
       "layout": "IPY_MODEL_dd27f032fa124950a8f57948a527ae6e",
       "style": "IPY_MODEL_d1d6cd3453a24a05ac7c74cbf57524bb",
       "value": "<b>ML options:</b>"
      }
     },
     "6859302959334e49b95d8e14ac4291a7": {
      "model_module": "@jupyter-widgets/controls",
      "model_module_version": "2.0.0",
      "model_name": "CheckboxStyleModel",
      "state": {
       "description_width": ""
      }
     },
     "687b617264ce47c1aa9c6c7cc1f439d2": {
      "model_module": "@jupyter-widgets/controls",
      "model_module_version": "2.0.0",
      "model_name": "HBoxModel",
      "state": {
       "children": [
        "IPY_MODEL_54e8726ac0e04e72a506acfa24645c19",
        "IPY_MODEL_4f5648b4c5054b55aaee551aab4a35f6"
       ],
       "layout": "IPY_MODEL_ac7971b4e0274aa29ed2cf448cd53091"
      }
     },
     "68814606fdbd493db2a22251202d9fed": {
      "model_module": "@jupyter-widgets/controls",
      "model_module_version": "2.0.0",
      "model_name": "HBoxModel",
      "state": {
       "children": [
        "IPY_MODEL_7fed02dc9f2e45a6950cf0616737d07c",
        "IPY_MODEL_73c7b58d9c224fcfbccbc0937ee013ca"
       ],
       "layout": "IPY_MODEL_ca0e17a665e94ebdb38a76e6a67452db"
      }
     },
     "6881d5c5216c4c438b352d00c05d9ba6": {
      "model_module": "@jupyter-widgets/base",
      "model_module_version": "2.0.0",
      "model_name": "LayoutModel",
      "state": {}
     },
     "68ebd374907b4c208c78b9a7ba4ae6c7": {
      "model_module": "@jupyter-widgets/base",
      "model_module_version": "2.0.0",
      "model_name": "LayoutModel",
      "state": {}
     },
     "68edf61b18fe4ee0996784d055d8e915": {
      "model_module": "@jupyter-widgets/base",
      "model_module_version": "2.0.0",
      "model_name": "LayoutModel",
      "state": {}
     },
     "690a1b94053841e48bbfae1d46f14333": {
      "model_module": "@jupyter-widgets/controls",
      "model_module_version": "2.0.0",
      "model_name": "LabelModel",
      "state": {
       "layout": "IPY_MODEL_3445d1f838ac4d90bc8586e270fd51fd",
       "style": "IPY_MODEL_f11b57ed8a9d4b1eafb1261324579e84",
       "value": "Path to ML model [*.tar]:"
      }
     },
     "69323b4c312c4a998d54f847e8d25f5c": {
      "model_module": "@jupyter-widgets/controls",
      "model_module_version": "2.0.0",
      "model_name": "HTMLStyleModel",
      "state": {
       "description_width": "",
       "font_size": null,
       "text_color": null
      }
     },
     "694e05cdb44f424d954f03dcb71cd019": {
      "model_module": "@jupyter-widgets/controls",
      "model_module_version": "2.0.0",
      "model_name": "HTMLModel",
      "state": {
       "layout": "IPY_MODEL_02296bd481d740308ef85ef76e032dab",
       "style": "IPY_MODEL_42f64e5a4ef847919dda193e69ddc6a5",
       "value": "<font color='black'>Select classes for inference:"
      }
     },
     "6963e93d67bb4eb6b934b4d4fe854ae2": {
      "model_module": "@jupyter-widgets/controls",
      "model_module_version": "2.0.0",
      "model_name": "DescriptionStyleModel",
      "state": {
       "description_width": ""
      }
     },
     "6a3d4cbc9c0c4b3480022374ba36a32e": {
      "model_module": "@jupyter-widgets/controls",
      "model_module_version": "2.0.0",
      "model_name": "TextModel",
      "state": {
       "description": "Visualizations path [folder]:",
       "disabled": true,
       "layout": "IPY_MODEL_44da5c85ca0e478c8a68f8796f4c47ef",
       "placeholder": "data_folder",
       "style": "IPY_MODEL_4d23dd5a286b4c12ab182741671c7abb"
      }
     },
     "6a51f7766cc94c36bce81315f8e77b40": {
      "model_module": "@jupyter-widgets/base",
      "model_module_version": "2.0.0",
      "model_name": "LayoutModel",
      "state": {}
     },
     "6a72fefe8d64491fa1f1bcd448df8ec3": {
      "model_module": "@jupyter-widgets/controls",
      "model_module_version": "2.0.0",
      "model_name": "HBoxModel",
      "state": {
       "children": [
        "IPY_MODEL_72b11145a23f4e3a983b537bdca30038",
        "IPY_MODEL_b9d54b5a2821465a8c6caa3dd3dacc11",
        "IPY_MODEL_ac9085f0559a4e08aae88e0bf9f81b6e",
        "IPY_MODEL_883c0a1939db481090d212dcbebeba15"
       ],
       "layout": "IPY_MODEL_0f994aafd2294c118204b157e9f8d045"
      }
     },
     "6a83b1c32bd8407ead14a88c269f916a": {
      "model_module": "@jupyter-widgets/controls",
      "model_module_version": "2.0.0",
      "model_name": "RadioButtonsModel",
      "state": {
       "_options_labels": [
        "ADAF model",
        "Custom model"
       ],
       "description": "Select ML model:",
       "index": 0,
       "layout": "IPY_MODEL_486f2301e8eb4bd2a500cc1539010a71",
       "style": "IPY_MODEL_943961ab5cdb4efea9e9e082f106e291"
      }
     },
     "6a9311f7bd54421da91d17cf4593a877": {
      "model_module": "@jupyter-widgets/controls",
      "model_module_version": "2.0.0",
      "model_name": "DescriptionStyleModel",
      "state": {
       "description_width": ""
      }
     },
     "6a9b44e25b4045a6b0904eab77b9ee29": {
      "model_module": "@jupyter-widgets/controls",
      "model_module_version": "2.0.0",
      "model_name": "TextStyleModel",
      "state": {
       "description_width": "initial",
       "font_size": null,
       "text_color": null
      }
     },
     "6aa049d797d44cfe80adb4ddb6666cec": {
      "model_module": "@jupyter-widgets/controls",
      "model_module_version": "2.0.0",
      "model_name": "DescriptionStyleModel",
      "state": {
       "description_width": ""
      }
     },
     "6af7cecc12a94485b11aee65578dc50e": {
      "model_module": "@jupyter-widgets/base",
      "model_module_version": "2.0.0",
      "model_name": "LayoutModel",
      "state": {
       "width": "98%"
      }
     },
     "6b0fab56d18a4286bce8eeacfe2ca0f9": {
      "model_module": "@jupyter-widgets/controls",
      "model_module_version": "2.0.0",
      "model_name": "HTMLModel",
      "state": {
       "layout": "IPY_MODEL_5332ff9d81824f1f819093515e0a0afa",
       "style": "IPY_MODEL_e1646230712f40758dbc70e25ac39427",
       "value": "<font color='grey'>Select classes for inference:"
      }
     },
     "6b1af5beddac48e49985cf518d01fc66": {
      "model_module": "@jupyter-widgets/base",
      "model_module_version": "2.0.0",
      "model_name": "LayoutModel",
      "state": {}
     },
     "6b73cfdca60c464aa29fe9210498700a": {
      "model_module": "@jupyter-widgets/base",
      "model_module_version": "2.0.0",
      "model_name": "LayoutModel",
      "state": {}
     },
     "6b86cfb9cc0a4cf388e8209f046fcaca": {
      "model_module": "@jupyter-widgets/controls",
      "model_module_version": "2.0.0",
      "model_name": "HBoxModel",
      "state": {
       "children": [
        "IPY_MODEL_4a896895f8134697ae98addc82a1cd11",
        "IPY_MODEL_591b0c8ad69b4ea99effce7edd1e0389"
       ],
       "layout": "IPY_MODEL_960b4a97d9e7442197d4509815177d9b"
      }
     },
     "6bb1a90699524c79bd07c691389d6a92": {
      "model_module": "@jupyter-widgets/base",
      "model_module_version": "2.0.0",
      "model_name": "LayoutModel",
      "state": {}
     },
     "6be64b1c64184e658f4cde58583b8d9b": {
      "model_module": "@jupyter-widgets/controls",
      "model_module_version": "2.0.0",
      "model_name": "TextStyleModel",
      "state": {
       "description_width": "initial",
       "font_size": null,
       "text_color": null
      }
     },
     "6c8ef9f2b98942cd96c10e187477bf19": {
      "model_module": "@jupyter-widgets/controls",
      "model_module_version": "2.0.0",
      "model_name": "DescriptionStyleModel",
      "state": {
       "description_width": ""
      }
     },
     "6cbf1ff58e6f40c68a487309fc21c073": {
      "model_module": "@jupyter-widgets/base",
      "model_module_version": "2.0.0",
      "model_name": "LayoutModel",
      "state": {
       "border_bottom": "1px solid black",
       "border_left": "1px solid black",
       "border_right": "1px solid black",
       "border_top": "1px solid black"
      }
     },
     "6cf1b18e5864425c8cd6f68cee73f3e3": {
      "model_module": "@jupyter-widgets/output",
      "model_module_version": "1.0.0",
      "model_name": "OutputModel",
      "state": {
       "layout": "IPY_MODEL_4f5fc633911f41b0ba1adbc6f83209e5",
       "outputs": [
        {
         "name": "stdout",
         "output_type": "stream",
         "text": "RB: 1\nCHK: False\n"
        }
       ]
      }
     },
     "6cfb3c8eaaa049998ae90d058753ac41": {
      "model_module": "@jupyter-widgets/controls",
      "model_module_version": "2.0.0",
      "model_name": "TextModel",
      "state": {
       "description": "Path to ML model [*.tar]:",
       "disabled": true,
       "layout": "IPY_MODEL_0c471e97f1e54c8a8a5dc33b975ab33f",
       "placeholder": "model_folder/saved_model.tar",
       "style": "IPY_MODEL_ff53e77fc2bb47788afe42221bf57ead"
      }
     },
     "6d31006cbc594decb0c9e069e72b6f0e": {
      "model_module": "@jupyter-widgets/controls",
      "model_module_version": "2.0.0",
      "model_name": "CheckboxModel",
      "state": {
       "description": "Ringfort",
       "disabled": false,
       "indent": false,
       "layout": "IPY_MODEL_8ff2ff1235644870b99bd66de35138d7",
       "style": "IPY_MODEL_5950209d76074b2397efa46697e3e6ce",
       "value": true
      }
     },
     "6d49d74dfcc64a59b1c82d483a58e71b": {
      "model_module": "@jupyter-widgets/controls",
      "model_module_version": "2.0.0",
      "model_name": "HTMLStyleModel",
      "state": {
       "description_width": "",
       "font_size": null,
       "text_color": null
      }
     },
     "6d555baa35be40798b91b7cfc2903544": {
      "model_module": "@jupyter-widgets/base",
      "model_module_version": "2.0.0",
      "model_name": "LayoutModel",
      "state": {
       "border_bottom": "1px solid black",
       "border_left": "1px solid black",
       "border_right": "1px solid black",
       "border_top": "1px solid black"
      }
     },
     "6d846077460f4262a970094d84078590": {
      "model_module": "@jupyter-widgets/base",
      "model_module_version": "2.0.0",
      "model_name": "LayoutModel",
      "state": {}
     },
     "6d9ffe7db850419ca2268f58b3f388d2": {
      "model_module": "@jupyter-widgets/base",
      "model_module_version": "2.0.0",
      "model_name": "LayoutModel",
      "state": {}
     },
     "6da20a5ae1b9403db20c7ced041d29eb": {
      "model_module": "@jupyter-widgets/controls",
      "model_module_version": "2.0.0",
      "model_name": "DescriptionStyleModel",
      "state": {
       "description_width": ""
      }
     },
     "6dc569ab112d4c2ca448612bbfc61c86": {
      "model_module": "@jupyter-widgets/controls",
      "model_module_version": "2.0.0",
      "model_name": "TextModel",
      "state": {
       "description": "DEM path:",
       "layout": "IPY_MODEL_ff1b6b01a39c4f35a83418f09ed9fdb9",
       "placeholder": "<list of paths in TXT file!>",
       "style": "IPY_MODEL_5f7819f0ef26493ebbd97796fe8b846d"
      }
     },
     "6dcef73d746b4b87be4d9162d719cfbf": {
      "model_module": "@jupyter-widgets/controls",
      "model_module_version": "2.0.0",
      "model_name": "TextModel",
      "state": {
       "description": "Visualization path:",
       "disabled": true,
       "layout": "IPY_MODEL_779e9ed5a9af4e6da3cf2b0a94b62b27",
       "placeholder": "<my_data_folder/my_visualization_file.tif>",
       "style": "IPY_MODEL_a388053063a244e8bfd367783aec2847"
      }
     },
     "6e140e8e86324a09a19f10973ed972a8": {
      "model_module": "@jupyter-widgets/controls",
      "model_module_version": "2.0.0",
      "model_name": "CheckboxModel",
      "state": {
       "description": "Enclosure",
       "disabled": false,
       "indent": false,
       "layout": "IPY_MODEL_41de3692e127454db6a52082862219cd",
       "style": "IPY_MODEL_8765c961148940ccb0889cf23b5376c7",
       "value": true
      }
     },
     "6e1ef2ae57774045aa212292d18b4fc0": {
      "model_module": "@jupyter-widgets/controls",
      "model_module_version": "2.0.0",
      "model_name": "HBoxModel",
      "state": {
       "children": [
        "IPY_MODEL_ebb7bdc23c544e70867d26a37c5b9b6e",
        "IPY_MODEL_b54f18acb0ef4d4db6c3d4ad8ef0fe67"
       ],
       "layout": "IPY_MODEL_b084dbf4033c4ad3861d12e6c6fe7e24"
      }
     },
     "6e3501580fc44d218b2c14079b9f3ae9": {
      "model_module": "@jupyter-widgets/base",
      "model_module_version": "2.0.0",
      "model_name": "LayoutModel",
      "state": {}
     },
     "6e53b0c8259244a28b046d374447ebef": {
      "model_module": "@jupyter-widgets/controls",
      "model_module_version": "2.0.0",
      "model_name": "CheckboxStyleModel",
      "state": {
       "description_width": ""
      }
     },
     "6e54832afeb04803a5c241673c23df9d": {
      "model_module": "@jupyter-widgets/base",
      "model_module_version": "2.0.0",
      "model_name": "LayoutModel",
      "state": {
       "width": "98%"
      }
     },
     "6e54bfa29d0c4965ac72475cc531a5c1": {
      "model_module": "@jupyter-widgets/controls",
      "model_module_version": "2.0.0",
      "model_name": "CheckboxModel",
      "state": {
       "description": "All archaeology",
       "disabled": false,
       "indent": false,
       "layout": "IPY_MODEL_345495b3237b49b1ae8f493b77595e54",
       "style": "IPY_MODEL_31798b88b0514412b20ffef593543f50",
       "value": false
      }
     },
     "6eaac0f6371b42fcbb08881b20c6626b": {
      "model_module": "@jupyter-widgets/base",
      "model_module_version": "2.0.0",
      "model_name": "LayoutModel",
      "state": {}
     },
     "6ed0fbca7bab4ba4977ba12c9c46bab1": {
      "model_module": "@jupyter-widgets/base",
      "model_module_version": "2.0.0",
      "model_name": "LayoutModel",
      "state": {}
     },
     "6ed662ea385d4a998fa698a0a80cfe60": {
      "model_module": "@jupyter-widgets/base",
      "model_module_version": "2.0.0",
      "model_name": "LayoutModel",
      "state": {
       "border_bottom": "1px solid black",
       "border_left": "1px solid black",
       "border_right": "1px solid black",
       "border_top": "1px solid black"
      }
     },
     "6f4bbc86ff0c4f48b4aade6050560b92": {
      "model_module": "@jupyter-widgets/controls",
      "model_module_version": "2.0.0",
      "model_name": "RadioButtonsModel",
      "state": {
       "_options_labels": [
        "DEM (*.tif / *.vrt)",
        "Visualization (*.tif / *.vrt)"
       ],
       "description": "Select input type:",
       "index": 0,
       "layout": "IPY_MODEL_4b081d9ad0854fedae559eb241d52407",
       "style": "IPY_MODEL_ca8a0fb38dbb447fbfa920ff75d64b75"
      }
     },
     "6f50a0a0e4c74fc9bfd596fa4750139e": {
      "model_module": "@jupyter-widgets/base",
      "model_module_version": "2.0.0",
      "model_name": "LayoutModel",
      "state": {}
     },
     "6f6770643c214ab9a2a3ce641ae5b0bc": {
      "model_module": "@jupyter-widgets/controls",
      "model_module_version": "2.0.0",
      "model_name": "CheckboxModel",
      "state": {
       "description": "Ringfort",
       "disabled": false,
       "indent": false,
       "layout": "IPY_MODEL_2fc3fd54e5af4b9bbc1cf710d0da0e6a",
       "style": "IPY_MODEL_5b7fa84dc2454ecb9f908fca35784054",
       "value": true
      }
     },
     "6f822198b01d490a82aee101fcb47f89": {
      "model_module": "@jupyter-widgets/base",
      "model_module_version": "2.0.0",
      "model_name": "LayoutModel",
      "state": {}
     },
     "6f8c14273f504f6f9225fbdb714a6b88": {
      "model_module": "@jupyter-widgets/base",
      "model_module_version": "2.0.0",
      "model_name": "LayoutModel",
      "state": {}
     },
     "6faad308788442748c7ac972311ee591": {
      "model_module": "@jupyter-widgets/controls",
      "model_module_version": "2.0.0",
      "model_name": "HTMLStyleModel",
      "state": {
       "description_width": "",
       "font_size": null,
       "text_color": null
      }
     },
     "6fbe1293b272432b8934eb560c546d15": {
      "model_module": "@jupyter-widgets/controls",
      "model_module_version": "2.0.0",
      "model_name": "CheckboxModel",
      "state": {
       "description": "Enclosure",
       "disabled": false,
       "indent": false,
       "layout": "IPY_MODEL_7d1f6f3ede204dd686138c7adfa23258",
       "style": "IPY_MODEL_0e9dd0697e0b4ee99e5bc5d9551fe74e",
       "value": true
      }
     },
     "6fc900380a2a4e20acf0fa28eb7648b5": {
      "model_module": "@jupyter-widgets/base",
      "model_module_version": "2.0.0",
      "model_name": "LayoutModel",
      "state": {}
     },
     "6ff4dadaa40d42f4a02bfe7a112da215": {
      "model_module": "@jupyter-widgets/base",
      "model_module_version": "2.0.0",
      "model_name": "LayoutModel",
      "state": {}
     },
     "705b96ccb34547d2a57137cfd74d3d91": {
      "model_module": "@jupyter-widgets/base",
      "model_module_version": "2.0.0",
      "model_name": "LayoutModel",
      "state": {}
     },
     "70686f8f767e40589223ce679a571213": {
      "model_module": "@jupyter-widgets/controls",
      "model_module_version": "2.0.0",
      "model_name": "HBoxModel",
      "state": {
       "children": [
        "IPY_MODEL_3638233c55ff48219465196e657cd40b",
        "IPY_MODEL_4cdfd3e5ebee46cdb99b0150b0acf5ca",
        "IPY_MODEL_0cb5b253e08c4eb98aaef93784f041e9",
        "IPY_MODEL_d2570afc5606437185ae5f847e334961"
       ],
       "layout": "IPY_MODEL_bbe343a7b72945b3a7ae709b903133f4"
      }
     },
     "708a368e86b64eccaf26fb198471733b": {
      "model_module": "@jupyter-widgets/controls",
      "model_module_version": "2.0.0",
      "model_name": "DescriptionStyleModel",
      "state": {
       "description_width": ""
      }
     },
     "70ae55d942ec45fca4931951e980e384": {
      "model_module": "@jupyter-widgets/base",
      "model_module_version": "2.0.0",
      "model_name": "LayoutModel",
      "state": {}
     },
     "70bde2f53c2442f3ada6ef95e22cd42e": {
      "model_module": "@jupyter-widgets/controls",
      "model_module_version": "2.0.0",
      "model_name": "RadioButtonsModel",
      "state": {
       "_options_labels": [
        "DEM (*.tif / *.vrt)",
        "Visualization (*.tif / *.vrt)"
       ],
       "description": "Select input file:",
       "index": 0,
       "layout": "IPY_MODEL_e410206b8293413daf2baec785c628ee",
       "style": "IPY_MODEL_9da74d9618354f5ea7c4727cd969f050"
      }
     },
     "70f2a36def4849d7a7b6d7b7d02b990c": {
      "model_module": "@jupyter-widgets/controls",
      "model_module_version": "2.0.0",
      "model_name": "HBoxModel",
      "state": {
       "children": [
        "IPY_MODEL_33aa63c6e41c4e158d7d3993dc0a8fc7",
        "IPY_MODEL_c20c215de43a4f09a667f1d007857e2a"
       ],
       "layout": "IPY_MODEL_e29b1f97b3314c61be127cb9e9e430b7"
      }
     },
     "70ff1c770e554c81928542b6649c9202": {
      "model_module": "@jupyter-widgets/base",
      "model_module_version": "2.0.0",
      "model_name": "LayoutModel",
      "state": {}
     },
     "7117589980a54ccfb9f25319e434fac4": {
      "model_module": "@jupyter-widgets/base",
      "model_module_version": "2.0.0",
      "model_name": "LayoutModel",
      "state": {}
     },
     "713449fe281d40e4b57c49176eb74381": {
      "model_module": "@jupyter-widgets/controls",
      "model_module_version": "2.0.0",
      "model_name": "TextStyleModel",
      "state": {
       "description_width": "initial",
       "font_size": null,
       "text_color": null
      }
     },
     "7145bf4ebf564f76a33f062ff357456a": {
      "model_module": "@jupyter-widgets/controls",
      "model_module_version": "2.0.0",
      "model_name": "CheckboxStyleModel",
      "state": {
       "description_width": ""
      }
     },
     "714ff264c50e4757892b91c89a86bf1e": {
      "model_module": "@jupyter-widgets/base",
      "model_module_version": "2.0.0",
      "model_name": "LayoutModel",
      "state": {}
     },
     "716f7d2b45dd44839f2c60b7906c6259": {
      "model_module": "@jupyter-widgets/controls",
      "model_module_version": "2.0.0",
      "model_name": "HTMLStyleModel",
      "state": {
       "description_width": "",
       "font_size": null,
       "text_color": null
      }
     },
     "71ada5bfb06544dc903ca8aa32809a00": {
      "model_module": "@jupyter-widgets/base",
      "model_module_version": "2.0.0",
      "model_name": "LayoutModel",
      "state": {
       "border_bottom": "1px solid black",
       "border_left": "1px solid black",
       "border_right": "1px solid black",
       "border_top": "1px solid black"
      }
     },
     "71d9520359fe45e180bf01a5cb351d8a": {
      "model_module": "@jupyter-widgets/controls",
      "model_module_version": "2.0.0",
      "model_name": "LabelStyleModel",
      "state": {
       "description_width": "",
       "font_family": null,
       "font_size": null,
       "font_style": null,
       "font_variant": null,
       "font_weight": null,
       "text_color": null,
       "text_decoration": null
      }
     },
     "71ecc1930b0042089851d1f090d44131": {
      "model_module": "@jupyter-widgets/base",
      "model_module_version": "2.0.0",
      "model_name": "LayoutModel",
      "state": {}
     },
     "729e5a582c2a410e9871bf23b7533d29": {
      "model_module": "@jupyter-widgets/base",
      "model_module_version": "2.0.0",
      "model_name": "LayoutModel",
      "state": {}
     },
     "72b11145a23f4e3a983b537bdca30038": {
      "model_module": "@jupyter-widgets/controls",
      "model_module_version": "2.0.0",
      "model_name": "CheckboxModel",
      "state": {
       "description": "Barrow",
       "disabled": false,
       "indent": false,
       "layout": "IPY_MODEL_c3652de014f14534a6f755ddb379c543",
       "style": "IPY_MODEL_122feb6551fa4b13ba8995d1bc44b1d2",
       "value": true
      }
     },
     "72d249c43250472c8b84785a99b35f4c": {
      "model_module": "@jupyter-widgets/controls",
      "model_module_version": "2.0.0",
      "model_name": "CheckboxModel",
      "state": {
       "description": "Enclosure",
       "disabled": false,
       "indent": false,
       "layout": "IPY_MODEL_3ae7337f4716420c821a880a9b7a9bd2",
       "style": "IPY_MODEL_bab6b8c6e79442a3a79dcdf6194d1d30",
       "value": true
      }
     },
     "72eb24551ccd4c49ba161773c979c7db": {
      "model_module": "@jupyter-widgets/base",
      "model_module_version": "2.0.0",
      "model_name": "LayoutModel",
      "state": {}
     },
     "730f095e156a4ecc94175ee2e31e5648": {
      "model_module": "@jupyter-widgets/controls",
      "model_module_version": "2.0.0",
      "model_name": "DescriptionStyleModel",
      "state": {
       "description_width": ""
      }
     },
     "7313cf0c457c45789e10ab6c80407c50": {
      "model_module": "@jupyter-widgets/controls",
      "model_module_version": "2.0.0",
      "model_name": "RadioButtonsModel",
      "state": {
       "_options_labels": [
        "DEM (*.tif / *.vrt)",
        "Visualization (*.tif / *.vrt)"
       ],
       "description": "Select input type:",
       "index": 0,
       "layout": "IPY_MODEL_91527290cef64e71b108b4ac8d746af3",
       "style": "IPY_MODEL_fa0a47844fce454a89af7137cc431262"
      }
     },
     "733edde4f41d40b099feb98d141a2c25": {
      "model_module": "@jupyter-widgets/controls",
      "model_module_version": "2.0.0",
      "model_name": "LabelStyleModel",
      "state": {
       "description_width": "",
       "font_family": null,
       "font_size": null,
       "font_style": null,
       "font_variant": null,
       "font_weight": null,
       "text_color": null,
       "text_decoration": null
      }
     },
     "7342694cc75b4f2394ef4634414fbcf2": {
      "model_module": "@jupyter-widgets/base",
      "model_module_version": "2.0.0",
      "model_name": "LayoutModel",
      "state": {}
     },
     "7377e2019af0436680fdc648d2b55a57": {
      "model_module": "@jupyter-widgets/base",
      "model_module_version": "2.0.0",
      "model_name": "LayoutModel",
      "state": {}
     },
     "737f32feb07a46e785ec0e4aa7eea000": {
      "model_module": "@jupyter-widgets/controls",
      "model_module_version": "2.0.0",
      "model_name": "TextModel",
      "state": {
       "description": "DEM path:",
       "layout": "IPY_MODEL_9a55fc2e04b74e238f3f8924329c1b93",
       "placeholder": "<my_data_folder/my_DEM_file.tif>",
       "style": "IPY_MODEL_a4448c4b8ee6416c82b456afa19c6561"
      }
     },
     "7395503e12654b3faf2758912de20c4f": {
      "model_module": "@jupyter-widgets/controls",
      "model_module_version": "2.0.0",
      "model_name": "CheckboxStyleModel",
      "state": {
       "description_width": ""
      }
     },
     "73c7b58d9c224fcfbccbc0937ee013ca": {
      "model_module": "@jupyter-widgets/controls",
      "model_module_version": "2.0.0",
      "model_name": "RadioButtonsModel",
      "state": {
       "_options_labels": [
        "ADAF model",
        "Custom model"
       ],
       "description": "Select ML model:",
       "index": 0,
       "layout": "IPY_MODEL_18a79760e7b74c4cbbdca8150f1ef731",
       "style": "IPY_MODEL_a8d3ff6c6e3c4ad89e46eead95f7ea65"
      }
     },
     "7434afc5299f4d1eb44115467f65d19a": {
      "model_module": "@jupyter-widgets/base",
      "model_module_version": "2.0.0",
      "model_name": "LayoutModel",
      "state": {}
     },
     "7437f6aded844f35b76387e64ba6f087": {
      "model_module": "@jupyter-widgets/controls",
      "model_module_version": "2.0.0",
      "model_name": "TextModel",
      "state": {
       "description": "Visualization path:",
       "layout": "IPY_MODEL_4cdeaebe29fa4ddd94d7c169ba6831d6",
       "placeholder": "<my_data_folder/my_visualization_file.tif>",
       "style": "IPY_MODEL_250482d469f04e359a1be29f8e8d81b9"
      }
     },
     "74801b2dbc7740f986a28732303a382f": {
      "model_module": "@jupyter-widgets/controls",
      "model_module_version": "2.0.0",
      "model_name": "CheckboxModel",
      "state": {
       "description": "Barrow",
       "disabled": false,
       "indent": false,
       "layout": "IPY_MODEL_b6eb8b104b69468cad241cb21a9831f8",
       "style": "IPY_MODEL_1a15131ac90a4be0a97289111d2eeab9",
       "value": true
      }
     },
     "74843470ed2b40f8852f37d878506fb9": {
      "model_module": "@jupyter-widgets/controls",
      "model_module_version": "2.0.0",
      "model_name": "CheckboxModel",
      "state": {
       "description": "Enclosure",
       "disabled": false,
       "indent": false,
       "layout": "IPY_MODEL_33cdb48020f046e3950c94491a075cb9",
       "style": "IPY_MODEL_7145bf4ebf564f76a33f062ff357456a",
       "value": true
      }
     },
     "74890eefa06e43a18d91e7a64b1635c8": {
      "model_module": "@jupyter-widgets/controls",
      "model_module_version": "2.0.0",
      "model_name": "HBoxModel",
      "state": {
       "children": [
        "IPY_MODEL_0e5d5630d26a4187930831078ade4fe2",
        "IPY_MODEL_dca2cbcf84b1435084ff558980f2c005",
        "IPY_MODEL_72d249c43250472c8b84785a99b35f4c",
        "IPY_MODEL_fa5ba2e2763c4cf3bf03ff841c3c3655"
       ],
       "layout": "IPY_MODEL_4ce08b14794d4600808fbc6b95a5ff19"
      }
     },
     "749e5090690242958d86b1382acf67c2": {
      "model_module": "@jupyter-widgets/controls",
      "model_module_version": "2.0.0",
      "model_name": "TextStyleModel",
      "state": {
       "description_width": "",
       "font_size": null,
       "text_color": null
      }
     },
     "74a2824824014c0b8615f23fda6236b7": {
      "model_module": "@jupyter-widgets/controls",
      "model_module_version": "2.0.0",
      "model_name": "CheckboxModel",
      "state": {
       "description": "Batch processing",
       "disabled": false,
       "indent": false,
       "layout": "IPY_MODEL_163270b10cb4474185ff634631752d59",
       "style": "IPY_MODEL_c4e46f76e18b413babedb7f751013b5b",
       "value": false
      }
     },
     "74cff499275f4d2ead7ce1aad6f48ac5": {
      "model_module": "@jupyter-widgets/base",
      "model_module_version": "2.0.0",
      "model_name": "LayoutModel",
      "state": {
       "border_bottom": "1px solid black",
       "border_left": "1px solid black",
       "border_right": "1px solid black",
       "border_top": "1px solid black"
      }
     },
     "75324da4200d490ca6765ab1bab870fd": {
      "model_module": "@jupyter-widgets/base",
      "model_module_version": "2.0.0",
      "model_name": "LayoutModel",
      "state": {}
     },
     "753e6c392c2042daa6566315f52129e8": {
      "model_module": "@jupyter-widgets/base",
      "model_module_version": "2.0.0",
      "model_name": "LayoutModel",
      "state": {}
     },
     "75538e5df754402c9769040534cfcb75": {
      "model_module": "@jupyter-widgets/controls",
      "model_module_version": "2.0.0",
      "model_name": "LabelModel",
      "state": {
       "layout": "IPY_MODEL_f82aaaaea24a4ebab1c0bee20000206a",
       "style": "IPY_MODEL_9653b533f05d4a0d96673b239af56ff6",
       "value": "Select classes for inference:"
      }
     },
     "7582f7d7002f4b978932ff65da51c14a": {
      "model_module": "@jupyter-widgets/base",
      "model_module_version": "2.0.0",
      "model_name": "LayoutModel",
      "state": {}
     },
     "7584c0dc84274f5e8dfac8cd676714d5": {
      "model_module": "@jupyter-widgets/base",
      "model_module_version": "2.0.0",
      "model_name": "LayoutModel",
      "state": {
       "width": "98%"
      }
     },
     "75b783c02dfb4c378d3ed427fb60b556": {
      "model_module": "@jupyter-widgets/controls",
      "model_module_version": "2.0.0",
      "model_name": "CheckboxModel",
      "state": {
       "description": "Barrow",
       "disabled": false,
       "indent": false,
       "layout": "IPY_MODEL_1d570493ce544b01bd7ff53492898cd5",
       "style": "IPY_MODEL_52e7aecae6d542f1a9d5238cf4cc0129",
       "value": true
      }
     },
     "75c57ba45d6d42ddba227e3e7f394189": {
      "model_module": "@jupyter-widgets/controls",
      "model_module_version": "2.0.0",
      "model_name": "HBoxModel",
      "state": {
       "children": [
        "IPY_MODEL_0b3d221c5a634787b6d4e4be289fd8d5",
        "IPY_MODEL_5982f1a33c10408f91fc9cb5a4cb3c04"
       ],
       "layout": "IPY_MODEL_e96f8d3b793c42438bc4f982074e0022"
      }
     },
     "75dce213fdb24f8095fa9ce826768403": {
      "model_module": "@jupyter-widgets/base",
      "model_module_version": "2.0.0",
      "model_name": "LayoutModel",
      "state": {}
     },
     "75e01aaf51ea44688c4928e2d8cdfbaf": {
      "model_module": "@jupyter-widgets/controls",
      "model_module_version": "2.0.0",
      "model_name": "TextModel",
      "state": {
       "description": "Visualization path:",
       "layout": "IPY_MODEL_458036a790924e6d870d7615f3cc8abf",
       "placeholder": "<my_data_folder/my_visualization_file.tif>",
       "style": "IPY_MODEL_e1cf33fed3294116a17d5678aaf4adfd"
      }
     },
     "75e2f23e93164f9e88807f168a6bc7e2": {
      "model_module": "@jupyter-widgets/base",
      "model_module_version": "2.0.0",
      "model_name": "LayoutModel",
      "state": {}
     },
     "760c28e45c4c422584b1a5943829329b": {
      "model_module": "@jupyter-widgets/controls",
      "model_module_version": "2.0.0",
      "model_name": "TextModel",
      "state": {
       "description": "DEM path:",
       "layout": "IPY_MODEL_84a123c436554c5bad29e2965e8f0377",
       "placeholder": "<my_data_folder/my_DEM_file.tif>",
       "style": "IPY_MODEL_4a648f0ab9a741768465075b0e628cd1"
      }
     },
     "7620dd1a67244d3783eecf035cc55335": {
      "model_module": "@jupyter-widgets/controls",
      "model_module_version": "2.0.0",
      "model_name": "HBoxModel",
      "state": {
       "children": [
        "IPY_MODEL_b4cf1bed28a34ac5bef53b28f91e47b1",
        "IPY_MODEL_556287ee8f014a1abccceafbeac829c6"
       ],
       "layout": "IPY_MODEL_920f1136a6af4a8a8ad32f88815fc6cb"
      }
     },
     "763d211c5e9a4df89061b842ce4726b9": {
      "model_module": "@jupyter-widgets/base",
      "model_module_version": "2.0.0",
      "model_name": "LayoutModel",
      "state": {}
     },
     "7648171155164c8fa03eb4f6f0b6238b": {
      "model_module": "@jupyter-widgets/controls",
      "model_module_version": "2.0.0",
      "model_name": "CheckboxStyleModel",
      "state": {
       "description_width": ""
      }
     },
     "764b368efbc844daa2417ea7ddce10e1": {
      "model_module": "@jupyter-widgets/controls",
      "model_module_version": "2.0.0",
      "model_name": "RadioButtonsModel",
      "state": {
       "_options_labels": [
        "ADAF model",
        "Custom model"
       ],
       "description": "Select ML model:",
       "index": 0,
       "layout": "IPY_MODEL_8596e4c20b4a49cb988821c97928a992",
       "style": "IPY_MODEL_a1829ef20fbb45a7a409b2148f866908"
      }
     },
     "7655aad3dd27419d8e1202c4d9d371da": {
      "model_module": "@jupyter-widgets/controls",
      "model_module_version": "2.0.0",
      "model_name": "HTMLStyleModel",
      "state": {
       "description_width": "",
       "font_size": null,
       "text_color": null
      }
     },
     "767a6a1e2f02417190d60536f31651a3": {
      "model_module": "@jupyter-widgets/controls",
      "model_module_version": "2.0.0",
      "model_name": "TextModel",
      "state": {
       "description": "Visualization path:",
       "disabled": true,
       "layout": "IPY_MODEL_377fcb7949484269880de7828f3099e5",
       "placeholder": "<my_data_folder/my_visualization_file.tif>",
       "style": "IPY_MODEL_625e8d68206c4fc59ccf4bb50681c66e"
      }
     },
     "76c7f4f475224f08a0a4c4e314ea8b47": {
      "model_module": "@jupyter-widgets/output",
      "model_module_version": "1.0.0",
      "model_name": "OutputModel",
      "state": {
       "layout": "IPY_MODEL_101c992182d446a392fe11ab12d6d174",
       "outputs": [
        {
         "name": "stdout",
         "output_type": "stream",
         "text": "{'name': '_property_lock', 'old': {'index': 1}, 'new': {}, 'owner': RadioButtons(description='Select input type:', index=1, options=('DEM (*.tif / *.vrt)', 'Visualization (*.tif / *.vrt)'), value='Visualization (*.tif / *.vrt)'), 'type': 'change'}\n"
        }
       ]
      }
     },
     "76d9472eb1e34666bb515eb0499adee3": {
      "model_module": "@jupyter-widgets/base",
      "model_module_version": "2.0.0",
      "model_name": "LayoutModel",
      "state": {}
     },
     "779e9ed5a9af4e6da3cf2b0a94b62b27": {
      "model_module": "@jupyter-widgets/base",
      "model_module_version": "2.0.0",
      "model_name": "LayoutModel",
      "state": {
       "width": "98%"
      }
     },
     "77a2ea76245c4f91825200adf007aa75": {
      "model_module": "@jupyter-widgets/controls",
      "model_module_version": "2.0.0",
      "model_name": "TextModel",
      "state": {
       "description": "DEM path:",
       "layout": "IPY_MODEL_856ee6a2ba3a4c04bd4b399be38c60aa",
       "placeholder": "<my_data_folder/my_DEM_file.tif>",
       "style": "IPY_MODEL_251d58b7dd0946eb8d1b65fc92daef38"
      }
     },
     "77ea9165328a4a7798d98c3216ce2f4b": {
      "model_module": "@jupyter-widgets/base",
      "model_module_version": "2.0.0",
      "model_name": "LayoutModel",
      "state": {}
     },
     "7840a4f8147b494fb7551d356a47c5d7": {
      "model_module": "@jupyter-widgets/controls",
      "model_module_version": "2.0.0",
      "model_name": "HTMLStyleModel",
      "state": {
       "description_width": "",
       "font_size": null,
       "text_color": null
      }
     },
     "7844dee5f8dd4348b6626d45e2e0ca5b": {
      "model_module": "@jupyter-widgets/controls",
      "model_module_version": "2.0.0",
      "model_name": "TextModel",
      "state": {
       "layout": "IPY_MODEL_ca4abf92c02a472aab02a3f50a5221df",
       "placeholder": "model_folder/saved_model.tar",
       "style": "IPY_MODEL_ad937f0f06a54e0e857e5ee488de5d72"
      }
     },
     "785b26c657ad4ca69d03968aebdaaf10": {
      "model_module": "@jupyter-widgets/base",
      "model_module_version": "2.0.0",
      "model_name": "LayoutModel",
      "state": {}
     },
     "7871c8b78a1b495796671e07b1353bf0": {
      "model_module": "@jupyter-widgets/base",
      "model_module_version": "2.0.0",
      "model_name": "LayoutModel",
      "state": {}
     },
     "7876c56ae42f4f518ef926d0c42a5127": {
      "model_module": "@jupyter-widgets/base",
      "model_module_version": "2.0.0",
      "model_name": "LayoutModel",
      "state": {}
     },
     "78c96ca48eca4afd9431a6a4c9eabe23": {
      "model_module": "@jupyter-widgets/controls",
      "model_module_version": "2.0.0",
      "model_name": "HBoxModel",
      "state": {
       "children": [
        "IPY_MODEL_41825fe48d4445a6883fd814194bb16a",
        "IPY_MODEL_8a717aedbdda408db2b643bc920ba33f"
       ],
       "layout": "IPY_MODEL_30c6920ea8984581a1c9fecd38a32141"
      }
     },
     "78cb8c12279448cb8f38593d7f9241f4": {
      "model_module": "@jupyter-widgets/base",
      "model_module_version": "2.0.0",
      "model_name": "LayoutModel",
      "state": {}
     },
     "78ee1c5fd4d7461e96bd7090954de007": {
      "model_module": "@jupyter-widgets/controls",
      "model_module_version": "2.0.0",
      "model_name": "CheckboxModel",
      "state": {
       "description": "Ringfort",
       "disabled": false,
       "indent": false,
       "layout": "IPY_MODEL_d609daf258c94d2dbd4d3793f8e9ae20",
       "style": "IPY_MODEL_c0042496c3604cb88467ac112b5da71e",
       "value": true
      }
     },
     "79356a9d06d6464a870aa05a4782cd14": {
      "model_module": "@jupyter-widgets/base",
      "model_module_version": "2.0.0",
      "model_name": "LayoutModel",
      "state": {}
     },
     "79f0ce6754924a36aa7c78a995980108": {
      "model_module": "@jupyter-widgets/base",
      "model_module_version": "2.0.0",
      "model_name": "LayoutModel",
      "state": {}
     },
     "7a04b17b774b48528949adf3e8cc94d8": {
      "model_module": "@jupyter-widgets/controls",
      "model_module_version": "2.0.0",
      "model_name": "CheckboxStyleModel",
      "state": {
       "description_width": ""
      }
     },
     "7a628f7e271d4caabe085f68712608fa": {
      "model_module": "@jupyter-widgets/base",
      "model_module_version": "2.0.0",
      "model_name": "LayoutModel",
      "state": {}
     },
     "7a6dc8e324554222838085eb0dc12beb": {
      "model_module": "@jupyter-widgets/controls",
      "model_module_version": "2.0.0",
      "model_name": "RadioButtonsModel",
      "state": {
       "_options_labels": [
        "DEM (*.tif / *.vrt)",
        "Visualization (*.tif / *.vrt)"
       ],
       "description": "Select input file:",
       "index": 0,
       "layout": "IPY_MODEL_cdfb14d6d8664a3f8ad9b671febeb69a",
       "style": "IPY_MODEL_ae7b4c1ab7ae44d39e52cbd56ab2fcb1"
      }
     },
     "7a818d8efa4445a6b9cde9660bd9d8ba": {
      "model_module": "@jupyter-widgets/controls",
      "model_module_version": "2.0.0",
      "model_name": "CheckboxStyleModel",
      "state": {
       "description_width": ""
      }
     },
     "7aac0a8ba8c74f14964c52ab7d49acfe": {
      "model_module": "@jupyter-widgets/controls",
      "model_module_version": "2.0.0",
      "model_name": "TextStyleModel",
      "state": {
       "description_width": "initial",
       "font_size": null,
       "text_color": null
      }
     },
     "7aadcaf3a2c14291a788454dd1c07175": {
      "model_module": "@jupyter-widgets/base",
      "model_module_version": "2.0.0",
      "model_name": "LayoutModel",
      "state": {}
     },
     "7ad4cbcd0afb4952bf5aaefa07e290f7": {
      "model_module": "@jupyter-widgets/controls",
      "model_module_version": "2.0.0",
      "model_name": "RadioButtonsModel",
      "state": {
       "_options_labels": [
        "ADAF model",
        "Custom model"
       ],
       "description": "Select ML model:",
       "index": 1,
       "layout": "IPY_MODEL_619d2885cae147cc9f6805a57914c9c1",
       "style": "IPY_MODEL_4777a00f31694edea403c338a5f788c3"
      }
     },
     "7ad53ee117cc4332b44a0e4bbc7fe4b6": {
      "model_module": "@jupyter-widgets/base",
      "model_module_version": "2.0.0",
      "model_name": "LayoutModel",
      "state": {}
     },
     "7ad8a784f67d480d93e6e727e83d094b": {
      "model_module": "@jupyter-widgets/controls",
      "model_module_version": "2.0.0",
      "model_name": "CheckboxModel",
      "state": {
       "description": "Ringfort",
       "disabled": false,
       "indent": false,
       "layout": "IPY_MODEL_436f0854d06344d6b3697d0aa4b6bfa2",
       "style": "IPY_MODEL_9d5852a694a141be9e3c0b53c4071ad4",
       "value": true
      }
     },
     "7b1bea3567b542c48768e71fca596e90": {
      "model_module": "@jupyter-widgets/controls",
      "model_module_version": "2.0.0",
      "model_name": "DescriptionStyleModel",
      "state": {
       "description_width": ""
      }
     },
     "7b566ab31e064b9a8ade006ced70bb1d": {
      "model_module": "@jupyter-widgets/controls",
      "model_module_version": "2.0.0",
      "model_name": "CheckboxStyleModel",
      "state": {
       "description_width": ""
      }
     },
     "7ba823e82b8d4bf6b61bd48f5c2e8c7c": {
      "model_module": "@jupyter-widgets/base",
      "model_module_version": "2.0.0",
      "model_name": "LayoutModel",
      "state": {}
     },
     "7bc57bca393645018bf9d478d3683af0": {
      "model_module": "@jupyter-widgets/controls",
      "model_module_version": "2.0.0",
      "model_name": "HBoxModel",
      "state": {
       "children": [
        "IPY_MODEL_2a745a750d2c411bb8edb1613b34ac10",
        "IPY_MODEL_06eba926911f4cad974432bc28494335"
       ],
       "layout": "IPY_MODEL_b6973c1ce29b4a15ba4de75d34885fd9"
      }
     },
     "7c1ff56e4e8c4462a04ea98783c40711": {
      "model_module": "@jupyter-widgets/controls",
      "model_module_version": "2.0.0",
      "model_name": "RadioButtonsModel",
      "state": {
       "_options_labels": [
        "object detection",
        "segmentation"
       ],
       "description": "Select ML method:",
       "index": 1,
       "layout": "IPY_MODEL_0229c0807c37478184bf9ca9b62e444a",
       "style": "IPY_MODEL_04e8ece2603f495c9c038a158df463b8"
      }
     },
     "7c3251822e8d44c9b476dc5bac0e646e": {
      "model_module": "@jupyter-widgets/base",
      "model_module_version": "2.0.0",
      "model_name": "LayoutModel",
      "state": {}
     },
     "7cf17fd5aece44fbaed65b8851657d60": {
      "model_module": "@jupyter-widgets/controls",
      "model_module_version": "2.0.0",
      "model_name": "TextStyleModel",
      "state": {
       "description_width": "initial",
       "font_size": null,
       "text_color": null
      }
     },
     "7d1f6f3ede204dd686138c7adfa23258": {
      "model_module": "@jupyter-widgets/base",
      "model_module_version": "2.0.0",
      "model_name": "LayoutModel",
      "state": {}
     },
     "7d2412b81f114d988252ea758ccf0755": {
      "model_module": "@jupyter-widgets/base",
      "model_module_version": "2.0.0",
      "model_name": "LayoutModel",
      "state": {}
     },
     "7d316ae4c6f346d081876634c95fb649": {
      "model_module": "@jupyter-widgets/controls",
      "model_module_version": "2.0.0",
      "model_name": "TextModel",
      "state": {
       "description": "Visualization path:",
       "disabled": true,
       "layout": "IPY_MODEL_6048e59fe8b647348ec14ade690f3c9a",
       "placeholder": "<my_data_folder/my_visualization_file.tif>",
       "style": "IPY_MODEL_f364c5c263424fbba06c4f527218d789"
      }
     },
     "7d4ed9a67adf4819ba67869743238801": {
      "model_module": "@jupyter-widgets/controls",
      "model_module_version": "2.0.0",
      "model_name": "HBoxModel",
      "state": {
       "children": [
        "IPY_MODEL_7a6dc8e324554222838085eb0dc12beb",
        "IPY_MODEL_ee19c87d5f28436db56e6f5f6e6a6d40"
       ],
       "layout": "IPY_MODEL_6414dc3fd60d408296dc39a109f5c65c"
      }
     },
     "7d65dce120c240839568b7e4ee38fd2a": {
      "model_module": "@jupyter-widgets/base",
      "model_module_version": "2.0.0",
      "model_name": "LayoutModel",
      "state": {}
     },
     "7d6e9835c29842c1826d448f677e46ec": {
      "model_module": "@jupyter-widgets/base",
      "model_module_version": "2.0.0",
      "model_name": "LayoutModel",
      "state": {}
     },
     "7d829207ea9f4f968147c1634e97281a": {
      "model_module": "@jupyter-widgets/output",
      "model_module_version": "1.0.0",
      "model_name": "OutputModel",
      "state": {
       "layout": "IPY_MODEL_02362c11aec044afb9255477ff7b1bcc",
       "outputs": [
        {
         "data": {
          "application/vnd.jupyter.widget-view+json": {
           "model_id": "d5fa898112334f0b8653e9fb812f6221",
           "version_major": 2,
           "version_minor": 0
          },
          "text/plain": "Text(value='', description='DEM path:', layout=Layout(width='98%'), placeholder='<my_data_folder/my_DEM_file.t…"
         },
         "metadata": {},
         "output_type": "display_data"
        }
       ]
      }
     },
     "7df51a2597ae47b4bce6fe3f43e21790": {
      "model_module": "@jupyter-widgets/base",
      "model_module_version": "2.0.0",
      "model_name": "LayoutModel",
      "state": {}
     },
     "7df89308350f44db95821468f3464bce": {
      "model_module": "@jupyter-widgets/base",
      "model_module_version": "2.0.0",
      "model_name": "LayoutModel",
      "state": {}
     },
     "7df9c65e7e904f96b7b2b140f09dd225": {
      "model_module": "@jupyter-widgets/base",
      "model_module_version": "2.0.0",
      "model_name": "LayoutModel",
      "state": {}
     },
     "7e37b2b42f874e10b040f476b382024b": {
      "model_module": "@jupyter-widgets/controls",
      "model_module_version": "2.0.0",
      "model_name": "HBoxModel",
      "state": {
       "children": [
        "IPY_MODEL_d1a6632de3c14de1b42d82da9c40d1f7",
        "IPY_MODEL_f89cf3425ab64af98027ea77f583f3ce",
        "IPY_MODEL_fcb974977c1c40d190ad688ac533d1c5",
        "IPY_MODEL_4ceeba394fdd4802be59bd8c22bb5e15"
       ],
       "layout": "IPY_MODEL_174c1908c76d42a184c79474358c1899"
      }
     },
     "7e3f0fef3a0a443a9381f4a9cba3a52d": {
      "model_module": "@jupyter-widgets/controls",
      "model_module_version": "2.0.0",
      "model_name": "TextStyleModel",
      "state": {
       "description_width": "initial",
       "font_size": null,
       "text_color": null
      }
     },
     "7e4de5d97a5b4e2ebb191dc7738cdbc6": {
      "model_module": "@jupyter-widgets/base",
      "model_module_version": "2.0.0",
      "model_name": "LayoutModel",
      "state": {}
     },
     "7e5cdb7bc96f411da0027c509629d28d": {
      "model_module": "@jupyter-widgets/controls",
      "model_module_version": "2.0.0",
      "model_name": "HTMLModel",
      "state": {
       "layout": "IPY_MODEL_de6556c5f8574433afbb9239c2d39731",
       "style": "IPY_MODEL_f0e3b307707646a0b7011998f5bf52b6",
       "value": "<font color='black'>Select classes for inference:"
      }
     },
     "7ebcd84ba99045dfa22d04d004fad3a9": {
      "model_module": "@jupyter-widgets/output",
      "model_module_version": "1.0.0",
      "model_name": "OutputModel",
      "state": {
       "layout": "IPY_MODEL_dccdbeded0434eafa09771cf8d3b1f33",
       "outputs": [
        {
         "data": {
          "application/vnd.jupyter.widget-view+json": {
           "model_id": "607e60a6e8b34dbab067280f82b82fd7",
           "version_major": 2,
           "version_minor": 0
          },
          "text/plain": "Text(value='', description='DEM path:', layout=Layout(width='98%'), placeholder='<my_data_folder/my_DEM_file.t…"
         },
         "metadata": {},
         "output_type": "display_data"
        }
       ]
      }
     },
     "7ebf79cbd0ea409283fe6f4bf18ed058": {
      "model_module": "@jupyter-widgets/base",
      "model_module_version": "2.0.0",
      "model_name": "LayoutModel",
      "state": {
       "width": "98%"
      }
     },
     "7ecaf253ddf84236b3d060848ac9c60d": {
      "model_module": "@jupyter-widgets/controls",
      "model_module_version": "2.0.0",
      "model_name": "RadioButtonsModel",
      "state": {
       "_options_labels": [
        "object detection",
        "segmentation"
       ],
       "description": "Select ML method:",
       "index": 1,
       "layout": "IPY_MODEL_c818bfbb7a1e42d2b83256c4d51473e0",
       "style": "IPY_MODEL_bc45d9912f1a4113a9a38178aa848639"
      }
     },
     "7eed00ca8c8946cc809e045d2ceedeee": {
      "model_module": "@jupyter-widgets/controls",
      "model_module_version": "2.0.0",
      "model_name": "HTMLStyleModel",
      "state": {
       "description_width": "",
       "font_size": null,
       "text_color": null
      }
     },
     "7ef573276c9c4f0a891beaa3a19539da": {
      "model_module": "@jupyter-widgets/base",
      "model_module_version": "2.0.0",
      "model_name": "LayoutModel",
      "state": {}
     },
     "7f18c2b6f8f64ad69fa6e85f44e3fcfe": {
      "model_module": "@jupyter-widgets/base",
      "model_module_version": "2.0.0",
      "model_name": "LayoutModel",
      "state": {
       "width": "98%"
      }
     },
     "7f44911676134768a4f3167a0ac6802b": {
      "model_module": "@jupyter-widgets/base",
      "model_module_version": "2.0.0",
      "model_name": "LayoutModel",
      "state": {}
     },
     "7f538eb8e7c3497f9ab4e3b9f1345554": {
      "model_module": "@jupyter-widgets/controls",
      "model_module_version": "2.0.0",
      "model_name": "CheckboxModel",
      "state": {
       "description": "Barrow",
       "disabled": false,
       "indent": false,
       "layout": "IPY_MODEL_0a7e5f5bacc54156a3085db5e2230ce8",
       "style": "IPY_MODEL_ac966bd774d148598b59192f160756d2",
       "value": true
      }
     },
     "7f69739256224b2fb9aa6731d833b20b": {
      "model_module": "@jupyter-widgets/controls",
      "model_module_version": "2.0.0",
      "model_name": "HBoxModel",
      "state": {
       "children": [
        "IPY_MODEL_57d54aa3b46d44128c38edb1964c9c2d",
        "IPY_MODEL_1485832e1d7d4739a84ba5f85db0f786"
       ],
       "layout": "IPY_MODEL_5baa812e3e2f421f92f3dcc239957748"
      }
     },
     "7fb36e807cd44d2cbdc98ca698273665": {
      "model_module": "@jupyter-widgets/controls",
      "model_module_version": "2.0.0",
      "model_name": "TextModel",
      "state": {
       "description": "Path to ML model [*.tar]:",
       "disabled": true,
       "layout": "IPY_MODEL_38b21d8b08034c0c818a88aad795db82",
       "placeholder": "model_folder/saved_model.tar",
       "style": "IPY_MODEL_e952c0f25a4b4b668dd6b9296d314bc8"
      }
     },
     "7fd75bd2d8364d9b9fb722a35c87fce4": {
      "model_module": "@jupyter-widgets/controls",
      "model_module_version": "2.0.0",
      "model_name": "DescriptionStyleModel",
      "state": {
       "description_width": ""
      }
     },
     "7fed02dc9f2e45a6950cf0616737d07c": {
      "model_module": "@jupyter-widgets/controls",
      "model_module_version": "2.0.0",
      "model_name": "RadioButtonsModel",
      "state": {
       "_options_labels": [
        "object detection",
        "segmentation"
       ],
       "description": "Select ML method:",
       "index": 1,
       "layout": "IPY_MODEL_f5889b20a9514b0299b93e0223dfc1e1",
       "style": "IPY_MODEL_85af50ca51904eb3a4ddd68f8c67d9a4"
      }
     },
     "7ff8a70b9eea47eba4593bb890c6d390": {
      "model_module": "@jupyter-widgets/base",
      "model_module_version": "2.0.0",
      "model_name": "LayoutModel",
      "state": {}
     },
     "80013f5cff74434789629eaaf25dc82a": {
      "model_module": "@jupyter-widgets/base",
      "model_module_version": "2.0.0",
      "model_name": "LayoutModel",
      "state": {}
     },
     "80145d999cb74339a61ed7253212bcaa": {
      "model_module": "@jupyter-widgets/controls",
      "model_module_version": "2.0.0",
      "model_name": "RadioButtonsModel",
      "state": {
       "_options_labels": [
        "object detection",
        "segmentation"
       ],
       "description": "Select ML method:",
       "index": 1,
       "layout": "IPY_MODEL_82dfbd786918465c939bf339a5c29f7a",
       "style": "IPY_MODEL_1490e570eb6446aab40e2f1b5972868d"
      }
     },
     "80166a4298ee45afa4ae3bd133a52fb7": {
      "model_module": "@jupyter-widgets/controls",
      "model_module_version": "2.0.0",
      "model_name": "CheckboxModel",
      "state": {
       "description": "Ringfort",
       "disabled": false,
       "indent": false,
       "layout": "IPY_MODEL_f069a6c270644c438a502d2649c87e97",
       "style": "IPY_MODEL_f22ae802329f4a35a47824be1bb06890",
       "value": true
      }
     },
     "80276c8ff8154c8e9aea4c8c2062dc0d": {
      "model_module": "@jupyter-widgets/controls",
      "model_module_version": "2.0.0",
      "model_name": "RadioButtonsModel",
      "state": {
       "_options_labels": [
        "ADAF model",
        "Custom model"
       ],
       "description": "Select ML model:",
       "index": 0,
       "layout": "IPY_MODEL_f0d841d513574675a8a0ecac5e0795e0",
       "style": "IPY_MODEL_116accd57f9343f2a4352ae5ac319fda"
      }
     },
     "805decd6862440a99d5cb7c18d8f3efd": {
      "model_module": "@jupyter-widgets/base",
      "model_module_version": "2.0.0",
      "model_name": "LayoutModel",
      "state": {
       "border_bottom": "1px solid black",
       "border_left": "1px solid black",
       "border_right": "1px solid black",
       "border_top": "1px solid black"
      }
     },
     "809547a4c06e49d5985e2840eb459ecd": {
      "model_module": "@jupyter-widgets/base",
      "model_module_version": "2.0.0",
      "model_name": "LayoutModel",
      "state": {}
     },
     "80a0b80c3acd4c2eafc16ac9dc8f58fe": {
      "model_module": "@jupyter-widgets/base",
      "model_module_version": "2.0.0",
      "model_name": "LayoutModel",
      "state": {}
     },
     "80c41e041d5a4524bbe567f0d48e10e1": {
      "model_module": "@jupyter-widgets/controls",
      "model_module_version": "2.0.0",
      "model_name": "DescriptionStyleModel",
      "state": {
       "description_width": ""
      }
     },
     "80f3bb9a48f243f6a0c7274fb4fa5b5e": {
      "model_module": "@jupyter-widgets/controls",
      "model_module_version": "2.0.0",
      "model_name": "CheckboxStyleModel",
      "state": {
       "description_width": ""
      }
     },
     "8101c6d472ad4b5ea5b9a1910942f86e": {
      "model_module": "@jupyter-widgets/controls",
      "model_module_version": "2.0.0",
      "model_name": "HBoxModel",
      "state": {
       "children": [
        "IPY_MODEL_94887152f0e1453095100e013ae27001",
        "IPY_MODEL_87dd50f7c5f2457a9bc06d94a5b114e4"
       ],
       "layout": "IPY_MODEL_553e430fc9b24b078d584af893bcfb03"
      }
     },
     "810fabbe65ec477c994ed0ea59d8c03c": {
      "model_module": "@jupyter-widgets/controls",
      "model_module_version": "2.0.0",
      "model_name": "CheckboxStyleModel",
      "state": {
       "description_width": ""
      }
     },
     "8121d5242410449e81d0a10daac592e6": {
      "model_module": "@jupyter-widgets/controls",
      "model_module_version": "2.0.0",
      "model_name": "TextStyleModel",
      "state": {
       "description_width": "initial",
       "font_size": null,
       "text_color": null
      }
     },
     "81362dc0486a4d37944bdce53b0241eb": {
      "model_module": "@jupyter-widgets/output",
      "model_module_version": "1.0.0",
      "model_name": "OutputModel",
      "state": {
       "layout": "IPY_MODEL_e2001ef4d6f4460499cf4aa8976edbe0"
      }
     },
     "8158459d54af421fa711702c485e1038": {
      "model_module": "@jupyter-widgets/base",
      "model_module_version": "2.0.0",
      "model_name": "LayoutModel",
      "state": {
       "width": "98%"
      }
     },
     "8162a37f47b84abeae7a2cd99b3cfe5a": {
      "model_module": "@jupyter-widgets/base",
      "model_module_version": "2.0.0",
      "model_name": "LayoutModel",
      "state": {}
     },
     "81985561ebc64325bccaa203dec5c6d4": {
      "model_module": "@jupyter-widgets/controls",
      "model_module_version": "2.0.0",
      "model_name": "CheckboxModel",
      "state": {
       "description": "Barrow",
       "disabled": false,
       "indent": false,
       "layout": "IPY_MODEL_d8d3d4e38e5f4e2687eb4c6284bcbbbe",
       "style": "IPY_MODEL_f9b2d582b33b47caa8da0eac32fcc692",
       "value": true
      }
     },
     "81cad146169444148aff5c4453b12dae": {
      "model_module": "@jupyter-widgets/output",
      "model_module_version": "1.0.0",
      "model_name": "OutputModel",
      "state": {
       "layout": "IPY_MODEL_2a7db54dc6884b92a7a03bf26c971ac4",
       "outputs": [
        {
         "name": "stdout",
         "output_type": "stream",
         "text": "RB: 0\nCHK: True\n"
        }
       ]
      }
     },
     "81cf8bef78224b4d952250615582b6cc": {
      "model_module": "@jupyter-widgets/base",
      "model_module_version": "2.0.0",
      "model_name": "LayoutModel",
      "state": {}
     },
     "8258c9a8fa154ebab16f199516d3b63f": {
      "model_module": "@jupyter-widgets/controls",
      "model_module_version": "2.0.0",
      "model_name": "LabelModel",
      "state": {
       "layout": "IPY_MODEL_8162a37f47b84abeae7a2cd99b3cfe5a",
       "style": "IPY_MODEL_a3aaa2510f304ceb88b75049b785e0d4",
       "value": "Select classes for inference:"
      }
     },
     "8270439ede804cfc85e6be1c772acf78": {
      "model_module": "@jupyter-widgets/controls",
      "model_module_version": "2.0.0",
      "model_name": "DescriptionStyleModel",
      "state": {
       "description_width": ""
      }
     },
     "828e2b50d39d43818f09283681d9d359": {
      "model_module": "@jupyter-widgets/controls",
      "model_module_version": "2.0.0",
      "model_name": "TextStyleModel",
      "state": {
       "description_width": "initial",
       "font_size": null,
       "text_color": null
      }
     },
     "829b452f8a7746da88b82b5cc20f851a": {
      "model_module": "@jupyter-widgets/controls",
      "model_module_version": "2.0.0",
      "model_name": "DescriptionStyleModel",
      "state": {
       "description_width": ""
      }
     },
     "82dfbd786918465c939bf339a5c29f7a": {
      "model_module": "@jupyter-widgets/base",
      "model_module_version": "2.0.0",
      "model_name": "LayoutModel",
      "state": {}
     },
     "82e2034abd6a4013ae3ee6b297b484f8": {
      "model_module": "@jupyter-widgets/controls",
      "model_module_version": "2.0.0",
      "model_name": "CheckboxStyleModel",
      "state": {
       "description_width": ""
      }
     },
     "82ed95a237964341b8b0b4d3afafc616": {
      "model_module": "@jupyter-widgets/controls",
      "model_module_version": "2.0.0",
      "model_name": "TextModel",
      "state": {
       "description": "Visualization path:",
       "disabled": true,
       "layout": "IPY_MODEL_7ebf79cbd0ea409283fe6f4bf18ed058",
       "placeholder": "<my_data_folder/my_visualization_file.tif>",
       "style": "IPY_MODEL_861b28036e2a4f228b032a7ba7757df3"
      }
     },
     "8407cad969694546b136e0c134bd4b2e": {
      "model_module": "@jupyter-widgets/controls",
      "model_module_version": "2.0.0",
      "model_name": "TextModel",
      "state": {
       "description": "Visualization path:",
       "disabled": true,
       "layout": "IPY_MODEL_fa6c2252c41641e0969e909f32da8e2f",
       "placeholder": "<my_data_folder/my_visualization_file.tif>",
       "style": "IPY_MODEL_fc7f92eea99345f288faed27be1b7275"
      }
     },
     "840ad7d9ebbc4338b8713f0f88bc26c2": {
      "model_module": "@jupyter-widgets/base",
      "model_module_version": "2.0.0",
      "model_name": "LayoutModel",
      "state": {}
     },
     "841e8ead076143f89d23aeb5ab29867d": {
      "model_module": "@jupyter-widgets/base",
      "model_module_version": "2.0.0",
      "model_name": "LayoutModel",
      "state": {
       "width": "98%"
      }
     },
     "84370d76163f4c7dabc5bd1880244094": {
      "model_module": "@jupyter-widgets/controls",
      "model_module_version": "2.0.0",
      "model_name": "HTMLStyleModel",
      "state": {
       "description_width": "",
       "font_size": null,
       "text_color": null
      }
     },
     "84a123c436554c5bad29e2965e8f0377": {
      "model_module": "@jupyter-widgets/base",
      "model_module_version": "2.0.0",
      "model_name": "LayoutModel",
      "state": {
       "width": "98%"
      }
     },
     "855e241a6eef4002a5cf90a6e56996cd": {
      "model_module": "@jupyter-widgets/base",
      "model_module_version": "2.0.0",
      "model_name": "LayoutModel",
      "state": {}
     },
     "856ee6a2ba3a4c04bd4b399be38c60aa": {
      "model_module": "@jupyter-widgets/base",
      "model_module_version": "2.0.0",
      "model_name": "LayoutModel",
      "state": {
       "width": "98%"
      }
     },
     "856f22b986104d848bc07572b230b5a6": {
      "model_module": "@jupyter-widgets/controls",
      "model_module_version": "2.0.0",
      "model_name": "HBoxModel",
      "state": {
       "children": [
        "IPY_MODEL_f11294f409604530afec94f1275449a0",
        "IPY_MODEL_908f3256f8884366b366f16424531a34"
       ],
       "layout": "IPY_MODEL_3d45bd8199bb436b84f00acbd50dc55a"
      }
     },
     "8596e4c20b4a49cb988821c97928a992": {
      "model_module": "@jupyter-widgets/base",
      "model_module_version": "2.0.0",
      "model_name": "LayoutModel",
      "state": {}
     },
     "85ac9fedce514ea3b15d153724daf832": {
      "model_module": "@jupyter-widgets/base",
      "model_module_version": "2.0.0",
      "model_name": "LayoutModel",
      "state": {}
     },
     "85af50ca51904eb3a4ddd68f8c67d9a4": {
      "model_module": "@jupyter-widgets/controls",
      "model_module_version": "2.0.0",
      "model_name": "DescriptionStyleModel",
      "state": {
       "description_width": ""
      }
     },
     "85d078d93c60407881a0ac8c871f09af": {
      "model_module": "@jupyter-widgets/controls",
      "model_module_version": "2.0.0",
      "model_name": "TextModel",
      "state": {
       "description": "DEM path:",
       "disabled": true,
       "layout": "IPY_MODEL_fde890d03b764dc9aded3de128b9b556",
       "placeholder": "<my_data_folder/my_DEM_file.tif>",
       "style": "IPY_MODEL_bc68da6982f54f89a02bfd7776066e7a"
      }
     },
     "85e4ff15ba274ae4a42197e8caf329a8": {
      "model_module": "@jupyter-widgets/controls",
      "model_module_version": "2.0.0",
      "model_name": "CheckboxStyleModel",
      "state": {
       "description_width": ""
      }
     },
     "85fad2f3f64e4bf0a9f836184ab1b938": {
      "model_module": "@jupyter-widgets/controls",
      "model_module_version": "2.0.0",
      "model_name": "RadioButtonsModel",
      "state": {
       "_options_labels": [
        "object detection",
        "segmentation"
       ],
       "description": "Select ML method:",
       "index": 1,
       "layout": "IPY_MODEL_85ac9fedce514ea3b15d153724daf832",
       "style": "IPY_MODEL_ea22d551206b401fa2dd2725f4609aaf"
      }
     },
     "85ff25055c3944b08e69fdacf5bb01a3": {
      "model_module": "@jupyter-widgets/controls",
      "model_module_version": "2.0.0",
      "model_name": "HTMLModel",
      "state": {
       "layout": "IPY_MODEL_5feaf9c4b5b94425a2d2fff508fc349b",
       "style": "IPY_MODEL_4a775da7a243434299201e5c50ccdaab",
       "value": "<font color='black'>Select classes for inference:"
      }
     },
     "861b28036e2a4f228b032a7ba7757df3": {
      "model_module": "@jupyter-widgets/controls",
      "model_module_version": "2.0.0",
      "model_name": "TextStyleModel",
      "state": {
       "description_width": "initial",
       "font_size": null,
       "text_color": null
      }
     },
     "86466ea6b9394da7887f064f48e6d45b": {
      "model_module": "@jupyter-widgets/output",
      "model_module_version": "1.0.0",
      "model_name": "OutputModel",
      "state": {
       "layout": "IPY_MODEL_0b3c39a759d24e6abd76845b674c83ba",
       "outputs": [
        {
         "data": {
          "application/vnd.jupyter.widget-view+json": {
           "model_id": "eaec0ac4f53945e9b8f1d2c107fd97b0",
           "version_major": 2,
           "version_minor": 0
          },
          "text/plain": "Label(value='Path to ML model [*.tar]:')"
         },
         "metadata": {},
         "output_type": "display_data"
        }
       ]
      }
     },
     "864de0659c9348c4a8832361f8d6be02": {
      "model_module": "@jupyter-widgets/controls",
      "model_module_version": "2.0.0",
      "model_name": "TextStyleModel",
      "state": {
       "description_width": "initial",
       "font_size": null,
       "text_color": null
      }
     },
     "868104ac3e8b49c5ae88165dae886d8b": {
      "model_module": "@jupyter-widgets/controls",
      "model_module_version": "2.0.0",
      "model_name": "LabelModel",
      "state": {
       "layout": "IPY_MODEL_aec860a8621442008f648367b439f990",
       "style": "IPY_MODEL_e1e65085f8584e5b8ed8a19985f41f07",
       "value": "Path to ML model [*.tar]:"
      }
     },
     "8707f69be5b74dd7972c2b811a9ace84": {
      "model_module": "@jupyter-widgets/base",
      "model_module_version": "2.0.0",
      "model_name": "LayoutModel",
      "state": {}
     },
     "8710473a16314ed584781861a9747cad": {
      "model_module": "@jupyter-widgets/base",
      "model_module_version": "2.0.0",
      "model_name": "LayoutModel",
      "state": {}
     },
     "873ec467f9514ab88dd77207cd9bfcb8": {
      "model_module": "@jupyter-widgets/controls",
      "model_module_version": "2.0.0",
      "model_name": "CheckboxStyleModel",
      "state": {
       "description_width": ""
      }
     },
     "874edeeb7be94f4c9687ab1898b0bc7d": {
      "model_module": "@jupyter-widgets/controls",
      "model_module_version": "2.0.0",
      "model_name": "RadioButtonsModel",
      "state": {
       "_options_labels": [
        "object detection",
        "segmentation"
       ],
       "description": "Select ML method:",
       "index": 1,
       "layout": "IPY_MODEL_8ffc02a1b9224f7eb4ace4b3405b6dcc",
       "style": "IPY_MODEL_fb358171bd034d3183d5199cc9c368d6"
      }
     },
     "8765c961148940ccb0889cf23b5376c7": {
      "model_module": "@jupyter-widgets/controls",
      "model_module_version": "2.0.0",
      "model_name": "CheckboxStyleModel",
      "state": {
       "description_width": ""
      }
     },
     "878ff75ee83d4882bbee4e3a5a75b3e5": {
      "model_module": "@jupyter-widgets/base",
      "model_module_version": "2.0.0",
      "model_name": "LayoutModel",
      "state": {}
     },
     "879a3c88322a4716962e47a1dde03731": {
      "model_module": "@jupyter-widgets/controls",
      "model_module_version": "2.0.0",
      "model_name": "HBoxModel",
      "state": {
       "children": [
        "IPY_MODEL_f77228ba73964074bf88d146406057f8",
        "IPY_MODEL_f0360216178e42628f511e4046525923",
        "IPY_MODEL_42da23f2f84842f7ba89de7ba379158f",
        "IPY_MODEL_29c270b7d68349b79a9a2ee21d9f1888"
       ],
       "layout": "IPY_MODEL_a61d6afd5749411092da9421063a6e63"
      }
     },
     "87d4287e03014a8ead2bb76f5ac96b62": {
      "model_module": "@jupyter-widgets/controls",
      "model_module_version": "2.0.0",
      "model_name": "HTMLModel",
      "state": {
       "layout": "IPY_MODEL_cfc3a1de382844819e9e7ec416d08b2e",
       "style": "IPY_MODEL_e5b317ab82c14a3899e2c9ac68a2a0a0",
       "value": "<font color='black'>Select classes for inference:"
      }
     },
     "87dd50f7c5f2457a9bc06d94a5b114e4": {
      "model_module": "@jupyter-widgets/controls",
      "model_module_version": "2.0.0",
      "model_name": "RadioButtonsModel",
      "state": {
       "_options_labels": [
        "ADAF model",
        "Custom model"
       ],
       "description": "Select ML model:",
       "index": 0,
       "layout": "IPY_MODEL_c7306df8b6fe4d1b93345fde8bfa3cde",
       "style": "IPY_MODEL_a8910e1ca620476b85d1b7046ba353c9"
      }
     },
     "88037bb6d8904264a2d02b4dcdf6aeed": {
      "model_module": "@jupyter-widgets/base",
      "model_module_version": "2.0.0",
      "model_name": "LayoutModel",
      "state": {}
     },
     "8809da5148f843c2ae624e6523e93d0f": {
      "model_module": "@jupyter-widgets/output",
      "model_module_version": "1.0.0",
      "model_name": "OutputModel",
      "state": {
       "layout": "IPY_MODEL_101bd79dce984e9a93d891afc721d109",
       "outputs": [
        {
         "data": {
          "application/vnd.jupyter.widget-view+json": {
           "model_id": "eecbe3ffdcfd474aaafca3abd441fc25",
           "version_major": 2,
           "version_minor": 0
          },
          "text/plain": "Label(value='Path to ML model [*.tar]:')"
         },
         "metadata": {},
         "output_type": "display_data"
        }
       ]
      }
     },
     "883c0a1939db481090d212dcbebeba15": {
      "model_module": "@jupyter-widgets/controls",
      "model_module_version": "2.0.0",
      "model_name": "CheckboxModel",
      "state": {
       "description": "All archaeology",
       "disabled": false,
       "indent": false,
       "layout": "IPY_MODEL_4c496664b5ba4916918842338a5d2d25",
       "style": "IPY_MODEL_941d388cc8f54df78fe914f3c0bd6d0c",
       "value": false
      }
     },
     "8858e0e228a849c8bfbea48b466c71e0": {
      "model_module": "@jupyter-widgets/controls",
      "model_module_version": "2.0.0",
      "model_name": "CheckboxModel",
      "state": {
       "description": "Ringfort",
       "disabled": false,
       "indent": false,
       "layout": "IPY_MODEL_5754924bd2e841f8af861abc9b5857c3",
       "style": "IPY_MODEL_d778d701d4af4a52953a1ee2cf191183",
       "value": true
      }
     },
     "8859ac07a7cd4eda93d9226e1faf1ef1": {
      "model_module": "@jupyter-widgets/controls",
      "model_module_version": "2.0.0",
      "model_name": "CheckboxStyleModel",
      "state": {
       "description_width": ""
      }
     },
     "885b76fcf9424f709fa6b4febdfaad66": {
      "model_module": "@jupyter-widgets/controls",
      "model_module_version": "2.0.0",
      "model_name": "VBoxModel",
      "state": {
       "children": [
        "IPY_MODEL_683d5ec9cb624e49818fda8d0a16f7d7",
        "IPY_MODEL_3f86ebab183e427dbdd801e678275377",
        "IPY_MODEL_df0b8366b45f4dd6b24bffb6877bc609",
        "IPY_MODEL_562f48a38a5647a19c1cf7012a2dfc3c"
       ],
       "layout": "IPY_MODEL_07c139b6beda41a6af1bc42982f48d29"
      }
     },
     "886b36527da847f5ba45103e64e6db82": {
      "model_module": "@jupyter-widgets/controls",
      "model_module_version": "2.0.0",
      "model_name": "VBoxModel",
      "state": {
       "children": [
        "IPY_MODEL_d7965cc73d7a4ec9809dd089282cc404",
        "IPY_MODEL_e0f1fca16ba541fcaf5cba4832fd55ae",
        "IPY_MODEL_6a72fefe8d64491fa1f1bcd448df8ec3",
        "IPY_MODEL_a174939a0b3e46a59f32c7a16d40824f"
       ],
       "layout": "IPY_MODEL_35e6b3cd3b314b7685bc98342c38962c"
      }
     },
     "88b2482c48754492abd0b84fd185fe60": {
      "model_module": "@jupyter-widgets/controls",
      "model_module_version": "2.0.0",
      "model_name": "RadioButtonsModel",
      "state": {
       "_options_labels": [
        "DEM (*.tif / *.vrt)",
        "Visualization (*.tif / *.vrt)"
       ],
       "description": "Select input file:",
       "index": 1,
       "layout": "IPY_MODEL_6e3501580fc44d218b2c14079b9f3ae9",
       "style": "IPY_MODEL_9fe21fdc99af427bba9ef1b39877da8a"
      }
     },
     "88bfc6b0aa194406a6e1cc7da9b6bcb2": {
      "model_module": "@jupyter-widgets/base",
      "model_module_version": "2.0.0",
      "model_name": "LayoutModel",
      "state": {}
     },
     "88c250b3ae0c4ea6b39cda099bb08502": {
      "model_module": "@jupyter-widgets/base",
      "model_module_version": "2.0.0",
      "model_name": "LayoutModel",
      "state": {
       "width": "98%"
      }
     },
     "88c46e43670f4400979643e3a0fe89f7": {
      "model_module": "@jupyter-widgets/output",
      "model_module_version": "1.0.0",
      "model_name": "OutputModel",
      "state": {
       "layout": "IPY_MODEL_3d8b22f9d07e4a46b42f66cf37851666",
       "outputs": [
        {
         "data": {
          "application/vnd.jupyter.widget-view+json": {
           "model_id": "e226286b75874c758608ae80e19fc221",
           "version_major": 2,
           "version_minor": 0
          },
          "text/plain": "Text(value='', description='DEM path:', layout=Layout(width='98%'), placeholder='<my_data_folder/my_DEM_file.t…"
         },
         "metadata": {},
         "output_type": "display_data"
        }
       ]
      }
     },
     "88cab838a8534253bce53b4110a65d9e": {
      "model_module": "@jupyter-widgets/controls",
      "model_module_version": "2.0.0",
      "model_name": "TextStyleModel",
      "state": {
       "description_width": "initial",
       "font_size": null,
       "text_color": null
      }
     },
     "88d188b3ba6a4499b6cfb047fa240bb4": {
      "model_module": "@jupyter-widgets/base",
      "model_module_version": "2.0.0",
      "model_name": "LayoutModel",
      "state": {
       "border_bottom": "1px solid black",
       "border_left": "1px solid black",
       "border_right": "1px solid black",
       "border_top": "1px solid black"
      }
     },
     "88d36cbcf9994034bddceb0e79c366f4": {
      "model_module": "@jupyter-widgets/controls",
      "model_module_version": "2.0.0",
      "model_name": "RadioButtonsModel",
      "state": {
       "_options_labels": [
        "object detection",
        "segmentation"
       ],
       "description": "Select ML method:",
       "index": 1,
       "layout": "IPY_MODEL_bcf96b5d368440989f0cdf1230fcb964",
       "style": "IPY_MODEL_0dcb013c2e134c53a77a5386417f5cfb"
      }
     },
     "88fb1ba8b84143abb4b4eefa0aa32ee5": {
      "model_module": "@jupyter-widgets/base",
      "model_module_version": "2.0.0",
      "model_name": "LayoutModel",
      "state": {}
     },
     "89292c9d8ef24a62a8efa5856a022105": {
      "model_module": "@jupyter-widgets/base",
      "model_module_version": "2.0.0",
      "model_name": "LayoutModel",
      "state": {
       "width": "98%"
      }
     },
     "894df3057cab4ab4b24e0168f34cc27e": {
      "model_module": "@jupyter-widgets/base",
      "model_module_version": "2.0.0",
      "model_name": "LayoutModel",
      "state": {}
     },
     "89666392e75f4c5cb26e1d36772a5331": {
      "model_module": "@jupyter-widgets/controls",
      "model_module_version": "2.0.0",
      "model_name": "VBoxModel",
      "state": {
       "children": [
        "IPY_MODEL_a0cf74a691c54136b4b05d1e2de25b1e",
        "IPY_MODEL_3ba899db783c4654b141ffa7fdcdb35d",
        "IPY_MODEL_6cfb3c8eaaa049998ae90d058753ac41"
       ],
       "layout": "IPY_MODEL_2479292c787c4974aafb8ef5a88155a1"
      }
     },
     "8990c1148e974cf989ebddc12cc753bd": {
      "model_module": "@jupyter-widgets/controls",
      "model_module_version": "2.0.0",
      "model_name": "CheckboxModel",
      "state": {
       "description": "Batch processing",
       "disabled": false,
       "indent": false,
       "layout": "IPY_MODEL_eb7f2ce9d5e648899c9048806b567445",
       "style": "IPY_MODEL_316aec10bb2646a09b979ab695cd7689",
       "value": false
      }
     },
     "89c45cf752cc4c52863197720b63c8b1": {
      "model_module": "@jupyter-widgets/base",
      "model_module_version": "2.0.0",
      "model_name": "LayoutModel",
      "state": {}
     },
     "8a165bbcd77847fd8f2269ada9bff547": {
      "model_module": "@jupyter-widgets/base",
      "model_module_version": "2.0.0",
      "model_name": "LayoutModel",
      "state": {}
     },
     "8a6ea1d6db9d44aab00119ad4ce73567": {
      "model_module": "@jupyter-widgets/controls",
      "model_module_version": "2.0.0",
      "model_name": "DescriptionStyleModel",
      "state": {
       "description_width": ""
      }
     },
     "8a717aedbdda408db2b643bc920ba33f": {
      "model_module": "@jupyter-widgets/controls",
      "model_module_version": "2.0.0",
      "model_name": "TextModel",
      "state": {
       "layout": "IPY_MODEL_f339af668b8043dab1965ca3b4201fd0",
       "placeholder": "model_folder/saved_model.tar",
       "style": "IPY_MODEL_faa3013a63af4039b7bbcf5adfe2de6f"
      }
     },
     "8ac74fa6fc7b412abf6cf5b4d7095bfc": {
      "model_module": "@jupyter-widgets/base",
      "model_module_version": "2.0.0",
      "model_name": "LayoutModel",
      "state": {}
     },
     "8b017e3f846e444fb814809712a06ab9": {
      "model_module": "@jupyter-widgets/base",
      "model_module_version": "2.0.0",
      "model_name": "LayoutModel",
      "state": {}
     },
     "8b11beccaf5a4d938374eca5a8258992": {
      "model_module": "@jupyter-widgets/base",
      "model_module_version": "2.0.0",
      "model_name": "LayoutModel",
      "state": {}
     },
     "8b23af974ee14e7e84f2ecd630611027": {
      "model_module": "@jupyter-widgets/base",
      "model_module_version": "2.0.0",
      "model_name": "LayoutModel",
      "state": {}
     },
     "8b30eabedfe545cea0e345702adff6a8": {
      "model_module": "@jupyter-widgets/base",
      "model_module_version": "2.0.0",
      "model_name": "LayoutModel",
      "state": {}
     },
     "8b5b4ab88f734a35aed3e85721d7929b": {
      "model_module": "@jupyter-widgets/controls",
      "model_module_version": "2.0.0",
      "model_name": "HBoxModel",
      "state": {
       "children": [
        "IPY_MODEL_98ee70e3279f4d02a115ef0d6f33d80b",
        "IPY_MODEL_378154f9b9c640bb8c87c1b9685a212f"
       ],
       "layout": "IPY_MODEL_6bb1a90699524c79bd07c691389d6a92"
      }
     },
     "8b62a91a48174ebb8ff4a2e184ff5d88": {
      "model_module": "@jupyter-widgets/controls",
      "model_module_version": "2.0.0",
      "model_name": "RadioButtonsModel",
      "state": {
       "_options_labels": [
        "object detection",
        "segmentation"
       ],
       "description": "Select ML method:",
       "index": 1,
       "layout": "IPY_MODEL_3cd6dc82225541caa63c9bb2e8ee73c3",
       "style": "IPY_MODEL_6c8ef9f2b98942cd96c10e187477bf19"
      }
     },
     "8b72919163dd4775893a3031bf3e22d7": {
      "model_module": "@jupyter-widgets/controls",
      "model_module_version": "2.0.0",
      "model_name": "HBoxModel",
      "state": {
       "children": [
        "IPY_MODEL_7313cf0c457c45789e10ab6c80407c50",
        "IPY_MODEL_578f871b7ada4dbcb4a477444e9937a5"
       ],
       "layout": "IPY_MODEL_4f9658b12daa49f28c9437dbf4c7c727"
      }
     },
     "8b85482cd18a4d95aecf04860001b78c": {
      "model_module": "@jupyter-widgets/controls",
      "model_module_version": "2.0.0",
      "model_name": "LabelStyleModel",
      "state": {
       "description_width": "",
       "font_family": null,
       "font_size": null,
       "font_style": null,
       "font_variant": null,
       "font_weight": null,
       "text_color": null,
       "text_decoration": null
      }
     },
     "8b9bc6522cdd47ed8729726bda2d3d2d": {
      "model_module": "@jupyter-widgets/base",
      "model_module_version": "2.0.0",
      "model_name": "LayoutModel",
      "state": {}
     },
     "8bedbc5bccc14020ab6cd897d41ac6bd": {
      "model_module": "@jupyter-widgets/base",
      "model_module_version": "2.0.0",
      "model_name": "LayoutModel",
      "state": {}
     },
     "8c053702553543cbad13a85f43b51d8d": {
      "model_module": "@jupyter-widgets/controls",
      "model_module_version": "2.0.0",
      "model_name": "CheckboxStyleModel",
      "state": {
       "description_width": ""
      }
     },
     "8c31499618fe47b59ee05a75e02f42e2": {
      "model_module": "@jupyter-widgets/base",
      "model_module_version": "2.0.0",
      "model_name": "LayoutModel",
      "state": {}
     },
     "8c64c1922b6c4f439aef0f7e73b82142": {
      "model_module": "@jupyter-widgets/base",
      "model_module_version": "2.0.0",
      "model_name": "LayoutModel",
      "state": {
       "border_bottom": "1px solid black",
       "border_left": "1px solid black",
       "border_right": "1px solid black",
       "border_top": "1px solid black"
      }
     },
     "8c7e11ce995443c2b244f893cc9a6ca0": {
      "model_module": "@jupyter-widgets/base",
      "model_module_version": "2.0.0",
      "model_name": "LayoutModel",
      "state": {}
     },
     "8c9e91f8b7b54cbbbaa047e998b3d630": {
      "model_module": "@jupyter-widgets/base",
      "model_module_version": "2.0.0",
      "model_name": "LayoutModel",
      "state": {}
     },
     "8cb3b8f9c6c64cd487c1905e17905bc8": {
      "model_module": "@jupyter-widgets/controls",
      "model_module_version": "2.0.0",
      "model_name": "HTMLModel",
      "state": {
       "layout": "IPY_MODEL_c5d8828526c549f19acf34db287417bf",
       "style": "IPY_MODEL_ec68271169ce4a05a708df7fd60a30c7",
       "value": "<b>ML options:</b>"
      }
     },
     "8cc4a7b46f7a4899a432f5a2a2cf94eb": {
      "model_module": "@jupyter-widgets/controls",
      "model_module_version": "2.0.0",
      "model_name": "CheckboxStyleModel",
      "state": {
       "description_width": ""
      }
     },
     "8ccb5288acca4b0ebcc21cab761f4699": {
      "model_module": "@jupyter-widgets/controls",
      "model_module_version": "2.0.0",
      "model_name": "LabelStyleModel",
      "state": {
       "description_width": "",
       "font_family": null,
       "font_size": null,
       "font_style": null,
       "font_variant": null,
       "font_weight": null,
       "text_color": null,
       "text_decoration": null
      }
     },
     "8cd2ed71cba744feaec8a4985661f4b6": {
      "model_module": "@jupyter-widgets/base",
      "model_module_version": "2.0.0",
      "model_name": "LayoutModel",
      "state": {}
     },
     "8cffbb87470b40da884f2e3d9d606190": {
      "model_module": "@jupyter-widgets/controls",
      "model_module_version": "2.0.0",
      "model_name": "LabelStyleModel",
      "state": {
       "description_width": "",
       "font_family": null,
       "font_size": null,
       "font_style": null,
       "font_variant": null,
       "font_weight": null,
       "text_color": null,
       "text_decoration": null
      }
     },
     "8d266f2dc3df442aae54a29392dfd806": {
      "model_module": "@jupyter-widgets/controls",
      "model_module_version": "2.0.0",
      "model_name": "TextStyleModel",
      "state": {
       "description_width": "initial",
       "font_size": null,
       "text_color": null
      }
     },
     "8d50570796d84686b3f62759a429552e": {
      "model_module": "@jupyter-widgets/controls",
      "model_module_version": "2.0.0",
      "model_name": "CheckboxModel",
      "state": {
       "description": "Enclosure",
       "disabled": false,
       "indent": false,
       "layout": "IPY_MODEL_395dbf5830144972b9746d74252b29fe",
       "style": "IPY_MODEL_aced3955d6184f0b88909ba62d7de691",
       "value": true
      }
     },
     "8d5de7a2a86e476ba4ae70cc7c10d7a7": {
      "model_module": "@jupyter-widgets/base",
      "model_module_version": "2.0.0",
      "model_name": "LayoutModel",
      "state": {}
     },
     "8d64f39ead9549fbb4ea8b599a293c30": {
      "model_module": "@jupyter-widgets/base",
      "model_module_version": "2.0.0",
      "model_name": "LayoutModel",
      "state": {
       "width": "98%"
      }
     },
     "8d6a03fe8ea84fac9e1b52e286df5625": {
      "model_module": "@jupyter-widgets/controls",
      "model_module_version": "2.0.0",
      "model_name": "CheckboxStyleModel",
      "state": {
       "description_width": ""
      }
     },
     "8da9b405ba984a5489e4a6df78982ee7": {
      "model_module": "@jupyter-widgets/controls",
      "model_module_version": "2.0.0",
      "model_name": "HBoxModel",
      "state": {
       "children": [
        "IPY_MODEL_f85409cf3a944ffda8ba531611ea688c",
        "IPY_MODEL_c94f9feb2bc3410689d6a928ac9f1ad6"
       ],
       "layout": "IPY_MODEL_f999d4d094394f329a453de5e76c59ae"
      }
     },
     "8dcd5b3e67c84aebac6619bfbda548ad": {
      "model_module": "@jupyter-widgets/controls",
      "model_module_version": "2.0.0",
      "model_name": "CheckboxStyleModel",
      "state": {
       "description_width": ""
      }
     },
     "8e4ae383c4fa43b1b7659523b7b58e9a": {
      "model_module": "@jupyter-widgets/controls",
      "model_module_version": "2.0.0",
      "model_name": "HBoxModel",
      "state": {
       "children": [
        "IPY_MODEL_35acb747223c4091ad5683f947ae88a5",
        "IPY_MODEL_6f6770643c214ab9a2a3ce641ae5b0bc",
        "IPY_MODEL_a594df37bc03466bb5f2ecd6b8939031",
        "IPY_MODEL_60395b7c6bac4f59914e383410e1ccb1"
       ],
       "layout": "IPY_MODEL_3f2a8a7b03db481692a02f10a166cf5c"
      }
     },
     "8e8f2adc800b4ba89bfdfc095d4d8613": {
      "model_module": "@jupyter-widgets/base",
      "model_module_version": "2.0.0",
      "model_name": "LayoutModel",
      "state": {}
     },
     "8ea80d088dd040c3b35c74d23692982c": {
      "model_module": "@jupyter-widgets/base",
      "model_module_version": "2.0.0",
      "model_name": "LayoutModel",
      "state": {}
     },
     "8ebcece5154e4058b488761096109584": {
      "model_module": "@jupyter-widgets/output",
      "model_module_version": "1.0.0",
      "model_name": "OutputModel",
      "state": {
       "layout": "IPY_MODEL_8c7e11ce995443c2b244f893cc9a6ca0"
      }
     },
     "8f0155b7182c4747aad0dbdf9c67a22d": {
      "model_module": "@jupyter-widgets/controls",
      "model_module_version": "2.0.0",
      "model_name": "TextModel",
      "state": {
       "description": "Visualization path:",
       "disabled": true,
       "layout": "IPY_MODEL_0cd5abb60608498f87db0cc28800bf40",
       "placeholder": "<my_data_folder/my_visualization_file.tif>",
       "style": "IPY_MODEL_637e33471d084a64a7142da716b1c080"
      }
     },
     "8f45cbe19c704d109be1a3ecf243aba3": {
      "model_module": "@jupyter-widgets/controls",
      "model_module_version": "2.0.0",
      "model_name": "TextStyleModel",
      "state": {
       "description_width": "initial",
       "font_size": null,
       "text_color": null
      }
     },
     "8ff2ff1235644870b99bd66de35138d7": {
      "model_module": "@jupyter-widgets/base",
      "model_module_version": "2.0.0",
      "model_name": "LayoutModel",
      "state": {}
     },
     "8ffc02a1b9224f7eb4ace4b3405b6dcc": {
      "model_module": "@jupyter-widgets/base",
      "model_module_version": "2.0.0",
      "model_name": "LayoutModel",
      "state": {}
     },
     "902c10a0a4ab427999691e7665344bb3": {
      "model_module": "@jupyter-widgets/base",
      "model_module_version": "2.0.0",
      "model_name": "LayoutModel",
      "state": {}
     },
     "904b48ec54364e9c886f5e41787188fe": {
      "model_module": "@jupyter-widgets/base",
      "model_module_version": "2.0.0",
      "model_name": "LayoutModel",
      "state": {}
     },
     "904fd057858b4509b57a2ba93ea42be9": {
      "model_module": "@jupyter-widgets/base",
      "model_module_version": "2.0.0",
      "model_name": "LayoutModel",
      "state": {
       "flex": "grow"
      }
     },
     "906966855fa8476199bb461d69fbe711": {
      "model_module": "@jupyter-widgets/controls",
      "model_module_version": "2.0.0",
      "model_name": "TextModel",
      "state": {
       "description": "Visualization path:",
       "disabled": true,
       "layout": "IPY_MODEL_4e271f418294495db9afbcad02460d01",
       "placeholder": "<my_data_folder/my_visualization_file.tif>",
       "style": "IPY_MODEL_a01e937369ac4792aaad32ec05ac9d13"
      }
     },
     "908f3256f8884366b366f16424531a34": {
      "model_module": "@jupyter-widgets/controls",
      "model_module_version": "2.0.0",
      "model_name": "RadioButtonsModel",
      "state": {
       "_options_labels": [
        "ADAF model",
        "Custom model"
       ],
       "description": "Select ML model:",
       "index": 0,
       "layout": "IPY_MODEL_35b7c70cd673447eaad7ce1b54938644",
       "style": "IPY_MODEL_e8a1c667afbb49ada4f8af1795f4490f"
      }
     },
     "90a5bf55a363438386edef32d823e823": {
      "model_module": "@jupyter-widgets/base",
      "model_module_version": "2.0.0",
      "model_name": "LayoutModel",
      "state": {}
     },
     "90aaaa4d62554e7bbe3d0a5fb8e6aa30": {
      "model_module": "@jupyter-widgets/controls",
      "model_module_version": "2.0.0",
      "model_name": "HTMLStyleModel",
      "state": {
       "description_width": "",
       "font_size": null,
       "text_color": null
      }
     },
     "90adb66a039e4d5c8f638bdb179f4df2": {
      "model_module": "@jupyter-widgets/base",
      "model_module_version": "2.0.0",
      "model_name": "LayoutModel",
      "state": {}
     },
     "90b398c86f4c49bb9d5e5d04ddb8d732": {
      "model_module": "@jupyter-widgets/base",
      "model_module_version": "2.0.0",
      "model_name": "LayoutModel",
      "state": {}
     },
     "90ddd2f8f48a465ebc1ccd04d72d1303": {
      "model_module": "@jupyter-widgets/controls",
      "model_module_version": "2.0.0",
      "model_name": "HTMLModel",
      "state": {
       "layout": "IPY_MODEL_1f09a93f035d43ccaac30f9f3a05894b",
       "style": "IPY_MODEL_67967be23cbd47229abfab8fcd8bedac",
       "value": "<font color='black'>Select classes for inference:"
      }
     },
     "913418236c004419a374783255f6896c": {
      "model_module": "@jupyter-widgets/base",
      "model_module_version": "2.0.0",
      "model_name": "LayoutModel",
      "state": {}
     },
     "9142fa30cf3a4a92b2329768341db10e": {
      "model_module": "@jupyter-widgets/controls",
      "model_module_version": "2.0.0",
      "model_name": "CheckboxModel",
      "state": {
       "description": "Enclosure",
       "disabled": false,
       "indent": false,
       "layout": "IPY_MODEL_39dbb5e461664b35b462ee15112d7df5",
       "style": "IPY_MODEL_01b2d7bfa7f74526bc0a5ec87522c3d7",
       "value": true
      }
     },
     "91527290cef64e71b108b4ac8d746af3": {
      "model_module": "@jupyter-widgets/base",
      "model_module_version": "2.0.0",
      "model_name": "LayoutModel",
      "state": {}
     },
     "919bc0ff17fb452ebf219742ac9ec1ba": {
      "model_module": "@jupyter-widgets/controls",
      "model_module_version": "2.0.0",
      "model_name": "CheckboxStyleModel",
      "state": {
       "description_width": ""
      }
     },
     "91ceb07034894b5ca2b6c33e4857909e": {
      "model_module": "@jupyter-widgets/base",
      "model_module_version": "2.0.0",
      "model_name": "LayoutModel",
      "state": {}
     },
     "91f84d4e84ad4e049d3595ae2f83a759": {
      "model_module": "@jupyter-widgets/base",
      "model_module_version": "2.0.0",
      "model_name": "LayoutModel",
      "state": {}
     },
     "920f1136a6af4a8a8ad32f88815fc6cb": {
      "model_module": "@jupyter-widgets/base",
      "model_module_version": "2.0.0",
      "model_name": "LayoutModel",
      "state": {}
     },
     "9280bcf9e9624a54b73225519dc3dc7a": {
      "model_module": "@jupyter-widgets/base",
      "model_module_version": "2.0.0",
      "model_name": "LayoutModel",
      "state": {}
     },
     "92cbec75a86b42fa970444f00025a013": {
      "model_module": "@jupyter-widgets/controls",
      "model_module_version": "2.0.0",
      "model_name": "RadioButtonsModel",
      "state": {
       "_options_labels": [
        "DEM (*.tif / *.vrt)",
        "Visualization (*.tif / *.vrt)"
       ],
       "description": "Select input type:",
       "index": 1,
       "layout": "IPY_MODEL_79f0ce6754924a36aa7c78a995980108",
       "style": "IPY_MODEL_730f095e156a4ecc94175ee2e31e5648"
      }
     },
     "92d580b564994601be96cd0ade81428f": {
      "model_module": "@jupyter-widgets/controls",
      "model_module_version": "2.0.0",
      "model_name": "DescriptionStyleModel",
      "state": {
       "description_width": ""
      }
     },
     "92eeb7cb2b734ebfa913a36e419d868e": {
      "model_module": "@jupyter-widgets/controls",
      "model_module_version": "2.0.0",
      "model_name": "CheckboxModel",
      "state": {
       "description": "Enclosure",
       "disabled": false,
       "indent": false,
       "layout": "IPY_MODEL_deb546850d904f2ab8cd7e0c7f4e2312",
       "style": "IPY_MODEL_f6edf79fe20845c99dbb00f0962e7561",
       "value": true
      }
     },
     "9316c255b22244cda53254cea8b77347": {
      "model_module": "@jupyter-widgets/controls",
      "model_module_version": "2.0.0",
      "model_name": "CheckboxStyleModel",
      "state": {
       "description_width": ""
      }
     },
     "93253e35b1da4ec78d481b046824a253": {
      "model_module": "@jupyter-widgets/controls",
      "model_module_version": "2.0.0",
      "model_name": "HTMLModel",
      "state": {
       "layout": "IPY_MODEL_3af0c4a0d64b4760aa9427fdfa615872",
       "style": "IPY_MODEL_0ff537ac9a654f94b0d1b7e4f879f14d",
       "value": "<font color='grey'>Select classes for inference:"
      }
     },
     "932e5e87baea44959707d7df975babb6": {
      "model_module": "@jupyter-widgets/controls",
      "model_module_version": "2.0.0",
      "model_name": "TextStyleModel",
      "state": {
       "description_width": "initial",
       "font_size": null,
       "text_color": null
      }
     },
     "93449c37bea64b9fbe61517b4954fb5e": {
      "model_module": "@jupyter-widgets/base",
      "model_module_version": "2.0.0",
      "model_name": "LayoutModel",
      "state": {}
     },
     "93a84fd39b75403693a0cac2cca986c9": {
      "model_module": "@jupyter-widgets/controls",
      "model_module_version": "2.0.0",
      "model_name": "CheckboxStyleModel",
      "state": {
       "description_width": ""
      }
     },
     "93b14389a516451db4cdc144c64be1e6": {
      "model_module": "@jupyter-widgets/controls",
      "model_module_version": "2.0.0",
      "model_name": "DescriptionStyleModel",
      "state": {
       "description_width": ""
      }
     },
     "93b4e8f9305444159bf56ae780c895c6": {
      "model_module": "@jupyter-widgets/controls",
      "model_module_version": "2.0.0",
      "model_name": "RadioButtonsModel",
      "state": {
       "_options_labels": [
        "ADAF model",
        "Custom model"
       ],
       "description": "Select ML model:",
       "index": 0,
       "layout": "IPY_MODEL_f4f1bc26b4f44b1fbc7c72667d34d093",
       "style": "IPY_MODEL_152342f979d04e55b946c6e775fb6767"
      }
     },
     "93b9c63e73bb4487af0550a0f3aa4cd5": {
      "model_module": "@jupyter-widgets/controls",
      "model_module_version": "2.0.0",
      "model_name": "TextStyleModel",
      "state": {
       "description_width": "initial",
       "font_size": null,
       "text_color": null
      }
     },
     "93cc01c5c6ac40e5b0db4bf91df8612a": {
      "model_module": "@jupyter-widgets/controls",
      "model_module_version": "2.0.0",
      "model_name": "TextModel",
      "state": {
       "description": "Path to ML model [*.tar]:",
       "disabled": true,
       "layout": "IPY_MODEL_39b5e7ddd0ce4eadb79dc7c9cf59025f",
       "placeholder": "model_folder/saved_model.tar",
       "style": "IPY_MODEL_cd01eff07ee340ef8b4fe3169bd49093"
      }
     },
     "93f986f4af5647a0b9f142f8bbb8e63d": {
      "model_module": "@jupyter-widgets/base",
      "model_module_version": "2.0.0",
      "model_name": "LayoutModel",
      "state": {}
     },
     "9406cc6a3cc642f5892c6de8d6517d24": {
      "model_module": "@jupyter-widgets/base",
      "model_module_version": "2.0.0",
      "model_name": "LayoutModel",
      "state": {
       "width": "98%"
      }
     },
     "941c90f092a24419bd7b3a8ac808857e": {
      "model_module": "@jupyter-widgets/base",
      "model_module_version": "2.0.0",
      "model_name": "LayoutModel",
      "state": {
       "width": "98%"
      }
     },
     "941d388cc8f54df78fe914f3c0bd6d0c": {
      "model_module": "@jupyter-widgets/controls",
      "model_module_version": "2.0.0",
      "model_name": "CheckboxStyleModel",
      "state": {
       "description_width": ""
      }
     },
     "9422c0b23ee64a8dbc405c60299031ba": {
      "model_module": "@jupyter-widgets/controls",
      "model_module_version": "2.0.0",
      "model_name": "RadioButtonsModel",
      "state": {
       "_options_labels": [
        "object detection",
        "segmentation"
       ],
       "description": "Select ML method:",
       "index": 1,
       "layout": "IPY_MODEL_62bced3210ed4e4d84d1320c82811c36",
       "style": "IPY_MODEL_de48024295224bfda67d3baf30eb868b"
      }
     },
     "943961ab5cdb4efea9e9e082f106e291": {
      "model_module": "@jupyter-widgets/controls",
      "model_module_version": "2.0.0",
      "model_name": "DescriptionStyleModel",
      "state": {
       "description_width": ""
      }
     },
     "943bbfc13fef4f68bd5692c5eeb2902e": {
      "model_module": "@jupyter-widgets/controls",
      "model_module_version": "2.0.0",
      "model_name": "HTMLStyleModel",
      "state": {
       "description_width": "",
       "font_size": null,
       "text_color": null
      }
     },
     "94887152f0e1453095100e013ae27001": {
      "model_module": "@jupyter-widgets/controls",
      "model_module_version": "2.0.0",
      "model_name": "RadioButtonsModel",
      "state": {
       "_options_labels": [
        "object detection",
        "segmentation"
       ],
       "description": "Select ML method:",
       "index": 1,
       "layout": "IPY_MODEL_6eaac0f6371b42fcbb08881b20c6626b",
       "style": "IPY_MODEL_e2cd410c16d94b11be3610ae2b21cbf1"
      }
     },
     "94a3c43dab094bf7a63d8dadcddf7c4d": {
      "model_module": "@jupyter-widgets/base",
      "model_module_version": "2.0.0",
      "model_name": "LayoutModel",
      "state": {}
     },
     "94c5c5b1067c48fba43ef12d7b136ddb": {
      "model_module": "@jupyter-widgets/base",
      "model_module_version": "2.0.0",
      "model_name": "LayoutModel",
      "state": {}
     },
     "94cc540de42d4091bff1b9790f9d186f": {
      "model_module": "@jupyter-widgets/controls",
      "model_module_version": "2.0.0",
      "model_name": "CheckboxModel",
      "state": {
       "description": "All archaeology",
       "disabled": false,
       "indent": false,
       "layout": "IPY_MODEL_c7560567576646e190876318c2ca5c32",
       "style": "IPY_MODEL_0e758234aeb4435680fc4e55902e25df",
       "value": false
      }
     },
     "94d2758957e54f6ebccd2776551bc44c": {
      "model_module": "@jupyter-widgets/controls",
      "model_module_version": "2.0.0",
      "model_name": "VBoxModel",
      "state": {
       "children": [
        "IPY_MODEL_7bc57bca393645018bf9d478d3683af0",
        "IPY_MODEL_b0031a5ff1fe4d23b80e4c29d1ca48ba",
        "IPY_MODEL_1225f54627f94831ace4bd8b7743c5f9"
       ],
       "layout": "IPY_MODEL_0f8af4b7e4e9427a96ab903c8cc9ea32"
      }
     },
     "94d8b6cbf99a4839aeedd6114e6f9bf0": {
      "model_module": "@jupyter-widgets/base",
      "model_module_version": "2.0.0",
      "model_name": "LayoutModel",
      "state": {}
     },
     "94eee115fd3e42a484c8ad5f3972c75f": {
      "model_module": "@jupyter-widgets/controls",
      "model_module_version": "2.0.0",
      "model_name": "VBoxModel",
      "state": {
       "children": [
        "IPY_MODEL_17d4cb9442534943bb1c5847e497d3d3",
        "IPY_MODEL_bf5bd77d9d914407a3195b0f847f59b0",
        "IPY_MODEL_d3c72ea540b34c488c350aba90fa980c",
        "IPY_MODEL_d15a933bccb1487a9a943900b33e50c9"
       ],
       "layout": "IPY_MODEL_4d186277926f45d495e04c157c8b9d9c"
      }
     },
     "94f2223485dc4f5ba3049d9a93accb49": {
      "model_module": "@jupyter-widgets/controls",
      "model_module_version": "2.0.0",
      "model_name": "DescriptionStyleModel",
      "state": {
       "description_width": ""
      }
     },
     "951ca456b7334156b0dc97595c781fd8": {
      "model_module": "@jupyter-widgets/base",
      "model_module_version": "2.0.0",
      "model_name": "LayoutModel",
      "state": {}
     },
     "951eaa1c84b34658bed72d09e33021e5": {
      "model_module": "@jupyter-widgets/output",
      "model_module_version": "1.0.0",
      "model_name": "OutputModel",
      "state": {
       "layout": "IPY_MODEL_a84a39663e2b4702878f61cea394a637",
       "outputs": [
        {
         "name": "stdout",
         "output_type": "stream",
         "text": "{'name': 'index', 'old': 1, 'new': 0, 'owner': RadioButtons(description='Select input type:', options=('DEM (*.tif / *.vrt)', 'Visualization (*.tif / *.vrt)'), value='DEM (*.tif / *.vrt)'), 'type': 'change'}\n"
        }
       ]
      }
     },
     "95267b5cb00d4a3f92746b9e5cb93358": {
      "model_module": "@jupyter-widgets/controls",
      "model_module_version": "2.0.0",
      "model_name": "TextModel",
      "state": {
       "description": "DEM path [*.tif / *.vrt]:",
       "layout": "IPY_MODEL_06c784a2f99a43879e8af3b5cda90eab",
       "placeholder": "data_folder/file.tif",
       "style": "IPY_MODEL_98195b99f04841fcae71f525249e05b2"
      }
     },
     "957576311b0046c688118c2d56d3e7dc": {
      "model_module": "@jupyter-widgets/base",
      "model_module_version": "2.0.0",
      "model_name": "LayoutModel",
      "state": {}
     },
     "9578156dea3247ae9417a3ee31d017b6": {
      "model_module": "@jupyter-widgets/base",
      "model_module_version": "2.0.0",
      "model_name": "LayoutModel",
      "state": {}
     },
     "957e7e4da3294ef19c57f07d927fe3f1": {
      "model_module": "@jupyter-widgets/controls",
      "model_module_version": "2.0.0",
      "model_name": "CheckboxModel",
      "state": {
       "description": "All archaeology",
       "disabled": false,
       "indent": false,
       "layout": "IPY_MODEL_d3547ac3d81241c1b848e69d0626adc4",
       "style": "IPY_MODEL_294740446a704bd3b6359281d10621fc",
       "value": false
      }
     },
     "9597290150e5403bb289291a1e08fde3": {
      "model_module": "@jupyter-widgets/controls",
      "model_module_version": "2.0.0",
      "model_name": "RadioButtonsModel",
      "state": {
       "_options_labels": [
        "DEM (*.tif / *.vrt)",
        "Visualization (*.tif / *.vrt)"
       ],
       "description": "Select input type:",
       "index": 1,
       "layout": "IPY_MODEL_0f01629996224016ba1adb7dd8733137",
       "style": "IPY_MODEL_35c7d0060b4d41f398c010f45a2375ec"
      }
     },
     "95a90605b1304219b6edf81245518664": {
      "model_module": "@jupyter-widgets/controls",
      "model_module_version": "2.0.0",
      "model_name": "TextStyleModel",
      "state": {
       "description_width": "initial",
       "font_size": null,
       "text_color": null
      }
     },
     "95b1b2f15d6547a2a2c8e216699cf426": {
      "model_module": "@jupyter-widgets/output",
      "model_module_version": "1.0.0",
      "model_name": "OutputModel",
      "state": {
       "layout": "IPY_MODEL_7ff8a70b9eea47eba4593bb890c6d390",
       "outputs": [
        {
         "ename": "AttributeError",
         "evalue": "module 'ipywidgets.widgets' has no attribute 'label'",
         "output_type": "error",
         "traceback": [
          "\u001b[1;31m---------------------------------------------------------------------------\u001b[0m",
          "\u001b[1;31mAttributeError\u001b[0m                            Traceback (most recent call last)",
          "\u001b[1;32m~\\AppData\\Local\\Temp\\ipykernel_15392\\1807809713.py\u001b[0m in \u001b[0;36mml_method_handler\u001b[1;34m(value)\u001b[0m\n\u001b[0;32m     68\u001b[0m         \u001b[0mcl\u001b[0m\u001b[1;33m.\u001b[0m\u001b[0mclear_output\u001b[0m\u001b[1;33m(\u001b[0m\u001b[1;33m)\u001b[0m\u001b[1;33m\u001b[0m\u001b[1;33m\u001b[0m\u001b[0m\n\u001b[0;32m     69\u001b[0m         \u001b[1;32mwith\u001b[0m \u001b[0mcl\u001b[0m\u001b[1;33m:\u001b[0m\u001b[1;33m\u001b[0m\u001b[1;33m\u001b[0m\u001b[0m\n\u001b[1;32m---> 70\u001b[1;33m             \u001b[0mdisplay\u001b[0m\u001b[1;33m(\u001b[0m\u001b[0mwidgets\u001b[0m\u001b[1;33m.\u001b[0m\u001b[0mlabel\u001b[0m\u001b[1;33m(\u001b[0m\u001b[1;34m\"Select classes for inference:\"\u001b[0m\u001b[1;33m)\u001b[0m\u001b[1;33m)\u001b[0m\u001b[1;33m\u001b[0m\u001b[1;33m\u001b[0m\u001b[0m\n\u001b[0m\u001b[0;32m     71\u001b[0m     \u001b[1;32melif\u001b[0m \u001b[0mvalue\u001b[0m\u001b[1;33m.\u001b[0m\u001b[0mnew\u001b[0m \u001b[1;33m==\u001b[0m \u001b[1;36m1\u001b[0m\u001b[1;33m:\u001b[0m\u001b[1;33m\u001b[0m\u001b[1;33m\u001b[0m\u001b[0m\n\u001b[0;32m     72\u001b[0m         \u001b[0mclass_barrow\u001b[0m\u001b[1;33m.\u001b[0m\u001b[0mdisabled\u001b[0m \u001b[1;33m=\u001b[0m \u001b[1;32mTrue\u001b[0m\u001b[1;33m\u001b[0m\u001b[1;33m\u001b[0m\u001b[0m\n",
          "\u001b[1;31mAttributeError\u001b[0m: module 'ipywidgets.widgets' has no attribute 'label'"
         ]
        }
       ]
      }
     },
     "95c74e4829d34d1f9c3c0b690996a469": {
      "model_module": "@jupyter-widgets/base",
      "model_module_version": "2.0.0",
      "model_name": "LayoutModel",
      "state": {}
     },
     "95f1dcb9f1c7402a97b228cf7af171f1": {
      "model_module": "@jupyter-widgets/base",
      "model_module_version": "2.0.0",
      "model_name": "LayoutModel",
      "state": {}
     },
     "960b4a97d9e7442197d4509815177d9b": {
      "model_module": "@jupyter-widgets/base",
      "model_module_version": "2.0.0",
      "model_name": "LayoutModel",
      "state": {}
     },
     "964368321c934126b1c823587de7c661": {
      "model_module": "@jupyter-widgets/controls",
      "model_module_version": "2.0.0",
      "model_name": "CheckboxModel",
      "state": {
       "description": "Ringfort",
       "disabled": false,
       "indent": false,
       "layout": "IPY_MODEL_6881d5c5216c4c438b352d00c05d9ba6",
       "style": "IPY_MODEL_919bc0ff17fb452ebf219742ac9ec1ba",
       "value": true
      }
     },
     "9653b533f05d4a0d96673b239af56ff6": {
      "model_module": "@jupyter-widgets/controls",
      "model_module_version": "2.0.0",
      "model_name": "LabelStyleModel",
      "state": {
       "description_width": "",
       "font_family": null,
       "font_size": null,
       "font_style": null,
       "font_variant": null,
       "font_weight": null,
       "text_color": null,
       "text_decoration": null
      }
     },
     "96706cbca39548adbc3b25ad15d97252": {
      "model_module": "@jupyter-widgets/base",
      "model_module_version": "2.0.0",
      "model_name": "LayoutModel",
      "state": {}
     },
     "969c2984b58c491996f0c3f308468b65": {
      "model_module": "@jupyter-widgets/controls",
      "model_module_version": "2.0.0",
      "model_name": "RadioButtonsModel",
      "state": {
       "_options_labels": [
        "object detection",
        "segmentation"
       ],
       "description": "Select ML method:",
       "index": 1,
       "layout": "IPY_MODEL_4b9f9a32e5cd4317881daef5fa70c326",
       "style": "IPY_MODEL_6963e93d67bb4eb6b934b4d4fe854ae2"
      }
     },
     "96a2b9855d6a4132970cc24dcec47832": {
      "model_module": "@jupyter-widgets/base",
      "model_module_version": "2.0.0",
      "model_name": "LayoutModel",
      "state": {}
     },
     "96b90b4603bf40dc9ad6d7c2f4930b4f": {
      "model_module": "@jupyter-widgets/base",
      "model_module_version": "2.0.0",
      "model_name": "LayoutModel",
      "state": {}
     },
     "96c26a2da1714365a63a032a85e0771f": {
      "model_module": "@jupyter-widgets/base",
      "model_module_version": "2.0.0",
      "model_name": "LayoutModel",
      "state": {
       "width": "98%"
      }
     },
     "972dec6753b74cd2b959e4512db9eddf": {
      "model_module": "@jupyter-widgets/controls",
      "model_module_version": "2.0.0",
      "model_name": "RadioButtonsModel",
      "state": {
       "_options_labels": [
        "DEM (*.tif / *.vrt)",
        "Visualization (*.tif / *.vrt)"
       ],
       "description": "Select input type:",
       "index": 1,
       "layout": "IPY_MODEL_ac9aad4f9d7a4187afcd692120696fbf",
       "style": "IPY_MODEL_dcef62b6699548d2a165efd948a230f7"
      }
     },
     "97819dcbfd9d4abd9693a85c51d0561b": {
      "model_module": "@jupyter-widgets/controls",
      "model_module_version": "2.0.0",
      "model_name": "CheckboxModel",
      "state": {
       "description": "Ringfort",
       "disabled": false,
       "indent": false,
       "layout": "IPY_MODEL_80a0b80c3acd4c2eafc16ac9dc8f58fe",
       "style": "IPY_MODEL_39f59fb1adb04def80ef0d06d49c2fc9",
       "value": true
      }
     },
     "978eba85dfcf46648f465d5ae7fe3e0b": {
      "model_module": "@jupyter-widgets/base",
      "model_module_version": "2.0.0",
      "model_name": "LayoutModel",
      "state": {}
     },
     "97b08fb3b41047008e0a7e11d159cdde": {
      "model_module": "@jupyter-widgets/base",
      "model_module_version": "2.0.0",
      "model_name": "LayoutModel",
      "state": {}
     },
     "9815f117b87645e39549c0a58a427d30": {
      "model_module": "@jupyter-widgets/controls",
      "model_module_version": "2.0.0",
      "model_name": "RadioButtonsModel",
      "state": {
       "_options_labels": [
        "DEM (*.tif / *.vrt)",
        "Visualization (*.tif / *.vrt)"
       ],
       "description": "Select input type:",
       "index": 0,
       "layout": "IPY_MODEL_7ba823e82b8d4bf6b61bd48f5c2e8c7c",
       "style": "IPY_MODEL_0899471a4e26407a92028a566bd76008"
      }
     },
     "98195b99f04841fcae71f525249e05b2": {
      "model_module": "@jupyter-widgets/controls",
      "model_module_version": "2.0.0",
      "model_name": "TextStyleModel",
      "state": {
       "description_width": "initial",
       "font_size": null,
       "text_color": null
      }
     },
     "9898b525f1c74498a110b2af4fb543e0": {
      "model_module": "@jupyter-widgets/controls",
      "model_module_version": "2.0.0",
      "model_name": "HBoxModel",
      "state": {
       "children": [
        "IPY_MODEL_bb480fda72bf40be8fd9289e02f81c80",
        "IPY_MODEL_c0654376a941401d8b94893e8062dcfc"
       ],
       "layout": "IPY_MODEL_187ae584101e4ce69e0920578e1becd2"
      }
     },
     "98ee70e3279f4d02a115ef0d6f33d80b": {
      "model_module": "@jupyter-widgets/controls",
      "model_module_version": "2.0.0",
      "model_name": "RadioButtonsModel",
      "state": {
       "_options_labels": [
        "DEM (*.tif / *.vrt)",
        "Visualization (*.tif / *.vrt)"
       ],
       "description": "Select input type:",
       "index": 1,
       "layout": "IPY_MODEL_ad341e7589654d04a414de5254d3ffad",
       "style": "IPY_MODEL_92d580b564994601be96cd0ade81428f"
      }
     },
     "99183cef77a744939134d200d8aabb09": {
      "model_module": "@jupyter-widgets/controls",
      "model_module_version": "2.0.0",
      "model_name": "HTMLModel",
      "state": {
       "layout": "IPY_MODEL_97b08fb3b41047008e0a7e11d159cdde",
       "style": "IPY_MODEL_35d94ae51381409988d186aa226b4d94",
       "value": "<font color='black'>Select classes for inference:"
      }
     },
     "9951589384e644a9a051f6cb829d8bf0": {
      "model_module": "@jupyter-widgets/controls",
      "model_module_version": "2.0.0",
      "model_name": "CheckboxModel",
      "state": {
       "description": "Batch processing",
       "disabled": false,
       "indent": false,
       "layout": "IPY_MODEL_30f429a9e81c482e8fd18fb168a88f97",
       "style": "IPY_MODEL_0290210b1d0145c99684690a7cb96e95",
       "value": true
      }
     },
     "9951970d0d224806a779ae4fd63bcae2": {
      "model_module": "@jupyter-widgets/controls",
      "model_module_version": "2.0.0",
      "model_name": "VBoxModel",
      "state": {
       "children": [
        "IPY_MODEL_353b0475329a4ca1834d0a20e71002f4",
        "IPY_MODEL_32b68521233f4105b63f550741c7f7b3",
        "IPY_MODEL_59d560f8be6f4813a6d5eaf9b899ef42",
        "IPY_MODEL_4a6a2161654e400daff58eb4b2272f02"
       ],
       "layout": "IPY_MODEL_45da19d5f16d4bb5b9556b1ab8ba0d00"
      }
     },
     "99bef9ca65954764a42b7439b4c6eb78": {
      "model_module": "@jupyter-widgets/controls",
      "model_module_version": "2.0.0",
      "model_name": "TextStyleModel",
      "state": {
       "description_width": "initial",
       "font_size": null,
       "text_color": null
      }
     },
     "9a410a4baa1a4c32a799b1c4c2d6f389": {
      "model_module": "@jupyter-widgets/controls",
      "model_module_version": "2.0.0",
      "model_name": "TextModel",
      "state": {
       "description": "Path to ML model [*.tar]:",
       "layout": "IPY_MODEL_8d64f39ead9549fbb4ea8b599a293c30",
       "placeholder": "model_folder/saved_model.tar",
       "style": "IPY_MODEL_95a90605b1304219b6edf81245518664"
      }
     },
     "9a546f56c8f3452da56e1a5e652c38d4": {
      "model_module": "@jupyter-widgets/output",
      "model_module_version": "1.0.0",
      "model_name": "OutputModel",
      "state": {
       "layout": "IPY_MODEL_6d555baa35be40798b91b7cfc2903544"
      }
     },
     "9a558165fd7943b1aac9fab17d5ca355": {
      "model_module": "@jupyter-widgets/controls",
      "model_module_version": "2.0.0",
      "model_name": "LabelStyleModel",
      "state": {
       "description_width": "",
       "font_family": null,
       "font_size": null,
       "font_style": null,
       "font_variant": null,
       "font_weight": null,
       "text_color": null,
       "text_decoration": null
      }
     },
     "9a55fc2e04b74e238f3f8924329c1b93": {
      "model_module": "@jupyter-widgets/base",
      "model_module_version": "2.0.0",
      "model_name": "LayoutModel",
      "state": {
       "width": "98%"
      }
     },
     "9acf419e7ec7444ca140d8d4a7056345": {
      "model_module": "@jupyter-widgets/controls",
      "model_module_version": "2.0.0",
      "model_name": "TextStyleModel",
      "state": {
       "description_width": "initial",
       "font_size": null,
       "text_color": null
      }
     },
     "9ae13c1801944e4abc1840c89473bb8d": {
      "model_module": "@jupyter-widgets/base",
      "model_module_version": "2.0.0",
      "model_name": "LayoutModel",
      "state": {}
     },
     "9b4df1513d9a4d108da3d12d2c986751": {
      "model_module": "@jupyter-widgets/controls",
      "model_module_version": "2.0.0",
      "model_name": "CheckboxStyleModel",
      "state": {
       "description_width": ""
      }
     },
     "9b50ba62b0214f3989907c7215dfb737": {
      "model_module": "@jupyter-widgets/base",
      "model_module_version": "2.0.0",
      "model_name": "LayoutModel",
      "state": {}
     },
     "9bae4b7228f64d70a136127b7165a4dd": {
      "model_module": "@jupyter-widgets/controls",
      "model_module_version": "2.0.0",
      "model_name": "TextStyleModel",
      "state": {
       "description_width": "initial",
       "font_size": null,
       "text_color": null
      }
     },
     "9bf580c5565045c7860effb2ae20d07e": {
      "model_module": "@jupyter-widgets/controls",
      "model_module_version": "2.0.0",
      "model_name": "TextStyleModel",
      "state": {
       "description_width": "",
       "font_size": null,
       "text_color": null
      }
     },
     "9c2ee788c09d4aefabeea04b341271e3": {
      "model_module": "@jupyter-widgets/base",
      "model_module_version": "2.0.0",
      "model_name": "LayoutModel",
      "state": {}
     },
     "9c60461215444392971ccf7fe4a136df": {
      "model_module": "@jupyter-widgets/controls",
      "model_module_version": "2.0.0",
      "model_name": "CheckboxStyleModel",
      "state": {
       "description_width": ""
      }
     },
     "9c758d820f9047dea64939cf6efa125d": {
      "model_module": "@jupyter-widgets/base",
      "model_module_version": "2.0.0",
      "model_name": "LayoutModel",
      "state": {}
     },
     "9c8b0b41135d483d8d7ce0cb6b63b049": {
      "model_module": "@jupyter-widgets/controls",
      "model_module_version": "2.0.0",
      "model_name": "TextStyleModel",
      "state": {
       "description_width": "",
       "font_size": null,
       "text_color": null
      }
     },
     "9ca6c3102e3c4138b1ede62ca6e573f4": {
      "model_module": "@jupyter-widgets/base",
      "model_module_version": "2.0.0",
      "model_name": "LayoutModel",
      "state": {}
     },
     "9cbe66a60aba49fdb00dcb24b3501720": {
      "model_module": "@jupyter-widgets/base",
      "model_module_version": "2.0.0",
      "model_name": "LayoutModel",
      "state": {}
     },
     "9ccc7f8bfce142c99be2e0257555a631": {
      "model_module": "@jupyter-widgets/controls",
      "model_module_version": "2.0.0",
      "model_name": "CheckboxModel",
      "state": {
       "description": "Ringfort",
       "disabled": false,
       "indent": false,
       "layout": "IPY_MODEL_143981f8266543b9955ea615dc34f13e",
       "style": "IPY_MODEL_d9df1e07e3d34a669ea9222ab1b7665f",
       "value": true
      }
     },
     "9cf76ca3ba5943998fd3794210ee35ca": {
      "model_module": "@jupyter-widgets/controls",
      "model_module_version": "2.0.0",
      "model_name": "VBoxModel",
      "state": {
       "_dom_classes": [
        "widget-interact"
       ],
       "children": [
        "IPY_MODEL_46fd485a7de1452ab470087e1f029869",
        "IPY_MODEL_d0ae449018b24ceba9640b09c0b7e5ba"
       ],
       "layout": "IPY_MODEL_e9d8eb1baf1e40dab236a1b5ffa58732"
      }
     },
     "9d152c935c8e4e009c155f4d42aa6a3a": {
      "model_module": "@jupyter-widgets/output",
      "model_module_version": "1.0.0",
      "model_name": "OutputModel",
      "state": {
       "layout": "IPY_MODEL_15ae2e6842324b3a9bcca3bf5f1b63ce",
       "outputs": [
        {
         "name": "stdout",
         "output_type": "stream",
         "text": "0\n"
        }
       ]
      }
     },
     "9d5852a694a141be9e3c0b53c4071ad4": {
      "model_module": "@jupyter-widgets/controls",
      "model_module_version": "2.0.0",
      "model_name": "CheckboxStyleModel",
      "state": {
       "description_width": ""
      }
     },
     "9d81562e77e440ab8cb34066b218710f": {
      "model_module": "@jupyter-widgets/base",
      "model_module_version": "2.0.0",
      "model_name": "LayoutModel",
      "state": {}
     },
     "9da74d9618354f5ea7c4727cd969f050": {
      "model_module": "@jupyter-widgets/controls",
      "model_module_version": "2.0.0",
      "model_name": "DescriptionStyleModel",
      "state": {
       "description_width": ""
      }
     },
     "9e05717fde0f443283c8da650f51df54": {
      "model_module": "@jupyter-widgets/controls",
      "model_module_version": "2.0.0",
      "model_name": "CheckboxModel",
      "state": {
       "description": "Batch processing",
       "disabled": false,
       "indent": false,
       "layout": "IPY_MODEL_95c74e4829d34d1f9c3c0b690996a469",
       "style": "IPY_MODEL_e231cea3e392408fa12f808ddfd7e7b9",
       "value": false
      }
     },
     "9e070fa4dd40434f97a74b3f5c181a85": {
      "model_module": "@jupyter-widgets/controls",
      "model_module_version": "2.0.0",
      "model_name": "TextModel",
      "state": {
       "layout": "IPY_MODEL_8b11beccaf5a4d938374eca5a8258992",
       "style": "IPY_MODEL_749e5090690242958d86b1382acf67c2"
      }
     },
     "9e2ea8c327504cc187b2fa8f9f5dbc8e": {
      "model_module": "@jupyter-widgets/base",
      "model_module_version": "2.0.0",
      "model_name": "LayoutModel",
      "state": {
       "width": "98%"
      }
     },
     "9e332bb0d8c64a8192e358ccdb627bd0": {
      "model_module": "@jupyter-widgets/output",
      "model_module_version": "1.0.0",
      "model_name": "OutputModel",
      "state": {
       "layout": "IPY_MODEL_ed38ba71acc0445f89e01e41379afd89",
       "outputs": [
        {
         "name": "stdout",
         "output_type": "stream",
         "text": "{'name': '_property_lock', 'old': {'value': True}, 'new': {}, 'owner': Checkbox(value=True, description='Batch processing', indent=False), 'type': 'change'}\n"
        }
       ]
      }
     },
     "9e69add4625248918c76f6c982675dfd": {
      "model_module": "@jupyter-widgets/controls",
      "model_module_version": "2.0.0",
      "model_name": "TextStyleModel",
      "state": {
       "description_width": "initial",
       "font_size": null,
       "text_color": null
      }
     },
     "9e8bd76713764451b3129f824ebcc6cb": {
      "model_module": "@jupyter-widgets/base",
      "model_module_version": "2.0.0",
      "model_name": "LayoutModel",
      "state": {
       "width": "98%"
      }
     },
     "9e9000d66320405ba297027b8b968f24": {
      "model_module": "@jupyter-widgets/controls",
      "model_module_version": "2.0.0",
      "model_name": "HTMLModel",
      "state": {
       "layout": "IPY_MODEL_70ff1c770e554c81928542b6649c9202",
       "style": "IPY_MODEL_716f7d2b45dd44839f2c60b7906c6259",
       "value": "<b>ML options:</b>"
      }
     },
     "9eb07c6c1fea411db5911d9b23e8c5a6": {
      "model_module": "@jupyter-widgets/base",
      "model_module_version": "2.0.0",
      "model_name": "LayoutModel",
      "state": {}
     },
     "9ed9a25219684877afd6ccc1c2499111": {
      "model_module": "@jupyter-widgets/controls",
      "model_module_version": "2.0.0",
      "model_name": "HTMLModel",
      "state": {
       "layout": "IPY_MODEL_bf69b7f48645477a96f9ffa83c01c5c7",
       "style": "IPY_MODEL_f4a2ebc326604ade930f4cd72b55e382",
       "value": "<b>ML options:</b>"
      }
     },
     "9edaa40c736044a8a5f77e56098ec763": {
      "model_module": "@jupyter-widgets/base",
      "model_module_version": "2.0.0",
      "model_name": "LayoutModel",
      "state": {}
     },
     "9ee16eb0d24e4ebb94b71b6f51003669": {
      "model_module": "@jupyter-widgets/base",
      "model_module_version": "2.0.0",
      "model_name": "LayoutModel",
      "state": {}
     },
     "9f00b01bd7a6478cb7051e20cee1c216": {
      "model_module": "@jupyter-widgets/controls",
      "model_module_version": "2.0.0",
      "model_name": "CheckboxModel",
      "state": {
       "description": "Batch processing",
       "disabled": false,
       "indent": false,
       "layout": "IPY_MODEL_4f4687f1487f4e5da3b9c77fb07789a3",
       "style": "IPY_MODEL_bcd661fd611d48aca72d3859917414bd",
       "value": false
      }
     },
     "9f137876285a47d49283b2ab8c10cd56": {
      "model_module": "@jupyter-widgets/base",
      "model_module_version": "2.0.0",
      "model_name": "LayoutModel",
      "state": {
       "border_bottom": "1px solid black",
       "border_left": "1px solid black",
       "border_right": "1px solid black",
       "border_top": "1px solid black"
      }
     },
     "9f1cee2e6a274e5e802404fa415a15a7": {
      "model_module": "@jupyter-widgets/controls",
      "model_module_version": "2.0.0",
      "model_name": "HBoxModel",
      "state": {
       "children": [
        "IPY_MODEL_d52e8e0ff3b24bd9a183c928d483d448",
        "IPY_MODEL_bd5853988c7e45d5843fe91e6002b13e"
       ],
       "layout": "IPY_MODEL_dd9a65422b434ba6979c677b84eb1c4a"
      }
     },
     "9f467c2451934817a1e699816cedcc6f": {
      "model_module": "@jupyter-widgets/controls",
      "model_module_version": "2.0.0",
      "model_name": "HTMLStyleModel",
      "state": {
       "description_width": "",
       "font_size": null,
       "text_color": null
      }
     },
     "9f4c1b3325524d5f9bc636501e4f61a1": {
      "model_module": "@jupyter-widgets/controls",
      "model_module_version": "2.0.0",
      "model_name": "CheckboxStyleModel",
      "state": {
       "description_width": ""
      }
     },
     "9f5efd324da0465ea4dfa79caffebf1e": {
      "model_module": "@jupyter-widgets/base",
      "model_module_version": "2.0.0",
      "model_name": "LayoutModel",
      "state": {}
     },
     "9fc4e0b27e33415ab3fb960504ada662": {
      "model_module": "@jupyter-widgets/controls",
      "model_module_version": "2.0.0",
      "model_name": "DescriptionStyleModel",
      "state": {
       "description_width": ""
      }
     },
     "9fe21fdc99af427bba9ef1b39877da8a": {
      "model_module": "@jupyter-widgets/controls",
      "model_module_version": "2.0.0",
      "model_name": "DescriptionStyleModel",
      "state": {
       "description_width": ""
      }
     },
     "9ff95069d1a44a7392b7669f6c93501d": {
      "model_module": "@jupyter-widgets/controls",
      "model_module_version": "2.0.0",
      "model_name": "TextModel",
      "state": {
       "description": "Visualization path:",
       "disabled": true,
       "layout": "IPY_MODEL_a6ab5654ed2546bfb420acb95aacd89a",
       "placeholder": "<my_data_folder/my_visualization_file.tif>",
       "style": "IPY_MODEL_4b87337a09bd4dd1aef49e21b79bf19e"
      }
     },
     "a00e7be2deb24a908f79e974ab07974e": {
      "model_module": "@jupyter-widgets/base",
      "model_module_version": "2.0.0",
      "model_name": "LayoutModel",
      "state": {}
     },
     "a01e937369ac4792aaad32ec05ac9d13": {
      "model_module": "@jupyter-widgets/controls",
      "model_module_version": "2.0.0",
      "model_name": "TextStyleModel",
      "state": {
       "description_width": "initial",
       "font_size": null,
       "text_color": null
      }
     },
     "a03156da30d54353b26471d4ac6528b8": {
      "model_module": "@jupyter-widgets/controls",
      "model_module_version": "2.0.0",
      "model_name": "DescriptionStyleModel",
      "state": {
       "description_width": ""
      }
     },
     "a05a709fbb6b45bd95ac27a8fd8fddc0": {
      "model_module": "@jupyter-widgets/controls",
      "model_module_version": "2.0.0",
      "model_name": "TextStyleModel",
      "state": {
       "description_width": "initial",
       "font_size": null,
       "text_color": null
      }
     },
     "a05d9afdbab94379a638a64181322717": {
      "model_module": "@jupyter-widgets/controls",
      "model_module_version": "2.0.0",
      "model_name": "LabelModel",
      "state": {
       "layout": "IPY_MODEL_23dfc26f90f84752b5f18c88a6bef9c6",
       "style": "IPY_MODEL_3ef2e557a7ce4f6cbb0976779d90e9b3",
       "value": "Select classes for inference:"
      }
     },
     "a07e886396b04c38955f886a616af807": {
      "model_module": "@jupyter-widgets/controls",
      "model_module_version": "2.0.0",
      "model_name": "CheckboxModel",
      "state": {
       "description": "Batch processing",
       "disabled": false,
       "indent": false,
       "layout": "IPY_MODEL_8710473a16314ed584781861a9747cad",
       "style": "IPY_MODEL_62ad4810dd5c4e18af8d97c437f16526",
       "value": false
      }
     },
     "a0cf74a691c54136b4b05d1e2de25b1e": {
      "model_module": "@jupyter-widgets/controls",
      "model_module_version": "2.0.0",
      "model_name": "HBoxModel",
      "state": {
       "children": [
        "IPY_MODEL_e01332e3a08345a382728c8d93e7c8ee",
        "IPY_MODEL_93b4e8f9305444159bf56ae780c895c6"
       ],
       "layout": "IPY_MODEL_3fb18b7bbe3e4689ae0bade6b2cc7059"
      }
     },
     "a102ca5e99fb4e5bb81a519317957685": {
      "model_module": "@jupyter-widgets/controls",
      "model_module_version": "2.0.0",
      "model_name": "HBoxModel",
      "state": {
       "children": [
        "IPY_MODEL_4f325ba7d64f4c4aa3131748e36cb603",
        "IPY_MODEL_964368321c934126b1c823587de7c661",
        "IPY_MODEL_a46c6551191f466691f998fd7e23de40",
        "IPY_MODEL_4c50c89031c44a8aba973854c9e1f1a7"
       ],
       "layout": "IPY_MODEL_0fa4a4a19d1749de8b717cd229a8836d"
      }
     },
     "a11e2f6de6be4f00b3902e9d546bc483": {
      "model_module": "@jupyter-widgets/base",
      "model_module_version": "2.0.0",
      "model_name": "LayoutModel",
      "state": {}
     },
     "a124142afbf146ac9993e85be47e34ff": {
      "model_module": "@jupyter-widgets/controls",
      "model_module_version": "2.0.0",
      "model_name": "CheckboxStyleModel",
      "state": {
       "description_width": ""
      }
     },
     "a12e1d530a044612905a932df47aa24f": {
      "model_module": "@jupyter-widgets/controls",
      "model_module_version": "2.0.0",
      "model_name": "TextModel",
      "state": {
       "description": "DEM path:",
       "layout": "IPY_MODEL_1a18bc4bfd424854a4686561688d68d9",
       "placeholder": "<my_data_folder/my_DEM_file.tif>",
       "style": "IPY_MODEL_46e46865f91046d58ba01aa719d5aa95"
      }
     },
     "a1333657958e4f958de67571f85e02c3": {
      "model_module": "@jupyter-widgets/base",
      "model_module_version": "2.0.0",
      "model_name": "LayoutModel",
      "state": {}
     },
     "a14462e33732486486587158e70d91db": {
      "model_module": "@jupyter-widgets/base",
      "model_module_version": "2.0.0",
      "model_name": "LayoutModel",
      "state": {}
     },
     "a16202d4571840f4b454b6880afe42e0": {
      "model_module": "@jupyter-widgets/output",
      "model_module_version": "1.0.0",
      "model_name": "OutputModel",
      "state": {
       "layout": "IPY_MODEL_54f7fdc0110941e0a7048812024119a9",
       "outputs": [
        {
         "data": {
          "application/vnd.jupyter.widget-view+json": {
           "model_id": "e6d3fd3512cb44cf85701887bc081294",
           "version_major": 2,
           "version_minor": 0
          },
          "text/plain": "Text(value='', description='DEM path:', layout=Layout(width='98%'), placeholder='<my_data_folder/my_DEM_file.t…"
         },
         "metadata": {},
         "output_type": "display_data"
        }
       ]
      }
     },
     "a174939a0b3e46a59f32c7a16d40824f": {
      "model_module": "@jupyter-widgets/controls",
      "model_module_version": "2.0.0",
      "model_name": "HBoxModel",
      "state": {
       "children": [
        "IPY_MODEL_8809da5148f843c2ae624e6523e93d0f",
        "IPY_MODEL_2fa044daabca422ebc8e509fa51282b2"
       ],
       "layout": "IPY_MODEL_ceec3c481b794b05b1480284b247a528"
      }
     },
     "a1829ef20fbb45a7a409b2148f866908": {
      "model_module": "@jupyter-widgets/controls",
      "model_module_version": "2.0.0",
      "model_name": "DescriptionStyleModel",
      "state": {
       "description_width": ""
      }
     },
     "a1da96de02e848808736acc3887abe7b": {
      "model_module": "@jupyter-widgets/controls",
      "model_module_version": "2.0.0",
      "model_name": "TextModel",
      "state": {
       "description": "Visualization path:",
       "disabled": true,
       "layout": "IPY_MODEL_bf8de1c6b8fc408ab506d792cbdce36b",
       "placeholder": "<my_data_folder/my_visualization_file.tif>",
       "style": "IPY_MODEL_d4362af6e96e4a229b44dfcb50ea6812"
      }
     },
     "a1fc9f46b94944e489000f895558ec69": {
      "model_module": "@jupyter-widgets/controls",
      "model_module_version": "2.0.0",
      "model_name": "CheckboxStyleModel",
      "state": {
       "description_width": ""
      }
     },
     "a24340bccc694027832f434cd1e42fea": {
      "model_module": "@jupyter-widgets/controls",
      "model_module_version": "2.0.0",
      "model_name": "TextStyleModel",
      "state": {
       "description_width": "initial",
       "font_size": null,
       "text_color": null
      }
     },
     "a24b78ddbf2c4cb19608950246d35136": {
      "model_module": "@jupyter-widgets/controls",
      "model_module_version": "2.0.0",
      "model_name": "TextStyleModel",
      "state": {
       "description_width": "initial",
       "font_size": null,
       "text_color": null
      }
     },
     "a26ef1faff0e4380a06ef5b1eb14e737": {
      "model_module": "@jupyter-widgets/controls",
      "model_module_version": "2.0.0",
      "model_name": "TextModel",
      "state": {
       "description": "DEM path:",
       "layout": "IPY_MODEL_1e4c7420f2264f1d98d19f7d81ac5305",
       "placeholder": "<my_data_folder/my_DEM_file.tif>",
       "style": "IPY_MODEL_ebc9f316db5b42d6bcac6efc58976521"
      }
     },
     "a287c973a97a40ddbe6f447db6275f9c": {
      "model_module": "@jupyter-widgets/base",
      "model_module_version": "2.0.0",
      "model_name": "LayoutModel",
      "state": {}
     },
     "a2c68dde23b1437ba960bc12d9bbfdeb": {
      "model_module": "@jupyter-widgets/output",
      "model_module_version": "1.0.0",
      "model_name": "OutputModel",
      "state": {
       "layout": "IPY_MODEL_6cbf1ff58e6f40c68a487309fc21c073",
       "outputs": [
        {
         "name": "stdout",
         "output_type": "stream",
         "text": "1\n"
        }
       ]
      }
     },
     "a2cfbee8d7c343d49e98c8dcd032043e": {
      "model_module": "@jupyter-widgets/controls",
      "model_module_version": "2.0.0",
      "model_name": "HBoxModel",
      "state": {
       "children": [
        "IPY_MODEL_4b2d24cdbf574e9ebbab13d2a966cf31",
        "IPY_MODEL_c7f31539b60141bca5fa125352aad283"
       ],
       "layout": "IPY_MODEL_8ac74fa6fc7b412abf6cf5b4d7095bfc"
      }
     },
     "a2ee9fc41ffb43bea56bffed0d12cebd": {
      "model_module": "@jupyter-widgets/output",
      "model_module_version": "1.0.0",
      "model_name": "OutputModel",
      "state": {
       "layout": "IPY_MODEL_7ef573276c9c4f0a891beaa3a19539da",
       "outputs": [
        {
         "data": {
          "application/vnd.jupyter.widget-view+json": {
           "model_id": "75e01aaf51ea44688c4928e2d8cdfbaf",
           "version_major": 2,
           "version_minor": 0
          },
          "text/plain": "Text(value='', description='Visualization path:', layout=Layout(width='98%'), placeholder='<my_data_folder/my_…"
         },
         "metadata": {},
         "output_type": "display_data"
        }
       ]
      }
     },
     "a308168b3ff842a68f862cc7f4589d77": {
      "model_module": "@jupyter-widgets/output",
      "model_module_version": "1.0.0",
      "model_name": "OutputModel",
      "state": {
       "layout": "IPY_MODEL_22943ab28e7d425ab96c8b8973902c45"
      }
     },
     "a30fe8dae21b447f9e880fab1bb25f6c": {
      "model_module": "@jupyter-widgets/controls",
      "model_module_version": "2.0.0",
      "model_name": "HBoxModel",
      "state": {
       "children": [
        "IPY_MODEL_62353299e35c4145a4382e6d36f94c44",
        "IPY_MODEL_f48857bcb73c46f582a3ab1d9ae66578"
       ],
       "layout": "IPY_MODEL_753e6c392c2042daa6566315f52129e8"
      }
     },
     "a32c5d72300d4e5bac3dbc979354aabb": {
      "model_module": "@jupyter-widgets/controls",
      "model_module_version": "2.0.0",
      "model_name": "TextStyleModel",
      "state": {
       "description_width": "initial",
       "font_size": null,
       "text_color": null
      }
     },
     "a3475b77b27d4ced8fe4921e545c5c1e": {
      "model_module": "@jupyter-widgets/base",
      "model_module_version": "2.0.0",
      "model_name": "LayoutModel",
      "state": {}
     },
     "a34b5c8a3a4046389ee84b7d453c0df9": {
      "model_module": "@jupyter-widgets/output",
      "model_module_version": "1.0.0",
      "model_name": "OutputModel",
      "state": {
       "layout": "IPY_MODEL_6712a0e693b4473bbe49f0330043ba1f",
       "outputs": [
        {
         "name": "stdout",
         "output_type": "stream",
         "text": "RB: 0\nCHK: False\n"
        }
       ]
      }
     },
     "a388053063a244e8bfd367783aec2847": {
      "model_module": "@jupyter-widgets/controls",
      "model_module_version": "2.0.0",
      "model_name": "TextStyleModel",
      "state": {
       "description_width": "initial",
       "font_size": null,
       "text_color": null
      }
     },
     "a3aaa2510f304ceb88b75049b785e0d4": {
      "model_module": "@jupyter-widgets/controls",
      "model_module_version": "2.0.0",
      "model_name": "LabelStyleModel",
      "state": {
       "description_width": "",
       "font_family": null,
       "font_size": null,
       "font_style": null,
       "font_variant": null,
       "font_weight": null,
       "text_color": null,
       "text_decoration": null
      }
     },
     "a3bf965d41864804a632227b76932ca4": {
      "model_module": "@jupyter-widgets/controls",
      "model_module_version": "2.0.0",
      "model_name": "HBoxModel",
      "state": {
       "children": [
        "IPY_MODEL_59c41d0929594171b94302fd02a8f39e",
        "IPY_MODEL_1c16b60b07c443e0a95643adb2889a7c"
       ],
       "layout": "IPY_MODEL_eb020e2761c542e2816c554314767f82"
      }
     },
     "a3d278439fef4974b9d2a1ab9b3bee06": {
      "model_module": "@jupyter-widgets/base",
      "model_module_version": "2.0.0",
      "model_name": "LayoutModel",
      "state": {}
     },
     "a41b504b48984c899a364186e6e9be3b": {
      "model_module": "@jupyter-widgets/base",
      "model_module_version": "2.0.0",
      "model_name": "LayoutModel",
      "state": {}
     },
     "a4448c4b8ee6416c82b456afa19c6561": {
      "model_module": "@jupyter-widgets/controls",
      "model_module_version": "2.0.0",
      "model_name": "TextStyleModel",
      "state": {
       "description_width": "initial",
       "font_size": null,
       "text_color": null
      }
     },
     "a44a59799e7b4ac99d40bf7fc719ee68": {
      "model_module": "@jupyter-widgets/output",
      "model_module_version": "1.0.0",
      "model_name": "OutputModel",
      "state": {
       "layout": "IPY_MODEL_eb75ba6615ef44e79c6785a9767076fd",
       "outputs": [
        {
         "name": "stdout",
         "output_type": "stream",
         "text": "{'name': 'index', 'old': 0, 'new': 1, 'owner': RadioButtons(description='Select input type:', index=1, options=('DEM (*.tif / *.vrt)', 'Visualization (*.tif / *.vrt)'), value='Visualization (*.tif / *.vrt)'), 'type': 'change'}\n"
        }
       ]
      }
     },
     "a46c6551191f466691f998fd7e23de40": {
      "model_module": "@jupyter-widgets/controls",
      "model_module_version": "2.0.0",
      "model_name": "CheckboxModel",
      "state": {
       "description": "Enclosure",
       "disabled": false,
       "indent": false,
       "layout": "IPY_MODEL_94d8b6cbf99a4839aeedd6114e6f9bf0",
       "style": "IPY_MODEL_bcc88d816a1e4da4ab9ae4187b72f5b8",
       "value": true
      }
     },
     "a4a9074944354459ac6b2dec705f3116": {
      "model_module": "@jupyter-widgets/controls",
      "model_module_version": "2.0.0",
      "model_name": "CheckboxModel",
      "state": {
       "description": "All archaeology",
       "disabled": false,
       "indent": false,
       "layout": "IPY_MODEL_f2a8933f9ed54db68b9cbd1d2c8c2bd8",
       "style": "IPY_MODEL_ab953c24932b41209db07e7faa6d6c2d",
       "value": false
      }
     },
     "a4c7d0cc1deb49eb8730e465f76bb2fc": {
      "model_module": "@jupyter-widgets/base",
      "model_module_version": "2.0.0",
      "model_name": "LayoutModel",
      "state": {}
     },
     "a4ce538e25e9440c85c2590634a89242": {
      "model_module": "@jupyter-widgets/output",
      "model_module_version": "1.0.0",
      "model_name": "OutputModel",
      "state": {
       "layout": "IPY_MODEL_3624f1b3ea8c4a92bc2ab4457cd3529d",
       "outputs": [
        {
         "name": "stdout",
         "output_type": "stream",
         "text": "0\n"
        }
       ]
      }
     },
     "a4ceeb6c2dcb4f089c5a4f8cb5f5dce4": {
      "model_module": "@jupyter-widgets/controls",
      "model_module_version": "2.0.0",
      "model_name": "RadioButtonsModel",
      "state": {
       "_options_labels": [
        "ADAF model",
        "Custom model"
       ],
       "description": "Select ML model:",
       "index": 0,
       "layout": "IPY_MODEL_d9773860bb1f44ccab7e3200c614b9ba",
       "style": "IPY_MODEL_43990fb97bb94cb7b3fc39cd4f518cf2"
      }
     },
     "a502582daae8482c9c677fc0aa7a0eb2": {
      "model_module": "@jupyter-widgets/base",
      "model_module_version": "2.0.0",
      "model_name": "LayoutModel",
      "state": {}
     },
     "a502c12930d34ddd8a72098d55852976": {
      "model_module": "@jupyter-widgets/controls",
      "model_module_version": "2.0.0",
      "model_name": "HTMLStyleModel",
      "state": {
       "description_width": "",
       "font_size": null,
       "text_color": null
      }
     },
     "a5030fe755794630bc2d175cab47878d": {
      "model_module": "@jupyter-widgets/controls",
      "model_module_version": "2.0.0",
      "model_name": "HBoxModel",
      "state": {
       "children": [
        "IPY_MODEL_969c2984b58c491996f0c3f308468b65",
        "IPY_MODEL_7ad4cbcd0afb4952bf5aaefa07e290f7"
       ],
       "layout": "IPY_MODEL_08ff4de2fe6940338d166f2c4c59a59a"
      }
     },
     "a51b1ff0c628483cb8a0af8021875a50": {
      "model_module": "@jupyter-widgets/base",
      "model_module_version": "2.0.0",
      "model_name": "LayoutModel",
      "state": {}
     },
     "a594df37bc03466bb5f2ecd6b8939031": {
      "model_module": "@jupyter-widgets/controls",
      "model_module_version": "2.0.0",
      "model_name": "CheckboxModel",
      "state": {
       "description": "Enclosure",
       "disabled": false,
       "indent": false,
       "layout": "IPY_MODEL_b4a5fdaf18754b1eb077254c5071fb51",
       "style": "IPY_MODEL_c6f479ed1fd140ffb1cebb5bd022b7af",
       "value": true
      }
     },
     "a5de3fa86a254e57964f5eccc467c5c7": {
      "model_module": "@jupyter-widgets/base",
      "model_module_version": "2.0.0",
      "model_name": "LayoutModel",
      "state": {}
     },
     "a5de6954857d42818599ee919ccd1c99": {
      "model_module": "@jupyter-widgets/output",
      "model_module_version": "1.0.0",
      "model_name": "OutputModel",
      "state": {
       "layout": "IPY_MODEL_5e08e7c6da8f4273b892856612cc6c21"
      }
     },
     "a612a15d77624eb69d065f3241c46e61": {
      "model_module": "@jupyter-widgets/controls",
      "model_module_version": "2.0.0",
      "model_name": "CheckboxModel",
      "state": {
       "description": "Batch processing",
       "disabled": false,
       "indent": false,
       "layout": "IPY_MODEL_cfc37b4591ba4563944a802e025519de",
       "style": "IPY_MODEL_fbd87211d4964ba1b08247f39066deaf",
       "value": true
      }
     },
     "a61d6afd5749411092da9421063a6e63": {
      "model_module": "@jupyter-widgets/base",
      "model_module_version": "2.0.0",
      "model_name": "LayoutModel",
      "state": {}
     },
     "a64540c26954456aacf2e7e353b2d337": {
      "model_module": "@jupyter-widgets/base",
      "model_module_version": "2.0.0",
      "model_name": "LayoutModel",
      "state": {
       "width": "98%"
      }
     },
     "a686d0c474d7411a817d0e79bf67ee6b": {
      "model_module": "@jupyter-widgets/controls",
      "model_module_version": "2.0.0",
      "model_name": "CheckboxModel",
      "state": {
       "description": "All archaeology",
       "disabled": false,
       "indent": false,
       "layout": "IPY_MODEL_6f822198b01d490a82aee101fcb47f89",
       "style": "IPY_MODEL_dd687bd467d646cd82f5e250bfb2626b",
       "value": false
      }
     },
     "a6ab5654ed2546bfb420acb95aacd89a": {
      "model_module": "@jupyter-widgets/base",
      "model_module_version": "2.0.0",
      "model_name": "LayoutModel",
      "state": {
       "width": "98%"
      }
     },
     "a6c48a7c5b704389bb8c8d54d4147fd7": {
      "model_module": "@jupyter-widgets/output",
      "model_module_version": "1.0.0",
      "model_name": "OutputModel",
      "state": {
       "layout": "IPY_MODEL_c4110ec184244b17a9f935bd3349eb1e"
      }
     },
     "a741f9e57d9a49128a944bb15b5fb333": {
      "model_module": "@jupyter-widgets/output",
      "model_module_version": "1.0.0",
      "model_name": "OutputModel",
      "state": {
       "layout": "IPY_MODEL_88d188b3ba6a4499b6cfb047fa240bb4",
       "outputs": [
        {
         "name": "stdout",
         "output_type": "stream",
         "text": "{'name': 'value', 'old': 'Visualization (*.tif / *.vrt)', 'new': 'DEM (*.tif / *.vrt)', 'owner': RadioButtons(description='Select input type:', options=('DEM (*.tif / *.vrt)', 'Visualization (*.tif / *.vrt)'), value='DEM (*.tif / *.vrt)'), 'type': 'change'}\n"
        }
       ]
      }
     },
     "a74585a86e1944f295c10c06b4a5324a": {
      "model_module": "@jupyter-widgets/output",
      "model_module_version": "1.0.0",
      "model_name": "OutputModel",
      "state": {
       "layout": "IPY_MODEL_75e2f23e93164f9e88807f168a6bc7e2",
       "outputs": [
        {
         "data": {
          "application/vnd.jupyter.widget-view+json": {
           "model_id": "75e01aaf51ea44688c4928e2d8cdfbaf",
           "version_major": 2,
           "version_minor": 0
          },
          "text/plain": "Text(value='', description='Visualization path:', layout=Layout(width='98%'), placeholder='<my_data_folder/my_…"
         },
         "metadata": {},
         "output_type": "display_data"
        }
       ]
      }
     },
     "a759b3f43e5c4aaf9bb9a21aebd7361c": {
      "model_module": "@jupyter-widgets/base",
      "model_module_version": "2.0.0",
      "model_name": "LayoutModel",
      "state": {}
     },
     "a7853c1637254088965391a0135926c2": {
      "model_module": "@jupyter-widgets/controls",
      "model_module_version": "2.0.0",
      "model_name": "RadioButtonsModel",
      "state": {
       "_options_labels": [
        "DEM (*.tif / *.vrt)",
        "Visualization (*.tif / *.vrt)"
       ],
       "description": "Select input file:",
       "index": 1,
       "layout": "IPY_MODEL_90adb66a039e4d5c8f638bdb179f4df2",
       "style": "IPY_MODEL_7fd75bd2d8364d9b9fb722a35c87fce4"
      }
     },
     "a7c517bbd06c4ecfb99e1c387c867bf5": {
      "model_module": "@jupyter-widgets/controls",
      "model_module_version": "2.0.0",
      "model_name": "TextStyleModel",
      "state": {
       "description_width": "initial",
       "font_size": null,
       "text_color": null
      }
     },
     "a7cd6c896eef4bfb9a856934644adb3e": {
      "model_module": "@jupyter-widgets/controls",
      "model_module_version": "2.0.0",
      "model_name": "CheckboxModel",
      "state": {
       "description": "Ringfort",
       "disabled": false,
       "indent": false,
       "layout": "IPY_MODEL_705b96ccb34547d2a57137cfd74d3d91",
       "style": "IPY_MODEL_d5c056f119e34128a44b815a98caa272",
       "value": true
      }
     },
     "a7ea37cecadd417484848c1ff0192940": {
      "model_module": "@jupyter-widgets/controls",
      "model_module_version": "2.0.0",
      "model_name": "DescriptionStyleModel",
      "state": {
       "description_width": ""
      }
     },
     "a8165ea6043349849b7cfd09297f301c": {
      "model_module": "@jupyter-widgets/controls",
      "model_module_version": "2.0.0",
      "model_name": "HBoxModel",
      "state": {
       "children": [
        "IPY_MODEL_d81575de392f45a086d78d474d5af5af",
        "IPY_MODEL_80276c8ff8154c8e9aea4c8c2062dc0d"
       ],
       "layout": "IPY_MODEL_331324fc14134b3f932f3c7e5a4510ed"
      }
     },
     "a823f00d936c45cfb29b537d4cb1538f": {
      "model_module": "@jupyter-widgets/controls",
      "model_module_version": "2.0.0",
      "model_name": "HBoxModel",
      "state": {
       "children": [
        "IPY_MODEL_6f4bbc86ff0c4f48b4aade6050560b92",
        "IPY_MODEL_8990c1148e974cf989ebddc12cc753bd"
       ],
       "layout": "IPY_MODEL_dee93016eb284219b7a3571eef7a1a23"
      }
     },
     "a83f9d453d95404b943b5d1ab56c45a7": {
      "model_module": "@jupyter-widgets/controls",
      "model_module_version": "2.0.0",
      "model_name": "DescriptionStyleModel",
      "state": {
       "description_width": ""
      }
     },
     "a84a39663e2b4702878f61cea394a637": {
      "model_module": "@jupyter-widgets/base",
      "model_module_version": "2.0.0",
      "model_name": "LayoutModel",
      "state": {
       "border_bottom": "1px solid black",
       "border_left": "1px solid black",
       "border_right": "1px solid black",
       "border_top": "1px solid black"
      }
     },
     "a854d910ef7747789f1f4c34dba8e2f5": {
      "model_module": "@jupyter-widgets/controls",
      "model_module_version": "2.0.0",
      "model_name": "CheckboxStyleModel",
      "state": {
       "description_width": ""
      }
     },
     "a8865b9638804842abf4bd718ea538dc": {
      "model_module": "@jupyter-widgets/base",
      "model_module_version": "2.0.0",
      "model_name": "LayoutModel",
      "state": {}
     },
     "a8910e1ca620476b85d1b7046ba353c9": {
      "model_module": "@jupyter-widgets/controls",
      "model_module_version": "2.0.0",
      "model_name": "DescriptionStyleModel",
      "state": {
       "description_width": ""
      }
     },
     "a89322b2d7e045ecad96b658f22efbcd": {
      "model_module": "@jupyter-widgets/base",
      "model_module_version": "2.0.0",
      "model_name": "LayoutModel",
      "state": {}
     },
     "a8a32e238be34b2ea49f18064563fb38": {
      "model_module": "@jupyter-widgets/base",
      "model_module_version": "2.0.0",
      "model_name": "LayoutModel",
      "state": {
       "border_bottom": "1px solid black",
       "border_left": "1px solid black",
       "border_right": "1px solid black",
       "border_top": "1px solid black"
      }
     },
     "a8b5ebac75fd4eaea0cbcf79dd85eab0": {
      "model_module": "@jupyter-widgets/base",
      "model_module_version": "2.0.0",
      "model_name": "LayoutModel",
      "state": {}
     },
     "a8b90d6cd1f141e4ac7319e913c7b6b6": {
      "model_module": "@jupyter-widgets/base",
      "model_module_version": "2.0.0",
      "model_name": "LayoutModel",
      "state": {}
     },
     "a8d3ff6c6e3c4ad89e46eead95f7ea65": {
      "model_module": "@jupyter-widgets/controls",
      "model_module_version": "2.0.0",
      "model_name": "DescriptionStyleModel",
      "state": {
       "description_width": ""
      }
     },
     "a8e75863a29b46d9bec72f90a0d08b6c": {
      "model_module": "@jupyter-widgets/controls",
      "model_module_version": "2.0.0",
      "model_name": "TextModel",
      "state": {
       "description": "Visualization path:",
       "disabled": true,
       "layout": "IPY_MODEL_15398a5430a64a06af5dfec31255f835",
       "placeholder": "<my_data_folder/my_visualization_file.tif>",
       "style": "IPY_MODEL_0abd6adb61e6454da825de5fdf1f4c8d"
      }
     },
     "a9186771ab2a432b8aa4b071deacd142": {
      "model_module": "@jupyter-widgets/controls",
      "model_module_version": "2.0.0",
      "model_name": "CheckboxStyleModel",
      "state": {
       "description_width": ""
      }
     },
     "a92238a05f53494d8403c2f058b4e305": {
      "model_module": "@jupyter-widgets/base",
      "model_module_version": "2.0.0",
      "model_name": "LayoutModel",
      "state": {}
     },
     "a9393be02b2d4a709abfc6eaeeabdca3": {
      "model_module": "@jupyter-widgets/output",
      "model_module_version": "1.0.0",
      "model_name": "OutputModel",
      "state": {
       "layout": "IPY_MODEL_a4c7d0cc1deb49eb8730e465f76bb2fc",
       "outputs": [
        {
         "data": {
          "application/vnd.jupyter.widget-view+json": {
           "model_id": "d2241e4a1faf4f21810c0f6b4f978e2a",
           "version_major": 2,
           "version_minor": 0
          },
          "text/plain": "Text(value='', description='DEM path:', layout=Layout(width='98%'), placeholder='<my_data_folder/my_DEM_file.t…"
         },
         "metadata": {},
         "output_type": "display_data"
        }
       ]
      }
     },
     "a9a15b14fade4af0b005c5b074237227": {
      "model_module": "@jupyter-widgets/controls",
      "model_module_version": "2.0.0",
      "model_name": "LabelModel",
      "state": {
       "layout": "IPY_MODEL_7df51a2597ae47b4bce6fe3f43e21790",
       "style": "IPY_MODEL_479c1ffafc324c6f940cfcf93e32b8e4",
       "value": "Select classes for inference:"
      }
     },
     "a9d1b6cfc44448ccbfd1ddc9022b5032": {
      "model_module": "@jupyter-widgets/controls",
      "model_module_version": "2.0.0",
      "model_name": "HBoxModel",
      "state": {
       "children": [
        "IPY_MODEL_75b783c02dfb4c378d3ed427fb60b556",
        "IPY_MODEL_6d31006cbc594decb0c9e069e72b6f0e",
        "IPY_MODEL_c5d371df3d81421b81493ef13ca4047d",
        "IPY_MODEL_23adc26792d54d65bf0f33c19dda4574"
       ],
       "layout": "IPY_MODEL_e5edcde68b7c4f44990ab58ca1163a7f"
      }
     },
     "aa1cb0ca78474d33a94b794155fb49f1": {
      "model_module": "@jupyter-widgets/base",
      "model_module_version": "2.0.0",
      "model_name": "LayoutModel",
      "state": {}
     },
     "aa3346901dc34b08b42e82a8faf6da9d": {
      "model_module": "@jupyter-widgets/controls",
      "model_module_version": "2.0.0",
      "model_name": "DescriptionStyleModel",
      "state": {
       "description_width": ""
      }
     },
     "aa876a03132c4340bd1d8226039e21ca": {
      "model_module": "@jupyter-widgets/base",
      "model_module_version": "2.0.0",
      "model_name": "LayoutModel",
      "state": {}
     },
     "aa8efb9e31324fc7ab287039e25b6989": {
      "model_module": "@jupyter-widgets/controls",
      "model_module_version": "2.0.0",
      "model_name": "LabelStyleModel",
      "state": {
       "description_width": "",
       "font_family": null,
       "font_size": null,
       "font_style": null,
       "font_variant": null,
       "font_weight": null,
       "text_color": null,
       "text_decoration": null
      }
     },
     "aa9e1b698f1d4e9f965c50c52e8dfaff": {
      "model_module": "@jupyter-widgets/controls",
      "model_module_version": "2.0.0",
      "model_name": "CheckboxModel",
      "state": {
       "description": "Batch processing",
       "disabled": false,
       "indent": false,
       "layout": "IPY_MODEL_59ba23f585674d6a821c5bb25e98b5d3",
       "style": "IPY_MODEL_c39bbad700054780901b9b0a73b7f0c8",
       "value": true
      }
     },
     "aaa4b701f3234f7788fff036a816b94c": {
      "model_module": "@jupyter-widgets/controls",
      "model_module_version": "2.0.0",
      "model_name": "TextModel",
      "state": {
       "description": "Visualization path:",
       "disabled": true,
       "layout": "IPY_MODEL_e5e0fcdc6e3a4f5db9d17d81661e7fdc",
       "placeholder": "<my_data_folder/my_visualization_file.tif>",
       "style": "IPY_MODEL_a24b78ddbf2c4cb19608950246d35136"
      }
     },
     "aac06cc218a44009b950e653482ae76a": {
      "model_module": "@jupyter-widgets/controls",
      "model_module_version": "2.0.0",
      "model_name": "DescriptionStyleModel",
      "state": {
       "description_width": ""
      }
     },
     "aaca92e735054b5ebb67c30073b2d496": {
      "model_module": "@jupyter-widgets/controls",
      "model_module_version": "2.0.0",
      "model_name": "CheckboxModel",
      "state": {
       "description": "Batch processing",
       "disabled": false,
       "indent": false,
       "layout": "IPY_MODEL_d39a481a9505437d80ba7d972daf205e",
       "style": "IPY_MODEL_85e4ff15ba274ae4a42197e8caf329a8",
       "value": false
      }
     },
     "aae95e62bb5e44edbf21fdfc0d25d7d8": {
      "model_module": "@jupyter-widgets/controls",
      "model_module_version": "2.0.0",
      "model_name": "CheckboxStyleModel",
      "state": {
       "description_width": ""
      }
     },
     "aafa568549f74a4fa47dfad8e92c428a": {
      "model_module": "@jupyter-widgets/controls",
      "model_module_version": "2.0.0",
      "model_name": "TextStyleModel",
      "state": {
       "description_width": "",
       "font_size": null,
       "text_color": null
      }
     },
     "ab0b1548529946b29c42554380752e8c": {
      "model_module": "@jupyter-widgets/base",
      "model_module_version": "2.0.0",
      "model_name": "LayoutModel",
      "state": {}
     },
     "ab1496207070420a97a21d5fd2e08ab4": {
      "model_module": "@jupyter-widgets/base",
      "model_module_version": "2.0.0",
      "model_name": "LayoutModel",
      "state": {}
     },
     "ab287b204ebd48009fc7686df304efb6": {
      "model_module": "@jupyter-widgets/base",
      "model_module_version": "2.0.0",
      "model_name": "LayoutModel",
      "state": {
       "border_bottom": "1px solid black",
       "border_left": "1px solid black",
       "border_right": "1px solid black",
       "border_top": "1px solid black"
      }
     },
     "ab64e1a92a5e424c82abbed6c3739319": {
      "model_module": "@jupyter-widgets/output",
      "model_module_version": "1.0.0",
      "model_name": "OutputModel",
      "state": {
       "layout": "IPY_MODEL_be2b131ae3434b5aa3eb6f33c7467cd0",
       "outputs": [
        {
         "name": "stdout",
         "output_type": "stream",
         "text": "0\n"
        }
       ]
      }
     },
     "ab88ba5030e14fe4ae930aaa3b67ec60": {
      "model_module": "@jupyter-widgets/controls",
      "model_module_version": "2.0.0",
      "model_name": "DescriptionStyleModel",
      "state": {
       "description_width": ""
      }
     },
     "ab953c24932b41209db07e7faa6d6c2d": {
      "model_module": "@jupyter-widgets/controls",
      "model_module_version": "2.0.0",
      "model_name": "CheckboxStyleModel",
      "state": {
       "description_width": ""
      }
     },
     "aba003586e1441beb2099a4aa72c4b70": {
      "model_module": "@jupyter-widgets/controls",
      "model_module_version": "2.0.0",
      "model_name": "CheckboxStyleModel",
      "state": {
       "description_width": ""
      }
     },
     "aba0492231f949949202ec1ba4cf61e4": {
      "model_module": "@jupyter-widgets/base",
      "model_module_version": "2.0.0",
      "model_name": "LayoutModel",
      "state": {}
     },
     "aba8d498a97340748ca69dea0dcc433f": {
      "model_module": "@jupyter-widgets/controls",
      "model_module_version": "2.0.0",
      "model_name": "CheckboxModel",
      "state": {
       "description": "Barrow",
       "disabled": false,
       "indent": false,
       "layout": "IPY_MODEL_e3ba2739ba84479dbfd118b83112c386",
       "style": "IPY_MODEL_43a5d9d30ef54d1ba7b44726df57f85c",
       "value": true
      }
     },
     "ac0d55de732e4088ab1aaf6000e84de2": {
      "model_module": "@jupyter-widgets/controls",
      "model_module_version": "2.0.0",
      "model_name": "CheckboxStyleModel",
      "state": {
       "description_width": ""
      }
     },
     "ac133173c60643ebbb90e8cadf75b5ab": {
      "model_module": "@jupyter-widgets/base",
      "model_module_version": "2.0.0",
      "model_name": "LayoutModel",
      "state": {}
     },
     "ac1599cd21c34db68a088079354df38b": {
      "model_module": "@jupyter-widgets/controls",
      "model_module_version": "2.0.0",
      "model_name": "TextModel",
      "state": {
       "description": "Path to ML model [*.tar]:",
       "layout": "IPY_MODEL_fac54bc3c3d24930a999d0f09596ed92",
       "placeholder": "model_folder/saved_model.tar",
       "style": "IPY_MODEL_ba22d5c6d0224d54843a83b57cd8e6b8"
      }
     },
     "ac1ff6d17fcb4681a328a94da3a15757": {
      "model_module": "@jupyter-widgets/base",
      "model_module_version": "2.0.0",
      "model_name": "LayoutModel",
      "state": {}
     },
     "ac33aa573f5b47dba5a21c88a5a758d4": {
      "model_module": "@jupyter-widgets/controls",
      "model_module_version": "2.0.0",
      "model_name": "TextModel",
      "state": {
       "description": "DEM path:",
       "layout": "IPY_MODEL_4449b38e97be44e888dc716184a3f80b",
       "placeholder": "<my_data_folder/my_DEM_file.tif>",
       "style": "IPY_MODEL_713449fe281d40e4b57c49176eb74381"
      }
     },
     "ac5327c3ff9749f7acca70361540e059": {
      "model_module": "@jupyter-widgets/controls",
      "model_module_version": "2.0.0",
      "model_name": "DescriptionStyleModel",
      "state": {
       "description_width": ""
      }
     },
     "ac7971b4e0274aa29ed2cf448cd53091": {
      "model_module": "@jupyter-widgets/base",
      "model_module_version": "2.0.0",
      "model_name": "LayoutModel",
      "state": {}
     },
     "ac7ac5aeec2f4bf8ba06d6d8652d497d": {
      "model_module": "@jupyter-widgets/controls",
      "model_module_version": "2.0.0",
      "model_name": "DescriptionStyleModel",
      "state": {
       "description_width": ""
      }
     },
     "ac9085f0559a4e08aae88e0bf9f81b6e": {
      "model_module": "@jupyter-widgets/controls",
      "model_module_version": "2.0.0",
      "model_name": "CheckboxModel",
      "state": {
       "description": "Enclosure",
       "disabled": false,
       "indent": false,
       "layout": "IPY_MODEL_9578156dea3247ae9417a3ee31d017b6",
       "style": "IPY_MODEL_9c60461215444392971ccf7fe4a136df",
       "value": true
      }
     },
     "ac966bd774d148598b59192f160756d2": {
      "model_module": "@jupyter-widgets/controls",
      "model_module_version": "2.0.0",
      "model_name": "CheckboxStyleModel",
      "state": {
       "description_width": ""
      }
     },
     "ac9aad4f9d7a4187afcd692120696fbf": {
      "model_module": "@jupyter-widgets/base",
      "model_module_version": "2.0.0",
      "model_name": "LayoutModel",
      "state": {}
     },
     "aca0abff5c7b49bd936fba6d4d6f7b60": {
      "model_module": "@jupyter-widgets/base",
      "model_module_version": "2.0.0",
      "model_name": "LayoutModel",
      "state": {}
     },
     "acaa083ef11844dabf60850c14917741": {
      "model_module": "@jupyter-widgets/controls",
      "model_module_version": "2.0.0",
      "model_name": "TextModel",
      "state": {
       "description": "DEM path:",
       "layout": "IPY_MODEL_e044a807bdcb4260bc359755a5bbb280",
       "placeholder": "<my_data_folder/my_DEM_file.tif>",
       "style": "IPY_MODEL_4d4ecfb4515b4088978ac316d5cb1360"
      }
     },
     "aced3955d6184f0b88909ba62d7de691": {
      "model_module": "@jupyter-widgets/controls",
      "model_module_version": "2.0.0",
      "model_name": "CheckboxStyleModel",
      "state": {
       "description_width": ""
      }
     },
     "ad06c4975ec54afea71737dceb3e0b38": {
      "model_module": "@jupyter-widgets/output",
      "model_module_version": "1.0.0",
      "model_name": "OutputModel",
      "state": {
       "layout": "IPY_MODEL_ccc75223a9db4b16b5a3f9ceb4a99d4d",
       "outputs": [
        {
         "data": {
          "application/vnd.jupyter.widget-view+json": {
           "model_id": "6b0fab56d18a4286bce8eeacfe2ca0f9",
           "version_major": 2,
           "version_minor": 0
          },
          "text/plain": "HTML(value=\"<font color='grey'>Select classes for inference:\")"
         },
         "metadata": {},
         "output_type": "display_data"
        }
       ]
      }
     },
     "ad1c6b31ddeb46dc9eeef9c76cd5b21b": {
      "model_module": "@jupyter-widgets/controls",
      "model_module_version": "2.0.0",
      "model_name": "TextStyleModel",
      "state": {
       "description_width": "initial",
       "font_size": null,
       "text_color": null
      }
     },
     "ad2138ad7e9244dda4a7c61f3ea3659d": {
      "model_module": "@jupyter-widgets/output",
      "model_module_version": "1.0.0",
      "model_name": "OutputModel",
      "state": {
       "layout": "IPY_MODEL_8c31499618fe47b59ee05a75e02f42e2",
       "outputs": [
        {
         "name": "stdout",
         "output_type": "stream",
         "text": "Hello World\n"
        }
       ]
      }
     },
     "ad341e7589654d04a414de5254d3ffad": {
      "model_module": "@jupyter-widgets/base",
      "model_module_version": "2.0.0",
      "model_name": "LayoutModel",
      "state": {}
     },
     "ad937f0f06a54e0e857e5ee488de5d72": {
      "model_module": "@jupyter-widgets/controls",
      "model_module_version": "2.0.0",
      "model_name": "TextStyleModel",
      "state": {
       "description_width": "",
       "font_size": null,
       "text_color": null
      }
     },
     "ae250c0fdcd34b92a27e274ed808dc0c": {
      "model_module": "@jupyter-widgets/controls",
      "model_module_version": "2.0.0",
      "model_name": "LabelStyleModel",
      "state": {
       "description_width": "",
       "font_family": null,
       "font_size": null,
       "font_style": null,
       "font_variant": null,
       "font_weight": null,
       "text_color": null,
       "text_decoration": null
      }
     },
     "ae5e16199738409bbdb1dc9d49164185": {
      "model_module": "@jupyter-widgets/base",
      "model_module_version": "2.0.0",
      "model_name": "LayoutModel",
      "state": {}
     },
     "ae7a744592fa42d497287b19a78572cb": {
      "model_module": "@jupyter-widgets/controls",
      "model_module_version": "2.0.0",
      "model_name": "HBoxModel",
      "state": {
       "children": [
        "IPY_MODEL_d98f823b33c74f35808a5e9d5243e1d1",
        "IPY_MODEL_9951589384e644a9a051f6cb829d8bf0"
       ],
       "layout": "IPY_MODEL_28e4bedea8ce483a9cdfc6d2a542e572"
      }
     },
     "ae7b4c1ab7ae44d39e52cbd56ab2fcb1": {
      "model_module": "@jupyter-widgets/controls",
      "model_module_version": "2.0.0",
      "model_name": "DescriptionStyleModel",
      "state": {
       "description_width": ""
      }
     },
     "aec860a8621442008f648367b439f990": {
      "model_module": "@jupyter-widgets/base",
      "model_module_version": "2.0.0",
      "model_name": "LayoutModel",
      "state": {}
     },
     "aefe0e78add44245be9794587eeb0faa": {
      "model_module": "@jupyter-widgets/base",
      "model_module_version": "2.0.0",
      "model_name": "LayoutModel",
      "state": {}
     },
     "af0d0ec5f0c942a8abbc2adac859eec0": {
      "model_module": "@jupyter-widgets/base",
      "model_module_version": "2.0.0",
      "model_name": "LayoutModel",
      "state": {}
     },
     "af67850f9b144eb7a70d0fee40e8e8da": {
      "model_module": "@jupyter-widgets/base",
      "model_module_version": "2.0.0",
      "model_name": "LayoutModel",
      "state": {}
     },
     "afb4c2ea508c405c849acb27819ab885": {
      "model_module": "@jupyter-widgets/base",
      "model_module_version": "2.0.0",
      "model_name": "LayoutModel",
      "state": {}
     },
     "afb6275cca5943e0948e4a6cb95e6e9f": {
      "model_module": "@jupyter-widgets/base",
      "model_module_version": "2.0.0",
      "model_name": "LayoutModel",
      "state": {}
     },
     "afe931d2913d407e9115bf31329bd24f": {
      "model_module": "@jupyter-widgets/base",
      "model_module_version": "2.0.0",
      "model_name": "LayoutModel",
      "state": {}
     },
     "b0031a5ff1fe4d23b80e4c29d1ca48ba": {
      "model_module": "@jupyter-widgets/controls",
      "model_module_version": "2.0.0",
      "model_name": "HBoxModel",
      "state": {
       "children": [
        "IPY_MODEL_ef8bf721d53e4dcf909c5d0ca7b33a7f",
        "IPY_MODEL_5fb2638ab1b84ccc9b392c6873356e86",
        "IPY_MODEL_28dfd54b467d48469b6c88131fe7b9de",
        "IPY_MODEL_0b80187ebb274f1288444ea7c0d54120"
       ],
       "layout": "IPY_MODEL_2a71092aa3ae4580aaabb8c7116360e6"
      }
     },
     "b019a4fe0d504644be4e79759b0192f4": {
      "model_module": "@jupyter-widgets/base",
      "model_module_version": "2.0.0",
      "model_name": "LayoutModel",
      "state": {}
     },
     "b02dc9988b4a4c5393ad022b7460781b": {
      "model_module": "@jupyter-widgets/controls",
      "model_module_version": "2.0.0",
      "model_name": "CheckboxStyleModel",
      "state": {
       "description_width": ""
      }
     },
     "b05bc98d0fec44ff97355a0d6a897df5": {
      "model_module": "@jupyter-widgets/controls",
      "model_module_version": "2.0.0",
      "model_name": "CheckboxModel",
      "state": {
       "description": "Barrow",
       "disabled": false,
       "indent": false,
       "layout": "IPY_MODEL_c692b6b3850b43de901cde53a45aadf1",
       "style": "IPY_MODEL_3f7890da30734687b86c5781ccee62ad",
       "value": true
      }
     },
     "b068f0354f4f49e48af8638a28d2cf5c": {
      "model_module": "@jupyter-widgets/controls",
      "model_module_version": "2.0.0",
      "model_name": "DescriptionStyleModel",
      "state": {
       "description_width": ""
      }
     },
     "b0741438a0124ebc9c0ae6e6a8a853ac": {
      "model_module": "@jupyter-widgets/base",
      "model_module_version": "2.0.0",
      "model_name": "LayoutModel",
      "state": {}
     },
     "b084dbf4033c4ad3861d12e6c6fe7e24": {
      "model_module": "@jupyter-widgets/base",
      "model_module_version": "2.0.0",
      "model_name": "LayoutModel",
      "state": {}
     },
     "b097549e7feb4cb6984a37e98493a39e": {
      "model_module": "@jupyter-widgets/base",
      "model_module_version": "2.0.0",
      "model_name": "LayoutModel",
      "state": {}
     },
     "b09daf19492744cb9d0b395dd3ee87a7": {
      "model_module": "@jupyter-widgets/controls",
      "model_module_version": "2.0.0",
      "model_name": "HTMLModel",
      "state": {
       "layout": "IPY_MODEL_c211ccdabd0c48e69ddf21a90e813600",
       "style": "IPY_MODEL_555bbfc7e69244ff92dc0175ebece958",
       "value": "<font color='grey'>Select classes for inference:"
      }
     },
     "b0e0171042cb44d4866e1939267d817d": {
      "model_module": "@jupyter-widgets/controls",
      "model_module_version": "2.0.0",
      "model_name": "HTMLStyleModel",
      "state": {
       "description_width": "",
       "font_size": null,
       "text_color": null
      }
     },
     "b1032b5019c64c34b79662a6d9894287": {
      "model_module": "@jupyter-widgets/base",
      "model_module_version": "2.0.0",
      "model_name": "LayoutModel",
      "state": {}
     },
     "b14922f2f43d410da37d4a4c5df4bdc6": {
      "model_module": "@jupyter-widgets/base",
      "model_module_version": "2.0.0",
      "model_name": "LayoutModel",
      "state": {}
     },
     "b14c653ed3a049a686cdffb88745aa4a": {
      "model_module": "@jupyter-widgets/controls",
      "model_module_version": "2.0.0",
      "model_name": "LabelModel",
      "state": {
       "layout": "IPY_MODEL_e3f4a69bb7fe4ec39ae943512259f16d",
       "style": "IPY_MODEL_ce34838571434119891c5f1876ea404a",
       "value": "Select classes for inference:"
      }
     },
     "b16227c869f448b3a3d3e768ccc57882": {
      "model_module": "@jupyter-widgets/base",
      "model_module_version": "2.0.0",
      "model_name": "LayoutModel",
      "state": {
       "width": "98%"
      }
     },
     "b163c3c3869844e49f6b7fde7c24e51e": {
      "model_module": "@jupyter-widgets/base",
      "model_module_version": "2.0.0",
      "model_name": "LayoutModel",
      "state": {}
     },
     "b172cf14ad184c0f80709876d54e6b8c": {
      "model_module": "@jupyter-widgets/controls",
      "model_module_version": "2.0.0",
      "model_name": "HTMLStyleModel",
      "state": {
       "description_width": "",
       "font_size": null,
       "text_color": null
      }
     },
     "b1a14a8560f646cca021f47bbb025c17": {
      "model_module": "@jupyter-widgets/controls",
      "model_module_version": "2.0.0",
      "model_name": "HTMLModel",
      "state": {
       "layout": "IPY_MODEL_96a2b9855d6a4132970cc24dcec47832",
       "style": "IPY_MODEL_5dd32b3ea6cb4be5bdc037a811f22bdb",
       "value": "<b>ML options:</b>"
      }
     },
     "b1d6a9dd26de421fb416b53fb718a20c": {
      "model_module": "@jupyter-widgets/controls",
      "model_module_version": "2.0.0",
      "model_name": "LabelModel",
      "state": {
       "layout": "IPY_MODEL_eaa9d451a39b4337b92c4d9f1d53d700",
       "style": "IPY_MODEL_8cffbb87470b40da884f2e3d9d606190",
       "value": "Select classes for inference:"
      }
     },
     "b247b2a12a754142b1cc7afd548f389a": {
      "model_module": "@jupyter-widgets/controls",
      "model_module_version": "2.0.0",
      "model_name": "HTMLStyleModel",
      "state": {
       "description_width": "",
       "font_size": null,
       "text_color": null
      }
     },
     "b254aefb8ab04e3e91a950de936d8389": {
      "model_module": "@jupyter-widgets/controls",
      "model_module_version": "2.0.0",
      "model_name": "TextStyleModel",
      "state": {
       "description_width": "initial",
       "font_size": null,
       "text_color": null
      }
     },
     "b25803155d6542c4ba84f57404c1bb30": {
      "model_module": "@jupyter-widgets/controls",
      "model_module_version": "2.0.0",
      "model_name": "LabelStyleModel",
      "state": {
       "description_width": "",
       "font_family": null,
       "font_size": null,
       "font_style": null,
       "font_variant": null,
       "font_weight": null,
       "text_color": null,
       "text_decoration": null
      }
     },
     "b28aa041b8b74be4ba1adc2cbf6a388c": {
      "model_module": "@jupyter-widgets/controls",
      "model_module_version": "2.0.0",
      "model_name": "TextStyleModel",
      "state": {
       "description_width": "",
       "font_size": null,
       "text_color": null
      }
     },
     "b2983ad9db4b46f3afe1d011a0501d81": {
      "model_module": "@jupyter-widgets/output",
      "model_module_version": "1.0.0",
      "model_name": "OutputModel",
      "state": {
       "layout": "IPY_MODEL_0ff4a895f7dd4e08a4281af9577f4fc5",
       "outputs": [
        {
         "name": "stdout",
         "output_type": "stream",
         "text": "RadioButtons(description='Select input type:', index=1, options=('DEM (*.tif / *.vrt)', 'Visualization (*.tif / *.vrt)'), value='Visualization (*.tif / *.vrt)')\n"
        }
       ]
      }
     },
     "b30c73fe4e3e418d840508579b264d87": {
      "model_module": "@jupyter-widgets/controls",
      "model_module_version": "2.0.0",
      "model_name": "HTMLStyleModel",
      "state": {
       "description_width": "",
       "font_size": null,
       "text_color": null
      }
     },
     "b3aa921784bf4a868f7b232d6d46ce07": {
      "model_module": "@jupyter-widgets/controls",
      "model_module_version": "2.0.0",
      "model_name": "HTMLModel",
      "state": {
       "layout": "IPY_MODEL_0fdacbd2b08f47419d095b05aa32e41a",
       "style": "IPY_MODEL_fd0c1edff8bb4f11946cd9f6ba32d3db",
       "value": "<font color='black'>Select classes for inference:"
      }
     },
     "b3b0a8b4a81a406f809002039e22b553": {
      "model_module": "@jupyter-widgets/base",
      "model_module_version": "2.0.0",
      "model_name": "LayoutModel",
      "state": {
       "width": "98%"
      }
     },
     "b3d27df9176d4a569e5c76f333f860e1": {
      "model_module": "@jupyter-widgets/base",
      "model_module_version": "2.0.0",
      "model_name": "LayoutModel",
      "state": {
       "width": "98%"
      }
     },
     "b3fb867cf0ba4b3c84b043ba40e59256": {
      "model_module": "@jupyter-widgets/controls",
      "model_module_version": "2.0.0",
      "model_name": "DescriptionStyleModel",
      "state": {
       "description_width": ""
      }
     },
     "b403bf03d1b549d8a95529212abb52d3": {
      "model_module": "@jupyter-widgets/controls",
      "model_module_version": "2.0.0",
      "model_name": "TextStyleModel",
      "state": {
       "description_width": "initial",
       "font_size": null,
       "text_color": null
      }
     },
     "b40f630215ca4524866d63b3ef5fb5cf": {
      "model_module": "@jupyter-widgets/controls",
      "model_module_version": "2.0.0",
      "model_name": "RadioButtonsModel",
      "state": {
       "_options_labels": [
        "ADAF model",
        "Custom model"
       ],
       "description": "Select ML model:",
       "index": 0,
       "layout": "IPY_MODEL_2adcd7906d1c4daa9f78fb5da9f65102",
       "style": "IPY_MODEL_aac06cc218a44009b950e653482ae76a"
      }
     },
     "b4221ef569c649579d66b186a798ac83": {
      "model_module": "@jupyter-widgets/output",
      "model_module_version": "1.0.0",
      "model_name": "OutputModel",
      "state": {
       "layout": "IPY_MODEL_212cd2b608ca4ab591897f2655c183bd",
       "outputs": [
        {
         "name": "stdout",
         "output_type": "stream",
         "text": "0\n"
        }
       ]
      }
     },
     "b43b4884601a4c638ecc70f4dbf147a6": {
      "model_module": "@jupyter-widgets/base",
      "model_module_version": "2.0.0",
      "model_name": "LayoutModel",
      "state": {
       "width": "98%"
      }
     },
     "b4857747442b4d77bc297f79c3ed8275": {
      "model_module": "@jupyter-widgets/controls",
      "model_module_version": "2.0.0",
      "model_name": "HTMLModel",
      "state": {
       "layout": "IPY_MODEL_0a7615c630de40baa7c2ae9d534e2cec",
       "style": "IPY_MODEL_b30c73fe4e3e418d840508579b264d87",
       "value": "<font color='grey'>Select classes for inference:"
      }
     },
     "b49df73e605c454a90cc88ba9cc2b6aa": {
      "model_module": "@jupyter-widgets/controls",
      "model_module_version": "2.0.0",
      "model_name": "DescriptionStyleModel",
      "state": {
       "description_width": ""
      }
     },
     "b4a5fdaf18754b1eb077254c5071fb51": {
      "model_module": "@jupyter-widgets/base",
      "model_module_version": "2.0.0",
      "model_name": "LayoutModel",
      "state": {}
     },
     "b4cf1bed28a34ac5bef53b28f91e47b1": {
      "model_module": "@jupyter-widgets/controls",
      "model_module_version": "2.0.0",
      "model_name": "RadioButtonsModel",
      "state": {
       "_options_labels": [
        "DEM (*.tif / *.vrt)",
        "Visualization (*.tif / *.vrt)"
       ],
       "description": "Select input type:",
       "index": 0,
       "layout": "IPY_MODEL_840ad7d9ebbc4338b8713f0f88bc26c2",
       "style": "IPY_MODEL_b3fb867cf0ba4b3c84b043ba40e59256"
      }
     },
     "b51b2ffcdaa24470ab68900664327dfe": {
      "model_module": "@jupyter-widgets/base",
      "model_module_version": "2.0.0",
      "model_name": "LayoutModel",
      "state": {}
     },
     "b52fd48cf58249cb89e4885e6e0ebca9": {
      "model_module": "@jupyter-widgets/base",
      "model_module_version": "2.0.0",
      "model_name": "LayoutModel",
      "state": {}
     },
     "b5346d0a2b58471cad2e2ff6a05fe7aa": {
      "model_module": "@jupyter-widgets/base",
      "model_module_version": "2.0.0",
      "model_name": "LayoutModel",
      "state": {
       "border_bottom": "1px solid black",
       "border_left": "1px solid black",
       "border_right": "1px solid black",
       "border_top": "1px solid black"
      }
     },
     "b54f18acb0ef4d4db6c3d4ad8ef0fe67": {
      "model_module": "@jupyter-widgets/controls",
      "model_module_version": "2.0.0",
      "model_name": "CheckboxModel",
      "state": {
       "description": "Batch processing",
       "disabled": false,
       "indent": false,
       "layout": "IPY_MODEL_57cde620becd4e93a03146ec7710362a",
       "style": "IPY_MODEL_7395503e12654b3faf2758912de20c4f",
       "value": true
      }
     },
     "b5779e4c13954705bd4178a84a0e8635": {
      "model_module": "@jupyter-widgets/controls",
      "model_module_version": "2.0.0",
      "model_name": "RadioButtonsModel",
      "state": {
       "_options_labels": [
        "ADAF model",
        "Custom model"
       ],
       "description": "Select ML model:",
       "index": 0,
       "layout": "IPY_MODEL_20fbeb7e1e1240e68e1d16fe5d9746c8",
       "style": "IPY_MODEL_94f2223485dc4f5ba3049d9a93accb49"
      }
     },
     "b617b5aec28446cca2d8d78af37e129f": {
      "model_module": "@jupyter-widgets/base",
      "model_module_version": "2.0.0",
      "model_name": "LayoutModel",
      "state": {}
     },
     "b65801168f1447c1a8638212a58069b1": {
      "model_module": "@jupyter-widgets/controls",
      "model_module_version": "2.0.0",
      "model_name": "HBoxModel",
      "state": {
       "children": [
        "IPY_MODEL_c4fa36593ff84c88bb41a511a921fafd",
        "IPY_MODEL_363cec8e02c84a14a786046464f0d326",
        "IPY_MODEL_5d50948b345e46de9e892dca20255924",
        "IPY_MODEL_476bce7c750640a3904e7533882e2b18"
       ],
       "layout": "IPY_MODEL_208aab5a01e94e57b13e288d7851d216"
      }
     },
     "b681d746cbd641de8a9de8913833da41": {
      "model_module": "@jupyter-widgets/controls",
      "model_module_version": "2.0.0",
      "model_name": "HTMLModel",
      "state": {
       "layout": "IPY_MODEL_fb64c338f9474b6fbcf4e674c8fefa02",
       "style": "IPY_MODEL_0cab41abde6f46f98fbcc04200bf2a57",
       "value": "<font color='grey'>Select classes for inference:"
      }
     },
     "b6973c1ce29b4a15ba4de75d34885fd9": {
      "model_module": "@jupyter-widgets/base",
      "model_module_version": "2.0.0",
      "model_name": "LayoutModel",
      "state": {}
     },
     "b6c13d60c3c548c3bde434aa882baa64": {
      "model_module": "@jupyter-widgets/controls",
      "model_module_version": "2.0.0",
      "model_name": "LabelModel",
      "state": {
       "layout": "IPY_MODEL_c30e16c09ae6433fa56f3a7667b98a41",
       "style": "IPY_MODEL_c5d739d8a48a4e3c9867947e5fe6906f",
       "value": "ML input options:"
      }
     },
     "b6c411b6628046c5ab56e8359115dc97": {
      "model_module": "@jupyter-widgets/controls",
      "model_module_version": "2.0.0",
      "model_name": "RadioButtonsModel",
      "state": {
       "_options_labels": [
        "ADAF model",
        "Custom model"
       ],
       "description": "Select ML model:",
       "index": 0,
       "layout": "IPY_MODEL_633a6656554f424ea1b509680bae9039",
       "style": "IPY_MODEL_cca1aeb442dd46118185844c1f6d2f51"
      }
     },
     "b6c86fe29e3b42cba2a74f7c9f49c998": {
      "model_module": "@jupyter-widgets/base",
      "model_module_version": "2.0.0",
      "model_name": "LayoutModel",
      "state": {
       "width": "98%"
      }
     },
     "b6d6419078904683b2e49844aab2cd76": {
      "model_module": "@jupyter-widgets/controls",
      "model_module_version": "2.0.0",
      "model_name": "VBoxModel",
      "state": {
       "children": [
        "IPY_MODEL_02213521ada842cba2f007082adb12b8",
        "IPY_MODEL_f508ea7614a642f4a8ee405b607658fc",
        "IPY_MODEL_1ca7c293c37041eb9ff447af6df7e2d6",
        "IPY_MODEL_414b5ed02aea47c69a8b0a70e3b20860"
       ],
       "layout": "IPY_MODEL_88fb1ba8b84143abb4b4eefa0aa32ee5"
      }
     },
     "b6eb8b104b69468cad241cb21a9831f8": {
      "model_module": "@jupyter-widgets/base",
      "model_module_version": "2.0.0",
      "model_name": "LayoutModel",
      "state": {}
     },
     "b6f1a80d74d3421faff1b2d7a25c8f42": {
      "model_module": "@jupyter-widgets/controls",
      "model_module_version": "2.0.0",
      "model_name": "TextModel",
      "state": {
       "description": "DEM path:",
       "layout": "IPY_MODEL_7f18c2b6f8f64ad69fa6e85f44e3fcfe",
       "placeholder": "<my_data_folder/my_DEM_file.tif>",
       "style": "IPY_MODEL_f97ec62acaa5478d9a711b69b731264e"
      }
     },
     "b759710b125243ca9c0023b534a6fce3": {
      "model_module": "@jupyter-widgets/base",
      "model_module_version": "2.0.0",
      "model_name": "LayoutModel",
      "state": {}
     },
     "b763bab8bbd9489081c8db6b08d9a2a4": {
      "model_module": "@jupyter-widgets/output",
      "model_module_version": "1.0.0",
      "model_name": "OutputModel",
      "state": {
       "layout": "IPY_MODEL_9f137876285a47d49283b2ab8c10cd56",
       "outputs": [
        {
         "name": "stdout",
         "output_type": "stream",
         "text": "0\n"
        }
       ]
      }
     },
     "b7b93ce349ac452da9f41fb61ec065d5": {
      "model_module": "@jupyter-widgets/base",
      "model_module_version": "2.0.0",
      "model_name": "LayoutModel",
      "state": {
       "border_bottom": "1px solid black",
       "border_left": "1px solid black",
       "border_right": "1px solid black",
       "border_top": "1px solid black"
      }
     },
     "b7ccfa8cadd04588b9ae5d6955be7ea3": {
      "model_module": "@jupyter-widgets/controls",
      "model_module_version": "2.0.0",
      "model_name": "CheckboxModel",
      "state": {
       "description": "Enclosure",
       "disabled": false,
       "indent": false,
       "layout": "IPY_MODEL_44e794c572cd4a75bc54dbb5af348812",
       "style": "IPY_MODEL_0e8b2b0edbb34795a28c5e92980958c7",
       "value": true
      }
     },
     "b827577ee8294cd59ebc9f6c762b7719": {
      "model_module": "@jupyter-widgets/base",
      "model_module_version": "2.0.0",
      "model_name": "LayoutModel",
      "state": {}
     },
     "b8495f0024824054952e3e43340c854d": {
      "model_module": "@jupyter-widgets/base",
      "model_module_version": "2.0.0",
      "model_name": "LayoutModel",
      "state": {}
     },
     "b84cff9b142f4ad0bb96d6d0f935383b": {
      "model_module": "@jupyter-widgets/base",
      "model_module_version": "2.0.0",
      "model_name": "LayoutModel",
      "state": {
       "border_bottom": "1px solid black",
       "border_left": "1px solid black",
       "border_right": "1px solid black",
       "border_top": "1px solid black"
      }
     },
     "b86188016d7f4e53838d6f22a0c4d952": {
      "model_module": "@jupyter-widgets/base",
      "model_module_version": "2.0.0",
      "model_name": "LayoutModel",
      "state": {
       "border_bottom": "1px solid black",
       "border_left": "1px solid black",
       "border_right": "1px solid black",
       "border_top": "1px solid black"
      }
     },
     "b8c9455cef99452194ed9d2eca3b34f2": {
      "model_module": "@jupyter-widgets/base",
      "model_module_version": "2.0.0",
      "model_name": "LayoutModel",
      "state": {}
     },
     "b8ef5ca412ab412ebad4363ec9cd87aa": {
      "model_module": "@jupyter-widgets/controls",
      "model_module_version": "2.0.0",
      "model_name": "LabelStyleModel",
      "state": {
       "description_width": "",
       "font_family": null,
       "font_size": null,
       "font_style": null,
       "font_variant": null,
       "font_weight": null,
       "text_color": null,
       "text_decoration": null
      }
     },
     "b8f85542e01a4e07a9277160a80126d3": {
      "model_module": "@jupyter-widgets/controls",
      "model_module_version": "2.0.0",
      "model_name": "TextModel",
      "state": {
       "description": "DEM path:",
       "layout": "IPY_MODEL_d5cffe29b1314e85b7473b5d9c74bd6c",
       "placeholder": "<my_data_folder/my_DEM_file.tif>",
       "style": "IPY_MODEL_f97acceb32c34d46a093f232fee2c154"
      }
     },
     "b90867e7da974f279df0d063636c6aa2": {
      "model_module": "@jupyter-widgets/controls",
      "model_module_version": "2.0.0",
      "model_name": "RadioButtonsModel",
      "state": {
       "_options_labels": [
        "ADAF model",
        "Custom model"
       ],
       "description": "Select ML model:",
       "index": 0,
       "layout": "IPY_MODEL_0add05fc217c4a80974bcb8fb608a6b8",
       "style": "IPY_MODEL_e53be84053b4459c8263e53195467e15"
      }
     },
     "b935656e04c749aa835c645abacf4695": {
      "model_module": "@jupyter-widgets/base",
      "model_module_version": "2.0.0",
      "model_name": "LayoutModel",
      "state": {
       "border_bottom": "1px solid black",
       "border_left": "1px solid black",
       "border_right": "1px solid black",
       "border_top": "1px solid black"
      }
     },
     "b95bfe6666d440949a1dd6909c8b7723": {
      "model_module": "@jupyter-widgets/base",
      "model_module_version": "2.0.0",
      "model_name": "LayoutModel",
      "state": {}
     },
     "b97a750851ae4018b3895352624a05f7": {
      "model_module": "@jupyter-widgets/controls",
      "model_module_version": "2.0.0",
      "model_name": "CheckboxModel",
      "state": {
       "description": "All archaeology",
       "disabled": false,
       "indent": false,
       "layout": "IPY_MODEL_ac1ff6d17fcb4681a328a94da3a15757",
       "style": "IPY_MODEL_f25090909ca448348444b2bfcffa040a",
       "value": false
      }
     },
     "b9ac4bb6334b41f089d45b659c5931a8": {
      "model_module": "@jupyter-widgets/base",
      "model_module_version": "2.0.0",
      "model_name": "LayoutModel",
      "state": {}
     },
     "b9d54b5a2821465a8c6caa3dd3dacc11": {
      "model_module": "@jupyter-widgets/controls",
      "model_module_version": "2.0.0",
      "model_name": "CheckboxModel",
      "state": {
       "description": "Ringfort",
       "disabled": false,
       "indent": false,
       "layout": "IPY_MODEL_1b734e8642024a428b65d1645315b08e",
       "style": "IPY_MODEL_ee89a7bdf422420e9937952a024275f6",
       "value": true
      }
     },
     "b9e1ce0390b24d3d9503194cd9025c28": {
      "model_module": "@jupyter-widgets/controls",
      "model_module_version": "2.0.0",
      "model_name": "CheckboxModel",
      "state": {
       "description": "Barrow",
       "disabled": false,
       "indent": false,
       "layout": "IPY_MODEL_e84f8dcbf8c443468e6bf1106bdfc4af",
       "style": "IPY_MODEL_51a5c12813c9466498fa55eb250f1e69",
       "value": true
      }
     },
     "ba0904c1ab0d498dad4c73539d5fc647": {
      "model_module": "@jupyter-widgets/controls",
      "model_module_version": "2.0.0",
      "model_name": "HTMLModel",
      "state": {
       "layout": "IPY_MODEL_47ea89e7ffe1444fa56ce575dc0da578",
       "style": "IPY_MODEL_9f467c2451934817a1e699816cedcc6f",
       "value": "<font color='black'>Select classes for inference:"
      }
     },
     "ba16ab7b944e4617851aeb4f7eb26641": {
      "model_module": "@jupyter-widgets/base",
      "model_module_version": "2.0.0",
      "model_name": "LayoutModel",
      "state": {
       "width": "98%"
      }
     },
     "ba1b66a155f1454a95d1393ae978ba94": {
      "model_module": "@jupyter-widgets/controls",
      "model_module_version": "2.0.0",
      "model_name": "RadioButtonsModel",
      "state": {
       "_options_labels": [
        "object detection",
        "segmentation"
       ],
       "description": "Select ML method:",
       "index": 1,
       "layout": "IPY_MODEL_89c45cf752cc4c52863197720b63c8b1",
       "style": "IPY_MODEL_63bcffe4d11143b8a055e7db5e72e05f"
      }
     },
     "ba22d5c6d0224d54843a83b57cd8e6b8": {
      "model_module": "@jupyter-widgets/controls",
      "model_module_version": "2.0.0",
      "model_name": "TextStyleModel",
      "state": {
       "description_width": "initial",
       "font_size": null,
       "text_color": null
      }
     },
     "ba449dcba2e5492da459534e0d4f9a69": {
      "model_module": "@jupyter-widgets/output",
      "model_module_version": "1.0.0",
      "model_name": "OutputModel",
      "state": {
       "layout": "IPY_MODEL_235398aee16042c391044a57db2af286",
       "outputs": [
        {
         "name": "stdout",
         "output_type": "stream",
         "text": "{'name': '_property_lock', 'old': {'index': 1}, 'new': {}, 'owner': RadioButtons(description='Select input type:', index=1, options=('DEM (*.tif / *.vrt)', 'Visualization (*.tif / *.vrt)'), value='Visualization (*.tif / *.vrt)'), 'type': 'change'}\n"
        }
       ]
      }
     },
     "bab6b2e4a9b6446b92dc0d99f8b8f0c3": {
      "model_module": "@jupyter-widgets/controls",
      "model_module_version": "2.0.0",
      "model_name": "HBoxModel",
      "state": {
       "children": [
        "IPY_MODEL_173c3088e5894570bddc99f68acdadee",
        "IPY_MODEL_e81c895519524e039beb6821a1b716ad"
       ],
       "layout": "IPY_MODEL_2a7af32bacde486c89ce8b3568931ce2"
      }
     },
     "bab6b8c6e79442a3a79dcdf6194d1d30": {
      "model_module": "@jupyter-widgets/controls",
      "model_module_version": "2.0.0",
      "model_name": "CheckboxStyleModel",
      "state": {
       "description_width": ""
      }
     },
     "baea85e116284b099275e627806a385b": {
      "model_module": "@jupyter-widgets/controls",
      "model_module_version": "2.0.0",
      "model_name": "CheckboxStyleModel",
      "state": {
       "description_width": ""
      }
     },
     "baf5307a5a23494ba0f26050018be5d9": {
      "model_module": "@jupyter-widgets/controls",
      "model_module_version": "2.0.0",
      "model_name": "TextModel",
      "state": {
       "description": "DEM path:",
       "disabled": true,
       "layout": "IPY_MODEL_2b82a582696a4b74a89a73371fcd2da1",
       "placeholder": "<my_data_folder/my_DEM_file.tif>",
       "style": "IPY_MODEL_13557e6ff56a45dc87bf82eb67989e5c"
      }
     },
     "baf649f4440e4be6abfb169e189309ea": {
      "model_module": "@jupyter-widgets/controls",
      "model_module_version": "2.0.0",
      "model_name": "RadioButtonsModel",
      "state": {
       "_options_labels": [
        "object detection",
        "segmentation"
       ],
       "description": "Select ML method:",
       "index": 1,
       "layout": "IPY_MODEL_c696ebec9ced42a8ae63008ada91fac3",
       "style": "IPY_MODEL_e9b09bd680cc4650ade63f1346dad155"
      }
     },
     "bafabbe98a7e4d519115deec19cd1fc2": {
      "model_module": "@jupyter-widgets/base",
      "model_module_version": "2.0.0",
      "model_name": "LayoutModel",
      "state": {
       "border_bottom": "1px solid black",
       "border_left": "1px solid black",
       "border_right": "1px solid black",
       "border_top": "1px solid black"
      }
     },
     "bb1a7113cffd4d2181a8be5d5c4a4591": {
      "model_module": "@jupyter-widgets/base",
      "model_module_version": "2.0.0",
      "model_name": "LayoutModel",
      "state": {
       "border_bottom": "1px solid black",
       "border_left": "1px solid black",
       "border_right": "1px solid black",
       "border_top": "1px solid black"
      }
     },
     "bb480fda72bf40be8fd9289e02f81c80": {
      "model_module": "@jupyter-widgets/controls",
      "model_module_version": "2.0.0",
      "model_name": "RadioButtonsModel",
      "state": {
       "_options_labels": [
        "DEM (*.tif / *.vrt)",
        "Visualization (*.tif / *.vrt)"
       ],
       "description": "Select input type:",
       "index": 1,
       "layout": "IPY_MODEL_43d1fdb3e70643fb85ddc4012adc7d39",
       "style": "IPY_MODEL_8270439ede804cfc85e6be1c772acf78"
      }
     },
     "bbe343a7b72945b3a7ae709b903133f4": {
      "model_module": "@jupyter-widgets/base",
      "model_module_version": "2.0.0",
      "model_name": "LayoutModel",
      "state": {}
     },
     "bbf7de9cd723417abee7a97d358c45e1": {
      "model_module": "@jupyter-widgets/controls",
      "model_module_version": "2.0.0",
      "model_name": "RadioButtonsModel",
      "state": {
       "_options_labels": [
        "white",
        "tan",
        "slate",
        "green"
       ],
       "index": 0,
       "layout": "IPY_MODEL_90a5bf55a363438386edef32d823e823",
       "style": "IPY_MODEL_171a5fd066c747b5bbe53bb7bf9aa6ae"
      }
     },
     "bc3781b00a5443fabd25987490e78e44": {
      "model_module": "@jupyter-widgets/controls",
      "model_module_version": "2.0.0",
      "model_name": "VBoxModel",
      "state": {
       "children": [
        "IPY_MODEL_550b39f6ad2f470892f70524442fb0bc",
        "IPY_MODEL_ad06c4975ec54afea71737dceb3e0b38",
        "IPY_MODEL_3093625e437c422c8d77cc657447df77",
        "IPY_MODEL_7fb36e807cd44d2cbdc98ca698273665"
       ],
       "layout": "IPY_MODEL_9280bcf9e9624a54b73225519dc3dc7a"
      }
     },
     "bc45d9912f1a4113a9a38178aa848639": {
      "model_module": "@jupyter-widgets/controls",
      "model_module_version": "2.0.0",
      "model_name": "DescriptionStyleModel",
      "state": {
       "description_width": ""
      }
     },
     "bc68da6982f54f89a02bfd7776066e7a": {
      "model_module": "@jupyter-widgets/controls",
      "model_module_version": "2.0.0",
      "model_name": "TextStyleModel",
      "state": {
       "description_width": "initial",
       "font_size": null,
       "text_color": null
      }
     },
     "bcc88d816a1e4da4ab9ae4187b72f5b8": {
      "model_module": "@jupyter-widgets/controls",
      "model_module_version": "2.0.0",
      "model_name": "CheckboxStyleModel",
      "state": {
       "description_width": ""
      }
     },
     "bcd661fd611d48aca72d3859917414bd": {
      "model_module": "@jupyter-widgets/controls",
      "model_module_version": "2.0.0",
      "model_name": "CheckboxStyleModel",
      "state": {
       "description_width": ""
      }
     },
     "bcf3ac70056446899a5e3e467ac497a3": {
      "model_module": "@jupyter-widgets/controls",
      "model_module_version": "2.0.0",
      "model_name": "RadioButtonsModel",
      "state": {
       "_options_labels": [
        "object detection",
        "segmentation"
       ],
       "description": "Select ML method:",
       "index": 1,
       "layout": "IPY_MODEL_cb41daf26f2a4b6c9c8af5881e446464",
       "style": "IPY_MODEL_5e692d517bd04a60b5daf9b5db9667dc"
      }
     },
     "bcf96b5d368440989f0cdf1230fcb964": {
      "model_module": "@jupyter-widgets/base",
      "model_module_version": "2.0.0",
      "model_name": "LayoutModel",
      "state": {}
     },
     "bd1b0515a2bd47a59fee524d505b0b5d": {
      "model_module": "@jupyter-widgets/controls",
      "model_module_version": "2.0.0",
      "model_name": "TextModel",
      "state": {
       "description": "Visualization path:",
       "disabled": true,
       "layout": "IPY_MODEL_6e54832afeb04803a5c241673c23df9d",
       "placeholder": "<my_data_folder/my_visualization_file.tif>",
       "style": "IPY_MODEL_7e3f0fef3a0a443a9381f4a9cba3a52d"
      }
     },
     "bd5853988c7e45d5843fe91e6002b13e": {
      "model_module": "@jupyter-widgets/controls",
      "model_module_version": "2.0.0",
      "model_name": "CheckboxModel",
      "state": {
       "description": "Batch processing",
       "disabled": false,
       "indent": false,
       "layout": "IPY_MODEL_1db4628252a34dd7a625d1dc339a0922",
       "style": "IPY_MODEL_c3cc1e89eea64f05be6f6434afb45aa8",
       "value": false
      }
     },
     "bd6846ac996e42878d13ad60e0d136c5": {
      "model_module": "@jupyter-widgets/controls",
      "model_module_version": "2.0.0",
      "model_name": "HTMLStyleModel",
      "state": {
       "description_width": "",
       "font_size": null,
       "text_color": null
      }
     },
     "bd74c4a302f84e1a9734099f0eb02ff4": {
      "model_module": "@jupyter-widgets/controls",
      "model_module_version": "2.0.0",
      "model_name": "TextStyleModel",
      "state": {
       "description_width": "",
       "font_size": null,
       "text_color": null
      }
     },
     "bd7e74f2d9ff41a592a8b16b48293827": {
      "model_module": "@jupyter-widgets/base",
      "model_module_version": "2.0.0",
      "model_name": "LayoutModel",
      "state": {}
     },
     "bd9d14549e404285bf98f674702eff38": {
      "model_module": "@jupyter-widgets/base",
      "model_module_version": "2.0.0",
      "model_name": "LayoutModel",
      "state": {}
     },
     "bdd4df75fbe3445785621147ec72fabc": {
      "model_module": "@jupyter-widgets/base",
      "model_module_version": "2.0.0",
      "model_name": "LayoutModel",
      "state": {}
     },
     "bdd91fff0927480abde5120ef32e14bc": {
      "model_module": "@jupyter-widgets/output",
      "model_module_version": "1.0.0",
      "model_name": "OutputModel",
      "state": {
       "layout": "IPY_MODEL_4d015319d5dc4d8a8a38b86ddd36b82c",
       "outputs": [
        {
         "data": {
          "application/vnd.jupyter.widget-view+json": {
           "model_id": "539020de91d7463bbbf871acd7edc26f",
           "version_major": 2,
           "version_minor": 0
          },
          "text/plain": "Text(value='', description='DEM path:', layout=Layout(width='98%'), placeholder='<my_data_folder/my_DEM_file.t…"
         },
         "metadata": {},
         "output_type": "display_data"
        }
       ]
      }
     },
     "bde78718498349aa89a5a4649288da35": {
      "model_module": "@jupyter-widgets/base",
      "model_module_version": "2.0.0",
      "model_name": "LayoutModel",
      "state": {}
     },
     "bdef339eed044b4e8c180593203aa0ab": {
      "model_module": "@jupyter-widgets/output",
      "model_module_version": "1.0.0",
      "model_name": "OutputModel",
      "state": {
       "layout": "IPY_MODEL_5d9cd4c827e54b0ea4b42e921c2877d3",
       "outputs": [
        {
         "name": "stdout",
         "output_type": "stream",
         "text": "{'name': '_property_lock', 'old': {'value': True}, 'new': {}, 'owner': Checkbox(value=True, description='Batch processing', indent=False), 'type': 'change'}\n"
        }
       ]
      }
     },
     "bdf6d6f19d6c4a3ebfcb6c10826858bf": {
      "model_module": "@jupyter-widgets/controls",
      "model_module_version": "2.0.0",
      "model_name": "RadioButtonsModel",
      "state": {
       "_options_labels": [
        "DEM (*.tif / *.vrt)",
        "Visualization (*.tif / *.vrt)"
       ],
       "description": "Select input file:",
       "index": 1,
       "layout": "IPY_MODEL_5765a8dd8ddf4d3d99e44ae3150373e2",
       "style": "IPY_MODEL_29275c8720d44d9b959da6d343b08d98"
      }
     },
     "be09e1cc7d054d9d9d66ce024d1c8c1a": {
      "model_module": "@jupyter-widgets/controls",
      "model_module_version": "2.0.0",
      "model_name": "HTMLStyleModel",
      "state": {
       "description_width": "",
       "font_size": null,
       "text_color": null
      }
     },
     "be0eb0e762584261af28014926ad0a82": {
      "model_module": "@jupyter-widgets/controls",
      "model_module_version": "2.0.0",
      "model_name": "RadioButtonsModel",
      "state": {
       "_options_labels": [
        "DEM (*.tif / *.vrt)",
        "Visualization (*.tif / *.vrt)"
       ],
       "description": "Select input type:",
       "index": 1,
       "layout": "IPY_MODEL_afe931d2913d407e9115bf31329bd24f",
       "style": "IPY_MODEL_dee35c40515d47da9fc95bfa91db434f"
      }
     },
     "be2b131ae3434b5aa3eb6f33c7467cd0": {
      "model_module": "@jupyter-widgets/base",
      "model_module_version": "2.0.0",
      "model_name": "LayoutModel",
      "state": {
       "border_bottom": "1px solid black",
       "border_left": "1px solid black",
       "border_right": "1px solid black",
       "border_top": "1px solid black"
      }
     },
     "be4bc49e94ba4a1aab332cf0c436fa8c": {
      "model_module": "@jupyter-widgets/base",
      "model_module_version": "2.0.0",
      "model_name": "LayoutModel",
      "state": {}
     },
     "be5c0fec859e446cb9b17352b9af8492": {
      "model_module": "@jupyter-widgets/controls",
      "model_module_version": "2.0.0",
      "model_name": "CheckboxModel",
      "state": {
       "description": "All archaeology",
       "disabled": false,
       "indent": false,
       "layout": "IPY_MODEL_67cffe04d415430994c7eee24249b777",
       "style": "IPY_MODEL_66a871e20b3a4af8a0e3c9c7e373c9d7",
       "value": false
      }
     },
     "beba0341c3214d46af0a3d0a533270eb": {
      "model_module": "@jupyter-widgets/base",
      "model_module_version": "2.0.0",
      "model_name": "LayoutModel",
      "state": {}
     },
     "bebc12431d824bd99b84af902426fa90": {
      "model_module": "@jupyter-widgets/base",
      "model_module_version": "2.0.0",
      "model_name": "LayoutModel",
      "state": {}
     },
     "bf01a74b9923433192956cc37879e81d": {
      "model_module": "@jupyter-widgets/controls",
      "model_module_version": "2.0.0",
      "model_name": "RadioButtonsModel",
      "state": {
       "_options_labels": [
        "ADAF model",
        "Custom model"
       ],
       "description": "Select ML model:",
       "index": 0,
       "layout": "IPY_MODEL_112a437dfcc54a659d538874d052cbff",
       "style": "IPY_MODEL_3ff3d94aa526444facd2dd7a9f11a849"
      }
     },
     "bf21a1e9135b45eb840a5dbe252ba131": {
      "model_module": "@jupyter-widgets/base",
      "model_module_version": "2.0.0",
      "model_name": "LayoutModel",
      "state": {}
     },
     "bf430fada522466b94434fb951525eda": {
      "model_module": "@jupyter-widgets/controls",
      "model_module_version": "2.0.0",
      "model_name": "LabelModel",
      "state": {
       "layout": "IPY_MODEL_219764368c9e43f28f78e774a5aef042",
       "style": "IPY_MODEL_ae250c0fdcd34b92a27e274ed808dc0c",
       "value": "Path to ML model [*.tar]:"
      }
     },
     "bf5bd77d9d914407a3195b0f847f59b0": {
      "model_module": "@jupyter-widgets/controls",
      "model_module_version": "2.0.0",
      "model_name": "LabelModel",
      "state": {
       "layout": "IPY_MODEL_a287c973a97a40ddbe6f447db6275f9c",
       "style": "IPY_MODEL_06046886b3454879882504090862894c",
       "value": "Select classes for inference:"
      }
     },
     "bf687bc834a74f1c817f1378d2f09cf2": {
      "model_module": "@jupyter-widgets/controls",
      "model_module_version": "2.0.0",
      "model_name": "HTMLStyleModel",
      "state": {
       "description_width": "",
       "font_size": null,
       "text_color": null
      }
     },
     "bf69b7f48645477a96f9ffa83c01c5c7": {
      "model_module": "@jupyter-widgets/base",
      "model_module_version": "2.0.0",
      "model_name": "LayoutModel",
      "state": {}
     },
     "bf8de1c6b8fc408ab506d792cbdce36b": {
      "model_module": "@jupyter-widgets/base",
      "model_module_version": "2.0.0",
      "model_name": "LayoutModel",
      "state": {
       "width": "98%"
      }
     },
     "bfa718177743429fb6b157c2c1e1f900": {
      "model_module": "@jupyter-widgets/controls",
      "model_module_version": "2.0.0",
      "model_name": "CheckboxStyleModel",
      "state": {
       "description_width": ""
      }
     },
     "bfbd7fa58d404766aacf06cb332d3235": {
      "model_module": "@jupyter-widgets/base",
      "model_module_version": "2.0.0",
      "model_name": "LayoutModel",
      "state": {}
     },
     "c0042496c3604cb88467ac112b5da71e": {
      "model_module": "@jupyter-widgets/controls",
      "model_module_version": "2.0.0",
      "model_name": "CheckboxStyleModel",
      "state": {
       "description_width": ""
      }
     },
     "c01a8d905550499a924c10c73a3b46f7": {
      "model_module": "@jupyter-widgets/base",
      "model_module_version": "2.0.0",
      "model_name": "LayoutModel",
      "state": {
       "border_bottom": "1px solid black",
       "border_left": "1px solid black",
       "border_right": "1px solid black",
       "border_top": "1px solid black"
      }
     },
     "c02f5baa0c724610bb81a42a52d71d16": {
      "model_module": "@jupyter-widgets/base",
      "model_module_version": "2.0.0",
      "model_name": "LayoutModel",
      "state": {}
     },
     "c03655b5f1254b3fa3274973760b124e": {
      "model_module": "@jupyter-widgets/base",
      "model_module_version": "2.0.0",
      "model_name": "LayoutModel",
      "state": {}
     },
     "c0654376a941401d8b94893e8062dcfc": {
      "model_module": "@jupyter-widgets/controls",
      "model_module_version": "2.0.0",
      "model_name": "CheckboxModel",
      "state": {
       "description": "Batch processing",
       "disabled": false,
       "indent": false,
       "layout": "IPY_MODEL_785b26c657ad4ca69d03968aebdaaf10",
       "style": "IPY_MODEL_03ea0ef7474444e1ad0254172767ac6d",
       "value": false
      }
     },
     "c07a67c350fd4395bea10a414c800bb5": {
      "model_module": "@jupyter-widgets/base",
      "model_module_version": "2.0.0",
      "model_name": "LayoutModel",
      "state": {}
     },
     "c0c6528b2c9346b3986455f8fc2e89d2": {
      "model_module": "@jupyter-widgets/controls",
      "model_module_version": "2.0.0",
      "model_name": "DescriptionStyleModel",
      "state": {
       "description_width": ""
      }
     },
     "c0d820b374d04ddcba49e269975c3e7e": {
      "model_module": "@jupyter-widgets/controls",
      "model_module_version": "2.0.0",
      "model_name": "TextModel",
      "state": {
       "description": "DEM path [*.tif / *.vrt]:",
       "disabled": true,
       "layout": "IPY_MODEL_ecdbe1888b3141f1b6a22b9edfa06774",
       "placeholder": "data_folder/file.tif",
       "style": "IPY_MODEL_932e5e87baea44959707d7df975babb6"
      }
     },
     "c0e15333fb9646db9fe7b3d244a513cc": {
      "model_module": "@jupyter-widgets/controls",
      "model_module_version": "2.0.0",
      "model_name": "CheckboxStyleModel",
      "state": {
       "description_width": ""
      }
     },
     "c1127a3104544a3e85d89e9194056484": {
      "model_module": "@jupyter-widgets/controls",
      "model_module_version": "2.0.0",
      "model_name": "CheckboxModel",
      "state": {
       "description": "Batch processing",
       "disabled": false,
       "indent": false,
       "layout": "IPY_MODEL_79356a9d06d6464a870aa05a4782cd14",
       "style": "IPY_MODEL_255f65044d764cc2bccad260c14c061a",
       "value": false
      }
     },
     "c166e0cc9f3b49719cd340c06b7b79d2": {
      "model_module": "@jupyter-widgets/base",
      "model_module_version": "2.0.0",
      "model_name": "LayoutModel",
      "state": {}
     },
     "c1792a7ebe21408ba9cef865a833fa4f": {
      "model_module": "@jupyter-widgets/controls",
      "model_module_version": "2.0.0",
      "model_name": "CheckboxModel",
      "state": {
       "description": "All archaeology",
       "disabled": true,
       "indent": false,
       "layout": "IPY_MODEL_4f5ba95621174b64a7c3c65bf4346a67",
       "style": "IPY_MODEL_d2a6fff9300348f6aae3f798953bde3d",
       "value": false
      }
     },
     "c17ab1eb62b94e7c82dd8ab49f253b41": {
      "model_module": "@jupyter-widgets/output",
      "model_module_version": "1.0.0",
      "model_name": "OutputModel",
      "state": {
       "layout": "IPY_MODEL_71ada5bfb06544dc903ca8aa32809a00",
       "outputs": [
        {
         "name": "stdout",
         "output_type": "stream",
         "text": "0\n"
        }
       ]
      }
     },
     "c196746b44f2433ca87e187c0f311152": {
      "model_module": "@jupyter-widgets/controls",
      "model_module_version": "2.0.0",
      "model_name": "CheckboxModel",
      "state": {
       "description": "Batch processing",
       "disabled": false,
       "indent": false,
       "layout": "IPY_MODEL_3a6f87eebce7402f8c570a2183e57205",
       "style": "IPY_MODEL_baea85e116284b099275e627806a385b",
       "value": false
      }
     },
     "c1c09ce1f94c406cb83ed75738e61c61": {
      "model_module": "@jupyter-widgets/controls",
      "model_module_version": "2.0.0",
      "model_name": "DescriptionStyleModel",
      "state": {
       "description_width": ""
      }
     },
     "c1eb0aa27e404613b6c9489a10700e7b": {
      "model_module": "@jupyter-widgets/base",
      "model_module_version": "2.0.0",
      "model_name": "LayoutModel",
      "state": {}
     },
     "c20c215de43a4f09a667f1d007857e2a": {
      "model_module": "@jupyter-widgets/controls",
      "model_module_version": "2.0.0",
      "model_name": "CheckboxModel",
      "state": {
       "description": "Batch processing",
       "disabled": false,
       "indent": false,
       "layout": "IPY_MODEL_42d7458deace4b129808627524230b59",
       "style": "IPY_MODEL_41a1affc45cd4ce0a2b177da505d4d72",
       "value": false
      }
     },
     "c211ccdabd0c48e69ddf21a90e813600": {
      "model_module": "@jupyter-widgets/base",
      "model_module_version": "2.0.0",
      "model_name": "LayoutModel",
      "state": {}
     },
     "c22ab36e4fc94d049350248cb2510f38": {
      "model_module": "@jupyter-widgets/controls",
      "model_module_version": "2.0.0",
      "model_name": "TextStyleModel",
      "state": {
       "description_width": "initial",
       "font_size": null,
       "text_color": null
      }
     },
     "c23d1e45ffed4d56aa558976bed3b42f": {
      "model_module": "@jupyter-widgets/base",
      "model_module_version": "2.0.0",
      "model_name": "LayoutModel",
      "state": {
       "border_bottom": "1px solid black",
       "border_left": "1px solid black",
       "border_right": "1px solid black",
       "border_top": "1px solid black"
      }
     },
     "c28031eca13146b588bfb0c59a541b95": {
      "model_module": "@jupyter-widgets/base",
      "model_module_version": "2.0.0",
      "model_name": "LayoutModel",
      "state": {}
     },
     "c2b144b4119042ac8b74ebd19c68099a": {
      "model_module": "@jupyter-widgets/base",
      "model_module_version": "2.0.0",
      "model_name": "LayoutModel",
      "state": {
       "border_bottom": "1px solid black",
       "border_left": "1px solid black",
       "border_right": "1px solid black",
       "border_top": "1px solid black"
      }
     },
     "c2b25dbcde424d01b2eb7e13ad261498": {
      "model_module": "@jupyter-widgets/controls",
      "model_module_version": "2.0.0",
      "model_name": "RadioButtonsModel",
      "state": {
       "_options_labels": [
        "ADAF model",
        "Custom model"
       ],
       "description": "Select ML model:",
       "index": 0,
       "layout": "IPY_MODEL_44eba00b7a2e4d8c9087ed5fa5ca6926",
       "style": "IPY_MODEL_3781a081bb7248aab0adc9be41235cdc"
      }
     },
     "c30192822b5948128a212fa13699fbc2": {
      "model_module": "@jupyter-widgets/output",
      "model_module_version": "1.0.0",
      "model_name": "OutputModel",
      "state": {
       "layout": "IPY_MODEL_8b9bc6522cdd47ed8729726bda2d3d2d",
       "outputs": [
        {
         "data": {
          "application/vnd.jupyter.widget-view+json": {
           "model_id": "21a9bf9a41ca44088ba4ee9a4f04772d",
           "version_major": 2,
           "version_minor": 0
          },
          "text/plain": "Label(value='Select classes for inference:')"
         },
         "metadata": {},
         "output_type": "display_data"
        }
       ]
      }
     },
     "c303d191f2554d21957097148e7db213": {
      "model_module": "@jupyter-widgets/base",
      "model_module_version": "2.0.0",
      "model_name": "LayoutModel",
      "state": {}
     },
     "c30e16c09ae6433fa56f3a7667b98a41": {
      "model_module": "@jupyter-widgets/base",
      "model_module_version": "2.0.0",
      "model_name": "LayoutModel",
      "state": {}
     },
     "c3474391bfdc4df382297526ee9fe1d8": {
      "model_module": "@jupyter-widgets/controls",
      "model_module_version": "2.0.0",
      "model_name": "TextModel",
      "state": {
       "description": "path",
       "layout": "IPY_MODEL_71ecc1930b0042089851d1f090d44131",
       "style": "IPY_MODEL_9bf580c5565045c7860effb2ae20d07e",
       "value": "c:\\Users\\ncoz\\GitHub\\aitlas-TII-LIDAR\\inference\\data\\archaeology1_TIN\\135000_296000_archaeology1_TIN.tif"
      }
     },
     "c3652de014f14534a6f755ddb379c543": {
      "model_module": "@jupyter-widgets/base",
      "model_module_version": "2.0.0",
      "model_name": "LayoutModel",
      "state": {}
     },
     "c37a2a7934ac494485091cfd01399faf": {
      "model_module": "@jupyter-widgets/controls",
      "model_module_version": "2.0.0",
      "model_name": "RadioButtonsModel",
      "state": {
       "_options_labels": [
        "DEM",
        "visualization"
       ],
       "description": "Select the input data type:",
       "index": null,
       "layout": "IPY_MODEL_46f1f862c88e4c8a98c6b2861b6ef3bf",
       "style": "IPY_MODEL_10f7dfd21b1948538b2c3bb121cce5c5"
      }
     },
     "c39bbad700054780901b9b0a73b7f0c8": {
      "model_module": "@jupyter-widgets/controls",
      "model_module_version": "2.0.0",
      "model_name": "CheckboxStyleModel",
      "state": {
       "description_width": ""
      }
     },
     "c3cc1e89eea64f05be6f6434afb45aa8": {
      "model_module": "@jupyter-widgets/controls",
      "model_module_version": "2.0.0",
      "model_name": "CheckboxStyleModel",
      "state": {
       "description_width": ""
      }
     },
     "c3d2dd541b064d50a5aedd21e7b4cdcb": {
      "model_module": "@jupyter-widgets/controls",
      "model_module_version": "2.0.0",
      "model_name": "TextModel",
      "state": {
       "layout": "IPY_MODEL_60a1ffa8ac3c40a7bdbf69de03527ea4",
       "style": "IPY_MODEL_bd74c4a302f84e1a9734099f0eb02ff4"
      }
     },
     "c40f8ca5a1ad460eb9cbd36abb730898": {
      "model_module": "@jupyter-widgets/controls",
      "model_module_version": "2.0.0",
      "model_name": "CheckboxModel",
      "state": {
       "description": "All archaeology",
       "disabled": false,
       "indent": false,
       "layout": "IPY_MODEL_4e60eb68335a4057b795e2847b0ab965",
       "style": "IPY_MODEL_34f97ba48959461e87931c92a5af8db8",
       "value": false
      }
     },
     "c4110ec184244b17a9f935bd3349eb1e": {
      "model_module": "@jupyter-widgets/base",
      "model_module_version": "2.0.0",
      "model_name": "LayoutModel",
      "state": {}
     },
     "c42bec7516ab4df5afbbf27b0c2438ab": {
      "model_module": "@jupyter-widgets/output",
      "model_module_version": "1.0.0",
      "model_name": "OutputModel",
      "state": {
       "layout": "IPY_MODEL_c03655b5f1254b3fa3274973760b124e",
       "outputs": [
        {
         "data": {
          "application/vnd.jupyter.widget-view+json": {
           "model_id": "2a8d6bea9f05480b9d4f57ef52d18243",
           "version_major": 2,
           "version_minor": 0
          },
          "text/plain": "Label(value='Select classes for inference:')"
         },
         "metadata": {},
         "output_type": "display_data"
        }
       ]
      }
     },
     "c4347cc13d354e8993db286e525474dd": {
      "model_module": "@jupyter-widgets/controls",
      "model_module_version": "2.0.0",
      "model_name": "HTMLStyleModel",
      "state": {
       "description_width": "",
       "font_size": null,
       "text_color": null
      }
     },
     "c44b7593541d4e16a56af6f6b1e193a4": {
      "model_module": "@jupyter-widgets/base",
      "model_module_version": "2.0.0",
      "model_name": "LayoutModel",
      "state": {
       "width": "98%"
      }
     },
     "c49d0d019f8e402b851321b11f0c41d8": {
      "model_module": "@jupyter-widgets/controls",
      "model_module_version": "2.0.0",
      "model_name": "CheckboxModel",
      "state": {
       "description": "Enclosure",
       "disabled": false,
       "indent": false,
       "layout": "IPY_MODEL_592cb76ff12a4df6a75d07071d6375c4",
       "style": "IPY_MODEL_c5b772f0005c49a6b17ad6a619143821",
       "value": true
      }
     },
     "c4b140c1bd484bbf85d6caa2c8adf0e8": {
      "model_module": "@jupyter-widgets/controls",
      "model_module_version": "2.0.0",
      "model_name": "LabelStyleModel",
      "state": {
       "description_width": "",
       "font_family": null,
       "font_size": null,
       "font_style": null,
       "font_variant": null,
       "font_weight": null,
       "text_color": null,
       "text_decoration": null
      }
     },
     "c4bfb3e087c148d78d10e3e4fb1a500c": {
      "model_module": "@jupyter-widgets/base",
      "model_module_version": "2.0.0",
      "model_name": "LayoutModel",
      "state": {}
     },
     "c4e46f76e18b413babedb7f751013b5b": {
      "model_module": "@jupyter-widgets/controls",
      "model_module_version": "2.0.0",
      "model_name": "CheckboxStyleModel",
      "state": {
       "description_width": ""
      }
     },
     "c4ed3a1765d1484c9d49d953ae74b36d": {
      "model_module": "@jupyter-widgets/controls",
      "model_module_version": "2.0.0",
      "model_name": "CheckboxStyleModel",
      "state": {
       "description_width": ""
      }
     },
     "c4fa36593ff84c88bb41a511a921fafd": {
      "model_module": "@jupyter-widgets/controls",
      "model_module_version": "2.0.0",
      "model_name": "CheckboxModel",
      "state": {
       "description": "Barrow",
       "disabled": false,
       "indent": false,
       "layout": "IPY_MODEL_a759b3f43e5c4aaf9bb9a21aebd7361c",
       "style": "IPY_MODEL_c4ed3a1765d1484c9d49d953ae74b36d",
       "value": true
      }
     },
     "c51302b5ab56401c8c097422aab53e82": {
      "model_module": "@jupyter-widgets/controls",
      "model_module_version": "2.0.0",
      "model_name": "CheckboxModel",
      "state": {
       "description": "Barrow",
       "disabled": false,
       "indent": false,
       "layout": "IPY_MODEL_254dc80242a545a49e30873f5a4da2ba",
       "style": "IPY_MODEL_195c13685fd34022bcf91762c6d6abdc",
       "value": true
      }
     },
     "c51f144ba59e457794158fe09ff54ca8": {
      "model_module": "@jupyter-widgets/output",
      "model_module_version": "1.0.0",
      "model_name": "OutputModel",
      "state": {
       "layout": "IPY_MODEL_a3475b77b27d4ced8fe4921e545c5c1e",
       "outputs": [
        {
         "data": {
          "application/vnd.jupyter.widget-view+json": {
           "model_id": "4755fcffbec2437d8f5ec84b27a8ea0d",
           "version_major": 2,
           "version_minor": 0
          },
          "text/plain": "Text(value='', description='DEM path:', layout=Layout(width='98%'), placeholder='<my_data_folder/my_DEM_file.t…"
         },
         "metadata": {},
         "output_type": "display_data"
        }
       ]
      }
     },
     "c52f40e8412e48e6afbc2475d5aa6f9d": {
      "model_module": "@jupyter-widgets/controls",
      "model_module_version": "2.0.0",
      "model_name": "CheckboxStyleModel",
      "state": {
       "description_width": ""
      }
     },
     "c53d055eaa1144989c8805f979c92070": {
      "model_module": "@jupyter-widgets/base",
      "model_module_version": "2.0.0",
      "model_name": "LayoutModel",
      "state": {}
     },
     "c54096cc60cc4c79a3318d2a65919a5c": {
      "model_module": "@jupyter-widgets/controls",
      "model_module_version": "2.0.0",
      "model_name": "HTMLStyleModel",
      "state": {
       "description_width": "",
       "font_size": null,
       "text_color": null
      }
     },
     "c5483bde6c48451da40fb5a97ff77147": {
      "model_module": "@jupyter-widgets/controls",
      "model_module_version": "2.0.0",
      "model_name": "CheckboxStyleModel",
      "state": {
       "description_width": ""
      }
     },
     "c5b772f0005c49a6b17ad6a619143821": {
      "model_module": "@jupyter-widgets/controls",
      "model_module_version": "2.0.0",
      "model_name": "CheckboxStyleModel",
      "state": {
       "description_width": ""
      }
     },
     "c5cc24192292430593038bc8861fef8a": {
      "model_module": "@jupyter-widgets/controls",
      "model_module_version": "2.0.0",
      "model_name": "LabelModel",
      "state": {
       "layout": "IPY_MODEL_0a7ba6e0ef9b4c9aaab9521d5412533f",
       "style": "IPY_MODEL_e399d7f31a5c4a01b93e3b0a9fda829e",
       "value": "Select classes for inference:"
      }
     },
     "c5d371df3d81421b81493ef13ca4047d": {
      "model_module": "@jupyter-widgets/controls",
      "model_module_version": "2.0.0",
      "model_name": "CheckboxModel",
      "state": {
       "description": "Enclosure",
       "disabled": false,
       "indent": false,
       "layout": "IPY_MODEL_3e4b93acb3c24b52a7df39d0c4b3307d",
       "style": "IPY_MODEL_e8887ba472804b088fe0a88ae4e57a1b",
       "value": true
      }
     },
     "c5d739d8a48a4e3c9867947e5fe6906f": {
      "model_module": "@jupyter-widgets/controls",
      "model_module_version": "2.0.0",
      "model_name": "LabelStyleModel",
      "state": {
       "description_width": "",
       "font_family": null,
       "font_size": null,
       "font_style": null,
       "font_variant": null,
       "font_weight": null,
       "text_color": null,
       "text_decoration": null
      }
     },
     "c5d8828526c549f19acf34db287417bf": {
      "model_module": "@jupyter-widgets/base",
      "model_module_version": "2.0.0",
      "model_name": "LayoutModel",
      "state": {}
     },
     "c5fa71e3e69343d19e1ad55b6fb1340f": {
      "model_module": "@jupyter-widgets/controls",
      "model_module_version": "2.0.0",
      "model_name": "RadioButtonsModel",
      "state": {
       "_options_labels": [
        "object detection",
        "segmentation"
       ],
       "description": "Select ML method:",
       "index": 1,
       "layout": "IPY_MODEL_6ed0fbca7bab4ba4977ba12c9c46bab1",
       "style": "IPY_MODEL_17ee4705e0d8461cb6dbc3b22be63bc0"
      }
     },
     "c5ff1820db3543a189e797c8ab6985c0": {
      "model_module": "@jupyter-widgets/controls",
      "model_module_version": "2.0.0",
      "model_name": "CheckboxStyleModel",
      "state": {
       "description_width": ""
      }
     },
     "c606084a609a4146ba8b99e7d3b81cff": {
      "model_module": "@jupyter-widgets/controls",
      "model_module_version": "2.0.0",
      "model_name": "HBoxModel",
      "state": {
       "children": [
        "IPY_MODEL_071f1b5ab83e49569e03c69c2a0e6df8",
        "IPY_MODEL_38b860e478074a57bcd9cd275208d75b",
        "IPY_MODEL_373e59d2db4f433bb77da4cdc1c6f607",
        "IPY_MODEL_94cc540de42d4091bff1b9790f9d186f"
       ],
       "layout": "IPY_MODEL_1005028ae1944d5da48438b68ab5c6d7"
      }
     },
     "c647ec60046047788f0b0e4507214a61": {
      "model_module": "@jupyter-widgets/controls",
      "model_module_version": "2.0.0",
      "model_name": "CheckboxModel",
      "state": {
       "description": "Ringfort",
       "disabled": false,
       "indent": false,
       "layout": "IPY_MODEL_d5467b96072f400f8662def28a2547fc",
       "style": "IPY_MODEL_e5e64a8e6bb54b788190959199fdbb39",
       "value": true
      }
     },
     "c669f1f1d1284c1ca859bdbf56d372f2": {
      "model_module": "@jupyter-widgets/base",
      "model_module_version": "2.0.0",
      "model_name": "LayoutModel",
      "state": {}
     },
     "c68ba0be85b14d02afe84210844977d2": {
      "model_module": "@jupyter-widgets/controls",
      "model_module_version": "2.0.0",
      "model_name": "VBoxModel",
      "state": {
       "children": [
        "IPY_MODEL_68814606fdbd493db2a22251202d9fed",
        "IPY_MODEL_c42bec7516ab4df5afbbf27b0c2438ab",
        "IPY_MODEL_8e4ae383c4fa43b1b7659523b7b58e9a",
        "IPY_MODEL_78c96ca48eca4afd9431a6a4c9eabe23"
       ],
       "layout": "IPY_MODEL_137431b57fca4947b1bfc73329fdafb9"
      }
     },
     "c692b6b3850b43de901cde53a45aadf1": {
      "model_module": "@jupyter-widgets/base",
      "model_module_version": "2.0.0",
      "model_name": "LayoutModel",
      "state": {}
     },
     "c696ebec9ced42a8ae63008ada91fac3": {
      "model_module": "@jupyter-widgets/base",
      "model_module_version": "2.0.0",
      "model_name": "LayoutModel",
      "state": {}
     },
     "c699bdc2d2554a4b8c2acbd7bea6b4aa": {
      "model_module": "@jupyter-widgets/base",
      "model_module_version": "2.0.0",
      "model_name": "LayoutModel",
      "state": {}
     },
     "c6c71f0677cd41ae8ab2192acd35048f": {
      "model_module": "@jupyter-widgets/controls",
      "model_module_version": "2.0.0",
      "model_name": "LabelStyleModel",
      "state": {
       "description_width": "",
       "font_family": null,
       "font_size": null,
       "font_style": null,
       "font_variant": null,
       "font_weight": null,
       "text_color": null,
       "text_decoration": null
      }
     },
     "c6f479ed1fd140ffb1cebb5bd022b7af": {
      "model_module": "@jupyter-widgets/controls",
      "model_module_version": "2.0.0",
      "model_name": "CheckboxStyleModel",
      "state": {
       "description_width": ""
      }
     },
     "c721180499114e10a39f99c8c9d7dd81": {
      "model_module": "@jupyter-widgets/controls",
      "model_module_version": "2.0.0",
      "model_name": "RadioButtonsModel",
      "state": {
       "_options_labels": [
        "ADAF model",
        "Custom model"
       ],
       "description": "Select ML model:",
       "index": 0,
       "layout": "IPY_MODEL_77ea9165328a4a7798d98c3216ce2f4b",
       "style": "IPY_MODEL_80c41e041d5a4524bbe567f0d48e10e1"
      }
     },
     "c7306df8b6fe4d1b93345fde8bfa3cde": {
      "model_module": "@jupyter-widgets/base",
      "model_module_version": "2.0.0",
      "model_name": "LayoutModel",
      "state": {}
     },
     "c7317c592918440f9af5175fceab57dc": {
      "model_module": "@jupyter-widgets/controls",
      "model_module_version": "2.0.0",
      "model_name": "TextModel",
      "state": {
       "layout": "IPY_MODEL_4761ae6647714c5f976580db6a1d5c3d",
       "style": "IPY_MODEL_9c8b0b41135d483d8d7ce0cb6b63b049"
      }
     },
     "c736a260af334f1eb66ec64d6aeefc30": {
      "model_module": "@jupyter-widgets/output",
      "model_module_version": "1.0.0",
      "model_name": "OutputModel",
      "state": {
       "layout": "IPY_MODEL_4cbf9cf0731c49dd96607a84e801e3f5",
       "outputs": [
        {
         "name": "stdout",
         "output_type": "stream",
         "text": "{'name': '_property_lock', 'old': {'value': False}, 'new': {}, 'owner': Checkbox(value=False, description='Batch processing', indent=False), 'type': 'change'}\n"
        }
       ]
      }
     },
     "c7560567576646e190876318c2ca5c32": {
      "model_module": "@jupyter-widgets/base",
      "model_module_version": "2.0.0",
      "model_name": "LayoutModel",
      "state": {}
     },
     "c79d9b8a31ec4c249d2461ea9382cd53": {
      "model_module": "@jupyter-widgets/controls",
      "model_module_version": "2.0.0",
      "model_name": "LabelModel",
      "state": {
       "layout": "IPY_MODEL_d6521a71d8dc456fb5586c62765d90e4",
       "style": "IPY_MODEL_cdfdee7da4834e55b6909ead9b525a56",
       "value": "Select classes for inference:"
      }
     },
     "c7a8fccbac9348448d9624457c2a2bb6": {
      "model_module": "@jupyter-widgets/controls",
      "model_module_version": "2.0.0",
      "model_name": "CheckboxStyleModel",
      "state": {
       "description_width": ""
      }
     },
     "c7f31539b60141bca5fa125352aad283": {
      "model_module": "@jupyter-widgets/controls",
      "model_module_version": "2.0.0",
      "model_name": "CheckboxModel",
      "state": {
       "description": "Batch processing",
       "disabled": false,
       "indent": false,
       "layout": "IPY_MODEL_0e42604c6c8a4b5ca2c056d940a1eb95",
       "style": "IPY_MODEL_4228bb5af8a7483ab5e9a798f7404b46",
       "value": true
      }
     },
     "c818bfbb7a1e42d2b83256c4d51473e0": {
      "model_module": "@jupyter-widgets/base",
      "model_module_version": "2.0.0",
      "model_name": "LayoutModel",
      "state": {}
     },
     "c82feed0bca648de98ac16e3f59f24fa": {
      "model_module": "@jupyter-widgets/controls",
      "model_module_version": "2.0.0",
      "model_name": "TextStyleModel",
      "state": {
       "description_width": "initial",
       "font_size": null,
       "text_color": null
      }
     },
     "c83057af52c64c97b5fad21ebcfb2c40": {
      "model_module": "@jupyter-widgets/controls",
      "model_module_version": "2.0.0",
      "model_name": "TextModel",
      "state": {
       "description": "Path to ML model [*.tar]:",
       "disabled": true,
       "layout": "IPY_MODEL_89292c9d8ef24a62a8efa5856a022105",
       "placeholder": "model_folder/saved_model.tar",
       "style": "IPY_MODEL_8f45cbe19c704d109be1a3ecf243aba3"
      }
     },
     "c83376797a0048c0a083bcaa10441436": {
      "model_module": "@jupyter-widgets/controls",
      "model_module_version": "2.0.0",
      "model_name": "CheckboxModel",
      "state": {
       "description": "Batch processing",
       "disabled": false,
       "indent": false,
       "layout": "IPY_MODEL_4b26d2914d494719b946750e29483f12",
       "style": "IPY_MODEL_e1b98608fd764858a87d81481c12a637",
       "value": true
      }
     },
     "c86c87a184da4c96b1d015253452f44d": {
      "model_module": "@jupyter-widgets/controls",
      "model_module_version": "2.0.0",
      "model_name": "TextStyleModel",
      "state": {
       "description_width": "initial",
       "font_size": null,
       "text_color": null
      }
     },
     "c879b1c29e444adb95380945628375c2": {
      "model_module": "@jupyter-widgets/controls",
      "model_module_version": "2.0.0",
      "model_name": "CheckboxStyleModel",
      "state": {
       "description_width": ""
      }
     },
     "c8a89b8df37d4944818a64ae30ff0477": {
      "model_module": "@jupyter-widgets/controls",
      "model_module_version": "2.0.0",
      "model_name": "TextStyleModel",
      "state": {
       "description_width": "initial",
       "font_size": null,
       "text_color": null
      }
     },
     "c8ac5a1339584c0b863af2a393c3fdbe": {
      "model_module": "@jupyter-widgets/controls",
      "model_module_version": "2.0.0",
      "model_name": "CheckboxStyleModel",
      "state": {
       "description_width": ""
      }
     },
     "c918800acec84f8987082da11fee441d": {
      "model_module": "@jupyter-widgets/controls",
      "model_module_version": "2.0.0",
      "model_name": "CheckboxModel",
      "state": {
       "description": "Enclosure",
       "disabled": false,
       "indent": false,
       "layout": "IPY_MODEL_763d211c5e9a4df89061b842ce4726b9",
       "style": "IPY_MODEL_4c0fa77d00bf417db7ff51e2c31cfeee",
       "value": true
      }
     },
     "c924418b3ed2451082fdd5f6fc9704df": {
      "model_module": "@jupyter-widgets/output",
      "model_module_version": "1.0.0",
      "model_name": "OutputModel",
      "state": {
       "layout": "IPY_MODEL_fc17ec86879c419d88b7f2534499f2ff",
       "outputs": [
        {
         "data": {
          "application/vnd.jupyter.widget-view+json": {
           "model_id": "3302cf95cfed42f4aa844e3e10bcddd8",
           "version_major": 2,
           "version_minor": 0
          },
          "text/plain": "Text(value='', description='DEM path:', layout=Layout(width='98%'), placeholder='<my_data_folder/my_DEM_file.t…"
         },
         "metadata": {},
         "output_type": "display_data"
        }
       ]
      }
     },
     "c92fb3d3cd304d74b3c8ff50f5ab9d24": {
      "model_module": "@jupyter-widgets/base",
      "model_module_version": "2.0.0",
      "model_name": "LayoutModel",
      "state": {}
     },
     "c931af04b75b4a07bb9f87a27a2b8390": {
      "model_module": "@jupyter-widgets/controls",
      "model_module_version": "2.0.0",
      "model_name": "HTMLModel",
      "state": {
       "layout": "IPY_MODEL_80013f5cff74434789629eaaf25dc82a",
       "style": "IPY_MODEL_b247b2a12a754142b1cc7afd548f389a",
       "value": "<b>ML options:</b>"
      }
     },
     "c94f9feb2bc3410689d6a928ac9f1ad6": {
      "model_module": "@jupyter-widgets/controls",
      "model_module_version": "2.0.0",
      "model_name": "CheckboxModel",
      "state": {
       "description": "Batch processing",
       "disabled": false,
       "indent": false,
       "layout": "IPY_MODEL_0e27fd63ca7b4355a4e1329a3f13ea1c",
       "style": "IPY_MODEL_7a04b17b774b48528949adf3e8cc94d8",
       "value": false
      }
     },
     "c95dbb3f1ba44328b222b4cbd0c77418": {
      "model_module": "@jupyter-widgets/controls",
      "model_module_version": "2.0.0",
      "model_name": "HBoxModel",
      "state": {
       "children": [
        "IPY_MODEL_88b2482c48754492abd0b84fd185fe60",
        "IPY_MODEL_aaca92e735054b5ebb67c30073b2d496"
       ],
       "layout": "IPY_MODEL_b019a4fe0d504644be4e79759b0192f4"
      }
     },
     "ca0e17a665e94ebdb38a76e6a67452db": {
      "model_module": "@jupyter-widgets/base",
      "model_module_version": "2.0.0",
      "model_name": "LayoutModel",
      "state": {}
     },
     "ca2875f9fee049acb7097bea3dcaa516": {
      "model_module": "@jupyter-widgets/output",
      "model_module_version": "1.0.0",
      "model_name": "OutputModel",
      "state": {
       "layout": "IPY_MODEL_20207cdbff3944ecb935f919f0c44372",
       "outputs": [
        {
         "data": {
          "application/vnd.jupyter.widget-view+json": {
           "model_id": "c79d9b8a31ec4c249d2461ea9382cd53",
           "version_major": 2,
           "version_minor": 0
          },
          "text/plain": "Label(value='Select classes for inference:')"
         },
         "metadata": {},
         "output_type": "display_data"
        }
       ]
      }
     },
     "ca3e63965eb040a99af9bf70b97c58f4": {
      "model_module": "@jupyter-widgets/base",
      "model_module_version": "2.0.0",
      "model_name": "LayoutModel",
      "state": {}
     },
     "ca4abf92c02a472aab02a3f50a5221df": {
      "model_module": "@jupyter-widgets/base",
      "model_module_version": "2.0.0",
      "model_name": "LayoutModel",
      "state": {
       "width": "98%"
      }
     },
     "ca5f767da76140c18ab5db0c463fd38f": {
      "model_module": "@jupyter-widgets/base",
      "model_module_version": "2.0.0",
      "model_name": "LayoutModel",
      "state": {}
     },
     "ca741cee691b4736aa2f9e547124c4cd": {
      "model_module": "@jupyter-widgets/controls",
      "model_module_version": "2.0.0",
      "model_name": "CheckboxStyleModel",
      "state": {
       "description_width": ""
      }
     },
     "ca8a0fb38dbb447fbfa920ff75d64b75": {
      "model_module": "@jupyter-widgets/controls",
      "model_module_version": "2.0.0",
      "model_name": "DescriptionStyleModel",
      "state": {
       "description_width": ""
      }
     },
     "ca942f4fb9f8475aac098fbcbcad0c49": {
      "model_module": "@jupyter-widgets/controls",
      "model_module_version": "2.0.0",
      "model_name": "CheckboxStyleModel",
      "state": {
       "description_width": ""
      }
     },
     "ca9a82bc69fe4371a7d81e3598fb601c": {
      "model_module": "@jupyter-widgets/output",
      "model_module_version": "1.0.0",
      "model_name": "OutputModel",
      "state": {
       "layout": "IPY_MODEL_4656fb16e21a48ee90d84b7e359badf7",
       "outputs": [
        {
         "name": "stdout",
         "output_type": "stream",
         "text": "0\n"
        }
       ]
      }
     },
     "caa997ed2bb74a89b06ce896e2bcdafd": {
      "model_module": "@jupyter-widgets/base",
      "model_module_version": "2.0.0",
      "model_name": "LayoutModel",
      "state": {}
     },
     "cb11e3e32e1c40d0a7dd9c1cd1bc2e2a": {
      "model_module": "@jupyter-widgets/controls",
      "model_module_version": "2.0.0",
      "model_name": "RadioButtonsModel",
      "state": {
       "_options_labels": [
        "DEM (*.tif / *.vrt)",
        "Visualization (*.tif / *.vrt)"
       ],
       "description": "Select input file:",
       "index": 0,
       "layout": "IPY_MODEL_526cdcd785414960a6a0fe767513fbc2",
       "style": "IPY_MODEL_33918b37d59d4b92831d49e50918544f"
      }
     },
     "cb2da104753c4a6f98730342a823e63a": {
      "model_module": "@jupyter-widgets/base",
      "model_module_version": "2.0.0",
      "model_name": "LayoutModel",
      "state": {}
     },
     "cb3e3cb141034777ac6c42d692f04128": {
      "model_module": "@jupyter-widgets/controls",
      "model_module_version": "2.0.0",
      "model_name": "TextStyleModel",
      "state": {
       "description_width": "initial",
       "font_size": null,
       "text_color": null
      }
     },
     "cb41daf26f2a4b6c9c8af5881e446464": {
      "model_module": "@jupyter-widgets/base",
      "model_module_version": "2.0.0",
      "model_name": "LayoutModel",
      "state": {}
     },
     "cb51c3aa95a94f448f927c6e600054a3": {
      "model_module": "@jupyter-widgets/base",
      "model_module_version": "2.0.0",
      "model_name": "LayoutModel",
      "state": {
       "width": "98%"
      }
     },
     "cb7c6ed7d98b462aaab766e2136f7ce3": {
      "model_module": "@jupyter-widgets/controls",
      "model_module_version": "2.0.0",
      "model_name": "LabelModel",
      "state": {
       "layout": "IPY_MODEL_a00e7be2deb24a908f79e974ab07974e",
       "style": "IPY_MODEL_aa8efb9e31324fc7ab287039e25b6989",
       "value": "Select classes for inference:"
      }
     },
     "cbab0f11fae74cd38073338b4204d0d5": {
      "model_module": "@jupyter-widgets/controls",
      "model_module_version": "2.0.0",
      "model_name": "HBoxModel",
      "state": {
       "children": [
        "IPY_MODEL_9597290150e5403bb289291a1e08fde3",
        "IPY_MODEL_d9d4b72bc52c42ca9d308e6817ce7ec7"
       ],
       "layout": "IPY_MODEL_8cd2ed71cba744feaec8a4985661f4b6"
      }
     },
     "cc1e81b2189347b6afd0ba40280a458f": {
      "model_module": "@jupyter-widgets/base",
      "model_module_version": "2.0.0",
      "model_name": "LayoutModel",
      "state": {}
     },
     "cc5b63dd3de24e5685f18e5f2972eda3": {
      "model_module": "@jupyter-widgets/base",
      "model_module_version": "2.0.0",
      "model_name": "LayoutModel",
      "state": {}
     },
     "cc867cc1c20847d099bd335ae5e628e6": {
      "model_module": "@jupyter-widgets/base",
      "model_module_version": "2.0.0",
      "model_name": "LayoutModel",
      "state": {}
     },
     "cc88d5babacc4f15be573b18538b4be3": {
      "model_module": "@jupyter-widgets/controls",
      "model_module_version": "2.0.0",
      "model_name": "TextModel",
      "state": {
       "description": "DEM path:",
       "layout": "IPY_MODEL_eb22a260864d485da49a099ea3f6775c",
       "placeholder": "<my_data_folder/my_DEM_file.tif>",
       "style": "IPY_MODEL_a24340bccc694027832f434cd1e42fea"
      }
     },
     "cca1aeb442dd46118185844c1f6d2f51": {
      "model_module": "@jupyter-widgets/controls",
      "model_module_version": "2.0.0",
      "model_name": "DescriptionStyleModel",
      "state": {
       "description_width": ""
      }
     },
     "ccaea0a4f83c44b6a0ae02874e0bcd7d": {
      "model_module": "@jupyter-widgets/output",
      "model_module_version": "1.0.0",
      "model_name": "OutputModel",
      "state": {
       "layout": "IPY_MODEL_3db94601b3424b54bfec1e1a6edb8a40",
       "outputs": [
        {
         "data": {
          "application/vnd.jupyter.widget-view+json": {
           "model_id": "232e1b8240ea41aab3c35b588010818c",
           "version_major": 2,
           "version_minor": 0
          },
          "text/plain": "Text(value='', description='DEM path:', layout=Layout(width='98%'), placeholder='<list of paths in TXT file!>'…"
         },
         "metadata": {},
         "output_type": "display_data"
        }
       ]
      }
     },
     "ccc75223a9db4b16b5a3f9ceb4a99d4d": {
      "model_module": "@jupyter-widgets/base",
      "model_module_version": "2.0.0",
      "model_name": "LayoutModel",
      "state": {}
     },
     "ccdb87def584439b9e5ddfb67d437db9": {
      "model_module": "@jupyter-widgets/output",
      "model_module_version": "1.0.0",
      "model_name": "OutputModel",
      "state": {
       "layout": "IPY_MODEL_b86188016d7f4e53838d6f22a0c4d952"
      }
     },
     "cceae4aa89f14f21bf3b13c55edeec82": {
      "model_module": "@jupyter-widgets/controls",
      "model_module_version": "2.0.0",
      "model_name": "CheckboxModel",
      "state": {
       "description": "All archaeology",
       "disabled": false,
       "indent": false,
       "layout": "IPY_MODEL_a502582daae8482c9c677fc0aa7a0eb2",
       "style": "IPY_MODEL_0863ce7f0b4c4b40b61c2f21c6c5ba9c",
       "value": false
      }
     },
     "cd01eff07ee340ef8b4fe3169bd49093": {
      "model_module": "@jupyter-widgets/controls",
      "model_module_version": "2.0.0",
      "model_name": "TextStyleModel",
      "state": {
       "description_width": "initial",
       "font_size": null,
       "text_color": null
      }
     },
     "cd134dcdc63848048cda1b91494d0db3": {
      "model_module": "@jupyter-widgets/controls",
      "model_module_version": "2.0.0",
      "model_name": "VBoxModel",
      "state": {
       "children": [
        "IPY_MODEL_28a67b25e033467eab4f165025eef2ec",
        "IPY_MODEL_31f4c4eb555f47a49bff27ca75d02987",
        "IPY_MODEL_a102ca5e99fb4e5bb81a519317957685",
        "IPY_MODEL_6b86cfb9cc0a4cf388e8209f046fcaca"
       ],
       "layout": "IPY_MODEL_714ff264c50e4757892b91c89a86bf1e"
      }
     },
     "cd13cdf408d349a2aca76d7e2f452c25": {
      "model_module": "@jupyter-widgets/controls",
      "model_module_version": "2.0.0",
      "model_name": "TextModel",
      "state": {
       "layout": "IPY_MODEL_904fd057858b4509b57a2ba93ea42be9",
       "placeholder": "model_folder/saved_model.tar",
       "style": "IPY_MODEL_aafa568549f74a4fa47dfad8e92c428a"
      }
     },
     "cd27763b67e0496f840238e806ceced9": {
      "model_module": "@jupyter-widgets/controls",
      "model_module_version": "2.0.0",
      "model_name": "CheckboxModel",
      "state": {
       "description": "Batch processing",
       "disabled": false,
       "indent": false,
       "layout": "IPY_MODEL_24aaec14202d4262b8c724509d6bf1a5",
       "style": "IPY_MODEL_5ea192a8fce44bd180cd4f33f591ba71",
       "value": false
      }
     },
     "cd8137779ca242eeafca94d540f1f9de": {
      "model_module": "@jupyter-widgets/base",
      "model_module_version": "2.0.0",
      "model_name": "LayoutModel",
      "state": {}
     },
     "cddcae829e5641a180868b8fb207dd0f": {
      "model_module": "@jupyter-widgets/base",
      "model_module_version": "2.0.0",
      "model_name": "LayoutModel",
      "state": {
       "border_bottom": "1px solid black",
       "border_left": "1px solid black",
       "border_right": "1px solid black",
       "border_top": "1px solid black"
      }
     },
     "cdfb14d6d8664a3f8ad9b671febeb69a": {
      "model_module": "@jupyter-widgets/base",
      "model_module_version": "2.0.0",
      "model_name": "LayoutModel",
      "state": {}
     },
     "cdfdee7da4834e55b6909ead9b525a56": {
      "model_module": "@jupyter-widgets/controls",
      "model_module_version": "2.0.0",
      "model_name": "LabelStyleModel",
      "state": {
       "description_width": "",
       "font_family": null,
       "font_size": null,
       "font_style": null,
       "font_variant": null,
       "font_weight": null,
       "text_color": null,
       "text_decoration": null
      }
     },
     "ce06d0f17ad248ebb693e8e828c1c800": {
      "model_module": "@jupyter-widgets/controls",
      "model_module_version": "2.0.0",
      "model_name": "DescriptionStyleModel",
      "state": {
       "description_width": ""
      }
     },
     "ce10d4cd28964a51b4e51cdb559f008d": {
      "model_module": "@jupyter-widgets/base",
      "model_module_version": "2.0.0",
      "model_name": "LayoutModel",
      "state": {}
     },
     "ce34838571434119891c5f1876ea404a": {
      "model_module": "@jupyter-widgets/controls",
      "model_module_version": "2.0.0",
      "model_name": "LabelStyleModel",
      "state": {
       "description_width": "",
       "font_family": null,
       "font_size": null,
       "font_style": null,
       "font_variant": null,
       "font_weight": null,
       "text_color": null,
       "text_decoration": null
      }
     },
     "ce5aa31fff5f4228be1d3a5a58dbef06": {
      "model_module": "@jupyter-widgets/controls",
      "model_module_version": "2.0.0",
      "model_name": "LabelModel",
      "state": {
       "layout": "IPY_MODEL_c669f1f1d1284c1ca859bdbf56d372f2",
       "style": "IPY_MODEL_b8ef5ca412ab412ebad4363ec9cd87aa",
       "value": "Select classes for inference:"
      }
     },
     "ce6a6318003348fe838b940fb9c22be4": {
      "model_module": "@jupyter-widgets/controls",
      "model_module_version": "2.0.0",
      "model_name": "HBoxModel",
      "state": {
       "children": [
        "IPY_MODEL_bdf6d6f19d6c4a3ebfcb6c10826858bf",
        "IPY_MODEL_60219601d3aa407596a2a9bd26aad199"
       ],
       "layout": "IPY_MODEL_d3cf0f6ff45c4deea46d5d57c703069b"
      }
     },
     "ce868e8b234441c78be4e05b26c740aa": {
      "model_module": "@jupyter-widgets/base",
      "model_module_version": "2.0.0",
      "model_name": "LayoutModel",
      "state": {}
     },
     "ce93eef952a94598a3c6600495ce731a": {
      "model_module": "@jupyter-widgets/base",
      "model_module_version": "2.0.0",
      "model_name": "LayoutModel",
      "state": {
       "border_bottom": "1px solid black",
       "border_left": "1px solid black",
       "border_right": "1px solid black",
       "border_top": "1px solid black"
      }
     },
     "ce9ba4277b0f417faba104d48db5a554": {
      "model_module": "@jupyter-widgets/controls",
      "model_module_version": "2.0.0",
      "model_name": "RadioButtonsModel",
      "state": {
       "_options_labels": [
        "DEM (*.tif / *.vrt)",
        "Visualization (*.tif / *.vrt)"
       ],
       "description": "Select input type:",
       "index": 1,
       "layout": "IPY_MODEL_34b00d1039b14b2188c07888c963ff01",
       "style": "IPY_MODEL_dfb89001dc3e479aaf228bee8ebc481f"
      }
     },
     "ceaf1a218e4e4c7da8d0ec93ccd4609d": {
      "model_module": "@jupyter-widgets/controls",
      "model_module_version": "2.0.0",
      "model_name": "HTMLStyleModel",
      "state": {
       "description_width": "",
       "font_size": null,
       "text_color": null
      }
     },
     "cec9f8a125e74c5787607bad252adbcd": {
      "model_module": "@jupyter-widgets/controls",
      "model_module_version": "2.0.0",
      "model_name": "CheckboxStyleModel",
      "state": {
       "description_width": ""
      }
     },
     "ced13c653d844701aaa4488bb242e51d": {
      "model_module": "@jupyter-widgets/output",
      "model_module_version": "1.0.0",
      "model_name": "OutputModel",
      "state": {
       "layout": "IPY_MODEL_805decd6862440a99d5cb7c18d8f3efd"
      }
     },
     "ceec3c481b794b05b1480284b247a528": {
      "model_module": "@jupyter-widgets/base",
      "model_module_version": "2.0.0",
      "model_name": "LayoutModel",
      "state": {}
     },
     "cf1ceffbbc2c47af8e6b40e109bbcca8": {
      "model_module": "@jupyter-widgets/controls",
      "model_module_version": "2.0.0",
      "model_name": "TextStyleModel",
      "state": {
       "description_width": "initial",
       "font_size": null,
       "text_color": null
      }
     },
     "cfc37b4591ba4563944a802e025519de": {
      "model_module": "@jupyter-widgets/base",
      "model_module_version": "2.0.0",
      "model_name": "LayoutModel",
      "state": {}
     },
     "cfc3a1de382844819e9e7ec416d08b2e": {
      "model_module": "@jupyter-widgets/base",
      "model_module_version": "2.0.0",
      "model_name": "LayoutModel",
      "state": {}
     },
     "d029232197a644aaa14884153c91e885": {
      "model_module": "@jupyter-widgets/controls",
      "model_module_version": "2.0.0",
      "model_name": "TextModel",
      "state": {
       "description": "Visualization path:",
       "layout": "IPY_MODEL_32306706ce1445ddb2f95997851b5ff3",
       "placeholder": "<my_data_folder/my_visualization_file.tif>",
       "style": "IPY_MODEL_9e69add4625248918c76f6c982675dfd"
      }
     },
     "d03e9f2be04f473ba9e48549ee8a1285": {
      "model_module": "@jupyter-widgets/controls",
      "model_module_version": "2.0.0",
      "model_name": "LabelModel",
      "state": {
       "layout": "IPY_MODEL_a8b90d6cd1f141e4ac7319e913c7b6b6",
       "style": "IPY_MODEL_6580525e5be5491087224b2593201a69",
       "value": "Path to ML model [*.tar]:"
      }
     },
     "d04ea8b12a764af7aff62a0e45045f83": {
      "model_module": "@jupyter-widgets/controls",
      "model_module_version": "2.0.0",
      "model_name": "HTMLStyleModel",
      "state": {
       "description_width": "",
       "font_size": null,
       "text_color": null
      }
     },
     "d0ae449018b24ceba9640b09c0b7e5ba": {
      "model_module": "@jupyter-widgets/output",
      "model_module_version": "1.0.0",
      "model_name": "OutputModel",
      "state": {
       "layout": "IPY_MODEL_be4bc49e94ba4a1aab332cf0c436fa8c",
       "outputs": [
        {
         "name": "stdout",
         "output_type": "stream",
         "text": "Hello World\n"
        }
       ]
      }
     },
     "d0cc7fac710e4e658a37d301939db194": {
      "model_module": "@jupyter-widgets/base",
      "model_module_version": "2.0.0",
      "model_name": "LayoutModel",
      "state": {}
     },
     "d0e081dc95554b26bfe1b56dd91b42b9": {
      "model_module": "@jupyter-widgets/output",
      "model_module_version": "1.0.0",
      "model_name": "OutputModel",
      "state": {
       "layout": "IPY_MODEL_ec1aaa23f53246f98c38abc74c82e42d"
      }
     },
     "d0e82cd6e8d0470ab3dd3d641e7e0b7c": {
      "model_module": "@jupyter-widgets/output",
      "model_module_version": "1.0.0",
      "model_name": "OutputModel",
      "state": {
       "layout": "IPY_MODEL_9eb07c6c1fea411db5911d9b23e8c5a6",
       "outputs": [
        {
         "data": {
          "application/vnd.jupyter.widget-view+json": {
           "model_id": "75e01aaf51ea44688c4928e2d8cdfbaf",
           "version_major": 2,
           "version_minor": 0
          },
          "text/plain": "Text(value='', description='Visualization path:', layout=Layout(width='98%'), placeholder='<my_data_folder/my_…"
         },
         "metadata": {},
         "output_type": "display_data"
        }
       ]
      }
     },
     "d108a81705bf4707a6db9d10bc9f7632": {
      "model_module": "@jupyter-widgets/controls",
      "model_module_version": "2.0.0",
      "model_name": "CheckboxModel",
      "state": {
       "description": "All archaeology",
       "disabled": false,
       "indent": false,
       "layout": "IPY_MODEL_0fd0f55977604b89b568910148b3661f",
       "style": "IPY_MODEL_046176ef7be44e53af937d13f06af6ca",
       "value": false
      }
     },
     "d15a933bccb1487a9a943900b33e50c9": {
      "model_module": "@jupyter-widgets/controls",
      "model_module_version": "2.0.0",
      "model_name": "TextModel",
      "state": {
       "description": "Path to ML model [*.tar]:",
       "disabled": true,
       "layout": "IPY_MODEL_2ee13d5846d14d73a828b07bc21724dd",
       "placeholder": "model_folder/saved_model.tar",
       "style": "IPY_MODEL_c86c87a184da4c96b1d015253452f44d"
      }
     },
     "d15c8edb87524b0ca62de58130b8e5f9": {
      "model_module": "@jupyter-widgets/controls",
      "model_module_version": "2.0.0",
      "model_name": "HBoxModel",
      "state": {
       "children": [
        "IPY_MODEL_0cdedcce6d174af181387bd152da2224",
        "IPY_MODEL_4b2e538bb0b34522a47a414adbcea439"
       ],
       "layout": "IPY_MODEL_479dbba32dc64e07bbe948e04a7576e3"
      }
     },
     "d1862e424f334101b2a419a1ab40ba62": {
      "model_module": "@jupyter-widgets/controls",
      "model_module_version": "2.0.0",
      "model_name": "TextStyleModel",
      "state": {
       "description_width": "",
       "font_size": null,
       "text_color": null
      }
     },
     "d1a6632de3c14de1b42d82da9c40d1f7": {
      "model_module": "@jupyter-widgets/controls",
      "model_module_version": "2.0.0",
      "model_name": "CheckboxModel",
      "state": {
       "description": "Barrow",
       "disabled": false,
       "indent": false,
       "layout": "IPY_MODEL_5bc8189d99ce4bfea67684371bf0b872",
       "style": "IPY_MODEL_358d842ef4e34c669fd7508d8d260d1a",
       "value": true
      }
     },
     "d1ab046290524fb494b60bc3d3955e1b": {
      "model_module": "@jupyter-widgets/controls",
      "model_module_version": "2.0.0",
      "model_name": "CheckboxStyleModel",
      "state": {
       "description_width": ""
      }
     },
     "d1b939e9a7e24181a6895d105a7111a1": {
      "model_module": "@jupyter-widgets/controls",
      "model_module_version": "2.0.0",
      "model_name": "HTMLStyleModel",
      "state": {
       "description_width": "",
       "font_size": null,
       "text_color": null
      }
     },
     "d1d645b695564030a0f9d81d03743dfc": {
      "model_module": "@jupyter-widgets/base",
      "model_module_version": "2.0.0",
      "model_name": "LayoutModel",
      "state": {
       "border_bottom": "1px solid black",
       "border_left": "1px solid black",
       "border_right": "1px solid black",
       "border_top": "1px solid black"
      }
     },
     "d1d6cd3453a24a05ac7c74cbf57524bb": {
      "model_module": "@jupyter-widgets/controls",
      "model_module_version": "2.0.0",
      "model_name": "HTMLStyleModel",
      "state": {
       "description_width": "",
       "font_size": null,
       "text_color": null
      }
     },
     "d2241e4a1faf4f21810c0f6b4f978e2a": {
      "model_module": "@jupyter-widgets/controls",
      "model_module_version": "2.0.0",
      "model_name": "TextModel",
      "state": {
       "description": "Visualization path:",
       "layout": "IPY_MODEL_509c757b88d3423ea39232366592b21f",
       "placeholder": "<my_data_folder/my_visualization_file.tif>",
       "style": "IPY_MODEL_8d266f2dc3df442aae54a29392dfd806"
      }
     },
     "d239a42810d64aaaba83eca48c054964": {
      "model_module": "@jupyter-widgets/controls",
      "model_module_version": "2.0.0",
      "model_name": "CheckboxStyleModel",
      "state": {
       "description_width": ""
      }
     },
     "d2570afc5606437185ae5f847e334961": {
      "model_module": "@jupyter-widgets/controls",
      "model_module_version": "2.0.0",
      "model_name": "CheckboxModel",
      "state": {
       "description": "All archaeology",
       "disabled": false,
       "indent": false,
       "layout": "IPY_MODEL_55fbb1d036e04a1ca4c9c989490377e6",
       "style": "IPY_MODEL_93a84fd39b75403693a0cac2cca986c9",
       "value": false
      }
     },
     "d262836e564846b8ab6f701c26575776": {
      "model_module": "@jupyter-widgets/controls",
      "model_module_version": "2.0.0",
      "model_name": "HTMLModel",
      "state": {
       "layout": "IPY_MODEL_94a3c43dab094bf7a63d8dadcddf7c4d",
       "style": "IPY_MODEL_4e6a90aa22d24fc19a7c9925e867f792",
       "value": "<font color='grey'>Select classes for inference:"
      }
     },
     "d27a941074f64f8d8d0bef996eb91fb9": {
      "model_module": "@jupyter-widgets/output",
      "model_module_version": "1.0.0",
      "model_name": "OutputModel",
      "state": {
       "layout": "IPY_MODEL_4f9ab95ed15a4301aea446a479589a75",
       "outputs": [
        {
         "name": "stdout",
         "output_type": "stream",
         "text": "0\n"
        }
       ]
      }
     },
     "d2a6fff9300348f6aae3f798953bde3d": {
      "model_module": "@jupyter-widgets/controls",
      "model_module_version": "2.0.0",
      "model_name": "CheckboxStyleModel",
      "state": {
       "description_width": ""
      }
     },
     "d2d05336764145e7a1ec3f778b2735c7": {
      "model_module": "@jupyter-widgets/controls",
      "model_module_version": "2.0.0",
      "model_name": "VBoxModel",
      "state": {
       "children": [
        "IPY_MODEL_41df8f56de654e168dafffae40aa017a",
        "IPY_MODEL_1e3df6aa4edb4aa2b3f0a5a7f262ebb3",
        "IPY_MODEL_2b0cb8fefd8e445db953f7415f7c28df",
        "IPY_MODEL_9a410a4baa1a4c32a799b1c4c2d6f389"
       ],
       "layout": "IPY_MODEL_e44a0360a6984a28ac0d74ace53cca80"
      }
     },
     "d2eda12f78584cd9ad33cff2ac7df9f2": {
      "model_module": "@jupyter-widgets/controls",
      "model_module_version": "2.0.0",
      "model_name": "TextStyleModel",
      "state": {
       "description_width": "initial",
       "font_size": null,
       "text_color": null
      }
     },
     "d30660fd75c1476aa8dddbd74ade408a": {
      "model_module": "@jupyter-widgets/base",
      "model_module_version": "2.0.0",
      "model_name": "LayoutModel",
      "state": {}
     },
     "d3547ac3d81241c1b848e69d0626adc4": {
      "model_module": "@jupyter-widgets/base",
      "model_module_version": "2.0.0",
      "model_name": "LayoutModel",
      "state": {}
     },
     "d397f3005b18424687b7e9bab4f33b55": {
      "model_module": "@jupyter-widgets/controls",
      "model_module_version": "2.0.0",
      "model_name": "CheckboxModel",
      "state": {
       "description": "Ringfort",
       "disabled": false,
       "indent": false,
       "layout": "IPY_MODEL_e4ec4a436eca4e848b727e1fb1557398",
       "style": "IPY_MODEL_e04def3cf63b4572932e0a084ab11cb2",
       "value": true
      }
     },
     "d39a481a9505437d80ba7d972daf205e": {
      "model_module": "@jupyter-widgets/base",
      "model_module_version": "2.0.0",
      "model_name": "LayoutModel",
      "state": {}
     },
     "d3bed283912d46d4925f4d4089c20de9": {
      "model_module": "@jupyter-widgets/controls",
      "model_module_version": "2.0.0",
      "model_name": "TextModel",
      "state": {
       "description": "DEM path:",
       "layout": "IPY_MODEL_42d242e0c7944656a3978622e4076ad3",
       "placeholder": "<my_data_folder/my_DEM_file.tif>",
       "style": "IPY_MODEL_d9690ac20d24493f844748188f4f867a"
      }
     },
     "d3c72ea540b34c488c350aba90fa980c": {
      "model_module": "@jupyter-widgets/controls",
      "model_module_version": "2.0.0",
      "model_name": "HBoxModel",
      "state": {
       "children": [
        "IPY_MODEL_dbcba9b997a94b5093b50464b8f492a3",
        "IPY_MODEL_03244aa2137b4f3b9a74a7d298fe5c78",
        "IPY_MODEL_dd7f7e3dfd974098b391fcf6884f036c",
        "IPY_MODEL_04283ff03ec94bcbb8536a26197c954e"
       ],
       "layout": "IPY_MODEL_6684baf945664c76bed804b6601dc03c"
      }
     },
     "d3cf0f6ff45c4deea46d5d57c703069b": {
      "model_module": "@jupyter-widgets/base",
      "model_module_version": "2.0.0",
      "model_name": "LayoutModel",
      "state": {}
     },
     "d408c515c01b4893aa58f028c16d4e22": {
      "model_module": "@jupyter-widgets/base",
      "model_module_version": "2.0.0",
      "model_name": "LayoutModel",
      "state": {}
     },
     "d4107d49448f483c99620a61aeee5d80": {
      "model_module": "@jupyter-widgets/controls",
      "model_module_version": "2.0.0",
      "model_name": "CheckboxStyleModel",
      "state": {
       "description_width": ""
      }
     },
     "d4145a30f4b04ccbb7a03ca59ac459b8": {
      "model_module": "@jupyter-widgets/controls",
      "model_module_version": "2.0.0",
      "model_name": "HBoxModel",
      "state": {
       "children": [
        "IPY_MODEL_874edeeb7be94f4c9687ab1898b0bc7d",
        "IPY_MODEL_28cd9c82793e4a1bb064331114cd86d8"
       ],
       "layout": "IPY_MODEL_ef0f860fc8d84324ba252b1d0fbd2982"
      }
     },
     "d4362af6e96e4a229b44dfcb50ea6812": {
      "model_module": "@jupyter-widgets/controls",
      "model_module_version": "2.0.0",
      "model_name": "TextStyleModel",
      "state": {
       "description_width": "initial",
       "font_size": null,
       "text_color": null
      }
     },
     "d43dee162e3140108b21a069034758f6": {
      "model_module": "@jupyter-widgets/controls",
      "model_module_version": "2.0.0",
      "model_name": "CheckboxStyleModel",
      "state": {
       "description_width": ""
      }
     },
     "d484394ae23b4049814862cb37ef1cab": {
      "model_module": "@jupyter-widgets/base",
      "model_module_version": "2.0.0",
      "model_name": "LayoutModel",
      "state": {
       "border_bottom": "1px solid black",
       "border_left": "1px solid black",
       "border_right": "1px solid black",
       "border_top": "1px solid black"
      }
     },
     "d4a9a809e5cf4fe6a258d45ba0a4d9c7": {
      "model_module": "@jupyter-widgets/controls",
      "model_module_version": "2.0.0",
      "model_name": "TextStyleModel",
      "state": {
       "description_width": "initial",
       "font_size": null,
       "text_color": null
      }
     },
     "d4bd834fffe242cc96bf0e0d3f7b24bf": {
      "model_module": "@jupyter-widgets/base",
      "model_module_version": "2.0.0",
      "model_name": "LayoutModel",
      "state": {}
     },
     "d4d1fb8f82c64984abf3ddb7b711c0b6": {
      "model_module": "@jupyter-widgets/output",
      "model_module_version": "1.0.0",
      "model_name": "OutputModel",
      "state": {
       "layout": "IPY_MODEL_afb4c2ea508c405c849acb27819ab885",
       "outputs": [
        {
         "data": {
          "application/vnd.jupyter.widget-view+json": {
           "model_id": "99183cef77a744939134d200d8aabb09",
           "version_major": 2,
           "version_minor": 0
          },
          "text/plain": "HTML(value=\"<font color='black'>Select classes for inference:\")"
         },
         "metadata": {},
         "output_type": "display_data"
        }
       ]
      }
     },
     "d4eeaf44630a474294ebd0406a7d2e19": {
      "model_module": "@jupyter-widgets/base",
      "model_module_version": "2.0.0",
      "model_name": "LayoutModel",
      "state": {}
     },
     "d52e8e0ff3b24bd9a183c928d483d448": {
      "model_module": "@jupyter-widgets/controls",
      "model_module_version": "2.0.0",
      "model_name": "RadioButtonsModel",
      "state": {
       "_options_labels": [
        "DEM (*.tif / *.vrt)",
        "Visualization (*.tif / *.vrt)"
       ],
       "description": "Select input type:",
       "index": 1,
       "layout": "IPY_MODEL_c1eb0aa27e404613b6c9489a10700e7b",
       "style": "IPY_MODEL_2bc2b6de816247648851981273a71890"
      }
     },
     "d5377b2dc81a4c5eb3d7e7e3fd37a429": {
      "model_module": "@jupyter-widgets/controls",
      "model_module_version": "2.0.0",
      "model_name": "TextModel",
      "state": {
       "description": "Visualization path:",
       "disabled": true,
       "layout": "IPY_MODEL_1ddf9cfa64fc48da8b13760b5caeea24",
       "placeholder": "<my_data_folder/my_visualization_file.tif>",
       "style": "IPY_MODEL_7cf17fd5aece44fbaed65b8851657d60"
      }
     },
     "d5467b96072f400f8662def28a2547fc": {
      "model_module": "@jupyter-widgets/base",
      "model_module_version": "2.0.0",
      "model_name": "LayoutModel",
      "state": {}
     },
     "d56dc28d825049beb7c251ef74b8e27a": {
      "model_module": "@jupyter-widgets/base",
      "model_module_version": "2.0.0",
      "model_name": "LayoutModel",
      "state": {}
     },
     "d5701abdff0941399285f1f150767a1a": {
      "model_module": "@jupyter-widgets/controls",
      "model_module_version": "2.0.0",
      "model_name": "LabelStyleModel",
      "state": {
       "description_width": "",
       "font_family": null,
       "font_size": null,
       "font_style": null,
       "font_variant": null,
       "font_weight": null,
       "text_color": null,
       "text_decoration": null
      }
     },
     "d5c056f119e34128a44b815a98caa272": {
      "model_module": "@jupyter-widgets/controls",
      "model_module_version": "2.0.0",
      "model_name": "CheckboxStyleModel",
      "state": {
       "description_width": ""
      }
     },
     "d5c487e691de418b86ff6bdd1b921bf1": {
      "model_module": "@jupyter-widgets/controls",
      "model_module_version": "2.0.0",
      "model_name": "RadioButtonsModel",
      "state": {
       "_options_labels": [
        "object detection",
        "segmentation"
       ],
       "description": "Select ML method:",
       "index": 1,
       "layout": "IPY_MODEL_bde78718498349aa89a5a4649288da35",
       "style": "IPY_MODEL_829b452f8a7746da88b82b5cc20f851a"
      }
     },
     "d5cffe29b1314e85b7473b5d9c74bd6c": {
      "model_module": "@jupyter-widgets/base",
      "model_module_version": "2.0.0",
      "model_name": "LayoutModel",
      "state": {
       "width": "98%"
      }
     },
     "d5fa898112334f0b8653e9fb812f6221": {
      "model_module": "@jupyter-widgets/controls",
      "model_module_version": "2.0.0",
      "model_name": "TextModel",
      "state": {
       "description": "DEM path:",
       "layout": "IPY_MODEL_e37e3b05dad7439a837445444e9727cb",
       "placeholder": "<my_data_folder/my_DEM_file.tif>",
       "style": "IPY_MODEL_c82feed0bca648de98ac16e3f59f24fa"
      }
     },
     "d609daf258c94d2dbd4d3793f8e9ae20": {
      "model_module": "@jupyter-widgets/base",
      "model_module_version": "2.0.0",
      "model_name": "LayoutModel",
      "state": {}
     },
     "d6521a71d8dc456fb5586c62765d90e4": {
      "model_module": "@jupyter-widgets/base",
      "model_module_version": "2.0.0",
      "model_name": "LayoutModel",
      "state": {}
     },
     "d6ac694d940847d193a6b86de7305fdf": {
      "model_module": "@jupyter-widgets/controls",
      "model_module_version": "2.0.0",
      "model_name": "CheckboxModel",
      "state": {
       "description": "Ringfort",
       "disabled": false,
       "indent": false,
       "layout": "IPY_MODEL_24298ebb55414ff0ba2851f38e72da91",
       "style": "IPY_MODEL_da074df959b44c3487025f2433b75fa5",
       "value": true
      }
     },
     "d6c2500b81f04146bb1c8a0b51b7a2f2": {
      "model_module": "@jupyter-widgets/base",
      "model_module_version": "2.0.0",
      "model_name": "LayoutModel",
      "state": {}
     },
     "d6e67d23f8d341ad8b4d28950290f0d9": {
      "model_module": "@jupyter-widgets/controls",
      "model_module_version": "2.0.0",
      "model_name": "CheckboxStyleModel",
      "state": {
       "description_width": ""
      }
     },
     "d6f01c80e6f64bc0ae4db8c7319e3bad": {
      "model_module": "@jupyter-widgets/base",
      "model_module_version": "2.0.0",
      "model_name": "LayoutModel",
      "state": {}
     },
     "d72a12210e144431bf33c884c93c8032": {
      "model_module": "@jupyter-widgets/controls",
      "model_module_version": "2.0.0",
      "model_name": "DescriptionStyleModel",
      "state": {
       "description_width": ""
      }
     },
     "d778d701d4af4a52953a1ee2cf191183": {
      "model_module": "@jupyter-widgets/controls",
      "model_module_version": "2.0.0",
      "model_name": "CheckboxStyleModel",
      "state": {
       "description_width": ""
      }
     },
     "d77f2170c9524c70987d9c621f92d129": {
      "model_module": "@jupyter-widgets/controls",
      "model_module_version": "2.0.0",
      "model_name": "TextStyleModel",
      "state": {
       "description_width": "initial",
       "font_size": null,
       "text_color": null
      }
     },
     "d7965cc73d7a4ec9809dd089282cc404": {
      "model_module": "@jupyter-widgets/controls",
      "model_module_version": "2.0.0",
      "model_name": "HBoxModel",
      "state": {
       "children": [
        "IPY_MODEL_7c1ff56e4e8c4462a04ea98783c40711",
        "IPY_MODEL_6a83b1c32bd8407ead14a88c269f916a"
       ],
       "layout": "IPY_MODEL_7df89308350f44db95821468f3464bce"
      }
     },
     "d7df05a721b344f6b88ff30b3d03cf80": {
      "model_module": "@jupyter-widgets/controls",
      "model_module_version": "2.0.0",
      "model_name": "TextModel",
      "state": {
       "description": "Path to ML model [*.tar]:",
       "layout": "IPY_MODEL_841e8ead076143f89d23aeb5ab29867d",
       "placeholder": "model_folder/saved_model.tar",
       "style": "IPY_MODEL_475aa4d3fc434f9aab2fdcd73b5462a0"
      }
     },
     "d7f5d8b86d9e498cbc6d16b53b810abe": {
      "model_module": "@jupyter-widgets/controls",
      "model_module_version": "2.0.0",
      "model_name": "RadioButtonsModel",
      "state": {
       "_options_labels": [
        "ADAF model",
        "Custom model"
       ],
       "description": "Select ML model:",
       "index": 0,
       "layout": "IPY_MODEL_0a50130230014d35923ed2d9935432be",
       "style": "IPY_MODEL_d72a12210e144431bf33c884c93c8032"
      }
     },
     "d804b0f5f15b4251a74d1b7510c82707": {
      "model_module": "@jupyter-widgets/controls",
      "model_module_version": "2.0.0",
      "model_name": "CheckboxModel",
      "state": {
       "description": "All archaeology",
       "disabled": false,
       "indent": false,
       "layout": "IPY_MODEL_b0741438a0124ebc9c0ae6e6a8a853ac",
       "style": "IPY_MODEL_319c100e250740cc8a92c63733fd81e9",
       "value": false
      }
     },
     "d81575de392f45a086d78d474d5af5af": {
      "model_module": "@jupyter-widgets/controls",
      "model_module_version": "2.0.0",
      "model_name": "RadioButtonsModel",
      "state": {
       "_options_labels": [
        "object detection",
        "segmentation"
       ],
       "description": "Select ML method:",
       "index": 1,
       "layout": "IPY_MODEL_9cbe66a60aba49fdb00dcb24b3501720",
       "style": "IPY_MODEL_57a5b88338134b1a866c09b685efbf61"
      }
     },
     "d85ae1b600654b05aaf04080b622cf0a": {
      "model_module": "@jupyter-widgets/base",
      "model_module_version": "2.0.0",
      "model_name": "LayoutModel",
      "state": {}
     },
     "d8d3d4e38e5f4e2687eb4c6284bcbbbe": {
      "model_module": "@jupyter-widgets/base",
      "model_module_version": "2.0.0",
      "model_name": "LayoutModel",
      "state": {}
     },
     "d8e6af6605da4528a7129d597f740d2a": {
      "model_module": "@jupyter-widgets/base",
      "model_module_version": "2.0.0",
      "model_name": "LayoutModel",
      "state": {}
     },
     "d8f55170c08d4bd386a05cfa1a77edeb": {
      "model_module": "@jupyter-widgets/controls",
      "model_module_version": "2.0.0",
      "model_name": "HTMLModel",
      "state": {
       "layout": "IPY_MODEL_9edaa40c736044a8a5f77e56098ec763",
       "style": "IPY_MODEL_e59966138e1b4711b31466850b7fad02",
       "value": "<b>ML options:</b>"
      }
     },
     "d9165089e7c840c186cb40f732f3bd6d": {
      "model_module": "@jupyter-widgets/base",
      "model_module_version": "2.0.0",
      "model_name": "LayoutModel",
      "state": {
       "width": "98%"
      }
     },
     "d9690ac20d24493f844748188f4f867a": {
      "model_module": "@jupyter-widgets/controls",
      "model_module_version": "2.0.0",
      "model_name": "TextStyleModel",
      "state": {
       "description_width": "initial",
       "font_size": null,
       "text_color": null
      }
     },
     "d9773860bb1f44ccab7e3200c614b9ba": {
      "model_module": "@jupyter-widgets/base",
      "model_module_version": "2.0.0",
      "model_name": "LayoutModel",
      "state": {}
     },
     "d978edc0a4074e7dbbfbc4f35522eed3": {
      "model_module": "@jupyter-widgets/controls",
      "model_module_version": "2.0.0",
      "model_name": "DescriptionStyleModel",
      "state": {
       "description_width": ""
      }
     },
     "d98a273a21fe4a819e6b65bae48bf712": {
      "model_module": "@jupyter-widgets/base",
      "model_module_version": "2.0.0",
      "model_name": "LayoutModel",
      "state": {}
     },
     "d98f823b33c74f35808a5e9d5243e1d1": {
      "model_module": "@jupyter-widgets/controls",
      "model_module_version": "2.0.0",
      "model_name": "RadioButtonsModel",
      "state": {
       "_options_labels": [
        "DEM (*.tif / *.vrt)",
        "Visualization (*.tif / *.vrt)"
       ],
       "description": "Select input type:",
       "index": 1,
       "layout": "IPY_MODEL_88bfc6b0aa194406a6e1cc7da9b6bcb2",
       "style": "IPY_MODEL_e99bc2db74a74e0cad6c3c13add9a6c9"
      }
     },
     "d9aa4589bda848eb9392db6693d4d1f8": {
      "model_module": "@jupyter-widgets/controls",
      "model_module_version": "2.0.0",
      "model_name": "RadioButtonsModel",
      "state": {
       "_options_labels": [
        "object detection",
        "segmentation"
       ],
       "description": "Select ML method:",
       "index": 1,
       "layout": "IPY_MODEL_56c06d6d7ce34a4aadf35b5a41692e02",
       "style": "IPY_MODEL_ed564155d9364a85b6a163aea474ce02"
      }
     },
     "d9ba8cff8bba4952aa277861efe81533": {
      "model_module": "@jupyter-widgets/controls",
      "model_module_version": "2.0.0",
      "model_name": "DescriptionStyleModel",
      "state": {
       "description_width": ""
      }
     },
     "d9d28b6c518b48609ff990a155670492": {
      "model_module": "@jupyter-widgets/controls",
      "model_module_version": "2.0.0",
      "model_name": "CheckboxModel",
      "state": {
       "description": "Batch processing",
       "disabled": false,
       "indent": false,
       "layout": "IPY_MODEL_b097549e7feb4cb6984a37e98493a39e",
       "style": "IPY_MODEL_a854d910ef7747789f1f4c34dba8e2f5",
       "value": false
      }
     },
     "d9d4b72bc52c42ca9d308e6817ce7ec7": {
      "model_module": "@jupyter-widgets/controls",
      "model_module_version": "2.0.0",
      "model_name": "CheckboxModel",
      "state": {
       "description": "Batch processing",
       "disabled": false,
       "indent": false,
       "layout": "IPY_MODEL_e047c02274c343fabb00bd5fc039ebae",
       "style": "IPY_MODEL_071c76d5c7ec4eafa12c7b30ad404d0b",
       "value": false
      }
     },
     "d9df1e07e3d34a669ea9222ab1b7665f": {
      "model_module": "@jupyter-widgets/controls",
      "model_module_version": "2.0.0",
      "model_name": "CheckboxStyleModel",
      "state": {
       "description_width": ""
      }
     },
     "da074df959b44c3487025f2433b75fa5": {
      "model_module": "@jupyter-widgets/controls",
      "model_module_version": "2.0.0",
      "model_name": "CheckboxStyleModel",
      "state": {
       "description_width": ""
      }
     },
     "da2ee696d7be485baeaa4d9c6cd5261b": {
      "model_module": "@jupyter-widgets/controls",
      "model_module_version": "2.0.0",
      "model_name": "HBoxModel",
      "state": {
       "children": [
        "IPY_MODEL_f9bcf41658444af8962450130cfb065f",
        "IPY_MODEL_a612a15d77624eb69d065f3241c46e61"
       ],
       "layout": "IPY_MODEL_f662c621d0b04f2c9f848a90ec3fce59"
      }
     },
     "da55355a1a6948dc95380323c59f562f": {
      "model_module": "@jupyter-widgets/base",
      "model_module_version": "2.0.0",
      "model_name": "LayoutModel",
      "state": {}
     },
     "da5ceaa4faf1418ca80b137145f4be30": {
      "model_module": "@jupyter-widgets/base",
      "model_module_version": "2.0.0",
      "model_name": "LayoutModel",
      "state": {}
     },
     "da6ac9890e4a4f379d16956f5277dcc1": {
      "model_module": "@jupyter-widgets/controls",
      "model_module_version": "2.0.0",
      "model_name": "CheckboxStyleModel",
      "state": {
       "description_width": ""
      }
     },
     "da7648fe39854d4b9f1e7ba71c36d69e": {
      "model_module": "@jupyter-widgets/base",
      "model_module_version": "2.0.0",
      "model_name": "LayoutModel",
      "state": {}
     },
     "da8b631cb08143c3b04ca4653377bce3": {
      "model_module": "@jupyter-widgets/controls",
      "model_module_version": "2.0.0",
      "model_name": "HTMLModel",
      "state": {
       "layout": "IPY_MODEL_32d5c69f71404ddeb662e3ebbc747a74",
       "style": "IPY_MODEL_d1b939e9a7e24181a6895d105a7111a1",
       "value": "<b>ML options:</b>"
      }
     },
     "da952a784811485fbbc11ad8ed7333e5": {
      "model_module": "@jupyter-widgets/base",
      "model_module_version": "2.0.0",
      "model_name": "LayoutModel",
      "state": {
       "border_bottom": "1px solid black",
       "border_left": "1px solid black",
       "border_right": "1px solid black",
       "border_top": "1px solid black"
      }
     },
     "dad0f8bb75804303b43c6a2377f9fef4": {
      "model_module": "@jupyter-widgets/base",
      "model_module_version": "2.0.0",
      "model_name": "LayoutModel",
      "state": {}
     },
     "dade8b1a30a74233addd0c1b13aaaacb": {
      "model_module": "@jupyter-widgets/controls",
      "model_module_version": "2.0.0",
      "model_name": "HTMLModel",
      "state": {
       "layout": "IPY_MODEL_42cdd9f956f44749a4a155d17d4c1422",
       "style": "IPY_MODEL_e06785129e4a43e8b7ad7db24a7dcc64",
       "value": "<b><font color='red'>ML input options:</b>"
      }
     },
     "db13515ccd394e0fa91efd0191afce0a": {
      "model_module": "@jupyter-widgets/controls",
      "model_module_version": "2.0.0",
      "model_name": "CheckboxModel",
      "state": {
       "description": "Ringfort",
       "disabled": false,
       "indent": false,
       "layout": "IPY_MODEL_ef60840ddd064365b0dffce038099f5b",
       "style": "IPY_MODEL_55599350ccc6484eb2bdeea9e5a1b27a",
       "value": true
      }
     },
     "db40793498064891be14a0e0e3275966": {
      "model_module": "@jupyter-widgets/controls",
      "model_module_version": "2.0.0",
      "model_name": "HTMLModel",
      "state": {
       "layout": "IPY_MODEL_3a4dc899474440f4b907aa2800a9f55d",
       "style": "IPY_MODEL_be09e1cc7d054d9d9d66ce024d1c8c1a",
       "value": "<font color='black'>Select classes for inference:"
      }
     },
     "db4e302b72cb488bb95ea7c49ef77a68": {
      "model_module": "@jupyter-widgets/base",
      "model_module_version": "2.0.0",
      "model_name": "LayoutModel",
      "state": {}
     },
     "dbcba9b997a94b5093b50464b8f492a3": {
      "model_module": "@jupyter-widgets/controls",
      "model_module_version": "2.0.0",
      "model_name": "CheckboxModel",
      "state": {
       "description": "Barrow",
       "disabled": false,
       "indent": false,
       "layout": "IPY_MODEL_6b73cfdca60c464aa29fe9210498700a",
       "style": "IPY_MODEL_ca942f4fb9f8475aac098fbcbcad0c49",
       "value": true
      }
     },
     "dbcd165111094c25b3d0adb94911793f": {
      "model_module": "@jupyter-widgets/controls",
      "model_module_version": "2.0.0",
      "model_name": "HTMLModel",
      "state": {
       "layout": "IPY_MODEL_2c20b3306df444ffaf0e7488515a1414",
       "style": "IPY_MODEL_0b78cf68bffa4e538160fa1aa7f9ee62",
       "value": "<font color='black'>Select classes for inference:"
      }
     },
     "dbdb06eba61b4e128ca4e9ca81da92b1": {
      "model_module": "@jupyter-widgets/base",
      "model_module_version": "2.0.0",
      "model_name": "LayoutModel",
      "state": {}
     },
     "dbf41b8ba6b04c92a217edea11256171": {
      "model_module": "@jupyter-widgets/base",
      "model_module_version": "2.0.0",
      "model_name": "LayoutModel",
      "state": {}
     },
     "dc0e8dea117a4494b8510c4274392700": {
      "model_module": "@jupyter-widgets/base",
      "model_module_version": "2.0.0",
      "model_name": "LayoutModel",
      "state": {}
     },
     "dca2cbcf84b1435084ff558980f2c005": {
      "model_module": "@jupyter-widgets/controls",
      "model_module_version": "2.0.0",
      "model_name": "CheckboxModel",
      "state": {
       "description": "Ringfort",
       "disabled": false,
       "indent": false,
       "layout": "IPY_MODEL_c699bdc2d2554a4b8c2acbd7bea6b4aa",
       "style": "IPY_MODEL_d239a42810d64aaaba83eca48c054964",
       "value": true
      }
     },
     "dcb5ecd421b04c42bef01acfdb7ceba3": {
      "model_module": "@jupyter-widgets/output",
      "model_module_version": "1.0.0",
      "model_name": "OutputModel",
      "state": {
       "layout": "IPY_MODEL_f9797dd8c23146afb97d5983a7f73c7b",
       "outputs": [
        {
         "data": {
          "application/vnd.jupyter.widget-view+json": {
           "model_id": "75e01aaf51ea44688c4928e2d8cdfbaf",
           "version_major": 2,
           "version_minor": 0
          },
          "text/plain": "Text(value='', description='Visualization path:', layout=Layout(width='98%'), placeholder='<my_data_folder/my_…"
         },
         "metadata": {},
         "output_type": "display_data"
        }
       ]
      }
     },
     "dccdbeded0434eafa09771cf8d3b1f33": {
      "model_module": "@jupyter-widgets/base",
      "model_module_version": "2.0.0",
      "model_name": "LayoutModel",
      "state": {}
     },
     "dcec4ed4663a4179ae75295023b3c41a": {
      "model_module": "@jupyter-widgets/controls",
      "model_module_version": "2.0.0",
      "model_name": "TextModel",
      "state": {
       "description": "DEM path:",
       "layout": "IPY_MODEL_a64540c26954456aacf2e7e353b2d337",
       "placeholder": "<my_data_folder/my_DEM_file.tif>",
       "style": "IPY_MODEL_9bae4b7228f64d70a136127b7165a4dd"
      }
     },
     "dcef62b6699548d2a165efd948a230f7": {
      "model_module": "@jupyter-widgets/controls",
      "model_module_version": "2.0.0",
      "model_name": "DescriptionStyleModel",
      "state": {
       "description_width": ""
      }
     },
     "dd27f032fa124950a8f57948a527ae6e": {
      "model_module": "@jupyter-widgets/base",
      "model_module_version": "2.0.0",
      "model_name": "LayoutModel",
      "state": {}
     },
     "dd687bd467d646cd82f5e250bfb2626b": {
      "model_module": "@jupyter-widgets/controls",
      "model_module_version": "2.0.0",
      "model_name": "CheckboxStyleModel",
      "state": {
       "description_width": ""
      }
     },
     "dd7f7e3dfd974098b391fcf6884f036c": {
      "model_module": "@jupyter-widgets/controls",
      "model_module_version": "2.0.0",
      "model_name": "CheckboxModel",
      "state": {
       "description": "Enclosure",
       "disabled": false,
       "indent": false,
       "layout": "IPY_MODEL_54b8a792fde640839897c41504798cd8",
       "style": "IPY_MODEL_43cb4b85957b400bb23b54b8f012f3af",
       "value": true
      }
     },
     "dd8896c0b4824b368c6a42d96010f13a": {
      "model_module": "@jupyter-widgets/base",
      "model_module_version": "2.0.0",
      "model_name": "LayoutModel",
      "state": {}
     },
     "dd9a65422b434ba6979c677b84eb1c4a": {
      "model_module": "@jupyter-widgets/base",
      "model_module_version": "2.0.0",
      "model_name": "LayoutModel",
      "state": {}
     },
     "ddbb695b240543b580ea308f1eb37787": {
      "model_module": "@jupyter-widgets/base",
      "model_module_version": "2.0.0",
      "model_name": "LayoutModel",
      "state": {}
     },
     "ddfd899aeeb6414396f29c747add756e": {
      "model_module": "@jupyter-widgets/base",
      "model_module_version": "2.0.0",
      "model_name": "LayoutModel",
      "state": {}
     },
     "ddfedbb1bad74a70a373c0497ecab317": {
      "model_module": "@jupyter-widgets/controls",
      "model_module_version": "2.0.0",
      "model_name": "TextModel",
      "state": {
       "description": "DEM path:",
       "layout": "IPY_MODEL_b3d27df9176d4a569e5c76f333f860e1",
       "placeholder": "<my_data_folder/my_DEM_file.tif>",
       "style": "IPY_MODEL_1835a75de0d140fcb2858ae9a05c5281"
      }
     },
     "de12cba6c7824b7c92f8a5fbdad5d4fd": {
      "model_module": "@jupyter-widgets/base",
      "model_module_version": "2.0.0",
      "model_name": "LayoutModel",
      "state": {}
     },
     "de337cca9c5a4ed49de0aab466af0a2a": {
      "model_module": "@jupyter-widgets/output",
      "model_module_version": "1.0.0",
      "model_name": "OutputModel",
      "state": {
       "layout": "IPY_MODEL_069ab14b59884bea979841e93bc3f3e5",
       "outputs": [
        {
         "data": {
          "application/vnd.jupyter.widget-view+json": {
           "model_id": "acaa083ef11844dabf60850c14917741",
           "version_major": 2,
           "version_minor": 0
          },
          "text/plain": "Text(value='', description='DEM path:', layout=Layout(width='98%'), placeholder='<my_data_folder/my_DEM_file.t…"
         },
         "metadata": {},
         "output_type": "display_data"
        }
       ]
      }
     },
     "de48024295224bfda67d3baf30eb868b": {
      "model_module": "@jupyter-widgets/controls",
      "model_module_version": "2.0.0",
      "model_name": "DescriptionStyleModel",
      "state": {
       "description_width": ""
      }
     },
     "de6556c5f8574433afbb9239c2d39731": {
      "model_module": "@jupyter-widgets/base",
      "model_module_version": "2.0.0",
      "model_name": "LayoutModel",
      "state": {}
     },
     "deb546850d904f2ab8cd7e0c7f4e2312": {
      "model_module": "@jupyter-widgets/base",
      "model_module_version": "2.0.0",
      "model_name": "LayoutModel",
      "state": {}
     },
     "dec15a8746f04f72a738919d496aba38": {
      "model_module": "@jupyter-widgets/controls",
      "model_module_version": "2.0.0",
      "model_name": "HTMLModel",
      "state": {
       "layout": "IPY_MODEL_cc867cc1c20847d099bd335ae5e628e6",
       "style": "IPY_MODEL_7840a4f8147b494fb7551d356a47c5d7",
       "value": "<font color='black'>Select classes for inference:"
      }
     },
     "dee35c40515d47da9fc95bfa91db434f": {
      "model_module": "@jupyter-widgets/controls",
      "model_module_version": "2.0.0",
      "model_name": "DescriptionStyleModel",
      "state": {
       "description_width": ""
      }
     },
     "dee93016eb284219b7a3571eef7a1a23": {
      "model_module": "@jupyter-widgets/base",
      "model_module_version": "2.0.0",
      "model_name": "LayoutModel",
      "state": {}
     },
     "df0b8366b45f4dd6b24bffb6877bc609": {
      "model_module": "@jupyter-widgets/controls",
      "model_module_version": "2.0.0",
      "model_name": "HBoxModel",
      "state": {
       "children": [
        "IPY_MODEL_44703a7f68f44e58b46510a6f0714f0f",
        "IPY_MODEL_44ce44e788a24171ad3f51bbc7b4d6fd",
        "IPY_MODEL_e235d3883d9343dc815e8a6902c2a243",
        "IPY_MODEL_2342a0cd53d74f10bec92b0039f3e72a"
       ],
       "layout": "IPY_MODEL_ab1496207070420a97a21d5fd2e08ab4"
      }
     },
     "df789f8fa7524998b9b27f1d38cbb4b2": {
      "model_module": "@jupyter-widgets/controls",
      "model_module_version": "2.0.0",
      "model_name": "TextModel",
      "state": {
       "description": "Visualization path:",
       "disabled": true,
       "layout": "IPY_MODEL_3c54ecfea2584469adcd40acb0b4eed0",
       "placeholder": "<my_data_folder/my_visualization_file.tif>",
       "style": "IPY_MODEL_f30a6c610ab54f888efc215f8f3eba61"
      }
     },
     "df85cba4f99349bc92769c82f194c8b7": {
      "model_module": "@jupyter-widgets/base",
      "model_module_version": "2.0.0",
      "model_name": "LayoutModel",
      "state": {
       "border_bottom": "1px solid black",
       "border_left": "1px solid black",
       "border_right": "1px solid black",
       "border_top": "1px solid black"
      }
     },
     "dfb89001dc3e479aaf228bee8ebc481f": {
      "model_module": "@jupyter-widgets/controls",
      "model_module_version": "2.0.0",
      "model_name": "DescriptionStyleModel",
      "state": {
       "description_width": ""
      }
     },
     "dfd365e83b914934b2b510f73b953f77": {
      "model_module": "@jupyter-widgets/controls",
      "model_module_version": "2.0.0",
      "model_name": "HTMLModel",
      "state": {
       "layout": "IPY_MODEL_356ce277223d4d9ba233c77a1fae8bf5",
       "style": "IPY_MODEL_69323b4c312c4a998d54f847e8d25f5c",
       "value": "<font color='grey'>Select classes for inference:"
      }
     },
     "e01332e3a08345a382728c8d93e7c8ee": {
      "model_module": "@jupyter-widgets/controls",
      "model_module_version": "2.0.0",
      "model_name": "RadioButtonsModel",
      "state": {
       "_options_labels": [
        "object detection",
        "segmentation"
       ],
       "description": "Select ML method:",
       "index": 1,
       "layout": "IPY_MODEL_8b30eabedfe545cea0e345702adff6a8",
       "style": "IPY_MODEL_16cb14742f664500bc10dfa5de0957f8"
      }
     },
     "e042f7c85f1c41d9aec68130f513f4bf": {
      "model_module": "@jupyter-widgets/controls",
      "model_module_version": "2.0.0",
      "model_name": "HTMLModel",
      "state": {
       "layout": "IPY_MODEL_a8865b9638804842abf4bd718ea538dc",
       "style": "IPY_MODEL_331e3a67f5744c24bfb64e84a0f005c3",
       "value": "<b>ML options:</b>"
      }
     },
     "e044a807bdcb4260bc359755a5bbb280": {
      "model_module": "@jupyter-widgets/base",
      "model_module_version": "2.0.0",
      "model_name": "LayoutModel",
      "state": {
       "width": "98%"
      }
     },
     "e047c02274c343fabb00bd5fc039ebae": {
      "model_module": "@jupyter-widgets/base",
      "model_module_version": "2.0.0",
      "model_name": "LayoutModel",
      "state": {}
     },
     "e04def3cf63b4572932e0a084ab11cb2": {
      "model_module": "@jupyter-widgets/controls",
      "model_module_version": "2.0.0",
      "model_name": "CheckboxStyleModel",
      "state": {
       "description_width": ""
      }
     },
     "e05233d1e5314e10813d5a808bd80e71": {
      "model_module": "@jupyter-widgets/controls",
      "model_module_version": "2.0.0",
      "model_name": "HTMLStyleModel",
      "state": {
       "description_width": "",
       "font_size": null,
       "text_color": null
      }
     },
     "e06785129e4a43e8b7ad7db24a7dcc64": {
      "model_module": "@jupyter-widgets/controls",
      "model_module_version": "2.0.0",
      "model_name": "HTMLStyleModel",
      "state": {
       "description_width": "",
       "font_size": null,
       "text_color": null
      }
     },
     "e0f1fca16ba541fcaf5cba4832fd55ae": {
      "model_module": "@jupyter-widgets/output",
      "model_module_version": "1.0.0",
      "model_name": "OutputModel",
      "state": {
       "layout": "IPY_MODEL_aa1cb0ca78474d33a94b794155fb49f1",
       "outputs": [
        {
         "data": {
          "application/vnd.jupyter.widget-view+json": {
           "model_id": "b1d6a9dd26de421fb416b53fb718a20c",
           "version_major": 2,
           "version_minor": 0
          },
          "text/plain": "Label(value='Select classes for inference:')"
         },
         "metadata": {},
         "output_type": "display_data"
        }
       ]
      }
     },
     "e0f2c001ad6c405495e624273697faa6": {
      "model_module": "@jupyter-widgets/base",
      "model_module_version": "2.0.0",
      "model_name": "LayoutModel",
      "state": {}
     },
     "e0feece8c5ae4c789c15fe3722aafd2e": {
      "model_module": "@jupyter-widgets/base",
      "model_module_version": "2.0.0",
      "model_name": "LayoutModel",
      "state": {}
     },
     "e1646230712f40758dbc70e25ac39427": {
      "model_module": "@jupyter-widgets/controls",
      "model_module_version": "2.0.0",
      "model_name": "HTMLStyleModel",
      "state": {
       "description_width": "",
       "font_size": null,
       "text_color": null
      }
     },
     "e1ab75de04904284844558243a51aee3": {
      "model_module": "@jupyter-widgets/output",
      "model_module_version": "1.0.0",
      "model_name": "OutputModel",
      "state": {
       "layout": "IPY_MODEL_dad0f8bb75804303b43c6a2377f9fef4",
       "outputs": [
        {
         "data": {
          "application/vnd.jupyter.widget-view+json": {
           "model_id": "08ad96b6ee1e4f50bfd490d3211da5d3",
           "version_major": 2,
           "version_minor": 0
          },
          "text/plain": "Label(value='Path to ML model [*.tar]:')"
         },
         "metadata": {},
         "output_type": "display_data"
        }
       ]
      }
     },
     "e1ad277cb273430bb5c77a59d47d7cb7": {
      "model_module": "@jupyter-widgets/controls",
      "model_module_version": "2.0.0",
      "model_name": "HTMLStyleModel",
      "state": {
       "description_width": "",
       "font_size": null,
       "text_color": null
      }
     },
     "e1b98608fd764858a87d81481c12a637": {
      "model_module": "@jupyter-widgets/controls",
      "model_module_version": "2.0.0",
      "model_name": "CheckboxStyleModel",
      "state": {
       "description_width": ""
      }
     },
     "e1cf33fed3294116a17d5678aaf4adfd": {
      "model_module": "@jupyter-widgets/controls",
      "model_module_version": "2.0.0",
      "model_name": "TextStyleModel",
      "state": {
       "description_width": "initial",
       "font_size": null,
       "text_color": null
      }
     },
     "e1e65085f8584e5b8ed8a19985f41f07": {
      "model_module": "@jupyter-widgets/controls",
      "model_module_version": "2.0.0",
      "model_name": "LabelStyleModel",
      "state": {
       "description_width": "",
       "font_family": null,
       "font_size": null,
       "font_style": null,
       "font_variant": null,
       "font_weight": null,
       "text_color": null,
       "text_decoration": null
      }
     },
     "e2001ef4d6f4460499cf4aa8976edbe0": {
      "model_module": "@jupyter-widgets/base",
      "model_module_version": "2.0.0",
      "model_name": "LayoutModel",
      "state": {
       "border_bottom": "1px solid black",
       "border_left": "1px solid black",
       "border_right": "1px solid black",
       "border_top": "1px solid black"
      }
     },
     "e22214f4e809483d9ffc01ebcf4aab1f": {
      "model_module": "@jupyter-widgets/controls",
      "model_module_version": "2.0.0",
      "model_name": "TextStyleModel",
      "state": {
       "description_width": "initial",
       "font_size": null,
       "text_color": null
      }
     },
     "e226286b75874c758608ae80e19fc221": {
      "model_module": "@jupyter-widgets/controls",
      "model_module_version": "2.0.0",
      "model_name": "TextModel",
      "state": {
       "description": "DEM path:",
       "layout": "IPY_MODEL_7584c0dc84274f5e8dfac8cd676714d5",
       "placeholder": "<my_data_folder/my_DEM_file.tif>",
       "style": "IPY_MODEL_59454a83a4f44c33bb0269fa959dfb1c"
      }
     },
     "e2289034c62e486a878ecf632b0abe09": {
      "model_module": "@jupyter-widgets/base",
      "model_module_version": "2.0.0",
      "model_name": "LayoutModel",
      "state": {}
     },
     "e231cea3e392408fa12f808ddfd7e7b9": {
      "model_module": "@jupyter-widgets/controls",
      "model_module_version": "2.0.0",
      "model_name": "CheckboxStyleModel",
      "state": {
       "description_width": ""
      }
     },
     "e235d3883d9343dc815e8a6902c2a243": {
      "model_module": "@jupyter-widgets/controls",
      "model_module_version": "2.0.0",
      "model_name": "CheckboxModel",
      "state": {
       "description": "Enclosure",
       "disabled": false,
       "indent": false,
       "layout": "IPY_MODEL_4f33fb60c1c149f5ac4f528b3a324aa3",
       "style": "IPY_MODEL_11d04c9077c94101b0dc836b862c7d77",
       "value": true
      }
     },
     "e253158b08644785b3b73cd2d89adeb9": {
      "model_module": "@jupyter-widgets/base",
      "model_module_version": "2.0.0",
      "model_name": "LayoutModel",
      "state": {}
     },
     "e29b1f97b3314c61be127cb9e9e430b7": {
      "model_module": "@jupyter-widgets/base",
      "model_module_version": "2.0.0",
      "model_name": "LayoutModel",
      "state": {}
     },
     "e2cd410c16d94b11be3610ae2b21cbf1": {
      "model_module": "@jupyter-widgets/controls",
      "model_module_version": "2.0.0",
      "model_name": "DescriptionStyleModel",
      "state": {
       "description_width": ""
      }
     },
     "e2f1da1e8c994002a59384a7814b272a": {
      "model_module": "@jupyter-widgets/base",
      "model_module_version": "2.0.0",
      "model_name": "LayoutModel",
      "state": {
       "border_bottom": "1px solid black",
       "border_left": "1px solid black",
       "border_right": "1px solid black",
       "border_top": "1px solid black"
      }
     },
     "e30f3da972ac45a58f84d6361000f71f": {
      "model_module": "@jupyter-widgets/controls",
      "model_module_version": "2.0.0",
      "model_name": "TextModel",
      "state": {
       "description": "Path to ML model [*.tar]:",
       "disabled": true,
       "layout": "IPY_MODEL_941c90f092a24419bd7b3a8ac808857e",
       "placeholder": "model_folder/saved_model.tar",
       "style": "IPY_MODEL_a7c517bbd06c4ecfb99e1c387c867bf5"
      }
     },
     "e33bf6ee4ce24dffbdbccead053e7bb0": {
      "model_module": "@jupyter-widgets/controls",
      "model_module_version": "2.0.0",
      "model_name": "RadioButtonsModel",
      "state": {
       "_options_labels": [
        "ADAF model",
        "Custom model"
       ],
       "description": "Select ML model:",
       "index": 0,
       "layout": "IPY_MODEL_ca5f767da76140c18ab5db0c463fd38f",
       "style": "IPY_MODEL_aa3346901dc34b08b42e82a8faf6da9d"
      }
     },
     "e37e3b05dad7439a837445444e9727cb": {
      "model_module": "@jupyter-widgets/base",
      "model_module_version": "2.0.0",
      "model_name": "LayoutModel",
      "state": {
       "width": "98%"
      }
     },
     "e399d7f31a5c4a01b93e3b0a9fda829e": {
      "model_module": "@jupyter-widgets/controls",
      "model_module_version": "2.0.0",
      "model_name": "LabelStyleModel",
      "state": {
       "description_width": "",
       "font_family": null,
       "font_size": null,
       "font_style": null,
       "font_variant": null,
       "font_weight": null,
       "text_color": null,
       "text_decoration": null
      }
     },
     "e3a4c0f8c6b249d8b17b534079763cc1": {
      "model_module": "@jupyter-widgets/controls",
      "model_module_version": "2.0.0",
      "model_name": "TextModel",
      "state": {
       "description": "Visualization path:",
       "disabled": true,
       "layout": "IPY_MODEL_8158459d54af421fa711702c485e1038",
       "placeholder": "<my_data_folder/my_visualization_file.tif>",
       "style": "IPY_MODEL_6be64b1c64184e658f4cde58583b8d9b"
      }
     },
     "e3ba2739ba84479dbfd118b83112c386": {
      "model_module": "@jupyter-widgets/base",
      "model_module_version": "2.0.0",
      "model_name": "LayoutModel",
      "state": {}
     },
     "e3cb18afd4754922b38f9a9a77feb984": {
      "model_module": "@jupyter-widgets/controls",
      "model_module_version": "2.0.0",
      "model_name": "LabelModel",
      "state": {
       "layout": "IPY_MODEL_64350331546743738cbb3041295a71ef",
       "style": "IPY_MODEL_8b85482cd18a4d95aecf04860001b78c",
       "value": "Select classes for inference:"
      }
     },
     "e3f3a7e53e574179b02e8b4ac202e264": {
      "model_module": "@jupyter-widgets/base",
      "model_module_version": "2.0.0",
      "model_name": "LayoutModel",
      "state": {}
     },
     "e3f4a69bb7fe4ec39ae943512259f16d": {
      "model_module": "@jupyter-widgets/base",
      "model_module_version": "2.0.0",
      "model_name": "LayoutModel",
      "state": {}
     },
     "e410206b8293413daf2baec785c628ee": {
      "model_module": "@jupyter-widgets/base",
      "model_module_version": "2.0.0",
      "model_name": "LayoutModel",
      "state": {}
     },
     "e44a0360a6984a28ac0d74ace53cca80": {
      "model_module": "@jupyter-widgets/base",
      "model_module_version": "2.0.0",
      "model_name": "LayoutModel",
      "state": {}
     },
     "e45433ee89534f0da052fd223bf6971e": {
      "model_module": "@jupyter-widgets/controls",
      "model_module_version": "2.0.0",
      "model_name": "TextStyleModel",
      "state": {
       "description_width": "initial",
       "font_size": null,
       "text_color": null
      }
     },
     "e46c9d407c394108b2b82550b0ae9d6b": {
      "model_module": "@jupyter-widgets/controls",
      "model_module_version": "2.0.0",
      "model_name": "RadioButtonsModel",
      "state": {
       "_options_labels": [
        "ADAF model",
        "Custom model"
       ],
       "description": "Select ML model:",
       "index": 1,
       "layout": "IPY_MODEL_1c5b5eb483f0417fa9d554777a7f7dcf",
       "style": "IPY_MODEL_241e76a5aacd44fb87f4ee602a3eeadb"
      }
     },
     "e477090f54cd4a5eb5afe6aae60f2ae3": {
      "model_module": "@jupyter-widgets/base",
      "model_module_version": "2.0.0",
      "model_name": "LayoutModel",
      "state": {}
     },
     "e4cd6c52195e4e078b5c07fa09253705": {
      "model_module": "@jupyter-widgets/base",
      "model_module_version": "2.0.0",
      "model_name": "LayoutModel",
      "state": {}
     },
     "e4e16bca86ef4788b5c81c7776821bf2": {
      "model_module": "@jupyter-widgets/controls",
      "model_module_version": "2.0.0",
      "model_name": "HTMLModel",
      "state": {
       "layout": "IPY_MODEL_e477090f54cd4a5eb5afe6aae60f2ae3",
       "style": "IPY_MODEL_4cc98d3c6d864d27bfc479c82dab2800",
       "value": "<font color='black'>Select classes for inference:"
      }
     },
     "e4e8eb028bee4da59f10772f9ceacf86": {
      "model_module": "@jupyter-widgets/controls",
      "model_module_version": "2.0.0",
      "model_name": "TextModel",
      "state": {
       "description": "Path to ML model [*.tar]:",
       "layout": "IPY_MODEL_47c511a35f18412ca5449279b22d80f2",
       "placeholder": "model_folder/saved_model.tar",
       "style": "IPY_MODEL_828e2b50d39d43818f09283681d9d359"
      }
     },
     "e4eb53823cb74a3292ecaf72e57fb459": {
      "model_module": "@jupyter-widgets/base",
      "model_module_version": "2.0.0",
      "model_name": "LayoutModel",
      "state": {}
     },
     "e4ec4a436eca4e848b727e1fb1557398": {
      "model_module": "@jupyter-widgets/base",
      "model_module_version": "2.0.0",
      "model_name": "LayoutModel",
      "state": {}
     },
     "e53be84053b4459c8263e53195467e15": {
      "model_module": "@jupyter-widgets/controls",
      "model_module_version": "2.0.0",
      "model_name": "DescriptionStyleModel",
      "state": {
       "description_width": ""
      }
     },
     "e55d8274d65343f3ac81cfa1d79e1e24": {
      "model_module": "@jupyter-widgets/controls",
      "model_module_version": "2.0.0",
      "model_name": "VBoxModel",
      "state": {
       "children": [
        "IPY_MODEL_d4145a30f4b04ccbb7a03ca59ac459b8",
        "IPY_MODEL_f970978040e44e599db36c0f40c16a3c",
        "IPY_MODEL_c606084a609a4146ba8b99e7d3b81cff",
        "IPY_MODEL_572fcce28d264ff09313597084338fde"
       ],
       "layout": "IPY_MODEL_91ceb07034894b5ca2b6c33e4857909e"
      }
     },
     "e5729fbf101b4e739be102ff0e528345": {
      "model_module": "@jupyter-widgets/base",
      "model_module_version": "2.0.0",
      "model_name": "LayoutModel",
      "state": {
       "width": "98%"
      }
     },
     "e59966138e1b4711b31466850b7fad02": {
      "model_module": "@jupyter-widgets/controls",
      "model_module_version": "2.0.0",
      "model_name": "HTMLStyleModel",
      "state": {
       "description_width": "",
       "font_size": null,
       "text_color": null
      }
     },
     "e5a745f8e13743d099be234c593a55b8": {
      "model_module": "@jupyter-widgets/output",
      "model_module_version": "1.0.0",
      "model_name": "OutputModel",
      "state": {
       "layout": "IPY_MODEL_b84cff9b142f4ad0bb96d6d0f935383b"
      }
     },
     "e5b317ab82c14a3899e2c9ac68a2a0a0": {
      "model_module": "@jupyter-widgets/controls",
      "model_module_version": "2.0.0",
      "model_name": "HTMLStyleModel",
      "state": {
       "description_width": "",
       "font_size": null,
       "text_color": null
      }
     },
     "e5c2302be27546a0b92cc06c39754660": {
      "model_module": "@jupyter-widgets/output",
      "model_module_version": "1.0.0",
      "model_name": "OutputModel",
      "state": {
       "layout": "IPY_MODEL_74cff499275f4d2ead7ce1aad6f48ac5",
       "outputs": [
        {
         "name": "stdout",
         "output_type": "stream",
         "text": "0\n"
        }
       ]
      }
     },
     "e5cf616bfd7f47e7ae46326c2fc85afe": {
      "model_module": "@jupyter-widgets/controls",
      "model_module_version": "2.0.0",
      "model_name": "RadioButtonsModel",
      "state": {
       "_options_labels": [
        "ADAF model",
        "Custom model"
       ],
       "description": "Select ML model:",
       "index": 0,
       "layout": "IPY_MODEL_600f940368fd4cde964219ca6507073b",
       "style": "IPY_MODEL_a03156da30d54353b26471d4ac6528b8"
      }
     },
     "e5e0fcdc6e3a4f5db9d17d81661e7fdc": {
      "model_module": "@jupyter-widgets/base",
      "model_module_version": "2.0.0",
      "model_name": "LayoutModel",
      "state": {
       "width": "98%"
      }
     },
     "e5e64a8e6bb54b788190959199fdbb39": {
      "model_module": "@jupyter-widgets/controls",
      "model_module_version": "2.0.0",
      "model_name": "CheckboxStyleModel",
      "state": {
       "description_width": ""
      }
     },
     "e5edcde68b7c4f44990ab58ca1163a7f": {
      "model_module": "@jupyter-widgets/base",
      "model_module_version": "2.0.0",
      "model_name": "LayoutModel",
      "state": {}
     },
     "e602e69bbe974e25b8e6739a90f7dfe8": {
      "model_module": "@jupyter-widgets/controls",
      "model_module_version": "2.0.0",
      "model_name": "VBoxModel",
      "state": {
       "children": [
        "IPY_MODEL_a8165ea6043349849b7cfd09297f301c",
        "IPY_MODEL_c30192822b5948128a212fa13699fbc2",
        "IPY_MODEL_545ad430744143e7b01fe7f593d55bd6",
        "IPY_MODEL_a3bf965d41864804a632227b76932ca4"
       ],
       "layout": "IPY_MODEL_afb6275cca5943e0948e4a6cb95e6e9f"
      }
     },
     "e6112655ae5f469b99d1cadf6d070b51": {
      "model_module": "@jupyter-widgets/controls",
      "model_module_version": "2.0.0",
      "model_name": "HTMLStyleModel",
      "state": {
       "description_width": "",
       "font_size": null,
       "text_color": null
      }
     },
     "e63359921ce54aa9a8ef99dea6df0f35": {
      "model_module": "@jupyter-widgets/base",
      "model_module_version": "2.0.0",
      "model_name": "LayoutModel",
      "state": {
       "width": "98%"
      }
     },
     "e640d89453d24e83886e24023ee70a97": {
      "model_module": "@jupyter-widgets/base",
      "model_module_version": "2.0.0",
      "model_name": "LayoutModel",
      "state": {}
     },
     "e645cf39be674049bdc7ff527a209aa4": {
      "model_module": "@jupyter-widgets/base",
      "model_module_version": "2.0.0",
      "model_name": "LayoutModel",
      "state": {}
     },
     "e675d183fca3492a8e1254a2a903f45b": {
      "model_module": "@jupyter-widgets/controls",
      "model_module_version": "2.0.0",
      "model_name": "RadioButtonsModel",
      "state": {
       "_options_labels": [
        "ADAF model",
        "Custom model"
       ],
       "description": "Select ML model:",
       "index": 0,
       "layout": "IPY_MODEL_166d907da6584957be9ff04406753721",
       "style": "IPY_MODEL_ed7797547d1941fcafbcff6f7aef856a"
      }
     },
     "e67ddf7aaf9e4d1f98f493d91f1c51d7": {
      "model_module": "@jupyter-widgets/base",
      "model_module_version": "2.0.0",
      "model_name": "LayoutModel",
      "state": {}
     },
     "e6c722efb0774c479c179405329b8205": {
      "model_module": "@jupyter-widgets/controls",
      "model_module_version": "2.0.0",
      "model_name": "HTMLModel",
      "state": {
       "layout": "IPY_MODEL_34fdf067ae564fbd8de294e220cccf04",
       "style": "IPY_MODEL_b0e0171042cb44d4866e1939267d817d",
       "value": "<font color='grey'>'Path to ML model [*.tar]:"
      }
     },
     "e6cdcd41609d4a6ea02939612af93fbd": {
      "model_module": "@jupyter-widgets/controls",
      "model_module_version": "2.0.0",
      "model_name": "RadioButtonsModel",
      "state": {
       "_options_labels": [
        "DEM (*.tif / *.vrt)",
        "Visualization (*.tif / *.vrt)"
       ],
       "description": "Select input type:",
       "index": 1,
       "layout": "IPY_MODEL_099dfb1c1ac84cf2b93675bd20282614",
       "style": "IPY_MODEL_4f24646749554022a5f36d3f2b7f40fc"
      }
     },
     "e6d3fd3512cb44cf85701887bc081294": {
      "model_module": "@jupyter-widgets/controls",
      "model_module_version": "2.0.0",
      "model_name": "TextModel",
      "state": {
       "description": "DEM path:",
       "layout": "IPY_MODEL_9e8bd76713764451b3129f824ebcc6cb",
       "placeholder": "<my_data_folder/my_DEM_file.tif>",
       "style": "IPY_MODEL_9acf419e7ec7444ca140d8d4a7056345"
      }
     },
     "e6dadeaccf48476996a4cd26197419e9": {
      "model_module": "@jupyter-widgets/controls",
      "model_module_version": "2.0.0",
      "model_name": "CheckboxModel",
      "state": {
       "description": "All archaeology",
       "disabled": false,
       "indent": false,
       "layout": "IPY_MODEL_af67850f9b144eb7a70d0fee40e8e8da",
       "style": "IPY_MODEL_31d545c418d9461f879a6cf990ce8f64",
       "value": false
      }
     },
     "e708174899204597977cc6ffe963bbe3": {
      "model_module": "@jupyter-widgets/base",
      "model_module_version": "2.0.0",
      "model_name": "LayoutModel",
      "state": {}
     },
     "e736da4fb5d6482c962954eccd398bb6": {
      "model_module": "@jupyter-widgets/controls",
      "model_module_version": "2.0.0",
      "model_name": "CheckboxModel",
      "state": {
       "description": "Barrow",
       "disabled": false,
       "indent": false,
       "layout": "IPY_MODEL_51143e11644e4559bc5e3da3897f31dd",
       "style": "IPY_MODEL_4b80caee322247bf9b5f6722d0f154ba",
       "value": true
      }
     },
     "e7640c857a8c44ff87d3180a7e4e0892": {
      "model_module": "@jupyter-widgets/controls",
      "model_module_version": "2.0.0",
      "model_name": "CheckboxModel",
      "state": {
       "description": "Ringfort",
       "disabled": true,
       "indent": false,
       "layout": "IPY_MODEL_a14462e33732486486587158e70d91db",
       "style": "IPY_MODEL_80f3bb9a48f243f6a0c7274fb4fa5b5e",
       "value": true
      }
     },
     "e7b4acb47b6742699b095f146033d68f": {
      "model_module": "@jupyter-widgets/controls",
      "model_module_version": "2.0.0",
      "model_name": "TextStyleModel",
      "state": {
       "description_width": "initial",
       "font_size": null,
       "text_color": null
      }
     },
     "e7cdec9674c247199afc26f0e42cb5c7": {
      "model_module": "@jupyter-widgets/base",
      "model_module_version": "2.0.0",
      "model_name": "LayoutModel",
      "state": {}
     },
     "e81c895519524e039beb6821a1b716ad": {
      "model_module": "@jupyter-widgets/controls",
      "model_module_version": "2.0.0",
      "model_name": "TextModel",
      "state": {
       "layout": "IPY_MODEL_88c250b3ae0c4ea6b39cda099bb08502",
       "placeholder": "model_folder/saved_model.tar",
       "style": "IPY_MODEL_d77f2170c9524c70987d9c621f92d129"
      }
     },
     "e825aae3c32a4fbb82935e5b5e9d274b": {
      "model_module": "@jupyter-widgets/base",
      "model_module_version": "2.0.0",
      "model_name": "LayoutModel",
      "state": {}
     },
     "e84f8dcbf8c443468e6bf1106bdfc4af": {
      "model_module": "@jupyter-widgets/base",
      "model_module_version": "2.0.0",
      "model_name": "LayoutModel",
      "state": {}
     },
     "e8671ae6b42b467fbfb3d0d048e84854": {
      "model_module": "@jupyter-widgets/base",
      "model_module_version": "2.0.0",
      "model_name": "LayoutModel",
      "state": {}
     },
     "e8887ba472804b088fe0a88ae4e57a1b": {
      "model_module": "@jupyter-widgets/controls",
      "model_module_version": "2.0.0",
      "model_name": "CheckboxStyleModel",
      "state": {
       "description_width": ""
      }
     },
     "e8a1c667afbb49ada4f8af1795f4490f": {
      "model_module": "@jupyter-widgets/controls",
      "model_module_version": "2.0.0",
      "model_name": "DescriptionStyleModel",
      "state": {
       "description_width": ""
      }
     },
     "e8e32887d1b14fa3b5a9517eb9974a8e": {
      "model_module": "@jupyter-widgets/base",
      "model_module_version": "2.0.0",
      "model_name": "LayoutModel",
      "state": {}
     },
     "e92cd5244b094c319fcfb8465d3a1b2c": {
      "model_module": "@jupyter-widgets/output",
      "model_module_version": "1.0.0",
      "model_name": "OutputModel",
      "state": {
       "layout": "IPY_MODEL_18ef8596ba8e4befb5cf72f4000651ea"
      }
     },
     "e952c0f25a4b4b668dd6b9296d314bc8": {
      "model_module": "@jupyter-widgets/controls",
      "model_module_version": "2.0.0",
      "model_name": "TextStyleModel",
      "state": {
       "description_width": "initial",
       "font_size": null,
       "text_color": null
      }
     },
     "e96933a5fa384b58898fc0ec5e4cd323": {
      "model_module": "@jupyter-widgets/controls",
      "model_module_version": "2.0.0",
      "model_name": "HTMLModel",
      "state": {
       "layout": "IPY_MODEL_c07a67c350fd4395bea10a414c800bb5",
       "style": "IPY_MODEL_f0426a3d95aa4ac49b8453a9d951d735",
       "value": "<font color='grey'>Select classes for inference:"
      }
     },
     "e96f8d3b793c42438bc4f982074e0022": {
      "model_module": "@jupyter-widgets/base",
      "model_module_version": "2.0.0",
      "model_name": "LayoutModel",
      "state": {}
     },
     "e9865252aa9a4eb78270cd5150bfe5e4": {
      "model_module": "@jupyter-widgets/controls",
      "model_module_version": "2.0.0",
      "model_name": "HTMLModel",
      "state": {
       "layout": "IPY_MODEL_1c2422c9a3c44b04aa26c7e2a1351a33",
       "style": "IPY_MODEL_e05233d1e5314e10813d5a808bd80e71",
       "value": "<b>ML options:</b>"
      }
     },
     "e99bc2db74a74e0cad6c3c13add9a6c9": {
      "model_module": "@jupyter-widgets/controls",
      "model_module_version": "2.0.0",
      "model_name": "DescriptionStyleModel",
      "state": {
       "description_width": ""
      }
     },
     "e9b09bd680cc4650ade63f1346dad155": {
      "model_module": "@jupyter-widgets/controls",
      "model_module_version": "2.0.0",
      "model_name": "DescriptionStyleModel",
      "state": {
       "description_width": ""
      }
     },
     "e9d8eb1baf1e40dab236a1b5ffa58732": {
      "model_module": "@jupyter-widgets/base",
      "model_module_version": "2.0.0",
      "model_name": "LayoutModel",
      "state": {}
     },
     "e9eabcc3fc0544a1bef09e7cdb6a5072": {
      "model_module": "@jupyter-widgets/base",
      "model_module_version": "2.0.0",
      "model_name": "LayoutModel",
      "state": {}
     },
     "ea22d551206b401fa2dd2725f4609aaf": {
      "model_module": "@jupyter-widgets/controls",
      "model_module_version": "2.0.0",
      "model_name": "DescriptionStyleModel",
      "state": {
       "description_width": ""
      }
     },
     "eaa9d451a39b4337b92c4d9f1d53d700": {
      "model_module": "@jupyter-widgets/base",
      "model_module_version": "2.0.0",
      "model_name": "LayoutModel",
      "state": {}
     },
     "eacd4ab8ca3d45868da492173d80d82d": {
      "model_module": "@jupyter-widgets/controls",
      "model_module_version": "2.0.0",
      "model_name": "DescriptionStyleModel",
      "state": {
       "description_width": ""
      }
     },
     "eaec0ac4f53945e9b8f1d2c107fd97b0": {
      "model_module": "@jupyter-widgets/controls",
      "model_module_version": "2.0.0",
      "model_name": "LabelModel",
      "state": {
       "layout": "IPY_MODEL_16e57d5a68854d3f9cb2411b3c5de3c3",
       "style": "IPY_MODEL_9a558165fd7943b1aac9fab17d5ca355",
       "value": "Path to ML model [*.tar]:"
      }
     },
     "eb01fcd2d8d240dbb07e8298355fd2f9": {
      "model_module": "@jupyter-widgets/base",
      "model_module_version": "2.0.0",
      "model_name": "LayoutModel",
      "state": {}
     },
     "eb020e2761c542e2816c554314767f82": {
      "model_module": "@jupyter-widgets/base",
      "model_module_version": "2.0.0",
      "model_name": "LayoutModel",
      "state": {}
     },
     "eb22a260864d485da49a099ea3f6775c": {
      "model_module": "@jupyter-widgets/base",
      "model_module_version": "2.0.0",
      "model_name": "LayoutModel",
      "state": {
       "width": "98%"
      }
     },
     "eb24d1654f0a48cda33b21949443fdf8": {
      "model_module": "@jupyter-widgets/controls",
      "model_module_version": "2.0.0",
      "model_name": "DescriptionStyleModel",
      "state": {
       "description_width": ""
      }
     },
     "eb75ba6615ef44e79c6785a9767076fd": {
      "model_module": "@jupyter-widgets/base",
      "model_module_version": "2.0.0",
      "model_name": "LayoutModel",
      "state": {
       "border_bottom": "1px solid black",
       "border_left": "1px solid black",
       "border_right": "1px solid black",
       "border_top": "1px solid black"
      }
     },
     "eb7f2ce9d5e648899c9048806b567445": {
      "model_module": "@jupyter-widgets/base",
      "model_module_version": "2.0.0",
      "model_name": "LayoutModel",
      "state": {}
     },
     "ebb7bdc23c544e70867d26a37c5b9b6e": {
      "model_module": "@jupyter-widgets/controls",
      "model_module_version": "2.0.0",
      "model_name": "RadioButtonsModel",
      "state": {
       "_options_labels": [
        "DEM (*.tif / *.vrt)",
        "Visualization (*.tif / *.vrt)"
       ],
       "description": "Select input file:",
       "index": 0,
       "layout": "IPY_MODEL_6b1af5beddac48e49985cf518d01fc66",
       "style": "IPY_MODEL_10442c2785cc442ca8ba2a82a659f2d2"
      }
     },
     "ebc9f316db5b42d6bcac6efc58976521": {
      "model_module": "@jupyter-widgets/controls",
      "model_module_version": "2.0.0",
      "model_name": "TextStyleModel",
      "state": {
       "description_width": "initial",
       "font_size": null,
       "text_color": null
      }
     },
     "ec191512325d4feb8fec9ef1b628666d": {
      "model_module": "@jupyter-widgets/controls",
      "model_module_version": "2.0.0",
      "model_name": "LabelModel",
      "state": {
       "layout": "IPY_MODEL_b617b5aec28446cca2d8d78af37e129f",
       "style": "IPY_MODEL_63cc5357349e45b891d7fd97880a1e14",
       "value": "Select classes for inference:"
      }
     },
     "ec1aaa23f53246f98c38abc74c82e42d": {
      "model_module": "@jupyter-widgets/base",
      "model_module_version": "2.0.0",
      "model_name": "LayoutModel",
      "state": {}
     },
     "ec2d771d23684292856bc9d5ec3c6098": {
      "model_module": "@jupyter-widgets/controls",
      "model_module_version": "2.0.0",
      "model_name": "CheckboxStyleModel",
      "state": {
       "description_width": ""
      }
     },
     "ec3be4356c0d40438ec6a96f3cae7440": {
      "model_module": "@jupyter-widgets/controls",
      "model_module_version": "2.0.0",
      "model_name": "TextModel",
      "state": {
       "layout": "IPY_MODEL_7df9c65e7e904f96b7b2b140f09dd225",
       "style": "IPY_MODEL_b28aa041b8b74be4ba1adc2cbf6a388c"
      }
     },
     "ec68271169ce4a05a708df7fd60a30c7": {
      "model_module": "@jupyter-widgets/controls",
      "model_module_version": "2.0.0",
      "model_name": "HTMLStyleModel",
      "state": {
       "description_width": "",
       "font_size": null,
       "text_color": null
      }
     },
     "ecbd2dfb75f44a59be1f263fbcd456f3": {
      "model_module": "@jupyter-widgets/base",
      "model_module_version": "2.0.0",
      "model_name": "LayoutModel",
      "state": {}
     },
     "ecc64ec563244464bc8ab5172976ed3e": {
      "model_module": "@jupyter-widgets/base",
      "model_module_version": "2.0.0",
      "model_name": "LayoutModel",
      "state": {}
     },
     "ecdbe1888b3141f1b6a22b9edfa06774": {
      "model_module": "@jupyter-widgets/base",
      "model_module_version": "2.0.0",
      "model_name": "LayoutModel",
      "state": {
       "width": "98%"
      }
     },
     "ecfb885324a44db7b4c84dd0d2ab4b90": {
      "model_module": "@jupyter-widgets/controls",
      "model_module_version": "2.0.0",
      "model_name": "RadioButtonsModel",
      "state": {
       "_options_labels": [
        "ADAF model",
        "Custom model"
       ],
       "description": "Select ML model:",
       "index": 0,
       "layout": "IPY_MODEL_cb2da104753c4a6f98730342a823e63a",
       "style": "IPY_MODEL_121c4f2be4c246bf918c79a0643ab510"
      }
     },
     "ecfe082d5d8d4551bc0017255eee579e": {
      "model_module": "@jupyter-widgets/base",
      "model_module_version": "2.0.0",
      "model_name": "LayoutModel",
      "state": {
       "width": "98%"
      }
     },
     "ed38ba71acc0445f89e01e41379afd89": {
      "model_module": "@jupyter-widgets/base",
      "model_module_version": "2.0.0",
      "model_name": "LayoutModel",
      "state": {
       "border_bottom": "1px solid black",
       "border_left": "1px solid black",
       "border_right": "1px solid black",
       "border_top": "1px solid black"
      }
     },
     "ed52bfac9a7642dc9e3bca45ef7bd383": {
      "model_module": "@jupyter-widgets/controls",
      "model_module_version": "2.0.0",
      "model_name": "CheckboxModel",
      "state": {
       "description": "Enclosure",
       "disabled": false,
       "indent": false,
       "layout": "IPY_MODEL_38e13526173f473493a10e683ed4ad45",
       "style": "IPY_MODEL_c879b1c29e444adb95380945628375c2",
       "value": true
      }
     },
     "ed564155d9364a85b6a163aea474ce02": {
      "model_module": "@jupyter-widgets/controls",
      "model_module_version": "2.0.0",
      "model_name": "DescriptionStyleModel",
      "state": {
       "description_width": ""
      }
     },
     "ed6eb8b49c2f4e8a89ea4a136fd83f26": {
      "model_module": "@jupyter-widgets/controls",
      "model_module_version": "2.0.0",
      "model_name": "HTMLModel",
      "state": {
       "layout": "IPY_MODEL_30b8a008a197405db2c9ce91f9739bfb",
       "style": "IPY_MODEL_35efaf8e68194125974e8f8bf589b2d1",
       "value": "<font color='grey'>Select classes for inference:"
      }
     },
     "ed7797547d1941fcafbcff6f7aef856a": {
      "model_module": "@jupyter-widgets/controls",
      "model_module_version": "2.0.0",
      "model_name": "DescriptionStyleModel",
      "state": {
       "description_width": ""
      }
     },
     "eddbcbbcab99403a9b9b56154ccfa067": {
      "model_module": "@jupyter-widgets/controls",
      "model_module_version": "2.0.0",
      "model_name": "TextModel",
      "state": {
       "description": "Path to ML model [*.tar]:",
       "layout": "IPY_MODEL_0145402d2c414932946cb0730301a654",
       "placeholder": "model_folder/saved_model.tar",
       "style": "IPY_MODEL_7aac0a8ba8c74f14964c52ab7d49acfe"
      }
     },
     "ee05c5b80fa944a28bc57053db0aad18": {
      "model_module": "@jupyter-widgets/controls",
      "model_module_version": "2.0.0",
      "model_name": "TextStyleModel",
      "state": {
       "description_width": "initial",
       "font_size": null,
       "text_color": null
      }
     },
     "ee19c87d5f28436db56e6f5f6e6a6d40": {
      "model_module": "@jupyter-widgets/controls",
      "model_module_version": "2.0.0",
      "model_name": "CheckboxModel",
      "state": {
       "description": "Batch processing",
       "disabled": false,
       "indent": false,
       "layout": "IPY_MODEL_75dce213fdb24f8095fa9ce826768403",
       "style": "IPY_MODEL_5ece829c66c84fc39e08d6ec9f981ff4",
       "value": true
      }
     },
     "ee23fd56dc0f4c7fa856f61c73aadd08": {
      "model_module": "@jupyter-widgets/controls",
      "model_module_version": "2.0.0",
      "model_name": "CheckboxStyleModel",
      "state": {
       "description_width": ""
      }
     },
     "ee24df7d582c4dd49630574c6b8bb17c": {
      "model_module": "@jupyter-widgets/output",
      "model_module_version": "1.0.0",
      "model_name": "OutputModel",
      "state": {
       "layout": "IPY_MODEL_7342694cc75b4f2394ef4634414fbcf2",
       "outputs": [
        {
         "data": {
          "application/vnd.jupyter.widget-view+json": {
           "model_id": "1227f46660e84e0da7d27121e2cb2a84",
           "version_major": 2,
           "version_minor": 0
          },
          "text/plain": "Text(value='', description='DEM path:', layout=Layout(width='98%'), placeholder='<my_data_folder/my_DEM_file.t…"
         },
         "metadata": {},
         "output_type": "display_data"
        }
       ]
      }
     },
     "ee4bee64399544ffb08ef2af702afa46": {
      "model_module": "@jupyter-widgets/base",
      "model_module_version": "2.0.0",
      "model_name": "LayoutModel",
      "state": {}
     },
     "ee4c880b0d634cb5806cce7070504112": {
      "model_module": "@jupyter-widgets/controls",
      "model_module_version": "2.0.0",
      "model_name": "CheckboxStyleModel",
      "state": {
       "description_width": ""
      }
     },
     "ee5239bb0c7246e589682b00b0893ba9": {
      "model_module": "@jupyter-widgets/controls",
      "model_module_version": "2.0.0",
      "model_name": "CheckboxModel",
      "state": {
       "description": "Ringfort",
       "disabled": false,
       "indent": false,
       "layout": "IPY_MODEL_6d846077460f4262a970094d84078590",
       "style": "IPY_MODEL_323bfd51bfaf42b793c71f35adf3afbb",
       "value": true
      }
     },
     "ee53e36d0dec46b3802d540c840d76de": {
      "model_module": "@jupyter-widgets/base",
      "model_module_version": "2.0.0",
      "model_name": "LayoutModel",
      "state": {}
     },
     "ee89a7bdf422420e9937952a024275f6": {
      "model_module": "@jupyter-widgets/controls",
      "model_module_version": "2.0.0",
      "model_name": "CheckboxStyleModel",
      "state": {
       "description_width": ""
      }
     },
     "eecbe3ffdcfd474aaafca3abd441fc25": {
      "model_module": "@jupyter-widgets/controls",
      "model_module_version": "2.0.0",
      "model_name": "LabelModel",
      "state": {
       "layout": "IPY_MODEL_b163c3c3869844e49f6b7fde7c24e51e",
       "style": "IPY_MODEL_d5701abdff0941399285f1f150767a1a",
       "value": "Path to ML model [*.tar]:"
      }
     },
     "eef8e92d59034690b4a61f329fc59cb5": {
      "model_module": "@jupyter-widgets/base",
      "model_module_version": "2.0.0",
      "model_name": "LayoutModel",
      "state": {}
     },
     "ef0f860fc8d84324ba252b1d0fbd2982": {
      "model_module": "@jupyter-widgets/base",
      "model_module_version": "2.0.0",
      "model_name": "LayoutModel",
      "state": {}
     },
     "ef60840ddd064365b0dffce038099f5b": {
      "model_module": "@jupyter-widgets/base",
      "model_module_version": "2.0.0",
      "model_name": "LayoutModel",
      "state": {}
     },
     "ef8bf721d53e4dcf909c5d0ca7b33a7f": {
      "model_module": "@jupyter-widgets/controls",
      "model_module_version": "2.0.0",
      "model_name": "CheckboxModel",
      "state": {
       "description": "Barrow",
       "disabled": false,
       "indent": false,
       "layout": "IPY_MODEL_1df42030e7a24169ae084eb3442facc1",
       "style": "IPY_MODEL_5f2c24adaf19400ab1d7bf8235e33a13",
       "value": true
      }
     },
     "ef8d77728d6a498e81467adf13677c47": {
      "model_module": "@jupyter-widgets/base",
      "model_module_version": "2.0.0",
      "model_name": "LayoutModel",
      "state": {}
     },
     "eff588b64eec4847ae4c6742e69da480": {
      "model_module": "@jupyter-widgets/controls",
      "model_module_version": "2.0.0",
      "model_name": "CheckboxStyleModel",
      "state": {
       "description_width": ""
      }
     },
     "f0360216178e42628f511e4046525923": {
      "model_module": "@jupyter-widgets/controls",
      "model_module_version": "2.0.0",
      "model_name": "CheckboxModel",
      "state": {
       "description": "Ringfort",
       "disabled": false,
       "indent": false,
       "layout": "IPY_MODEL_ef8d77728d6a498e81467adf13677c47",
       "style": "IPY_MODEL_53786867bfdd41d7b6038a0c8ce67eb0",
       "value": true
      }
     },
     "f0426a3d95aa4ac49b8453a9d951d735": {
      "model_module": "@jupyter-widgets/controls",
      "model_module_version": "2.0.0",
      "model_name": "HTMLStyleModel",
      "state": {
       "description_width": "",
       "font_size": null,
       "text_color": null
      }
     },
     "f0573082b09a4fbe8e98a63062cf0f49": {
      "model_module": "@jupyter-widgets/controls",
      "model_module_version": "2.0.0",
      "model_name": "HBoxModel",
      "state": {
       "children": [
        "IPY_MODEL_44ee06d8d2e8481980eb238b9e40f242",
        "IPY_MODEL_d9d28b6c518b48609ff990a155670492"
       ],
       "layout": "IPY_MODEL_93f986f4af5647a0b9f142f8bbb8e63d"
      }
     },
     "f069a6c270644c438a502d2649c87e97": {
      "model_module": "@jupyter-widgets/base",
      "model_module_version": "2.0.0",
      "model_name": "LayoutModel",
      "state": {}
     },
     "f0d841d513574675a8a0ecac5e0795e0": {
      "model_module": "@jupyter-widgets/base",
      "model_module_version": "2.0.0",
      "model_name": "LayoutModel",
      "state": {}
     },
     "f0e3b307707646a0b7011998f5bf52b6": {
      "model_module": "@jupyter-widgets/controls",
      "model_module_version": "2.0.0",
      "model_name": "HTMLStyleModel",
      "state": {
       "description_width": "",
       "font_size": null,
       "text_color": null
      }
     },
     "f0f65c1a24a24ff7821f1e8353230b1e": {
      "model_module": "@jupyter-widgets/output",
      "model_module_version": "1.0.0",
      "model_name": "OutputModel",
      "state": {
       "layout": "IPY_MODEL_ce93eef952a94598a3c6600495ce731a"
      }
     },
     "f11294f409604530afec94f1275449a0": {
      "model_module": "@jupyter-widgets/controls",
      "model_module_version": "2.0.0",
      "model_name": "RadioButtonsModel",
      "state": {
       "_options_labels": [
        "object detection",
        "segmentation"
       ],
       "description": "Select ML method:",
       "index": 1,
       "layout": "IPY_MODEL_d408c515c01b4893aa58f028c16d4e22",
       "style": "IPY_MODEL_f68559622e6242afa15786e9aa041881"
      }
     },
     "f11b57ed8a9d4b1eafb1261324579e84": {
      "model_module": "@jupyter-widgets/controls",
      "model_module_version": "2.0.0",
      "model_name": "LabelStyleModel",
      "state": {
       "description_width": "",
       "font_family": null,
       "font_size": null,
       "font_style": null,
       "font_variant": null,
       "font_weight": null,
       "text_color": null,
       "text_decoration": null
      }
     },
     "f126a130ff544ef582527951387079a3": {
      "model_module": "@jupyter-widgets/base",
      "model_module_version": "2.0.0",
      "model_name": "LayoutModel",
      "state": {}
     },
     "f1a0fcac3c224945a3a10ed283801f22": {
      "model_module": "@jupyter-widgets/controls",
      "model_module_version": "2.0.0",
      "model_name": "HTMLModel",
      "state": {
       "layout": "IPY_MODEL_729e5a582c2a410e9871bf23b7533d29",
       "style": "IPY_MODEL_0006a16f1c20453a896cf2f0c5041170",
       "value": "<font color='black'>Select classes for inference:"
      }
     },
     "f1f037c092834c70ae27f6ab645c2d3b": {
      "model_module": "@jupyter-widgets/controls",
      "model_module_version": "2.0.0",
      "model_name": "HTMLStyleModel",
      "state": {
       "description_width": "",
       "font_size": null,
       "text_color": null
      }
     },
     "f1fc862a3766432bb0cb78946d0d2965": {
      "model_module": "@jupyter-widgets/controls",
      "model_module_version": "2.0.0",
      "model_name": "CheckboxModel",
      "state": {
       "description": "Batch processing",
       "disabled": false,
       "indent": false,
       "layout": "IPY_MODEL_5e5ff79592cb4aa7ad0638c799725160",
       "style": "IPY_MODEL_37bc0687a49b4b06bc7257131fef21be",
       "value": false
      }
     },
     "f22ae802329f4a35a47824be1bb06890": {
      "model_module": "@jupyter-widgets/controls",
      "model_module_version": "2.0.0",
      "model_name": "CheckboxStyleModel",
      "state": {
       "description_width": ""
      }
     },
     "f24c245ea6424b6d853e3bc6f7ebfa73": {
      "model_module": "@jupyter-widgets/output",
      "model_module_version": "1.0.0",
      "model_name": "OutputModel",
      "state": {
       "layout": "IPY_MODEL_c01a8d905550499a924c10c73a3b46f7"
      }
     },
     "f25090909ca448348444b2bfcffa040a": {
      "model_module": "@jupyter-widgets/controls",
      "model_module_version": "2.0.0",
      "model_name": "CheckboxStyleModel",
      "state": {
       "description_width": ""
      }
     },
     "f25ffaa7ed5643ea82fdb8e32c8f2d27": {
      "model_module": "@jupyter-widgets/controls",
      "model_module_version": "2.0.0",
      "model_name": "HTMLStyleModel",
      "state": {
       "description_width": "",
       "font_size": null,
       "text_color": null
      }
     },
     "f2a65206ec694dfda39468bd867dbae4": {
      "model_module": "@jupyter-widgets/controls",
      "model_module_version": "2.0.0",
      "model_name": "RadioButtonsModel",
      "state": {
       "_options_labels": [
        "object detection",
        "segmentation"
       ],
       "description": "Select ML method:",
       "index": 1,
       "layout": "IPY_MODEL_0c8ad487503641c892f3b540cf8ebfdc",
       "style": "IPY_MODEL_708a368e86b64eccaf26fb198471733b"
      }
     },
     "f2a8933f9ed54db68b9cbd1d2c8c2bd8": {
      "model_module": "@jupyter-widgets/base",
      "model_module_version": "2.0.0",
      "model_name": "LayoutModel",
      "state": {}
     },
     "f2ae8c011f6e49a89dc5f537a021dc19": {
      "model_module": "@jupyter-widgets/base",
      "model_module_version": "2.0.0",
      "model_name": "LayoutModel",
      "state": {
       "border_bottom": "1px solid black",
       "border_left": "1px solid black",
       "border_right": "1px solid black",
       "border_top": "1px solid black"
      }
     },
     "f30a6c610ab54f888efc215f8f3eba61": {
      "model_module": "@jupyter-widgets/controls",
      "model_module_version": "2.0.0",
      "model_name": "TextStyleModel",
      "state": {
       "description_width": "initial",
       "font_size": null,
       "text_color": null
      }
     },
     "f339af668b8043dab1965ca3b4201fd0": {
      "model_module": "@jupyter-widgets/base",
      "model_module_version": "2.0.0",
      "model_name": "LayoutModel",
      "state": {
       "width": "98%"
      }
     },
     "f33e983d2b1546afa2c3966e58d02d7c": {
      "model_module": "@jupyter-widgets/output",
      "model_module_version": "1.0.0",
      "model_name": "OutputModel",
      "state": {
       "layout": "IPY_MODEL_b5346d0a2b58471cad2e2ff6a05fe7aa",
       "outputs": [
        {
         "ename": "UnboundLocalError",
         "evalue": "local variable 'rb_selection' referenced before assignment",
         "output_type": "error",
         "traceback": [
          "\u001b[1;31m---------------------------------------------------------------------------\u001b[0m",
          "\u001b[1;31mUnboundLocalError\u001b[0m                         Traceback (most recent call last)",
          "\u001b[1;32m~\\AppData\\Local\\anaconda3\\envs\\aitlas-tii\\lib\\site-packages\\ipywidgets\\widgets\\widget_output.py\u001b[0m in \u001b[0;36minner\u001b[1;34m(*args, **kwargs)\u001b[0m\n\u001b[0;32m    101\u001b[0m                     \u001b[0mself\u001b[0m\u001b[1;33m.\u001b[0m\u001b[0mclear_output\u001b[0m\u001b[1;33m(\u001b[0m\u001b[1;33m*\u001b[0m\u001b[0mclear_args\u001b[0m\u001b[1;33m,\u001b[0m \u001b[1;33m**\u001b[0m\u001b[0mclear_kwargs\u001b[0m\u001b[1;33m)\u001b[0m\u001b[1;33m\u001b[0m\u001b[1;33m\u001b[0m\u001b[0m\n\u001b[0;32m    102\u001b[0m                 \u001b[1;32mwith\u001b[0m \u001b[0mself\u001b[0m\u001b[1;33m:\u001b[0m\u001b[1;33m\u001b[0m\u001b[1;33m\u001b[0m\u001b[0m\n\u001b[1;32m--> 103\u001b[1;33m                     \u001b[1;32mreturn\u001b[0m \u001b[0mfunc\u001b[0m\u001b[1;33m(\u001b[0m\u001b[1;33m*\u001b[0m\u001b[0margs\u001b[0m\u001b[1;33m,\u001b[0m \u001b[1;33m**\u001b[0m\u001b[0mkwargs\u001b[0m\u001b[1;33m)\u001b[0m\u001b[1;33m\u001b[0m\u001b[1;33m\u001b[0m\u001b[0m\n\u001b[0m\u001b[0;32m    104\u001b[0m             \u001b[1;32mreturn\u001b[0m \u001b[0minner\u001b[0m\u001b[1;33m\u001b[0m\u001b[1;33m\u001b[0m\u001b[0m\n\u001b[0;32m    105\u001b[0m         \u001b[1;32mreturn\u001b[0m \u001b[0mcapture_decorator\u001b[0m\u001b[1;33m\u001b[0m\u001b[1;33m\u001b[0m\u001b[0m\n",
          "\u001b[1;32m~\\AppData\\Local\\Temp\\ipykernel_15392\\1723436458.py\u001b[0m in \u001b[0;36mrb_input_file_handler\u001b[1;34m(value)\u001b[0m\n\u001b[0;32m     57\u001b[0m     \u001b[1;31m#     selected_cb = value['new']\u001b[0m\u001b[1;33m\u001b[0m\u001b[1;33m\u001b[0m\u001b[1;33m\u001b[0m\u001b[0m\n\u001b[0;32m     58\u001b[0m \u001b[1;33m\u001b[0m\u001b[0m\n\u001b[1;32m---> 59\u001b[1;33m     \u001b[0mprint\u001b[0m\u001b[1;33m(\u001b[0m\u001b[0mrb_selection\u001b[0m\u001b[1;33m)\u001b[0m\u001b[1;33m\u001b[0m\u001b[1;33m\u001b[0m\u001b[0m\n\u001b[0m\u001b[0;32m     60\u001b[0m \u001b[1;33m\u001b[0m\u001b[0m\n\u001b[0;32m     61\u001b[0m     \u001b[0moutput4\u001b[0m\u001b[1;33m.\u001b[0m\u001b[0mclear_output\u001b[0m\u001b[1;33m(\u001b[0m\u001b[1;33m)\u001b[0m\u001b[1;33m\u001b[0m\u001b[1;33m\u001b[0m\u001b[0m\n",
          "\u001b[1;31mUnboundLocalError\u001b[0m: local variable 'rb_selection' referenced before assignment"
         ]
        }
       ]
      }
     },
     "f364c5c263424fbba06c4f527218d789": {
      "model_module": "@jupyter-widgets/controls",
      "model_module_version": "2.0.0",
      "model_name": "TextStyleModel",
      "state": {
       "description_width": "initial",
       "font_size": null,
       "text_color": null
      }
     },
     "f3f0a3ffb1c14883a6e3d2520ca48548": {
      "model_module": "@jupyter-widgets/controls",
      "model_module_version": "2.0.0",
      "model_name": "CheckboxStyleModel",
      "state": {
       "description_width": ""
      }
     },
     "f400705c07f04118a90c385d6074413d": {
      "model_module": "@jupyter-widgets/base",
      "model_module_version": "2.0.0",
      "model_name": "LayoutModel",
      "state": {
       "border_bottom": "1px solid black",
       "border_left": "1px solid black",
       "border_right": "1px solid black",
       "border_top": "1px solid black"
      }
     },
     "f48857bcb73c46f582a3ab1d9ae66578": {
      "model_module": "@jupyter-widgets/controls",
      "model_module_version": "2.0.0",
      "model_name": "CheckboxModel",
      "state": {
       "description": "Batch processing",
       "disabled": false,
       "indent": false,
       "layout": "IPY_MODEL_11a7acfb80da40d9a4bb7ed943fc81f7",
       "style": "IPY_MODEL_35aaee447f5a41dcafcb3ee97f4a6e60",
       "value": false
      }
     },
     "f4a2ebc326604ade930f4cd72b55e382": {
      "model_module": "@jupyter-widgets/controls",
      "model_module_version": "2.0.0",
      "model_name": "HTMLStyleModel",
      "state": {
       "description_width": "",
       "font_size": null,
       "text_color": null
      }
     },
     "f4d5990b31ec464ca26adf27c2904d54": {
      "model_module": "@jupyter-widgets/controls",
      "model_module_version": "2.0.0",
      "model_name": "RadioButtonsModel",
      "state": {
       "_options_labels": [
        "ADAF model",
        "Custom model"
       ],
       "description": "Select ML model:",
       "index": 0,
       "layout": "IPY_MODEL_bebc12431d824bd99b84af902426fa90",
       "style": "IPY_MODEL_a83f9d453d95404b943b5d1ab56c45a7"
      }
     },
     "f4f1bc26b4f44b1fbc7c72667d34d093": {
      "model_module": "@jupyter-widgets/base",
      "model_module_version": "2.0.0",
      "model_name": "LayoutModel",
      "state": {}
     },
     "f4f72dd6c9e2403eab90bf426454e5c4": {
      "model_module": "@jupyter-widgets/output",
      "model_module_version": "1.0.0",
      "model_name": "OutputModel",
      "state": {
       "layout": "IPY_MODEL_b7b93ce349ac452da9f41fb61ec065d5",
       "outputs": [
        {
         "name": "stdout",
         "output_type": "stream",
         "text": "{'name': 'index', 'old': 0, 'new': 1, 'owner': RadioButtons(description='Select input type:', index=1, options=('DEM (*.tif / *.vrt)', 'Visualization (*.tif / *.vrt)'), value='Visualization (*.tif / *.vrt)'), 'type': 'change'}\n"
        }
       ]
      }
     },
     "f508ea7614a642f4a8ee405b607658fc": {
      "model_module": "@jupyter-widgets/output",
      "model_module_version": "1.0.0",
      "model_name": "OutputModel",
      "state": {
       "layout": "IPY_MODEL_6ff4dadaa40d42f4a02bfe7a112da215",
       "outputs": [
        {
         "data": {
          "application/vnd.jupyter.widget-view+json": {
           "model_id": "44c5d33a89ca4c489ce80d0c0ad81ec1",
           "version_major": 2,
           "version_minor": 0
          },
          "text/plain": "Label(value='Select classes for inference:')"
         },
         "metadata": {},
         "output_type": "display_data"
        }
       ]
      }
     },
     "f50b9ce39a774e4389dfcf21edaabd0e": {
      "model_module": "@jupyter-widgets/controls",
      "model_module_version": "2.0.0",
      "model_name": "HBoxModel",
      "state": {
       "children": [
        "IPY_MODEL_15ab49a5b0b64318a6d708b029da49d4",
        "IPY_MODEL_586bf1b5da7d46bcb4cb0d868df0ba3b"
       ],
       "layout": "IPY_MODEL_6fc900380a2a4e20acf0fa28eb7648b5"
      }
     },
     "f54d7a99bbd84c819dd86a18e4129fd5": {
      "model_module": "@jupyter-widgets/controls",
      "model_module_version": "2.0.0",
      "model_name": "LabelStyleModel",
      "state": {
       "description_width": "",
       "font_family": null,
       "font_size": null,
       "font_style": null,
       "font_variant": null,
       "font_weight": null,
       "text_color": null,
       "text_decoration": null
      }
     },
     "f558ee4ef63e42fb97138a4e8eabacfc": {
      "model_module": "@jupyter-widgets/base",
      "model_module_version": "2.0.0",
      "model_name": "LayoutModel",
      "state": {}
     },
     "f572f25094b347db8520a288968772d2": {
      "model_module": "@jupyter-widgets/base",
      "model_module_version": "2.0.0",
      "model_name": "LayoutModel",
      "state": {}
     },
     "f57901fd31da4a61b7f6264b2058c540": {
      "model_module": "@jupyter-widgets/controls",
      "model_module_version": "2.0.0",
      "model_name": "RadioButtonsModel",
      "state": {
       "_options_labels": [
        "object detection",
        "segmentation"
       ],
       "description": "Select ML method:",
       "index": 1,
       "layout": "IPY_MODEL_75324da4200d490ca6765ab1bab870fd",
       "style": "IPY_MODEL_d978edc0a4074e7dbbfbc4f35522eed3"
      }
     },
     "f57bd2349e2340078a5c7f81dc30647c": {
      "model_module": "@jupyter-widgets/controls",
      "model_module_version": "2.0.0",
      "model_name": "HTMLStyleModel",
      "state": {
       "description_width": "",
       "font_size": null,
       "text_color": null
      }
     },
     "f5889b20a9514b0299b93e0223dfc1e1": {
      "model_module": "@jupyter-widgets/base",
      "model_module_version": "2.0.0",
      "model_name": "LayoutModel",
      "state": {}
     },
     "f5e1aabdbb54461ab17bd1e658e2464e": {
      "model_module": "@jupyter-widgets/base",
      "model_module_version": "2.0.0",
      "model_name": "LayoutModel",
      "state": {}
     },
     "f640667fefd24586aa63e3bd34297a7a": {
      "model_module": "@jupyter-widgets/output",
      "model_module_version": "1.0.0",
      "model_name": "OutputModel",
      "state": {
       "layout": "IPY_MODEL_b935656e04c749aa835c645abacf4695",
       "outputs": [
        {
         "name": "stdout",
         "output_type": "stream",
         "text": "{'name': 'index', 'old': 0, 'new': 1, 'owner': RadioButtons(description='Select input type:', index=1, options=('DEM (*.tif / *.vrt)', 'Visualization (*.tif / *.vrt)'), value='Visualization (*.tif / *.vrt)'), 'type': 'change'}\n"
        }
       ]
      }
     },
     "f64167f9f9f04ada95269cfb5b5e20e4": {
      "model_module": "@jupyter-widgets/base",
      "model_module_version": "2.0.0",
      "model_name": "LayoutModel",
      "state": {}
     },
     "f64d0b45fe1b4ff9a7f3aea205f31e67": {
      "model_module": "@jupyter-widgets/controls",
      "model_module_version": "2.0.0",
      "model_name": "CheckboxStyleModel",
      "state": {
       "description_width": ""
      }
     },
     "f661adb264484ca4b6123d47d1f89135": {
      "model_module": "@jupyter-widgets/controls",
      "model_module_version": "2.0.0",
      "model_name": "RadioButtonsModel",
      "state": {
       "_options_labels": [
        "DEM (*.tif / *.vrt)",
        "Visualization (*.tif / *.vrt)"
       ],
       "description": "Select input type:",
       "index": 1,
       "layout": "IPY_MODEL_0956b96d8b3543c191ef521ee0e7f1f9",
       "style": "IPY_MODEL_3d3d411fa4be4418bb5afcbd174179d5"
      }
     },
     "f662c621d0b04f2c9f848a90ec3fce59": {
      "model_module": "@jupyter-widgets/base",
      "model_module_version": "2.0.0",
      "model_name": "LayoutModel",
      "state": {}
     },
     "f66842738b7644eea146985d8e3e2ede": {
      "model_module": "@jupyter-widgets/controls",
      "model_module_version": "2.0.0",
      "model_name": "HBoxModel",
      "state": {
       "children": [
        "IPY_MODEL_27e3bf60aed44a9f9a14b5ddc0fff2a9",
        "IPY_MODEL_9f00b01bd7a6478cb7051e20cee1c216"
       ],
       "layout": "IPY_MODEL_af0d0ec5f0c942a8abbc2adac859eec0"
      }
     },
     "f68559622e6242afa15786e9aa041881": {
      "model_module": "@jupyter-widgets/controls",
      "model_module_version": "2.0.0",
      "model_name": "DescriptionStyleModel",
      "state": {
       "description_width": ""
      }
     },
     "f6ae87f7e28e429caa2a5bbde5f426b5": {
      "model_module": "@jupyter-widgets/base",
      "model_module_version": "2.0.0",
      "model_name": "LayoutModel",
      "state": {
       "width": "98%"
      }
     },
     "f6b2e985f88e4efc96863c4c27dd2235": {
      "model_module": "@jupyter-widgets/base",
      "model_module_version": "2.0.0",
      "model_name": "LayoutModel",
      "state": {}
     },
     "f6edf79fe20845c99dbb00f0962e7561": {
      "model_module": "@jupyter-widgets/controls",
      "model_module_version": "2.0.0",
      "model_name": "CheckboxStyleModel",
      "state": {
       "description_width": ""
      }
     },
     "f700a00909514e24ac3f21fcf65bf0f4": {
      "model_module": "@jupyter-widgets/controls",
      "model_module_version": "2.0.0",
      "model_name": "TextModel",
      "state": {
       "description": "Path to ML model [*.tar]:",
       "layout": "IPY_MODEL_1a09025810b4458ba2284554976685a8",
       "placeholder": "model_folder/saved_model.tar",
       "style": "IPY_MODEL_6470d55063a54812ab0bdc1ae0b3e415"
      }
     },
     "f70a55a8b3d140f3a30aa71d6b167cfb": {
      "model_module": "@jupyter-widgets/base",
      "model_module_version": "2.0.0",
      "model_name": "LayoutModel",
      "state": {}
     },
     "f77228ba73964074bf88d146406057f8": {
      "model_module": "@jupyter-widgets/controls",
      "model_module_version": "2.0.0",
      "model_name": "CheckboxModel",
      "state": {
       "description": "Barrow",
       "disabled": false,
       "indent": false,
       "layout": "IPY_MODEL_2c6029f3291f45e9b4ddc38c6dbffe3f",
       "style": "IPY_MODEL_3f06ba9548b54e70a3d1eada16ab0029",
       "value": true
      }
     },
     "f786155be1874065a150775c464d4d63": {
      "model_module": "@jupyter-widgets/base",
      "model_module_version": "2.0.0",
      "model_name": "LayoutModel",
      "state": {}
     },
     "f7a175ade21143c19ece0b60856ffaf2": {
      "model_module": "@jupyter-widgets/controls",
      "model_module_version": "2.0.0",
      "model_name": "TextModel",
      "state": {
       "description": "DEM path:",
       "layout": "IPY_MODEL_63ecc32005334e9f89a1a7bd0efaa00a",
       "placeholder": "<my_data_folder/my_DEM_file.tif>",
       "style": "IPY_MODEL_2f5d436b8e4948b48a84854666d2028d"
      }
     },
     "f7bbe94a15a84e8eaf8b3f32b7f5ddac": {
      "model_module": "@jupyter-widgets/controls",
      "model_module_version": "2.0.0",
      "model_name": "LabelModel",
      "state": {
       "layout": "IPY_MODEL_589ab7df412f48c8b0dd51b242543632",
       "style": "IPY_MODEL_8ccb5288acca4b0ebcc21cab761f4699",
       "value": "Select classes for inference:"
      }
     },
     "f7e252f937c84f5e89847d8784822c20": {
      "model_module": "@jupyter-widgets/output",
      "model_module_version": "1.0.0",
      "model_name": "OutputModel",
      "state": {
       "layout": "IPY_MODEL_e2f1da1e8c994002a59384a7814b272a",
       "outputs": [
        {
         "name": "stdout",
         "output_type": "stream",
         "text": "0\n"
        }
       ]
      }
     },
     "f7e30b2f453a4fcca2fb9089b97024f7": {
      "model_module": "@jupyter-widgets/controls",
      "model_module_version": "2.0.0",
      "model_name": "TextStyleModel",
      "state": {
       "description_width": "initial",
       "font_size": null,
       "text_color": null
      }
     },
     "f817a36babd346c981207dc8623df3cd": {
      "model_module": "@jupyter-widgets/controls",
      "model_module_version": "2.0.0",
      "model_name": "HTMLModel",
      "state": {
       "layout": "IPY_MODEL_d6c2500b81f04146bb1c8a0b51b7a2f2",
       "style": "IPY_MODEL_653361b5003244d68d6f61871369e4bd",
       "value": "<font color='black'>Select classes for inference:"
      }
     },
     "f82aaaaea24a4ebab1c0bee20000206a": {
      "model_module": "@jupyter-widgets/base",
      "model_module_version": "2.0.0",
      "model_name": "LayoutModel",
      "state": {}
     },
     "f85409cf3a944ffda8ba531611ea688c": {
      "model_module": "@jupyter-widgets/controls",
      "model_module_version": "2.0.0",
      "model_name": "RadioButtonsModel",
      "state": {
       "_options_labels": [
        "DEM (*.tif / *.vrt)",
        "Visualization (*.tif / *.vrt)"
       ],
       "description": "Select input type:",
       "index": 0,
       "layout": "IPY_MODEL_de12cba6c7824b7c92f8a5fbdad5d4fd",
       "style": "IPY_MODEL_64bfa78d0d814e08a49b4cf9125e98b8"
      }
     },
     "f85fd2fefcb0413597764302e42936f0": {
      "model_module": "@jupyter-widgets/controls",
      "model_module_version": "2.0.0",
      "model_name": "TextStyleModel",
      "state": {
       "description_width": "initial",
       "font_size": null,
       "text_color": null
      }
     },
     "f89cf3425ab64af98027ea77f583f3ce": {
      "model_module": "@jupyter-widgets/controls",
      "model_module_version": "2.0.0",
      "model_name": "CheckboxModel",
      "state": {
       "description": "Ringfort",
       "disabled": false,
       "indent": false,
       "layout": "IPY_MODEL_894df3057cab4ab4b24e0168f34cc27e",
       "style": "IPY_MODEL_25efdd88a81746da95c510a6fd5468b6",
       "value": true
      }
     },
     "f89df19937e444bea128a55b72130304": {
      "model_module": "@jupyter-widgets/base",
      "model_module_version": "2.0.0",
      "model_name": "LayoutModel",
      "state": {}
     },
     "f8bf93b1c07044d0b38721d30dc8fefb": {
      "model_module": "@jupyter-widgets/controls",
      "model_module_version": "2.0.0",
      "model_name": "HTMLModel",
      "state": {
       "layout": "IPY_MODEL_8707f69be5b74dd7972c2b811a9ace84",
       "style": "IPY_MODEL_40de7a073d8843f6878cf9b5002203a9",
       "value": "<b>ML options:</b>"
      }
     },
     "f8fddc7e6988422088fdd48a37b78c81": {
      "model_module": "@jupyter-widgets/controls",
      "model_module_version": "2.0.0",
      "model_name": "HTMLModel",
      "state": {
       "layout": "IPY_MODEL_ddfd899aeeb6414396f29c747add756e",
       "style": "IPY_MODEL_c4347cc13d354e8993db286e525474dd",
       "value": "<font color='grey'>Select classes for inference:"
      }
     },
     "f917f65704224a2792c37b583a72d3a4": {
      "model_module": "@jupyter-widgets/controls",
      "model_module_version": "2.0.0",
      "model_name": "CheckboxModel",
      "state": {
       "description": "Batch processing",
       "disabled": false,
       "indent": false,
       "layout": "IPY_MODEL_00ec214393564e71a69bc4f5251c32cf",
       "style": "IPY_MODEL_0d4af094851e4feebf54acd844dac7da",
       "value": false
      }
     },
     "f94778193593476a9e7c5569c12fb143": {
      "model_module": "@jupyter-widgets/base",
      "model_module_version": "2.0.0",
      "model_name": "LayoutModel",
      "state": {}
     },
     "f970978040e44e599db36c0f40c16a3c": {
      "model_module": "@jupyter-widgets/output",
      "model_module_version": "1.0.0",
      "model_name": "OutputModel",
      "state": {
       "layout": "IPY_MODEL_6f8c14273f504f6f9225fbdb714a6b88",
       "outputs": [
        {
         "data": {
          "application/vnd.jupyter.widget-view+json": {
           "model_id": "217a8c739f50407d9cfb911f1285b39a",
           "version_major": 2,
           "version_minor": 0
          },
          "text/plain": "Label(value='Select classes for inference:')"
         },
         "metadata": {},
         "output_type": "display_data"
        }
       ]
      }
     },
     "f9797dd8c23146afb97d5983a7f73c7b": {
      "model_module": "@jupyter-widgets/base",
      "model_module_version": "2.0.0",
      "model_name": "LayoutModel",
      "state": {}
     },
     "f97acceb32c34d46a093f232fee2c154": {
      "model_module": "@jupyter-widgets/controls",
      "model_module_version": "2.0.0",
      "model_name": "TextStyleModel",
      "state": {
       "description_width": "initial",
       "font_size": null,
       "text_color": null
      }
     },
     "f97c9914b8454a96a5e3c66afa29466f": {
      "model_module": "@jupyter-widgets/controls",
      "model_module_version": "2.0.0",
      "model_name": "RadioButtonsModel",
      "state": {
       "_options_labels": [
        "object detection",
        "segmentation"
       ],
       "description": "Select ML method:",
       "index": 1,
       "layout": "IPY_MODEL_50dd71278988421fa4f7a021c89b12ef",
       "style": "IPY_MODEL_c1c09ce1f94c406cb83ed75738e61c61"
      }
     },
     "f97ec62acaa5478d9a711b69b731264e": {
      "model_module": "@jupyter-widgets/controls",
      "model_module_version": "2.0.0",
      "model_name": "TextStyleModel",
      "state": {
       "description_width": "initial",
       "font_size": null,
       "text_color": null
      }
     },
     "f99222c231ba4cd6bb23c8fa062d7187": {
      "model_module": "@jupyter-widgets/controls",
      "model_module_version": "2.0.0",
      "model_name": "HBoxModel",
      "state": {
       "children": [
        "IPY_MODEL_2a7d4c1a3c5048e3a0845e53edbca2c1",
        "IPY_MODEL_e46c9d407c394108b2b82550b0ae9d6b"
       ],
       "layout": "IPY_MODEL_254a9e1642b44ca6a45e97cd15e5af74"
      }
     },
     "f999d4d094394f329a453de5e76c59ae": {
      "model_module": "@jupyter-widgets/base",
      "model_module_version": "2.0.0",
      "model_name": "LayoutModel",
      "state": {}
     },
     "f9b2d582b33b47caa8da0eac32fcc692": {
      "model_module": "@jupyter-widgets/controls",
      "model_module_version": "2.0.0",
      "model_name": "CheckboxStyleModel",
      "state": {
       "description_width": ""
      }
     },
     "f9bcf41658444af8962450130cfb065f": {
      "model_module": "@jupyter-widgets/controls",
      "model_module_version": "2.0.0",
      "model_name": "RadioButtonsModel",
      "state": {
       "_options_labels": [
        "DEM (*.tif / *.vrt)",
        "Visualization (*.tif / *.vrt)"
       ],
       "description": "Select input type:",
       "index": 1,
       "layout": "IPY_MODEL_b759710b125243ca9c0023b534a6fce3",
       "style": "IPY_MODEL_ac7ac5aeec2f4bf8ba06d6d8652d497d"
      }
     },
     "fa0a47844fce454a89af7137cc431262": {
      "model_module": "@jupyter-widgets/controls",
      "model_module_version": "2.0.0",
      "model_name": "DescriptionStyleModel",
      "state": {
       "description_width": ""
      }
     },
     "fa5ba2e2763c4cf3bf03ff841c3c3655": {
      "model_module": "@jupyter-widgets/controls",
      "model_module_version": "2.0.0",
      "model_name": "CheckboxModel",
      "state": {
       "description": "All archaeology",
       "disabled": false,
       "indent": false,
       "layout": "IPY_MODEL_9b50ba62b0214f3989907c7215dfb737",
       "style": "IPY_MODEL_03a983f336bf43ec879e372c021de0bb",
       "value": false
      }
     },
     "fa6c2252c41641e0969e909f32da8e2f": {
      "model_module": "@jupyter-widgets/base",
      "model_module_version": "2.0.0",
      "model_name": "LayoutModel",
      "state": {
       "width": "98%"
      }
     },
     "fa6f1c463cab4261b5972d40bfc38b5f": {
      "model_module": "@jupyter-widgets/base",
      "model_module_version": "2.0.0",
      "model_name": "LayoutModel",
      "state": {}
     },
     "fa86c18892c24c3e890414bd3446068f": {
      "model_module": "@jupyter-widgets/base",
      "model_module_version": "2.0.0",
      "model_name": "LayoutModel",
      "state": {}
     },
     "fa9b77c132ab4eb382badb674bc64dc7": {
      "model_module": "@jupyter-widgets/controls",
      "model_module_version": "2.0.0",
      "model_name": "HBoxModel",
      "state": {
       "children": [
        "IPY_MODEL_74801b2dbc7740f986a28732303a382f",
        "IPY_MODEL_24d751c5e73d4b429c27af713afe2d89",
        "IPY_MODEL_c49d0d019f8e402b851321b11f0c41d8",
        "IPY_MODEL_cceae4aa89f14f21bf3b13c55edeec82"
       ],
       "layout": "IPY_MODEL_9ca6c3102e3c4138b1ede62ca6e573f4"
      }
     },
     "faa3013a63af4039b7bbcf5adfe2de6f": {
      "model_module": "@jupyter-widgets/controls",
      "model_module_version": "2.0.0",
      "model_name": "TextStyleModel",
      "state": {
       "description_width": "initial",
       "font_size": null,
       "text_color": null
      }
     },
     "fac54bc3c3d24930a999d0f09596ed92": {
      "model_module": "@jupyter-widgets/base",
      "model_module_version": "2.0.0",
      "model_name": "LayoutModel",
      "state": {
       "width": "98%"
      }
     },
     "fad74936874e4ef7b2fa0381ce997503": {
      "model_module": "@jupyter-widgets/controls",
      "model_module_version": "2.0.0",
      "model_name": "RadioButtonsModel",
      "state": {
       "_options_labels": [
        "object detection",
        "segmentation"
       ],
       "description": "Select ML method:",
       "index": 1,
       "layout": "IPY_MODEL_e8671ae6b42b467fbfb3d0d048e84854",
       "style": "IPY_MODEL_a7ea37cecadd417484848c1ff0192940"
      }
     },
     "fb2449d87c5f42499c8d1919e2f3c759": {
      "model_module": "@jupyter-widgets/controls",
      "model_module_version": "2.0.0",
      "model_name": "CheckboxStyleModel",
      "state": {
       "description_width": ""
      }
     },
     "fb358171bd034d3183d5199cc9c368d6": {
      "model_module": "@jupyter-widgets/controls",
      "model_module_version": "2.0.0",
      "model_name": "DescriptionStyleModel",
      "state": {
       "description_width": ""
      }
     },
     "fb64c338f9474b6fbcf4e674c8fefa02": {
      "model_module": "@jupyter-widgets/base",
      "model_module_version": "2.0.0",
      "model_name": "LayoutModel",
      "state": {}
     },
     "fb983f87c9514b5f8b5437f9a498a11a": {
      "model_module": "@jupyter-widgets/output",
      "model_module_version": "1.0.0",
      "model_name": "OutputModel",
      "state": {
       "layout": "IPY_MODEL_cddcae829e5641a180868b8fb207dd0f",
       "outputs": [
        {
         "name": "stdout",
         "output_type": "stream",
         "text": "{'name': 'index', 'old': 0, 'new': 1, 'owner': RadioButtons(description='Select input type:', index=1, options=('DEM (*.tif / *.vrt)', 'Visualization (*.tif / *.vrt)'), value='Visualization (*.tif / *.vrt)'), 'type': 'change'}\n"
        }
       ]
      }
     },
     "fbd33faab51142b4a4874497bca874a0": {
      "model_module": "@jupyter-widgets/base",
      "model_module_version": "2.0.0",
      "model_name": "LayoutModel",
      "state": {}
     },
     "fbd87211d4964ba1b08247f39066deaf": {
      "model_module": "@jupyter-widgets/controls",
      "model_module_version": "2.0.0",
      "model_name": "CheckboxStyleModel",
      "state": {
       "description_width": ""
      }
     },
     "fbfc6cd3f41a4d44a69a6418dbc98d9a": {
      "model_module": "@jupyter-widgets/controls",
      "model_module_version": "2.0.0",
      "model_name": "DescriptionStyleModel",
      "state": {
       "description_width": ""
      }
     },
     "fc0d159d208642039e45b3f5d1d5ba78": {
      "model_module": "@jupyter-widgets/controls",
      "model_module_version": "2.0.0",
      "model_name": "CheckboxModel",
      "state": {
       "description": "What are my traits?",
       "disabled": false,
       "layout": "IPY_MODEL_b9ac4bb6334b41f089d45b659c5931a8",
       "style": "IPY_MODEL_8cc4a7b46f7a4899a432f5a2a2cf94eb",
       "value": false
      }
     },
     "fc17ec86879c419d88b7f2534499f2ff": {
      "model_module": "@jupyter-widgets/base",
      "model_module_version": "2.0.0",
      "model_name": "LayoutModel",
      "state": {}
     },
     "fc2fb84a7ffd45dba26cff1b70393c4b": {
      "model_module": "@jupyter-widgets/controls",
      "model_module_version": "2.0.0",
      "model_name": "TextStyleModel",
      "state": {
       "description_width": "initial",
       "font_size": null,
       "text_color": null
      }
     },
     "fc6a8a2526d2498d9f02b80d62d1d1d8": {
      "model_module": "@jupyter-widgets/base",
      "model_module_version": "2.0.0",
      "model_name": "LayoutModel",
      "state": {}
     },
     "fc7f92eea99345f288faed27be1b7275": {
      "model_module": "@jupyter-widgets/controls",
      "model_module_version": "2.0.0",
      "model_name": "TextStyleModel",
      "state": {
       "description_width": "initial",
       "font_size": null,
       "text_color": null
      }
     },
     "fcb974977c1c40d190ad688ac533d1c5": {
      "model_module": "@jupyter-widgets/controls",
      "model_module_version": "2.0.0",
      "model_name": "CheckboxModel",
      "state": {
       "description": "Enclosure",
       "disabled": false,
       "indent": false,
       "layout": "IPY_MODEL_bfbd7fa58d404766aacf06cb332d3235",
       "style": "IPY_MODEL_64ade5d3c1bd41a284c2dccf51db00e0",
       "value": true
      }
     },
     "fcf52ff04c8a4300bd9439608f474a1d": {
      "model_module": "@jupyter-widgets/base",
      "model_module_version": "2.0.0",
      "model_name": "LayoutModel",
      "state": {}
     },
     "fd0c1edff8bb4f11946cd9f6ba32d3db": {
      "model_module": "@jupyter-widgets/controls",
      "model_module_version": "2.0.0",
      "model_name": "HTMLStyleModel",
      "state": {
       "description_width": "",
       "font_size": null,
       "text_color": null
      }
     },
     "fde890d03b764dc9aded3de128b9b556": {
      "model_module": "@jupyter-widgets/base",
      "model_module_version": "2.0.0",
      "model_name": "LayoutModel",
      "state": {
       "width": "98%"
      }
     },
     "fdf0b734d92a44dea71aa151dc6677ce": {
      "model_module": "@jupyter-widgets/base",
      "model_module_version": "2.0.0",
      "model_name": "LayoutModel",
      "state": {
       "flex": "grow"
      }
     },
     "fe844c39b4e74ef5a47d535a05351fe2": {
      "model_module": "@jupyter-widgets/base",
      "model_module_version": "2.0.0",
      "model_name": "LayoutModel",
      "state": {}
     },
     "fe9e19af14224e4ea0173232b38b0a21": {
      "model_module": "@jupyter-widgets/base",
      "model_module_version": "2.0.0",
      "model_name": "LayoutModel",
      "state": {}
     },
     "fee51651e54848f4865a918cd2e14535": {
      "model_module": "@jupyter-widgets/controls",
      "model_module_version": "2.0.0",
      "model_name": "VBoxModel",
      "state": {
       "children": [
        "IPY_MODEL_1d3e1b692110424289a1d1f88d8f8eab",
        "IPY_MODEL_ca2875f9fee049acb7097bea3dcaa516",
        "IPY_MODEL_0993d20b83bf49a09949c28b35065e58",
        "IPY_MODEL_bab6b2e4a9b6446b92dc0d99f8b8f0c3"
       ],
       "layout": "IPY_MODEL_ff5ab7e568d24e29b30ed22182b0fbda"
      }
     },
     "fef56934c708482587e67bc641d172ca": {
      "model_module": "@jupyter-widgets/base",
      "model_module_version": "2.0.0",
      "model_name": "LayoutModel",
      "state": {
       "border_bottom": "1px solid black",
       "border_left": "1px solid black",
       "border_right": "1px solid black",
       "border_top": "1px solid black"
      }
     },
     "ff1b6b01a39c4f35a83418f09ed9fdb9": {
      "model_module": "@jupyter-widgets/base",
      "model_module_version": "2.0.0",
      "model_name": "LayoutModel",
      "state": {
       "width": "98%"
      }
     },
     "ff53e77fc2bb47788afe42221bf57ead": {
      "model_module": "@jupyter-widgets/controls",
      "model_module_version": "2.0.0",
      "model_name": "TextStyleModel",
      "state": {
       "description_width": "initial",
       "font_size": null,
       "text_color": null
      }
     },
     "ff5a2e591cc343cc9a35c24e257b6ca9": {
      "model_module": "@jupyter-widgets/base",
      "model_module_version": "2.0.0",
      "model_name": "LayoutModel",
      "state": {}
     },
     "ff5ab7e568d24e29b30ed22182b0fbda": {
      "model_module": "@jupyter-widgets/base",
      "model_module_version": "2.0.0",
      "model_name": "LayoutModel",
      "state": {}
     },
     "fffc0a4701ed4a89afecd1d187307cb2": {
      "model_module": "@jupyter-widgets/base",
      "model_module_version": "2.0.0",
      "model_name": "LayoutModel",
      "state": {}
     }
    },
    "version_major": 2,
    "version_minor": 0
   }
  }
 },
 "nbformat": 4,
 "nbformat_minor": 5
}
