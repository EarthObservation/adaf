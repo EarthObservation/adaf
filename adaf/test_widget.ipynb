{
 "cells": [
  {
   "cell_type": "code",
   "execution_count": 1,
   "id": "1384af01-6fed-4cb3-a46f-f5d0d31377ed",
   "metadata": {},
   "outputs": [],
   "source": [
    "from ipywidgets import interact, interactive, fixed, interact_manual, widgets, HBox, Label\n",
    "import rasterio"
   ]
  },
  {
   "cell_type": "code",
   "execution_count": 2,
   "id": "fcff1c03-2ed0-4ed8-a850-26b53d98bdf7",
   "metadata": {},
   "outputs": [],
   "source": [
    "# Define context manager for display output (text box for DEM)\n",
    "output = widgets.Output()"
   ]
  },
  {
   "cell_type": "code",
   "execution_count": 3,
   "id": "ba3ea8a6-f532-4e3b-b7c7-3facb6163241",
   "metadata": {},
   "outputs": [],
   "source": [
    "def mytextfunction(x):\n",
    "    print(x)\n",
    "    return x\n",
    "\n",
    "interactive_text = interactive(mytextfunction, x=\"Hello World\")\n",
    "interactive_text\n",
    "def get_resolution(path):\n",
    "    with rasterio.open(path) as src:\n",
    "        resolution = src.res[0]\n",
    "\n",
    "    return resolution"
   ]
  },
  {
   "cell_type": "code",
   "execution_count": 4,
   "id": "e9a1bc2e-58c3-424f-941c-b4ce6d8ab530",
   "metadata": {},
   "outputs": [
    {
     "data": {
      "application/vnd.jupyter.widget-view+json": {
       "model_id": "528c56484ecd43ae90b4bb226f2d2f98",
       "version_major": 2,
       "version_minor": 0
      },
      "text/plain": [
       "interactive(children=(Text(value='c:\\\\Users\\\\ncoz\\\\GitHub\\\\aitlas-TII-LIDAR\\\\inference\\\\data\\\\archaeology1_TIN…"
      ]
     },
     "metadata": {},
     "output_type": "display_data"
    },
    {
     "data": {
      "text/plain": [
       "<function __main__.get_resolution(path)>"
      ]
     },
     "execution_count": 4,
     "metadata": {},
     "output_type": "execute_result"
    }
   ],
   "source": [
    "interact(get_resolution, path=r\"c:\\Users\\ncoz\\GitHub\\aitlas-TII-LIDAR\\inference\\data\\archaeology1_TIN\\135000_296000_archaeology1_TIN.tif\")"
   ]
  },
  {
   "cell_type": "code",
   "execution_count": 5,
   "id": "97df0f3b-7c62-4c87-8cf6-888709bbe4af",
   "metadata": {},
   "outputs": [
    {
     "data": {
      "application/vnd.jupyter.widget-view+json": {
       "model_id": "29d547023df44850a5111be73547574a",
       "version_major": 2,
       "version_minor": 0
      },
      "text/plain": [
       "interactive(children=(Text(value='Hello World', description='x'), Output()), _dom_classes=('widget-interact',)…"
      ]
     },
     "execution_count": 5,
     "metadata": {},
     "output_type": "execute_result"
    }
   ],
   "source": [
    "def mytextfunction(x):\n",
    "    print(x)\n",
    "    return x\n",
    "\n",
    "interactive_text = interactive(mytextfunction, x=\"Hello World\")\n",
    "interactive_text"
   ]
  },
  {
   "cell_type": "code",
   "execution_count": 6,
   "id": "da6cb845-ae85-4359-9410-58efe85b1723",
   "metadata": {},
   "outputs": [],
   "source": [
    "style = {'description_width': 'initial'}\n",
    "\n",
    "inp1 = widgets.Text(\n",
    "    description='DEM path [*.tif / *.vrt]:',\n",
    "    placeholder=\"data_folder/file.tif\",\n",
    "    layout=widgets.Layout(width='98%'),\n",
    "    style=style,\n",
    "    disabled=False\n",
    "    # layout={'width': 'max-content'}\n",
    "    # value=\"data/ISA-15_Kilkee/ISA-15_Kilkee_dem_05m.vrt\"\n",
    ")"
   ]
  },
  {
   "cell_type": "code",
   "execution_count": 7,
   "id": "713306a6-4e78-4d7f-af9c-bdd72e7c0719",
   "metadata": {},
   "outputs": [],
   "source": [
    "inp2 = widgets.RadioButtons(\n",
    "    options=['object detection', 'segmentation'],\n",
    "    value='segmentation',\n",
    "    # layout={'width': 'max-content'}, # If the items' names are long\n",
    "    description='Select ML method:',\n",
    "    disabled=False\n",
    ")"
   ]
  },
  {
   "cell_type": "code",
   "execution_count": 8,
   "id": "ec2a029a-85d0-4e06-bed8-d041becf04b5",
   "metadata": {
    "scrolled": true
   },
   "outputs": [
    {
     "data": {
      "application/vnd.jupyter.widget-view+json": {
       "model_id": "0b935420319e4cd680741dd41825347e",
       "version_major": 2,
       "version_minor": 0
      },
      "text/plain": [
       "RadioButtons(description='Select ML method:', index=1, options=('object detection', 'segmentation'), value='se…"
      ]
     },
     "metadata": {},
     "output_type": "display_data"
    },
    {
     "data": {
      "application/vnd.jupyter.widget-view+json": {
       "model_id": "c0d820b374d04ddcba49e269975c3e7e",
       "version_major": 2,
       "version_minor": 0
      },
      "text/plain": [
       "Text(value='', description='DEM path [*.tif / *.vrt]:', disabled=True, layout=Layout(width='98%'), placeholder…"
      ]
     },
     "metadata": {},
     "output_type": "display_data"
    }
   ],
   "source": [
    "display(inp2)\n",
    "\n",
    "inp1.disabled=True\n",
    "display(inp1)"
   ]
  },
  {
   "cell_type": "code",
   "execution_count": 9,
   "id": "ae986760-ddb7-488d-99c1-dee09ac3dbbd",
   "metadata": {},
   "outputs": [
    {
     "data": {
      "application/vnd.jupyter.widget-view+json": {
       "model_id": "fc0d159d208642039e45b3f5d1d5ba78",
       "version_major": 2,
       "version_minor": 0
      },
      "text/plain": [
       "Checkbox(value=False, description='What are my traits?')"
      ]
     },
     "metadata": {},
     "output_type": "display_data"
    },
    {
     "data": {
      "application/vnd.jupyter.widget-view+json": {
       "model_id": "1e7a7d7b7ac74192a049d22b5c9c9edc",
       "version_major": 2,
       "version_minor": 0
      },
      "text/plain": [
       "Output()"
      ]
     },
     "metadata": {},
     "output_type": "display_data"
    }
   ],
   "source": [
    "# Instance CHECKBOX\n",
    "checkbox_example = widgets.Checkbox(\n",
    "    value=False,\n",
    "    description='What are my traits?',\n",
    "    disabled=False\n",
    ")\n",
    "\n",
    "# # Instance output\n",
    "# output2 = widgets.Output()\n",
    "\n",
    "# Display both the widget and output in the same place\n",
    "display(checkbox_example, output)\n",
    "\n",
    "# Set up the handler\n",
    "def what_traits_checkbox(value):\n",
    "    output.clear_output()\n",
    "    with output:\n",
    "        print(f\"{value.keys()} this is the output of all the keys\")\n",
    "        print(\"-------------\")\n",
    "        print(f\"{value.values()} this is the output of all the values\")\n",
    "        print(\"-------------\")\n",
    "        \n",
    "checkbox_example.observe(what_traits_checkbox, names = 'value')\n"
   ]
  },
  {
   "cell_type": "code",
   "execution_count": 10,
   "id": "1e4b4e16-b42a-4f68-8165-ab61810be661",
   "metadata": {},
   "outputs": [
    {
     "data": {
      "application/vnd.jupyter.widget-view+json": {
       "model_id": "5b41365d1f434490968014fd3d98ff1d",
       "version_major": 2,
       "version_minor": 0
      },
      "text/plain": [
       "RadioButtons(description='Pizza topping:', options=('pepperoni', 'pineapple', 'anchovies'), value=None)"
      ]
     },
     "metadata": {},
     "output_type": "display_data"
    },
    {
     "data": {
      "application/vnd.jupyter.widget-view+json": {
       "model_id": "0241d4896d6c4ace8c5bca98aff357ca",
       "version_major": 2,
       "version_minor": 0
      },
      "text/plain": [
       "Output()"
      ]
     },
     "metadata": {},
     "output_type": "display_data"
    }
   ],
   "source": [
    "radio_button = widgets.RadioButtons(\n",
    "    options=['pepperoni', 'pineapple', 'anchovies'],\n",
    "    value=None,\n",
    "    description='Pizza topping:',\n",
    "    disabled=False)\n",
    "output3 = widgets.Output()\n",
    "display(radio_button, output3)\n",
    "def what_traits_radio(value):\n",
    "    output3.clear_output()\n",
    "    with output3:\n",
    "        print(f\"{value.keys()} this is the output of all the keys\")\n",
    "        print(\"-------------\")\n",
    "        print(f\"{value.values()} this is the output of all the values\")\n",
    "        print(\"-------------\")\n",
    "radio_button.observe(what_traits_radio, names = 'value')"
   ]
  },
  {
   "cell_type": "code",
   "execution_count": 11,
   "id": "a0f1cbe7-78ca-49e3-ba5a-05fa09add70f",
   "metadata": {},
   "outputs": [
    {
     "data": {
      "application/vnd.jupyter.widget-view+json": {
       "model_id": "3dd99ee72c83446d9c1291d0b128ae74",
       "version_major": 2,
       "version_minor": 0
      },
      "text/plain": [
       "HBox(children=(Label(value='What color is the White House?'),))"
      ]
     },
     "metadata": {},
     "output_type": "display_data"
    },
    {
     "data": {
      "application/vnd.jupyter.widget-view+json": {
       "model_id": "bbf7de9cd723417abee7a97d358c45e1",
       "version_major": 2,
       "version_minor": 0
      },
      "text/plain": [
       "RadioButtons(options=('white', 'tan', 'slate', 'green'), value='white')"
      ]
     },
     "metadata": {},
     "output_type": "display_data"
    },
    {
     "data": {
      "application/vnd.jupyter.widget-view+json": {
       "model_id": "8ebcece5154e4058b488761096109584",
       "version_major": 2,
       "version_minor": 0
      },
      "text/plain": [
       "Output()"
      ]
     },
     "metadata": {},
     "output_type": "display_data"
    }
   ],
   "source": [
    "#What color is the White House?\n",
    "radio_question1 = widgets.RadioButtons(\n",
    "                     options=['white', 'tan', 'slate', 'green'])\n",
    "Q1_question = HBox([Label(\"What color is the White House?\")])\n",
    "Q1_output = widgets.Output()\n",
    "display(Q1_question, radio_question1, Q1_output)\n",
    "def question_one(value):\n",
    "    global counter\n",
    "    Q1_output.clear_output()\n",
    "    with Q1_output:\n",
    "        if value['new'] != 'white':\n",
    "            counter = counter - 1\n",
    "            if counter == 0:\n",
    "                radio_question1.disabled = True\n",
    "            print(f\"Incorrect. Attempts left: {counter}\")\n",
    "            \n",
    "                \n",
    "        else:\n",
    "            print(\"Correct\")\n",
    "            radio_question1.disabled = True\n",
    "            \n",
    "radio_question1.observe(question_one, names = 'value')"
   ]
  },
  {
   "cell_type": "code",
   "execution_count": 12,
   "id": "e4d44e87-e243-43fd-a9ee-2e5f0ab567a8",
   "metadata": {},
   "outputs": [
    {
     "ename": "NameError",
     "evalue": "name 'output4' is not defined",
     "output_type": "error",
     "traceback": [
      "\u001b[1;31m---------------------------------------------------------------------------\u001b[0m",
      "\u001b[1;31mNameError\u001b[0m                                 Traceback (most recent call last)",
      "\u001b[1;32m~\\AppData\\Local\\Temp\\ipykernel_15392\\2916638855.py\u001b[0m in \u001b[0;36m<module>\u001b[1;34m\u001b[0m\n\u001b[0;32m     32\u001b[0m \u001b[1;31m# output4 = widgets.Output()\u001b[0m\u001b[1;33m\u001b[0m\u001b[1;33m\u001b[0m\u001b[1;33m\u001b[0m\u001b[0m\n\u001b[0;32m     33\u001b[0m \u001b[1;33m\u001b[0m\u001b[0m\n\u001b[1;32m---> 34\u001b[1;33m \u001b[1;32mwith\u001b[0m \u001b[0moutput4\u001b[0m\u001b[1;33m:\u001b[0m\u001b[1;33m\u001b[0m\u001b[1;33m\u001b[0m\u001b[0m\n\u001b[0m\u001b[0;32m     35\u001b[0m     \u001b[0mdisplay\u001b[0m\u001b[1;33m(\u001b[0m\u001b[0minp1\u001b[0m\u001b[1;33m,\u001b[0m \u001b[0minp2\u001b[0m\u001b[1;33m)\u001b[0m\u001b[1;33m\u001b[0m\u001b[1;33m\u001b[0m\u001b[0m\n\u001b[0;32m     36\u001b[0m \u001b[1;33m\u001b[0m\u001b[0m\n",
      "\u001b[1;31mNameError\u001b[0m: name 'output4' is not defined"
     ]
    }
   ],
   "source": [
    "# Define TEXT BOX INPUT\n",
    "style = {'description_width': 'initial'}\n",
    "\n",
    "inp1 = widgets.Text(\n",
    "    description='DEM path [*.tif / *.vrt]:',\n",
    "    placeholder=\"data_folder/file.tif\",\n",
    "    layout=widgets.Layout(width='98%'),\n",
    "    style=style,\n",
    "    disabled=False\n",
    "    # layout={'width': 'max-content'}\n",
    "    # value=\"data/ISA-15_Kilkee/ISA-15_Kilkee_dem_05m.vrt\"\n",
    ")\n",
    "\n",
    "inp2 = widgets.Text(\n",
    "    description='Visualizations path [folder]:',\n",
    "    placeholder=\"data_folder\",\n",
    "    layout=widgets.Layout(width='98%'),\n",
    "    style=style,\n",
    "    disabled=True\n",
    "    # layout={'width': 'max-content'}\n",
    "    # value=\"data/ISA-15_Kilkee/ISA-15_Kilkee_dem_05m.vrt\"\n",
    ")\n",
    "\n",
    "# Define radio button\n",
    "radio_button = widgets.RadioButtons(\n",
    "    options=['DEM', 'visualization'],\n",
    "    value=None,\n",
    "    description='Select the input data type:',\n",
    "    disabled=False)\n",
    "\n",
    "# # Define context manager for display output (text box for DEM)\n",
    "# output4 = widgets.Output()\n",
    "\n",
    "with output4:\n",
    "    display(inp1, inp2)\n",
    "\n",
    "display(radio_button, output4)\n",
    "\n",
    "# HANDLER\n",
    "def what_traits_radio(value):\n",
    "    widgets.Output().clear_output()\n",
    "    if value['new'] != 'DEM':\n",
    "        inp1.disabled = True\n",
    "        inp2.disabled = False\n",
    "    else:\n",
    "        inp1.disabled = False\n",
    "        inp2.disabled = True\n",
    "    \n",
    "    with widgets.Output():\n",
    "        display(inp1, inp2)\n",
    "\n",
    "# When radio button trait changes, call the what_traits_radio function\n",
    "radio_button.observe(what_traits_radio, names='value')"
   ]
  },
  {
   "cell_type": "code",
   "execution_count": null,
   "id": "3af7612e-ebb8-42bb-93b8-cb3dee103b4d",
   "metadata": {},
   "outputs": [],
   "source": []
  },
  {
   "cell_type": "code",
   "execution_count": null,
   "id": "0382269c-3175-4ad5-a37a-64bb369cbdb3",
   "metadata": {},
   "outputs": [],
   "source": []
  },
  {
   "cell_type": "code",
   "execution_count": null,
   "id": "1f1aa7f9-bf95-4fbb-916c-b0732c784835",
   "metadata": {},
   "outputs": [],
   "source": []
  },
  {
   "cell_type": "code",
   "execution_count": null,
   "id": "9245f980-4601-4138-b2db-7dfe251e6c1c",
   "metadata": {},
   "outputs": [],
   "source": []
  },
  {
   "cell_type": "code",
   "execution_count": null,
   "id": "4a1e120a-3c4c-43ff-a2e0-30f7afecf739",
   "metadata": {},
   "outputs": [],
   "source": [
    "import ipywidgets as widgets\n",
    "from IPython.display import display\n",
    "import stringcase\n",
    "\n",
    "class DateUI():\n",
    "  \n",
    "    def __init__(self):\n",
    "        self.date_format = 'Relative'\n",
    "        self.date_hbox = None\n",
    "        self.date_format_w = widgets.RadioButtons(\n",
    "                                options=['Relative', 'Calendar'],\n",
    "                                description='Date Format',\n",
    "                                disabled=False\n",
    "                            )\n",
    "        display(self.date_format_w)\n",
    "        self.__instantiate_date_hbox()     \n",
    "        self.date_format_w.observe(self.date_format_change, 'value')\n",
    "        self.start_date_w.observe(self.on_value_change, 'value')\n",
    "        self.end_date_w.observe(self.on_value_change, 'value')\n",
    "        \n",
    "    def on_value_change(self, change): \n",
    "        attr_name = self.__fetch_attr_name(change.owner.description)\n",
    "        setattr(self, attr_name, change.new)\n",
    "    \n",
    "    def date_format_change(self, change):\n",
    "        self.date_format = change.new\n",
    "        self.__instantiate_date_hbox(format=change.new)\n",
    "        \n",
    "    def __fetch_attr_name(self, widget_description):\n",
    "        attr_name = f\"{stringcase.snakecase(widget_description.replace(' ',''))}\"\n",
    "        return attr_name\n",
    "    \n",
    "    def __instantiate_date_hbox(self, format='Relative'):\n",
    "        if self.date_hbox != None:\n",
    "            self.date_hbox.close()\n",
    "        if format == 'Relative':\n",
    "            self.start_date_w = widgets.IntText(\n",
    "                                    value=-7,\n",
    "                                    description='Start Date',\n",
    "                                    disabled=False\n",
    "                                )\n",
    "            self.end_date_w = widgets.IntText(\n",
    "                                    value=0,\n",
    "                                    description='End Date',\n",
    "                                    disabled=False\n",
    "                                )\n",
    "        else:\n",
    "            self.start_date_w = widgets.DatePicker(\n",
    "                                description='Start Date',\n",
    "                                disabled=False\n",
    "                            )      \n",
    "            self.end_date_w = widgets.DatePicker(\n",
    "                                    description='End Date',\n",
    "                                    disabled=False\n",
    "                                )\n",
    "        self.date_hbox = widgets.HBox([self.start_date_w, self.end_date_w])\n",
    "        display(self.date_hbox)\n",
    "    \n",
    "date_ui = DateUI()"
   ]
  },
  {
   "cell_type": "code",
   "execution_count": null,
   "id": "2eecd270-46f7-4a57-8410-80ed5ab775a9",
   "metadata": {},
   "outputs": [],
   "source": [
    "from ipywidgets import widgets"
   ]
  },
  {
   "cell_type": "code",
   "execution_count": null,
   "id": "9427d595-c1dd-4d0a-b6a0-bf96d2de0f8c",
   "metadata": {},
   "outputs": [],
   "source": [
    "a = widgets.Checkbox(\n",
    "    value=True,\n",
    "    description='Check me',\n",
    "    disabled=False,\n",
    "    indent=False\n",
    ")\n",
    "display(a)"
   ]
  },
  {
   "cell_type": "code",
   "execution_count": null,
   "id": "3e0ac493-e7f1-435e-a1c0-e74f6d3c03f3",
   "metadata": {},
   "outputs": [],
   "source": []
  },
  {
   "cell_type": "code",
   "execution_count": null,
   "id": "093f7a52-0c8b-45f6-95df-3066168ffda1",
   "metadata": {},
   "outputs": [],
   "source": [
    "a.keys"
   ]
  },
  {
   "cell_type": "code",
   "execution_count": null,
   "id": "407e67ec-5240-4ca7-bc86-dca838773c6d",
   "metadata": {
    "scrolled": true
   },
   "outputs": [],
   "source": [
    "a.layout.keys"
   ]
  },
  {
   "cell_type": "code",
   "execution_count": null,
   "id": "f77386db-abb7-492a-802f-70b5c5132899",
   "metadata": {},
   "outputs": [],
   "source": [
    "dem_input = widgets.Text(\n",
    "    description='DEM path:',\n",
    "    placeholder=\"<my_data_folder/my_DEM_file.tif>\",\n",
    "    layout=widgets.Layout(width='98%'),\n",
    "    disabled=False\n",
    ")\n",
    "output4 = widgets.Output()\n",
    "with output4:\n",
    "    display(dem_input)"
   ]
  },
  {
   "cell_type": "code",
   "execution_count": null,
   "id": "43beb0d3-04f0-477c-88fb-7d0a7bac43c0",
   "metadata": {},
   "outputs": [],
   "source": [
    "output4"
   ]
  },
  {
   "cell_type": "code",
   "execution_count": null,
   "id": "c6189c72-54de-4ad4-8b08-2830f7b1b496",
   "metadata": {},
   "outputs": [],
   "source": [
    "debug_view = widgets.Output(layout={'border': '1px solid black'})\n",
    "\n",
    "@debug_view.capture(clear_output=True)\n",
    "def bad_callback(event):\n",
    "    print('This is about to explode')\n",
    "    return 1.0 / 0.0\n",
    "\n",
    "button = widgets.Button(\n",
    "    description='click me to raise an exception',\n",
    "    layout={'width': '350px'}\n",
    ")\n",
    "\n",
    "button.on_click(bad_callback)\n",
    "\n",
    "button"
   ]
  },
  {
   "cell_type": "code",
   "execution_count": null,
   "id": "59522bfc-19e2-4a9b-a675-3c00c64ad5df",
   "metadata": {
    "scrolled": true
   },
   "outputs": [],
   "source": [
    "debug_view"
   ]
  },
  {
   "cell_type": "code",
   "execution_count": null,
   "id": "cd25985f-5f6b-4389-89d0-f0f2b2adda57",
   "metadata": {},
   "outputs": [],
   "source": []
  },
  {
   "cell_type": "code",
   "execution_count": null,
   "id": "5ff42b11-a48c-4ed2-84c5-e1811dd9eb97",
   "metadata": {},
   "outputs": [],
   "source": [
    "from IPython.display import display\n",
    "from ipywidgets import Checkbox\n",
    "\n",
    "box = Checkbox(False, description='checker')\n",
    "display(box)\n",
    "\n",
    "def changed(b):\n",
    "    print(b)\n",
    "\n",
    "box.observe(changed)"
   ]
  },
  {
   "cell_type": "code",
   "execution_count": null,
   "id": "d4d9d7c8-1fac-4b58-b139-56abdabc958e",
   "metadata": {},
   "outputs": [],
   "source": []
  },
  {
   "cell_type": "code",
   "execution_count": 65,
   "id": "16c2b859-501c-41c0-8287-1208c8df435d",
   "metadata": {},
   "outputs": [
    {
     "data": {
      "application/vnd.jupyter.widget-view+json": {
       "model_id": "4b2cde2ebef34318a612c84d54ccaeee",
       "version_major": 2,
       "version_minor": 0
      },
      "text/plain": [
       "HBox(children=(RadioButtons(description='Select input type:', options=('DEM (*.tif / *.vrt)', 'Visualization (…"
      ]
     },
     "metadata": {},
     "output_type": "display_data"
    },
    {
     "data": {
      "application/vnd.jupyter.widget-view+json": {
       "model_id": "dcb5ecd421b04c42bef01acfdb7ceba3",
       "version_major": 2,
       "version_minor": 0
      },
      "text/plain": [
       "Output()"
      ]
     },
     "metadata": {},
     "output_type": "display_data"
    }
   ],
   "source": [
    "style = {'description_width': 'initial', 'description_color': 'red'}\n",
    "input_radio_options = [\n",
    "    'DEM (*.tif / *.vrt)',\n",
    "    'Visualization (*.tif / *.vrt)'\n",
    "]\n",
    "vis_placeholder = \"<my_data_folder/my_visualization_file.tif>\"\n",
    "dem_placeholder = \"<my_data_folder/my_DEM_file.tif>\"\n",
    "\n",
    "switch_dem_input = widgets.RadioButtons(\n",
    "    options=input_radio_options,\n",
    "    value=input_radio_options[0],\n",
    "    description='Select input type:',\n",
    "    disabled=False\n",
    ")\n",
    "\n",
    "dem_input = widgets.Text(\n",
    "    description='DEM path:',\n",
    "    placeholder=dem_placeholder,\n",
    "    layout=widgets.Layout(width='98%'),\n",
    "    style=style,\n",
    "    disabled=False\n",
    ")\n",
    "\n",
    "visualization_input = widgets.Text(\n",
    "    description='Visualization path:',\n",
    "    placeholder=vis_placeholder,\n",
    "    layout=widgets.Layout(width='98%'),\n",
    "    style=style,\n",
    "    disabled=True\n",
    ")\n",
    "\n",
    "chk_batch_process = widgets.Checkbox(\n",
    "    value=False,\n",
    "    description='Batch processing',\n",
    "    disabled=False,\n",
    "    indent=False\n",
    ")\n",
    "\n",
    "output4 = widgets.Output()\n",
    "with output4:\n",
    "    display(dem_input)\n",
    "\n",
    "debug_view = widgets.Output(layout={'border': '1px solid black'})\n",
    "\n",
    "\n",
    "@debug_view.capture(clear_output=True)\n",
    "def what_traits_radio(value):\n",
    "    # if isinstance(value.owner, widgets.RadioButtons):\n",
    "    #     selected_rb = value['new']\n",
    "    # elif isinstance(value.owner, widgets.Checkbox):\n",
    "    #     selected_cb = value['new']\n",
    "    \n",
    "    output4.clear_output()\n",
    "    \n",
    "    if chk_batch_process.value:\n",
    "        dem_text = \"<list of paths in TXT file!>\"\n",
    "        vis_text = dem_text\n",
    "    else:\n",
    "        dem_text = dem_placeholder\n",
    "        vis_text = vis_placeholder\n",
    "\n",
    "    \n",
    "    if switch_dem_input.index == 0:\n",
    "        # DEM option is selected\n",
    "        dem_input.disabled = False\n",
    "        visualization_input.disabled = True\n",
    "        dem_input.placeholder = dem_placeholder\n",
    "        with output4:\n",
    "            display(dem_input)\n",
    "    elif switch_dem_input.index == 1:\n",
    "        # VIS option is selected\n",
    "        dem_input.disabled = True\n",
    "        visualization_input.disabled = False\n",
    "        visualization_input.placeholder = vis_placeholder\n",
    "        with output4:\n",
    "            display(visualization_input)\n",
    "    \n",
    "\n",
    "\n",
    "switch_dem_input.observe(what_traits_radio)\n",
    "chk_batch_process.observe(what_traits_radio)\n",
    "# switch_dem_input.observe(what_traits_radio, names='index')\n",
    "# chk_batch_process.observe(what_traits_radio, names='value')\n",
    "\n",
    "display(\n",
    "    widgets.HBox([switch_dem_input, chk_batch_process]),\n",
    "    output4\n",
    ")"
   ]
  },
  {
   "cell_type": "code",
   "execution_count": 63,
   "id": "cda57f09-c012-4890-92cd-8ebab1f91874",
   "metadata": {},
   "outputs": [
    {
     "data": {
      "application/vnd.jupyter.widget-view+json": {
       "model_id": "f0f65c1a24a24ff7821f1e8353230b1e",
       "version_major": 2,
       "version_minor": 0
      },
      "text/plain": [
       "Output(layout=Layout(border_bottom='1px solid black', border_left='1px solid black', border_right='1px solid b…"
      ]
     },
     "execution_count": 63,
     "metadata": {},
     "output_type": "execute_result"
    }
   ],
   "source": [
    "debug_view"
   ]
  },
  {
   "cell_type": "code",
   "execution_count": 32,
   "id": "7143a4a8-cfa6-47c4-8473-7e01982cff27",
   "metadata": {},
   "outputs": [
    {
     "name": "stdout",
     "output_type": "stream",
     "text": [
      "Setup a handler to be called when a trait changes.\n",
      "\n",
      "        This is used to setup dynamic notifications of trait changes.\n",
      "\n",
      "        Parameters\n",
      "        ----------\n",
      "        handler : callable\n",
      "            A callable that is called when a trait changes. Its\n",
      "            signature should be ``handler(change)``, where ``change`` is a\n",
      "            dictionary. The change dictionary at least holds a 'type' key.\n",
      "            * ``type``: the type of notification.\n",
      "            Other keys may be passed depending on the value of 'type'. In the\n",
      "            case where type is 'change', we also have the following keys:\n",
      "            * ``owner`` : the HasTraits instance\n",
      "            * ``old`` : the old value of the modified trait attribute\n",
      "            * ``new`` : the new value of the modified trait attribute\n",
      "            * ``name`` : the name of the modified trait attribute.\n",
      "        names : list, str, All\n",
      "            If names is All, the handler will apply to all traits.  If a list\n",
      "            of str, handler will apply to all names in the list.  If a\n",
      "            str, the handler will apply just to that name.\n",
      "        type : str, All (default: 'change')\n",
      "            The type of notification to filter by. If equal to All, then all\n",
      "            notifications are passed to the observe handler.\n",
      "        \n"
     ]
    }
   ],
   "source": [
    "print(widgets.Widget.observe.__doc__)"
   ]
  }
 ],
 "metadata": {
  "kernelspec": {
   "display_name": "aitlas-tii",
   "language": "python",
   "name": "aitlas-tii"
  },
  "language_info": {
   "codemirror_mode": {
    "name": "ipython",
    "version": 3
   },
   "file_extension": ".py",
   "mimetype": "text/x-python",
   "name": "python",
   "nbconvert_exporter": "python",
   "pygments_lexer": "ipython3",
   "version": "3.8.17"
  },
  "widgets": {
   "application/vnd.jupyter.widget-state+json": {
    "state": {
     "00b8255134b24a4389bb7a2ac1e74aa4": {
      "model_module": "@jupyter-widgets/controls",
      "model_module_version": "2.0.0",
      "model_name": "TextModel",
      "state": {
       "description": "DEM path:",
       "layout": "IPY_MODEL_cb51c3aa95a94f448f927c6e600054a3",
       "placeholder": "<my_data_folder/my_DEM_file.tif>",
       "style": "IPY_MODEL_93b9c63e73bb4487af0550a0f3aa4cd5"
      }
     },
     "00ec214393564e71a69bc4f5251c32cf": {
      "model_module": "@jupyter-widgets/base",
      "model_module_version": "2.0.0",
      "model_name": "LayoutModel",
      "state": {}
     },
     "012c59ebda44445c82bd939b4b7d64a6": {
      "model_module": "@jupyter-widgets/base",
      "model_module_version": "2.0.0",
      "model_name": "LayoutModel",
      "state": {}
     },
     "01a4b26309934e2eba36f5c465ea8ec0": {
      "model_module": "@jupyter-widgets/controls",
      "model_module_version": "2.0.0",
      "model_name": "CheckboxModel",
      "state": {
       "description": "Batch processing",
       "disabled": false,
       "indent": false,
       "layout": "IPY_MODEL_91f84d4e84ad4e049d3595ae2f83a759",
       "style": "IPY_MODEL_53a68d4664a2461db42e94f60f3c4734",
       "value": false
      }
     },
     "01d7e5e482ff49b8a03e21e53202ca17": {
      "model_module": "@jupyter-widgets/controls",
      "model_module_version": "2.0.0",
      "model_name": "TextModel",
      "state": {
       "description": "Visualization path:",
       "disabled": true,
       "layout": "IPY_MODEL_9406cc6a3cc642f5892c6de8d6517d24",
       "placeholder": "<my_data_folder/my_visualization_file.tif>",
       "style": "IPY_MODEL_99bef9ca65954764a42b7439b4c6eb78"
      }
     },
     "02362c11aec044afb9255477ff7b1bcc": {
      "model_module": "@jupyter-widgets/base",
      "model_module_version": "2.0.0",
      "model_name": "LayoutModel",
      "state": {}
     },
     "0241d4896d6c4ace8c5bca98aff357ca": {
      "model_module": "@jupyter-widgets/output",
      "model_module_version": "1.0.0",
      "model_name": "OutputModel",
      "state": {
       "layout": "IPY_MODEL_aa876a03132c4340bd1d8226039e21ca"
      }
     },
     "026438f4ef5943aea3d15e830907934f": {
      "model_module": "@jupyter-widgets/output",
      "model_module_version": "1.0.0",
      "model_name": "OutputModel",
      "state": {
       "layout": "IPY_MODEL_012c59ebda44445c82bd939b4b7d64a6",
       "outputs": [
        {
         "data": {
          "application/vnd.jupyter.widget-view+json": {
           "model_id": "760c28e45c4c422584b1a5943829329b",
           "version_major": 2,
           "version_minor": 0
          },
          "text/plain": "Text(value='', description='DEM path:', layout=Layout(width='98%'), placeholder='<my_data_folder/my_DEM_file.t…"
         },
         "metadata": {},
         "output_type": "display_data"
        }
       ]
      }
     },
     "0290210b1d0145c99684690a7cb96e95": {
      "model_module": "@jupyter-widgets/controls",
      "model_module_version": "2.0.0",
      "model_name": "CheckboxStyleModel",
      "state": {
       "description_width": ""
      }
     },
     "0399458db28d4e839aaaaa9763000f25": {
      "model_module": "@jupyter-widgets/controls",
      "model_module_version": "2.0.0",
      "model_name": "TextModel",
      "state": {
       "description": "DEM path:",
       "layout": "IPY_MODEL_ba16ab7b944e4617851aeb4f7eb26641",
       "placeholder": "<my_data_folder/my_DEM_file.tif>",
       "style": "IPY_MODEL_f7e30b2f453a4fcca2fb9089b97024f7"
      }
     },
     "03ea0ef7474444e1ad0254172767ac6d": {
      "model_module": "@jupyter-widgets/controls",
      "model_module_version": "2.0.0",
      "model_name": "CheckboxStyleModel",
      "state": {
       "description_width": ""
      }
     },
     "061451c442e547459bf1e769db5a0574": {
      "model_module": "@jupyter-widgets/controls",
      "model_module_version": "2.0.0",
      "model_name": "TextStyleModel",
      "state": {
       "description_width": "initial",
       "font_size": null,
       "text_color": null
      }
     },
     "069ab14b59884bea979841e93bc3f3e5": {
      "model_module": "@jupyter-widgets/base",
      "model_module_version": "2.0.0",
      "model_name": "LayoutModel",
      "state": {}
     },
     "06c784a2f99a43879e8af3b5cda90eab": {
      "model_module": "@jupyter-widgets/base",
      "model_module_version": "2.0.0",
      "model_name": "LayoutModel",
      "state": {
       "width": "98%"
      }
     },
     "071c76d5c7ec4eafa12c7b30ad404d0b": {
      "model_module": "@jupyter-widgets/controls",
      "model_module_version": "2.0.0",
      "model_name": "CheckboxStyleModel",
      "state": {
       "description_width": ""
      }
     },
     "085474e33e6c485fbfecbba277d383a2": {
      "model_module": "@jupyter-widgets/base",
      "model_module_version": "2.0.0",
      "model_name": "LayoutModel",
      "state": {}
     },
     "0899471a4e26407a92028a566bd76008": {
      "model_module": "@jupyter-widgets/controls",
      "model_module_version": "2.0.0",
      "model_name": "DescriptionStyleModel",
      "state": {
       "description_width": ""
      }
     },
     "0956b96d8b3543c191ef521ee0e7f1f9": {
      "model_module": "@jupyter-widgets/base",
      "model_module_version": "2.0.0",
      "model_name": "LayoutModel",
      "state": {}
     },
     "096552493e70468bb5458dca0ad73488": {
      "model_module": "@jupyter-widgets/controls",
      "model_module_version": "2.0.0",
      "model_name": "HBoxModel",
      "state": {
       "children": [
        "IPY_MODEL_ce9ba4277b0f417faba104d48db5a554",
        "IPY_MODEL_74a2824824014c0b8615f23fda6236b7"
       ],
       "layout": "IPY_MODEL_7d2412b81f114d988252ea758ccf0755"
      }
     },
     "099dfb1c1ac84cf2b93675bd20282614": {
      "model_module": "@jupyter-widgets/base",
      "model_module_version": "2.0.0",
      "model_name": "LayoutModel",
      "state": {}
     },
     "09b53612028947c59a305b87c94c6f29": {
      "model_module": "@jupyter-widgets/controls",
      "model_module_version": "2.0.0",
      "model_name": "HBoxModel",
      "state": {
       "children": [
        "IPY_MODEL_be0eb0e762584261af28014926ad0a82",
        "IPY_MODEL_aa9e1b698f1d4e9f965c50c52e8dfaff"
       ],
       "layout": "IPY_MODEL_c53d055eaa1144989c8805f979c92070"
      }
     },
     "0a14c90be2e6417094d337f4bffca666": {
      "model_module": "@jupyter-widgets/controls",
      "model_module_version": "2.0.0",
      "model_name": "TextModel",
      "state": {
       "description": "Visualization path:",
       "disabled": true,
       "layout": "IPY_MODEL_4a443ad11c9d46028156ea4fa8bec855",
       "placeholder": "<my_data_folder/my_visualization_file.tif>",
       "style": "IPY_MODEL_c8a89b8df37d4944818a64ae30ff0477"
      }
     },
     "0abd6adb61e6454da825de5fdf1f4c8d": {
      "model_module": "@jupyter-widgets/controls",
      "model_module_version": "2.0.0",
      "model_name": "TextStyleModel",
      "state": {
       "description_width": "initial",
       "font_size": null,
       "text_color": null
      }
     },
     "0ac9ade8911b409faef764787a9b2aca": {
      "model_module": "@jupyter-widgets/base",
      "model_module_version": "2.0.0",
      "model_name": "LayoutModel",
      "state": {}
     },
     "0b5dbe02e57e49f682e8234740e8f205": {
      "model_module": "@jupyter-widgets/output",
      "model_module_version": "1.0.0",
      "model_name": "OutputModel",
      "state": {
       "layout": "IPY_MODEL_d1d645b695564030a0f9d81d03743dfc",
       "outputs": [
        {
         "name": "stdout",
         "output_type": "stream",
         "text": "_property_lock\n"
        }
       ]
      }
     },
     "0b935420319e4cd680741dd41825347e": {
      "model_module": "@jupyter-widgets/controls",
      "model_module_version": "2.0.0",
      "model_name": "RadioButtonsModel",
      "state": {
       "_options_labels": [
        "object detection",
        "segmentation"
       ],
       "description": "Select ML method:",
       "index": 1,
       "layout": "IPY_MODEL_da7648fe39854d4b9f1e7ba71c36d69e",
       "style": "IPY_MODEL_19faa685c10147dea5ffe8d5edafd2a4"
      }
     },
     "0bbca01e3864479caf452cec29b637ed": {
      "model_module": "@jupyter-widgets/base",
      "model_module_version": "2.0.0",
      "model_name": "LayoutModel",
      "state": {}
     },
     "0cc692107ff54291b91bca5010c464bd": {
      "model_module": "@jupyter-widgets/controls",
      "model_module_version": "2.0.0",
      "model_name": "CheckboxModel",
      "state": {
       "description": "Batch processing",
       "disabled": false,
       "indent": false,
       "layout": "IPY_MODEL_e8e32887d1b14fa3b5a9517eb9974a8e",
       "style": "IPY_MODEL_18a925cb4bef4892bf9ac502a34f1fb6",
       "value": true
      }
     },
     "0cd5abb60608498f87db0cc28800bf40": {
      "model_module": "@jupyter-widgets/base",
      "model_module_version": "2.0.0",
      "model_name": "LayoutModel",
      "state": {
       "width": "98%"
      }
     },
     "0cdedcce6d174af181387bd152da2224": {
      "model_module": "@jupyter-widgets/controls",
      "model_module_version": "2.0.0",
      "model_name": "RadioButtonsModel",
      "state": {
       "_options_labels": [
        "DEM (*.tif / *.vrt)",
        "Visualization (*.tif / *.vrt)"
       ],
       "description": "Select input type:",
       "index": 0,
       "layout": "IPY_MODEL_16d73722d76b4ceb9ca4fabbef72b08b",
       "style": "IPY_MODEL_3c4eb7a0fd864409a8ed31cabc936b27"
      }
     },
     "0d4af094851e4feebf54acd844dac7da": {
      "model_module": "@jupyter-widgets/controls",
      "model_module_version": "2.0.0",
      "model_name": "CheckboxStyleModel",
      "state": {
       "description_width": ""
      }
     },
     "0d57d8f2bc88443998d9df5a09e0d307": {
      "model_module": "@jupyter-widgets/base",
      "model_module_version": "2.0.0",
      "model_name": "LayoutModel",
      "state": {
       "width": "98%"
      }
     },
     "0e27fd63ca7b4355a4e1329a3f13ea1c": {
      "model_module": "@jupyter-widgets/base",
      "model_module_version": "2.0.0",
      "model_name": "LayoutModel",
      "state": {}
     },
     "0e42604c6c8a4b5ca2c056d940a1eb95": {
      "model_module": "@jupyter-widgets/base",
      "model_module_version": "2.0.0",
      "model_name": "LayoutModel",
      "state": {}
     },
     "0f01629996224016ba1adb7dd8733137": {
      "model_module": "@jupyter-widgets/base",
      "model_module_version": "2.0.0",
      "model_name": "LayoutModel",
      "state": {}
     },
     "0f834ece437243e8bfd87d174d03a301": {
      "model_module": "@jupyter-widgets/output",
      "model_module_version": "1.0.0",
      "model_name": "OutputModel",
      "state": {
       "layout": "IPY_MODEL_f64167f9f9f04ada95269cfb5b5e20e4",
       "outputs": [
        {
         "data": {
          "application/vnd.jupyter.widget-view+json": {
           "model_id": "25aeff0082f64ece92f1a59fcbb62f7d",
           "version_major": 2,
           "version_minor": 0
          },
          "text/plain": "Text(value='', description='DEM path:', layout=Layout(width='98%'), placeholder='<my_data_folder/my_DEM_file.t…"
         },
         "metadata": {},
         "output_type": "display_data"
        }
       ]
      }
     },
     "0fedb14520c44148becfe77d142393c8": {
      "model_module": "@jupyter-widgets/base",
      "model_module_version": "2.0.0",
      "model_name": "LayoutModel",
      "state": {}
     },
     "0ff4a895f7dd4e08a4281af9577f4fc5": {
      "model_module": "@jupyter-widgets/base",
      "model_module_version": "2.0.0",
      "model_name": "LayoutModel",
      "state": {
       "border_bottom": "1px solid black",
       "border_left": "1px solid black",
       "border_right": "1px solid black",
       "border_top": "1px solid black"
      }
     },
     "101c992182d446a392fe11ab12d6d174": {
      "model_module": "@jupyter-widgets/base",
      "model_module_version": "2.0.0",
      "model_name": "LayoutModel",
      "state": {
       "border_bottom": "1px solid black",
       "border_left": "1px solid black",
       "border_right": "1px solid black",
       "border_top": "1px solid black"
      }
     },
     "10cb3a25cfbb434fb216c4a72ae510a2": {
      "model_module": "@jupyter-widgets/controls",
      "model_module_version": "2.0.0",
      "model_name": "TextModel",
      "state": {
       "description": "DEM path:",
       "layout": "IPY_MODEL_b43b4884601a4c638ecc70f4dbf147a6",
       "placeholder": "<my_data_folder/my_DEM_file.tif>",
       "style": "IPY_MODEL_88cab838a8534253bce53b4110a65d9e"
      }
     },
     "10f7dfd21b1948538b2c3bb121cce5c5": {
      "model_module": "@jupyter-widgets/controls",
      "model_module_version": "2.0.0",
      "model_name": "DescriptionStyleModel",
      "state": {
       "description_width": ""
      }
     },
     "116530d0c5b349d0af60fe921530b20e": {
      "model_module": "@jupyter-widgets/controls",
      "model_module_version": "2.0.0",
      "model_name": "DescriptionStyleModel",
      "state": {
       "description_width": ""
      }
     },
     "11a7acfb80da40d9a4bb7ed943fc81f7": {
      "model_module": "@jupyter-widgets/base",
      "model_module_version": "2.0.0",
      "model_name": "LayoutModel",
      "state": {}
     },
     "1227f46660e84e0da7d27121e2cb2a84": {
      "model_module": "@jupyter-widgets/controls",
      "model_module_version": "2.0.0",
      "model_name": "TextModel",
      "state": {
       "description": "DEM path:",
       "layout": "IPY_MODEL_c44b7593541d4e16a56af6f6b1e193a4",
       "placeholder": "<my_data_folder/my_DEM_file.tif>",
       "style": "IPY_MODEL_e22214f4e809483d9ffc01ebcf4aab1f"
      }
     },
     "13557e6ff56a45dc87bf82eb67989e5c": {
      "model_module": "@jupyter-widgets/controls",
      "model_module_version": "2.0.0",
      "model_name": "TextStyleModel",
      "state": {
       "description_width": "initial",
       "font_size": null,
       "text_color": null
      }
     },
     "13947dfbefd34e6781f6c95469f8cda6": {
      "model_module": "@jupyter-widgets/base",
      "model_module_version": "2.0.0",
      "model_name": "LayoutModel",
      "state": {}
     },
     "1485832e1d7d4739a84ba5f85db0f786": {
      "model_module": "@jupyter-widgets/controls",
      "model_module_version": "2.0.0",
      "model_name": "CheckboxModel",
      "state": {
       "description": "Batch processing",
       "disabled": false,
       "indent": false,
       "layout": "IPY_MODEL_085474e33e6c485fbfecbba277d383a2",
       "style": "IPY_MODEL_fb2449d87c5f42499c8d1919e2f3c759",
       "value": false
      }
     },
     "15398a5430a64a06af5dfec31255f835": {
      "model_module": "@jupyter-widgets/base",
      "model_module_version": "2.0.0",
      "model_name": "LayoutModel",
      "state": {
       "width": "98%"
      }
     },
     "15ab49a5b0b64318a6d708b029da49d4": {
      "model_module": "@jupyter-widgets/controls",
      "model_module_version": "2.0.0",
      "model_name": "RadioButtonsModel",
      "state": {
       "_options_labels": [
        "DEM (*.tif / *.vrt)",
        "Visualization (*.tif / *.vrt)"
       ],
       "description": "Select input type:",
       "index": 1,
       "layout": "IPY_MODEL_ce868e8b234441c78be4e05b26c740aa",
       "style": "IPY_MODEL_ab88ba5030e14fe4ae930aaa3b67ec60"
      }
     },
     "15ab52abf4504de186b82f23185b4e63": {
      "model_module": "@jupyter-widgets/output",
      "model_module_version": "1.0.0",
      "model_name": "OutputModel",
      "state": {
       "layout": "IPY_MODEL_8ea80d088dd040c3b35c74d23692982c",
       "outputs": [
        {
         "data": {
          "application/vnd.jupyter.widget-view+json": {
           "model_id": "0399458db28d4e839aaaaa9763000f25",
           "version_major": 2,
           "version_minor": 0
          },
          "text/plain": "Text(value='', description='DEM path:', layout=Layout(width='98%'), placeholder='<my_data_folder/my_DEM_file.t…"
         },
         "metadata": {},
         "output_type": "display_data"
        }
       ]
      }
     },
     "15c091af22ea48b09b4485fe4352ac3a": {
      "model_module": "@jupyter-widgets/controls",
      "model_module_version": "2.0.0",
      "model_name": "TextModel",
      "state": {
       "description": "Visualization path:",
       "disabled": true,
       "layout": "IPY_MODEL_167c25ba82ca4243aa09be29aabfc673",
       "placeholder": "<my_data_folder/my_visualization_file.tif>",
       "style": "IPY_MODEL_d2eda12f78584cd9ad33cff2ac7df9f2"
      }
     },
     "163270b10cb4474185ff634631752d59": {
      "model_module": "@jupyter-widgets/base",
      "model_module_version": "2.0.0",
      "model_name": "LayoutModel",
      "state": {}
     },
     "1642228d34974f7da47bea3433bfc12b": {
      "model_module": "@jupyter-widgets/controls",
      "model_module_version": "2.0.0",
      "model_name": "CheckboxModel",
      "state": {
       "description": "Batch processing",
       "disabled": false,
       "indent": false,
       "layout": "IPY_MODEL_b8c9455cef99452194ed9d2eca3b34f2",
       "style": "IPY_MODEL_a1fc9f46b94944e489000f895558ec69",
       "value": true
      }
     },
     "167c25ba82ca4243aa09be29aabfc673": {
      "model_module": "@jupyter-widgets/base",
      "model_module_version": "2.0.0",
      "model_name": "LayoutModel",
      "state": {
       "width": "98%"
      }
     },
     "16d73722d76b4ceb9ca4fabbef72b08b": {
      "model_module": "@jupyter-widgets/base",
      "model_module_version": "2.0.0",
      "model_name": "LayoutModel",
      "state": {}
     },
     "16fd8024b7e644258fb8e1e1a86f00ba": {
      "model_module": "@jupyter-widgets/output",
      "model_module_version": "1.0.0",
      "model_name": "OutputModel",
      "state": {
       "layout": "IPY_MODEL_df85cba4f99349bc92769c82f194c8b7",
       "outputs": [
        {
         "name": "stdout",
         "output_type": "stream",
         "text": "{'name': '_property_lock', 'old': {'value': False}, 'new': {}, 'owner': Checkbox(value=False, description='Batch processing', indent=False), 'type': 'change'}\n"
        }
       ]
      }
     },
     "171a5fd066c747b5bbe53bb7bf9aa6ae": {
      "model_module": "@jupyter-widgets/controls",
      "model_module_version": "2.0.0",
      "model_name": "DescriptionStyleModel",
      "state": {
       "description_width": ""
      }
     },
     "17a0389a113c4873a3bb49da9a998d54": {
      "model_module": "@jupyter-widgets/output",
      "model_module_version": "1.0.0",
      "model_name": "OutputModel",
      "state": {
       "layout": "IPY_MODEL_29d4010ea48c4a409eaef11d21684ad2",
       "outputs": [
        {
         "data": {
          "application/vnd.jupyter.widget-view+json": {
           "model_id": "737f32feb07a46e785ec0e4aa7eea000",
           "version_major": 2,
           "version_minor": 0
          },
          "text/plain": "Text(value='', description='DEM path:', layout=Layout(width='98%'), placeholder='<my_data_folder/my_DEM_file.t…"
         },
         "metadata": {},
         "output_type": "display_data"
        }
       ]
      }
     },
     "1835a75de0d140fcb2858ae9a05c5281": {
      "model_module": "@jupyter-widgets/controls",
      "model_module_version": "2.0.0",
      "model_name": "TextStyleModel",
      "state": {
       "description_width": "initial",
       "font_size": null,
       "text_color": null
      }
     },
     "187ae584101e4ce69e0920578e1becd2": {
      "model_module": "@jupyter-widgets/base",
      "model_module_version": "2.0.0",
      "model_name": "LayoutModel",
      "state": {}
     },
     "18a925cb4bef4892bf9ac502a34f1fb6": {
      "model_module": "@jupyter-widgets/controls",
      "model_module_version": "2.0.0",
      "model_name": "CheckboxStyleModel",
      "state": {
       "description_width": ""
      }
     },
     "192f1df1796f40f5992e1290305a69de": {
      "model_module": "@jupyter-widgets/controls",
      "model_module_version": "2.0.0",
      "model_name": "HBoxModel",
      "state": {
       "children": [
        "IPY_MODEL_3580367de4b4459faea678c03674e2f9",
        "IPY_MODEL_c196746b44f2433ca87e187c0f311152"
       ],
       "layout": "IPY_MODEL_ff5a2e591cc343cc9a35c24e257b6ca9"
      }
     },
     "19d3e569ba474e6ea7bea41d8fe023da": {
      "model_module": "@jupyter-widgets/controls",
      "model_module_version": "2.0.0",
      "model_name": "DescriptionStyleModel",
      "state": {
       "description_width": ""
      }
     },
     "19faa685c10147dea5ffe8d5edafd2a4": {
      "model_module": "@jupyter-widgets/controls",
      "model_module_version": "2.0.0",
      "model_name": "DescriptionStyleModel",
      "state": {
       "description_width": ""
      }
     },
     "1a18bc4bfd424854a4686561688d68d9": {
      "model_module": "@jupyter-widgets/base",
      "model_module_version": "2.0.0",
      "model_name": "LayoutModel",
      "state": {
       "width": "98%"
      }
     },
     "1a6d78a904ed493eb32f2428eea90c0b": {
      "model_module": "@jupyter-widgets/controls",
      "model_module_version": "2.0.0",
      "model_name": "TextModel",
      "state": {
       "description": "DEM path:",
       "layout": "IPY_MODEL_240fa4e460154de4ada0f64b5921335e",
       "placeholder": "<my_data_folder/my_DEM_file.tif>",
       "style": "IPY_MODEL_5f59fee113e8470dba0cd473c3bfcb13"
      }
     },
     "1c6d0e93618c4a61b63600f894384cb2": {
      "model_module": "@jupyter-widgets/controls",
      "model_module_version": "2.0.0",
      "model_name": "TextStyleModel",
      "state": {
       "description_width": "initial",
       "font_size": null,
       "text_color": null
      }
     },
     "1c791af6959240f89bfb7a28c4a57038": {
      "model_module": "@jupyter-widgets/base",
      "model_module_version": "2.0.0",
      "model_name": "LayoutModel",
      "state": {
       "width": "98%"
      }
     },
     "1db4628252a34dd7a625d1dc339a0922": {
      "model_module": "@jupyter-widgets/base",
      "model_module_version": "2.0.0",
      "model_name": "LayoutModel",
      "state": {}
     },
     "1ddf9cfa64fc48da8b13760b5caeea24": {
      "model_module": "@jupyter-widgets/base",
      "model_module_version": "2.0.0",
      "model_name": "LayoutModel",
      "state": {
       "width": "98%"
      }
     },
     "1e1a16ad8e474f1f81bb615ddc87ecf8": {
      "model_module": "@jupyter-widgets/base",
      "model_module_version": "2.0.0",
      "model_name": "LayoutModel",
      "state": {
       "width": "98%"
      }
     },
     "1e4c7420f2264f1d98d19f7d81ac5305": {
      "model_module": "@jupyter-widgets/base",
      "model_module_version": "2.0.0",
      "model_name": "LayoutModel",
      "state": {
       "width": "98%"
      }
     },
     "1e7a7d7b7ac74192a049d22b5c9c9edc": {
      "model_module": "@jupyter-widgets/output",
      "model_module_version": "1.0.0",
      "model_name": "OutputModel",
      "state": {
       "layout": "IPY_MODEL_647e429bb2e1426993063e2d9ffa71f9"
      }
     },
     "1ec83b4d64d646ee88d2e51195aa9c96": {
      "model_module": "@jupyter-widgets/base",
      "model_module_version": "2.0.0",
      "model_name": "LayoutModel",
      "state": {}
     },
     "1fedf1c21089400da81607fbad0893cf": {
      "model_module": "@jupyter-widgets/base",
      "model_module_version": "2.0.0",
      "model_name": "LayoutModel",
      "state": {
       "width": "98%"
      }
     },
     "2118057c8228406c9b80fc7d7a798225": {
      "model_module": "@jupyter-widgets/output",
      "model_module_version": "1.0.0",
      "model_name": "OutputModel",
      "state": {
       "layout": "IPY_MODEL_ac133173c60643ebbb90e8cadf75b5ab",
       "outputs": [
        {
         "data": {
          "application/vnd.jupyter.widget-view+json": {
           "model_id": "7437f6aded844f35b76387e64ba6f087",
           "version_major": 2,
           "version_minor": 0
          },
          "text/plain": "Text(value='', description='Visualization path:', layout=Layout(width='98%'), placeholder='<my_data_folder/my_…"
         },
         "metadata": {},
         "output_type": "display_data"
        }
       ]
      }
     },
     "21ab44c579aa4a9c8203ed2373ca458e": {
      "model_module": "@jupyter-widgets/controls",
      "model_module_version": "2.0.0",
      "model_name": "HBoxModel",
      "state": {
       "children": [
        "IPY_MODEL_f661adb264484ca4b6123d47d1f89135",
        "IPY_MODEL_1642228d34974f7da47bea3433bfc12b"
       ],
       "layout": "IPY_MODEL_6f50a0a0e4c74fc9bfd596fa4750139e"
      }
     },
     "2227292a83c145feba26801933095136": {
      "model_module": "@jupyter-widgets/output",
      "model_module_version": "1.0.0",
      "model_name": "OutputModel",
      "state": {
       "layout": "IPY_MODEL_ab287b204ebd48009fc7686df304efb6"
      }
     },
     "22943ab28e7d425ab96c8b8973902c45": {
      "model_module": "@jupyter-widgets/base",
      "model_module_version": "2.0.0",
      "model_name": "LayoutModel",
      "state": {
       "border_bottom": "1px solid black",
       "border_left": "1px solid black",
       "border_right": "1px solid black",
       "border_top": "1px solid black"
      }
     },
     "234c3c0a6b8e4235aea70a67b5f2c4d8": {
      "model_module": "@jupyter-widgets/controls",
      "model_module_version": "2.0.0",
      "model_name": "DescriptionStyleModel",
      "state": {
       "description_width": ""
      }
     },
     "235398aee16042c391044a57db2af286": {
      "model_module": "@jupyter-widgets/base",
      "model_module_version": "2.0.0",
      "model_name": "LayoutModel",
      "state": {
       "border_bottom": "1px solid black",
       "border_left": "1px solid black",
       "border_right": "1px solid black",
       "border_top": "1px solid black"
      }
     },
     "240fa4e460154de4ada0f64b5921335e": {
      "model_module": "@jupyter-widgets/base",
      "model_module_version": "2.0.0",
      "model_name": "LayoutModel",
      "state": {
       "width": "98%"
      }
     },
     "250482d469f04e359a1be29f8e8d81b9": {
      "model_module": "@jupyter-widgets/controls",
      "model_module_version": "2.0.0",
      "model_name": "TextStyleModel",
      "state": {
       "description_width": "initial",
       "font_size": null,
       "text_color": null
      }
     },
     "251d58b7dd0946eb8d1b65fc92daef38": {
      "model_module": "@jupyter-widgets/controls",
      "model_module_version": "2.0.0",
      "model_name": "TextStyleModel",
      "state": {
       "description_width": "initial",
       "font_size": null,
       "text_color": null
      }
     },
     "25952ca1a4494c50872e42cb3b05f25f": {
      "model_module": "@jupyter-widgets/controls",
      "model_module_version": "2.0.0",
      "model_name": "CheckboxStyleModel",
      "state": {
       "description_width": ""
      }
     },
     "25aeff0082f64ece92f1a59fcbb62f7d": {
      "model_module": "@jupyter-widgets/controls",
      "model_module_version": "2.0.0",
      "model_name": "TextModel",
      "state": {
       "description": "DEM path:",
       "layout": "IPY_MODEL_432f565d736049b19a714a85abcc7cbc",
       "placeholder": "<my_data_folder/my_DEM_file.tif>",
       "style": "IPY_MODEL_e7b4acb47b6742699b095f146033d68f"
      }
     },
     "25c4a6a0c2304b698f0ecc693e29ce00": {
      "model_module": "@jupyter-widgets/output",
      "model_module_version": "1.0.0",
      "model_name": "OutputModel",
      "state": {
       "layout": "IPY_MODEL_3f5a0095e0d14c99b62fd04d411d67bf",
       "outputs": [
        {
         "data": {
          "application/vnd.jupyter.widget-view+json": {
           "model_id": "00b8255134b24a4389bb7a2ac1e74aa4",
           "version_major": 2,
           "version_minor": 0
          },
          "text/plain": "Text(value='', description='DEM path:', layout=Layout(width='98%'), placeholder='<my_data_folder/my_DEM_file.t…"
         },
         "metadata": {},
         "output_type": "display_data"
        }
       ]
      }
     },
     "26ec6d09b9a64fb88b7fd0dfc659fab2": {
      "model_module": "@jupyter-widgets/output",
      "model_module_version": "1.0.0",
      "model_name": "OutputModel",
      "state": {
       "layout": "IPY_MODEL_0bbca01e3864479caf452cec29b637ed",
       "outputs": [
        {
         "data": {
          "application/vnd.jupyter.widget-view+json": {
           "model_id": "a26ef1faff0e4380a06ef5b1eb14e737",
           "version_major": 2,
           "version_minor": 0
          },
          "text/plain": "Text(value='', description='DEM path:', layout=Layout(width='98%'), placeholder='<my_data_folder/my_DEM_file.t…"
         },
         "metadata": {},
         "output_type": "display_data"
        }
       ]
      }
     },
     "2773fedeaf474978b97cf5a74a64250c": {
      "model_module": "@jupyter-widgets/base",
      "model_module_version": "2.0.0",
      "model_name": "LayoutModel",
      "state": {}
     },
     "28e4bedea8ce483a9cdfc6d2a542e572": {
      "model_module": "@jupyter-widgets/base",
      "model_module_version": "2.0.0",
      "model_name": "LayoutModel",
      "state": {}
     },
     "29d4010ea48c4a409eaef11d21684ad2": {
      "model_module": "@jupyter-widgets/base",
      "model_module_version": "2.0.0",
      "model_name": "LayoutModel",
      "state": {}
     },
     "29d547023df44850a5111be73547574a": {
      "model_module": "@jupyter-widgets/controls",
      "model_module_version": "2.0.0",
      "model_name": "VBoxModel",
      "state": {
       "_dom_classes": [
        "widget-interact"
       ],
       "children": [
        "IPY_MODEL_355b6f035b794ac9b87c6f8637634bcb",
        "IPY_MODEL_ad2138ad7e9244dda4a7c61f3ea3659d"
       ],
       "layout": "IPY_MODEL_904b48ec54364e9c886f5e41787188fe"
      }
     },
     "2a084ac7bbf84ba7a154ac94d7b850fc": {
      "model_module": "@jupyter-widgets/base",
      "model_module_version": "2.0.0",
      "model_name": "LayoutModel",
      "state": {}
     },
     "2a0f1d0cad5b4ead922de3dbd8e6dfa5": {
      "model_module": "@jupyter-widgets/base",
      "model_module_version": "2.0.0",
      "model_name": "LayoutModel",
      "state": {
       "width": "98%"
      }
     },
     "2a50fc4d7b4b405090fbcf454252d440": {
      "model_module": "@jupyter-widgets/controls",
      "model_module_version": "2.0.0",
      "model_name": "DescriptionStyleModel",
      "state": {
       "description_width": ""
      }
     },
     "2a59de4b69d44c848bc90ae9a214a7d5": {
      "model_module": "@jupyter-widgets/controls",
      "model_module_version": "2.0.0",
      "model_name": "CheckboxModel",
      "state": {
       "description": "Batch processing",
       "disabled": false,
       "indent": false,
       "layout": "IPY_MODEL_76d9472eb1e34666bb515eb0499adee3",
       "style": "IPY_MODEL_8859ac07a7cd4eda93d9226e1faf1ef1",
       "value": true
      }
     },
     "2ad09522f4934d16af318b90656e568f": {
      "model_module": "@jupyter-widgets/output",
      "model_module_version": "1.0.0",
      "model_name": "OutputModel",
      "state": {
       "layout": "IPY_MODEL_c4bfb3e087c148d78d10e3e4fb1a500c",
       "outputs": [
        {
         "data": {
          "application/vnd.jupyter.widget-view+json": {
           "model_id": "ddfedbb1bad74a70a373c0497ecab317",
           "version_major": 2,
           "version_minor": 0
          },
          "text/plain": "Text(value='', description='DEM path:', layout=Layout(width='98%'), placeholder='<my_data_folder/my_DEM_file.t…"
         },
         "metadata": {},
         "output_type": "display_data"
        }
       ]
      }
     },
     "2b82a582696a4b74a89a73371fcd2da1": {
      "model_module": "@jupyter-widgets/base",
      "model_module_version": "2.0.0",
      "model_name": "LayoutModel",
      "state": {
       "width": "98%"
      }
     },
     "2bc2b6de816247648851981273a71890": {
      "model_module": "@jupyter-widgets/controls",
      "model_module_version": "2.0.0",
      "model_name": "DescriptionStyleModel",
      "state": {
       "description_width": ""
      }
     },
     "2bce150f86df426aa09517b347d87722": {
      "model_module": "@jupyter-widgets/controls",
      "model_module_version": "2.0.0",
      "model_name": "HBoxModel",
      "state": {
       "children": [
        "IPY_MODEL_52544577a05d4a0fa9dd4b9ae3465bc3",
        "IPY_MODEL_f1fc862a3766432bb0cb78946d0d2965"
       ],
       "layout": "IPY_MODEL_dc0e8dea117a4494b8510c4274392700"
      }
     },
     "2c24fef26c3e48c1a573fea51ac581dc": {
      "model_module": "@jupyter-widgets/output",
      "model_module_version": "1.0.0",
      "model_name": "OutputModel",
      "state": {
       "layout": "IPY_MODEL_f89df19937e444bea128a55b72130304",
       "outputs": [
        {
         "data": {
          "application/vnd.jupyter.widget-view+json": {
           "model_id": "51a8f18ce20d456690782a1353130c25",
           "version_major": 2,
           "version_minor": 0
          },
          "text/plain": "Text(value='', description='DEM path:', layout=Layout(width='98%'), placeholder='<my_data_folder/my_DEM_file.t…"
         },
         "metadata": {},
         "output_type": "display_data"
        }
       ]
      }
     },
     "2c7a87994d3347bcb15c6933a1518bcf": {
      "model_module": "@jupyter-widgets/base",
      "model_module_version": "2.0.0",
      "model_name": "LayoutModel",
      "state": {}
     },
     "30f429a9e81c482e8fd18fb168a88f97": {
      "model_module": "@jupyter-widgets/base",
      "model_module_version": "2.0.0",
      "model_name": "LayoutModel",
      "state": {}
     },
     "316aec10bb2646a09b979ab695cd7689": {
      "model_module": "@jupyter-widgets/controls",
      "model_module_version": "2.0.0",
      "model_name": "CheckboxStyleModel",
      "state": {
       "description_width": ""
      }
     },
     "31e21c5197884162af5b2f1357656f1c": {
      "model_module": "@jupyter-widgets/controls",
      "model_module_version": "2.0.0",
      "model_name": "TextModel",
      "state": {
       "description": "Visualization path:",
       "disabled": true,
       "layout": "IPY_MODEL_b16227c869f448b3a3d3e768ccc57882",
       "placeholder": "<my_data_folder/my_visualization_file.tif>",
       "style": "IPY_MODEL_ee05c5b80fa944a28bc57053db0aad18"
      }
     },
     "321d8bb4e92845b8b38d3ee16412b873": {
      "model_module": "@jupyter-widgets/controls",
      "model_module_version": "2.0.0",
      "model_name": "TextModel",
      "state": {
       "description": "Visualization path:",
       "disabled": true,
       "layout": "IPY_MODEL_f6ae87f7e28e429caa2a5bbde5f426b5",
       "placeholder": "<my_data_folder/my_visualization_file.tif>",
       "style": "IPY_MODEL_556f09131dcc4c568bebf54a5eae8f08"
      }
     },
     "32306706ce1445ddb2f95997851b5ff3": {
      "model_module": "@jupyter-widgets/base",
      "model_module_version": "2.0.0",
      "model_name": "LayoutModel",
      "state": {
       "width": "98%"
      }
     },
     "3302cf95cfed42f4aa844e3e10bcddd8": {
      "model_module": "@jupyter-widgets/controls",
      "model_module_version": "2.0.0",
      "model_name": "TextModel",
      "state": {
       "description": "DEM path:",
       "layout": "IPY_MODEL_9e2ea8c327504cc187b2fa8f9f5dbc8e",
       "placeholder": "<my_data_folder/my_DEM_file.tif>",
       "style": "IPY_MODEL_6a9b44e25b4045a6b0904eab77b9ee29"
      }
     },
     "335f97560d014783a1e86f8a7c4e0d83": {
      "model_module": "@jupyter-widgets/controls",
      "model_module_version": "2.0.0",
      "model_name": "TextStyleModel",
      "state": {
       "description_width": "initial",
       "font_size": null,
       "text_color": null
      }
     },
     "33aa63c6e41c4e158d7d3993dc0a8fc7": {
      "model_module": "@jupyter-widgets/controls",
      "model_module_version": "2.0.0",
      "model_name": "RadioButtonsModel",
      "state": {
       "_options_labels": [
        "DEM (*.tif / *.vrt)",
        "Visualization (*.tif / *.vrt)"
       ],
       "description": "Select input type:",
       "index": 0,
       "layout": "IPY_MODEL_0ac9ade8911b409faef764787a9b2aca",
       "style": "IPY_MODEL_4116003843ef4760a1fdfb1929cb2aa7"
      }
     },
     "344926063f69413aa7b67a1b52eb3122": {
      "model_module": "@jupyter-widgets/base",
      "model_module_version": "2.0.0",
      "model_name": "LayoutModel",
      "state": {
       "width": "98%"
      }
     },
     "3469e99b39554efbbed4f9300cb61a21": {
      "model_module": "@jupyter-widgets/controls",
      "model_module_version": "2.0.0",
      "model_name": "DescriptionStyleModel",
      "state": {
       "description_width": ""
      }
     },
     "34b00d1039b14b2188c07888c963ff01": {
      "model_module": "@jupyter-widgets/base",
      "model_module_version": "2.0.0",
      "model_name": "LayoutModel",
      "state": {}
     },
     "355b6f035b794ac9b87c6f8637634bcb": {
      "model_module": "@jupyter-widgets/controls",
      "model_module_version": "2.0.0",
      "model_name": "TextModel",
      "state": {
       "description": "x",
       "layout": "IPY_MODEL_a41b504b48984c899a364186e6e9be3b",
       "style": "IPY_MODEL_6307e1a2e67643778e53831938cc9bca",
       "value": "Hello World"
      }
     },
     "3580367de4b4459faea678c03674e2f9": {
      "model_module": "@jupyter-widgets/controls",
      "model_module_version": "2.0.0",
      "model_name": "RadioButtonsModel",
      "state": {
       "_options_labels": [
        "DEM (*.tif / *.vrt)",
        "Visualization (*.tif / *.vrt)"
       ],
       "description": "Select input type:",
       "index": 0,
       "layout": "IPY_MODEL_5255e455b6294153959e7aeaf40892d7",
       "style": "IPY_MODEL_ac5327c3ff9749f7acca70361540e059"
      }
     },
     "35aaee447f5a41dcafcb3ee97f4a6e60": {
      "model_module": "@jupyter-widgets/controls",
      "model_module_version": "2.0.0",
      "model_name": "CheckboxStyleModel",
      "state": {
       "description_width": ""
      }
     },
     "35c7d0060b4d41f398c010f45a2375ec": {
      "model_module": "@jupyter-widgets/controls",
      "model_module_version": "2.0.0",
      "model_name": "DescriptionStyleModel",
      "state": {
       "description_width": ""
      }
     },
     "3703a655ade2472a84802f7adcc5b140": {
      "model_module": "@jupyter-widgets/controls",
      "model_module_version": "2.0.0",
      "model_name": "TextModel",
      "state": {
       "description": "Visualization path:",
       "disabled": true,
       "layout": "IPY_MODEL_2a0f1d0cad5b4ead922de3dbd8e6dfa5",
       "placeholder": "<my_data_folder/my_visualization_file.tif>",
       "style": "IPY_MODEL_8121d5242410449e81d0a10daac592e6"
      }
     },
     "377e2968c9dc4a1586bf9e87e9aa1cbc": {
      "model_module": "@jupyter-widgets/output",
      "model_module_version": "1.0.0",
      "model_name": "OutputModel",
      "state": {
       "layout": "IPY_MODEL_66c1d75e1b9b4b70af0889e9c5d077c2",
       "outputs": [
        {
         "data": {
          "text/plain": "0.5"
         },
         "metadata": {},
         "output_type": "display_data"
        }
       ]
      }
     },
     "377fcb7949484269880de7828f3099e5": {
      "model_module": "@jupyter-widgets/base",
      "model_module_version": "2.0.0",
      "model_name": "LayoutModel",
      "state": {
       "width": "98%"
      }
     },
     "378154f9b9c640bb8c87c1b9685a212f": {
      "model_module": "@jupyter-widgets/controls",
      "model_module_version": "2.0.0",
      "model_name": "CheckboxModel",
      "state": {
       "description": "Batch processing",
       "disabled": false,
       "indent": false,
       "layout": "IPY_MODEL_68edf61b18fe4ee0996784d055d8e915",
       "style": "IPY_MODEL_cec9f8a125e74c5787607bad252adbcd",
       "value": false
      }
     },
     "37bc0687a49b4b06bc7257131fef21be": {
      "model_module": "@jupyter-widgets/controls",
      "model_module_version": "2.0.0",
      "model_name": "CheckboxStyleModel",
      "state": {
       "description_width": ""
      }
     },
     "37dd87d3e97f4885990aa57bf2590c6b": {
      "model_module": "@jupyter-widgets/controls",
      "model_module_version": "2.0.0",
      "model_name": "TextModel",
      "state": {
       "description": "Visualization path:",
       "disabled": true,
       "layout": "IPY_MODEL_1e1a16ad8e474f1f81bb615ddc87ecf8",
       "placeholder": "<my_data_folder/my_visualization_file.tif>",
       "style": "IPY_MODEL_061451c442e547459bf1e769db5a0574"
      }
     },
     "3817f65a05d24b8284c2585a7a8e2c25": {
      "model_module": "@jupyter-widgets/output",
      "model_module_version": "1.0.0",
      "model_name": "OutputModel",
      "state": {
       "layout": "IPY_MODEL_41160ecd879149dda118974d938eb179",
       "outputs": [
        {
         "data": {
          "application/vnd.jupyter.widget-view+json": {
           "model_id": "d029232197a644aaa14884153c91e885",
           "version_major": 2,
           "version_minor": 0
          },
          "text/plain": "Text(value='', description='Visualization path:', layout=Layout(width='98%'), placeholder='<my_data_folder/my_…"
         },
         "metadata": {},
         "output_type": "display_data"
        }
       ]
      }
     },
     "386fba8563214276baa3ce0b7254c3ba": {
      "model_module": "@jupyter-widgets/controls",
      "model_module_version": "2.0.0",
      "model_name": "TextModel",
      "state": {
       "description": "Visualization path:",
       "disabled": true,
       "layout": "IPY_MODEL_344926063f69413aa7b67a1b52eb3122",
       "placeholder": "<my_data_folder/my_visualization_file.tif>",
       "style": "IPY_MODEL_335f97560d014783a1e86f8a7c4e0d83"
      }
     },
     "38886a0f32e3401394f2ebbd4c670213": {
      "model_module": "@jupyter-widgets/base",
      "model_module_version": "2.0.0",
      "model_name": "LayoutModel",
      "state": {}
     },
     "395c2e204aa64d00ba449d976ff11a82": {
      "model_module": "@jupyter-widgets/output",
      "model_module_version": "1.0.0",
      "model_name": "OutputModel",
      "state": {
       "layout": "IPY_MODEL_5d96c99f48ca41d194333175c6a274e5"
      }
     },
     "3a37cc8522e841498b794b000107eba1": {
      "model_module": "@jupyter-widgets/base",
      "model_module_version": "2.0.0",
      "model_name": "LayoutModel",
      "state": {
       "width": "98%"
      }
     },
     "3a6f87eebce7402f8c570a2183e57205": {
      "model_module": "@jupyter-widgets/base",
      "model_module_version": "2.0.0",
      "model_name": "LayoutModel",
      "state": {}
     },
     "3ab87701001c453782d8ac34946d4d6f": {
      "model_module": "@jupyter-widgets/output",
      "model_module_version": "1.0.0",
      "model_name": "OutputModel",
      "state": {
       "layout": "IPY_MODEL_41765f14f8594e59af1f3eafce2ec222"
      }
     },
     "3b971e31a1534c6faebf394fc278c6e2": {
      "model_module": "@jupyter-widgets/controls",
      "model_module_version": "2.0.0",
      "model_name": "TextStyleModel",
      "state": {
       "description_width": "",
       "font_size": null,
       "text_color": null
      }
     },
     "3b9db6ed61f04abebb91c5602ff74b68": {
      "model_module": "@jupyter-widgets/base",
      "model_module_version": "2.0.0",
      "model_name": "LayoutModel",
      "state": {}
     },
     "3bb6aeeb620c4d368841825df8e44e75": {
      "model_module": "@jupyter-widgets/controls",
      "model_module_version": "2.0.0",
      "model_name": "HBoxModel",
      "state": {
       "children": [
        "IPY_MODEL_e6cdcd41609d4a6ea02939612af93fbd",
        "IPY_MODEL_f917f65704224a2792c37b583a72d3a4"
       ],
       "layout": "IPY_MODEL_44aac88e10cd4ca6b6b08beec5f52413"
      }
     },
     "3c4eb7a0fd864409a8ed31cabc936b27": {
      "model_module": "@jupyter-widgets/controls",
      "model_module_version": "2.0.0",
      "model_name": "DescriptionStyleModel",
      "state": {
       "description_width": ""
      }
     },
     "3c54ecfea2584469adcd40acb0b4eed0": {
      "model_module": "@jupyter-widgets/base",
      "model_module_version": "2.0.0",
      "model_name": "LayoutModel",
      "state": {
       "width": "98%"
      }
     },
     "3d31ae97093340fb84521ff527e3b39e": {
      "model_module": "@jupyter-widgets/controls",
      "model_module_version": "2.0.0",
      "model_name": "HBoxModel",
      "state": {
       "children": [
        "IPY_MODEL_9815f117b87645e39549c0a58a427d30",
        "IPY_MODEL_0cc692107ff54291b91bca5010c464bd"
       ],
       "layout": "IPY_MODEL_7f44911676134768a4f3167a0ac6802b"
      }
     },
     "3d3d411fa4be4418bb5afcbd174179d5": {
      "model_module": "@jupyter-widgets/controls",
      "model_module_version": "2.0.0",
      "model_name": "DescriptionStyleModel",
      "state": {
       "description_width": ""
      }
     },
     "3d4e1cb854b44b7984a99727d218c67a": {
      "model_module": "@jupyter-widgets/output",
      "model_module_version": "1.0.0",
      "model_name": "OutputModel",
      "state": {
       "layout": "IPY_MODEL_7d6e9835c29842c1826d448f677e46ec",
       "outputs": [
        {
         "data": {
          "application/vnd.jupyter.widget-view+json": {
           "model_id": "5fdd868613bf4780ae05f0c716db9887",
           "version_major": 2,
           "version_minor": 0
          },
          "text/plain": "Text(value='', description='DEM path:', layout=Layout(width='98%'), placeholder='<my_data_folder/my_DEM_file.t…"
         },
         "metadata": {},
         "output_type": "display_data"
        }
       ]
      }
     },
     "3d8b22f9d07e4a46b42f66cf37851666": {
      "model_module": "@jupyter-widgets/base",
      "model_module_version": "2.0.0",
      "model_name": "LayoutModel",
      "state": {}
     },
     "3dd99ee72c83446d9c1291d0b128ae74": {
      "model_module": "@jupyter-widgets/controls",
      "model_module_version": "2.0.0",
      "model_name": "HBoxModel",
      "state": {
       "children": [
        "IPY_MODEL_5eee1bf96e0147409b78209d306ed85a"
       ],
       "layout": "IPY_MODEL_957576311b0046c688118c2d56d3e7dc"
      }
     },
     "3ec85a1ddec74bfbba60dc1eb6899163": {
      "model_module": "@jupyter-widgets/output",
      "model_module_version": "1.0.0",
      "model_name": "OutputModel",
      "state": {
       "layout": "IPY_MODEL_527ce61b7bf443dd9fa7ff29f1eeca8e",
       "outputs": [
        {
         "data": {
          "application/vnd.jupyter.widget-view+json": {
           "model_id": "55bb14265fc6457b9593706bbffe3ea4",
           "version_major": 2,
           "version_minor": 0
          },
          "text/plain": "Text(value='', description='DEM path:', layout=Layout(width='98%'), placeholder='<my_data_folder/my_DEM_file.t…"
         },
         "metadata": {},
         "output_type": "display_data"
        }
       ]
      }
     },
     "3f5a0095e0d14c99b62fd04d411d67bf": {
      "model_module": "@jupyter-widgets/base",
      "model_module_version": "2.0.0",
      "model_name": "LayoutModel",
      "state": {}
     },
     "4116003843ef4760a1fdfb1929cb2aa7": {
      "model_module": "@jupyter-widgets/controls",
      "model_module_version": "2.0.0",
      "model_name": "DescriptionStyleModel",
      "state": {
       "description_width": ""
      }
     },
     "41160ecd879149dda118974d938eb179": {
      "model_module": "@jupyter-widgets/base",
      "model_module_version": "2.0.0",
      "model_name": "LayoutModel",
      "state": {}
     },
     "41765f14f8594e59af1f3eafce2ec222": {
      "model_module": "@jupyter-widgets/base",
      "model_module_version": "2.0.0",
      "model_name": "LayoutModel",
      "state": {
       "border_bottom": "1px solid black",
       "border_left": "1px solid black",
       "border_right": "1px solid black",
       "border_top": "1px solid black"
      }
     },
     "41a1affc45cd4ce0a2b177da505d4d72": {
      "model_module": "@jupyter-widgets/controls",
      "model_module_version": "2.0.0",
      "model_name": "CheckboxStyleModel",
      "state": {
       "description_width": ""
      }
     },
     "4228bb5af8a7483ab5e9a798f7404b46": {
      "model_module": "@jupyter-widgets/controls",
      "model_module_version": "2.0.0",
      "model_name": "CheckboxStyleModel",
      "state": {
       "description_width": ""
      }
     },
     "42d7458deace4b129808627524230b59": {
      "model_module": "@jupyter-widgets/base",
      "model_module_version": "2.0.0",
      "model_name": "LayoutModel",
      "state": {}
     },
     "432f565d736049b19a714a85abcc7cbc": {
      "model_module": "@jupyter-widgets/base",
      "model_module_version": "2.0.0",
      "model_name": "LayoutModel",
      "state": {
       "width": "98%"
      }
     },
     "4362ebdbae494b5bae116e2607de8426": {
      "model_module": "@jupyter-widgets/output",
      "model_module_version": "1.0.0",
      "model_name": "OutputModel",
      "state": {
       "layout": "IPY_MODEL_6068c44ff63e432eb5636677f3fe4c5e",
       "outputs": [
        {
         "data": {
          "application/vnd.jupyter.widget-view+json": {
           "model_id": "ac33aa573f5b47dba5a21c88a5a758d4",
           "version_major": 2,
           "version_minor": 0
          },
          "text/plain": "Text(value='', description='DEM path:', layout=Layout(width='98%'), placeholder='<my_data_folder/my_DEM_file.t…"
         },
         "metadata": {},
         "output_type": "display_data"
        }
       ]
      }
     },
     "43d1fdb3e70643fb85ddc4012adc7d39": {
      "model_module": "@jupyter-widgets/base",
      "model_module_version": "2.0.0",
      "model_name": "LayoutModel",
      "state": {}
     },
     "4449b38e97be44e888dc716184a3f80b": {
      "model_module": "@jupyter-widgets/base",
      "model_module_version": "2.0.0",
      "model_name": "LayoutModel",
      "state": {
       "width": "98%"
      }
     },
     "44aac88e10cd4ca6b6b08beec5f52413": {
      "model_module": "@jupyter-widgets/base",
      "model_module_version": "2.0.0",
      "model_name": "LayoutModel",
      "state": {}
     },
     "44da5c85ca0e478c8a68f8796f4c47ef": {
      "model_module": "@jupyter-widgets/base",
      "model_module_version": "2.0.0",
      "model_name": "LayoutModel",
      "state": {
       "width": "98%"
      }
     },
     "44dc6c1093774091bcdafbae2b89238d": {
      "model_module": "@jupyter-widgets/output",
      "model_module_version": "1.0.0",
      "model_name": "OutputModel",
      "state": {
       "layout": "IPY_MODEL_78cb8c12279448cb8f38593d7f9241f4",
       "outputs": [
        {
         "data": {
          "application/vnd.jupyter.widget-view+json": {
           "model_id": "10cb3a25cfbb434fb216c4a72ae510a2",
           "version_major": 2,
           "version_minor": 0
          },
          "text/plain": "Text(value='', description='DEM path:', layout=Layout(width='98%'), placeholder='<my_data_folder/my_DEM_file.t…"
         },
         "metadata": {},
         "output_type": "display_data"
        }
       ]
      }
     },
     "458036a790924e6d870d7615f3cc8abf": {
      "model_module": "@jupyter-widgets/base",
      "model_module_version": "2.0.0",
      "model_name": "LayoutModel",
      "state": {
       "width": "98%"
      }
     },
     "45e8634f902f467c9473b2fd821e24b9": {
      "model_module": "@jupyter-widgets/output",
      "model_module_version": "1.0.0",
      "model_name": "OutputModel",
      "state": {
       "layout": "IPY_MODEL_c2b144b4119042ac8b74ebd19c68099a",
       "outputs": [
        {
         "name": "stdout",
         "output_type": "stream",
         "text": "index\n"
        }
       ]
      }
     },
     "46ad20bfec3e47dbb455325e4d62d762": {
      "model_module": "@jupyter-widgets/controls",
      "model_module_version": "2.0.0",
      "model_name": "TextStyleModel",
      "state": {
       "description_width": "initial",
       "font_size": null,
       "text_color": null
      }
     },
     "46e46865f91046d58ba01aa719d5aa95": {
      "model_module": "@jupyter-widgets/controls",
      "model_module_version": "2.0.0",
      "model_name": "TextStyleModel",
      "state": {
       "description_width": "initial",
       "font_size": null,
       "text_color": null
      }
     },
     "46f1f862c88e4c8a98c6b2861b6ef3bf": {
      "model_module": "@jupyter-widgets/base",
      "model_module_version": "2.0.0",
      "model_name": "LayoutModel",
      "state": {}
     },
     "46fd485a7de1452ab470087e1f029869": {
      "model_module": "@jupyter-widgets/controls",
      "model_module_version": "2.0.0",
      "model_name": "TextModel",
      "state": {
       "description": "x",
       "layout": "IPY_MODEL_9ae13c1801944e4abc1840c89473bb8d",
       "style": "IPY_MODEL_3b971e31a1534c6faebf394fc278c6e2",
       "value": "Hello World"
      }
     },
     "4755fcffbec2437d8f5ec84b27a8ea0d": {
      "model_module": "@jupyter-widgets/controls",
      "model_module_version": "2.0.0",
      "model_name": "TextModel",
      "state": {
       "description": "DEM path:",
       "layout": "IPY_MODEL_3a37cc8522e841498b794b000107eba1",
       "placeholder": "<my_data_folder/my_DEM_file.tif>",
       "style": "IPY_MODEL_d4a9a809e5cf4fe6a258d45ba0a4d9c7"
      }
     },
     "479dbba32dc64e07bbe948e04a7576e3": {
      "model_module": "@jupyter-widgets/base",
      "model_module_version": "2.0.0",
      "model_name": "LayoutModel",
      "state": {}
     },
     "48b9940755a44a4eb2668476f042ac66": {
      "model_module": "@jupyter-widgets/controls",
      "model_module_version": "2.0.0",
      "model_name": "HBoxModel",
      "state": {
       "children": [
        "IPY_MODEL_5c22ee6dd1804dc4b617eab511cdd3bc",
        "IPY_MODEL_5767b1dbfbba496d96fb1a60a0d238b5"
       ],
       "layout": "IPY_MODEL_e708174899204597977cc6ffe963bbe3"
      }
     },
     "490baa0428e14bf9b92b1f8fd64f095a": {
      "model_module": "@jupyter-widgets/controls",
      "model_module_version": "2.0.0",
      "model_name": "HBoxModel",
      "state": {
       "children": [
        "IPY_MODEL_92cbec75a86b42fa970444f00025a013",
        "IPY_MODEL_01a4b26309934e2eba36f5c465ea8ec0"
       ],
       "layout": "IPY_MODEL_7876c56ae42f4f518ef926d0c42a5127"
      }
     },
     "4a443ad11c9d46028156ea4fa8bec855": {
      "model_module": "@jupyter-widgets/base",
      "model_module_version": "2.0.0",
      "model_name": "LayoutModel",
      "state": {
       "width": "98%"
      }
     },
     "4a648f0ab9a741768465075b0e628cd1": {
      "model_module": "@jupyter-widgets/controls",
      "model_module_version": "2.0.0",
      "model_name": "TextStyleModel",
      "state": {
       "description_width": "initial",
       "font_size": null,
       "text_color": null
      }
     },
     "4ad99faf927a47e696567755646809df": {
      "model_module": "@jupyter-widgets/controls",
      "model_module_version": "2.0.0",
      "model_name": "TextModel",
      "state": {
       "description": "Visualization path:",
       "disabled": true,
       "layout": "IPY_MODEL_96c26a2da1714365a63a032a85e0771f",
       "placeholder": "<my_data_folder/my_visualization_file.tif>",
       "style": "IPY_MODEL_1c6d0e93618c4a61b63600f894384cb2"
      }
     },
     "4b081d9ad0854fedae559eb241d52407": {
      "model_module": "@jupyter-widgets/base",
      "model_module_version": "2.0.0",
      "model_name": "LayoutModel",
      "state": {}
     },
     "4b2cde2ebef34318a612c84d54ccaeee": {
      "model_module": "@jupyter-widgets/controls",
      "model_module_version": "2.0.0",
      "model_name": "HBoxModel",
      "state": {
       "children": [
        "IPY_MODEL_4fbebcc26124412b9ae902118f3c23c8",
        "IPY_MODEL_2a59de4b69d44c848bc90ae9a214a7d5"
       ],
       "layout": "IPY_MODEL_d85ae1b600654b05aaf04080b622cf0a"
      }
     },
     "4b2d24cdbf574e9ebbab13d2a966cf31": {
      "model_module": "@jupyter-widgets/controls",
      "model_module_version": "2.0.0",
      "model_name": "RadioButtonsModel",
      "state": {
       "_options_labels": [
        "DEM (*.tif / *.vrt)",
        "Visualization (*.tif / *.vrt)"
       ],
       "description": "Select input type:",
       "index": 1,
       "layout": "IPY_MODEL_72eb24551ccd4c49ba161773c979c7db",
       "style": "IPY_MODEL_116530d0c5b349d0af60fe921530b20e"
      }
     },
     "4b2e538bb0b34522a47a414adbcea439": {
      "model_module": "@jupyter-widgets/controls",
      "model_module_version": "2.0.0",
      "model_name": "CheckboxModel",
      "state": {
       "description": "Batch processing",
       "disabled": false,
       "indent": false,
       "layout": "IPY_MODEL_94c5c5b1067c48fba43ef12d7b136ddb",
       "style": "IPY_MODEL_25952ca1a4494c50872e42cb3b05f25f",
       "value": false
      }
     },
     "4b3e9ef00e5f477c95a4c9224e714a9e": {
      "model_module": "@jupyter-widgets/output",
      "model_module_version": "1.0.0",
      "model_name": "OutputModel",
      "state": {
       "layout": "IPY_MODEL_6ed662ea385d4a998fa698a0a80cfe60",
       "outputs": [
        {
         "name": "stdout",
         "output_type": "stream",
         "text": "{'name': '_property_lock', 'old': {'value': True}, 'new': {}, 'owner': Checkbox(value=True, description='Batch processing', indent=False), 'type': 'change'}\n"
        }
       ]
      }
     },
     "4b6aac6dc0ce48b29ee162ca32ce9820": {
      "model_module": "@jupyter-widgets/controls",
      "model_module_version": "2.0.0",
      "model_name": "CheckboxStyleModel",
      "state": {
       "description_width": ""
      }
     },
     "4b6bedb5689242eda20135c6149dec9e": {
      "model_module": "@jupyter-widgets/controls",
      "model_module_version": "2.0.0",
      "model_name": "HBoxModel",
      "state": {
       "children": [
        "IPY_MODEL_972dec6753b74cd2b959e4512db9eddf",
        "IPY_MODEL_a07e886396b04c38955f886a616af807"
       ],
       "layout": "IPY_MODEL_dd8896c0b4824b368c6a42d96010f13a"
      }
     },
     "4b87337a09bd4dd1aef49e21b79bf19e": {
      "model_module": "@jupyter-widgets/controls",
      "model_module_version": "2.0.0",
      "model_name": "TextStyleModel",
      "state": {
       "description_width": "initial",
       "font_size": null,
       "text_color": null
      }
     },
     "4cbf9cf0731c49dd96607a84e801e3f5": {
      "model_module": "@jupyter-widgets/base",
      "model_module_version": "2.0.0",
      "model_name": "LayoutModel",
      "state": {
       "border_bottom": "1px solid black",
       "border_left": "1px solid black",
       "border_right": "1px solid black",
       "border_top": "1px solid black"
      }
     },
     "4cdeaebe29fa4ddd94d7c169ba6831d6": {
      "model_module": "@jupyter-widgets/base",
      "model_module_version": "2.0.0",
      "model_name": "LayoutModel",
      "state": {
       "width": "98%"
      }
     },
     "4d015319d5dc4d8a8a38b86ddd36b82c": {
      "model_module": "@jupyter-widgets/base",
      "model_module_version": "2.0.0",
      "model_name": "LayoutModel",
      "state": {}
     },
     "4d23dd5a286b4c12ab182741671c7abb": {
      "model_module": "@jupyter-widgets/controls",
      "model_module_version": "2.0.0",
      "model_name": "TextStyleModel",
      "state": {
       "description_width": "initial",
       "font_size": null,
       "text_color": null
      }
     },
     "4d4ecfb4515b4088978ac316d5cb1360": {
      "model_module": "@jupyter-widgets/controls",
      "model_module_version": "2.0.0",
      "model_name": "TextStyleModel",
      "state": {
       "description_width": "initial",
       "font_size": null,
       "text_color": null
      }
     },
     "4d61701e50984b5a9c0f487e75715f8b": {
      "model_module": "@jupyter-widgets/output",
      "model_module_version": "1.0.0",
      "model_name": "OutputModel",
      "state": {
       "layout": "IPY_MODEL_cd8137779ca242eeafca94d540f1f9de",
       "outputs": [
        {
         "data": {
          "application/vnd.jupyter.widget-view+json": {
           "model_id": "a12e1d530a044612905a932df47aa24f",
           "version_major": 2,
           "version_minor": 0
          },
          "text/plain": "Text(value='', description='DEM path:', layout=Layout(width='98%'), placeholder='<my_data_folder/my_DEM_file.t…"
         },
         "metadata": {},
         "output_type": "display_data"
        }
       ]
      }
     },
     "4e271f418294495db9afbcad02460d01": {
      "model_module": "@jupyter-widgets/base",
      "model_module_version": "2.0.0",
      "model_name": "LayoutModel",
      "state": {
       "width": "98%"
      }
     },
     "4ef2c98c1cbc4c449eba66c68efe6d96": {
      "model_module": "@jupyter-widgets/output",
      "model_module_version": "1.0.0",
      "model_name": "OutputModel",
      "state": {
       "layout": "IPY_MODEL_38886a0f32e3401394f2ebbd4c670213",
       "outputs": [
        {
         "data": {
          "application/vnd.jupyter.widget-view+json": {
           "model_id": "1a6d78a904ed493eb32f2428eea90c0b",
           "version_major": 2,
           "version_minor": 0
          },
          "text/plain": "Text(value='', description='DEM path:', layout=Layout(width='98%'), placeholder='<my_data_folder/my_DEM_file.t…"
         },
         "metadata": {},
         "output_type": "display_data"
        }
       ]
      }
     },
     "4f24646749554022a5f36d3f2b7f40fc": {
      "model_module": "@jupyter-widgets/controls",
      "model_module_version": "2.0.0",
      "model_name": "DescriptionStyleModel",
      "state": {
       "description_width": ""
      }
     },
     "4f9658b12daa49f28c9437dbf4c7c727": {
      "model_module": "@jupyter-widgets/base",
      "model_module_version": "2.0.0",
      "model_name": "LayoutModel",
      "state": {}
     },
     "4fbebcc26124412b9ae902118f3c23c8": {
      "model_module": "@jupyter-widgets/controls",
      "model_module_version": "2.0.0",
      "model_name": "RadioButtonsModel",
      "state": {
       "_options_labels": [
        "DEM (*.tif / *.vrt)",
        "Visualization (*.tif / *.vrt)"
       ],
       "description": "Select input type:",
       "index": 1,
       "layout": "IPY_MODEL_1ec83b4d64d646ee88d2e51195aa9c96",
       "style": "IPY_MODEL_3469e99b39554efbbed4f9300cb61a21"
      }
     },
     "4fe98f4e44ae47d5b3fa948d57847397": {
      "model_module": "@jupyter-widgets/controls",
      "model_module_version": "2.0.0",
      "model_name": "TextModel",
      "state": {
       "description": "Visualization path:",
       "disabled": true,
       "layout": "IPY_MODEL_0d57d8f2bc88443998d9df5a09e0d307",
       "placeholder": "<my_data_folder/my_visualization_file.tif>",
       "style": "IPY_MODEL_cf1ceffbbc2c47af8e6b40e109bbcca8"
      }
     },
     "51a8f18ce20d456690782a1353130c25": {
      "model_module": "@jupyter-widgets/controls",
      "model_module_version": "2.0.0",
      "model_name": "TextModel",
      "state": {
       "description": "DEM path:",
       "layout": "IPY_MODEL_6af7cecc12a94485b11aee65578dc50e",
       "placeholder": "<my_data_folder/my_DEM_file.tif>",
       "style": "IPY_MODEL_46ad20bfec3e47dbb455325e4d62d762"
      }
     },
     "52544577a05d4a0fa9dd4b9ae3465bc3": {
      "model_module": "@jupyter-widgets/controls",
      "model_module_version": "2.0.0",
      "model_name": "RadioButtonsModel",
      "state": {
       "_options_labels": [
        "DEM (*.tif / *.vrt)",
        "Visualization (*.tif / *.vrt)"
       ],
       "description": "Select input type:",
       "index": 1,
       "layout": "IPY_MODEL_3b9db6ed61f04abebb91c5602ff74b68",
       "style": "IPY_MODEL_93b14389a516451db4cdc144c64be1e6"
      }
     },
     "5255e455b6294153959e7aeaf40892d7": {
      "model_module": "@jupyter-widgets/base",
      "model_module_version": "2.0.0",
      "model_name": "LayoutModel",
      "state": {}
     },
     "527ce61b7bf443dd9fa7ff29f1eeca8e": {
      "model_module": "@jupyter-widgets/base",
      "model_module_version": "2.0.0",
      "model_name": "LayoutModel",
      "state": {}
     },
     "528c56484ecd43ae90b4bb226f2d2f98": {
      "model_module": "@jupyter-widgets/controls",
      "model_module_version": "2.0.0",
      "model_name": "VBoxModel",
      "state": {
       "_dom_classes": [
        "widget-interact"
       ],
       "children": [
        "IPY_MODEL_c3474391bfdc4df382297526ee9fe1d8",
        "IPY_MODEL_377e2968c9dc4a1586bf9e87e9aa1cbc"
       ],
       "layout": "IPY_MODEL_8d5de7a2a86e476ba4ae70cc7c10d7a7"
      }
     },
     "53014a36d7124589bf45d5204a84ff94": {
      "model_module": "@jupyter-widgets/output",
      "model_module_version": "1.0.0",
      "model_name": "OutputModel",
      "state": {
       "layout": "IPY_MODEL_fef56934c708482587e67bc641d172ca",
       "outputs": [
        {
         "ename": "AttributeError",
         "evalue": "module 'ipywidgets.widgets' has no attribute 'RadioButton'",
         "output_type": "error",
         "traceback": [
          "\u001b[1;31m---------------------------------------------------------------------------\u001b[0m",
          "\u001b[1;31mAttributeError\u001b[0m                            Traceback (most recent call last)",
          "\u001b[1;32m~\\AppData\\Local\\anaconda3\\envs\\aitlas-tii\\lib\\site-packages\\ipywidgets\\widgets\\widget_output.py\u001b[0m in \u001b[0;36minner\u001b[1;34m(*args, **kwargs)\u001b[0m\n\u001b[0;32m    101\u001b[0m                     \u001b[0mself\u001b[0m\u001b[1;33m.\u001b[0m\u001b[0mclear_output\u001b[0m\u001b[1;33m(\u001b[0m\u001b[1;33m*\u001b[0m\u001b[0mclear_args\u001b[0m\u001b[1;33m,\u001b[0m \u001b[1;33m**\u001b[0m\u001b[0mclear_kwargs\u001b[0m\u001b[1;33m)\u001b[0m\u001b[1;33m\u001b[0m\u001b[1;33m\u001b[0m\u001b[0m\n\u001b[0;32m    102\u001b[0m                 \u001b[1;32mwith\u001b[0m \u001b[0mself\u001b[0m\u001b[1;33m:\u001b[0m\u001b[1;33m\u001b[0m\u001b[1;33m\u001b[0m\u001b[0m\n\u001b[1;32m--> 103\u001b[1;33m                     \u001b[1;32mreturn\u001b[0m \u001b[0mfunc\u001b[0m\u001b[1;33m(\u001b[0m\u001b[1;33m*\u001b[0m\u001b[0margs\u001b[0m\u001b[1;33m,\u001b[0m \u001b[1;33m**\u001b[0m\u001b[0mkwargs\u001b[0m\u001b[1;33m)\u001b[0m\u001b[1;33m\u001b[0m\u001b[1;33m\u001b[0m\u001b[0m\n\u001b[0m\u001b[0;32m    104\u001b[0m             \u001b[1;32mreturn\u001b[0m \u001b[0minner\u001b[0m\u001b[1;33m\u001b[0m\u001b[1;33m\u001b[0m\u001b[0m\n\u001b[0;32m    105\u001b[0m         \u001b[1;32mreturn\u001b[0m \u001b[0mcapture_decorator\u001b[0m\u001b[1;33m\u001b[0m\u001b[1;33m\u001b[0m\u001b[0m\n",
          "\u001b[1;32m~\\AppData\\Local\\Temp\\ipykernel_15392\\2197613107.py\u001b[0m in \u001b[0;36mwhat_traits_radio\u001b[1;34m(value)\u001b[0m\n\u001b[0;32m     46\u001b[0m \u001b[1;33m@\u001b[0m\u001b[0mdebug_view\u001b[0m\u001b[1;33m.\u001b[0m\u001b[0mcapture\u001b[0m\u001b[1;33m(\u001b[0m\u001b[0mclear_output\u001b[0m\u001b[1;33m=\u001b[0m\u001b[1;32mTrue\u001b[0m\u001b[1;33m)\u001b[0m\u001b[1;33m\u001b[0m\u001b[1;33m\u001b[0m\u001b[0m\n\u001b[0;32m     47\u001b[0m \u001b[1;32mdef\u001b[0m \u001b[0mwhat_traits_radio\u001b[0m\u001b[1;33m(\u001b[0m\u001b[0mvalue\u001b[0m\u001b[1;33m)\u001b[0m\u001b[1;33m:\u001b[0m\u001b[1;33m\u001b[0m\u001b[1;33m\u001b[0m\u001b[0m\n\u001b[1;32m---> 48\u001b[1;33m     \u001b[1;32mif\u001b[0m \u001b[0misinstance\u001b[0m\u001b[1;33m(\u001b[0m\u001b[0mvalue\u001b[0m\u001b[1;33m.\u001b[0m\u001b[0mowner\u001b[0m\u001b[1;33m,\u001b[0m \u001b[0mwidgets\u001b[0m\u001b[1;33m.\u001b[0m\u001b[0mRadioButton\u001b[0m\u001b[1;33m)\u001b[0m\u001b[1;33m:\u001b[0m\u001b[1;33m\u001b[0m\u001b[1;33m\u001b[0m\u001b[0m\n\u001b[0m\u001b[0;32m     49\u001b[0m         \u001b[0mprint\u001b[0m\u001b[1;33m(\u001b[0m\u001b[1;34m\"RB\"\u001b[0m\u001b[1;33m)\u001b[0m\u001b[1;33m\u001b[0m\u001b[1;33m\u001b[0m\u001b[0m\n\u001b[0;32m     50\u001b[0m \u001b[1;33m\u001b[0m\u001b[0m\n",
          "\u001b[1;31mAttributeError\u001b[0m: module 'ipywidgets.widgets' has no attribute 'RadioButton'"
         ]
        }
       ]
      }
     },
     "539020de91d7463bbbf871acd7edc26f": {
      "model_module": "@jupyter-widgets/controls",
      "model_module_version": "2.0.0",
      "model_name": "TextModel",
      "state": {
       "description": "DEM path:",
       "layout": "IPY_MODEL_e5729fbf101b4e739be102ff0e528345",
       "placeholder": "<my_data_folder/my_DEM_file.tif>",
       "style": "IPY_MODEL_a05a709fbb6b45bd95ac27a8fd8fddc0"
      }
     },
     "53a68d4664a2461db42e94f60f3c4734": {
      "model_module": "@jupyter-widgets/controls",
      "model_module_version": "2.0.0",
      "model_name": "CheckboxStyleModel",
      "state": {
       "description_width": ""
      }
     },
     "54f7fdc0110941e0a7048812024119a9": {
      "model_module": "@jupyter-widgets/base",
      "model_module_version": "2.0.0",
      "model_name": "LayoutModel",
      "state": {}
     },
     "556287ee8f014a1abccceafbeac829c6": {
      "model_module": "@jupyter-widgets/controls",
      "model_module_version": "2.0.0",
      "model_name": "CheckboxModel",
      "state": {
       "description": "Batch processing",
       "disabled": false,
       "indent": false,
       "layout": "IPY_MODEL_2c7a87994d3347bcb15c6933a1518bcf",
       "style": "IPY_MODEL_82e2034abd6a4013ae3ee6b297b484f8",
       "value": false
      }
     },
     "556f09131dcc4c568bebf54a5eae8f08": {
      "model_module": "@jupyter-widgets/controls",
      "model_module_version": "2.0.0",
      "model_name": "TextStyleModel",
      "state": {
       "description_width": "initial",
       "font_size": null,
       "text_color": null
      }
     },
     "55bb14265fc6457b9593706bbffe3ea4": {
      "model_module": "@jupyter-widgets/controls",
      "model_module_version": "2.0.0",
      "model_name": "TextModel",
      "state": {
       "description": "DEM path:",
       "layout": "IPY_MODEL_b6c86fe29e3b42cba2a74f7c9f49c998",
       "placeholder": "<my_data_folder/my_DEM_file.tif>",
       "style": "IPY_MODEL_cb3e3cb141034777ac6c42d692f04128"
      }
     },
     "56719db4534b4ac885635cbe1d2f3505": {
      "model_module": "@jupyter-widgets/output",
      "model_module_version": "1.0.0",
      "model_name": "OutputModel",
      "state": {
       "layout": "IPY_MODEL_bafabbe98a7e4d519115deec19cd1fc2",
       "outputs": [
        {
         "name": "stdout",
         "output_type": "stream",
         "text": "RadioButtons(description='Select input type:', index=1, options=('DEM (*.tif / *.vrt)', 'Visualization (*.tif / *.vrt)'), value='Visualization (*.tif / *.vrt)')\n"
        }
       ]
      }
     },
     "5767b1dbfbba496d96fb1a60a0d238b5": {
      "model_module": "@jupyter-widgets/controls",
      "model_module_version": "2.0.0",
      "model_name": "CheckboxModel",
      "state": {
       "description": "Batch processing",
       "disabled": false,
       "indent": false,
       "layout": "IPY_MODEL_2a084ac7bbf84ba7a154ac94d7b850fc",
       "style": "IPY_MODEL_ac0d55de732e4088ab1aaf6000e84de2",
       "value": true
      }
     },
     "578f871b7ada4dbcb4a477444e9937a5": {
      "model_module": "@jupyter-widgets/controls",
      "model_module_version": "2.0.0",
      "model_name": "CheckboxModel",
      "state": {
       "description": "Batch processing",
       "disabled": false,
       "indent": false,
       "layout": "IPY_MODEL_2773fedeaf474978b97cf5a74a64250c",
       "style": "IPY_MODEL_c0e15333fb9646db9fe7b3d244a513cc",
       "value": false
      }
     },
     "57d54aa3b46d44128c38edb1964c9c2d": {
      "model_module": "@jupyter-widgets/controls",
      "model_module_version": "2.0.0",
      "model_name": "RadioButtonsModel",
      "state": {
       "_options_labels": [
        "DEM (*.tif / *.vrt)",
        "Visualization (*.tif / *.vrt)"
       ],
       "description": "Select input type:",
       "index": 0,
       "layout": "IPY_MODEL_ae5e16199738409bbdb1dc9d49164185",
       "style": "IPY_MODEL_eb24d1654f0a48cda33b21949443fdf8"
      }
     },
     "586753c8c9fc41e0baed354ef2497646": {
      "model_module": "@jupyter-widgets/output",
      "model_module_version": "1.0.0",
      "model_name": "OutputModel",
      "state": {
       "layout": "IPY_MODEL_13947dfbefd34e6781f6c95469f8cda6",
       "outputs": [
        {
         "data": {
          "application/vnd.jupyter.widget-view+json": {
           "model_id": "77a2ea76245c4f91825200adf007aa75",
           "version_major": 2,
           "version_minor": 0
          },
          "text/plain": "Text(value='', description='DEM path:', layout=Layout(width='98%'), placeholder='<my_data_folder/my_DEM_file.t…"
         },
         "metadata": {},
         "output_type": "display_data"
        }
       ]
      }
     },
     "586bf1b5da7d46bcb4cb0d868df0ba3b": {
      "model_module": "@jupyter-widgets/controls",
      "model_module_version": "2.0.0",
      "model_name": "CheckboxModel",
      "state": {
       "description": "Batch processing",
       "disabled": false,
       "indent": false,
       "layout": "IPY_MODEL_0fedb14520c44148becfe77d142393c8",
       "style": "IPY_MODEL_4b6aac6dc0ce48b29ee162ca32ce9820",
       "value": false
      }
     },
     "59454a83a4f44c33bb0269fa959dfb1c": {
      "model_module": "@jupyter-widgets/controls",
      "model_module_version": "2.0.0",
      "model_name": "TextStyleModel",
      "state": {
       "description_width": "initial",
       "font_size": null,
       "text_color": null
      }
     },
     "59ba23f585674d6a821c5bb25e98b5d3": {
      "model_module": "@jupyter-widgets/base",
      "model_module_version": "2.0.0",
      "model_name": "LayoutModel",
      "state": {}
     },
     "5b41365d1f434490968014fd3d98ff1d": {
      "model_module": "@jupyter-widgets/controls",
      "model_module_version": "2.0.0",
      "model_name": "RadioButtonsModel",
      "state": {
       "_options_labels": [
        "pepperoni",
        "pineapple",
        "anchovies"
       ],
       "description": "Pizza topping:",
       "index": null,
       "layout": "IPY_MODEL_ecbd2dfb75f44a59be1f263fbcd456f3",
       "style": "IPY_MODEL_2a50fc4d7b4b405090fbcf454252d440"
      }
     },
     "5baa812e3e2f421f92f3dcc239957748": {
      "model_module": "@jupyter-widgets/base",
      "model_module_version": "2.0.0",
      "model_name": "LayoutModel",
      "state": {}
     },
     "5c22ee6dd1804dc4b617eab511cdd3bc": {
      "model_module": "@jupyter-widgets/controls",
      "model_module_version": "2.0.0",
      "model_name": "RadioButtonsModel",
      "state": {
       "_options_labels": [
        "DEM (*.tif / *.vrt)",
        "Visualization (*.tif / *.vrt)"
       ],
       "description": "Select input type:",
       "index": 1,
       "layout": "IPY_MODEL_e67ddf7aaf9e4d1f98f493d91f1c51d7",
       "style": "IPY_MODEL_234c3c0a6b8e4235aea70a67b5f2c4d8"
      }
     },
     "5d96c99f48ca41d194333175c6a274e5": {
      "model_module": "@jupyter-widgets/base",
      "model_module_version": "2.0.0",
      "model_name": "LayoutModel",
      "state": {
       "border_bottom": "1px solid black",
       "border_left": "1px solid black",
       "border_right": "1px solid black",
       "border_top": "1px solid black"
      }
     },
     "5d9cd4c827e54b0ea4b42e921c2877d3": {
      "model_module": "@jupyter-widgets/base",
      "model_module_version": "2.0.0",
      "model_name": "LayoutModel",
      "state": {
       "border_bottom": "1px solid black",
       "border_left": "1px solid black",
       "border_right": "1px solid black",
       "border_top": "1px solid black"
      }
     },
     "5e5ff79592cb4aa7ad0638c799725160": {
      "model_module": "@jupyter-widgets/base",
      "model_module_version": "2.0.0",
      "model_name": "LayoutModel",
      "state": {}
     },
     "5eee1bf96e0147409b78209d306ed85a": {
      "model_module": "@jupyter-widgets/controls",
      "model_module_version": "2.0.0",
      "model_name": "LabelModel",
      "state": {
       "layout": "IPY_MODEL_f94778193593476a9e7c5569c12fb143",
       "style": "IPY_MODEL_c6c71f0677cd41ae8ab2192acd35048f",
       "value": "What color is the White House?"
      }
     },
     "5f59fee113e8470dba0cd473c3bfcb13": {
      "model_module": "@jupyter-widgets/controls",
      "model_module_version": "2.0.0",
      "model_name": "TextStyleModel",
      "state": {
       "description_width": "initial",
       "font_size": null,
       "text_color": null
      }
     },
     "5fdd868613bf4780ae05f0c716db9887": {
      "model_module": "@jupyter-widgets/controls",
      "model_module_version": "2.0.0",
      "model_name": "TextModel",
      "state": {
       "description": "DEM path:",
       "layout": "IPY_MODEL_1fedf1c21089400da81607fbad0893cf",
       "placeholder": "<my_data_folder/my_DEM_file.tif>",
       "style": "IPY_MODEL_a32c5d72300d4e5bac3dbc979354aabb"
      }
     },
     "6048e59fe8b647348ec14ade690f3c9a": {
      "model_module": "@jupyter-widgets/base",
      "model_module_version": "2.0.0",
      "model_name": "LayoutModel",
      "state": {
       "width": "98%"
      }
     },
     "6068c44ff63e432eb5636677f3fe4c5e": {
      "model_module": "@jupyter-widgets/base",
      "model_module_version": "2.0.0",
      "model_name": "LayoutModel",
      "state": {}
     },
     "607e60a6e8b34dbab067280f82b82fd7": {
      "model_module": "@jupyter-widgets/controls",
      "model_module_version": "2.0.0",
      "model_name": "TextModel",
      "state": {
       "description": "DEM path:",
       "layout": "IPY_MODEL_1c791af6959240f89bfb7a28c4a57038",
       "placeholder": "<my_data_folder/my_DEM_file.tif>",
       "style": "IPY_MODEL_ad1c6b31ddeb46dc9eeef9c76cd5b21b"
      }
     },
     "62353299e35c4145a4382e6d36f94c44": {
      "model_module": "@jupyter-widgets/controls",
      "model_module_version": "2.0.0",
      "model_name": "RadioButtonsModel",
      "state": {
       "_options_labels": [
        "DEM (*.tif / *.vrt)",
        "Visualization (*.tif / *.vrt)"
       ],
       "description": "Select input type:",
       "index": 1,
       "layout": "IPY_MODEL_ce10d4cd28964a51b4e51cdb559f008d",
       "style": "IPY_MODEL_19d3e569ba474e6ea7bea41d8fe023da"
      }
     },
     "625e8d68206c4fc59ccf4bb50681c66e": {
      "model_module": "@jupyter-widgets/controls",
      "model_module_version": "2.0.0",
      "model_name": "TextStyleModel",
      "state": {
       "description_width": "initial",
       "font_size": null,
       "text_color": null
      }
     },
     "62ad4810dd5c4e18af8d97c437f16526": {
      "model_module": "@jupyter-widgets/controls",
      "model_module_version": "2.0.0",
      "model_name": "CheckboxStyleModel",
      "state": {
       "description_width": ""
      }
     },
     "6307e1a2e67643778e53831938cc9bca": {
      "model_module": "@jupyter-widgets/controls",
      "model_module_version": "2.0.0",
      "model_name": "TextStyleModel",
      "state": {
       "description_width": "",
       "font_size": null,
       "text_color": null
      }
     },
     "637e33471d084a64a7142da716b1c080": {
      "model_module": "@jupyter-widgets/controls",
      "model_module_version": "2.0.0",
      "model_name": "TextStyleModel",
      "state": {
       "description_width": "initial",
       "font_size": null,
       "text_color": null
      }
     },
     "647e429bb2e1426993063e2d9ffa71f9": {
      "model_module": "@jupyter-widgets/base",
      "model_module_version": "2.0.0",
      "model_name": "LayoutModel",
      "state": {}
     },
     "64bfa78d0d814e08a49b4cf9125e98b8": {
      "model_module": "@jupyter-widgets/controls",
      "model_module_version": "2.0.0",
      "model_name": "DescriptionStyleModel",
      "state": {
       "description_width": ""
      }
     },
     "66c1d75e1b9b4b70af0889e9c5d077c2": {
      "model_module": "@jupyter-widgets/base",
      "model_module_version": "2.0.0",
      "model_name": "LayoutModel",
      "state": {}
     },
     "68edf61b18fe4ee0996784d055d8e915": {
      "model_module": "@jupyter-widgets/base",
      "model_module_version": "2.0.0",
      "model_name": "LayoutModel",
      "state": {}
     },
     "6a3d4cbc9c0c4b3480022374ba36a32e": {
      "model_module": "@jupyter-widgets/controls",
      "model_module_version": "2.0.0",
      "model_name": "TextModel",
      "state": {
       "description": "Visualizations path [folder]:",
       "disabled": true,
       "layout": "IPY_MODEL_44da5c85ca0e478c8a68f8796f4c47ef",
       "placeholder": "data_folder",
       "style": "IPY_MODEL_4d23dd5a286b4c12ab182741671c7abb"
      }
     },
     "6a9b44e25b4045a6b0904eab77b9ee29": {
      "model_module": "@jupyter-widgets/controls",
      "model_module_version": "2.0.0",
      "model_name": "TextStyleModel",
      "state": {
       "description_width": "initial",
       "font_size": null,
       "text_color": null
      }
     },
     "6af7cecc12a94485b11aee65578dc50e": {
      "model_module": "@jupyter-widgets/base",
      "model_module_version": "2.0.0",
      "model_name": "LayoutModel",
      "state": {
       "width": "98%"
      }
     },
     "6bb1a90699524c79bd07c691389d6a92": {
      "model_module": "@jupyter-widgets/base",
      "model_module_version": "2.0.0",
      "model_name": "LayoutModel",
      "state": {}
     },
     "6be64b1c64184e658f4cde58583b8d9b": {
      "model_module": "@jupyter-widgets/controls",
      "model_module_version": "2.0.0",
      "model_name": "TextStyleModel",
      "state": {
       "description_width": "initial",
       "font_size": null,
       "text_color": null
      }
     },
     "6dcef73d746b4b87be4d9162d719cfbf": {
      "model_module": "@jupyter-widgets/controls",
      "model_module_version": "2.0.0",
      "model_name": "TextModel",
      "state": {
       "description": "Visualization path:",
       "disabled": true,
       "layout": "IPY_MODEL_779e9ed5a9af4e6da3cf2b0a94b62b27",
       "placeholder": "<my_data_folder/my_visualization_file.tif>",
       "style": "IPY_MODEL_a388053063a244e8bfd367783aec2847"
      }
     },
     "6e54832afeb04803a5c241673c23df9d": {
      "model_module": "@jupyter-widgets/base",
      "model_module_version": "2.0.0",
      "model_name": "LayoutModel",
      "state": {
       "width": "98%"
      }
     },
     "6ed662ea385d4a998fa698a0a80cfe60": {
      "model_module": "@jupyter-widgets/base",
      "model_module_version": "2.0.0",
      "model_name": "LayoutModel",
      "state": {
       "border_bottom": "1px solid black",
       "border_left": "1px solid black",
       "border_right": "1px solid black",
       "border_top": "1px solid black"
      }
     },
     "6f4bbc86ff0c4f48b4aade6050560b92": {
      "model_module": "@jupyter-widgets/controls",
      "model_module_version": "2.0.0",
      "model_name": "RadioButtonsModel",
      "state": {
       "_options_labels": [
        "DEM (*.tif / *.vrt)",
        "Visualization (*.tif / *.vrt)"
       ],
       "description": "Select input type:",
       "index": 0,
       "layout": "IPY_MODEL_4b081d9ad0854fedae559eb241d52407",
       "style": "IPY_MODEL_ca8a0fb38dbb447fbfa920ff75d64b75"
      }
     },
     "6f50a0a0e4c74fc9bfd596fa4750139e": {
      "model_module": "@jupyter-widgets/base",
      "model_module_version": "2.0.0",
      "model_name": "LayoutModel",
      "state": {}
     },
     "6fc900380a2a4e20acf0fa28eb7648b5": {
      "model_module": "@jupyter-widgets/base",
      "model_module_version": "2.0.0",
      "model_name": "LayoutModel",
      "state": {}
     },
     "70f2a36def4849d7a7b6d7b7d02b990c": {
      "model_module": "@jupyter-widgets/controls",
      "model_module_version": "2.0.0",
      "model_name": "HBoxModel",
      "state": {
       "children": [
        "IPY_MODEL_33aa63c6e41c4e158d7d3993dc0a8fc7",
        "IPY_MODEL_c20c215de43a4f09a667f1d007857e2a"
       ],
       "layout": "IPY_MODEL_e29b1f97b3314c61be127cb9e9e430b7"
      }
     },
     "713449fe281d40e4b57c49176eb74381": {
      "model_module": "@jupyter-widgets/controls",
      "model_module_version": "2.0.0",
      "model_name": "TextStyleModel",
      "state": {
       "description_width": "initial",
       "font_size": null,
       "text_color": null
      }
     },
     "71ecc1930b0042089851d1f090d44131": {
      "model_module": "@jupyter-widgets/base",
      "model_module_version": "2.0.0",
      "model_name": "LayoutModel",
      "state": {}
     },
     "72eb24551ccd4c49ba161773c979c7db": {
      "model_module": "@jupyter-widgets/base",
      "model_module_version": "2.0.0",
      "model_name": "LayoutModel",
      "state": {}
     },
     "730f095e156a4ecc94175ee2e31e5648": {
      "model_module": "@jupyter-widgets/controls",
      "model_module_version": "2.0.0",
      "model_name": "DescriptionStyleModel",
      "state": {
       "description_width": ""
      }
     },
     "7313cf0c457c45789e10ab6c80407c50": {
      "model_module": "@jupyter-widgets/controls",
      "model_module_version": "2.0.0",
      "model_name": "RadioButtonsModel",
      "state": {
       "_options_labels": [
        "DEM (*.tif / *.vrt)",
        "Visualization (*.tif / *.vrt)"
       ],
       "description": "Select input type:",
       "index": 0,
       "layout": "IPY_MODEL_91527290cef64e71b108b4ac8d746af3",
       "style": "IPY_MODEL_fa0a47844fce454a89af7137cc431262"
      }
     },
     "7342694cc75b4f2394ef4634414fbcf2": {
      "model_module": "@jupyter-widgets/base",
      "model_module_version": "2.0.0",
      "model_name": "LayoutModel",
      "state": {}
     },
     "737f32feb07a46e785ec0e4aa7eea000": {
      "model_module": "@jupyter-widgets/controls",
      "model_module_version": "2.0.0",
      "model_name": "TextModel",
      "state": {
       "description": "DEM path:",
       "layout": "IPY_MODEL_9a55fc2e04b74e238f3f8924329c1b93",
       "placeholder": "<my_data_folder/my_DEM_file.tif>",
       "style": "IPY_MODEL_a4448c4b8ee6416c82b456afa19c6561"
      }
     },
     "7437f6aded844f35b76387e64ba6f087": {
      "model_module": "@jupyter-widgets/controls",
      "model_module_version": "2.0.0",
      "model_name": "TextModel",
      "state": {
       "description": "Visualization path:",
       "layout": "IPY_MODEL_4cdeaebe29fa4ddd94d7c169ba6831d6",
       "placeholder": "<my_data_folder/my_visualization_file.tif>",
       "style": "IPY_MODEL_250482d469f04e359a1be29f8e8d81b9"
      }
     },
     "74a2824824014c0b8615f23fda6236b7": {
      "model_module": "@jupyter-widgets/controls",
      "model_module_version": "2.0.0",
      "model_name": "CheckboxModel",
      "state": {
       "description": "Batch processing",
       "disabled": false,
       "indent": false,
       "layout": "IPY_MODEL_163270b10cb4474185ff634631752d59",
       "style": "IPY_MODEL_c4e46f76e18b413babedb7f751013b5b",
       "value": false
      }
     },
     "753e6c392c2042daa6566315f52129e8": {
      "model_module": "@jupyter-widgets/base",
      "model_module_version": "2.0.0",
      "model_name": "LayoutModel",
      "state": {}
     },
     "7584c0dc84274f5e8dfac8cd676714d5": {
      "model_module": "@jupyter-widgets/base",
      "model_module_version": "2.0.0",
      "model_name": "LayoutModel",
      "state": {
       "width": "98%"
      }
     },
     "75e01aaf51ea44688c4928e2d8cdfbaf": {
      "model_module": "@jupyter-widgets/controls",
      "model_module_version": "2.0.0",
      "model_name": "TextModel",
      "state": {
       "description": "Visualization path:",
       "layout": "IPY_MODEL_458036a790924e6d870d7615f3cc8abf",
       "placeholder": "<my_data_folder/my_visualization_file.tif>",
       "style": "IPY_MODEL_e1cf33fed3294116a17d5678aaf4adfd"
      }
     },
     "760c28e45c4c422584b1a5943829329b": {
      "model_module": "@jupyter-widgets/controls",
      "model_module_version": "2.0.0",
      "model_name": "TextModel",
      "state": {
       "description": "DEM path:",
       "layout": "IPY_MODEL_84a123c436554c5bad29e2965e8f0377",
       "placeholder": "<my_data_folder/my_DEM_file.tif>",
       "style": "IPY_MODEL_4a648f0ab9a741768465075b0e628cd1"
      }
     },
     "7620dd1a67244d3783eecf035cc55335": {
      "model_module": "@jupyter-widgets/controls",
      "model_module_version": "2.0.0",
      "model_name": "HBoxModel",
      "state": {
       "children": [
        "IPY_MODEL_b4cf1bed28a34ac5bef53b28f91e47b1",
        "IPY_MODEL_556287ee8f014a1abccceafbeac829c6"
       ],
       "layout": "IPY_MODEL_920f1136a6af4a8a8ad32f88815fc6cb"
      }
     },
     "767a6a1e2f02417190d60536f31651a3": {
      "model_module": "@jupyter-widgets/controls",
      "model_module_version": "2.0.0",
      "model_name": "TextModel",
      "state": {
       "description": "Visualization path:",
       "disabled": true,
       "layout": "IPY_MODEL_377fcb7949484269880de7828f3099e5",
       "placeholder": "<my_data_folder/my_visualization_file.tif>",
       "style": "IPY_MODEL_625e8d68206c4fc59ccf4bb50681c66e"
      }
     },
     "76c7f4f475224f08a0a4c4e314ea8b47": {
      "model_module": "@jupyter-widgets/output",
      "model_module_version": "1.0.0",
      "model_name": "OutputModel",
      "state": {
       "layout": "IPY_MODEL_101c992182d446a392fe11ab12d6d174",
       "outputs": [
        {
         "name": "stdout",
         "output_type": "stream",
         "text": "{'name': '_property_lock', 'old': {'index': 1}, 'new': {}, 'owner': RadioButtons(description='Select input type:', index=1, options=('DEM (*.tif / *.vrt)', 'Visualization (*.tif / *.vrt)'), value='Visualization (*.tif / *.vrt)'), 'type': 'change'}\n"
        }
       ]
      }
     },
     "76d9472eb1e34666bb515eb0499adee3": {
      "model_module": "@jupyter-widgets/base",
      "model_module_version": "2.0.0",
      "model_name": "LayoutModel",
      "state": {}
     },
     "779e9ed5a9af4e6da3cf2b0a94b62b27": {
      "model_module": "@jupyter-widgets/base",
      "model_module_version": "2.0.0",
      "model_name": "LayoutModel",
      "state": {
       "width": "98%"
      }
     },
     "77a2ea76245c4f91825200adf007aa75": {
      "model_module": "@jupyter-widgets/controls",
      "model_module_version": "2.0.0",
      "model_name": "TextModel",
      "state": {
       "description": "DEM path:",
       "layout": "IPY_MODEL_856ee6a2ba3a4c04bd4b399be38c60aa",
       "placeholder": "<my_data_folder/my_DEM_file.tif>",
       "style": "IPY_MODEL_251d58b7dd0946eb8d1b65fc92daef38"
      }
     },
     "785b26c657ad4ca69d03968aebdaaf10": {
      "model_module": "@jupyter-widgets/base",
      "model_module_version": "2.0.0",
      "model_name": "LayoutModel",
      "state": {}
     },
     "7876c56ae42f4f518ef926d0c42a5127": {
      "model_module": "@jupyter-widgets/base",
      "model_module_version": "2.0.0",
      "model_name": "LayoutModel",
      "state": {}
     },
     "78cb8c12279448cb8f38593d7f9241f4": {
      "model_module": "@jupyter-widgets/base",
      "model_module_version": "2.0.0",
      "model_name": "LayoutModel",
      "state": {}
     },
     "79f0ce6754924a36aa7c78a995980108": {
      "model_module": "@jupyter-widgets/base",
      "model_module_version": "2.0.0",
      "model_name": "LayoutModel",
      "state": {}
     },
     "7a04b17b774b48528949adf3e8cc94d8": {
      "model_module": "@jupyter-widgets/controls",
      "model_module_version": "2.0.0",
      "model_name": "CheckboxStyleModel",
      "state": {
       "description_width": ""
      }
     },
     "7ba823e82b8d4bf6b61bd48f5c2e8c7c": {
      "model_module": "@jupyter-widgets/base",
      "model_module_version": "2.0.0",
      "model_name": "LayoutModel",
      "state": {}
     },
     "7cf17fd5aece44fbaed65b8851657d60": {
      "model_module": "@jupyter-widgets/controls",
      "model_module_version": "2.0.0",
      "model_name": "TextStyleModel",
      "state": {
       "description_width": "initial",
       "font_size": null,
       "text_color": null
      }
     },
     "7d2412b81f114d988252ea758ccf0755": {
      "model_module": "@jupyter-widgets/base",
      "model_module_version": "2.0.0",
      "model_name": "LayoutModel",
      "state": {}
     },
     "7d316ae4c6f346d081876634c95fb649": {
      "model_module": "@jupyter-widgets/controls",
      "model_module_version": "2.0.0",
      "model_name": "TextModel",
      "state": {
       "description": "Visualization path:",
       "disabled": true,
       "layout": "IPY_MODEL_6048e59fe8b647348ec14ade690f3c9a",
       "placeholder": "<my_data_folder/my_visualization_file.tif>",
       "style": "IPY_MODEL_f364c5c263424fbba06c4f527218d789"
      }
     },
     "7d6e9835c29842c1826d448f677e46ec": {
      "model_module": "@jupyter-widgets/base",
      "model_module_version": "2.0.0",
      "model_name": "LayoutModel",
      "state": {}
     },
     "7d829207ea9f4f968147c1634e97281a": {
      "model_module": "@jupyter-widgets/output",
      "model_module_version": "1.0.0",
      "model_name": "OutputModel",
      "state": {
       "layout": "IPY_MODEL_02362c11aec044afb9255477ff7b1bcc",
       "outputs": [
        {
         "data": {
          "application/vnd.jupyter.widget-view+json": {
           "model_id": "d5fa898112334f0b8653e9fb812f6221",
           "version_major": 2,
           "version_minor": 0
          },
          "text/plain": "Text(value='', description='DEM path:', layout=Layout(width='98%'), placeholder='<my_data_folder/my_DEM_file.t…"
         },
         "metadata": {},
         "output_type": "display_data"
        }
       ]
      }
     },
     "7e3f0fef3a0a443a9381f4a9cba3a52d": {
      "model_module": "@jupyter-widgets/controls",
      "model_module_version": "2.0.0",
      "model_name": "TextStyleModel",
      "state": {
       "description_width": "initial",
       "font_size": null,
       "text_color": null
      }
     },
     "7ebcd84ba99045dfa22d04d004fad3a9": {
      "model_module": "@jupyter-widgets/output",
      "model_module_version": "1.0.0",
      "model_name": "OutputModel",
      "state": {
       "layout": "IPY_MODEL_dccdbeded0434eafa09771cf8d3b1f33",
       "outputs": [
        {
         "data": {
          "application/vnd.jupyter.widget-view+json": {
           "model_id": "607e60a6e8b34dbab067280f82b82fd7",
           "version_major": 2,
           "version_minor": 0
          },
          "text/plain": "Text(value='', description='DEM path:', layout=Layout(width='98%'), placeholder='<my_data_folder/my_DEM_file.t…"
         },
         "metadata": {},
         "output_type": "display_data"
        }
       ]
      }
     },
     "7ebf79cbd0ea409283fe6f4bf18ed058": {
      "model_module": "@jupyter-widgets/base",
      "model_module_version": "2.0.0",
      "model_name": "LayoutModel",
      "state": {
       "width": "98%"
      }
     },
     "7f44911676134768a4f3167a0ac6802b": {
      "model_module": "@jupyter-widgets/base",
      "model_module_version": "2.0.0",
      "model_name": "LayoutModel",
      "state": {}
     },
     "7f69739256224b2fb9aa6731d833b20b": {
      "model_module": "@jupyter-widgets/controls",
      "model_module_version": "2.0.0",
      "model_name": "HBoxModel",
      "state": {
       "children": [
        "IPY_MODEL_57d54aa3b46d44128c38edb1964c9c2d",
        "IPY_MODEL_1485832e1d7d4739a84ba5f85db0f786"
       ],
       "layout": "IPY_MODEL_5baa812e3e2f421f92f3dcc239957748"
      }
     },
     "805decd6862440a99d5cb7c18d8f3efd": {
      "model_module": "@jupyter-widgets/base",
      "model_module_version": "2.0.0",
      "model_name": "LayoutModel",
      "state": {
       "border_bottom": "1px solid black",
       "border_left": "1px solid black",
       "border_right": "1px solid black",
       "border_top": "1px solid black"
      }
     },
     "8121d5242410449e81d0a10daac592e6": {
      "model_module": "@jupyter-widgets/controls",
      "model_module_version": "2.0.0",
      "model_name": "TextStyleModel",
      "state": {
       "description_width": "initial",
       "font_size": null,
       "text_color": null
      }
     },
     "81362dc0486a4d37944bdce53b0241eb": {
      "model_module": "@jupyter-widgets/output",
      "model_module_version": "1.0.0",
      "model_name": "OutputModel",
      "state": {
       "layout": "IPY_MODEL_e2001ef4d6f4460499cf4aa8976edbe0"
      }
     },
     "8158459d54af421fa711702c485e1038": {
      "model_module": "@jupyter-widgets/base",
      "model_module_version": "2.0.0",
      "model_name": "LayoutModel",
      "state": {
       "width": "98%"
      }
     },
     "8270439ede804cfc85e6be1c772acf78": {
      "model_module": "@jupyter-widgets/controls",
      "model_module_version": "2.0.0",
      "model_name": "DescriptionStyleModel",
      "state": {
       "description_width": ""
      }
     },
     "82e2034abd6a4013ae3ee6b297b484f8": {
      "model_module": "@jupyter-widgets/controls",
      "model_module_version": "2.0.0",
      "model_name": "CheckboxStyleModel",
      "state": {
       "description_width": ""
      }
     },
     "82ed95a237964341b8b0b4d3afafc616": {
      "model_module": "@jupyter-widgets/controls",
      "model_module_version": "2.0.0",
      "model_name": "TextModel",
      "state": {
       "description": "Visualization path:",
       "disabled": true,
       "layout": "IPY_MODEL_7ebf79cbd0ea409283fe6f4bf18ed058",
       "placeholder": "<my_data_folder/my_visualization_file.tif>",
       "style": "IPY_MODEL_861b28036e2a4f228b032a7ba7757df3"
      }
     },
     "8407cad969694546b136e0c134bd4b2e": {
      "model_module": "@jupyter-widgets/controls",
      "model_module_version": "2.0.0",
      "model_name": "TextModel",
      "state": {
       "description": "Visualization path:",
       "disabled": true,
       "layout": "IPY_MODEL_fa6c2252c41641e0969e909f32da8e2f",
       "placeholder": "<my_data_folder/my_visualization_file.tif>",
       "style": "IPY_MODEL_fc7f92eea99345f288faed27be1b7275"
      }
     },
     "840ad7d9ebbc4338b8713f0f88bc26c2": {
      "model_module": "@jupyter-widgets/base",
      "model_module_version": "2.0.0",
      "model_name": "LayoutModel",
      "state": {}
     },
     "84a123c436554c5bad29e2965e8f0377": {
      "model_module": "@jupyter-widgets/base",
      "model_module_version": "2.0.0",
      "model_name": "LayoutModel",
      "state": {
       "width": "98%"
      }
     },
     "856ee6a2ba3a4c04bd4b399be38c60aa": {
      "model_module": "@jupyter-widgets/base",
      "model_module_version": "2.0.0",
      "model_name": "LayoutModel",
      "state": {
       "width": "98%"
      }
     },
     "85d078d93c60407881a0ac8c871f09af": {
      "model_module": "@jupyter-widgets/controls",
      "model_module_version": "2.0.0",
      "model_name": "TextModel",
      "state": {
       "description": "DEM path:",
       "disabled": true,
       "layout": "IPY_MODEL_fde890d03b764dc9aded3de128b9b556",
       "placeholder": "<my_data_folder/my_DEM_file.tif>",
       "style": "IPY_MODEL_bc68da6982f54f89a02bfd7776066e7a"
      }
     },
     "861b28036e2a4f228b032a7ba7757df3": {
      "model_module": "@jupyter-widgets/controls",
      "model_module_version": "2.0.0",
      "model_name": "TextStyleModel",
      "state": {
       "description_width": "initial",
       "font_size": null,
       "text_color": null
      }
     },
     "8710473a16314ed584781861a9747cad": {
      "model_module": "@jupyter-widgets/base",
      "model_module_version": "2.0.0",
      "model_name": "LayoutModel",
      "state": {}
     },
     "8859ac07a7cd4eda93d9226e1faf1ef1": {
      "model_module": "@jupyter-widgets/controls",
      "model_module_version": "2.0.0",
      "model_name": "CheckboxStyleModel",
      "state": {
       "description_width": ""
      }
     },
     "88bfc6b0aa194406a6e1cc7da9b6bcb2": {
      "model_module": "@jupyter-widgets/base",
      "model_module_version": "2.0.0",
      "model_name": "LayoutModel",
      "state": {}
     },
     "88c46e43670f4400979643e3a0fe89f7": {
      "model_module": "@jupyter-widgets/output",
      "model_module_version": "1.0.0",
      "model_name": "OutputModel",
      "state": {
       "layout": "IPY_MODEL_3d8b22f9d07e4a46b42f66cf37851666",
       "outputs": [
        {
         "data": {
          "application/vnd.jupyter.widget-view+json": {
           "model_id": "e226286b75874c758608ae80e19fc221",
           "version_major": 2,
           "version_minor": 0
          },
          "text/plain": "Text(value='', description='DEM path:', layout=Layout(width='98%'), placeholder='<my_data_folder/my_DEM_file.t…"
         },
         "metadata": {},
         "output_type": "display_data"
        }
       ]
      }
     },
     "88cab838a8534253bce53b4110a65d9e": {
      "model_module": "@jupyter-widgets/controls",
      "model_module_version": "2.0.0",
      "model_name": "TextStyleModel",
      "state": {
       "description_width": "initial",
       "font_size": null,
       "text_color": null
      }
     },
     "88d188b3ba6a4499b6cfb047fa240bb4": {
      "model_module": "@jupyter-widgets/base",
      "model_module_version": "2.0.0",
      "model_name": "LayoutModel",
      "state": {
       "border_bottom": "1px solid black",
       "border_left": "1px solid black",
       "border_right": "1px solid black",
       "border_top": "1px solid black"
      }
     },
     "8990c1148e974cf989ebddc12cc753bd": {
      "model_module": "@jupyter-widgets/controls",
      "model_module_version": "2.0.0",
      "model_name": "CheckboxModel",
      "state": {
       "description": "Batch processing",
       "disabled": false,
       "indent": false,
       "layout": "IPY_MODEL_eb7f2ce9d5e648899c9048806b567445",
       "style": "IPY_MODEL_316aec10bb2646a09b979ab695cd7689",
       "value": false
      }
     },
     "8ac74fa6fc7b412abf6cf5b4d7095bfc": {
      "model_module": "@jupyter-widgets/base",
      "model_module_version": "2.0.0",
      "model_name": "LayoutModel",
      "state": {}
     },
     "8b5b4ab88f734a35aed3e85721d7929b": {
      "model_module": "@jupyter-widgets/controls",
      "model_module_version": "2.0.0",
      "model_name": "HBoxModel",
      "state": {
       "children": [
        "IPY_MODEL_98ee70e3279f4d02a115ef0d6f33d80b",
        "IPY_MODEL_378154f9b9c640bb8c87c1b9685a212f"
       ],
       "layout": "IPY_MODEL_6bb1a90699524c79bd07c691389d6a92"
      }
     },
     "8b72919163dd4775893a3031bf3e22d7": {
      "model_module": "@jupyter-widgets/controls",
      "model_module_version": "2.0.0",
      "model_name": "HBoxModel",
      "state": {
       "children": [
        "IPY_MODEL_7313cf0c457c45789e10ab6c80407c50",
        "IPY_MODEL_578f871b7ada4dbcb4a477444e9937a5"
       ],
       "layout": "IPY_MODEL_4f9658b12daa49f28c9437dbf4c7c727"
      }
     },
     "8c31499618fe47b59ee05a75e02f42e2": {
      "model_module": "@jupyter-widgets/base",
      "model_module_version": "2.0.0",
      "model_name": "LayoutModel",
      "state": {}
     },
     "8c7e11ce995443c2b244f893cc9a6ca0": {
      "model_module": "@jupyter-widgets/base",
      "model_module_version": "2.0.0",
      "model_name": "LayoutModel",
      "state": {}
     },
     "8cc4a7b46f7a4899a432f5a2a2cf94eb": {
      "model_module": "@jupyter-widgets/controls",
      "model_module_version": "2.0.0",
      "model_name": "CheckboxStyleModel",
      "state": {
       "description_width": ""
      }
     },
     "8cd2ed71cba744feaec8a4985661f4b6": {
      "model_module": "@jupyter-widgets/base",
      "model_module_version": "2.0.0",
      "model_name": "LayoutModel",
      "state": {}
     },
     "8d5de7a2a86e476ba4ae70cc7c10d7a7": {
      "model_module": "@jupyter-widgets/base",
      "model_module_version": "2.0.0",
      "model_name": "LayoutModel",
      "state": {}
     },
     "8da9b405ba984a5489e4a6df78982ee7": {
      "model_module": "@jupyter-widgets/controls",
      "model_module_version": "2.0.0",
      "model_name": "HBoxModel",
      "state": {
       "children": [
        "IPY_MODEL_f85409cf3a944ffda8ba531611ea688c",
        "IPY_MODEL_c94f9feb2bc3410689d6a928ac9f1ad6"
       ],
       "layout": "IPY_MODEL_f999d4d094394f329a453de5e76c59ae"
      }
     },
     "8ea80d088dd040c3b35c74d23692982c": {
      "model_module": "@jupyter-widgets/base",
      "model_module_version": "2.0.0",
      "model_name": "LayoutModel",
      "state": {}
     },
     "8ebcece5154e4058b488761096109584": {
      "model_module": "@jupyter-widgets/output",
      "model_module_version": "1.0.0",
      "model_name": "OutputModel",
      "state": {
       "layout": "IPY_MODEL_8c7e11ce995443c2b244f893cc9a6ca0"
      }
     },
     "8f0155b7182c4747aad0dbdf9c67a22d": {
      "model_module": "@jupyter-widgets/controls",
      "model_module_version": "2.0.0",
      "model_name": "TextModel",
      "state": {
       "description": "Visualization path:",
       "disabled": true,
       "layout": "IPY_MODEL_0cd5abb60608498f87db0cc28800bf40",
       "placeholder": "<my_data_folder/my_visualization_file.tif>",
       "style": "IPY_MODEL_637e33471d084a64a7142da716b1c080"
      }
     },
     "904b48ec54364e9c886f5e41787188fe": {
      "model_module": "@jupyter-widgets/base",
      "model_module_version": "2.0.0",
      "model_name": "LayoutModel",
      "state": {}
     },
     "906966855fa8476199bb461d69fbe711": {
      "model_module": "@jupyter-widgets/controls",
      "model_module_version": "2.0.0",
      "model_name": "TextModel",
      "state": {
       "description": "Visualization path:",
       "disabled": true,
       "layout": "IPY_MODEL_4e271f418294495db9afbcad02460d01",
       "placeholder": "<my_data_folder/my_visualization_file.tif>",
       "style": "IPY_MODEL_a01e937369ac4792aaad32ec05ac9d13"
      }
     },
     "90a5bf55a363438386edef32d823e823": {
      "model_module": "@jupyter-widgets/base",
      "model_module_version": "2.0.0",
      "model_name": "LayoutModel",
      "state": {}
     },
     "91527290cef64e71b108b4ac8d746af3": {
      "model_module": "@jupyter-widgets/base",
      "model_module_version": "2.0.0",
      "model_name": "LayoutModel",
      "state": {}
     },
     "91f84d4e84ad4e049d3595ae2f83a759": {
      "model_module": "@jupyter-widgets/base",
      "model_module_version": "2.0.0",
      "model_name": "LayoutModel",
      "state": {}
     },
     "920f1136a6af4a8a8ad32f88815fc6cb": {
      "model_module": "@jupyter-widgets/base",
      "model_module_version": "2.0.0",
      "model_name": "LayoutModel",
      "state": {}
     },
     "92cbec75a86b42fa970444f00025a013": {
      "model_module": "@jupyter-widgets/controls",
      "model_module_version": "2.0.0",
      "model_name": "RadioButtonsModel",
      "state": {
       "_options_labels": [
        "DEM (*.tif / *.vrt)",
        "Visualization (*.tif / *.vrt)"
       ],
       "description": "Select input type:",
       "index": 1,
       "layout": "IPY_MODEL_79f0ce6754924a36aa7c78a995980108",
       "style": "IPY_MODEL_730f095e156a4ecc94175ee2e31e5648"
      }
     },
     "92d580b564994601be96cd0ade81428f": {
      "model_module": "@jupyter-widgets/controls",
      "model_module_version": "2.0.0",
      "model_name": "DescriptionStyleModel",
      "state": {
       "description_width": ""
      }
     },
     "932e5e87baea44959707d7df975babb6": {
      "model_module": "@jupyter-widgets/controls",
      "model_module_version": "2.0.0",
      "model_name": "TextStyleModel",
      "state": {
       "description_width": "initial",
       "font_size": null,
       "text_color": null
      }
     },
     "93b14389a516451db4cdc144c64be1e6": {
      "model_module": "@jupyter-widgets/controls",
      "model_module_version": "2.0.0",
      "model_name": "DescriptionStyleModel",
      "state": {
       "description_width": ""
      }
     },
     "93b9c63e73bb4487af0550a0f3aa4cd5": {
      "model_module": "@jupyter-widgets/controls",
      "model_module_version": "2.0.0",
      "model_name": "TextStyleModel",
      "state": {
       "description_width": "initial",
       "font_size": null,
       "text_color": null
      }
     },
     "9406cc6a3cc642f5892c6de8d6517d24": {
      "model_module": "@jupyter-widgets/base",
      "model_module_version": "2.0.0",
      "model_name": "LayoutModel",
      "state": {
       "width": "98%"
      }
     },
     "94c5c5b1067c48fba43ef12d7b136ddb": {
      "model_module": "@jupyter-widgets/base",
      "model_module_version": "2.0.0",
      "model_name": "LayoutModel",
      "state": {}
     },
     "951eaa1c84b34658bed72d09e33021e5": {
      "model_module": "@jupyter-widgets/output",
      "model_module_version": "1.0.0",
      "model_name": "OutputModel",
      "state": {
       "layout": "IPY_MODEL_a84a39663e2b4702878f61cea394a637",
       "outputs": [
        {
         "name": "stdout",
         "output_type": "stream",
         "text": "{'name': 'index', 'old': 1, 'new': 0, 'owner': RadioButtons(description='Select input type:', options=('DEM (*.tif / *.vrt)', 'Visualization (*.tif / *.vrt)'), value='DEM (*.tif / *.vrt)'), 'type': 'change'}\n"
        }
       ]
      }
     },
     "95267b5cb00d4a3f92746b9e5cb93358": {
      "model_module": "@jupyter-widgets/controls",
      "model_module_version": "2.0.0",
      "model_name": "TextModel",
      "state": {
       "description": "DEM path [*.tif / *.vrt]:",
       "layout": "IPY_MODEL_06c784a2f99a43879e8af3b5cda90eab",
       "placeholder": "data_folder/file.tif",
       "style": "IPY_MODEL_98195b99f04841fcae71f525249e05b2"
      }
     },
     "957576311b0046c688118c2d56d3e7dc": {
      "model_module": "@jupyter-widgets/base",
      "model_module_version": "2.0.0",
      "model_name": "LayoutModel",
      "state": {}
     },
     "9597290150e5403bb289291a1e08fde3": {
      "model_module": "@jupyter-widgets/controls",
      "model_module_version": "2.0.0",
      "model_name": "RadioButtonsModel",
      "state": {
       "_options_labels": [
        "DEM (*.tif / *.vrt)",
        "Visualization (*.tif / *.vrt)"
       ],
       "description": "Select input type:",
       "index": 1,
       "layout": "IPY_MODEL_0f01629996224016ba1adb7dd8733137",
       "style": "IPY_MODEL_35c7d0060b4d41f398c010f45a2375ec"
      }
     },
     "96c26a2da1714365a63a032a85e0771f": {
      "model_module": "@jupyter-widgets/base",
      "model_module_version": "2.0.0",
      "model_name": "LayoutModel",
      "state": {
       "width": "98%"
      }
     },
     "972dec6753b74cd2b959e4512db9eddf": {
      "model_module": "@jupyter-widgets/controls",
      "model_module_version": "2.0.0",
      "model_name": "RadioButtonsModel",
      "state": {
       "_options_labels": [
        "DEM (*.tif / *.vrt)",
        "Visualization (*.tif / *.vrt)"
       ],
       "description": "Select input type:",
       "index": 1,
       "layout": "IPY_MODEL_ac9aad4f9d7a4187afcd692120696fbf",
       "style": "IPY_MODEL_dcef62b6699548d2a165efd948a230f7"
      }
     },
     "9815f117b87645e39549c0a58a427d30": {
      "model_module": "@jupyter-widgets/controls",
      "model_module_version": "2.0.0",
      "model_name": "RadioButtonsModel",
      "state": {
       "_options_labels": [
        "DEM (*.tif / *.vrt)",
        "Visualization (*.tif / *.vrt)"
       ],
       "description": "Select input type:",
       "index": 0,
       "layout": "IPY_MODEL_7ba823e82b8d4bf6b61bd48f5c2e8c7c",
       "style": "IPY_MODEL_0899471a4e26407a92028a566bd76008"
      }
     },
     "98195b99f04841fcae71f525249e05b2": {
      "model_module": "@jupyter-widgets/controls",
      "model_module_version": "2.0.0",
      "model_name": "TextStyleModel",
      "state": {
       "description_width": "initial",
       "font_size": null,
       "text_color": null
      }
     },
     "9898b525f1c74498a110b2af4fb543e0": {
      "model_module": "@jupyter-widgets/controls",
      "model_module_version": "2.0.0",
      "model_name": "HBoxModel",
      "state": {
       "children": [
        "IPY_MODEL_bb480fda72bf40be8fd9289e02f81c80",
        "IPY_MODEL_c0654376a941401d8b94893e8062dcfc"
       ],
       "layout": "IPY_MODEL_187ae584101e4ce69e0920578e1becd2"
      }
     },
     "98ee70e3279f4d02a115ef0d6f33d80b": {
      "model_module": "@jupyter-widgets/controls",
      "model_module_version": "2.0.0",
      "model_name": "RadioButtonsModel",
      "state": {
       "_options_labels": [
        "DEM (*.tif / *.vrt)",
        "Visualization (*.tif / *.vrt)"
       ],
       "description": "Select input type:",
       "index": 1,
       "layout": "IPY_MODEL_ad341e7589654d04a414de5254d3ffad",
       "style": "IPY_MODEL_92d580b564994601be96cd0ade81428f"
      }
     },
     "9951589384e644a9a051f6cb829d8bf0": {
      "model_module": "@jupyter-widgets/controls",
      "model_module_version": "2.0.0",
      "model_name": "CheckboxModel",
      "state": {
       "description": "Batch processing",
       "disabled": false,
       "indent": false,
       "layout": "IPY_MODEL_30f429a9e81c482e8fd18fb168a88f97",
       "style": "IPY_MODEL_0290210b1d0145c99684690a7cb96e95",
       "value": true
      }
     },
     "99bef9ca65954764a42b7439b4c6eb78": {
      "model_module": "@jupyter-widgets/controls",
      "model_module_version": "2.0.0",
      "model_name": "TextStyleModel",
      "state": {
       "description_width": "initial",
       "font_size": null,
       "text_color": null
      }
     },
     "9a55fc2e04b74e238f3f8924329c1b93": {
      "model_module": "@jupyter-widgets/base",
      "model_module_version": "2.0.0",
      "model_name": "LayoutModel",
      "state": {
       "width": "98%"
      }
     },
     "9acf419e7ec7444ca140d8d4a7056345": {
      "model_module": "@jupyter-widgets/controls",
      "model_module_version": "2.0.0",
      "model_name": "TextStyleModel",
      "state": {
       "description_width": "initial",
       "font_size": null,
       "text_color": null
      }
     },
     "9ae13c1801944e4abc1840c89473bb8d": {
      "model_module": "@jupyter-widgets/base",
      "model_module_version": "2.0.0",
      "model_name": "LayoutModel",
      "state": {}
     },
     "9bf580c5565045c7860effb2ae20d07e": {
      "model_module": "@jupyter-widgets/controls",
      "model_module_version": "2.0.0",
      "model_name": "TextStyleModel",
      "state": {
       "description_width": "",
       "font_size": null,
       "text_color": null
      }
     },
     "9cf76ca3ba5943998fd3794210ee35ca": {
      "model_module": "@jupyter-widgets/controls",
      "model_module_version": "2.0.0",
      "model_name": "VBoxModel",
      "state": {
       "_dom_classes": [
        "widget-interact"
       ],
       "children": [
        "IPY_MODEL_46fd485a7de1452ab470087e1f029869",
        "IPY_MODEL_d0ae449018b24ceba9640b09c0b7e5ba"
       ],
       "layout": "IPY_MODEL_e9d8eb1baf1e40dab236a1b5ffa58732"
      }
     },
     "9e2ea8c327504cc187b2fa8f9f5dbc8e": {
      "model_module": "@jupyter-widgets/base",
      "model_module_version": "2.0.0",
      "model_name": "LayoutModel",
      "state": {
       "width": "98%"
      }
     },
     "9e332bb0d8c64a8192e358ccdb627bd0": {
      "model_module": "@jupyter-widgets/output",
      "model_module_version": "1.0.0",
      "model_name": "OutputModel",
      "state": {
       "layout": "IPY_MODEL_ed38ba71acc0445f89e01e41379afd89",
       "outputs": [
        {
         "name": "stdout",
         "output_type": "stream",
         "text": "{'name': '_property_lock', 'old': {'value': True}, 'new': {}, 'owner': Checkbox(value=True, description='Batch processing', indent=False), 'type': 'change'}\n"
        }
       ]
      }
     },
     "9e69add4625248918c76f6c982675dfd": {
      "model_module": "@jupyter-widgets/controls",
      "model_module_version": "2.0.0",
      "model_name": "TextStyleModel",
      "state": {
       "description_width": "initial",
       "font_size": null,
       "text_color": null
      }
     },
     "9e8bd76713764451b3129f824ebcc6cb": {
      "model_module": "@jupyter-widgets/base",
      "model_module_version": "2.0.0",
      "model_name": "LayoutModel",
      "state": {
       "width": "98%"
      }
     },
     "9f1cee2e6a274e5e802404fa415a15a7": {
      "model_module": "@jupyter-widgets/controls",
      "model_module_version": "2.0.0",
      "model_name": "HBoxModel",
      "state": {
       "children": [
        "IPY_MODEL_d52e8e0ff3b24bd9a183c928d483d448",
        "IPY_MODEL_bd5853988c7e45d5843fe91e6002b13e"
       ],
       "layout": "IPY_MODEL_dd9a65422b434ba6979c677b84eb1c4a"
      }
     },
     "9ff95069d1a44a7392b7669f6c93501d": {
      "model_module": "@jupyter-widgets/controls",
      "model_module_version": "2.0.0",
      "model_name": "TextModel",
      "state": {
       "description": "Visualization path:",
       "disabled": true,
       "layout": "IPY_MODEL_a6ab5654ed2546bfb420acb95aacd89a",
       "placeholder": "<my_data_folder/my_visualization_file.tif>",
       "style": "IPY_MODEL_4b87337a09bd4dd1aef49e21b79bf19e"
      }
     },
     "a01e937369ac4792aaad32ec05ac9d13": {
      "model_module": "@jupyter-widgets/controls",
      "model_module_version": "2.0.0",
      "model_name": "TextStyleModel",
      "state": {
       "description_width": "initial",
       "font_size": null,
       "text_color": null
      }
     },
     "a05a709fbb6b45bd95ac27a8fd8fddc0": {
      "model_module": "@jupyter-widgets/controls",
      "model_module_version": "2.0.0",
      "model_name": "TextStyleModel",
      "state": {
       "description_width": "initial",
       "font_size": null,
       "text_color": null
      }
     },
     "a07e886396b04c38955f886a616af807": {
      "model_module": "@jupyter-widgets/controls",
      "model_module_version": "2.0.0",
      "model_name": "CheckboxModel",
      "state": {
       "description": "Batch processing",
       "disabled": false,
       "indent": false,
       "layout": "IPY_MODEL_8710473a16314ed584781861a9747cad",
       "style": "IPY_MODEL_62ad4810dd5c4e18af8d97c437f16526",
       "value": false
      }
     },
     "a12e1d530a044612905a932df47aa24f": {
      "model_module": "@jupyter-widgets/controls",
      "model_module_version": "2.0.0",
      "model_name": "TextModel",
      "state": {
       "description": "DEM path:",
       "layout": "IPY_MODEL_1a18bc4bfd424854a4686561688d68d9",
       "placeholder": "<my_data_folder/my_DEM_file.tif>",
       "style": "IPY_MODEL_46e46865f91046d58ba01aa719d5aa95"
      }
     },
     "a16202d4571840f4b454b6880afe42e0": {
      "model_module": "@jupyter-widgets/output",
      "model_module_version": "1.0.0",
      "model_name": "OutputModel",
      "state": {
       "layout": "IPY_MODEL_54f7fdc0110941e0a7048812024119a9",
       "outputs": [
        {
         "data": {
          "application/vnd.jupyter.widget-view+json": {
           "model_id": "e6d3fd3512cb44cf85701887bc081294",
           "version_major": 2,
           "version_minor": 0
          },
          "text/plain": "Text(value='', description='DEM path:', layout=Layout(width='98%'), placeholder='<my_data_folder/my_DEM_file.t…"
         },
         "metadata": {},
         "output_type": "display_data"
        }
       ]
      }
     },
     "a1da96de02e848808736acc3887abe7b": {
      "model_module": "@jupyter-widgets/controls",
      "model_module_version": "2.0.0",
      "model_name": "TextModel",
      "state": {
       "description": "Visualization path:",
       "disabled": true,
       "layout": "IPY_MODEL_bf8de1c6b8fc408ab506d792cbdce36b",
       "placeholder": "<my_data_folder/my_visualization_file.tif>",
       "style": "IPY_MODEL_d4362af6e96e4a229b44dfcb50ea6812"
      }
     },
     "a1fc9f46b94944e489000f895558ec69": {
      "model_module": "@jupyter-widgets/controls",
      "model_module_version": "2.0.0",
      "model_name": "CheckboxStyleModel",
      "state": {
       "description_width": ""
      }
     },
     "a24b78ddbf2c4cb19608950246d35136": {
      "model_module": "@jupyter-widgets/controls",
      "model_module_version": "2.0.0",
      "model_name": "TextStyleModel",
      "state": {
       "description_width": "initial",
       "font_size": null,
       "text_color": null
      }
     },
     "a26ef1faff0e4380a06ef5b1eb14e737": {
      "model_module": "@jupyter-widgets/controls",
      "model_module_version": "2.0.0",
      "model_name": "TextModel",
      "state": {
       "description": "DEM path:",
       "layout": "IPY_MODEL_1e4c7420f2264f1d98d19f7d81ac5305",
       "placeholder": "<my_data_folder/my_DEM_file.tif>",
       "style": "IPY_MODEL_ebc9f316db5b42d6bcac6efc58976521"
      }
     },
     "a2cfbee8d7c343d49e98c8dcd032043e": {
      "model_module": "@jupyter-widgets/controls",
      "model_module_version": "2.0.0",
      "model_name": "HBoxModel",
      "state": {
       "children": [
        "IPY_MODEL_4b2d24cdbf574e9ebbab13d2a966cf31",
        "IPY_MODEL_c7f31539b60141bca5fa125352aad283"
       ],
       "layout": "IPY_MODEL_8ac74fa6fc7b412abf6cf5b4d7095bfc"
      }
     },
     "a308168b3ff842a68f862cc7f4589d77": {
      "model_module": "@jupyter-widgets/output",
      "model_module_version": "1.0.0",
      "model_name": "OutputModel",
      "state": {
       "layout": "IPY_MODEL_22943ab28e7d425ab96c8b8973902c45"
      }
     },
     "a30fe8dae21b447f9e880fab1bb25f6c": {
      "model_module": "@jupyter-widgets/controls",
      "model_module_version": "2.0.0",
      "model_name": "HBoxModel",
      "state": {
       "children": [
        "IPY_MODEL_62353299e35c4145a4382e6d36f94c44",
        "IPY_MODEL_f48857bcb73c46f582a3ab1d9ae66578"
       ],
       "layout": "IPY_MODEL_753e6c392c2042daa6566315f52129e8"
      }
     },
     "a32c5d72300d4e5bac3dbc979354aabb": {
      "model_module": "@jupyter-widgets/controls",
      "model_module_version": "2.0.0",
      "model_name": "TextStyleModel",
      "state": {
       "description_width": "initial",
       "font_size": null,
       "text_color": null
      }
     },
     "a3475b77b27d4ced8fe4921e545c5c1e": {
      "model_module": "@jupyter-widgets/base",
      "model_module_version": "2.0.0",
      "model_name": "LayoutModel",
      "state": {}
     },
     "a388053063a244e8bfd367783aec2847": {
      "model_module": "@jupyter-widgets/controls",
      "model_module_version": "2.0.0",
      "model_name": "TextStyleModel",
      "state": {
       "description_width": "initial",
       "font_size": null,
       "text_color": null
      }
     },
     "a41b504b48984c899a364186e6e9be3b": {
      "model_module": "@jupyter-widgets/base",
      "model_module_version": "2.0.0",
      "model_name": "LayoutModel",
      "state": {}
     },
     "a4448c4b8ee6416c82b456afa19c6561": {
      "model_module": "@jupyter-widgets/controls",
      "model_module_version": "2.0.0",
      "model_name": "TextStyleModel",
      "state": {
       "description_width": "initial",
       "font_size": null,
       "text_color": null
      }
     },
     "a44a59799e7b4ac99d40bf7fc719ee68": {
      "model_module": "@jupyter-widgets/output",
      "model_module_version": "1.0.0",
      "model_name": "OutputModel",
      "state": {
       "layout": "IPY_MODEL_eb75ba6615ef44e79c6785a9767076fd",
       "outputs": [
        {
         "name": "stdout",
         "output_type": "stream",
         "text": "{'name': 'index', 'old': 0, 'new': 1, 'owner': RadioButtons(description='Select input type:', index=1, options=('DEM (*.tif / *.vrt)', 'Visualization (*.tif / *.vrt)'), value='Visualization (*.tif / *.vrt)'), 'type': 'change'}\n"
        }
       ]
      }
     },
     "a612a15d77624eb69d065f3241c46e61": {
      "model_module": "@jupyter-widgets/controls",
      "model_module_version": "2.0.0",
      "model_name": "CheckboxModel",
      "state": {
       "description": "Batch processing",
       "disabled": false,
       "indent": false,
       "layout": "IPY_MODEL_cfc37b4591ba4563944a802e025519de",
       "style": "IPY_MODEL_fbd87211d4964ba1b08247f39066deaf",
       "value": true
      }
     },
     "a6ab5654ed2546bfb420acb95aacd89a": {
      "model_module": "@jupyter-widgets/base",
      "model_module_version": "2.0.0",
      "model_name": "LayoutModel",
      "state": {
       "width": "98%"
      }
     },
     "a741f9e57d9a49128a944bb15b5fb333": {
      "model_module": "@jupyter-widgets/output",
      "model_module_version": "1.0.0",
      "model_name": "OutputModel",
      "state": {
       "layout": "IPY_MODEL_88d188b3ba6a4499b6cfb047fa240bb4",
       "outputs": [
        {
         "name": "stdout",
         "output_type": "stream",
         "text": "{'name': 'value', 'old': 'Visualization (*.tif / *.vrt)', 'new': 'DEM (*.tif / *.vrt)', 'owner': RadioButtons(description='Select input type:', options=('DEM (*.tif / *.vrt)', 'Visualization (*.tif / *.vrt)'), value='DEM (*.tif / *.vrt)'), 'type': 'change'}\n"
        }
       ]
      }
     },
     "a823f00d936c45cfb29b537d4cb1538f": {
      "model_module": "@jupyter-widgets/controls",
      "model_module_version": "2.0.0",
      "model_name": "HBoxModel",
      "state": {
       "children": [
        "IPY_MODEL_6f4bbc86ff0c4f48b4aade6050560b92",
        "IPY_MODEL_8990c1148e974cf989ebddc12cc753bd"
       ],
       "layout": "IPY_MODEL_dee93016eb284219b7a3571eef7a1a23"
      }
     },
     "a84a39663e2b4702878f61cea394a637": {
      "model_module": "@jupyter-widgets/base",
      "model_module_version": "2.0.0",
      "model_name": "LayoutModel",
      "state": {
       "border_bottom": "1px solid black",
       "border_left": "1px solid black",
       "border_right": "1px solid black",
       "border_top": "1px solid black"
      }
     },
     "a8e75863a29b46d9bec72f90a0d08b6c": {
      "model_module": "@jupyter-widgets/controls",
      "model_module_version": "2.0.0",
      "model_name": "TextModel",
      "state": {
       "description": "Visualization path:",
       "disabled": true,
       "layout": "IPY_MODEL_15398a5430a64a06af5dfec31255f835",
       "placeholder": "<my_data_folder/my_visualization_file.tif>",
       "style": "IPY_MODEL_0abd6adb61e6454da825de5fdf1f4c8d"
      }
     },
     "aa876a03132c4340bd1d8226039e21ca": {
      "model_module": "@jupyter-widgets/base",
      "model_module_version": "2.0.0",
      "model_name": "LayoutModel",
      "state": {}
     },
     "aa9e1b698f1d4e9f965c50c52e8dfaff": {
      "model_module": "@jupyter-widgets/controls",
      "model_module_version": "2.0.0",
      "model_name": "CheckboxModel",
      "state": {
       "description": "Batch processing",
       "disabled": false,
       "indent": false,
       "layout": "IPY_MODEL_59ba23f585674d6a821c5bb25e98b5d3",
       "style": "IPY_MODEL_c39bbad700054780901b9b0a73b7f0c8",
       "value": true
      }
     },
     "aaa4b701f3234f7788fff036a816b94c": {
      "model_module": "@jupyter-widgets/controls",
      "model_module_version": "2.0.0",
      "model_name": "TextModel",
      "state": {
       "description": "Visualization path:",
       "disabled": true,
       "layout": "IPY_MODEL_e5e0fcdc6e3a4f5db9d17d81661e7fdc",
       "placeholder": "<my_data_folder/my_visualization_file.tif>",
       "style": "IPY_MODEL_a24b78ddbf2c4cb19608950246d35136"
      }
     },
     "ab287b204ebd48009fc7686df304efb6": {
      "model_module": "@jupyter-widgets/base",
      "model_module_version": "2.0.0",
      "model_name": "LayoutModel",
      "state": {
       "border_bottom": "1px solid black",
       "border_left": "1px solid black",
       "border_right": "1px solid black",
       "border_top": "1px solid black"
      }
     },
     "ab88ba5030e14fe4ae930aaa3b67ec60": {
      "model_module": "@jupyter-widgets/controls",
      "model_module_version": "2.0.0",
      "model_name": "DescriptionStyleModel",
      "state": {
       "description_width": ""
      }
     },
     "ac0d55de732e4088ab1aaf6000e84de2": {
      "model_module": "@jupyter-widgets/controls",
      "model_module_version": "2.0.0",
      "model_name": "CheckboxStyleModel",
      "state": {
       "description_width": ""
      }
     },
     "ac133173c60643ebbb90e8cadf75b5ab": {
      "model_module": "@jupyter-widgets/base",
      "model_module_version": "2.0.0",
      "model_name": "LayoutModel",
      "state": {}
     },
     "ac33aa573f5b47dba5a21c88a5a758d4": {
      "model_module": "@jupyter-widgets/controls",
      "model_module_version": "2.0.0",
      "model_name": "TextModel",
      "state": {
       "description": "DEM path:",
       "layout": "IPY_MODEL_4449b38e97be44e888dc716184a3f80b",
       "placeholder": "<my_data_folder/my_DEM_file.tif>",
       "style": "IPY_MODEL_713449fe281d40e4b57c49176eb74381"
      }
     },
     "ac5327c3ff9749f7acca70361540e059": {
      "model_module": "@jupyter-widgets/controls",
      "model_module_version": "2.0.0",
      "model_name": "DescriptionStyleModel",
      "state": {
       "description_width": ""
      }
     },
     "ac7ac5aeec2f4bf8ba06d6d8652d497d": {
      "model_module": "@jupyter-widgets/controls",
      "model_module_version": "2.0.0",
      "model_name": "DescriptionStyleModel",
      "state": {
       "description_width": ""
      }
     },
     "ac9aad4f9d7a4187afcd692120696fbf": {
      "model_module": "@jupyter-widgets/base",
      "model_module_version": "2.0.0",
      "model_name": "LayoutModel",
      "state": {}
     },
     "acaa083ef11844dabf60850c14917741": {
      "model_module": "@jupyter-widgets/controls",
      "model_module_version": "2.0.0",
      "model_name": "TextModel",
      "state": {
       "description": "DEM path:",
       "layout": "IPY_MODEL_e044a807bdcb4260bc359755a5bbb280",
       "placeholder": "<my_data_folder/my_DEM_file.tif>",
       "style": "IPY_MODEL_4d4ecfb4515b4088978ac316d5cb1360"
      }
     },
     "ad1c6b31ddeb46dc9eeef9c76cd5b21b": {
      "model_module": "@jupyter-widgets/controls",
      "model_module_version": "2.0.0",
      "model_name": "TextStyleModel",
      "state": {
       "description_width": "initial",
       "font_size": null,
       "text_color": null
      }
     },
     "ad2138ad7e9244dda4a7c61f3ea3659d": {
      "model_module": "@jupyter-widgets/output",
      "model_module_version": "1.0.0",
      "model_name": "OutputModel",
      "state": {
       "layout": "IPY_MODEL_8c31499618fe47b59ee05a75e02f42e2",
       "outputs": [
        {
         "name": "stdout",
         "output_type": "stream",
         "text": "Hello World\n"
        }
       ]
      }
     },
     "ad341e7589654d04a414de5254d3ffad": {
      "model_module": "@jupyter-widgets/base",
      "model_module_version": "2.0.0",
      "model_name": "LayoutModel",
      "state": {}
     },
     "ae5e16199738409bbdb1dc9d49164185": {
      "model_module": "@jupyter-widgets/base",
      "model_module_version": "2.0.0",
      "model_name": "LayoutModel",
      "state": {}
     },
     "ae7a744592fa42d497287b19a78572cb": {
      "model_module": "@jupyter-widgets/controls",
      "model_module_version": "2.0.0",
      "model_name": "HBoxModel",
      "state": {
       "children": [
        "IPY_MODEL_d98f823b33c74f35808a5e9d5243e1d1",
        "IPY_MODEL_9951589384e644a9a051f6cb829d8bf0"
       ],
       "layout": "IPY_MODEL_28e4bedea8ce483a9cdfc6d2a542e572"
      }
     },
     "afe931d2913d407e9115bf31329bd24f": {
      "model_module": "@jupyter-widgets/base",
      "model_module_version": "2.0.0",
      "model_name": "LayoutModel",
      "state": {}
     },
     "b16227c869f448b3a3d3e768ccc57882": {
      "model_module": "@jupyter-widgets/base",
      "model_module_version": "2.0.0",
      "model_name": "LayoutModel",
      "state": {
       "width": "98%"
      }
     },
     "b2983ad9db4b46f3afe1d011a0501d81": {
      "model_module": "@jupyter-widgets/output",
      "model_module_version": "1.0.0",
      "model_name": "OutputModel",
      "state": {
       "layout": "IPY_MODEL_0ff4a895f7dd4e08a4281af9577f4fc5",
       "outputs": [
        {
         "name": "stdout",
         "output_type": "stream",
         "text": "RadioButtons(description='Select input type:', index=1, options=('DEM (*.tif / *.vrt)', 'Visualization (*.tif / *.vrt)'), value='Visualization (*.tif / *.vrt)')\n"
        }
       ]
      }
     },
     "b3d27df9176d4a569e5c76f333f860e1": {
      "model_module": "@jupyter-widgets/base",
      "model_module_version": "2.0.0",
      "model_name": "LayoutModel",
      "state": {
       "width": "98%"
      }
     },
     "b3fb867cf0ba4b3c84b043ba40e59256": {
      "model_module": "@jupyter-widgets/controls",
      "model_module_version": "2.0.0",
      "model_name": "DescriptionStyleModel",
      "state": {
       "description_width": ""
      }
     },
     "b43b4884601a4c638ecc70f4dbf147a6": {
      "model_module": "@jupyter-widgets/base",
      "model_module_version": "2.0.0",
      "model_name": "LayoutModel",
      "state": {
       "width": "98%"
      }
     },
     "b4cf1bed28a34ac5bef53b28f91e47b1": {
      "model_module": "@jupyter-widgets/controls",
      "model_module_version": "2.0.0",
      "model_name": "RadioButtonsModel",
      "state": {
       "_options_labels": [
        "DEM (*.tif / *.vrt)",
        "Visualization (*.tif / *.vrt)"
       ],
       "description": "Select input type:",
       "index": 0,
       "layout": "IPY_MODEL_840ad7d9ebbc4338b8713f0f88bc26c2",
       "style": "IPY_MODEL_b3fb867cf0ba4b3c84b043ba40e59256"
      }
     },
     "b6c86fe29e3b42cba2a74f7c9f49c998": {
      "model_module": "@jupyter-widgets/base",
      "model_module_version": "2.0.0",
      "model_name": "LayoutModel",
      "state": {
       "width": "98%"
      }
     },
     "b759710b125243ca9c0023b534a6fce3": {
      "model_module": "@jupyter-widgets/base",
      "model_module_version": "2.0.0",
      "model_name": "LayoutModel",
      "state": {}
     },
     "b7b93ce349ac452da9f41fb61ec065d5": {
      "model_module": "@jupyter-widgets/base",
      "model_module_version": "2.0.0",
      "model_name": "LayoutModel",
      "state": {
       "border_bottom": "1px solid black",
       "border_left": "1px solid black",
       "border_right": "1px solid black",
       "border_top": "1px solid black"
      }
     },
     "b84cff9b142f4ad0bb96d6d0f935383b": {
      "model_module": "@jupyter-widgets/base",
      "model_module_version": "2.0.0",
      "model_name": "LayoutModel",
      "state": {
       "border_bottom": "1px solid black",
       "border_left": "1px solid black",
       "border_right": "1px solid black",
       "border_top": "1px solid black"
      }
     },
     "b86188016d7f4e53838d6f22a0c4d952": {
      "model_module": "@jupyter-widgets/base",
      "model_module_version": "2.0.0",
      "model_name": "LayoutModel",
      "state": {
       "border_bottom": "1px solid black",
       "border_left": "1px solid black",
       "border_right": "1px solid black",
       "border_top": "1px solid black"
      }
     },
     "b8c9455cef99452194ed9d2eca3b34f2": {
      "model_module": "@jupyter-widgets/base",
      "model_module_version": "2.0.0",
      "model_name": "LayoutModel",
      "state": {}
     },
     "b935656e04c749aa835c645abacf4695": {
      "model_module": "@jupyter-widgets/base",
      "model_module_version": "2.0.0",
      "model_name": "LayoutModel",
      "state": {
       "border_bottom": "1px solid black",
       "border_left": "1px solid black",
       "border_right": "1px solid black",
       "border_top": "1px solid black"
      }
     },
     "b9ac4bb6334b41f089d45b659c5931a8": {
      "model_module": "@jupyter-widgets/base",
      "model_module_version": "2.0.0",
      "model_name": "LayoutModel",
      "state": {}
     },
     "ba16ab7b944e4617851aeb4f7eb26641": {
      "model_module": "@jupyter-widgets/base",
      "model_module_version": "2.0.0",
      "model_name": "LayoutModel",
      "state": {
       "width": "98%"
      }
     },
     "ba449dcba2e5492da459534e0d4f9a69": {
      "model_module": "@jupyter-widgets/output",
      "model_module_version": "1.0.0",
      "model_name": "OutputModel",
      "state": {
       "layout": "IPY_MODEL_235398aee16042c391044a57db2af286",
       "outputs": [
        {
         "name": "stdout",
         "output_type": "stream",
         "text": "{'name': '_property_lock', 'old': {'index': 1}, 'new': {}, 'owner': RadioButtons(description='Select input type:', index=1, options=('DEM (*.tif / *.vrt)', 'Visualization (*.tif / *.vrt)'), value='Visualization (*.tif / *.vrt)'), 'type': 'change'}\n"
        }
       ]
      }
     },
     "baea85e116284b099275e627806a385b": {
      "model_module": "@jupyter-widgets/controls",
      "model_module_version": "2.0.0",
      "model_name": "CheckboxStyleModel",
      "state": {
       "description_width": ""
      }
     },
     "baf5307a5a23494ba0f26050018be5d9": {
      "model_module": "@jupyter-widgets/controls",
      "model_module_version": "2.0.0",
      "model_name": "TextModel",
      "state": {
       "description": "DEM path:",
       "disabled": true,
       "layout": "IPY_MODEL_2b82a582696a4b74a89a73371fcd2da1",
       "placeholder": "<my_data_folder/my_DEM_file.tif>",
       "style": "IPY_MODEL_13557e6ff56a45dc87bf82eb67989e5c"
      }
     },
     "bafabbe98a7e4d519115deec19cd1fc2": {
      "model_module": "@jupyter-widgets/base",
      "model_module_version": "2.0.0",
      "model_name": "LayoutModel",
      "state": {
       "border_bottom": "1px solid black",
       "border_left": "1px solid black",
       "border_right": "1px solid black",
       "border_top": "1px solid black"
      }
     },
     "bb480fda72bf40be8fd9289e02f81c80": {
      "model_module": "@jupyter-widgets/controls",
      "model_module_version": "2.0.0",
      "model_name": "RadioButtonsModel",
      "state": {
       "_options_labels": [
        "DEM (*.tif / *.vrt)",
        "Visualization (*.tif / *.vrt)"
       ],
       "description": "Select input type:",
       "index": 1,
       "layout": "IPY_MODEL_43d1fdb3e70643fb85ddc4012adc7d39",
       "style": "IPY_MODEL_8270439ede804cfc85e6be1c772acf78"
      }
     },
     "bbf7de9cd723417abee7a97d358c45e1": {
      "model_module": "@jupyter-widgets/controls",
      "model_module_version": "2.0.0",
      "model_name": "RadioButtonsModel",
      "state": {
       "_options_labels": [
        "white",
        "tan",
        "slate",
        "green"
       ],
       "index": 0,
       "layout": "IPY_MODEL_90a5bf55a363438386edef32d823e823",
       "style": "IPY_MODEL_171a5fd066c747b5bbe53bb7bf9aa6ae"
      }
     },
     "bc68da6982f54f89a02bfd7776066e7a": {
      "model_module": "@jupyter-widgets/controls",
      "model_module_version": "2.0.0",
      "model_name": "TextStyleModel",
      "state": {
       "description_width": "initial",
       "font_size": null,
       "text_color": null
      }
     },
     "bd1b0515a2bd47a59fee524d505b0b5d": {
      "model_module": "@jupyter-widgets/controls",
      "model_module_version": "2.0.0",
      "model_name": "TextModel",
      "state": {
       "description": "Visualization path:",
       "disabled": true,
       "layout": "IPY_MODEL_6e54832afeb04803a5c241673c23df9d",
       "placeholder": "<my_data_folder/my_visualization_file.tif>",
       "style": "IPY_MODEL_7e3f0fef3a0a443a9381f4a9cba3a52d"
      }
     },
     "bd5853988c7e45d5843fe91e6002b13e": {
      "model_module": "@jupyter-widgets/controls",
      "model_module_version": "2.0.0",
      "model_name": "CheckboxModel",
      "state": {
       "description": "Batch processing",
       "disabled": false,
       "indent": false,
       "layout": "IPY_MODEL_1db4628252a34dd7a625d1dc339a0922",
       "style": "IPY_MODEL_c3cc1e89eea64f05be6f6434afb45aa8",
       "value": false
      }
     },
     "bdd91fff0927480abde5120ef32e14bc": {
      "model_module": "@jupyter-widgets/output",
      "model_module_version": "1.0.0",
      "model_name": "OutputModel",
      "state": {
       "layout": "IPY_MODEL_4d015319d5dc4d8a8a38b86ddd36b82c",
       "outputs": [
        {
         "data": {
          "application/vnd.jupyter.widget-view+json": {
           "model_id": "539020de91d7463bbbf871acd7edc26f",
           "version_major": 2,
           "version_minor": 0
          },
          "text/plain": "Text(value='', description='DEM path:', layout=Layout(width='98%'), placeholder='<my_data_folder/my_DEM_file.t…"
         },
         "metadata": {},
         "output_type": "display_data"
        }
       ]
      }
     },
     "bdef339eed044b4e8c180593203aa0ab": {
      "model_module": "@jupyter-widgets/output",
      "model_module_version": "1.0.0",
      "model_name": "OutputModel",
      "state": {
       "layout": "IPY_MODEL_5d9cd4c827e54b0ea4b42e921c2877d3",
       "outputs": [
        {
         "name": "stdout",
         "output_type": "stream",
         "text": "{'name': '_property_lock', 'old': {'value': True}, 'new': {}, 'owner': Checkbox(value=True, description='Batch processing', indent=False), 'type': 'change'}\n"
        }
       ]
      }
     },
     "be0eb0e762584261af28014926ad0a82": {
      "model_module": "@jupyter-widgets/controls",
      "model_module_version": "2.0.0",
      "model_name": "RadioButtonsModel",
      "state": {
       "_options_labels": [
        "DEM (*.tif / *.vrt)",
        "Visualization (*.tif / *.vrt)"
       ],
       "description": "Select input type:",
       "index": 1,
       "layout": "IPY_MODEL_afe931d2913d407e9115bf31329bd24f",
       "style": "IPY_MODEL_dee35c40515d47da9fc95bfa91db434f"
      }
     },
     "be4bc49e94ba4a1aab332cf0c436fa8c": {
      "model_module": "@jupyter-widgets/base",
      "model_module_version": "2.0.0",
      "model_name": "LayoutModel",
      "state": {}
     },
     "bf8de1c6b8fc408ab506d792cbdce36b": {
      "model_module": "@jupyter-widgets/base",
      "model_module_version": "2.0.0",
      "model_name": "LayoutModel",
      "state": {
       "width": "98%"
      }
     },
     "c0654376a941401d8b94893e8062dcfc": {
      "model_module": "@jupyter-widgets/controls",
      "model_module_version": "2.0.0",
      "model_name": "CheckboxModel",
      "state": {
       "description": "Batch processing",
       "disabled": false,
       "indent": false,
       "layout": "IPY_MODEL_785b26c657ad4ca69d03968aebdaaf10",
       "style": "IPY_MODEL_03ea0ef7474444e1ad0254172767ac6d",
       "value": false
      }
     },
     "c0d820b374d04ddcba49e269975c3e7e": {
      "model_module": "@jupyter-widgets/controls",
      "model_module_version": "2.0.0",
      "model_name": "TextModel",
      "state": {
       "description": "DEM path [*.tif / *.vrt]:",
       "disabled": true,
       "layout": "IPY_MODEL_ecdbe1888b3141f1b6a22b9edfa06774",
       "placeholder": "data_folder/file.tif",
       "style": "IPY_MODEL_932e5e87baea44959707d7df975babb6"
      }
     },
     "c0e15333fb9646db9fe7b3d244a513cc": {
      "model_module": "@jupyter-widgets/controls",
      "model_module_version": "2.0.0",
      "model_name": "CheckboxStyleModel",
      "state": {
       "description_width": ""
      }
     },
     "c196746b44f2433ca87e187c0f311152": {
      "model_module": "@jupyter-widgets/controls",
      "model_module_version": "2.0.0",
      "model_name": "CheckboxModel",
      "state": {
       "description": "Batch processing",
       "disabled": false,
       "indent": false,
       "layout": "IPY_MODEL_3a6f87eebce7402f8c570a2183e57205",
       "style": "IPY_MODEL_baea85e116284b099275e627806a385b",
       "value": false
      }
     },
     "c1eb0aa27e404613b6c9489a10700e7b": {
      "model_module": "@jupyter-widgets/base",
      "model_module_version": "2.0.0",
      "model_name": "LayoutModel",
      "state": {}
     },
     "c20c215de43a4f09a667f1d007857e2a": {
      "model_module": "@jupyter-widgets/controls",
      "model_module_version": "2.0.0",
      "model_name": "CheckboxModel",
      "state": {
       "description": "Batch processing",
       "disabled": false,
       "indent": false,
       "layout": "IPY_MODEL_42d7458deace4b129808627524230b59",
       "style": "IPY_MODEL_41a1affc45cd4ce0a2b177da505d4d72",
       "value": false
      }
     },
     "c2b144b4119042ac8b74ebd19c68099a": {
      "model_module": "@jupyter-widgets/base",
      "model_module_version": "2.0.0",
      "model_name": "LayoutModel",
      "state": {
       "border_bottom": "1px solid black",
       "border_left": "1px solid black",
       "border_right": "1px solid black",
       "border_top": "1px solid black"
      }
     },
     "c3474391bfdc4df382297526ee9fe1d8": {
      "model_module": "@jupyter-widgets/controls",
      "model_module_version": "2.0.0",
      "model_name": "TextModel",
      "state": {
       "description": "path",
       "layout": "IPY_MODEL_71ecc1930b0042089851d1f090d44131",
       "style": "IPY_MODEL_9bf580c5565045c7860effb2ae20d07e",
       "value": "c:\\Users\\ncoz\\GitHub\\aitlas-TII-LIDAR\\inference\\data\\archaeology1_TIN\\135000_296000_archaeology1_TIN.tif"
      }
     },
     "c37a2a7934ac494485091cfd01399faf": {
      "model_module": "@jupyter-widgets/controls",
      "model_module_version": "2.0.0",
      "model_name": "RadioButtonsModel",
      "state": {
       "_options_labels": [
        "DEM",
        "visualization"
       ],
       "description": "Select the input data type:",
       "index": null,
       "layout": "IPY_MODEL_46f1f862c88e4c8a98c6b2861b6ef3bf",
       "style": "IPY_MODEL_10f7dfd21b1948538b2c3bb121cce5c5"
      }
     },
     "c39bbad700054780901b9b0a73b7f0c8": {
      "model_module": "@jupyter-widgets/controls",
      "model_module_version": "2.0.0",
      "model_name": "CheckboxStyleModel",
      "state": {
       "description_width": ""
      }
     },
     "c3cc1e89eea64f05be6f6434afb45aa8": {
      "model_module": "@jupyter-widgets/controls",
      "model_module_version": "2.0.0",
      "model_name": "CheckboxStyleModel",
      "state": {
       "description_width": ""
      }
     },
     "c44b7593541d4e16a56af6f6b1e193a4": {
      "model_module": "@jupyter-widgets/base",
      "model_module_version": "2.0.0",
      "model_name": "LayoutModel",
      "state": {
       "width": "98%"
      }
     },
     "c4bfb3e087c148d78d10e3e4fb1a500c": {
      "model_module": "@jupyter-widgets/base",
      "model_module_version": "2.0.0",
      "model_name": "LayoutModel",
      "state": {}
     },
     "c4e46f76e18b413babedb7f751013b5b": {
      "model_module": "@jupyter-widgets/controls",
      "model_module_version": "2.0.0",
      "model_name": "CheckboxStyleModel",
      "state": {
       "description_width": ""
      }
     },
     "c51f144ba59e457794158fe09ff54ca8": {
      "model_module": "@jupyter-widgets/output",
      "model_module_version": "1.0.0",
      "model_name": "OutputModel",
      "state": {
       "layout": "IPY_MODEL_a3475b77b27d4ced8fe4921e545c5c1e",
       "outputs": [
        {
         "data": {
          "application/vnd.jupyter.widget-view+json": {
           "model_id": "4755fcffbec2437d8f5ec84b27a8ea0d",
           "version_major": 2,
           "version_minor": 0
          },
          "text/plain": "Text(value='', description='DEM path:', layout=Layout(width='98%'), placeholder='<my_data_folder/my_DEM_file.t…"
         },
         "metadata": {},
         "output_type": "display_data"
        }
       ]
      }
     },
     "c53d055eaa1144989c8805f979c92070": {
      "model_module": "@jupyter-widgets/base",
      "model_module_version": "2.0.0",
      "model_name": "LayoutModel",
      "state": {}
     },
     "c6c71f0677cd41ae8ab2192acd35048f": {
      "model_module": "@jupyter-widgets/controls",
      "model_module_version": "2.0.0",
      "model_name": "LabelStyleModel",
      "state": {
       "description_width": "",
       "font_family": null,
       "font_size": null,
       "font_style": null,
       "font_variant": null,
       "font_weight": null,
       "text_color": null,
       "text_decoration": null
      }
     },
     "c736a260af334f1eb66ec64d6aeefc30": {
      "model_module": "@jupyter-widgets/output",
      "model_module_version": "1.0.0",
      "model_name": "OutputModel",
      "state": {
       "layout": "IPY_MODEL_4cbf9cf0731c49dd96607a84e801e3f5",
       "outputs": [
        {
         "name": "stdout",
         "output_type": "stream",
         "text": "{'name': '_property_lock', 'old': {'value': False}, 'new': {}, 'owner': Checkbox(value=False, description='Batch processing', indent=False), 'type': 'change'}\n"
        }
       ]
      }
     },
     "c7f31539b60141bca5fa125352aad283": {
      "model_module": "@jupyter-widgets/controls",
      "model_module_version": "2.0.0",
      "model_name": "CheckboxModel",
      "state": {
       "description": "Batch processing",
       "disabled": false,
       "indent": false,
       "layout": "IPY_MODEL_0e42604c6c8a4b5ca2c056d940a1eb95",
       "style": "IPY_MODEL_4228bb5af8a7483ab5e9a798f7404b46",
       "value": true
      }
     },
     "c82feed0bca648de98ac16e3f59f24fa": {
      "model_module": "@jupyter-widgets/controls",
      "model_module_version": "2.0.0",
      "model_name": "TextStyleModel",
      "state": {
       "description_width": "initial",
       "font_size": null,
       "text_color": null
      }
     },
     "c8a89b8df37d4944818a64ae30ff0477": {
      "model_module": "@jupyter-widgets/controls",
      "model_module_version": "2.0.0",
      "model_name": "TextStyleModel",
      "state": {
       "description_width": "initial",
       "font_size": null,
       "text_color": null
      }
     },
     "c924418b3ed2451082fdd5f6fc9704df": {
      "model_module": "@jupyter-widgets/output",
      "model_module_version": "1.0.0",
      "model_name": "OutputModel",
      "state": {
       "layout": "IPY_MODEL_fc17ec86879c419d88b7f2534499f2ff",
       "outputs": [
        {
         "data": {
          "application/vnd.jupyter.widget-view+json": {
           "model_id": "3302cf95cfed42f4aa844e3e10bcddd8",
           "version_major": 2,
           "version_minor": 0
          },
          "text/plain": "Text(value='', description='DEM path:', layout=Layout(width='98%'), placeholder='<my_data_folder/my_DEM_file.t…"
         },
         "metadata": {},
         "output_type": "display_data"
        }
       ]
      }
     },
     "c94f9feb2bc3410689d6a928ac9f1ad6": {
      "model_module": "@jupyter-widgets/controls",
      "model_module_version": "2.0.0",
      "model_name": "CheckboxModel",
      "state": {
       "description": "Batch processing",
       "disabled": false,
       "indent": false,
       "layout": "IPY_MODEL_0e27fd63ca7b4355a4e1329a3f13ea1c",
       "style": "IPY_MODEL_7a04b17b774b48528949adf3e8cc94d8",
       "value": false
      }
     },
     "ca8a0fb38dbb447fbfa920ff75d64b75": {
      "model_module": "@jupyter-widgets/controls",
      "model_module_version": "2.0.0",
      "model_name": "DescriptionStyleModel",
      "state": {
       "description_width": ""
      }
     },
     "cb3e3cb141034777ac6c42d692f04128": {
      "model_module": "@jupyter-widgets/controls",
      "model_module_version": "2.0.0",
      "model_name": "TextStyleModel",
      "state": {
       "description_width": "initial",
       "font_size": null,
       "text_color": null
      }
     },
     "cb51c3aa95a94f448f927c6e600054a3": {
      "model_module": "@jupyter-widgets/base",
      "model_module_version": "2.0.0",
      "model_name": "LayoutModel",
      "state": {
       "width": "98%"
      }
     },
     "cbab0f11fae74cd38073338b4204d0d5": {
      "model_module": "@jupyter-widgets/controls",
      "model_module_version": "2.0.0",
      "model_name": "HBoxModel",
      "state": {
       "children": [
        "IPY_MODEL_9597290150e5403bb289291a1e08fde3",
        "IPY_MODEL_d9d4b72bc52c42ca9d308e6817ce7ec7"
       ],
       "layout": "IPY_MODEL_8cd2ed71cba744feaec8a4985661f4b6"
      }
     },
     "ccdb87def584439b9e5ddfb67d437db9": {
      "model_module": "@jupyter-widgets/output",
      "model_module_version": "1.0.0",
      "model_name": "OutputModel",
      "state": {
       "layout": "IPY_MODEL_b86188016d7f4e53838d6f22a0c4d952"
      }
     },
     "cd8137779ca242eeafca94d540f1f9de": {
      "model_module": "@jupyter-widgets/base",
      "model_module_version": "2.0.0",
      "model_name": "LayoutModel",
      "state": {}
     },
     "cddcae829e5641a180868b8fb207dd0f": {
      "model_module": "@jupyter-widgets/base",
      "model_module_version": "2.0.0",
      "model_name": "LayoutModel",
      "state": {
       "border_bottom": "1px solid black",
       "border_left": "1px solid black",
       "border_right": "1px solid black",
       "border_top": "1px solid black"
      }
     },
     "ce10d4cd28964a51b4e51cdb559f008d": {
      "model_module": "@jupyter-widgets/base",
      "model_module_version": "2.0.0",
      "model_name": "LayoutModel",
      "state": {}
     },
     "ce868e8b234441c78be4e05b26c740aa": {
      "model_module": "@jupyter-widgets/base",
      "model_module_version": "2.0.0",
      "model_name": "LayoutModel",
      "state": {}
     },
     "ce93eef952a94598a3c6600495ce731a": {
      "model_module": "@jupyter-widgets/base",
      "model_module_version": "2.0.0",
      "model_name": "LayoutModel",
      "state": {
       "border_bottom": "1px solid black",
       "border_left": "1px solid black",
       "border_right": "1px solid black",
       "border_top": "1px solid black"
      }
     },
     "ce9ba4277b0f417faba104d48db5a554": {
      "model_module": "@jupyter-widgets/controls",
      "model_module_version": "2.0.0",
      "model_name": "RadioButtonsModel",
      "state": {
       "_options_labels": [
        "DEM (*.tif / *.vrt)",
        "Visualization (*.tif / *.vrt)"
       ],
       "description": "Select input type:",
       "index": 1,
       "layout": "IPY_MODEL_34b00d1039b14b2188c07888c963ff01",
       "style": "IPY_MODEL_dfb89001dc3e479aaf228bee8ebc481f"
      }
     },
     "cec9f8a125e74c5787607bad252adbcd": {
      "model_module": "@jupyter-widgets/controls",
      "model_module_version": "2.0.0",
      "model_name": "CheckboxStyleModel",
      "state": {
       "description_width": ""
      }
     },
     "ced13c653d844701aaa4488bb242e51d": {
      "model_module": "@jupyter-widgets/output",
      "model_module_version": "1.0.0",
      "model_name": "OutputModel",
      "state": {
       "layout": "IPY_MODEL_805decd6862440a99d5cb7c18d8f3efd"
      }
     },
     "cf1ceffbbc2c47af8e6b40e109bbcca8": {
      "model_module": "@jupyter-widgets/controls",
      "model_module_version": "2.0.0",
      "model_name": "TextStyleModel",
      "state": {
       "description_width": "initial",
       "font_size": null,
       "text_color": null
      }
     },
     "cfc37b4591ba4563944a802e025519de": {
      "model_module": "@jupyter-widgets/base",
      "model_module_version": "2.0.0",
      "model_name": "LayoutModel",
      "state": {}
     },
     "d029232197a644aaa14884153c91e885": {
      "model_module": "@jupyter-widgets/controls",
      "model_module_version": "2.0.0",
      "model_name": "TextModel",
      "state": {
       "description": "Visualization path:",
       "layout": "IPY_MODEL_32306706ce1445ddb2f95997851b5ff3",
       "placeholder": "<my_data_folder/my_visualization_file.tif>",
       "style": "IPY_MODEL_9e69add4625248918c76f6c982675dfd"
      }
     },
     "d0ae449018b24ceba9640b09c0b7e5ba": {
      "model_module": "@jupyter-widgets/output",
      "model_module_version": "1.0.0",
      "model_name": "OutputModel",
      "state": {
       "layout": "IPY_MODEL_be4bc49e94ba4a1aab332cf0c436fa8c",
       "outputs": [
        {
         "name": "stdout",
         "output_type": "stream",
         "text": "Hello World\n"
        }
       ]
      }
     },
     "d15c8edb87524b0ca62de58130b8e5f9": {
      "model_module": "@jupyter-widgets/controls",
      "model_module_version": "2.0.0",
      "model_name": "HBoxModel",
      "state": {
       "children": [
        "IPY_MODEL_0cdedcce6d174af181387bd152da2224",
        "IPY_MODEL_4b2e538bb0b34522a47a414adbcea439"
       ],
       "layout": "IPY_MODEL_479dbba32dc64e07bbe948e04a7576e3"
      }
     },
     "d1d645b695564030a0f9d81d03743dfc": {
      "model_module": "@jupyter-widgets/base",
      "model_module_version": "2.0.0",
      "model_name": "LayoutModel",
      "state": {
       "border_bottom": "1px solid black",
       "border_left": "1px solid black",
       "border_right": "1px solid black",
       "border_top": "1px solid black"
      }
     },
     "d2eda12f78584cd9ad33cff2ac7df9f2": {
      "model_module": "@jupyter-widgets/controls",
      "model_module_version": "2.0.0",
      "model_name": "TextStyleModel",
      "state": {
       "description_width": "initial",
       "font_size": null,
       "text_color": null
      }
     },
     "d4362af6e96e4a229b44dfcb50ea6812": {
      "model_module": "@jupyter-widgets/controls",
      "model_module_version": "2.0.0",
      "model_name": "TextStyleModel",
      "state": {
       "description_width": "initial",
       "font_size": null,
       "text_color": null
      }
     },
     "d4a9a809e5cf4fe6a258d45ba0a4d9c7": {
      "model_module": "@jupyter-widgets/controls",
      "model_module_version": "2.0.0",
      "model_name": "TextStyleModel",
      "state": {
       "description_width": "initial",
       "font_size": null,
       "text_color": null
      }
     },
     "d52e8e0ff3b24bd9a183c928d483d448": {
      "model_module": "@jupyter-widgets/controls",
      "model_module_version": "2.0.0",
      "model_name": "RadioButtonsModel",
      "state": {
       "_options_labels": [
        "DEM (*.tif / *.vrt)",
        "Visualization (*.tif / *.vrt)"
       ],
       "description": "Select input type:",
       "index": 1,
       "layout": "IPY_MODEL_c1eb0aa27e404613b6c9489a10700e7b",
       "style": "IPY_MODEL_2bc2b6de816247648851981273a71890"
      }
     },
     "d5377b2dc81a4c5eb3d7e7e3fd37a429": {
      "model_module": "@jupyter-widgets/controls",
      "model_module_version": "2.0.0",
      "model_name": "TextModel",
      "state": {
       "description": "Visualization path:",
       "disabled": true,
       "layout": "IPY_MODEL_1ddf9cfa64fc48da8b13760b5caeea24",
       "placeholder": "<my_data_folder/my_visualization_file.tif>",
       "style": "IPY_MODEL_7cf17fd5aece44fbaed65b8851657d60"
      }
     },
     "d5fa898112334f0b8653e9fb812f6221": {
      "model_module": "@jupyter-widgets/controls",
      "model_module_version": "2.0.0",
      "model_name": "TextModel",
      "state": {
       "description": "DEM path:",
       "layout": "IPY_MODEL_e37e3b05dad7439a837445444e9727cb",
       "placeholder": "<my_data_folder/my_DEM_file.tif>",
       "style": "IPY_MODEL_c82feed0bca648de98ac16e3f59f24fa"
      }
     },
     "d85ae1b600654b05aaf04080b622cf0a": {
      "model_module": "@jupyter-widgets/base",
      "model_module_version": "2.0.0",
      "model_name": "LayoutModel",
      "state": {}
     },
     "d98f823b33c74f35808a5e9d5243e1d1": {
      "model_module": "@jupyter-widgets/controls",
      "model_module_version": "2.0.0",
      "model_name": "RadioButtonsModel",
      "state": {
       "_options_labels": [
        "DEM (*.tif / *.vrt)",
        "Visualization (*.tif / *.vrt)"
       ],
       "description": "Select input type:",
       "index": 1,
       "layout": "IPY_MODEL_88bfc6b0aa194406a6e1cc7da9b6bcb2",
       "style": "IPY_MODEL_e99bc2db74a74e0cad6c3c13add9a6c9"
      }
     },
     "d9d4b72bc52c42ca9d308e6817ce7ec7": {
      "model_module": "@jupyter-widgets/controls",
      "model_module_version": "2.0.0",
      "model_name": "CheckboxModel",
      "state": {
       "description": "Batch processing",
       "disabled": false,
       "indent": false,
       "layout": "IPY_MODEL_e047c02274c343fabb00bd5fc039ebae",
       "style": "IPY_MODEL_071c76d5c7ec4eafa12c7b30ad404d0b",
       "value": false
      }
     },
     "da2ee696d7be485baeaa4d9c6cd5261b": {
      "model_module": "@jupyter-widgets/controls",
      "model_module_version": "2.0.0",
      "model_name": "HBoxModel",
      "state": {
       "children": [
        "IPY_MODEL_f9bcf41658444af8962450130cfb065f",
        "IPY_MODEL_a612a15d77624eb69d065f3241c46e61"
       ],
       "layout": "IPY_MODEL_f662c621d0b04f2c9f848a90ec3fce59"
      }
     },
     "da7648fe39854d4b9f1e7ba71c36d69e": {
      "model_module": "@jupyter-widgets/base",
      "model_module_version": "2.0.0",
      "model_name": "LayoutModel",
      "state": {}
     },
     "dc0e8dea117a4494b8510c4274392700": {
      "model_module": "@jupyter-widgets/base",
      "model_module_version": "2.0.0",
      "model_name": "LayoutModel",
      "state": {}
     },
     "dcb5ecd421b04c42bef01acfdb7ceba3": {
      "model_module": "@jupyter-widgets/output",
      "model_module_version": "1.0.0",
      "model_name": "OutputModel",
      "state": {
       "layout": "IPY_MODEL_f9797dd8c23146afb97d5983a7f73c7b",
       "outputs": [
        {
         "data": {
          "application/vnd.jupyter.widget-view+json": {
           "model_id": "75e01aaf51ea44688c4928e2d8cdfbaf",
           "version_major": 2,
           "version_minor": 0
          },
          "text/plain": "Text(value='', description='Visualization path:', layout=Layout(width='98%'), placeholder='<my_data_folder/my_…"
         },
         "metadata": {},
         "output_type": "display_data"
        }
       ]
      }
     },
     "dccdbeded0434eafa09771cf8d3b1f33": {
      "model_module": "@jupyter-widgets/base",
      "model_module_version": "2.0.0",
      "model_name": "LayoutModel",
      "state": {}
     },
     "dcef62b6699548d2a165efd948a230f7": {
      "model_module": "@jupyter-widgets/controls",
      "model_module_version": "2.0.0",
      "model_name": "DescriptionStyleModel",
      "state": {
       "description_width": ""
      }
     },
     "dd8896c0b4824b368c6a42d96010f13a": {
      "model_module": "@jupyter-widgets/base",
      "model_module_version": "2.0.0",
      "model_name": "LayoutModel",
      "state": {}
     },
     "dd9a65422b434ba6979c677b84eb1c4a": {
      "model_module": "@jupyter-widgets/base",
      "model_module_version": "2.0.0",
      "model_name": "LayoutModel",
      "state": {}
     },
     "ddfedbb1bad74a70a373c0497ecab317": {
      "model_module": "@jupyter-widgets/controls",
      "model_module_version": "2.0.0",
      "model_name": "TextModel",
      "state": {
       "description": "DEM path:",
       "layout": "IPY_MODEL_b3d27df9176d4a569e5c76f333f860e1",
       "placeholder": "<my_data_folder/my_DEM_file.tif>",
       "style": "IPY_MODEL_1835a75de0d140fcb2858ae9a05c5281"
      }
     },
     "de12cba6c7824b7c92f8a5fbdad5d4fd": {
      "model_module": "@jupyter-widgets/base",
      "model_module_version": "2.0.0",
      "model_name": "LayoutModel",
      "state": {}
     },
     "de337cca9c5a4ed49de0aab466af0a2a": {
      "model_module": "@jupyter-widgets/output",
      "model_module_version": "1.0.0",
      "model_name": "OutputModel",
      "state": {
       "layout": "IPY_MODEL_069ab14b59884bea979841e93bc3f3e5",
       "outputs": [
        {
         "data": {
          "application/vnd.jupyter.widget-view+json": {
           "model_id": "acaa083ef11844dabf60850c14917741",
           "version_major": 2,
           "version_minor": 0
          },
          "text/plain": "Text(value='', description='DEM path:', layout=Layout(width='98%'), placeholder='<my_data_folder/my_DEM_file.t…"
         },
         "metadata": {},
         "output_type": "display_data"
        }
       ]
      }
     },
     "dee35c40515d47da9fc95bfa91db434f": {
      "model_module": "@jupyter-widgets/controls",
      "model_module_version": "2.0.0",
      "model_name": "DescriptionStyleModel",
      "state": {
       "description_width": ""
      }
     },
     "dee93016eb284219b7a3571eef7a1a23": {
      "model_module": "@jupyter-widgets/base",
      "model_module_version": "2.0.0",
      "model_name": "LayoutModel",
      "state": {}
     },
     "df789f8fa7524998b9b27f1d38cbb4b2": {
      "model_module": "@jupyter-widgets/controls",
      "model_module_version": "2.0.0",
      "model_name": "TextModel",
      "state": {
       "description": "Visualization path:",
       "disabled": true,
       "layout": "IPY_MODEL_3c54ecfea2584469adcd40acb0b4eed0",
       "placeholder": "<my_data_folder/my_visualization_file.tif>",
       "style": "IPY_MODEL_f30a6c610ab54f888efc215f8f3eba61"
      }
     },
     "df85cba4f99349bc92769c82f194c8b7": {
      "model_module": "@jupyter-widgets/base",
      "model_module_version": "2.0.0",
      "model_name": "LayoutModel",
      "state": {
       "border_bottom": "1px solid black",
       "border_left": "1px solid black",
       "border_right": "1px solid black",
       "border_top": "1px solid black"
      }
     },
     "dfb89001dc3e479aaf228bee8ebc481f": {
      "model_module": "@jupyter-widgets/controls",
      "model_module_version": "2.0.0",
      "model_name": "DescriptionStyleModel",
      "state": {
       "description_width": ""
      }
     },
     "e044a807bdcb4260bc359755a5bbb280": {
      "model_module": "@jupyter-widgets/base",
      "model_module_version": "2.0.0",
      "model_name": "LayoutModel",
      "state": {
       "width": "98%"
      }
     },
     "e047c02274c343fabb00bd5fc039ebae": {
      "model_module": "@jupyter-widgets/base",
      "model_module_version": "2.0.0",
      "model_name": "LayoutModel",
      "state": {}
     },
     "e1cf33fed3294116a17d5678aaf4adfd": {
      "model_module": "@jupyter-widgets/controls",
      "model_module_version": "2.0.0",
      "model_name": "TextStyleModel",
      "state": {
       "description_width": "initial",
       "font_size": null,
       "text_color": null
      }
     },
     "e2001ef4d6f4460499cf4aa8976edbe0": {
      "model_module": "@jupyter-widgets/base",
      "model_module_version": "2.0.0",
      "model_name": "LayoutModel",
      "state": {
       "border_bottom": "1px solid black",
       "border_left": "1px solid black",
       "border_right": "1px solid black",
       "border_top": "1px solid black"
      }
     },
     "e22214f4e809483d9ffc01ebcf4aab1f": {
      "model_module": "@jupyter-widgets/controls",
      "model_module_version": "2.0.0",
      "model_name": "TextStyleModel",
      "state": {
       "description_width": "initial",
       "font_size": null,
       "text_color": null
      }
     },
     "e226286b75874c758608ae80e19fc221": {
      "model_module": "@jupyter-widgets/controls",
      "model_module_version": "2.0.0",
      "model_name": "TextModel",
      "state": {
       "description": "DEM path:",
       "layout": "IPY_MODEL_7584c0dc84274f5e8dfac8cd676714d5",
       "placeholder": "<my_data_folder/my_DEM_file.tif>",
       "style": "IPY_MODEL_59454a83a4f44c33bb0269fa959dfb1c"
      }
     },
     "e29b1f97b3314c61be127cb9e9e430b7": {
      "model_module": "@jupyter-widgets/base",
      "model_module_version": "2.0.0",
      "model_name": "LayoutModel",
      "state": {}
     },
     "e37e3b05dad7439a837445444e9727cb": {
      "model_module": "@jupyter-widgets/base",
      "model_module_version": "2.0.0",
      "model_name": "LayoutModel",
      "state": {
       "width": "98%"
      }
     },
     "e3a4c0f8c6b249d8b17b534079763cc1": {
      "model_module": "@jupyter-widgets/controls",
      "model_module_version": "2.0.0",
      "model_name": "TextModel",
      "state": {
       "description": "DEM path:",
       "disabled": true,
       "layout": "IPY_MODEL_8158459d54af421fa711702c485e1038",
       "placeholder": "<my_data_folder/my_DEM_file.tif>",
       "style": "IPY_MODEL_6be64b1c64184e658f4cde58583b8d9b"
      }
     },
     "e5729fbf101b4e739be102ff0e528345": {
      "model_module": "@jupyter-widgets/base",
      "model_module_version": "2.0.0",
      "model_name": "LayoutModel",
      "state": {
       "width": "98%"
      }
     },
     "e5a745f8e13743d099be234c593a55b8": {
      "model_module": "@jupyter-widgets/output",
      "model_module_version": "1.0.0",
      "model_name": "OutputModel",
      "state": {
       "layout": "IPY_MODEL_b84cff9b142f4ad0bb96d6d0f935383b"
      }
     },
     "e5e0fcdc6e3a4f5db9d17d81661e7fdc": {
      "model_module": "@jupyter-widgets/base",
      "model_module_version": "2.0.0",
      "model_name": "LayoutModel",
      "state": {
       "width": "98%"
      }
     },
     "e67ddf7aaf9e4d1f98f493d91f1c51d7": {
      "model_module": "@jupyter-widgets/base",
      "model_module_version": "2.0.0",
      "model_name": "LayoutModel",
      "state": {}
     },
     "e6cdcd41609d4a6ea02939612af93fbd": {
      "model_module": "@jupyter-widgets/controls",
      "model_module_version": "2.0.0",
      "model_name": "RadioButtonsModel",
      "state": {
       "_options_labels": [
        "DEM (*.tif / *.vrt)",
        "Visualization (*.tif / *.vrt)"
       ],
       "description": "Select input type:",
       "index": 1,
       "layout": "IPY_MODEL_099dfb1c1ac84cf2b93675bd20282614",
       "style": "IPY_MODEL_4f24646749554022a5f36d3f2b7f40fc"
      }
     },
     "e6d3fd3512cb44cf85701887bc081294": {
      "model_module": "@jupyter-widgets/controls",
      "model_module_version": "2.0.0",
      "model_name": "TextModel",
      "state": {
       "description": "DEM path:",
       "layout": "IPY_MODEL_9e8bd76713764451b3129f824ebcc6cb",
       "placeholder": "<my_data_folder/my_DEM_file.tif>",
       "style": "IPY_MODEL_9acf419e7ec7444ca140d8d4a7056345"
      }
     },
     "e708174899204597977cc6ffe963bbe3": {
      "model_module": "@jupyter-widgets/base",
      "model_module_version": "2.0.0",
      "model_name": "LayoutModel",
      "state": {}
     },
     "e7b4acb47b6742699b095f146033d68f": {
      "model_module": "@jupyter-widgets/controls",
      "model_module_version": "2.0.0",
      "model_name": "TextStyleModel",
      "state": {
       "description_width": "initial",
       "font_size": null,
       "text_color": null
      }
     },
     "e8e32887d1b14fa3b5a9517eb9974a8e": {
      "model_module": "@jupyter-widgets/base",
      "model_module_version": "2.0.0",
      "model_name": "LayoutModel",
      "state": {}
     },
     "e99bc2db74a74e0cad6c3c13add9a6c9": {
      "model_module": "@jupyter-widgets/controls",
      "model_module_version": "2.0.0",
      "model_name": "DescriptionStyleModel",
      "state": {
       "description_width": ""
      }
     },
     "e9d8eb1baf1e40dab236a1b5ffa58732": {
      "model_module": "@jupyter-widgets/base",
      "model_module_version": "2.0.0",
      "model_name": "LayoutModel",
      "state": {}
     },
     "eb24d1654f0a48cda33b21949443fdf8": {
      "model_module": "@jupyter-widgets/controls",
      "model_module_version": "2.0.0",
      "model_name": "DescriptionStyleModel",
      "state": {
       "description_width": ""
      }
     },
     "eb75ba6615ef44e79c6785a9767076fd": {
      "model_module": "@jupyter-widgets/base",
      "model_module_version": "2.0.0",
      "model_name": "LayoutModel",
      "state": {
       "border_bottom": "1px solid black",
       "border_left": "1px solid black",
       "border_right": "1px solid black",
       "border_top": "1px solid black"
      }
     },
     "eb7f2ce9d5e648899c9048806b567445": {
      "model_module": "@jupyter-widgets/base",
      "model_module_version": "2.0.0",
      "model_name": "LayoutModel",
      "state": {}
     },
     "ebc9f316db5b42d6bcac6efc58976521": {
      "model_module": "@jupyter-widgets/controls",
      "model_module_version": "2.0.0",
      "model_name": "TextStyleModel",
      "state": {
       "description_width": "initial",
       "font_size": null,
       "text_color": null
      }
     },
     "ecbd2dfb75f44a59be1f263fbcd456f3": {
      "model_module": "@jupyter-widgets/base",
      "model_module_version": "2.0.0",
      "model_name": "LayoutModel",
      "state": {}
     },
     "ecdbe1888b3141f1b6a22b9edfa06774": {
      "model_module": "@jupyter-widgets/base",
      "model_module_version": "2.0.0",
      "model_name": "LayoutModel",
      "state": {
       "width": "98%"
      }
     },
     "ed38ba71acc0445f89e01e41379afd89": {
      "model_module": "@jupyter-widgets/base",
      "model_module_version": "2.0.0",
      "model_name": "LayoutModel",
      "state": {
       "border_bottom": "1px solid black",
       "border_left": "1px solid black",
       "border_right": "1px solid black",
       "border_top": "1px solid black"
      }
     },
     "ee05c5b80fa944a28bc57053db0aad18": {
      "model_module": "@jupyter-widgets/controls",
      "model_module_version": "2.0.0",
      "model_name": "TextStyleModel",
      "state": {
       "description_width": "initial",
       "font_size": null,
       "text_color": null
      }
     },
     "ee24df7d582c4dd49630574c6b8bb17c": {
      "model_module": "@jupyter-widgets/output",
      "model_module_version": "1.0.0",
      "model_name": "OutputModel",
      "state": {
       "layout": "IPY_MODEL_7342694cc75b4f2394ef4634414fbcf2",
       "outputs": [
        {
         "data": {
          "application/vnd.jupyter.widget-view+json": {
           "model_id": "1227f46660e84e0da7d27121e2cb2a84",
           "version_major": 2,
           "version_minor": 0
          },
          "text/plain": "Text(value='', description='DEM path:', layout=Layout(width='98%'), placeholder='<my_data_folder/my_DEM_file.t…"
         },
         "metadata": {},
         "output_type": "display_data"
        }
       ]
      }
     },
     "f0f65c1a24a24ff7821f1e8353230b1e": {
      "model_module": "@jupyter-widgets/output",
      "model_module_version": "1.0.0",
      "model_name": "OutputModel",
      "state": {
       "layout": "IPY_MODEL_ce93eef952a94598a3c6600495ce731a"
      }
     },
     "f1fc862a3766432bb0cb78946d0d2965": {
      "model_module": "@jupyter-widgets/controls",
      "model_module_version": "2.0.0",
      "model_name": "CheckboxModel",
      "state": {
       "description": "Batch processing",
       "disabled": false,
       "indent": false,
       "layout": "IPY_MODEL_5e5ff79592cb4aa7ad0638c799725160",
       "style": "IPY_MODEL_37bc0687a49b4b06bc7257131fef21be",
       "value": false
      }
     },
     "f30a6c610ab54f888efc215f8f3eba61": {
      "model_module": "@jupyter-widgets/controls",
      "model_module_version": "2.0.0",
      "model_name": "TextStyleModel",
      "state": {
       "description_width": "initial",
       "font_size": null,
       "text_color": null
      }
     },
     "f364c5c263424fbba06c4f527218d789": {
      "model_module": "@jupyter-widgets/controls",
      "model_module_version": "2.0.0",
      "model_name": "TextStyleModel",
      "state": {
       "description_width": "initial",
       "font_size": null,
       "text_color": null
      }
     },
     "f48857bcb73c46f582a3ab1d9ae66578": {
      "model_module": "@jupyter-widgets/controls",
      "model_module_version": "2.0.0",
      "model_name": "CheckboxModel",
      "state": {
       "description": "Batch processing",
       "disabled": false,
       "indent": false,
       "layout": "IPY_MODEL_11a7acfb80da40d9a4bb7ed943fc81f7",
       "style": "IPY_MODEL_35aaee447f5a41dcafcb3ee97f4a6e60",
       "value": false
      }
     },
     "f4f72dd6c9e2403eab90bf426454e5c4": {
      "model_module": "@jupyter-widgets/output",
      "model_module_version": "1.0.0",
      "model_name": "OutputModel",
      "state": {
       "layout": "IPY_MODEL_b7b93ce349ac452da9f41fb61ec065d5",
       "outputs": [
        {
         "name": "stdout",
         "output_type": "stream",
         "text": "{'name': 'index', 'old': 0, 'new': 1, 'owner': RadioButtons(description='Select input type:', index=1, options=('DEM (*.tif / *.vrt)', 'Visualization (*.tif / *.vrt)'), value='Visualization (*.tif / *.vrt)'), 'type': 'change'}\n"
        }
       ]
      }
     },
     "f50b9ce39a774e4389dfcf21edaabd0e": {
      "model_module": "@jupyter-widgets/controls",
      "model_module_version": "2.0.0",
      "model_name": "HBoxModel",
      "state": {
       "children": [
        "IPY_MODEL_15ab49a5b0b64318a6d708b029da49d4",
        "IPY_MODEL_586bf1b5da7d46bcb4cb0d868df0ba3b"
       ],
       "layout": "IPY_MODEL_6fc900380a2a4e20acf0fa28eb7648b5"
      }
     },
     "f640667fefd24586aa63e3bd34297a7a": {
      "model_module": "@jupyter-widgets/output",
      "model_module_version": "1.0.0",
      "model_name": "OutputModel",
      "state": {
       "layout": "IPY_MODEL_b935656e04c749aa835c645abacf4695",
       "outputs": [
        {
         "name": "stdout",
         "output_type": "stream",
         "text": "{'name': 'index', 'old': 0, 'new': 1, 'owner': RadioButtons(description='Select input type:', index=1, options=('DEM (*.tif / *.vrt)', 'Visualization (*.tif / *.vrt)'), value='Visualization (*.tif / *.vrt)'), 'type': 'change'}\n"
        }
       ]
      }
     },
     "f64167f9f9f04ada95269cfb5b5e20e4": {
      "model_module": "@jupyter-widgets/base",
      "model_module_version": "2.0.0",
      "model_name": "LayoutModel",
      "state": {}
     },
     "f661adb264484ca4b6123d47d1f89135": {
      "model_module": "@jupyter-widgets/controls",
      "model_module_version": "2.0.0",
      "model_name": "RadioButtonsModel",
      "state": {
       "_options_labels": [
        "DEM (*.tif / *.vrt)",
        "Visualization (*.tif / *.vrt)"
       ],
       "description": "Select input type:",
       "index": 1,
       "layout": "IPY_MODEL_0956b96d8b3543c191ef521ee0e7f1f9",
       "style": "IPY_MODEL_3d3d411fa4be4418bb5afcbd174179d5"
      }
     },
     "f662c621d0b04f2c9f848a90ec3fce59": {
      "model_module": "@jupyter-widgets/base",
      "model_module_version": "2.0.0",
      "model_name": "LayoutModel",
      "state": {}
     },
     "f6ae87f7e28e429caa2a5bbde5f426b5": {
      "model_module": "@jupyter-widgets/base",
      "model_module_version": "2.0.0",
      "model_name": "LayoutModel",
      "state": {
       "width": "98%"
      }
     },
     "f7e30b2f453a4fcca2fb9089b97024f7": {
      "model_module": "@jupyter-widgets/controls",
      "model_module_version": "2.0.0",
      "model_name": "TextStyleModel",
      "state": {
       "description_width": "initial",
       "font_size": null,
       "text_color": null
      }
     },
     "f85409cf3a944ffda8ba531611ea688c": {
      "model_module": "@jupyter-widgets/controls",
      "model_module_version": "2.0.0",
      "model_name": "RadioButtonsModel",
      "state": {
       "_options_labels": [
        "DEM (*.tif / *.vrt)",
        "Visualization (*.tif / *.vrt)"
       ],
       "description": "Select input type:",
       "index": 0,
       "layout": "IPY_MODEL_de12cba6c7824b7c92f8a5fbdad5d4fd",
       "style": "IPY_MODEL_64bfa78d0d814e08a49b4cf9125e98b8"
      }
     },
     "f89df19937e444bea128a55b72130304": {
      "model_module": "@jupyter-widgets/base",
      "model_module_version": "2.0.0",
      "model_name": "LayoutModel",
      "state": {}
     },
     "f917f65704224a2792c37b583a72d3a4": {
      "model_module": "@jupyter-widgets/controls",
      "model_module_version": "2.0.0",
      "model_name": "CheckboxModel",
      "state": {
       "description": "Batch processing",
       "disabled": false,
       "indent": false,
       "layout": "IPY_MODEL_00ec214393564e71a69bc4f5251c32cf",
       "style": "IPY_MODEL_0d4af094851e4feebf54acd844dac7da",
       "value": false
      }
     },
     "f94778193593476a9e7c5569c12fb143": {
      "model_module": "@jupyter-widgets/base",
      "model_module_version": "2.0.0",
      "model_name": "LayoutModel",
      "state": {}
     },
     "f9797dd8c23146afb97d5983a7f73c7b": {
      "model_module": "@jupyter-widgets/base",
      "model_module_version": "2.0.0",
      "model_name": "LayoutModel",
      "state": {}
     },
     "f999d4d094394f329a453de5e76c59ae": {
      "model_module": "@jupyter-widgets/base",
      "model_module_version": "2.0.0",
      "model_name": "LayoutModel",
      "state": {}
     },
     "f9bcf41658444af8962450130cfb065f": {
      "model_module": "@jupyter-widgets/controls",
      "model_module_version": "2.0.0",
      "model_name": "RadioButtonsModel",
      "state": {
       "_options_labels": [
        "DEM (*.tif / *.vrt)",
        "Visualization (*.tif / *.vrt)"
       ],
       "description": "Select input type:",
       "index": 1,
       "layout": "IPY_MODEL_b759710b125243ca9c0023b534a6fce3",
       "style": "IPY_MODEL_ac7ac5aeec2f4bf8ba06d6d8652d497d"
      }
     },
     "fa0a47844fce454a89af7137cc431262": {
      "model_module": "@jupyter-widgets/controls",
      "model_module_version": "2.0.0",
      "model_name": "DescriptionStyleModel",
      "state": {
       "description_width": ""
      }
     },
     "fa6c2252c41641e0969e909f32da8e2f": {
      "model_module": "@jupyter-widgets/base",
      "model_module_version": "2.0.0",
      "model_name": "LayoutModel",
      "state": {
       "width": "98%"
      }
     },
     "fb2449d87c5f42499c8d1919e2f3c759": {
      "model_module": "@jupyter-widgets/controls",
      "model_module_version": "2.0.0",
      "model_name": "CheckboxStyleModel",
      "state": {
       "description_width": ""
      }
     },
     "fb983f87c9514b5f8b5437f9a498a11a": {
      "model_module": "@jupyter-widgets/output",
      "model_module_version": "1.0.0",
      "model_name": "OutputModel",
      "state": {
       "layout": "IPY_MODEL_cddcae829e5641a180868b8fb207dd0f",
       "outputs": [
        {
         "name": "stdout",
         "output_type": "stream",
         "text": "{'name': 'index', 'old': 0, 'new': 1, 'owner': RadioButtons(description='Select input type:', index=1, options=('DEM (*.tif / *.vrt)', 'Visualization (*.tif / *.vrt)'), value='Visualization (*.tif / *.vrt)'), 'type': 'change'}\n"
        }
       ]
      }
     },
     "fbd87211d4964ba1b08247f39066deaf": {
      "model_module": "@jupyter-widgets/controls",
      "model_module_version": "2.0.0",
      "model_name": "CheckboxStyleModel",
      "state": {
       "description_width": ""
      }
     },
     "fc0d159d208642039e45b3f5d1d5ba78": {
      "model_module": "@jupyter-widgets/controls",
      "model_module_version": "2.0.0",
      "model_name": "CheckboxModel",
      "state": {
       "description": "What are my traits?",
       "disabled": false,
       "layout": "IPY_MODEL_b9ac4bb6334b41f089d45b659c5931a8",
       "style": "IPY_MODEL_8cc4a7b46f7a4899a432f5a2a2cf94eb",
       "value": false
      }
     },
     "fc17ec86879c419d88b7f2534499f2ff": {
      "model_module": "@jupyter-widgets/base",
      "model_module_version": "2.0.0",
      "model_name": "LayoutModel",
      "state": {}
     },
     "fc7f92eea99345f288faed27be1b7275": {
      "model_module": "@jupyter-widgets/controls",
      "model_module_version": "2.0.0",
      "model_name": "TextStyleModel",
      "state": {
       "description_width": "initial",
       "font_size": null,
       "text_color": null
      }
     },
     "fde890d03b764dc9aded3de128b9b556": {
      "model_module": "@jupyter-widgets/base",
      "model_module_version": "2.0.0",
      "model_name": "LayoutModel",
      "state": {
       "width": "98%"
      }
     },
     "fef56934c708482587e67bc641d172ca": {
      "model_module": "@jupyter-widgets/base",
      "model_module_version": "2.0.0",
      "model_name": "LayoutModel",
      "state": {
       "border_bottom": "1px solid black",
       "border_left": "1px solid black",
       "border_right": "1px solid black",
       "border_top": "1px solid black"
      }
     },
     "ff5a2e591cc343cc9a35c24e257b6ca9": {
      "model_module": "@jupyter-widgets/base",
      "model_module_version": "2.0.0",
      "model_name": "LayoutModel",
      "state": {}
     }
    },
    "version_major": 2,
    "version_minor": 0
   }
  }
 },
 "nbformat": 4,
 "nbformat_minor": 5
}
