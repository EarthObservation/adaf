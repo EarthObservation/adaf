{
 "cells": [
  {
   "cell_type": "code",
   "execution_count": 1,
   "id": "1384af01-6fed-4cb3-a46f-f5d0d31377ed",
   "metadata": {},
   "outputs": [],
   "source": [
    "from ipywidgets import interact, interactive, fixed, interact_manual, widgets, HBox, Label\n",
    "import rasterio"
   ]
  },
  {
   "cell_type": "code",
   "execution_count": 2,
   "id": "fcff1c03-2ed0-4ed8-a850-26b53d98bdf7",
   "metadata": {},
   "outputs": [],
   "source": [
    "# Define context manager for display output (text box for DEM)\n",
    "output = widgets.Output()"
   ]
  },
  {
   "cell_type": "code",
   "execution_count": 3,
   "id": "ba3ea8a6-f532-4e3b-b7c7-3facb6163241",
   "metadata": {},
   "outputs": [],
   "source": [
    "def mytextfunction(x):\n",
    "    print(x)\n",
    "    return x\n",
    "\n",
    "interactive_text = interactive(mytextfunction, x=\"Hello World\")\n",
    "interactive_text\n",
    "def get_resolution(path):\n",
    "    with rasterio.open(path) as src:\n",
    "        resolution = src.res[0]\n",
    "\n",
    "    return resolution"
   ]
  },
  {
   "cell_type": "code",
   "execution_count": 4,
   "id": "e9a1bc2e-58c3-424f-941c-b4ce6d8ab530",
   "metadata": {},
   "outputs": [
    {
     "data": {
      "application/vnd.jupyter.widget-view+json": {
       "model_id": "77335392a80343918941ab22556c19a7",
       "version_major": 2,
       "version_minor": 0
      },
      "text/plain": [
       "interactive(children=(Text(value='c:\\\\Users\\\\ncoz\\\\GitHub\\\\aitlas-TII-LIDAR\\\\inference\\\\data\\\\archaeology1_TIN…"
      ]
     },
     "metadata": {},
     "output_type": "display_data"
    },
    {
     "data": {
      "text/plain": [
       "<function __main__.get_resolution(path)>"
      ]
     },
     "execution_count": 4,
     "metadata": {},
     "output_type": "execute_result"
    }
   ],
   "source": [
    "interact(get_resolution, path=r\"c:\\Users\\ncoz\\GitHub\\aitlas-TII-LIDAR\\inference\\data\\archaeology1_TIN\\135000_296000_archaeology1_TIN.tif\")"
   ]
  },
  {
   "cell_type": "code",
   "execution_count": 5,
   "id": "97df0f3b-7c62-4c87-8cf6-888709bbe4af",
   "metadata": {},
   "outputs": [
    {
     "data": {
      "application/vnd.jupyter.widget-view+json": {
       "model_id": "f32359b9416140418aa70b56f9ccf0e4",
       "version_major": 2,
       "version_minor": 0
      },
      "text/plain": [
       "interactive(children=(Text(value='Hello World', description='x'), Output()), _dom_classes=('widget-interact',)…"
      ]
     },
     "execution_count": 5,
     "metadata": {},
     "output_type": "execute_result"
    }
   ],
   "source": [
    "def mytextfunction(x):\n",
    "    print(x)\n",
    "    return x\n",
    "\n",
    "interactive_text = interactive(mytextfunction, x=\"Hello World\")\n",
    "interactive_text"
   ]
  },
  {
   "cell_type": "code",
   "execution_count": 6,
   "id": "da6cb845-ae85-4359-9410-58efe85b1723",
   "metadata": {},
   "outputs": [],
   "source": [
    "style = {'description_width': 'initial'}\n",
    "\n",
    "inp1 = widgets.Text(\n",
    "    description='DEM path [*.tif / *.vrt]:',\n",
    "    placeholder=\"data_folder/file.tif\",\n",
    "    layout=widgets.Layout(width='98%'),\n",
    "    style=style,\n",
    "    disabled=False\n",
    "    # layout={'width': 'max-content'}\n",
    "    # value=\"data/ISA-15_Kilkee/ISA-15_Kilkee_dem_05m.vrt\"\n",
    ")"
   ]
  },
  {
   "cell_type": "code",
   "execution_count": 7,
   "id": "713306a6-4e78-4d7f-af9c-bdd72e7c0719",
   "metadata": {},
   "outputs": [],
   "source": [
    "inp2 = widgets.RadioButtons(\n",
    "    options=['object detection', 'segmentation'],\n",
    "    value='segmentation',\n",
    "    # layout={'width': 'max-content'}, # If the items' names are long\n",
    "    description='Select ML method:',\n",
    "    disabled=False\n",
    ")"
   ]
  },
  {
   "cell_type": "code",
   "execution_count": 8,
   "id": "ec2a029a-85d0-4e06-bed8-d041becf04b5",
   "metadata": {
    "scrolled": true
   },
   "outputs": [
    {
     "data": {
      "application/vnd.jupyter.widget-view+json": {
       "model_id": "d2e2599f5431407e9b28a920c06c8429",
       "version_major": 2,
       "version_minor": 0
      },
      "text/plain": [
       "RadioButtons(description='Select ML method:', index=1, options=('object detection', 'segmentation'), value='se…"
      ]
     },
     "metadata": {},
     "output_type": "display_data"
    },
    {
     "data": {
      "application/vnd.jupyter.widget-view+json": {
       "model_id": "cdb97d6d94a44a42af1ec6a88fd26625",
       "version_major": 2,
       "version_minor": 0
      },
      "text/plain": [
       "Text(value='', description='DEM path [*.tif / *.vrt]:', disabled=True, layout=Layout(width='98%'), placeholder…"
      ]
     },
     "metadata": {},
     "output_type": "display_data"
    }
   ],
   "source": [
    "display(inp2)\n",
    "\n",
    "inp1.disabled=True\n",
    "display(inp1)"
   ]
  },
  {
   "cell_type": "code",
   "execution_count": 9,
   "id": "ae986760-ddb7-488d-99c1-dee09ac3dbbd",
   "metadata": {},
   "outputs": [
    {
     "data": {
      "application/vnd.jupyter.widget-view+json": {
       "model_id": "ef6138191be745e6913dee688390004d",
       "version_major": 2,
       "version_minor": 0
      },
      "text/plain": [
       "Checkbox(value=False, description='What are my traits?')"
      ]
     },
     "metadata": {},
     "output_type": "display_data"
    },
    {
     "data": {
      "application/vnd.jupyter.widget-view+json": {
       "model_id": "dd7631a029064805b5493a181937a8fb",
       "version_major": 2,
       "version_minor": 0
      },
      "text/plain": [
       "Output()"
      ]
     },
     "metadata": {},
     "output_type": "display_data"
    }
   ],
   "source": [
    "# Instance CHECKBOX\n",
    "checkbox_example = widgets.Checkbox(\n",
    "    value=False,\n",
    "    description='What are my traits?',\n",
    "    disabled=False\n",
    ")\n",
    "\n",
    "# # Instance output\n",
    "# output2 = widgets.Output()\n",
    "\n",
    "# Display both the widget and output in the same place\n",
    "display(checkbox_example, output)\n",
    "\n",
    "# Set up the handler\n",
    "def what_traits_checkbox(value):\n",
    "    output.clear_output()\n",
    "    with output:\n",
    "        print(f\"{value.keys()} this is the output of all the keys\")\n",
    "        print(\"-------------\")\n",
    "        print(f\"{value.values()} this is the output of all the values\")\n",
    "        print(\"-------------\")\n",
    "        \n",
    "checkbox_example.observe(what_traits_checkbox, names = 'value')\n"
   ]
  },
  {
   "cell_type": "code",
   "execution_count": 10,
   "id": "1e4b4e16-b42a-4f68-8165-ab61810be661",
   "metadata": {},
   "outputs": [
    {
     "data": {
      "application/vnd.jupyter.widget-view+json": {
       "model_id": "33eaf0f0408045c4bf584e01dad95f0b",
       "version_major": 2,
       "version_minor": 0
      },
      "text/plain": [
       "RadioButtons(description='Pizza topping:', options=('pepperoni', 'pineapple', 'anchovies'), value=None)"
      ]
     },
     "metadata": {},
     "output_type": "display_data"
    },
    {
     "data": {
      "application/vnd.jupyter.widget-view+json": {
       "model_id": "17648b3b2db54359a7a127e18ad15424",
       "version_major": 2,
       "version_minor": 0
      },
      "text/plain": [
       "Output()"
      ]
     },
     "metadata": {},
     "output_type": "display_data"
    }
   ],
   "source": [
    "radio_button = widgets.RadioButtons(\n",
    "    options=['pepperoni', 'pineapple', 'anchovies'],\n",
    "    value=None,\n",
    "    description='Pizza topping:',\n",
    "    disabled=False)\n",
    "output3 = widgets.Output()\n",
    "display(radio_button, output3)\n",
    "def what_traits_radio(value):\n",
    "    output3.clear_output()\n",
    "    with output3:\n",
    "        print(f\"{value.keys()} this is the output of all the keys\")\n",
    "        print(\"-------------\")\n",
    "        print(f\"{value.values()} this is the output of all the values\")\n",
    "        print(\"-------------\")\n",
    "radio_button.observe(what_traits_radio, names = 'value')"
   ]
  },
  {
   "cell_type": "code",
   "execution_count": 11,
   "id": "a0f1cbe7-78ca-49e3-ba5a-05fa09add70f",
   "metadata": {},
   "outputs": [
    {
     "data": {
      "application/vnd.jupyter.widget-view+json": {
       "model_id": "13794642ec464e09b6ea8eabbb94e77d",
       "version_major": 2,
       "version_minor": 0
      },
      "text/plain": [
       "HBox(children=(Label(value='What color is the White House?'),))"
      ]
     },
     "metadata": {},
     "output_type": "display_data"
    },
    {
     "data": {
      "application/vnd.jupyter.widget-view+json": {
       "model_id": "1028d0654f4a46aab9b8748f5b2bb981",
       "version_major": 2,
       "version_minor": 0
      },
      "text/plain": [
       "RadioButtons(options=('white', 'tan', 'slate', 'green'), value='white')"
      ]
     },
     "metadata": {},
     "output_type": "display_data"
    },
    {
     "data": {
      "application/vnd.jupyter.widget-view+json": {
       "model_id": "7c9c9e47965c4a45a4d57aa56e4bcebd",
       "version_major": 2,
       "version_minor": 0
      },
      "text/plain": [
       "Output()"
      ]
     },
     "metadata": {},
     "output_type": "display_data"
    }
   ],
   "source": [
    "#What color is the White House?\n",
    "radio_question1 = widgets.RadioButtons(\n",
    "                     options=['white', 'tan', 'slate', 'green'])\n",
    "Q1_question = HBox([Label(\"What color is the White House?\")])\n",
    "Q1_output = widgets.Output()\n",
    "display(Q1_question, radio_question1, Q1_output)\n",
    "def question_one(value):\n",
    "    global counter\n",
    "    Q1_output.clear_output()\n",
    "    with Q1_output:\n",
    "        if value['new'] != 'white':\n",
    "            counter = counter - 1\n",
    "            if counter == 0:\n",
    "                radio_question1.disabled = True\n",
    "            print(f\"Incorrect. Attempts left: {counter}\")\n",
    "            \n",
    "                \n",
    "        else:\n",
    "            print(\"Correct\")\n",
    "            radio_question1.disabled = True\n",
    "            \n",
    "radio_question1.observe(question_one, names = 'value')"
   ]
  },
  {
   "cell_type": "code",
   "execution_count": 12,
   "id": "e4d44e87-e243-43fd-a9ee-2e5f0ab567a8",
   "metadata": {},
   "outputs": [
    {
     "ename": "NameError",
     "evalue": "name 'output4' is not defined",
     "output_type": "error",
     "traceback": [
      "\u001b[1;31m---------------------------------------------------------------------------\u001b[0m",
      "\u001b[1;31mNameError\u001b[0m                                 Traceback (most recent call last)",
      "\u001b[1;32m~\\AppData\\Local\\Temp\\ipykernel_23748\\2916638855.py\u001b[0m in \u001b[0;36m<module>\u001b[1;34m\u001b[0m\n\u001b[0;32m     32\u001b[0m \u001b[1;31m# output4 = widgets.Output()\u001b[0m\u001b[1;33m\u001b[0m\u001b[1;33m\u001b[0m\u001b[1;33m\u001b[0m\u001b[0m\n\u001b[0;32m     33\u001b[0m \u001b[1;33m\u001b[0m\u001b[0m\n\u001b[1;32m---> 34\u001b[1;33m \u001b[1;32mwith\u001b[0m \u001b[0moutput4\u001b[0m\u001b[1;33m:\u001b[0m\u001b[1;33m\u001b[0m\u001b[1;33m\u001b[0m\u001b[0m\n\u001b[0m\u001b[0;32m     35\u001b[0m     \u001b[0mdisplay\u001b[0m\u001b[1;33m(\u001b[0m\u001b[0minp1\u001b[0m\u001b[1;33m,\u001b[0m \u001b[0minp2\u001b[0m\u001b[1;33m)\u001b[0m\u001b[1;33m\u001b[0m\u001b[1;33m\u001b[0m\u001b[0m\n\u001b[0;32m     36\u001b[0m \u001b[1;33m\u001b[0m\u001b[0m\n",
      "\u001b[1;31mNameError\u001b[0m: name 'output4' is not defined"
     ]
    }
   ],
   "source": [
    "# Define TEXT BOX INPUT\n",
    "style = {'description_width': 'initial'}\n",
    "\n",
    "inp1 = widgets.Text(\n",
    "    description='DEM path [*.tif / *.vrt]:',\n",
    "    placeholder=\"data_folder/file.tif\",\n",
    "    layout=widgets.Layout(width='98%'),\n",
    "    style=style,\n",
    "    disabled=False\n",
    "    # layout={'width': 'max-content'}\n",
    "    # value=\"data/ISA-15_Kilkee/ISA-15_Kilkee_dem_05m.vrt\"\n",
    ")\n",
    "\n",
    "inp2 = widgets.Text(\n",
    "    description='Visualizations path [folder]:',\n",
    "    placeholder=\"data_folder\",\n",
    "    layout=widgets.Layout(width='98%'),\n",
    "    style=style,\n",
    "    disabled=True\n",
    "    # layout={'width': 'max-content'}\n",
    "    # value=\"data/ISA-15_Kilkee/ISA-15_Kilkee_dem_05m.vrt\"\n",
    ")\n",
    "\n",
    "# Define radio button\n",
    "radio_button = widgets.RadioButtons(\n",
    "    options=['DEM', 'visualization'],\n",
    "    value=None,\n",
    "    description='Select the input data type:',\n",
    "    disabled=False)\n",
    "\n",
    "# # Define context manager for display output (text box for DEM)\n",
    "# output4 = widgets.Output()\n",
    "\n",
    "with output4:\n",
    "    display(inp1, inp2)\n",
    "\n",
    "display(radio_button, output4)\n",
    "\n",
    "# HANDLER\n",
    "def what_traits_radio(value):\n",
    "    widgets.Output().clear_output()\n",
    "    if value['new'] != 'DEM':\n",
    "        inp1.disabled = True\n",
    "        inp2.disabled = False\n",
    "    else:\n",
    "        inp1.disabled = False\n",
    "        inp2.disabled = True\n",
    "    \n",
    "    with widgets.Output():\n",
    "        display(inp1, inp2)\n",
    "\n",
    "# When radio button trait changes, call the what_traits_radio function\n",
    "radio_button.observe(what_traits_radio, names='value')"
   ]
  },
  {
   "cell_type": "code",
   "execution_count": null,
   "id": "3af7612e-ebb8-42bb-93b8-cb3dee103b4d",
   "metadata": {},
   "outputs": [],
   "source": []
  }
 ],
 "metadata": {
  "kernelspec": {
   "display_name": "aitlas-tii",
   "language": "python",
   "name": "aitlas-tii"
  },
  "language_info": {
   "codemirror_mode": {
    "name": "ipython",
    "version": 3
   },
   "file_extension": ".py",
   "mimetype": "text/x-python",
   "name": "python",
   "nbconvert_exporter": "python",
   "pygments_lexer": "ipython3",
   "version": "3.8.17"
  },
  "widgets": {
   "application/vnd.jupyter.widget-state+json": {
    "state": {
     "09ddf2acacd9422db6c4e5887d6bd70f": {
      "model_module": "@jupyter-widgets/base",
      "model_module_version": "2.0.0",
      "model_name": "LayoutModel",
      "state": {}
     },
     "0bd6dc575350428f9f668cba94a205ba": {
      "model_module": "@jupyter-widgets/base",
      "model_module_version": "2.0.0",
      "model_name": "LayoutModel",
      "state": {
       "width": "98%"
      }
     },
     "0dff3d80f8364d63bfc3a8ddfeb06484": {
      "model_module": "@jupyter-widgets/controls",
      "model_module_version": "2.0.0",
      "model_name": "VBoxModel",
      "state": {
       "_dom_classes": [
        "widget-interact"
       ],
       "children": [
        "IPY_MODEL_67fab154b52f430bb012c5f421cf290f",
        "IPY_MODEL_7203f20f458a4e6b9946c57b103d5524"
       ],
       "layout": "IPY_MODEL_42249dd2ac364028a0bc75a0424b4bff"
      }
     },
     "1028d0654f4a46aab9b8748f5b2bb981": {
      "model_module": "@jupyter-widgets/controls",
      "model_module_version": "2.0.0",
      "model_name": "RadioButtonsModel",
      "state": {
       "_options_labels": [
        "white",
        "tan",
        "slate",
        "green"
       ],
       "index": 0,
       "layout": "IPY_MODEL_28c3ca0d3287428b9130a20cebe6a029",
       "style": "IPY_MODEL_3efb0027b6a54e6397fc271d27cc6276"
      }
     },
     "13794642ec464e09b6ea8eabbb94e77d": {
      "model_module": "@jupyter-widgets/controls",
      "model_module_version": "2.0.0",
      "model_name": "HBoxModel",
      "state": {
       "children": [
        "IPY_MODEL_6d0dfa8e9edb4c83b215a4ebe24887ed"
       ],
       "layout": "IPY_MODEL_15eb7b7147c54f8badd09f3f2e748c34"
      }
     },
     "15eb7b7147c54f8badd09f3f2e748c34": {
      "model_module": "@jupyter-widgets/base",
      "model_module_version": "2.0.0",
      "model_name": "LayoutModel",
      "state": {}
     },
     "170ce41606dc419bb1eda6e7cc631873": {
      "model_module": "@jupyter-widgets/base",
      "model_module_version": "2.0.0",
      "model_name": "LayoutModel",
      "state": {}
     },
     "17648b3b2db54359a7a127e18ad15424": {
      "model_module": "@jupyter-widgets/output",
      "model_module_version": "1.0.0",
      "model_name": "OutputModel",
      "state": {
       "layout": "IPY_MODEL_2211fbf765af47df8d68b824dbd4dd0c"
      }
     },
     "2211fbf765af47df8d68b824dbd4dd0c": {
      "model_module": "@jupyter-widgets/base",
      "model_module_version": "2.0.0",
      "model_name": "LayoutModel",
      "state": {}
     },
     "229c90852936498d85cfaf72b49b7192": {
      "model_module": "@jupyter-widgets/controls",
      "model_module_version": "2.0.0",
      "model_name": "TextModel",
      "state": {
       "description": "x",
       "layout": "IPY_MODEL_170ce41606dc419bb1eda6e7cc631873",
       "style": "IPY_MODEL_f3545662776b45dfb892be75421d0ac6",
       "value": "Hello World"
      }
     },
     "25b57c15fcb44c3f9c38bbc23e335a9c": {
      "model_module": "@jupyter-widgets/base",
      "model_module_version": "2.0.0",
      "model_name": "LayoutModel",
      "state": {}
     },
     "28c3ca0d3287428b9130a20cebe6a029": {
      "model_module": "@jupyter-widgets/base",
      "model_module_version": "2.0.0",
      "model_name": "LayoutModel",
      "state": {}
     },
     "2c06f61d0e244d838e3ed9df56259f09": {
      "model_module": "@jupyter-widgets/output",
      "model_module_version": "1.0.0",
      "model_name": "OutputModel",
      "state": {
       "layout": "IPY_MODEL_322e8c650ac742178c74cee1cd26c38f",
       "outputs": [
        {
         "data": {
          "text/plain": "0.5"
         },
         "metadata": {},
         "output_type": "display_data"
        }
       ]
      }
     },
     "322e8c650ac742178c74cee1cd26c38f": {
      "model_module": "@jupyter-widgets/base",
      "model_module_version": "2.0.0",
      "model_name": "LayoutModel",
      "state": {}
     },
     "33eaf0f0408045c4bf584e01dad95f0b": {
      "model_module": "@jupyter-widgets/controls",
      "model_module_version": "2.0.0",
      "model_name": "RadioButtonsModel",
      "state": {
       "_options_labels": [
        "pepperoni",
        "pineapple",
        "anchovies"
       ],
       "description": "Pizza topping:",
       "index": null,
       "layout": "IPY_MODEL_8139bf033e254af09902461ee8801983",
       "style": "IPY_MODEL_8ade1457f5a247a3a2c100164aaad647"
      }
     },
     "3696f4741e8c4bc1a62d0bb2170c9005": {
      "model_module": "@jupyter-widgets/controls",
      "model_module_version": "2.0.0",
      "model_name": "TextModel",
      "state": {
       "description": "path",
       "layout": "IPY_MODEL_25b57c15fcb44c3f9c38bbc23e335a9c",
       "style": "IPY_MODEL_c658f7c8836048c2a1cc9416f18718bc",
       "value": "c:\\Users\\ncoz\\GitHub\\aitlas-TII-LIDAR\\inference\\data\\archaeology1_TIN\\135000_296000_archaeology1_TIN.tif"
      }
     },
     "3efb0027b6a54e6397fc271d27cc6276": {
      "model_module": "@jupyter-widgets/controls",
      "model_module_version": "2.0.0",
      "model_name": "DescriptionStyleModel",
      "state": {
       "description_width": ""
      }
     },
     "42249dd2ac364028a0bc75a0424b4bff": {
      "model_module": "@jupyter-widgets/base",
      "model_module_version": "2.0.0",
      "model_name": "LayoutModel",
      "state": {}
     },
     "45475026fe234f9698b357c1a635ebb8": {
      "model_module": "@jupyter-widgets/base",
      "model_module_version": "2.0.0",
      "model_name": "LayoutModel",
      "state": {
       "width": "98%"
      }
     },
     "5672ddea2cc843559543579666b31e62": {
      "model_module": "@jupyter-widgets/controls",
      "model_module_version": "2.0.0",
      "model_name": "RadioButtonsModel",
      "state": {
       "_options_labels": [
        "DEM",
        "visualization"
       ],
       "description": "Select the input data type:",
       "index": null,
       "layout": "IPY_MODEL_c582516a689747f4b5b47411d5616205",
       "style": "IPY_MODEL_9a69e05a60dd41a4a0b1ef88c017585e"
      }
     },
     "57b5eae33e7848558d5040353754bb69": {
      "model_module": "@jupyter-widgets/base",
      "model_module_version": "2.0.0",
      "model_name": "LayoutModel",
      "state": {}
     },
     "5f69b482cc25492a9ad14af1393f1cff": {
      "model_module": "@jupyter-widgets/base",
      "model_module_version": "2.0.0",
      "model_name": "LayoutModel",
      "state": {}
     },
     "64dbd084cb9046068276b1abe121a125": {
      "model_module": "@jupyter-widgets/base",
      "model_module_version": "2.0.0",
      "model_name": "LayoutModel",
      "state": {}
     },
     "67fab154b52f430bb012c5f421cf290f": {
      "model_module": "@jupyter-widgets/controls",
      "model_module_version": "2.0.0",
      "model_name": "TextModel",
      "state": {
       "description": "x",
       "layout": "IPY_MODEL_9eb87ee2c12846b584081ff9bc4f037b",
       "style": "IPY_MODEL_bad5ded0013f497aae5851601dbdc6db",
       "value": "Hello World"
      }
     },
     "6a0ec93e17fa426a920b5f2b562b3549": {
      "model_module": "@jupyter-widgets/controls",
      "model_module_version": "2.0.0",
      "model_name": "CheckboxStyleModel",
      "state": {
       "description_width": ""
      }
     },
     "6d0dfa8e9edb4c83b215a4ebe24887ed": {
      "model_module": "@jupyter-widgets/controls",
      "model_module_version": "2.0.0",
      "model_name": "LabelModel",
      "state": {
       "layout": "IPY_MODEL_64dbd084cb9046068276b1abe121a125",
       "style": "IPY_MODEL_a876e05b96334de19f26d64c57680c9f",
       "value": "What color is the White House?"
      }
     },
     "7203f20f458a4e6b9946c57b103d5524": {
      "model_module": "@jupyter-widgets/output",
      "model_module_version": "1.0.0",
      "model_name": "OutputModel",
      "state": {
       "layout": "IPY_MODEL_fb45848983bc4391be43711946817eda",
       "outputs": [
        {
         "name": "stdout",
         "output_type": "stream",
         "text": "Hello World\n"
        }
       ]
      }
     },
     "7517db73063c457bae2eac0b83335905": {
      "model_module": "@jupyter-widgets/output",
      "model_module_version": "1.0.0",
      "model_name": "OutputModel",
      "state": {
       "layout": "IPY_MODEL_f188685ec0a8449490151f2f31e9a391",
       "outputs": [
        {
         "name": "stdout",
         "output_type": "stream",
         "text": "Hello World\n"
        }
       ]
      }
     },
     "77335392a80343918941ab22556c19a7": {
      "model_module": "@jupyter-widgets/controls",
      "model_module_version": "2.0.0",
      "model_name": "VBoxModel",
      "state": {
       "_dom_classes": [
        "widget-interact"
       ],
       "children": [
        "IPY_MODEL_3696f4741e8c4bc1a62d0bb2170c9005",
        "IPY_MODEL_2c06f61d0e244d838e3ed9df56259f09"
       ],
       "layout": "IPY_MODEL_5f69b482cc25492a9ad14af1393f1cff"
      }
     },
     "7c9c9e47965c4a45a4d57aa56e4bcebd": {
      "model_module": "@jupyter-widgets/output",
      "model_module_version": "1.0.0",
      "model_name": "OutputModel",
      "state": {
       "layout": "IPY_MODEL_d6b336fbd7a542a7bd98fab68ae9ddf7"
      }
     },
     "8139bf033e254af09902461ee8801983": {
      "model_module": "@jupyter-widgets/base",
      "model_module_version": "2.0.0",
      "model_name": "LayoutModel",
      "state": {}
     },
     "8ade1457f5a247a3a2c100164aaad647": {
      "model_module": "@jupyter-widgets/controls",
      "model_module_version": "2.0.0",
      "model_name": "DescriptionStyleModel",
      "state": {
       "description_width": ""
      }
     },
     "9a69e05a60dd41a4a0b1ef88c017585e": {
      "model_module": "@jupyter-widgets/controls",
      "model_module_version": "2.0.0",
      "model_name": "DescriptionStyleModel",
      "state": {
       "description_width": ""
      }
     },
     "9b430c51ed144d22a96b8d1f0252816d": {
      "model_module": "@jupyter-widgets/controls",
      "model_module_version": "2.0.0",
      "model_name": "TextStyleModel",
      "state": {
       "description_width": "initial",
       "font_size": null,
       "text_color": null
      }
     },
     "9e0efd3e48974a699b1c9b122cc0eec3": {
      "model_module": "@jupyter-widgets/controls",
      "model_module_version": "2.0.0",
      "model_name": "TextModel",
      "state": {
       "description": "DEM path [*.tif / *.vrt]:",
       "layout": "IPY_MODEL_f42606381f0c467fa843540df2d4bb62",
       "placeholder": "data_folder/file.tif",
       "style": "IPY_MODEL_9b430c51ed144d22a96b8d1f0252816d"
      }
     },
     "9eb87ee2c12846b584081ff9bc4f037b": {
      "model_module": "@jupyter-widgets/base",
      "model_module_version": "2.0.0",
      "model_name": "LayoutModel",
      "state": {}
     },
     "a876e05b96334de19f26d64c57680c9f": {
      "model_module": "@jupyter-widgets/controls",
      "model_module_version": "2.0.0",
      "model_name": "LabelStyleModel",
      "state": {
       "description_width": "",
       "font_family": null,
       "font_size": null,
       "font_style": null,
       "font_variant": null,
       "font_weight": null,
       "text_color": null,
       "text_decoration": null
      }
     },
     "aeffba5e08114740a08bc75fc467559f": {
      "model_module": "@jupyter-widgets/controls",
      "model_module_version": "2.0.0",
      "model_name": "TextModel",
      "state": {
       "description": "Visualizations path [folder]:",
       "disabled": true,
       "layout": "IPY_MODEL_45475026fe234f9698b357c1a635ebb8",
       "placeholder": "data_folder",
       "style": "IPY_MODEL_d8073ae65bdd444e8d1071f1b0c091e4"
      }
     },
     "ba82d32822b043c4a08483214f0064a1": {
      "model_module": "@jupyter-widgets/controls",
      "model_module_version": "2.0.0",
      "model_name": "TextStyleModel",
      "state": {
       "description_width": "initial",
       "font_size": null,
       "text_color": null
      }
     },
     "bad5ded0013f497aae5851601dbdc6db": {
      "model_module": "@jupyter-widgets/controls",
      "model_module_version": "2.0.0",
      "model_name": "TextStyleModel",
      "state": {
       "description_width": "",
       "font_size": null,
       "text_color": null
      }
     },
     "c582516a689747f4b5b47411d5616205": {
      "model_module": "@jupyter-widgets/base",
      "model_module_version": "2.0.0",
      "model_name": "LayoutModel",
      "state": {}
     },
     "c658f7c8836048c2a1cc9416f18718bc": {
      "model_module": "@jupyter-widgets/controls",
      "model_module_version": "2.0.0",
      "model_name": "TextStyleModel",
      "state": {
       "description_width": "",
       "font_size": null,
       "text_color": null
      }
     },
     "cdb97d6d94a44a42af1ec6a88fd26625": {
      "model_module": "@jupyter-widgets/controls",
      "model_module_version": "2.0.0",
      "model_name": "TextModel",
      "state": {
       "description": "DEM path [*.tif / *.vrt]:",
       "disabled": true,
       "layout": "IPY_MODEL_0bd6dc575350428f9f668cba94a205ba",
       "placeholder": "data_folder/file.tif",
       "style": "IPY_MODEL_ba82d32822b043c4a08483214f0064a1"
      }
     },
     "d2e2599f5431407e9b28a920c06c8429": {
      "model_module": "@jupyter-widgets/controls",
      "model_module_version": "2.0.0",
      "model_name": "RadioButtonsModel",
      "state": {
       "_options_labels": [
        "object detection",
        "segmentation"
       ],
       "description": "Select ML method:",
       "index": 1,
       "layout": "IPY_MODEL_de15269f72284f1cb1f4f6475d270d0c",
       "style": "IPY_MODEL_f5eeb8e8ec0741d99220bdb4443dac9b"
      }
     },
     "d6b336fbd7a542a7bd98fab68ae9ddf7": {
      "model_module": "@jupyter-widgets/base",
      "model_module_version": "2.0.0",
      "model_name": "LayoutModel",
      "state": {}
     },
     "d8073ae65bdd444e8d1071f1b0c091e4": {
      "model_module": "@jupyter-widgets/controls",
      "model_module_version": "2.0.0",
      "model_name": "TextStyleModel",
      "state": {
       "description_width": "initial",
       "font_size": null,
       "text_color": null
      }
     },
     "dd7631a029064805b5493a181937a8fb": {
      "model_module": "@jupyter-widgets/output",
      "model_module_version": "1.0.0",
      "model_name": "OutputModel",
      "state": {
       "layout": "IPY_MODEL_57b5eae33e7848558d5040353754bb69"
      }
     },
     "de15269f72284f1cb1f4f6475d270d0c": {
      "model_module": "@jupyter-widgets/base",
      "model_module_version": "2.0.0",
      "model_name": "LayoutModel",
      "state": {}
     },
     "e497ceda7be84dddbb597dbdd7b70483": {
      "model_module": "@jupyter-widgets/base",
      "model_module_version": "2.0.0",
      "model_name": "LayoutModel",
      "state": {}
     },
     "ef6138191be745e6913dee688390004d": {
      "model_module": "@jupyter-widgets/controls",
      "model_module_version": "2.0.0",
      "model_name": "CheckboxModel",
      "state": {
       "description": "What are my traits?",
       "disabled": false,
       "layout": "IPY_MODEL_e497ceda7be84dddbb597dbdd7b70483",
       "style": "IPY_MODEL_6a0ec93e17fa426a920b5f2b562b3549",
       "value": false
      }
     },
     "f188685ec0a8449490151f2f31e9a391": {
      "model_module": "@jupyter-widgets/base",
      "model_module_version": "2.0.0",
      "model_name": "LayoutModel",
      "state": {}
     },
     "f32359b9416140418aa70b56f9ccf0e4": {
      "model_module": "@jupyter-widgets/controls",
      "model_module_version": "2.0.0",
      "model_name": "VBoxModel",
      "state": {
       "_dom_classes": [
        "widget-interact"
       ],
       "children": [
        "IPY_MODEL_229c90852936498d85cfaf72b49b7192",
        "IPY_MODEL_7517db73063c457bae2eac0b83335905"
       ],
       "layout": "IPY_MODEL_09ddf2acacd9422db6c4e5887d6bd70f"
      }
     },
     "f3545662776b45dfb892be75421d0ac6": {
      "model_module": "@jupyter-widgets/controls",
      "model_module_version": "2.0.0",
      "model_name": "TextStyleModel",
      "state": {
       "description_width": "",
       "font_size": null,
       "text_color": null
      }
     },
     "f42606381f0c467fa843540df2d4bb62": {
      "model_module": "@jupyter-widgets/base",
      "model_module_version": "2.0.0",
      "model_name": "LayoutModel",
      "state": {
       "width": "98%"
      }
     },
     "f5eeb8e8ec0741d99220bdb4443dac9b": {
      "model_module": "@jupyter-widgets/controls",
      "model_module_version": "2.0.0",
      "model_name": "DescriptionStyleModel",
      "state": {
       "description_width": ""
      }
     },
     "fb45848983bc4391be43711946817eda": {
      "model_module": "@jupyter-widgets/base",
      "model_module_version": "2.0.0",
      "model_name": "LayoutModel",
      "state": {}
     }
    },
    "version_major": 2,
    "version_minor": 0
   }
  }
 },
 "nbformat": 4,
 "nbformat_minor": 5
}
