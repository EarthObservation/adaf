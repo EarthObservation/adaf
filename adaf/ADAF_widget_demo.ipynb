{
 "cells": [
  {
   "cell_type": "markdown",
   "id": "fac53519-1db7-466c-bab7-addd390fb928",
   "metadata": {},
   "source": [
    "**ADAF Demo**\n",
    "\n",
    "**TII MLM user workshop - 13/6/2023**"
   ]
  },
  {
   "cell_type": "markdown",
   "id": "06ef7363-cd6b-4029-a9ff-11f931a165f3",
   "metadata": {},
   "source": [
    "## GUI Prototype: ML patch creation\n",
    "\n",
    "This Jupyter Notebook was created for demonstration of prototype GUI for creating ML patches.\n",
    "\n",
    "The Notebook is designed to be user-friendly and can be used by people with little or no programming knowledge. At the same time it alows advanced users to \"look under the hood\" and modify the code to their own preferences.\n",
    "\n",
    "## **HOW TO BEGIN**?\n",
    "\n",
    "* To start the GUI widget simply run the cell bellow.\n",
    "\n",
    "* To run the cell press the double arrows symbol on the toolbar above \n",
    "\n",
    "![](media/ipy_resker.png)\n",
    "\n",
    "* It will ask you to restart the kernel, press **`Restart`**.\n",
    "\n",
    "\n",
    "\n",
    "* Example input data (paths):\n",
    "\n",
    "> DEM path: `c:\\Users\\ncoz\\GitHub\\aitlas-TII-LIDAR\\inference\\data-small_debug\\ISA-147_small.tif`\n",
    ">\n",
    "> ML model **segmentation**: `c:\\Users\\ncoz\\GitHub\\aitlas-TII-LIDAR\\inference\\models\\model_semantic_segmentation_BRE_124.tar`\n",
    ">\n",
    "> --\n",
    ">\n",
    "> ML model **object detection**: `c:\\Users\\ncoz\\GitHub\\aitlas-TII-LIDAR\\inference\\models\\model_object_detection_BRE_12.tar`\n",
    "\n",
    "* After filling-in the requiered field simply pres the **`Run ADAF`** button"
   ]
  },
  {
   "cell_type": "code",
   "execution_count": 1,
   "id": "282a3d92-e1ff-4748-9400-866bb66ab2a2",
   "metadata": {
    "scrolled": true
   },
   "outputs": [
    {
     "data": {
      "application/vnd.jupyter.widget-view+json": {
       "model_id": "7d255f45bb4840fda52f4081f67a8a2d",
       "version_major": 2,
       "version_minor": 0
      },
      "text/plain": [
       "VBox(children=(Text(value='', description='DEM path [*.tif / *.vrt]:', layout=Layout(width='98%'), placeholder…"
      ]
     },
     "metadata": {},
     "output_type": "display_data"
    },
    {
     "data": {
      "application/vnd.jupyter.widget-view+json": {
       "model_id": "c5d969a21438419e8c050091ab5e4bf0",
       "version_major": 2,
       "version_minor": 0
      },
      "text/plain": [
       "Output()"
      ]
     },
     "metadata": {},
     "output_type": "display_data"
    }
   ],
   "source": [
    "import adaf_widget"
   ]
  }
 ],
 "metadata": {
  "kernelspec": {
   "display_name": "aitlas-tii",
   "language": "python",
   "name": "aitlas-tii"
  },
  "language_info": {
   "codemirror_mode": {
    "name": "ipython",
    "version": 3
   },
   "file_extension": ".py",
   "mimetype": "text/x-python",
   "name": "python",
   "nbconvert_exporter": "python",
   "pygments_lexer": "ipython3",
   "version": "3.8.17"
  },
  "widgets": {
   "application/vnd.jupyter.widget-state+json": {
    "state": {
     "05b4b381c0504aecbf2bc6a36bffd954": {
      "model_module": "@jupyter-widgets/controls",
      "model_module_version": "2.0.0",
      "model_name": "ButtonStyleModel",
      "state": {
       "font_family": null,
       "font_size": null,
       "font_style": null,
       "font_variant": null,
       "font_weight": null,
       "text_color": null,
       "text_decoration": null
      }
     },
     "0f98b1809c9d4511b571049c9b2a564f": {
      "model_module": "@jupyter-widgets/controls",
      "model_module_version": "2.0.0",
      "model_name": "SliderStyleModel",
      "state": {
       "description_width": ""
      }
     },
     "2910ce36e40940de99fe96ad479732f7": {
      "model_module": "@jupyter-widgets/controls",
      "model_module_version": "2.0.0",
      "model_name": "TextModel",
      "state": {
       "description": "DEM path [*.tif / *.vrt]:",
       "layout": "IPY_MODEL_748c31e38c0e492b988d40816b043856",
       "placeholder": "data_folder/file.tif",
       "style": "IPY_MODEL_31f93ba35d0c4873b8ea3bd4b4cb2bd0"
      }
     },
     "31f93ba35d0c4873b8ea3bd4b4cb2bd0": {
      "model_module": "@jupyter-widgets/controls",
      "model_module_version": "2.0.0",
      "model_name": "TextStyleModel",
      "state": {
       "description_width": "initial",
       "font_size": null,
       "text_color": null
      }
     },
     "37056725fbde40eebef5a0fc903320f5": {
      "model_module": "@jupyter-widgets/base",
      "model_module_version": "2.0.0",
      "model_name": "LayoutModel",
      "state": {}
     },
     "37b18439c28a4076842703db06bfa34e": {
      "model_module": "@jupyter-widgets/controls",
      "model_module_version": "2.0.0",
      "model_name": "LabelStyleModel",
      "state": {
       "description_width": "",
       "font_family": null,
       "font_size": null,
       "font_style": null,
       "font_variant": null,
       "font_weight": null,
       "text_color": null,
       "text_decoration": null
      }
     },
     "43ec93ad2e32454eaf10808680043c7b": {
      "model_module": "@jupyter-widgets/base",
      "model_module_version": "2.0.0",
      "model_name": "LayoutModel",
      "state": {}
     },
     "58c165c9f16942ef9bd7329851d98ad4": {
      "model_module": "@jupyter-widgets/controls",
      "model_module_version": "2.0.0",
      "model_name": "DescriptionStyleModel",
      "state": {
       "description_width": "initial"
      }
     },
     "5a92f93823af48408d956808291b7faa": {
      "model_module": "@jupyter-widgets/base",
      "model_module_version": "2.0.0",
      "model_name": "LayoutModel",
      "state": {}
     },
     "635d4bc664d74b8c9168bf3843e193ef": {
      "model_module": "@jupyter-widgets/controls",
      "model_module_version": "2.0.0",
      "model_name": "FloatSliderModel",
      "state": {
       "behavior": "drag-tap",
       "layout": "IPY_MODEL_43ec93ad2e32454eaf10808680043c7b",
       "max": 0.9,
       "min": 0.3,
       "step": 0.1,
       "style": "IPY_MODEL_0f98b1809c9d4511b571049c9b2a564f",
       "value": 0.5
      }
     },
     "67faec257ec948c684db04321ad9e238": {
      "model_module": "@jupyter-widgets/base",
      "model_module_version": "2.0.0",
      "model_name": "LayoutModel",
      "state": {
       "width": "20%"
      }
     },
     "6a09d6145b8a49c480de883160fa636f": {
      "model_module": "@jupyter-widgets/controls",
      "model_module_version": "2.0.0",
      "model_name": "RadioButtonsModel",
      "state": {
       "_options_labels": [
        "object detection",
        "segmentation"
       ],
       "description": "Select ML method:",
       "index": 1,
       "layout": "IPY_MODEL_842051577d834acbbd8dda62665cc46f",
       "style": "IPY_MODEL_95d0dfe3ac8d47eb8634be2a1ce35507"
      }
     },
     "748c31e38c0e492b988d40816b043856": {
      "model_module": "@jupyter-widgets/base",
      "model_module_version": "2.0.0",
      "model_name": "LayoutModel",
      "state": {
       "width": "98%"
      }
     },
     "76406fc3ef6643e6a65bbb5f0b9017a7": {
      "model_module": "@jupyter-widgets/controls",
      "model_module_version": "2.0.0",
      "model_name": "TextModel",
      "state": {
       "description": "Path to ML model [*.tar]:",
       "layout": "IPY_MODEL_dd36be315fae447b991c9b17028f9c49",
       "placeholder": "model_folder/saved_model.tar",
       "style": "IPY_MODEL_e03e0227b1fb4313bbbb140ce258e935"
      }
     },
     "7d255f45bb4840fda52f4081f67a8a2d": {
      "model_module": "@jupyter-widgets/controls",
      "model_module_version": "2.0.0",
      "model_name": "VBoxModel",
      "state": {
       "children": [
        "IPY_MODEL_2910ce36e40940de99fe96ad479732f7",
        "IPY_MODEL_6a09d6145b8a49c480de883160fa636f",
        "IPY_MODEL_76406fc3ef6643e6a65bbb5f0b9017a7",
        "IPY_MODEL_c631e1610c494bd3bfc6a146754048bb",
        "IPY_MODEL_b40c70dce4224c289077e043c2e9d28d",
        "IPY_MODEL_889e9cd1a73a4d6bb34a52fbd2a79055"
       ],
       "layout": "IPY_MODEL_37056725fbde40eebef5a0fc903320f5"
      }
     },
     "842051577d834acbbd8dda62665cc46f": {
      "model_module": "@jupyter-widgets/base",
      "model_module_version": "2.0.0",
      "model_name": "LayoutModel",
      "state": {}
     },
     "889e9cd1a73a4d6bb34a52fbd2a79055": {
      "model_module": "@jupyter-widgets/controls",
      "model_module_version": "2.0.0",
      "model_name": "ButtonModel",
      "state": {
       "description": "Run ADAF",
       "layout": "IPY_MODEL_e5bf69d1fc684e73bf2dac3a7c776235",
       "style": "IPY_MODEL_05b4b381c0504aecbf2bc6a36bffd954",
       "tooltip": null
      }
     },
     "95d0dfe3ac8d47eb8634be2a1ce35507": {
      "model_module": "@jupyter-widgets/controls",
      "model_module_version": "2.0.0",
      "model_name": "DescriptionStyleModel",
      "state": {
       "description_width": ""
      }
     },
     "a6f5a427df824792bbd6c25a5edc83e6": {
      "model_module": "@jupyter-widgets/base",
      "model_module_version": "2.0.0",
      "model_name": "LayoutModel",
      "state": {}
     },
     "b40c70dce4224c289077e043c2e9d28d": {
      "model_module": "@jupyter-widgets/controls",
      "model_module_version": "2.0.0",
      "model_name": "HBoxModel",
      "state": {
       "children": [
        "IPY_MODEL_d13ae27d4fbb4c1c8aa5f242c0ba19e5",
        "IPY_MODEL_635d4bc664d74b8c9168bf3843e193ef"
       ],
       "layout": "IPY_MODEL_5a92f93823af48408d956808291b7faa"
      }
     },
     "bf913a83fe76481284d36334c20acf50": {
      "model_module": "@jupyter-widgets/base",
      "model_module_version": "2.0.0",
      "model_name": "LayoutModel",
      "state": {}
     },
     "c5d969a21438419e8c050091ab5e4bf0": {
      "model_module": "@jupyter-widgets/output",
      "model_module_version": "1.0.0",
      "model_name": "OutputModel",
      "state": {
       "layout": "IPY_MODEL_bf913a83fe76481284d36334c20acf50"
      }
     },
     "c631e1610c494bd3bfc6a146754048bb": {
      "model_module": "@jupyter-widgets/controls",
      "model_module_version": "2.0.0",
      "model_name": "DropdownModel",
      "state": {
       "_options_labels": [
        "256",
        "512",
        "1024",
        "2048"
       ],
       "description": "Tile size [pixels]:",
       "index": 1,
       "layout": "IPY_MODEL_67faec257ec948c684db04321ad9e238",
       "style": "IPY_MODEL_58c165c9f16942ef9bd7329851d98ad4"
      }
     },
     "d13ae27d4fbb4c1c8aa5f242c0ba19e5": {
      "model_module": "@jupyter-widgets/controls",
      "model_module_version": "2.0.0",
      "model_name": "LabelModel",
      "state": {
       "layout": "IPY_MODEL_a6f5a427df824792bbd6c25a5edc83e6",
       "style": "IPY_MODEL_37b18439c28a4076842703db06bfa34e",
       "value": "Threshold (predictions probability)"
      }
     },
     "dd36be315fae447b991c9b17028f9c49": {
      "model_module": "@jupyter-widgets/base",
      "model_module_version": "2.0.0",
      "model_name": "LayoutModel",
      "state": {
       "width": "98%"
      }
     },
     "e03e0227b1fb4313bbbb140ce258e935": {
      "model_module": "@jupyter-widgets/controls",
      "model_module_version": "2.0.0",
      "model_name": "TextStyleModel",
      "state": {
       "description_width": "initial",
       "font_size": null,
       "text_color": null
      }
     },
     "e5bf69d1fc684e73bf2dac3a7c776235": {
      "model_module": "@jupyter-widgets/base",
      "model_module_version": "2.0.0",
      "model_name": "LayoutModel",
      "state": {
       "width": "98%"
      }
     }
    },
    "version_major": 2,
    "version_minor": 0
   }
  }
 },
 "nbformat": 4,
 "nbformat_minor": 5
}
