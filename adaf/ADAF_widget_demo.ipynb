{
 "cells": [
  {
   "cell_type": "markdown",
   "id": "fac53519-1db7-466c-bab7-addd390fb928",
   "metadata": {},
   "source": [
    "**ADAF Demo**\n",
    "\n",
    "**TII MLM user workshop - 13/6/2023**"
   ]
  },
  {
   "cell_type": "markdown",
   "id": "06ef7363-cd6b-4029-a9ff-11f931a165f3",
   "metadata": {},
   "source": [
    "## GUI Prototype: ML patch creation\n",
    "\n",
    "This Jupyter Notebook was created for demonstration of prototype GUI for creating ML patches.\n",
    "\n",
    "The Notebook is designed to be user-friendly and can be used by people with little or no programming knowledge. At the same time it alows advanced users to \"look under the hood\" and modify the code to their own preferences.\n",
    "\n",
    "## **HOW TO BEGIN**?\n",
    "\n",
    "* To start the GUI widget simply run the cell bellow.\n",
    "\n",
    "* To run the cell press the double arrows symbol on the toolbar above \n",
    "\n",
    "![](media/ipy_resker.png)\n",
    "\n",
    "* It will ask you to restart the kernel, press **`Restart`**.\n",
    "\n",
    "\n",
    "\n",
    "* Example input data (paths):\n",
    "\n",
    "> DEM path: `c:\\Users\\ncoz\\GitHub\\aitlas-TII-LIDAR\\inference\\data-small_debug\\ISA-147_small.tif`\n",
    ">\n",
    "> ML model **segmentation**: `c:\\Users\\ncoz\\GitHub\\aitlas-TII-LIDAR\\inference\\data\\model_semantic_segmentation_BRE_124.tar`\n",
    ">\n",
    "> --\n",
    ">\n",
    "> ML model **object detection**: `c:\\Users\\ncoz\\GitHub\\aitlas-TII-LIDAR\\inference\\data\\model_object_detection_BRE_12.tar`\n",
    "\n",
    "* After filling-in the requiered field simply pres the **`Run ADAF`** button"
   ]
  },
  {
   "cell_type": "code",
   "execution_count": 1,
   "id": "282a3d92-e1ff-4748-9400-866bb66ab2a2",
   "metadata": {
    "scrolled": true
   },
   "outputs": [
    {
     "data": {
      "application/vnd.jupyter.widget-view+json": {
       "model_id": "8b5d0c2b919f4fd9a5c9f407350b1ebf",
       "version_major": 2,
       "version_minor": 0
      },
      "text/plain": [
       "VBox(children=(Text(value='', description='DEM path [*.tif / *.vrt]:', layout=Layout(width='98%'), placeholder…"
      ]
     },
     "metadata": {},
     "output_type": "display_data"
    },
    {
     "data": {
      "application/vnd.jupyter.widget-view+json": {
       "model_id": "3ddb50f88f2c4010a016a8e8786d34bd",
       "version_major": 2,
       "version_minor": 0
      },
      "text/plain": [
       "Output()"
      ]
     },
     "metadata": {},
     "output_type": "display_data"
    }
   ],
   "source": [
    "import adaf_widget"
   ]
  }
 ],
 "metadata": {
  "kernelspec": {
   "display_name": "aitlas-adaf",
   "language": "python",
   "name": "aitlas-adaf"
  },
  "language_info": {
   "codemirror_mode": {
    "name": "ipython",
    "version": 3
   },
   "file_extension": ".py",
   "mimetype": "text/x-python",
   "name": "python",
   "nbconvert_exporter": "python",
   "pygments_lexer": "ipython3",
   "version": "3.8.16"
  }
 },
 "nbformat": 4,
 "nbformat_minor": 5
}
