{
 "cells": [
  {
   "cell_type": "markdown",
   "id": "fac53519-1db7-466c-bab7-addd390fb928",
   "metadata": {},
   "source": [
    "**TII Demo, Update meeting - 9/3/2023**"
   ]
  },
  {
   "cell_type": "markdown",
   "id": "06ef7363-cd6b-4029-a9ff-11f931a165f3",
   "metadata": {},
   "source": [
    "## GUI Prototype: ML patch creation\n",
    "\n",
    "This Jupyter Notebook was created for demonstration of prototype GUI for creating ML patches.\n",
    "\n",
    "The Notebook is designed to be user-friendly and can be used by people with little or no programming knowledge. At the same time it alows advanced users to \"look under the hood\" and modify the code to their own preferences.\n",
    "\n",
    "## **HOW TO BEGIN**?\n",
    "\n",
    "* To start the GUI widget simply run the cell bellow.\n",
    "\n",
    "* To run the cell press the ![](media/ipy_resker.png) symbol on the toolbar above. It will ask you to restart the kernel, press **`Restart`**.\n",
    "\n",
    "\n",
    "\n",
    "* Example input data (paths):\n",
    "\n",
    "> DEM: `c:/tii_demo/data/ISA-15_Kilkee/ISA-15_Kilkee_dem_05m.vrt`\n",
    ">\n",
    "> Output folder: `c:/tii_demo/results/ISA-15_Kilkee_patches`\n",
    "\n",
    "* After filling-in the requiered field simply pres the **`Create patches`** button"
   ]
  },
  {
   "cell_type": "code",
   "execution_count": 1,
   "id": "b39191da",
   "metadata": {},
   "outputs": [
    {
     "name": "stdout",
     "output_type": "stream",
     "text": [
      "# packages in environment at C:\\Users\\ncoz\\.conda\\envs\\ai-pip:\n",
      "#\n",
      "# Name                    Version                   Build  Channel\n",
      "rasterio                  1.2.10                   pypi_0    pypi\n"
     ]
    }
   ],
   "source": [
    "!conda list rasterio"
   ]
  },
  {
   "cell_type": "code",
   "execution_count": 2,
   "id": "1dffbc9d",
   "metadata": {},
   "outputs": [
    {
     "data": {
      "text/plain": [
       "'ab'"
      ]
     },
     "execution_count": 2,
     "metadata": {},
     "output_type": "execute_result"
    }
   ],
   "source": [
    "'a' + 'b'"
   ]
  },
  {
   "cell_type": "code",
   "execution_count": 1,
   "id": "282a3d92-e1ff-4748-9400-866bb66ab2a2",
   "metadata": {},
   "outputs": [
    {
     "data": {
      "application/vnd.jupyter.widget-view+json": {
       "model_id": "939dc642068348dcb679b3ff111bd520",
       "version_major": 2,
       "version_minor": 0
      },
      "text/plain": [
       "VBox(children=(Text(value='', description='DEM path:', layout=Layout(width='98%'), placeholder='data_folder/fi…"
      ]
     },
     "metadata": {},
     "output_type": "display_data"
    },
    {
     "data": {
      "application/vnd.jupyter.widget-view+json": {
       "model_id": "281c2153c46f4c509aca5881396e6f2e",
       "version_major": 2,
       "version_minor": 0
      },
      "text/plain": [
       "Output()"
      ]
     },
     "metadata": {},
     "output_type": "display_data"
    }
   ],
   "source": [
    "from adaf import adaf_widget"
   ]
  }
 ],
 "metadata": {
  "kernelspec": {
   "display_name": "ai-pip",
   "language": "python",
   "name": "ai-pip"
  },
  "language_info": {
   "codemirror_mode": {
    "name": "ipython",
    "version": 3
   },
   "file_extension": ".py",
   "mimetype": "text/x-python",
   "name": "python",
   "nbconvert_exporter": "python",
   "pygments_lexer": "ipython3",
   "version": "3.8.16"
  }
 },
 "nbformat": 4,
 "nbformat_minor": 5
}
