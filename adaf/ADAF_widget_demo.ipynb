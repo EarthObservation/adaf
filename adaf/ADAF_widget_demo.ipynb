{
 "cells": [
  {
   "cell_type": "markdown",
   "id": "fac53519-1db7-466c-bab7-addd390fb928",
   "metadata": {},
   "source": [
    "**ADAF Demo**\n",
    "\n",
    "**TII MLM user workshop - 13/6/2023**"
   ]
  },
  {
   "cell_type": "markdown",
   "id": "06ef7363-cd6b-4029-a9ff-11f931a165f3",
   "metadata": {},
   "source": [
    "## GUI Prototype: ML patch creation\n",
    "\n",
    "This Jupyter Notebook was created for demonstration of prototype GUI for creating ML patches.\n",
    "\n",
    "The Notebook is designed to be user-friendly and can be used by people with little or no programming knowledge. At the same time it alows advanced users to \"look under the hood\" and modify the code to their own preferences.\n",
    "\n",
    "## **HOW TO BEGIN**?\n",
    "\n",
    "* To start the GUI widget simply run the cell bellow.\n",
    "\n",
    "* To run the cell press the double arrows symbol on the toolbar above \n",
    "\n",
    "![](media/ipy_resker.png)\n",
    "\n",
    "* It will ask you to restart the kernel, press **`Restart`**.\n",
    "\n",
    "\n",
    "\n",
    "* Example input data (paths):\n",
    "\n",
    "> DEM path: `c:\\Users\\ncoz\\GitHub\\aitlas-TII-LIDAR\\inference\\data-small_debug\\ISA-147_small.tif`\n",
    ">\n",
    "> ML model **segmentation**: `c:\\Users\\ncoz\\GitHub\\aitlas-TII-LIDAR\\inference\\models\\model_semantic_segmentation_BRE_124.tar`\n",
    ">\n",
    "> --\n",
    ">\n",
    "> ML model **object detection**: `c:\\Users\\ncoz\\GitHub\\aitlas-TII-LIDAR\\inference\\models\\model_object_detection_BRE_12.tar`\n",
    "\n",
    "* After filling-in the requiered field simply pres the **`Run ADAF`** button"
   ]
  },
  {
   "cell_type": "code",
   "execution_count": 1,
   "id": "282a3d92-e1ff-4748-9400-866bb66ab2a2",
   "metadata": {
    "scrolled": true
   },
   "outputs": [
    {
     "data": {
      "application/vnd.jupyter.widget-view+json": {
       "model_id": "b7184559a8fa492681dd7bf2f6e45ca5",
       "version_major": 2,
       "version_minor": 0
      },
      "text/plain": [
       "RadioButtons(description='Select ML method:', options=('DEM [path to *.tif or path to *.vrt file]', 'Visualiza…"
      ]
     },
     "metadata": {},
     "output_type": "display_data"
    },
    {
     "data": {
      "application/vnd.jupyter.widget-view+json": {
       "model_id": "67cb0efaaa4d45cb8a8398960e5330da",
       "version_major": 2,
       "version_minor": 0
      },
      "text/plain": [
       "Output()"
      ]
     },
     "metadata": {},
     "output_type": "display_data"
    },
    {
     "data": {
      "application/vnd.jupyter.widget-view+json": {
       "model_id": "9ea0fb90fb504082b3352c7fcfd022a1",
       "version_major": 2,
       "version_minor": 0
      },
      "text/plain": [
       "VBox(children=(RadioButtons(description='Select ML method:', index=1, options=('object detection', 'segmentati…"
      ]
     },
     "metadata": {},
     "output_type": "display_data"
    }
   ],
   "source": [
    "import adaf_widget"
   ]
  }
 ],
 "metadata": {
  "kernelspec": {
   "display_name": "aitlas-tii",
   "language": "python",
   "name": "aitlas-tii"
  },
  "language_info": {
   "codemirror_mode": {
    "name": "ipython",
    "version": 3
   },
   "file_extension": ".py",
   "mimetype": "text/x-python",
   "name": "python",
   "nbconvert_exporter": "python",
   "pygments_lexer": "ipython3",
   "version": "3.8.17"
  },
  "widgets": {
   "application/vnd.jupyter.widget-state+json": {
    "state": {
     "0ee3cb2cd57c49fb9835a119798eef67": {
      "model_module": "@jupyter-widgets/base",
      "model_module_version": "2.0.0",
      "model_name": "LayoutModel",
      "state": {}
     },
     "131ad878a8fc4753b1ac87fa031e0ca1": {
      "model_module": "@jupyter-widgets/output",
      "model_module_version": "1.0.0",
      "model_name": "OutputModel",
      "state": {
       "layout": "IPY_MODEL_62d317ca0141487d80d00a863f92a54f",
       "outputs": [
        {
         "data": {
          "application/vnd.jupyter.widget-view+json": {
           "model_id": "72af168a439141b4810f2d7f66620f54",
           "version_major": 2,
           "version_minor": 0
          },
          "text/plain": "Text(value='', description='DEM path:', disabled=True, layout=Layout(width='98%'), placeholder='<my_data_folde…"
         },
         "metadata": {},
         "output_type": "display_data"
        },
        {
         "data": {
          "application/vnd.jupyter.widget-view+json": {
           "model_id": "5e6381f4d3a345718b3f85fb76c27dad",
           "version_major": 2,
           "version_minor": 0
          },
          "text/plain": "Text(value='', description='Visualizations folder:', layout=Layout(width='98%'), placeholder='<my_data_folder>…"
         },
         "metadata": {},
         "output_type": "display_data"
        }
       ]
      }
     },
     "17a19f908bce46738104e1036f1eac08": {
      "model_module": "@jupyter-widgets/controls",
      "model_module_version": "2.0.0",
      "model_name": "TextStyleModel",
      "state": {
       "description_width": "initial",
       "font_size": null,
       "text_color": null
      }
     },
     "19f046c1cb49448f9e81bdacf081fb36": {
      "model_module": "@jupyter-widgets/controls",
      "model_module_version": "2.0.0",
      "model_name": "TextStyleModel",
      "state": {
       "description_width": "initial",
       "font_size": null,
       "text_color": null
      }
     },
     "2e0dd3300faa4d92a443cc375d58fac8": {
      "model_module": "@jupyter-widgets/base",
      "model_module_version": "2.0.0",
      "model_name": "LayoutModel",
      "state": {
       "width": "98%"
      }
     },
     "4a109241a7814fdfbafdc016cdd58400": {
      "model_module": "@jupyter-widgets/base",
      "model_module_version": "2.0.0",
      "model_name": "LayoutModel",
      "state": {}
     },
     "5d31536a539b44c89d8afec64425cd06": {
      "model_module": "@jupyter-widgets/base",
      "model_module_version": "2.0.0",
      "model_name": "LayoutModel",
      "state": {}
     },
     "5e6381f4d3a345718b3f85fb76c27dad": {
      "model_module": "@jupyter-widgets/controls",
      "model_module_version": "2.0.0",
      "model_name": "TextModel",
      "state": {
       "description": "Visualizations folder:",
       "layout": "IPY_MODEL_d754f673fd1b4bb3bb9dda1781e4b0e1",
       "placeholder": "<my_data_folder>",
       "style": "IPY_MODEL_c87d5c271308420f96d21e000684bb2a",
       "value": "c:\\Users\\ncoz\\test_tii_adaf\\data_vis"
      }
     },
     "62d317ca0141487d80d00a863f92a54f": {
      "model_module": "@jupyter-widgets/base",
      "model_module_version": "2.0.0",
      "model_name": "LayoutModel",
      "state": {}
     },
     "67cb0efaaa4d45cb8a8398960e5330da": {
      "model_module": "@jupyter-widgets/output",
      "model_module_version": "1.0.0",
      "model_name": "OutputModel",
      "state": {
       "layout": "IPY_MODEL_0ee3cb2cd57c49fb9835a119798eef67",
       "outputs": [
        {
         "data": {
          "application/vnd.jupyter.widget-view+json": {
           "model_id": "72af168a439141b4810f2d7f66620f54",
           "version_major": 2,
           "version_minor": 0
          },
          "text/plain": "Text(value='', description='DEM path:', layout=Layout(width='98%'), placeholder='<my_data_folder/my_DEM_file.t…"
         },
         "metadata": {},
         "output_type": "display_data"
        },
        {
         "data": {
          "application/vnd.jupyter.widget-view+json": {
           "model_id": "5e6381f4d3a345718b3f85fb76c27dad",
           "version_major": 2,
           "version_minor": 0
          },
          "text/plain": "Text(value='', description='Visualizations folder:', disabled=True, layout=Layout(width='98%'), placeholder='<…"
         },
         "metadata": {},
         "output_type": "display_data"
        }
       ]
      }
     },
     "72af168a439141b4810f2d7f66620f54": {
      "model_module": "@jupyter-widgets/controls",
      "model_module_version": "2.0.0",
      "model_name": "TextModel",
      "state": {
       "description": "DEM path:",
       "disabled": true,
       "layout": "IPY_MODEL_2e0dd3300faa4d92a443cc375d58fac8",
       "placeholder": "<my_data_folder/my_DEM_file.tif>",
       "style": "IPY_MODEL_17a19f908bce46738104e1036f1eac08"
      }
     },
     "7a5bc78479594731843c7764b678a9f7": {
      "model_module": "@jupyter-widgets/controls",
      "model_module_version": "2.0.0",
      "model_name": "RadioButtonsModel",
      "state": {
       "_options_labels": [
        "object detection",
        "segmentation"
       ],
       "description": "Select ML method:",
       "index": 1,
       "layout": "IPY_MODEL_b7f5a35c514143419b0f4a4228d7ce6e",
       "style": "IPY_MODEL_daa3cb417a814dfea573ec5cba8de52d"
      }
     },
     "9c8977710a8c4a9996134d8d8502e1d6": {
      "model_module": "@jupyter-widgets/controls",
      "model_module_version": "2.0.0",
      "model_name": "TextModel",
      "state": {
       "description": "Path to ML model [*.tar]:",
       "layout": "IPY_MODEL_bb5f30e07bbd472ea592fa0e980d7200",
       "placeholder": "model_folder/saved_model.tar",
       "style": "IPY_MODEL_19f046c1cb49448f9e81bdacf081fb36",
       "value": "c:\\Users\\ncoz\\GitHub\\aitlas-TII-LIDAR\\inference\\models\\model_semantic_segmentation_BRE_124.tar"
      }
     },
     "9e764dacca0c40998739aedff8654a0f": {
      "model_module": "@jupyter-widgets/controls",
      "model_module_version": "2.0.0",
      "model_name": "DescriptionStyleModel",
      "state": {
       "description_width": ""
      }
     },
     "9ea0fb90fb504082b3352c7fcfd022a1": {
      "model_module": "@jupyter-widgets/controls",
      "model_module_version": "2.0.0",
      "model_name": "VBoxModel",
      "state": {
       "children": [
        "IPY_MODEL_7a5bc78479594731843c7764b678a9f7",
        "IPY_MODEL_9c8977710a8c4a9996134d8d8502e1d6",
        "IPY_MODEL_c5883118d40348a4841edaa0803380d1"
       ],
       "layout": "IPY_MODEL_4a109241a7814fdfbafdc016cdd58400"
      }
     },
     "b0016893c4df4d0aa1e737c7c76398ef": {
      "model_module": "@jupyter-widgets/base",
      "model_module_version": "2.0.0",
      "model_name": "LayoutModel",
      "state": {}
     },
     "b7184559a8fa492681dd7bf2f6e45ca5": {
      "model_module": "@jupyter-widgets/controls",
      "model_module_version": "2.0.0",
      "model_name": "RadioButtonsModel",
      "state": {
       "_options_labels": [
        "DEM [path to *.tif or path to *.vrt file]",
        "Visualizations (path to directory)"
       ],
       "description": "Select ML method:",
       "index": 1,
       "layout": "IPY_MODEL_eeb6d67365b4484f862f2ad6215e5611",
       "style": "IPY_MODEL_9e764dacca0c40998739aedff8654a0f"
      }
     },
     "b7f5a35c514143419b0f4a4228d7ce6e": {
      "model_module": "@jupyter-widgets/base",
      "model_module_version": "2.0.0",
      "model_name": "LayoutModel",
      "state": {}
     },
     "bb5f30e07bbd472ea592fa0e980d7200": {
      "model_module": "@jupyter-widgets/base",
      "model_module_version": "2.0.0",
      "model_name": "LayoutModel",
      "state": {
       "width": "98%"
      }
     },
     "c1beac4528484669becfc322caa791fc": {
      "model_module": "@jupyter-widgets/output",
      "model_module_version": "1.0.0",
      "model_name": "OutputModel",
      "state": {
       "layout": "IPY_MODEL_b0016893c4df4d0aa1e737c7c76398ef",
       "outputs": [
        {
         "data": {
          "text/plain": "'c:/Users/ncoz/test_tii_adaf/semantic_segmentation.gpkg'"
         },
         "metadata": {},
         "output_type": "display_data"
        }
       ]
      }
     },
     "c5883118d40348a4841edaa0803380d1": {
      "model_module": "@jupyter-widgets/controls",
      "model_module_version": "2.0.0",
      "model_name": "ButtonModel",
      "state": {
       "description": "Run ADAF",
       "layout": "IPY_MODEL_c948d59e7acc432ba8a7648e934d38ba",
       "style": "IPY_MODEL_ff9a943ad7a141efbccdef5d530b3086",
       "tooltip": null
      }
     },
     "c87d5c271308420f96d21e000684bb2a": {
      "model_module": "@jupyter-widgets/controls",
      "model_module_version": "2.0.0",
      "model_name": "TextStyleModel",
      "state": {
       "description_width": "initial",
       "font_size": null,
       "text_color": null
      }
     },
     "c948d59e7acc432ba8a7648e934d38ba": {
      "model_module": "@jupyter-widgets/base",
      "model_module_version": "2.0.0",
      "model_name": "LayoutModel",
      "state": {
       "width": "98%"
      }
     },
     "d754f673fd1b4bb3bb9dda1781e4b0e1": {
      "model_module": "@jupyter-widgets/base",
      "model_module_version": "2.0.0",
      "model_name": "LayoutModel",
      "state": {
       "width": "98%"
      }
     },
     "daa3cb417a814dfea573ec5cba8de52d": {
      "model_module": "@jupyter-widgets/controls",
      "model_module_version": "2.0.0",
      "model_name": "DescriptionStyleModel",
      "state": {
       "description_width": ""
      }
     },
     "eeb6d67365b4484f862f2ad6215e5611": {
      "model_module": "@jupyter-widgets/base",
      "model_module_version": "2.0.0",
      "model_name": "LayoutModel",
      "state": {}
     },
     "f859f8ecf4444d29b6518884afb80dc6": {
      "model_module": "@jupyter-widgets/output",
      "model_module_version": "1.0.0",
      "model_name": "OutputModel",
      "state": {
       "layout": "IPY_MODEL_5d31536a539b44c89d8afec64425cd06"
      }
     },
     "ff9a943ad7a141efbccdef5d530b3086": {
      "model_module": "@jupyter-widgets/controls",
      "model_module_version": "2.0.0",
      "model_name": "ButtonStyleModel",
      "state": {
       "font_family": null,
       "font_size": null,
       "font_style": null,
       "font_variant": null,
       "font_weight": null,
       "text_color": null,
       "text_decoration": null
      }
     }
    },
    "version_major": 2,
    "version_minor": 0
   }
  }
 },
 "nbformat": 4,
 "nbformat_minor": 5
}
