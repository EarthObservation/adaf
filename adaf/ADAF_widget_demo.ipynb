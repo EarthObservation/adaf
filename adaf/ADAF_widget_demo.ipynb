{
 "cells": [
  {
   "cell_type": "markdown",
   "id": "fac53519-1db7-466c-bab7-addd390fb928",
   "metadata": {},
   "source": [
    "**ADAF Demo**\n",
    "\n",
    "**TII MLM user workshop - 13/6/2023**"
   ]
  },
  {
   "cell_type": "markdown",
   "id": "06ef7363-cd6b-4029-a9ff-11f931a165f3",
   "metadata": {},
   "source": [
    "## GUI Prototype: ML patch creation\n",
    "\n",
    "This Jupyter Notebook was created for demonstration of prototype GUI for creating ML patches.\n",
    "\n",
    "The Notebook is designed to be user-friendly and can be used by people with little or no programming knowledge. At the same time it alows advanced users to \"look under the hood\" and modify the code to their own preferences.\n",
    "\n",
    "## **HOW TO BEGIN**?\n",
    "\n",
    "* To start the GUI widget simply run the cell bellow.\n",
    "\n",
    "* To run the cell press the double arrows symbol on the toolbar above \n",
    "\n",
    "![](media/ipy_resker.png)\n",
    "\n",
    "* It will ask you to restart the kernel, press **`Restart`**.\n",
    "\n",
    "\n",
    "\n",
    "* Example input data (paths):\n",
    "\n",
    "> DEM path: `c:\\Users\\ncoz\\GitHub\\aitlas-TII-LIDAR\\inference\\data-small_debug\\ISA-147_small.tif`\n",
    ">\n",
    "> ML model **segmentation**: `c:\\Users\\ncoz\\GitHub\\aitlas-TII-LIDAR\\inference\\models\\model_semantic_segmentation_BRE_124.tar`\n",
    ">\n",
    "> --\n",
    ">\n",
    "> ML model **object detection**: `c:\\Users\\ncoz\\GitHub\\aitlas-TII-LIDAR\\inference\\models\\model_object_detection_BRE_12.tar`\n",
    "\n",
    "* After filling-in the requiered field simply pres the **`Run ADAF`** button"
   ]
  },
  {
   "cell_type": "code",
   "execution_count": 1,
   "id": "282a3d92-e1ff-4748-9400-866bb66ab2a2",
   "metadata": {
    "scrolled": true
   },
   "outputs": [
    {
     "data": {
      "application/vnd.jupyter.widget-view+json": {
       "model_id": "b3fc7cf005da4cfabd97b3238cf9cf1f",
       "version_major": 2,
       "version_minor": 0
      },
      "text/plain": [
       "VBox(children=(Text(value='', description='DEM path [*.tif / *.vrt]:', layout=Layout(width='98%'), placeholder…"
      ]
     },
     "metadata": {},
     "output_type": "display_data"
    },
    {
     "data": {
      "application/vnd.jupyter.widget-view+json": {
       "model_id": "7db3f31c0efa416bba98600515f23ca9",
       "version_major": 2,
       "version_minor": 0
      },
      "text/plain": [
       "Output()"
      ]
     },
     "metadata": {},
     "output_type": "display_data"
    }
   ],
   "source": [
    "import adaf_widget"
   ]
  }
 ],
 "metadata": {
  "kernelspec": {
   "display_name": "aitlas-tii",
   "language": "python",
   "name": "aitlas-tii"
  },
  "language_info": {
   "codemirror_mode": {
    "name": "ipython",
    "version": 3
   },
   "file_extension": ".py",
   "mimetype": "text/x-python",
   "name": "python",
   "nbconvert_exporter": "python",
   "pygments_lexer": "ipython3",
   "version": "3.8.17"
  },
  "widgets": {
   "application/vnd.jupyter.widget-state+json": {
    "state": {
     "053b8591f4884a0884b5254144e4226e": {
      "model_module": "@jupyter-widgets/base",
      "model_module_version": "2.0.0",
      "model_name": "LayoutModel",
      "state": {}
     },
     "1866d3193fa64db5bb5e543d0b0891a3": {
      "model_module": "@jupyter-widgets/base",
      "model_module_version": "2.0.0",
      "model_name": "LayoutModel",
      "state": {
       "width": "20%"
      }
     },
     "23a0e7d9b73f4d8b80e8b5a462de0e81": {
      "model_module": "@jupyter-widgets/controls",
      "model_module_version": "2.0.0",
      "model_name": "DescriptionStyleModel",
      "state": {
       "description_width": "initial"
      }
     },
     "28b99be001c642278315ebfcc379aceb": {
      "model_module": "@jupyter-widgets/controls",
      "model_module_version": "2.0.0",
      "model_name": "TextModel",
      "state": {
       "description": "Path to ML model [*.tar]:",
       "layout": "IPY_MODEL_89e7f741e3704ac5a5028bf4708e0d95",
       "placeholder": "model_folder/saved_model.tar",
       "style": "IPY_MODEL_92a30902191c47918a8396015ca53589",
       "value": "c:\\Users\\ncoz\\GitHub\\aitlas-TII-LIDAR\\inference\\models\\model_semantic_segmentation_BRE_124.tar"
      }
     },
     "32b400366df54b1eb3f18316750adf38": {
      "model_module": "@jupyter-widgets/controls",
      "model_module_version": "2.0.0",
      "model_name": "LabelStyleModel",
      "state": {
       "description_width": "",
       "font_family": null,
       "font_size": null,
       "font_style": null,
       "font_variant": null,
       "font_weight": null,
       "text_color": null,
       "text_decoration": null
      }
     },
     "3914ee110aa04fbea58715b53460c194": {
      "model_module": "@jupyter-widgets/controls",
      "model_module_version": "2.0.0",
      "model_name": "ButtonStyleModel",
      "state": {
       "font_family": null,
       "font_size": null,
       "font_style": null,
       "font_variant": null,
       "font_weight": null,
       "text_color": null,
       "text_decoration": null
      }
     },
     "40e249aa4977403d847afab2e17aa44c": {
      "model_module": "@jupyter-widgets/base",
      "model_module_version": "2.0.0",
      "model_name": "LayoutModel",
      "state": {
       "width": "20%"
      }
     },
     "4427a95ce0bd4a6d970a3700d4ec1605": {
      "model_module": "@jupyter-widgets/controls",
      "model_module_version": "2.0.0",
      "model_name": "LabelModel",
      "state": {
       "layout": "IPY_MODEL_6716eab2549b4d5d941cd837521f847a",
       "style": "IPY_MODEL_32b400366df54b1eb3f18316750adf38",
       "value": "Threshold (predictions probability)"
      }
     },
     "4d64ecdeb648446a95d54e0b75e94fec": {
      "model_module": "@jupyter-widgets/controls",
      "model_module_version": "2.0.0",
      "model_name": "FloatSliderModel",
      "state": {
       "behavior": "drag-tap",
       "layout": "IPY_MODEL_fe6ffcc4598d4ed4879d0c1a82b58b3e",
       "max": 0.9,
       "min": 0.3,
       "step": 0.1,
       "style": "IPY_MODEL_badd91574a1248459aba41e0e91630c3",
       "value": 0.5
      }
     },
     "4d77b3b7523b4217b0e023a201c5342d": {
      "model_module": "@jupyter-widgets/base",
      "model_module_version": "2.0.0",
      "model_name": "LayoutModel",
      "state": {
       "width": "98%"
      }
     },
     "597d954b77464d49af78a54891484faf": {
      "model_module": "@jupyter-widgets/controls",
      "model_module_version": "2.0.0",
      "model_name": "TextModel",
      "state": {
       "description": "DEM path [*.tif / *.vrt]:",
       "layout": "IPY_MODEL_a3d01c98f9844bf1a101c6e395efee78",
       "placeholder": "data_folder/file.tif",
       "style": "IPY_MODEL_da1d794797804b6ab10a1b67a7c3a202",
       "value": "c:\\Users\\ncoz\\GitHub\\aitlas-TII-LIDAR\\inference\\data\\archaeology1_TIN\\135000_296000_archaeology1_TIN.tif"
      }
     },
     "60b2c5d481294519a49f7423398d2f6a": {
      "model_module": "@jupyter-widgets/controls",
      "model_module_version": "2.0.0",
      "model_name": "DescriptionStyleModel",
      "state": {
       "description_width": "initial"
      }
     },
     "6716eab2549b4d5d941cd837521f847a": {
      "model_module": "@jupyter-widgets/base",
      "model_module_version": "2.0.0",
      "model_name": "LayoutModel",
      "state": {}
     },
     "78199882cf9c4e11996d529920dd1355": {
      "model_module": "@jupyter-widgets/controls",
      "model_module_version": "2.0.0",
      "model_name": "IntTextModel",
      "state": {
       "description": "Number of CPUs:",
       "layout": "IPY_MODEL_40e249aa4977403d847afab2e17aa44c",
       "step": 1,
       "style": "IPY_MODEL_23a0e7d9b73f4d8b80e8b5a462de0e81",
       "value": 6
      }
     },
     "7db3f31c0efa416bba98600515f23ca9": {
      "model_module": "@jupyter-widgets/output",
      "model_module_version": "1.0.0",
      "model_name": "OutputModel",
      "state": {
       "layout": "IPY_MODEL_adcf10452edd4fd5911c7615b5c5e06c",
       "outputs": [
        {
         "data": {
          "text/plain": "'c:/Users/ncoz/GitHub/aitlas-TII-LIDAR/inference/data/archaeology1_TIN/semantic_segmentation.gpkg'"
         },
         "metadata": {},
         "output_type": "display_data"
        },
        {
         "data": {
          "text/plain": "'c:/Users/ncoz/GitHub/aitlas-TII-LIDAR/inference/data/archaeology1_TIN/semantic_segmentation.gpkg'"
         },
         "metadata": {},
         "output_type": "display_data"
        }
       ]
      }
     },
     "89e7f741e3704ac5a5028bf4708e0d95": {
      "model_module": "@jupyter-widgets/base",
      "model_module_version": "2.0.0",
      "model_name": "LayoutModel",
      "state": {
       "width": "98%"
      }
     },
     "92a30902191c47918a8396015ca53589": {
      "model_module": "@jupyter-widgets/controls",
      "model_module_version": "2.0.0",
      "model_name": "TextStyleModel",
      "state": {
       "description_width": "initial",
       "font_size": null,
       "text_color": null
      }
     },
     "98f421f5bf814b61bd3025877c3e3518": {
      "model_module": "@jupyter-widgets/controls",
      "model_module_version": "2.0.0",
      "model_name": "HBoxModel",
      "state": {
       "children": [
        "IPY_MODEL_4427a95ce0bd4a6d970a3700d4ec1605",
        "IPY_MODEL_4d64ecdeb648446a95d54e0b75e94fec"
       ],
       "layout": "IPY_MODEL_053b8591f4884a0884b5254144e4226e"
      }
     },
     "9d3a737f65964e5da129c4e39bb2918b": {
      "model_module": "@jupyter-widgets/base",
      "model_module_version": "2.0.0",
      "model_name": "LayoutModel",
      "state": {}
     },
     "a3d01c98f9844bf1a101c6e395efee78": {
      "model_module": "@jupyter-widgets/base",
      "model_module_version": "2.0.0",
      "model_name": "LayoutModel",
      "state": {
       "width": "98%"
      }
     },
     "a89260da8159498388fb168de5a10394": {
      "model_module": "@jupyter-widgets/controls",
      "model_module_version": "2.0.0",
      "model_name": "RadioButtonsModel",
      "state": {
       "_options_labels": [
        "object detection",
        "segmentation"
       ],
       "description": "Select ML method:",
       "index": 1,
       "layout": "IPY_MODEL_9d3a737f65964e5da129c4e39bb2918b",
       "style": "IPY_MODEL_c669da22daf344359570fcf6becf6e82"
      }
     },
     "adcf10452edd4fd5911c7615b5c5e06c": {
      "model_module": "@jupyter-widgets/base",
      "model_module_version": "2.0.0",
      "model_name": "LayoutModel",
      "state": {}
     },
     "b3fc7cf005da4cfabd97b3238cf9cf1f": {
      "model_module": "@jupyter-widgets/controls",
      "model_module_version": "2.0.0",
      "model_name": "VBoxModel",
      "state": {
       "children": [
        "IPY_MODEL_597d954b77464d49af78a54891484faf",
        "IPY_MODEL_a89260da8159498388fb168de5a10394",
        "IPY_MODEL_28b99be001c642278315ebfcc379aceb",
        "IPY_MODEL_ebe443ae081d4bc6bd7bbdc595c79bad",
        "IPY_MODEL_98f421f5bf814b61bd3025877c3e3518",
        "IPY_MODEL_78199882cf9c4e11996d529920dd1355",
        "IPY_MODEL_d58099be6817432b8f9719f3be99de86"
       ],
       "layout": "IPY_MODEL_be7d5a6ae56f4031adb970c805753901"
      }
     },
     "badd91574a1248459aba41e0e91630c3": {
      "model_module": "@jupyter-widgets/controls",
      "model_module_version": "2.0.0",
      "model_name": "SliderStyleModel",
      "state": {
       "description_width": ""
      }
     },
     "be7d5a6ae56f4031adb970c805753901": {
      "model_module": "@jupyter-widgets/base",
      "model_module_version": "2.0.0",
      "model_name": "LayoutModel",
      "state": {}
     },
     "c669da22daf344359570fcf6becf6e82": {
      "model_module": "@jupyter-widgets/controls",
      "model_module_version": "2.0.0",
      "model_name": "DescriptionStyleModel",
      "state": {
       "description_width": ""
      }
     },
     "d58099be6817432b8f9719f3be99de86": {
      "model_module": "@jupyter-widgets/controls",
      "model_module_version": "2.0.0",
      "model_name": "ButtonModel",
      "state": {
       "description": "Run ADAF",
       "layout": "IPY_MODEL_4d77b3b7523b4217b0e023a201c5342d",
       "style": "IPY_MODEL_3914ee110aa04fbea58715b53460c194",
       "tooltip": null
      }
     },
     "da1d794797804b6ab10a1b67a7c3a202": {
      "model_module": "@jupyter-widgets/controls",
      "model_module_version": "2.0.0",
      "model_name": "TextStyleModel",
      "state": {
       "description_width": "initial",
       "font_size": null,
       "text_color": null
      }
     },
     "ebe443ae081d4bc6bd7bbdc595c79bad": {
      "model_module": "@jupyter-widgets/controls",
      "model_module_version": "2.0.0",
      "model_name": "DropdownModel",
      "state": {
       "_options_labels": [
        "256",
        "512",
        "1024",
        "2048"
       ],
       "description": "Tile size [pixels]:",
       "index": 1,
       "layout": "IPY_MODEL_1866d3193fa64db5bb5e543d0b0891a3",
       "style": "IPY_MODEL_60b2c5d481294519a49f7423398d2f6a"
      }
     },
     "fe6ffcc4598d4ed4879d0c1a82b58b3e": {
      "model_module": "@jupyter-widgets/base",
      "model_module_version": "2.0.0",
      "model_name": "LayoutModel",
      "state": {}
     }
    },
    "version_major": 2,
    "version_minor": 0
   }
  }
 },
 "nbformat": 4,
 "nbformat_minor": 5
}
