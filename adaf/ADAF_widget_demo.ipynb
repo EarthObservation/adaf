{
 "cells": [
  {
   "cell_type": "markdown",
   "id": "fac53519-1db7-466c-bab7-addd390fb928",
   "metadata": {},
   "source": [
    "**ADAF Demo**\n",
    "\n",
    "**TII MLM user workshop - 13/6/2023**"
   ]
  },
  {
   "cell_type": "markdown",
   "id": "06ef7363-cd6b-4029-a9ff-11f931a165f3",
   "metadata": {},
   "source": [
    "## GUI Prototype: ML patch creation\n",
    "\n",
    "This Jupyter Notebook was created for demonstration of prototype GUI for creating ML patches.\n",
    "\n",
    "The Notebook is designed to be user-friendly and can be used by people with little or no programming knowledge. At the same time it alows advanced users to \"look under the hood\" and modify the code to their own preferences.\n",
    "\n",
    "## **HOW TO BEGIN**?\n",
    "\n",
    "* To start the GUI widget simply run the cell bellow.\n",
    "\n",
    "* To run the cell press the double arrows symbol on the toolbar above \n",
    "\n",
    "![](media/ipy_resker.png)\n",
    "\n",
    "* It will ask you to restart the kernel, press **`Restart`**.\n",
    "\n",
    "\n",
    "\n",
    "* Example input data (paths):\n",
    "\n",
    "> DEM path: `c:\\Users\\ncoz\\GitHub\\aitlas-TII-LIDAR\\inference\\data-small_debug\\ISA-147_small.tif`\n",
    ">\n",
    "> ML model **segmentation**: `c:\\Users\\ncoz\\GitHub\\aitlas-TII-LIDAR\\inference\\models\\model_semantic_segmentation_BRE_124.tar`\n",
    ">\n",
    "> --\n",
    ">\n",
    "> ML model **object detection**: `c:\\Users\\ncoz\\GitHub\\aitlas-TII-LIDAR\\inference\\models\\model_object_detection_BRE_12.tar`\n",
    "\n",
    "* After filling-in the requiered field simply pres the **`Run ADAF`** button"
   ]
  },
  {
   "cell_type": "code",
   "execution_count": 1,
   "id": "282a3d92-e1ff-4748-9400-866bb66ab2a2",
   "metadata": {
    "scrolled": true
   },
   "outputs": [
    {
     "data": {
      "application/vnd.jupyter.widget-view+json": {
       "model_id": "adae3ab745fc478dbeef0d8c30aaa36a",
       "version_major": 2,
       "version_minor": 0
      },
      "text/plain": [
       "HBox(children=(RadioButtons(description='Select input type:', options=('DEM (*.tif / *.vrt)', 'Visualization (…"
      ]
     },
     "metadata": {},
     "output_type": "display_data"
    },
    {
     "data": {
      "application/vnd.jupyter.widget-view+json": {
       "model_id": "713ab21e170a4219a49d9371e1661bd1",
       "version_major": 2,
       "version_minor": 0
      },
      "text/plain": [
       "Output()"
      ]
     },
     "metadata": {},
     "output_type": "display_data"
    },
    {
     "data": {
      "application/vnd.jupyter.widget-view+json": {
       "model_id": "f0185b55869844f6ab0c110a95ca9302",
       "version_major": 2,
       "version_minor": 0
      },
      "text/plain": [
       "VBox(children=(Label(value='- - - - - - - - - - -'), RadioButtons(description='Select ML method:', index=1, op…"
      ]
     },
     "metadata": {},
     "output_type": "display_data"
    }
   ],
   "source": [
    "import adaf_widget"
   ]
  }
 ],
 "metadata": {
  "kernelspec": {
   "display_name": "aitlas-tii",
   "language": "python",
   "name": "aitlas-tii"
  },
  "language_info": {
   "codemirror_mode": {
    "name": "ipython",
    "version": 3
   },
   "file_extension": ".py",
   "mimetype": "text/x-python",
   "name": "python",
   "nbconvert_exporter": "python",
   "pygments_lexer": "ipython3",
   "version": "3.8.17"
  },
  "widgets": {
   "application/vnd.jupyter.widget-state+json": {
    "state": {
     "099c5eae1f754e4c89cad047afaae9df": {
      "model_module": "@jupyter-widgets/controls",
      "model_module_version": "2.0.0",
      "model_name": "CheckboxModel",
      "state": {
       "description": "All archaeology",
       "disabled": false,
       "indent": false,
       "layout": "IPY_MODEL_109bff37800649539881c5aecbade949",
       "style": "IPY_MODEL_9e050c4c88cf4d5d9f4892e1df5bb4d5",
       "value": false
      }
     },
     "109bff37800649539881c5aecbade949": {
      "model_module": "@jupyter-widgets/base",
      "model_module_version": "2.0.0",
      "model_name": "LayoutModel",
      "state": {}
     },
     "1364c6a6e9f44178b4a1e3f1a1632a6a": {
      "model_module": "@jupyter-widgets/base",
      "model_module_version": "2.0.0",
      "model_name": "LayoutModel",
      "state": {}
     },
     "1c2426d8610c4971a7ecb190d140b47e": {
      "model_module": "@jupyter-widgets/controls",
      "model_module_version": "2.0.0",
      "model_name": "TextStyleModel",
      "state": {
       "description_width": "initial",
       "font_size": null,
       "text_color": null
      }
     },
     "1c8f30297c3643e2b5724ba710b17d42": {
      "model_module": "@jupyter-widgets/base",
      "model_module_version": "2.0.0",
      "model_name": "LayoutModel",
      "state": {}
     },
     "1cfd8b37560b49dcb28e154a4e349c9c": {
      "model_module": "@jupyter-widgets/base",
      "model_module_version": "2.0.0",
      "model_name": "LayoutModel",
      "state": {}
     },
     "2c89bf90d698470da2c82125d982554c": {
      "model_module": "@jupyter-widgets/controls",
      "model_module_version": "2.0.0",
      "model_name": "CheckboxModel",
      "state": {
       "description": "Batch processing",
       "disabled": false,
       "indent": false,
       "layout": "IPY_MODEL_b214fa5c68384334aa658441e4e35ac3",
       "style": "IPY_MODEL_6ac2e61d868c4c28a34c62e424cd7387",
       "value": false
      }
     },
     "2e176c52f78b4f2e93867c03cb714333": {
      "model_module": "@jupyter-widgets/controls",
      "model_module_version": "2.0.0",
      "model_name": "TextStyleModel",
      "state": {
       "description_width": "initial",
       "font_size": null,
       "text_color": null
      }
     },
     "2efe2dce5884457d9bbcd0fb2236a45a": {
      "model_module": "@jupyter-widgets/controls",
      "model_module_version": "2.0.0",
      "model_name": "RadioButtonsModel",
      "state": {
       "_options_labels": [
        "DEM (*.tif / *.vrt)",
        "Visualization (*.tif / *.vrt)"
       ],
       "description": "Select input type:",
       "index": 0,
       "layout": "IPY_MODEL_a3f3bf9e62774a039d57d0dcf5ace9d7",
       "style": "IPY_MODEL_62042d181ed34166aeeca2762a647724"
      }
     },
     "37ccc64a5a1a4a6298a77a00de07d243": {
      "model_module": "@jupyter-widgets/controls",
      "model_module_version": "2.0.0",
      "model_name": "CheckboxStyleModel",
      "state": {
       "description_width": ""
      }
     },
     "3ec5776b39ba4d559179f566da6c4798": {
      "model_module": "@jupyter-widgets/base",
      "model_module_version": "2.0.0",
      "model_name": "LayoutModel",
      "state": {
       "width": "98%"
      }
     },
     "3fe45432b0fc47db9d949b55794e2d3a": {
      "model_module": "@jupyter-widgets/controls",
      "model_module_version": "2.0.0",
      "model_name": "TextModel",
      "state": {
       "description": "Path to ML model [*.tar]:",
       "layout": "IPY_MODEL_4e179a44a64d4f9b8821320ecdfc425b",
       "placeholder": "model_folder/saved_model.tar",
       "style": "IPY_MODEL_2e176c52f78b4f2e93867c03cb714333"
      }
     },
     "42988b85a988482881c7fabb8ad288f1": {
      "model_module": "@jupyter-widgets/controls",
      "model_module_version": "2.0.0",
      "model_name": "CheckboxModel",
      "state": {
       "description": "Barrow",
       "disabled": false,
       "indent": false,
       "layout": "IPY_MODEL_aa8787f55fd34e2e8b78990e9fa40f17",
       "style": "IPY_MODEL_ca78f82f48874fab869731dee329e9a8",
       "value": true
      }
     },
     "4b9a1ef6cfd54fe6a18915c78b1846d8": {
      "model_module": "@jupyter-widgets/base",
      "model_module_version": "2.0.0",
      "model_name": "LayoutModel",
      "state": {}
     },
     "4bd0af46f2e04021825b6771c8fac35a": {
      "model_module": "@jupyter-widgets/controls",
      "model_module_version": "2.0.0",
      "model_name": "LabelModel",
      "state": {
       "layout": "IPY_MODEL_1cfd8b37560b49dcb28e154a4e349c9c",
       "style": "IPY_MODEL_5a402e5190b94cc08332fb7d0a6b6dca",
       "value": "- - - - - - - - - - -"
      }
     },
     "4e179a44a64d4f9b8821320ecdfc425b": {
      "model_module": "@jupyter-widgets/base",
      "model_module_version": "2.0.0",
      "model_name": "LayoutModel",
      "state": {
       "width": "98%"
      }
     },
     "594f1a924d5845888c2c65580638bc56": {
      "model_module": "@jupyter-widgets/base",
      "model_module_version": "2.0.0",
      "model_name": "LayoutModel",
      "state": {}
     },
     "5a402e5190b94cc08332fb7d0a6b6dca": {
      "model_module": "@jupyter-widgets/controls",
      "model_module_version": "2.0.0",
      "model_name": "LabelStyleModel",
      "state": {
       "description_width": "",
       "font_family": null,
       "font_size": null,
       "font_style": null,
       "font_variant": null,
       "font_weight": null,
       "text_color": null,
       "text_decoration": null
      }
     },
     "62042d181ed34166aeeca2762a647724": {
      "model_module": "@jupyter-widgets/controls",
      "model_module_version": "2.0.0",
      "model_name": "DescriptionStyleModel",
      "state": {
       "description_width": ""
      }
     },
     "6ac2e61d868c4c28a34c62e424cd7387": {
      "model_module": "@jupyter-widgets/controls",
      "model_module_version": "2.0.0",
      "model_name": "CheckboxStyleModel",
      "state": {
       "description_width": ""
      }
     },
     "713ab21e170a4219a49d9371e1661bd1": {
      "model_module": "@jupyter-widgets/output",
      "model_module_version": "1.0.0",
      "model_name": "OutputModel",
      "state": {
       "layout": "IPY_MODEL_7dcdac4b8f0d45c6a34a4c56b9b31512",
       "outputs": [
        {
         "data": {
          "application/vnd.jupyter.widget-view+json": {
           "model_id": "b8abfbf383cf46919d8b2a46caa8b61a",
           "version_major": 2,
           "version_minor": 0
          },
          "text/plain": "Text(value='', description='Visualization path:', layout=Layout(width='98%'), placeholder='<my_data_folder/my_…"
         },
         "metadata": {},
         "output_type": "display_data"
        }
       ]
      }
     },
     "781e09178c9c47e3a9864e1b96d8f865": {
      "model_module": "@jupyter-widgets/controls",
      "model_module_version": "2.0.0",
      "model_name": "CheckboxStyleModel",
      "state": {
       "description_width": ""
      }
     },
     "7dcdac4b8f0d45c6a34a4c56b9b31512": {
      "model_module": "@jupyter-widgets/base",
      "model_module_version": "2.0.0",
      "model_name": "LayoutModel",
      "state": {}
     },
     "80609c1f524d4f49b8b45306b1f69e6b": {
      "model_module": "@jupyter-widgets/controls",
      "model_module_version": "2.0.0",
      "model_name": "CheckboxModel",
      "state": {
       "description": "Enclosure",
       "disabled": false,
       "indent": false,
       "layout": "IPY_MODEL_bf9cc1b4bd844af7927756d9b0368212",
       "style": "IPY_MODEL_37ccc64a5a1a4a6298a77a00de07d243",
       "value": true
      }
     },
     "8efd2be0ac9d4d508266881a7237c957": {
      "model_module": "@jupyter-widgets/base",
      "model_module_version": "2.0.0",
      "model_name": "LayoutModel",
      "state": {}
     },
     "8fca1b714b46496d82b6a015d72c7e85": {
      "model_module": "@jupyter-widgets/output",
      "model_module_version": "1.0.0",
      "model_name": "OutputModel",
      "state": {
       "layout": "IPY_MODEL_4b9a1ef6cfd54fe6a18915c78b1846d8"
      }
     },
     "9366d5d33f91478d8e0e873902886c93": {
      "model_module": "@jupyter-widgets/controls",
      "model_module_version": "2.0.0",
      "model_name": "CheckboxModel",
      "state": {
       "description": "Ringfort",
       "disabled": false,
       "indent": false,
       "layout": "IPY_MODEL_1364c6a6e9f44178b4a1e3f1a1632a6a",
       "style": "IPY_MODEL_781e09178c9c47e3a9864e1b96d8f865",
       "value": true
      }
     },
     "9761ab7a510b48fa9809aff95f5d34f6": {
      "model_module": "@jupyter-widgets/controls",
      "model_module_version": "2.0.0",
      "model_name": "TextStyleModel",
      "state": {
       "description_width": "initial",
       "font_size": null,
       "text_color": null
      }
     },
     "9e050c4c88cf4d5d9f4892e1df5bb4d5": {
      "model_module": "@jupyter-widgets/controls",
      "model_module_version": "2.0.0",
      "model_name": "CheckboxStyleModel",
      "state": {
       "description_width": ""
      }
     },
     "a3f3bf9e62774a039d57d0dcf5ace9d7": {
      "model_module": "@jupyter-widgets/base",
      "model_module_version": "2.0.0",
      "model_name": "LayoutModel",
      "state": {}
     },
     "aa8787f55fd34e2e8b78990e9fa40f17": {
      "model_module": "@jupyter-widgets/base",
      "model_module_version": "2.0.0",
      "model_name": "LayoutModel",
      "state": {}
     },
     "adae3ab745fc478dbeef0d8c30aaa36a": {
      "model_module": "@jupyter-widgets/controls",
      "model_module_version": "2.0.0",
      "model_name": "HBoxModel",
      "state": {
       "children": [
        "IPY_MODEL_2efe2dce5884457d9bbcd0fb2236a45a",
        "IPY_MODEL_2c89bf90d698470da2c82125d982554c"
       ],
       "layout": "IPY_MODEL_fa7f28ceebb646a483eb1871939d2f30"
      }
     },
     "b214fa5c68384334aa658441e4e35ac3": {
      "model_module": "@jupyter-widgets/base",
      "model_module_version": "2.0.0",
      "model_name": "LayoutModel",
      "state": {}
     },
     "b399a765669445acbdd596a7640a4efd": {
      "model_module": "@jupyter-widgets/controls",
      "model_module_version": "2.0.0",
      "model_name": "TextModel",
      "state": {
       "description": "DEM path:",
       "disabled": true,
       "layout": "IPY_MODEL_3ec5776b39ba4d559179f566da6c4798",
       "placeholder": "<my_data_folder/my_DEM_file.tif>",
       "style": "IPY_MODEL_1c2426d8610c4971a7ecb190d140b47e"
      }
     },
     "b5756c3f6ab74521bef319be469bb214": {
      "model_module": "@jupyter-widgets/controls",
      "model_module_version": "2.0.0",
      "model_name": "ButtonStyleModel",
      "state": {
       "font_family": null,
       "font_size": null,
       "font_style": null,
       "font_variant": null,
       "font_weight": null,
       "text_color": null,
       "text_decoration": null
      }
     },
     "b8abfbf383cf46919d8b2a46caa8b61a": {
      "model_module": "@jupyter-widgets/controls",
      "model_module_version": "2.0.0",
      "model_name": "TextModel",
      "state": {
       "description": "Visualization path:",
       "layout": "IPY_MODEL_fc4ddb2bd8534ddcb6a877dc51012968",
       "placeholder": "<my_data_folder/my_visualization_file.tif>",
       "style": "IPY_MODEL_9761ab7a510b48fa9809aff95f5d34f6"
      }
     },
     "bf9cc1b4bd844af7927756d9b0368212": {
      "model_module": "@jupyter-widgets/base",
      "model_module_version": "2.0.0",
      "model_name": "LayoutModel",
      "state": {}
     },
     "c3c9944d91da4fe4a3327dfe5cb98a9f": {
      "model_module": "@jupyter-widgets/controls",
      "model_module_version": "2.0.0",
      "model_name": "DescriptionStyleModel",
      "state": {
       "description_width": ""
      }
     },
     "ca78f82f48874fab869731dee329e9a8": {
      "model_module": "@jupyter-widgets/controls",
      "model_module_version": "2.0.0",
      "model_name": "CheckboxStyleModel",
      "state": {
       "description_width": ""
      }
     },
     "e8ca262d7e584b71b7c991df6d183e53": {
      "model_module": "@jupyter-widgets/base",
      "model_module_version": "2.0.0",
      "model_name": "LayoutModel",
      "state": {
       "width": "98%"
      }
     },
     "e9e74ccef0a546ff9d6f771a081a6509": {
      "model_module": "@jupyter-widgets/controls",
      "model_module_version": "2.0.0",
      "model_name": "ButtonModel",
      "state": {
       "description": "Run ADAF",
       "layout": "IPY_MODEL_e8ca262d7e584b71b7c991df6d183e53",
       "style": "IPY_MODEL_b5756c3f6ab74521bef319be469bb214",
       "tooltip": null
      }
     },
     "f0185b55869844f6ab0c110a95ca9302": {
      "model_module": "@jupyter-widgets/controls",
      "model_module_version": "2.0.0",
      "model_name": "VBoxModel",
      "state": {
       "children": [
        "IPY_MODEL_4bd0af46f2e04021825b6771c8fac35a",
        "IPY_MODEL_f45646431f444967b5bfab31cc4c81a4",
        "IPY_MODEL_fc933ac49da24360abdd7ef7eb33b8fb",
        "IPY_MODEL_3fe45432b0fc47db9d949b55794e2d3a",
        "IPY_MODEL_e9e74ccef0a546ff9d6f771a081a6509"
       ],
       "layout": "IPY_MODEL_594f1a924d5845888c2c65580638bc56"
      }
     },
     "f45646431f444967b5bfab31cc4c81a4": {
      "model_module": "@jupyter-widgets/controls",
      "model_module_version": "2.0.0",
      "model_name": "RadioButtonsModel",
      "state": {
       "_options_labels": [
        "object detection",
        "segmentation"
       ],
       "description": "Select ML method:",
       "index": 1,
       "layout": "IPY_MODEL_8efd2be0ac9d4d508266881a7237c957",
       "style": "IPY_MODEL_c3c9944d91da4fe4a3327dfe5cb98a9f"
      }
     },
     "fa7f28ceebb646a483eb1871939d2f30": {
      "model_module": "@jupyter-widgets/base",
      "model_module_version": "2.0.0",
      "model_name": "LayoutModel",
      "state": {}
     },
     "fc4ddb2bd8534ddcb6a877dc51012968": {
      "model_module": "@jupyter-widgets/base",
      "model_module_version": "2.0.0",
      "model_name": "LayoutModel",
      "state": {
       "width": "98%"
      }
     },
     "fc933ac49da24360abdd7ef7eb33b8fb": {
      "model_module": "@jupyter-widgets/controls",
      "model_module_version": "2.0.0",
      "model_name": "HBoxModel",
      "state": {
       "children": [
        "IPY_MODEL_42988b85a988482881c7fabb8ad288f1",
        "IPY_MODEL_9366d5d33f91478d8e0e873902886c93",
        "IPY_MODEL_80609c1f524d4f49b8b45306b1f69e6b",
        "IPY_MODEL_099c5eae1f754e4c89cad047afaae9df"
       ],
       "layout": "IPY_MODEL_1c8f30297c3643e2b5724ba710b17d42"
      }
     }
    },
    "version_major": 2,
    "version_minor": 0
   }
  }
 },
 "nbformat": 4,
 "nbformat_minor": 5
}
