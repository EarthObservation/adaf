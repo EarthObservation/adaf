{
 "cells": [
  {
   "cell_type": "markdown",
   "id": "fac53519-1db7-466c-bab7-addd390fb928",
   "metadata": {},
   "source": [
    "**ADAF Demo**\n",
    "\n",
    "**TII MLM user workshop - 13/6/2023**"
   ]
  },
  {
   "cell_type": "markdown",
   "id": "06ef7363-cd6b-4029-a9ff-11f931a165f3",
   "metadata": {},
   "source": [
    "## GUI Prototype: ML patch creation\n",
    "\n",
    "This Jupyter Notebook was created for demonstration of prototype GUI for creating ML patches.\n",
    "\n",
    "The Notebook is designed to be user-friendly and can be used by people with little or no programming knowledge. At the same time it alows advanced users to \"look under the hood\" and modify the code to their own preferences.\n",
    "\n",
    "## **HOW TO BEGIN**?\n",
    "\n",
    "* To start the GUI widget simply run the cell bellow.\n",
    "\n",
    "* To run the cell press the double arrows symbol on the toolbar above \n",
    "\n",
    "![](media/ipy_resker.png)\n",
    "\n",
    "* It will ask you to restart the kernel, press **`Restart`**.\n",
    "\n",
    "\n",
    "\n",
    "* Example input data (paths):\n",
    "\n",
    "> DEM path: `c:\\Users\\ncoz\\GitHub\\aitlas-TII-LIDAR\\inference\\data-small_debug\\ISA-147_small.tif`\n",
    "\n",
    "> ML model **segmentation**: `c:\\Users\\ncoz\\GitHub\\aitlas-TII-LIDAR\\inference\\models\\model_semantic_segmentation_BRE_124.tar`\n",
    "\n",
    "\n",
    "> ML model **object detection**: `c:\\Users\\ncoz\\GitHub\\aitlas-TII-LIDAR\\inference\\models\\model_object_detection_BRE_12.tar`\n",
    "\n",
    "* After filling-in the requiered field simply pres the **`Run ADAF`** button"
   ]
  },
  {
   "cell_type": "code",
   "execution_count": 1,
   "id": "282a3d92-e1ff-4748-9400-866bb66ab2a2",
   "metadata": {},
   "outputs": [
    {
     "data": {
      "application/vnd.jupyter.widget-view+json": {
       "model_id": "2b3bdf38ac52488bb7e5fc17bc2f7bdc",
       "version_major": 2,
       "version_minor": 0
      },
      "text/plain": [
       "HTML(value='<b>Input data options:</b>')"
      ]
     },
     "metadata": {},
     "output_type": "display_data"
    },
    {
     "data": {
      "application/vnd.jupyter.widget-view+json": {
       "model_id": "e40692c4b8b44b5ba38df09e3a93aaa5",
       "version_major": 2,
       "version_minor": 0
      },
      "text/plain": [
       "HBox(children=(RadioButtons(description='Select input file:', options=('DEM (*.tif / *.vrt)', 'Visualization (…"
      ]
     },
     "metadata": {},
     "output_type": "display_data"
    },
    {
     "data": {
      "application/vnd.jupyter.widget-view+json": {
       "model_id": "e0a1573cfe93434987c31eee1deeba20",
       "version_major": 2,
       "version_minor": 0
      },
      "text/plain": [
       "Text(value='', description='DEM path:', layout=Layout(width='98%'), placeholder='<my_data_folder/my_DEM_file.t…"
      ]
     },
     "metadata": {},
     "output_type": "display_data"
    },
    {
     "data": {
      "application/vnd.jupyter.widget-view+json": {
       "model_id": "50bf7b17c65f4ab0bf9e9046193bf679",
       "version_major": 2,
       "version_minor": 0
      },
      "text/plain": [
       "HTML(value='<b>ML options:</b>')"
      ]
     },
     "metadata": {},
     "output_type": "display_data"
    },
    {
     "data": {
      "application/vnd.jupyter.widget-view+json": {
       "model_id": "023411d0d3794891a750f92bdefdd410",
       "version_major": 2,
       "version_minor": 0
      },
      "text/plain": [
       "VBox(children=(HBox(children=(RadioButtons(description='Select ML method:', options=('segmentation', 'object d…"
      ]
     },
     "metadata": {},
     "output_type": "display_data"
    },
    {
     "data": {
      "application/vnd.jupyter.widget-view+json": {
       "model_id": "78ae2adefddc4fb7b27ae40595175afa",
       "version_major": 2,
       "version_minor": 0
      },
      "text/plain": [
       "Output(layout=Layout(border_bottom='1px solid black', border_left='1px solid black', border_right='1px solid b…"
      ]
     },
     "metadata": {},
     "output_type": "display_data"
    }
   ],
   "source": [
    "import adaf_widget"
   ]
  }
 ],
 "metadata": {
  "kernelspec": {
   "display_name": "aitlas-tii",
   "language": "python",
   "name": "aitlas-tii"
  },
  "language_info": {
   "codemirror_mode": {
    "name": "ipython",
    "version": 3
   },
   "file_extension": ".py",
   "mimetype": "text/x-python",
   "name": "python",
   "nbconvert_exporter": "python",
   "pygments_lexer": "ipython3",
   "version": "3.8.17"
  },
  "widgets": {
   "application/vnd.jupyter.widget-state+json": {
    "state": {
     "00cd374161b14b4bb2333487fa195cdf": {
      "model_module": "@jupyter-widgets/controls",
      "model_module_version": "2.0.0",
      "model_name": "DescriptionStyleModel",
      "state": {
       "description_width": ""
      }
     },
     "023411d0d3794891a750f92bdefdd410": {
      "model_module": "@jupyter-widgets/controls",
      "model_module_version": "2.0.0",
      "model_name": "VBoxModel",
      "state": {
       "children": [
        "IPY_MODEL_b8da3daa578b4532845263e5cb72b097",
        "IPY_MODEL_afc6b3e31b88414d9ba850b4d90e8963",
        "IPY_MODEL_c0689c36a50242958cb0f0b525a58602",
        "IPY_MODEL_5f7991a66a5043e8a7e8a33948e21a83",
        "IPY_MODEL_f0b0bfab9b034828a04c270ccecd72bc"
       ],
       "layout": "IPY_MODEL_db85b312abc4487184f93a9cedcd060c"
      }
     },
     "096d057be30c4225812e84444986b03b": {
      "model_module": "@jupyter-widgets/base",
      "model_module_version": "2.0.0",
      "model_name": "LayoutModel",
      "state": {
       "width": "98%"
      }
     },
     "0d03fb0a586840c583ee1d8ac58bd855": {
      "model_module": "@jupyter-widgets/base",
      "model_module_version": "2.0.0",
      "model_name": "LayoutModel",
      "state": {
       "border_bottom": "1px solid black",
       "border_left": "1px solid black",
       "border_right": "1px solid black",
       "border_top": "1px solid black"
      }
     },
     "0ea1d023afe34d249114de3e8d799078": {
      "model_module": "@jupyter-widgets/controls",
      "model_module_version": "2.0.0",
      "model_name": "ButtonStyleModel",
      "state": {
       "font_family": null,
       "font_size": null,
       "font_style": null,
       "font_variant": null,
       "font_weight": null,
       "text_color": null,
       "text_decoration": null
      }
     },
     "1be875fb4e7144258cdcb4fe1c16070b": {
      "model_module": "@jupyter-widgets/controls",
      "model_module_version": "2.0.0",
      "model_name": "CheckboxModel",
      "state": {
       "description": "Enclosure",
       "disabled": false,
       "indent": false,
       "layout": "IPY_MODEL_761c841e99f14070b786ef0a76fc628d",
       "style": "IPY_MODEL_1c70cc371f5d4ac7bd1f50866c7d0b8b",
       "value": true
      }
     },
     "1c70cc371f5d4ac7bd1f50866c7d0b8b": {
      "model_module": "@jupyter-widgets/controls",
      "model_module_version": "2.0.0",
      "model_name": "CheckboxStyleModel",
      "state": {
       "description_width": ""
      }
     },
     "20032e47ffd34e2fbbd728ce02516462": {
      "model_module": "@jupyter-widgets/controls",
      "model_module_version": "2.0.0",
      "model_name": "HTMLStyleModel",
      "state": {
       "description_width": "",
       "font_size": null,
       "text_color": null
      }
     },
     "20162a28aecc4e878f19291b1b04db70": {
      "model_module": "@jupyter-widgets/controls",
      "model_module_version": "2.0.0",
      "model_name": "CheckboxStyleModel",
      "state": {
       "description_width": ""
      }
     },
     "223c3146a98846e68297a2a899a889d1": {
      "model_module": "@jupyter-widgets/base",
      "model_module_version": "2.0.0",
      "model_name": "LayoutModel",
      "state": {}
     },
     "22e903064e8445f2b6f25d39930ba190": {
      "model_module": "@jupyter-widgets/controls",
      "model_module_version": "2.0.0",
      "model_name": "CheckboxStyleModel",
      "state": {
       "description_width": ""
      }
     },
     "25e0a20e3734470c851a12bee86edbe9": {
      "model_module": "@jupyter-widgets/controls",
      "model_module_version": "2.0.0",
      "model_name": "CheckboxModel",
      "state": {
       "description": "Ringfort",
       "disabled": false,
       "indent": false,
       "layout": "IPY_MODEL_b1258c27560e40e095e8cff53f9ff7a1",
       "style": "IPY_MODEL_20162a28aecc4e878f19291b1b04db70",
       "value": true
      }
     },
     "277cdcdb0ea84d558be948af85332940": {
      "model_module": "@jupyter-widgets/controls",
      "model_module_version": "2.0.0",
      "model_name": "TextStyleModel",
      "state": {
       "description_width": "initial",
       "font_size": null,
       "text_color": null
      }
     },
     "2b3bdf38ac52488bb7e5fc17bc2f7bdc": {
      "model_module": "@jupyter-widgets/controls",
      "model_module_version": "2.0.0",
      "model_name": "HTMLModel",
      "state": {
       "layout": "IPY_MODEL_9fac49e7312f4916a0e256e2e1efc21f",
       "style": "IPY_MODEL_20032e47ffd34e2fbbd728ce02516462",
       "value": "<b>Input data options:</b>"
      }
     },
     "2be9d43bce3a46b3a3857ef26e016295": {
      "model_module": "@jupyter-widgets/controls",
      "model_module_version": "2.0.0",
      "model_name": "RadioButtonsModel",
      "state": {
       "_options_labels": [
        "segmentation",
        "object detection"
       ],
       "description": "Select ML method:",
       "index": 0,
       "layout": "IPY_MODEL_c5f0d543ba124ed4b0001ba65b1734ba",
       "style": "IPY_MODEL_d5dce22bfa1040e6a86563619855f739"
      }
     },
     "42640bdfdddc41c391b7c80a37b24b79": {
      "model_module": "@jupyter-widgets/base",
      "model_module_version": "2.0.0",
      "model_name": "LayoutModel",
      "state": {
       "width": "98%"
      }
     },
     "4e7eed3399b14e4091b5780db7e4ab01": {
      "model_module": "@jupyter-widgets/base",
      "model_module_version": "2.0.0",
      "model_name": "LayoutModel",
      "state": {}
     },
     "50bf7b17c65f4ab0bf9e9046193bf679": {
      "model_module": "@jupyter-widgets/controls",
      "model_module_version": "2.0.0",
      "model_name": "HTMLModel",
      "state": {
       "layout": "IPY_MODEL_daa69346721d4298a541946f2f118144",
       "style": "IPY_MODEL_c961ece581654091a2a457349d3da93c",
       "value": "<b>ML options:</b>"
      }
     },
     "55d3a9d8e73d4a7b81362092219944e1": {
      "model_module": "@jupyter-widgets/controls",
      "model_module_version": "2.0.0",
      "model_name": "CheckboxModel",
      "state": {
       "description": "Barrow",
       "disabled": false,
       "indent": false,
       "layout": "IPY_MODEL_66db52bd13924a2fbe1fe2bf21cdca2d",
       "style": "IPY_MODEL_a124279dc7ea4affab34186251c82ee7",
       "value": true
      }
     },
     "5e32a67ff0d04857823777778149f9b9": {
      "model_module": "@jupyter-widgets/base",
      "model_module_version": "2.0.0",
      "model_name": "LayoutModel",
      "state": {}
     },
     "5f7991a66a5043e8a7e8a33948e21a83": {
      "model_module": "@jupyter-widgets/controls",
      "model_module_version": "2.0.0",
      "model_name": "TextModel",
      "state": {
       "description": "Path to ML model [*.tar]:",
       "layout": "IPY_MODEL_60f2246835fd420881afd1e3c5ba1028",
       "placeholder": "model_folder/saved_model.tar",
       "style": "IPY_MODEL_e4f42ced9d81417c96941c80dfd2d5cc"
      }
     },
     "60f2246835fd420881afd1e3c5ba1028": {
      "model_module": "@jupyter-widgets/base",
      "model_module_version": "2.0.0",
      "model_name": "LayoutModel",
      "state": {
       "width": "98%"
      }
     },
     "66db52bd13924a2fbe1fe2bf21cdca2d": {
      "model_module": "@jupyter-widgets/base",
      "model_module_version": "2.0.0",
      "model_name": "LayoutModel",
      "state": {}
     },
     "761c841e99f14070b786ef0a76fc628d": {
      "model_module": "@jupyter-widgets/base",
      "model_module_version": "2.0.0",
      "model_name": "LayoutModel",
      "state": {}
     },
     "78ae2adefddc4fb7b27ae40595175afa": {
      "model_module": "@jupyter-widgets/output",
      "model_module_version": "1.0.0",
      "model_name": "OutputModel",
      "state": {
       "layout": "IPY_MODEL_0d03fb0a586840c583ee1d8ac58bd855"
      }
     },
     "793e2f275b3c4e0b92a1c5d9803f6081": {
      "model_module": "@jupyter-widgets/base",
      "model_module_version": "2.0.0",
      "model_name": "LayoutModel",
      "state": {}
     },
     "888d64dbff464c7e88ef3ac280b3b05e": {
      "model_module": "@jupyter-widgets/controls",
      "model_module_version": "2.0.0",
      "model_name": "RadioButtonsModel",
      "state": {
       "_options_labels": [
        "DEM (*.tif / *.vrt)",
        "Visualization (*.tif / *.vrt)"
       ],
       "description": "Select input file:",
       "index": 0,
       "layout": "IPY_MODEL_4e7eed3399b14e4091b5780db7e4ab01",
       "style": "IPY_MODEL_00cd374161b14b4bb2333487fa195cdf"
      }
     },
     "94eabd29a8db41809d9a7283474e3169": {
      "model_module": "@jupyter-widgets/controls",
      "model_module_version": "2.0.0",
      "model_name": "RadioButtonsModel",
      "state": {
       "_options_labels": [
        "ADAF model",
        "Custom model"
       ],
       "description": "Select ML model:",
       "index": 0,
       "layout": "IPY_MODEL_f3b43ed4f4674d62b8d672c2732d8f17",
       "style": "IPY_MODEL_b6886350ffae447dad4c5ed58510e2d8"
      }
     },
     "9fac49e7312f4916a0e256e2e1efc21f": {
      "model_module": "@jupyter-widgets/base",
      "model_module_version": "2.0.0",
      "model_name": "LayoutModel",
      "state": {}
     },
     "a124279dc7ea4affab34186251c82ee7": {
      "model_module": "@jupyter-widgets/controls",
      "model_module_version": "2.0.0",
      "model_name": "CheckboxStyleModel",
      "state": {
       "description_width": ""
      }
     },
     "a8892576ca604348a2a58df869e4bb8c": {
      "model_module": "@jupyter-widgets/controls",
      "model_module_version": "2.0.0",
      "model_name": "CheckboxModel",
      "state": {
       "description": "Batch processing",
       "disabled": false,
       "indent": false,
       "layout": "IPY_MODEL_223c3146a98846e68297a2a899a889d1",
       "style": "IPY_MODEL_cd7f2c486c1d4f59bc9dcfbe4a52b2be",
       "value": false
      }
     },
     "acb2b983159843d4af7c6c860a8bd534": {
      "model_module": "@jupyter-widgets/controls",
      "model_module_version": "2.0.0",
      "model_name": "LabelStyleModel",
      "state": {
       "description_width": "",
       "font_family": null,
       "font_size": null,
       "font_style": null,
       "font_variant": null,
       "font_weight": null,
       "text_color": null,
       "text_decoration": null
      }
     },
     "afc6b3e31b88414d9ba850b4d90e8963": {
      "model_module": "@jupyter-widgets/controls",
      "model_module_version": "2.0.0",
      "model_name": "LabelModel",
      "state": {
       "layout": "IPY_MODEL_cf4abd6f1b9f45fe93d43f0329971f99",
       "style": "IPY_MODEL_acb2b983159843d4af7c6c860a8bd534",
       "value": "Select classes for inference:"
      }
     },
     "b1258c27560e40e095e8cff53f9ff7a1": {
      "model_module": "@jupyter-widgets/base",
      "model_module_version": "2.0.0",
      "model_name": "LayoutModel",
      "state": {}
     },
     "b6886350ffae447dad4c5ed58510e2d8": {
      "model_module": "@jupyter-widgets/controls",
      "model_module_version": "2.0.0",
      "model_name": "DescriptionStyleModel",
      "state": {
       "description_width": ""
      }
     },
     "b8da3daa578b4532845263e5cb72b097": {
      "model_module": "@jupyter-widgets/controls",
      "model_module_version": "2.0.0",
      "model_name": "HBoxModel",
      "state": {
       "children": [
        "IPY_MODEL_2be9d43bce3a46b3a3857ef26e016295",
        "IPY_MODEL_94eabd29a8db41809d9a7283474e3169"
       ],
       "layout": "IPY_MODEL_d6ac09ef7876430599703bbd65965390"
      }
     },
     "c0689c36a50242958cb0f0b525a58602": {
      "model_module": "@jupyter-widgets/controls",
      "model_module_version": "2.0.0",
      "model_name": "HBoxModel",
      "state": {
       "children": [
        "IPY_MODEL_55d3a9d8e73d4a7b81362092219944e1",
        "IPY_MODEL_25e0a20e3734470c851a12bee86edbe9",
        "IPY_MODEL_1be875fb4e7144258cdcb4fe1c16070b",
        "IPY_MODEL_d457ee0902854d0eb0e914cf12835949"
       ],
       "layout": "IPY_MODEL_e19faed046354a82a5487ebb369d12bc"
      }
     },
     "c5f0d543ba124ed4b0001ba65b1734ba": {
      "model_module": "@jupyter-widgets/base",
      "model_module_version": "2.0.0",
      "model_name": "LayoutModel",
      "state": {}
     },
     "c961ece581654091a2a457349d3da93c": {
      "model_module": "@jupyter-widgets/controls",
      "model_module_version": "2.0.0",
      "model_name": "HTMLStyleModel",
      "state": {
       "description_width": "",
       "font_size": null,
       "text_color": null
      }
     },
     "cd7f2c486c1d4f59bc9dcfbe4a52b2be": {
      "model_module": "@jupyter-widgets/controls",
      "model_module_version": "2.0.0",
      "model_name": "CheckboxStyleModel",
      "state": {
       "description_width": ""
      }
     },
     "cf4abd6f1b9f45fe93d43f0329971f99": {
      "model_module": "@jupyter-widgets/base",
      "model_module_version": "2.0.0",
      "model_name": "LayoutModel",
      "state": {}
     },
     "d3d29353430c4278a82f38d8b709b14c": {
      "model_module": "@jupyter-widgets/base",
      "model_module_version": "2.0.0",
      "model_name": "LayoutModel",
      "state": {
       "border_bottom": "1px solid black",
       "border_left": "1px solid black",
       "border_right": "1px solid black",
       "border_top": "1px solid black"
      }
     },
     "d457ee0902854d0eb0e914cf12835949": {
      "model_module": "@jupyter-widgets/controls",
      "model_module_version": "2.0.0",
      "model_name": "CheckboxModel",
      "state": {
       "description": "All archaeology",
       "disabled": false,
       "indent": false,
       "layout": "IPY_MODEL_5e32a67ff0d04857823777778149f9b9",
       "style": "IPY_MODEL_22e903064e8445f2b6f25d39930ba190",
       "value": false
      }
     },
     "d5dce22bfa1040e6a86563619855f739": {
      "model_module": "@jupyter-widgets/controls",
      "model_module_version": "2.0.0",
      "model_name": "DescriptionStyleModel",
      "state": {
       "description_width": ""
      }
     },
     "d6ac09ef7876430599703bbd65965390": {
      "model_module": "@jupyter-widgets/base",
      "model_module_version": "2.0.0",
      "model_name": "LayoutModel",
      "state": {}
     },
     "daa69346721d4298a541946f2f118144": {
      "model_module": "@jupyter-widgets/base",
      "model_module_version": "2.0.0",
      "model_name": "LayoutModel",
      "state": {}
     },
     "db85b312abc4487184f93a9cedcd060c": {
      "model_module": "@jupyter-widgets/base",
      "model_module_version": "2.0.0",
      "model_name": "LayoutModel",
      "state": {}
     },
     "e0a1573cfe93434987c31eee1deeba20": {
      "model_module": "@jupyter-widgets/controls",
      "model_module_version": "2.0.0",
      "model_name": "TextModel",
      "state": {
       "description": "DEM path:",
       "layout": "IPY_MODEL_096d057be30c4225812e84444986b03b",
       "placeholder": "<my_data_folder/my_DEM_file.tif>",
       "style": "IPY_MODEL_277cdcdb0ea84d558be948af85332940"
      }
     },
     "e19faed046354a82a5487ebb369d12bc": {
      "model_module": "@jupyter-widgets/base",
      "model_module_version": "2.0.0",
      "model_name": "LayoutModel",
      "state": {}
     },
     "e40692c4b8b44b5ba38df09e3a93aaa5": {
      "model_module": "@jupyter-widgets/controls",
      "model_module_version": "2.0.0",
      "model_name": "HBoxModel",
      "state": {
       "children": [
        "IPY_MODEL_888d64dbff464c7e88ef3ac280b3b05e",
        "IPY_MODEL_a8892576ca604348a2a58df869e4bb8c"
       ],
       "layout": "IPY_MODEL_793e2f275b3c4e0b92a1c5d9803f6081"
      }
     },
     "e4f42ced9d81417c96941c80dfd2d5cc": {
      "model_module": "@jupyter-widgets/controls",
      "model_module_version": "2.0.0",
      "model_name": "TextStyleModel",
      "state": {
       "description_width": "initial",
       "font_size": null,
       "text_color": null
      }
     },
     "f0b0bfab9b034828a04c270ccecd72bc": {
      "model_module": "@jupyter-widgets/controls",
      "model_module_version": "2.0.0",
      "model_name": "ButtonModel",
      "state": {
       "description": "Run ADAF",
       "layout": "IPY_MODEL_42640bdfdddc41c391b7c80a37b24b79",
       "style": "IPY_MODEL_0ea1d023afe34d249114de3e8d799078",
       "tooltip": null
      }
     },
     "f2a50356c04f49e3aef3faec1ab7da1a": {
      "model_module": "@jupyter-widgets/output",
      "model_module_version": "1.0.0",
      "model_name": "OutputModel",
      "state": {
       "layout": "IPY_MODEL_d3d29353430c4278a82f38d8b709b14c"
      }
     },
     "f3b43ed4f4674d62b8d672c2732d8f17": {
      "model_module": "@jupyter-widgets/base",
      "model_module_version": "2.0.0",
      "model_name": "LayoutModel",
      "state": {}
     }
    },
    "version_major": 2,
    "version_minor": 0
   }
  }
 },
 "nbformat": 4,
 "nbformat_minor": 5
}
