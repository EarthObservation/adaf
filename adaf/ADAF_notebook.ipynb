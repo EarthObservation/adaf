{
 "cells": [
  {
   "cell_type": "code",
   "execution_count": 1,
   "id": "cf47ceb9",
   "metadata": {},
   "outputs": [],
   "source": [
    "from adaf_inference import main_routine  #, object_detection_vectors"
   ]
  },
  {
   "cell_type": "code",
   "execution_count": null,
   "id": "b70133c0",
   "metadata": {},
   "outputs": [],
   "source": [
    "my_file = r\"c:\\Users\\ncoz\\GitHub\\aitlas-TII-LIDAR\\inference\\data-small\\ISA-147_small.tif\"\n",
    "\n",
    "my_ml_type = \"segmentation\"  # \"segmentation\" or \"object detection\"\n",
    "\n",
    "my_tile_size_px = 2048\n",
    "\n",
    "# Specify the path to the model\n",
    "# OBJECT DETECTION:\n",
    "# my_model_path = r\"c:\\Users\\ncoz\\GitHub\\aitlas-TII-LIDAR\\inference\\data\\model_object_detection_BRE_12.tar\"\n",
    "# SEGMENTATION:\n",
    "my_model_path = r\"c:\\Users\\ncoz\\GitHub\\aitlas-TII-LIDAR\\inference\\data\\model_semantic_segmentation_BRE_124.tar\"\n"
   ]
  },
  {
   "cell_type": "code",
   "execution_count": null,
   "id": "25e74057",
   "metadata": {},
   "outputs": [],
   "source": [
    "rs = main_routine(\n",
    "    my_file,\n",
    "    my_ml_type,\n",
    "    my_model_path,\n",
    "    my_tile_size_px,\n",
    "    nr_processes=6\n",
    ")\n",
    "\n",
    "print(rs)"
   ]
  },
  {
   "cell_type": "code",
   "execution_count": null,
   "id": "5c5fac2d",
   "metadata": {},
   "outputs": [],
   "source": [
    "# rs = object_detection_vectors(\n",
    "#     r\"c:\\Users\\ncoz\\GitHub\\aitlas-TII-LIDAR\\inference\\data-147\\slrm\",\n",
    "#     r\"c:\\Users\\ncoz\\GitHub\\aitlas-TII-LIDAR\\inference\\data-147\\predictions_object_detection\"\n",
    "# )"
   ]
  },
  {
   "cell_type": "code",
   "execution_count": null,
   "id": "2e957de6",
   "metadata": {},
   "outputs": [],
   "source": []
  }
 ],
 "metadata": {
  "kernelspec": {
   "display_name": "ai-pip",
   "language": "python",
   "name": "ai-pip"
  },
  "language_info": {
   "codemirror_mode": {
    "name": "ipython",
    "version": 3
   },
   "file_extension": ".py",
   "mimetype": "text/x-python",
   "name": "python",
   "nbconvert_exporter": "python",
   "pygments_lexer": "ipython3",
   "version": "3.8.16"
  }
 },
 "nbformat": 4,
 "nbformat_minor": 5
}
