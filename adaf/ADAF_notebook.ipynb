{
 "cells": [
  {
   "cell_type": "code",
   "execution_count": 1,
   "id": "cf47ceb9",
   "metadata": {},
   "outputs": [],
   "source": [
    "from adaf_inference import main_routine"
   ]
  },
  {
   "cell_type": "code",
   "execution_count": 2,
   "id": "b70133c0",
   "metadata": {},
   "outputs": [],
   "source": [
    "# (1) DEM\n",
    "my_file = r\"c:\\Users\\ncoz\\GitHub\\aitlas-TII-LIDAR\\inference\\data-small_debug\\ISA-147_small.tif\"\n",
    "\n",
    "# (2) ML type\n",
    "my_ml_type = \"segmentation\"  # \"segmentation\" or \"object detection\"\n",
    "\n",
    "\n",
    "# (3) Path to model TAR file\n",
    "# OBJECT DETECTION:\n",
    "# my_model_path = r\"c:\\Users\\ncoz\\GitHub\\aitlas-TII-LIDAR\\inference\\data\\model_object_detection_BRE_12.tar\"\n",
    "# SEGMENTATION:\n",
    "my_model_path = r\"c:\\Users\\ncoz\\GitHub\\aitlas-TII-LIDAR\\inference\\data\\model_semantic_segmentation_BRE_124.tar\"\n",
    "\n",
    "# (4) Tile_size\n",
    "my_tile_size_px = 512\n",
    "\n",
    "# (5) Threshold\n",
    "threshold = 0.5\n",
    "\n",
    "# (6) Number of processes for multiprocessing\n",
    "nr_processes=6"
   ]
  },
  {
   "cell_type": "code",
   "execution_count": 3,
   "id": "25e74057",
   "metadata": {},
   "outputs": [
    {
     "name": "stdout",
     "output_type": "stream",
     "text": [
      "Start RVT vis\n",
      "tile_ID: 0 ; Finished processing: 243600_168902_rvt.tif\n",
      "tile_ID: 1 ; Finished processing: 243856_168902_rvt.tif\n",
      "tile_ID: 2 ; Finished processing: 243600_169158_rvt.tif\n",
      "tile_ID: 3 ; Finished processing: 243856_169158_rvt.tif\n",
      "tile_ID: 4 ; Finished processing: 243600_169414_rvt.tif\n",
      "tile_ID: 5 ; Finished processing: 243856_169414_rvt.tif\n",
      "tile_ID: 6 ; Finished processing: 243600_169670_rvt.tif\n",
      "tile_ID: 7 ; Finished processing: 243856_169670_rvt.tif\n",
      "tile_ID: 8 ; Finished processing: 244112_168902_rvt.tif\n",
      "tile_ID: 9 ; Finished processing: 244368_168902_rvt.tif\n",
      "tile_ID: 10 ; Finished processing: 244112_169158_rvt.tif\n",
      "tile_ID: 11 ; Finished processing: 244368_169158_rvt.tif\n",
      "tile_ID: 12 ; Finished processing: 244112_169414_rvt.tif\n",
      "tile_ID: 13 ; Finished processing: 244368_169414_rvt.tif\n",
      "tile_ID: 14 ; Finished processing: 244112_169670_rvt.tif\n",
      "tile_ID: 15 ; Finished processing: 244368_169670_rvt.tif\n",
      "  - Created: c:\\Users\\ncoz\\GitHub\\aitlas-TII-LIDAR\\inference\\data-small_debug\\ISA-147_small_slrm.vrt\n",
      "Done with computing low-level visualizations in 0 min.\n",
      "Running segmentation\n"
     ]
    },
    {
     "name": "stderr",
     "output_type": "stream",
     "text": [
      "2023-06-09 23:21:11,894 INFO Loading pretrained weights from Hugging Face hub (timm/hrnet_w48.ms_in1k)\n",
      "2023-06-09 23:21:12,810 INFO [timm/hrnet_w48.ms_in1k] Safe alternative available for 'pytorch_model.bin' (as 'model.safetensors'). Loading weights using safetensors.\n",
      "2023-06-09 23:21:13,994 INFO Loading checkpoint c:\\Users\\ncoz\\GitHub\\aitlas-TII-LIDAR\\inference\\data\\model_semantic_segmentation_BRE_124.tar\n",
      "2023-06-09 23:21:15,040 INFO Loaded checkpoint c:\\Users\\ncoz\\GitHub\\aitlas-TII-LIDAR\\inference\\data\\model_semantic_segmentation_BRE_124.tar at epoch 31\n"
     ]
    },
    {
     "name": "stdout",
     "output_type": "stream",
     "text": [
      "Model successfully loaded.\n",
      "Generating predictions:\n",
      ">>>  243600_168902_rvt_SLRM_R20.tif\n",
      "(512, 512, 3)\n",
      ">>>  243600_169158_rvt_SLRM_R20.tif\n",
      "(512, 512, 3)\n",
      ">>>  243600_169414_rvt_SLRM_R20.tif\n",
      "(512, 512, 3)\n",
      ">>>  243600_169670_rvt_SLRM_R20.tif\n",
      "(512, 512, 3)\n",
      ">>>  243856_168902_rvt_SLRM_R20.tif\n",
      "(512, 512, 3)\n",
      ">>>  243856_169158_rvt_SLRM_R20.tif\n",
      "(512, 512, 3)\n",
      ">>>  243856_169414_rvt_SLRM_R20.tif\n",
      "(512, 512, 3)\n",
      ">>>  243856_169670_rvt_SLRM_R20.tif\n",
      "(512, 512, 3)\n",
      ">>>  244112_168902_rvt_SLRM_R20.tif\n",
      "(512, 512, 3)\n",
      ">>>  244112_169158_rvt_SLRM_R20.tif\n",
      "(512, 512, 3)\n",
      ">>>  244112_169414_rvt_SLRM_R20.tif\n",
      "(512, 512, 3)\n",
      ">>>  244112_169670_rvt_SLRM_R20.tif\n",
      "(512, 512, 3)\n",
      ">>>  244368_168902_rvt_SLRM_R20.tif\n",
      "(512, 512, 3)\n",
      ">>>  244368_169158_rvt_SLRM_R20.tif\n",
      "(512, 512, 3)\n",
      ">>>  244368_169414_rvt_SLRM_R20.tif\n",
      "(512, 512, 3)\n",
      ">>>  244368_169670_rvt_SLRM_R20.tif\n",
      "(512, 512, 3)\n"
     ]
    },
    {
     "ename": "ValueError",
     "evalue": "No objects to concatenate",
     "output_type": "error",
     "traceback": [
      "\u001b[1;31m---------------------------------------------------------------------------\u001b[0m",
      "\u001b[1;31mValueError\u001b[0m                                Traceback (most recent call last)",
      "\u001b[1;32m~\\AppData\\Local\\Temp\\ipykernel_35516\\3139747891.py\u001b[0m in \u001b[0;36m<module>\u001b[1;34m\u001b[0m\n\u001b[1;32m----> 1\u001b[1;33m rs = main_routine(\n\u001b[0m\u001b[0;32m      2\u001b[0m     \u001b[0mmy_file\u001b[0m\u001b[1;33m,\u001b[0m\u001b[1;33m\u001b[0m\u001b[1;33m\u001b[0m\u001b[0m\n\u001b[0;32m      3\u001b[0m     \u001b[0mmy_ml_type\u001b[0m\u001b[1;33m,\u001b[0m\u001b[1;33m\u001b[0m\u001b[1;33m\u001b[0m\u001b[0m\n\u001b[0;32m      4\u001b[0m     \u001b[0mmy_model_path\u001b[0m\u001b[1;33m,\u001b[0m\u001b[1;33m\u001b[0m\u001b[1;33m\u001b[0m\u001b[0m\n\u001b[0;32m      5\u001b[0m     \u001b[0mmy_tile_size_px\u001b[0m\u001b[1;33m,\u001b[0m\u001b[1;33m\u001b[0m\u001b[1;33m\u001b[0m\u001b[0m\n",
      "\u001b[1;32m~\\GitHub\\aitlas-TII-LIDAR\\adaf\\adaf_inference.py\u001b[0m in \u001b[0;36mmain_routine\u001b[1;34m(dem_path, ml_type, model_path, tile_size_px, prob_threshold, nr_processes)\u001b[0m\n\u001b[0;32m    427\u001b[0m         )\n\u001b[0;32m    428\u001b[0m         \u001b[1;31m# ## 4 ## Create map\u001b[0m\u001b[1;33m\u001b[0m\u001b[1;33m\u001b[0m\u001b[1;33m\u001b[0m\u001b[0m\n\u001b[1;32m--> 429\u001b[1;33m         \u001b[0mvector_path\u001b[0m \u001b[1;33m=\u001b[0m \u001b[0msemantic_segmentation_vectors\u001b[0m\u001b[1;33m(\u001b[0m\u001b[0mpredictions_dir\u001b[0m\u001b[1;33m,\u001b[0m \u001b[0mprob_threshold\u001b[0m\u001b[1;33m)\u001b[0m\u001b[1;33m\u001b[0m\u001b[1;33m\u001b[0m\u001b[0m\n\u001b[0m\u001b[0;32m    430\u001b[0m     \u001b[1;32melse\u001b[0m\u001b[1;33m:\u001b[0m\u001b[1;33m\u001b[0m\u001b[1;33m\u001b[0m\u001b[0m\n\u001b[0;32m    431\u001b[0m         \u001b[1;32mraise\u001b[0m \u001b[0mException\u001b[0m\u001b[1;33m(\u001b[0m\u001b[1;34m\"Wrong ml_type: choose 'object detection' or 'segmentation'\"\u001b[0m\u001b[1;33m)\u001b[0m\u001b[1;33m\u001b[0m\u001b[1;33m\u001b[0m\u001b[0m\n",
      "\u001b[1;32m~\\GitHub\\aitlas-TII-LIDAR\\adaf\\adaf_inference.py\u001b[0m in \u001b[0;36msemantic_segmentation_vectors\u001b[1;34m(path_to_predictions, threshold)\u001b[0m\n\u001b[0;32m    296\u001b[0m             \u001b[0mgrids\u001b[0m\u001b[1;33m.\u001b[0m\u001b[0mappend\u001b[0m\u001b[1;33m(\u001b[0m\u001b[0mgrid\u001b[0m\u001b[1;33m)\u001b[0m\u001b[1;33m\u001b[0m\u001b[1;33m\u001b[0m\u001b[0m\n\u001b[0;32m    297\u001b[0m \u001b[1;33m\u001b[0m\u001b[0m\n\u001b[1;32m--> 298\u001b[1;33m     \u001b[0mgrids\u001b[0m \u001b[1;33m=\u001b[0m \u001b[0mgpd\u001b[0m\u001b[1;33m.\u001b[0m\u001b[0mGeoDataFrame\u001b[0m\u001b[1;33m(\u001b[0m\u001b[0mpd\u001b[0m\u001b[1;33m.\u001b[0m\u001b[0mconcat\u001b[0m\u001b[1;33m(\u001b[0m\u001b[0mgrids\u001b[0m\u001b[1;33m,\u001b[0m \u001b[0mignore_index\u001b[0m\u001b[1;33m=\u001b[0m\u001b[1;32mTrue\u001b[0m\u001b[1;33m)\u001b[0m\u001b[1;33m,\u001b[0m \u001b[0mcrs\u001b[0m\u001b[1;33m=\u001b[0m\u001b[0mcrs\u001b[0m\u001b[1;33m)\u001b[0m\u001b[1;33m\u001b[0m\u001b[1;33m\u001b[0m\u001b[0m\n\u001b[0m\u001b[0;32m    299\u001b[0m     \u001b[0mgrids\u001b[0m\u001b[1;33m.\u001b[0m\u001b[0mto_file\u001b[0m\u001b[1;33m(\u001b[0m\u001b[0moutput_path\u001b[0m\u001b[1;33m.\u001b[0m\u001b[0mas_posix\u001b[0m\u001b[1;33m(\u001b[0m\u001b[1;33m)\u001b[0m\u001b[1;33m,\u001b[0m \u001b[0mdriver\u001b[0m\u001b[1;33m=\u001b[0m\u001b[1;34m\"GPKG\"\u001b[0m\u001b[1;33m)\u001b[0m\u001b[1;33m\u001b[0m\u001b[1;33m\u001b[0m\u001b[0m\n\u001b[0;32m    300\u001b[0m \u001b[1;33m\u001b[0m\u001b[0m\n",
      "\u001b[1;32m~\\.conda\\envs\\ai-pip\\lib\\site-packages\\pandas\\core\\reshape\\concat.py\u001b[0m in \u001b[0;36mconcat\u001b[1;34m(objs, axis, join, ignore_index, keys, levels, names, verify_integrity, sort, copy)\u001b[0m\n\u001b[0;32m    370\u001b[0m         \u001b[0mcopy\u001b[0m \u001b[1;33m=\u001b[0m \u001b[1;32mFalse\u001b[0m\u001b[1;33m\u001b[0m\u001b[1;33m\u001b[0m\u001b[0m\n\u001b[0;32m    371\u001b[0m \u001b[1;33m\u001b[0m\u001b[0m\n\u001b[1;32m--> 372\u001b[1;33m     op = _Concatenator(\n\u001b[0m\u001b[0;32m    373\u001b[0m         \u001b[0mobjs\u001b[0m\u001b[1;33m,\u001b[0m\u001b[1;33m\u001b[0m\u001b[1;33m\u001b[0m\u001b[0m\n\u001b[0;32m    374\u001b[0m         \u001b[0maxis\u001b[0m\u001b[1;33m=\u001b[0m\u001b[0maxis\u001b[0m\u001b[1;33m,\u001b[0m\u001b[1;33m\u001b[0m\u001b[1;33m\u001b[0m\u001b[0m\n",
      "\u001b[1;32m~\\.conda\\envs\\ai-pip\\lib\\site-packages\\pandas\\core\\reshape\\concat.py\u001b[0m in \u001b[0;36m__init__\u001b[1;34m(self, objs, axis, join, keys, levels, names, ignore_index, verify_integrity, copy, sort)\u001b[0m\n\u001b[0;32m    427\u001b[0m \u001b[1;33m\u001b[0m\u001b[0m\n\u001b[0;32m    428\u001b[0m         \u001b[1;32mif\u001b[0m \u001b[0mlen\u001b[0m\u001b[1;33m(\u001b[0m\u001b[0mobjs\u001b[0m\u001b[1;33m)\u001b[0m \u001b[1;33m==\u001b[0m \u001b[1;36m0\u001b[0m\u001b[1;33m:\u001b[0m\u001b[1;33m\u001b[0m\u001b[1;33m\u001b[0m\u001b[0m\n\u001b[1;32m--> 429\u001b[1;33m             \u001b[1;32mraise\u001b[0m \u001b[0mValueError\u001b[0m\u001b[1;33m(\u001b[0m\u001b[1;34m\"No objects to concatenate\"\u001b[0m\u001b[1;33m)\u001b[0m\u001b[1;33m\u001b[0m\u001b[1;33m\u001b[0m\u001b[0m\n\u001b[0m\u001b[0;32m    430\u001b[0m \u001b[1;33m\u001b[0m\u001b[0m\n\u001b[0;32m    431\u001b[0m         \u001b[1;32mif\u001b[0m \u001b[0mkeys\u001b[0m \u001b[1;32mis\u001b[0m \u001b[1;32mNone\u001b[0m\u001b[1;33m:\u001b[0m\u001b[1;33m\u001b[0m\u001b[1;33m\u001b[0m\u001b[0m\n",
      "\u001b[1;31mValueError\u001b[0m: No objects to concatenate"
     ]
    }
   ],
   "source": [
    "rs = main_routine(\n",
    "    my_file,\n",
    "    my_ml_type,\n",
    "    my_model_path,\n",
    "    my_tile_size_px,\n",
    "    threshold,\n",
    "    nr_processes=nr_processes\n",
    ")\n",
    "\n",
    "print(rs)"
   ]
  }
 ],
 "metadata": {
  "kernelspec": {
   "display_name": "aitlas-tii",
   "language": "python",
   "name": "aitlas-tii"
  },
  "language_info": {
   "codemirror_mode": {
    "name": "ipython",
    "version": 3
   },
   "file_extension": ".py",
   "mimetype": "text/x-python",
   "name": "python",
   "nbconvert_exporter": "python",
   "pygments_lexer": "ipython3",
   "version": "3.8.17"
  },
  "widgets": {
   "application/vnd.jupyter.widget-state+json": {
    "state": {},
    "version_major": 2,
    "version_minor": 0
   }
  }
 },
 "nbformat": 4,
 "nbformat_minor": 5
}
