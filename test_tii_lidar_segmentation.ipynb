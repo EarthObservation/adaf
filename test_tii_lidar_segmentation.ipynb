{
 "cells": [
  {
   "cell_type": "code",
   "execution_count": 2,
   "metadata": {},
   "outputs": [
    {
     "ename": "KeyboardInterrupt",
     "evalue": "",
     "output_type": "error",
     "traceback": [
      "\u001b[0;31m---------------------------------------------------------------------------\u001b[0m",
      "\u001b[0;31mKeyboardInterrupt\u001b[0m                         Traceback (most recent call last)",
      "Cell \u001b[0;32mIn[2], line 14\u001b[0m\n\u001b[1;32m     12\u001b[0m     imgs_dir \u001b[39m=\u001b[39m  \u001b[39mf\u001b[39m\u001b[39m\"\u001b[39m\u001b[39m/Users/anakostovska/Dropbox/aitlas_v1/TII_LIDAR_DATA/samples_256px/\u001b[39m\u001b[39m{\u001b[39;00mdataset_role\u001b[39m}\u001b[39;00m\u001b[39m/images_SLRM\u001b[39m\u001b[39m\"\u001b[39m\n\u001b[1;32m     13\u001b[0m     masks_dir \u001b[39m=\u001b[39m \u001b[39mf\u001b[39m\u001b[39m\"\u001b[39m\u001b[39m/Users/anakostovska/Dropbox/TII_ADAF/samples_256px/\u001b[39m\u001b[39m{\u001b[39;00mdataset_role\u001b[39m}\u001b[39;00m\u001b[39m/segmentation_mask\u001b[39m\u001b[39m\"\u001b[39m\n\u001b[0;32m---> 14\u001b[0m     prepare(imgs_dir,masks_dir,output_dir, csv_dir, vizuelization_type, dataset_role)\n\u001b[1;32m     18\u001b[0m train_dataset_config \u001b[39m=\u001b[39m {\n\u001b[1;32m     19\u001b[0m     \u001b[39m\"\u001b[39m\u001b[39mdata_dir\u001b[39m\u001b[39m\"\u001b[39m: \u001b[39m\"\u001b[39m\u001b[39m/Users/anakostovska/Dropbox/aitlas_v1/TII_LIDAR_DATA/samples_256px/output/\u001b[39m\u001b[39m\"\u001b[39m,\n\u001b[1;32m     20\u001b[0m     \u001b[39m\"\u001b[39m\u001b[39mcsv_file\u001b[39m\u001b[39m\"\u001b[39m: \u001b[39m\"\u001b[39m\u001b[39m/Users/anakostovska/Dropbox/aitlas_v1/TII_LIDAR_DATA/samples_256px/train.txt\u001b[39m\u001b[39m\"\u001b[39m\n\u001b[1;32m     21\u001b[0m }\n\u001b[1;32m     22\u001b[0m test_dataset_config \u001b[39m=\u001b[39m {\n\u001b[1;32m     23\u001b[0m     \u001b[39m\"\u001b[39m\u001b[39mdata_dir\u001b[39m\u001b[39m\"\u001b[39m: \u001b[39m\"\u001b[39m\u001b[39m/Users/anakostovska/Dropbox/aitlas_v1/TII_LIDAR_DATA/samples_256px/output/\u001b[39m\u001b[39m\"\u001b[39m,\n\u001b[1;32m     24\u001b[0m     \u001b[39m\"\u001b[39m\u001b[39mcsv_file\u001b[39m\u001b[39m\"\u001b[39m: \u001b[39m\"\u001b[39m\u001b[39m/Users/anakostovska/Dropbox/aitlas_v1/TII_LIDAR_DATA/samples_256px/train.txt\u001b[39m\u001b[39m\"\u001b[39m\n\u001b[1;32m     25\u001b[0m }\n",
      "File \u001b[0;32m~/Dropbox/aitlas_v1/aitlas/datasets/tii_lidar.py:49\u001b[0m, in \u001b[0;36mprepare\u001b[0;34m(imgs_dir, masks_dir, output_dir, csv_dir, vizuelization_type, dataset_role)\u001b[0m\n\u001b[1;32m     47\u001b[0m img \u001b[39m=\u001b[39m cv2\u001b[39m.\u001b[39mcvtColor(img, cv2\u001b[39m.\u001b[39mCOLOR_RGB2BGR)\n\u001b[1;32m     48\u001b[0m img \u001b[39m=\u001b[39m cv2\u001b[39m.\u001b[39mnormalize(img, \u001b[39mNone\u001b[39;00m, \u001b[39m0\u001b[39m, \u001b[39m255\u001b[39m, cv2\u001b[39m.\u001b[39mNORM_MINMAX)\n\u001b[0;32m---> 49\u001b[0m mask \u001b[39m=\u001b[39m cv2\u001b[39m.\u001b[39;49mimread(mask_path)\n\u001b[1;32m     51\u001b[0m \u001b[39massert\u001b[39;00m img_filename \u001b[39m==\u001b[39m mask_filename\u001b[39m.\u001b[39mreplace(\u001b[39m'\u001b[39m\u001b[39m__segmentation_mask\u001b[39m\u001b[39m'\u001b[39m, \u001b[39m'\u001b[39m\u001b[39m__\u001b[39m\u001b[39m{}\u001b[39;00m\u001b[39m'\u001b[39m\u001b[39m.\u001b[39mformat(vizuelization_type\u001b[39m.\u001b[39mreplace(\u001b[39m\"\u001b[39m\u001b[39m_v2\u001b[39m\u001b[39m\"\u001b[39m,\u001b[39m\"\u001b[39m\u001b[39m\"\u001b[39m))) \u001b[39mand\u001b[39;00m img\u001b[39m.\u001b[39mshape[:\u001b[39m2\u001b[39m] \u001b[39m==\u001b[39m mask\u001b[39m.\u001b[39mshape[:\u001b[39m2\u001b[39m]\n\u001b[1;32m     53\u001b[0m out_img_path \u001b[39m=\u001b[39m os\u001b[39m.\u001b[39mpath\u001b[39m.\u001b[39mjoin(\n\u001b[1;32m     54\u001b[0m     output_dir, \u001b[39m\"\u001b[39m\u001b[39m{}\u001b[39;00m\u001b[39m.jpg\u001b[39m\u001b[39m\"\u001b[39m\u001b[39m.\u001b[39mformat(img_filename)\n\u001b[1;32m     55\u001b[0m )\n",
      "\u001b[0;31mKeyboardInterrupt\u001b[0m: "
     ]
    }
   ],
   "source": [
    "from aitlas.datasets import TiiLIDARDataset\n",
    "\n",
    "from aitlas.datasets.tii_lidar import prepare\n",
    "import matplotlib.pyplot as plt\n",
    "import cv2\n",
    "\n",
    "\n",
    "output_dir = f\"/Users/anakostovska/Dropbox/aitlas_v1/TII_LIDAR_DATA/samples_256px/output/\"\n",
    "csv_dir = f\"/Users/anakostovska/Dropbox/aitlas_v1/TII_LIDAR_DATA/samples_256px/\"\n",
    "vizuelization_type = \"SLRM\"\n",
    "for dataset_role in ['train', 'test', 'validation']:\n",
    "    imgs_dir =  f\"/Users/anakostovska/Dropbox/aitlas_v1/TII_LIDAR_DATA/samples_256px/{dataset_role}/images_SLRM\"\n",
    "    masks_dir = f\"/Users/anakostovska/Dropbox/TII_ADAF/samples_256px/{dataset_role}/segmentation_mask\"\n",
    "    prepare(imgs_dir,masks_dir,output_dir, csv_dir, vizuelization_type, dataset_role)\n",
    "\n",
    "\n",
    "\n",
    "train_dataset_config = {\n",
    "    \"data_dir\": \"/Users/anakostovska/Dropbox/aitlas_v1/TII_LIDAR_DATA/samples_256px/output/\",\n",
    "    \"csv_file\": \"/Users/anakostovska/Dropbox/aitlas_v1/TII_LIDAR_DATA/samples_256px/train.txt\"\n",
    "}\n",
    "test_dataset_config = {\n",
    "    \"data_dir\": \"/Users/anakostovska/Dropbox/aitlas_v1/TII_LIDAR_DATA/samples_256px/output/\",\n",
    "    \"csv_file\": \"/Users/anakostovska/Dropbox/aitlas_v1/TII_LIDAR_DATA/samples_256px/train.txt\"\n",
    "}\n",
    "validation_dataset_config = {\n",
    "    \"data_dir\": \"/Users/anakostovska/Dropbox/aitlas_v1/TII_LIDAR_DATA/samples_256px/output/\",\n",
    "    \"csv_file\": \"/Users/anakostovska/Dropbox/aitlas_v1/TII_LIDAR_DATA/samples_256px/train.txt\"\n",
    "}\n",
    "train_dataset = TiiLIDARDataset(train_dataset_config)\n",
    "test_dataset = TiiLIDARDataset(test_dataset_config)\n",
    "validation_dataset = TiiLIDARDataset(validation_dataset_config)\n",
    "print(f\"Total number of patches in train: {len(train_dataset)}\")\n",
    "print(f\"Total number of patches in test: {len(test_dataset)}\")\n",
    "print(f\"Total number of patches in validation: {len(validation_dataset)}\")\n",
    "\n"
   ]
  }
 ],
 "metadata": {
  "kernelspec": {
   "display_name": "Python 3.8.16 64-bit ('aitlas_v1')",
   "language": "python",
   "name": "python3"
  },
  "language_info": {
   "codemirror_mode": {
    "name": "ipython",
    "version": 3
   },
   "file_extension": ".py",
   "mimetype": "text/x-python",
   "name": "python",
   "nbconvert_exporter": "python",
   "pygments_lexer": "ipython3",
   "version": "3.8.16"
  },
  "orig_nbformat": 4,
  "vscode": {
   "interpreter": {
    "hash": "e095e687f7c1e23069e1f995aa814bd4a3cd8ddaf0b7c81659e6c0e5c522c4dc"
   }
  }
 },
 "nbformat": 4,
 "nbformat_minor": 2
}
